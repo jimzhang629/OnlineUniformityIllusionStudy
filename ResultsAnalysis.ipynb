{
 "cells": [
  {
   "cell_type": "code",
   "metadata": {
    "tags": [],
    "cell_id": "00000-c24c3df1-f12c-4ff9-8a00-d80a9e7e88b8",
    "deepnote_to_be_reexecuted": false,
    "source_hash": "9b82ee11",
    "execution_start": 1626694131308,
    "execution_millis": 0,
    "deepnote_cell_type": "code"
   },
   "source": "import pandas as pd",
   "execution_count": 2,
   "outputs": []
  },
  {
   "cell_type": "code",
   "source": "",
   "metadata": {
    "cell_id": "00002-6a91c52d-1fe0-43bf-b08a-d6346ca9147a",
    "deepnote_to_be_reexecuted": false,
    "source_hash": "b623e53d",
    "execution_start": 1626694131721,
    "execution_millis": 12,
    "deepnote_cell_type": "visualization"
   },
   "execution_count": 2,
   "outputs": []
  },
  {
   "cell_type": "code",
   "metadata": {
    "tags": [],
    "cell_id": "00015-c8f08e0e-a115-4bef-9cc1-083501002a54",
    "deepnote_to_be_reexecuted": false,
    "source_hash": "cb9b1455",
    "execution_start": 1626694132698,
    "execution_millis": 8006,
    "deepnote_cell_type": "code"
   },
   "source": "data = pd.read_json('/work/UniformityIllusion/jatos_results.txt',  lines=True)",
   "execution_count": 3,
   "outputs": []
  },
  {
   "cell_type": "code",
   "metadata": {
    "tags": [],
    "cell_id": "00016-d3aff6f9-7b0d-4a46-846f-0eda58eb6356",
    "deepnote_to_be_reexecuted": false,
    "source_hash": "e6928a8f",
    "execution_start": 1626694289229,
    "execution_millis": 2622,
    "deepnote_cell_type": "code"
   },
   "source": "data",
   "execution_count": 12,
   "outputs": [
    {
     "output_type": "execute_result",
     "execution_count": 12,
     "data": {
      "application/vnd.deepnote.dataframe.v2+json": {
       "row_count": 306,
       "column_count": 383,
       "columns": [
        {
         "name": 0,
         "dtype": "object",
         "stats": {
          "unique_count": 306,
          "nan_count": 0,
          "categories": [
           {
            "name": "{'url': {'srid': '32014'}, 'meta': {'labjs_version': '20.2.3', 'labjs_build': {'flavor': 'production', 'commit': '7ea907d66ca8aeef8054924ca5d82ffbe11e34e5'}, 'location': 'https://jatos.mindprobe.eu/publix/1521/2017/start?srid=32014', 'userAgent': 'Mozilla/5.0 (X11; Ubuntu; Linux x86_64; rv:90.0) Gecko/20100101 Firefox/90.0', 'platform': 'Linux x86_64', 'language': 'de', 'locale': 'de-DE', 'timeZone': 'Europe/Berlin', 'timezoneOffset': -120, 'screen_width': 1920, 'screen_height': 1080, 'scroll_width': 1920, 'scroll_height': 888, 'window_innerWidth': 1920, 'window_innerHeight': 936, 'devicePixelRatio': 1}, 'sender': 'Intro', 'sender_type': 'html.Screen', 'sender_id': '0', 'response': 'continue', 'response_action': 'keypress(Space)', 'ended_on': 'response', 'duration': 13352.7, 'time_run': 2090, 'time_render': 2079.64, 'time_show': 2096.3, 'time_end': 15449, 'time_commit': 15451, 'timestamp': '2021-07-18T04:32:51.566Z', 'time_switch': 15462.96}",
            "count": 2
           },
           {
            "name": "{'url': {'srid': '32782'}, 'meta': {'labjs_version': '20.2.3', 'labjs_build': {'flavor': 'production', 'commit': '7ea907d66ca8aeef8054924ca5d82ffbe11e34e5'}, 'location': 'https://jatos.mindprobe.eu/publix/1521/2017/start?srid=32782', 'userAgent': 'Mozilla/5.0 (X11; Linux x86_64; rv:78.0) Gecko/20100101 Firefox/78.0', 'platform': 'Linux x86_64', 'language': 'en-US', 'locale': 'en-US', 'timeZone': 'America/Los_Angeles', 'timezoneOffset': 420, 'screen_width': 1920, 'screen_height': 1080, 'scroll_width': 1239, 'scroll_height': 901, 'window_innerWidth': 1239, 'window_innerHeight': 949, 'devicePixelRatio': 1}, 'sender': 'Intro', 'sender_type': 'html.Screen', 'sender_id': '0', 'response': 'continue', 'response_action': 'keypress(Space)', 'ended_on': 'response', 'duration': 29807.86, 'time_run': 4313, 'time_render': 4325.04, 'time_show': 4341.14, 'time_end': 34149, 'time_commit': 34153, 'timestamp': '2021-07-19T06:34:52.281Z', 'time_switch': 34189.52}",
            "count": 1
           },
           {
            "name": "303 others",
            "count": 303
           }
          ]
         }
        },
        {
         "name": 1,
         "dtype": "object",
         "stats": {
          "unique_count": 306,
          "nan_count": 0,
          "categories": [
           {
            "name": "{'sender': 'Depression Questionnaire', 'sender_type': 'html.Form', 'sender_id': '1', 'Age': '25', 'Gender': '0', 'UserID': 'Tpn8qcK8W9YT1bjHjCXjvtPhDNgd6rht', 'Sadness': '0', 'Pessimism': '1', 'Past Failure': '1', 'Loss of Pleasure': '0', 'Guilty Feelings': '2', 'Punishment Feelings': '0', 'Self-Dislike': '3', 'Suicidal Thoughts or Wishes': '0', 'Crying': '0', 'Agitation': '0', 'Loss of Interest': '0', 'Indecisiveness': '0', 'Worthlessness': '2', 'Loss of Energy': '1', 'Changes in Sleeping Pattern': '1a', 'Irritability': '0', 'Changes in Appetite': '0', 'Tiredness or Fatigue': '1', 'Loss of Interest in Sex': '0', 'ended_on': 'form submission', 'duration': 229546.04, 'time_run': 15452, 'time_render': 15452.22, 'time_show': 15462.96, 'time_end': 245009, 'time_commit': 245010, 'timestamp': '2021-07-18T04:36:41.125Z', 'time_switch': 245012.8}",
            "count": 2
           },
           {
            "name": "{'sender': 'Depression Questionnaire', 'sender_type': 'html.Form', 'sender_id': '1', 'Age': '40', 'Gender': '0', 'UserID': '8YqwExxGQhCkuW4i', 'Sadness': '0', 'Pessimism': '1', 'Past Failure': '1', 'Loss of Pleasure': '0', 'Guilty Feelings': '0', 'Punishment Feelings': '0', 'Self-Dislike': '0', 'Suicidal Thoughts or Wishes': '0', 'Crying': '0', 'Agitation': '0', 'Loss of Interest': '0', 'Indecisiveness': '0', 'Worthlessness': '0', 'Loss of Energy': '1', 'Changes in Sleeping Pattern': '0', 'Irritability': '0', 'Changes in Appetite': '0', 'Tiredness or Fatigue': '0', 'Loss of Interest in Sex': '0', 'ended_on': 'form submission', 'duration': 93988.48000000001, 'time_run': 34156, 'time_render': 34156.3, 'time_show': 34189.52, 'time_end': 128178, 'time_commit': 128181, 'timestamp': '2021-07-19T06:36:26.307Z', 'time_switch': 128188.64}",
            "count": 1
           },
           {
            "name": "303 others",
            "count": 303
           }
          ]
         }
        },
        {
         "name": 2,
         "dtype": "object",
         "stats": {
          "unique_count": 306,
          "nan_count": 0,
          "categories": [
           {
            "name": "{'sender': 'Anxiety Questionnaire', 'sender_type': 'html.Form', 'sender_id': '2', 'Secure': '1', 'Worry': '3', 'Nervous': '1', 'Tension': '1', 'Calm': '1', 'Take Things Hard': '1', 'Self-Confidence': '2', 'Difficulties': '2', 'I Feel Blue': '1', 'Crying': '1', 'Disappointment': '2', 'Others Happy': '1', 'Satisfied': '3', 'Steady Person': '3', \"Can't Make Up Mind\": '1', 'I feel pleasant': '2', 'I tire quickly': '4', 'I feel rested': '3', 'ended_on': 'form submission', 'duration': 104444.20000000001, 'time_run': 245010, 'time_render': 245003, 'time_show': 245012.8, 'time_end': 349457, 'time_commit': 349458, 'timestamp': '2021-07-18T04:38:25.574Z', 'time_switch': 349462.76}",
            "count": 2
           },
           {
            "name": "{'sender': 'Anxiety Questionnaire', 'sender_type': 'html.Form', 'sender_id': '2', 'Secure': '2', 'Worry': '2', 'Nervous': '2', 'Tension': '2', 'Calm': '3', 'Take Things Hard': '2', 'Self-Confidence': '1', 'Difficulties': '1', 'I Feel Blue': '2', 'Crying': '1', 'Disappointment': '1', 'Others Happy': '1', 'Satisfied': '2', 'Steady Person': '3', \"Can't Make Up Mind\": '2', 'I feel pleasant': '2', 'I tire quickly': '2', 'I feel rested': '2', 'ended_on': 'form submission', 'duration': 68692.36, 'time_run': 128182, 'time_render': 128172.54, 'time_show': 128188.64, 'time_end': 196881, 'time_commit': 196882, 'timestamp': '2021-07-19T06:37:35.009Z', 'time_switch': 196890.16}",
            "count": 1
           },
           {
            "name": "303 others",
            "count": 303
           }
          ]
         }
        },
        {
         "name": 3,
         "dtype": "object",
         "stats": {
          "unique_count": 306,
          "nan_count": 0,
          "categories": [
           {
            "name": "{'sender': 'Thanks for Filling Out Form', 'sender_type': 'html.Page', 'sender_id': '3', 'ended_on': 'timeout', 'duration': 1000.0200000000186, 'time_run': 349459, 'time_render': 349455.1, 'time_show': 349462.76, 'time_end': 350446.12, 'time_commit': 350447, 'timestamp': '2021-07-18T04:38:26.562Z', 'time_switch': 350462.78}",
            "count": 2
           },
           {
            "name": "{'sender': 'Thanks for Filling Out Form', 'sender_type': 'html.Page', 'sender_id': '3', 'ended_on': 'timeout', 'duration': 999.2799999999988, 'time_run': 196884, 'time_render': 196873.02, 'time_show': 196890.16, 'time_end': 197872.34, 'time_commit': 197873, 'timestamp': '2021-07-19T06:37:36.001Z', 'time_switch': 197889.44}",
            "count": 1
           },
           {
            "name": "303 others",
            "count": 303
           }
          ]
         }
        },
        {
         "name": 4,
         "dtype": "object",
         "stats": {
          "unique_count": 306,
          "nan_count": 0,
          "categories": [
           {
            "name": "{'sender': 'Instructions', 'sender_type': 'html.Screen', 'sender_id': '4', 'response': 'continue', 'response_action': 'keypress(Space)', 'ended_on': 'response', 'duration': 67610.21999999997, 'time_run': 350447, 'time_render': 350446.12, 'time_show': 350462.78, 'time_end': 418073, 'time_commit': 418074, 'timestamp': '2021-07-18T04:39:34.190Z', 'time_switch': 418079.42}",
            "count": 2
           },
           {
            "name": "{'sender': 'Instructions', 'sender_type': 'html.Screen', 'sender_id': '4', 'response': 'continue', 'response_action': 'keypress(Space)', 'ended_on': 'response', 'duration': 41458.56, 'time_run': 197874, 'time_render': 197872.34, 'time_show': 197889.44, 'time_end': 239348, 'time_commit': 239353, 'timestamp': '2021-07-19T06:38:17.480Z', 'time_switch': 239372.2}",
            "count": 1
           },
           {
            "name": "303 others",
            "count": 303
           }
          ]
         }
        },
        {
         "name": 5,
         "dtype": "object",
         "stats": {
          "unique_count": 306,
          "nan_count": 0,
          "categories": [
           {
            "name": "{'sender': 'Test Trial Instructions', 'sender_type': 'html.Screen', 'sender_id': '5', 'response': 'continue', 'response_action': 'keypress(Space)', 'ended_on': 'response', 'duration': 21721.580000000016, 'time_run': 418075, 'time_render': 418075.62, 'time_show': 418079.42, 'time_end': 439801, 'time_commit': 439802, 'timestamp': '2021-07-18T04:39:55.917Z', 'time_switch': 439812.74}",
            "count": 2
           },
           {
            "name": "{'sender': 'Test Trial Instructions', 'sender_type': 'html.Screen', 'sender_id': '5', 'response': 'continue', 'response_action': 'keypress(Space)', 'ended_on': 'response', 'duration': 4268.799999999988, 'time_run': 239356, 'time_render': 239356.06, 'time_show': 239372.2, 'time_end': 243641, 'time_commit': 243645, 'timestamp': '2021-07-19T06:38:21.773Z', 'time_switch': 243665.54}",
            "count": 1
           },
           {
            "name": "303 others",
            "count": 303
           }
          ]
         }
        },
        {
         "name": 6,
         "dtype": "object",
         "stats": {
          "unique_count": 306,
          "nan_count": 0,
          "categories": [
           {
            "name": "{'sender': 'Fixation Cross', 'sender_type': 'html.Screen', 'sender_id': '6_0_0', 'a': 'web1start.png', 'b': 'web1a.png', 'ended_on': 'timeout', 'duration': 5163.72000000003, 'time_run': 439802, 'time_render': 439802.24, 'time_show': 439812.74, 'time_end': 440796.08, 'time_commit': 440796, 'timestamp': '2021-07-18T04:39:56.912Z', 'time_switch': 444976.46}",
            "count": 2
           },
           {
            "name": "{'sender': 'Fixation Cross', 'sender_type': 'html.Screen', 'sender_id': '6_0_0', 'a': 'web3start.png', 'b': 'web3a.png', 'ended_on': 'timeout', 'duration': 2841.7399999999907, 'time_run': 243649, 'time_render': 243649.38, 'time_show': 243665.54, 'time_end': 244642.72, 'time_commit': 244645, 'timestamp': '2021-07-19T06:38:22.773Z', 'time_switch': 246507.28}",
            "count": 1
           },
           {
            "name": "303 others",
            "count": 303
           }
          ]
         }
        },
        {
         "name": 7,
         "dtype": "object",
         "stats": {
          "unique_count": 306,
          "nan_count": 0,
          "categories": [
           {
            "name": "{'sender': 'cf keyframe transitions', 'sender_type': 'html.Screen', 'sender_id': '6_0_1', 'a': 'web1start.png', 'b': 'web1a.png', 'fadeTime': 3991, 'response': 'pressed Space', 'ended_on': 'response', 'duration': 6947.539999999979, 'time_run': 444977, 'time_render': 440796.08, 'time_show': 444976.46, 'time_end': 451924, 'time_commit': 451924, 'timestamp': '2021-07-18T04:40:08.039Z', 'time_switch': 451929.42}",
            "count": 2
           },
           {
            "name": "{'sender': 'cf keyframe transitions', 'sender_type': 'html.Screen', 'sender_id': '6_0_1', 'a': 'web3start.png', 'b': 'web3a.png', 'fadeTime': 3319, 'response': 'pressed Space', 'ended_on': 'response', 'duration': 7198.720000000001, 'time_run': 246507, 'time_render': 244642.72, 'time_show': 246507.28, 'time_end': 253706, 'time_commit': 253708, 'timestamp': '2021-07-19T06:38:31.835Z', 'time_switch': 253726.14}",
            "count": 1
           },
           {
            "name": "303 others",
            "count": 303
           }
          ]
         }
        },
        {
         "name": 8,
         "dtype": "object",
         "stats": {
          "unique_count": 306,
          "nan_count": 0,
          "categories": [
           {
            "name": "{'sender': 'Did You Look At the Cross?', 'sender_type': 'html.Screen', 'sender_id': '6_0_2', 'a': 'web1start.png', 'b': 'web1a.png', 'response': 'continue', 'response_action': 'keypress(Space)', 'correctResponse': 'continue', 'correct': True, 'ended_on': 'response', 'duration': 18945.580000000016, 'time_run': 451925, 'time_render': 451924.98, 'time_show': 451929.42, 'time_end': 470875, 'time_commit': 470875, 'timestamp': '2021-07-18T04:40:26.990Z', 'time_switch': 470879.4}",
            "count": 2
           },
           {
            "name": "{'sender': 'Did You Look At the Cross?', 'sender_type': 'html.Screen', 'sender_id': '6_0_2', 'a': 'web3start.png', 'b': 'web3a.png', 'response': 'continue', 'response_action': 'keypress(Space)', 'correctResponse': 'continue', 'correct': True, 'ended_on': 'response', 'duration': 9821.859999999986, 'time_run': 253709, 'time_render': 253710.02, 'time_show': 253726.14, 'time_end': 263548, 'time_commit': 263554, 'timestamp': '2021-07-19T06:38:41.681Z', 'time_switch': 263574.22}",
            "count": 1
           },
           {
            "name": "303 others",
            "count": 303
           }
          ]
         }
        },
        {
         "name": 9,
         "dtype": "object",
         "stats": {
          "unique_count": 306,
          "nan_count": 0,
          "categories": [
           {
            "name": "{'sender': 'Trial', 'sender_type': 'flow.Sequence', 'sender_id': '6_0', 'a': 'web1start.png', 'b': 'web1a.png', 'ended_on': 'completion', 'duration': 31062.26000000001, 'time_run': 439802, 'time_render': 439802.24, 'time_show': 439812.74, 'time_end': 470875, 'time_commit': 470876, 'timestamp': '2021-07-18T04:40:26.991Z', 'time_switch': 470879.4}",
            "count": 2
           },
           {
            "name": "{'sender': 'Trial', 'sender_type': 'flow.Sequence', 'sender_id': '6_0', 'a': 'web3start.png', 'b': 'web3a.png', 'ended_on': 'completion', 'duration': 19882.459999999992, 'time_run': 243649, 'time_render': 243649.38, 'time_show': 243665.54, 'time_end': 263548, 'time_commit': 263556, 'timestamp': '2021-07-19T06:38:41.683Z', 'time_switch': 263574.22}",
            "count": 1
           },
           {
            "name": "303 others",
            "count": 303
           }
          ]
         }
        },
        {
         "name": 10,
         "dtype": "object",
         "stats": {
          "unique_count": 306,
          "nan_count": 0,
          "categories": [
           {
            "name": "{'sender': 'Fixation Cross', 'sender_type': 'html.Screen', 'sender_id': '6_1_0', 'a': 'web2start.png', 'b': 'web2a.png', 'ended_on': 'timeout', 'duration': 1000.0199999999604, 'time_run': 470877, 'time_render': 470876.4, 'time_show': 470879.4, 'time_end': 471862.78, 'time_commit': 471864, 'timestamp': '2021-07-18T04:40:27.979Z', 'time_switch': 471879.42}",
            "count": 2
           },
           {
            "name": "{'sender': 'Fixation Cross', 'sender_type': 'html.Screen', 'sender_id': '6_1_0', 'a': 'web1start.png', 'b': 'web1a.png', 'ended_on': 'timeout', 'duration': 995.0600000000559, 'time_run': 263557, 'time_render': 263558.1, 'time_show': 263574.22, 'time_end': 264552.1, 'time_commit': 264554, 'timestamp': '2021-07-19T06:38:42.682Z', 'time_switch': 264569.28}",
            "count": 1
           },
           {
            "name": "303 others",
            "count": 303
           }
          ]
         }
        },
        {
         "name": 11,
         "dtype": "object",
         "stats": {
          "unique_count": 306,
          "nan_count": 0,
          "categories": [
           {
            "name": "{'sender': 'cf keyframe transitions', 'sender_type': 'html.Screen', 'sender_id': '6_1_1', 'a': 'web2start.png', 'b': 'web2a.png', 'fadeTime': 3677, 'ended_on': 'timeout', 'duration': 19999.98000000004, 'time_run': 471867, 'time_render': 471862.78, 'time_show': 471879.42, 'time_end': 491862.76, 'time_commit': 491864, 'timestamp': '2021-07-18T04:40:47.978Z', 'time_switch': 491879.4}",
            "count": 2
           },
           {
            "name": "{'sender': 'cf keyframe transitions', 'sender_type': 'html.Screen', 'sender_id': '6_1_1', 'a': 'web1start.png', 'b': 'web1a.png', 'fadeTime': 3182, 'ended_on': 'timeout', 'duration': 20005.599999999977, 'time_run': 264563, 'time_render': 264552.1, 'time_show': 264569.28, 'time_end': 284557.72, 'time_commit': 284560, 'timestamp': '2021-07-19T06:39:02.687Z', 'time_switch': 284574.88}",
            "count": 1
           },
           {
            "name": "303 others",
            "count": 303
           }
          ]
         }
        },
        {
         "name": 12,
         "dtype": "object",
         "stats": {
          "unique_count": 306,
          "nan_count": 0,
          "categories": [
           {
            "name": "{'sender': 'Did You Look At the Cross?', 'sender_type': 'html.Screen', 'sender_id': '6_1_2', 'a': 'web2start.png', 'b': 'web2a.png', 'response': 'continue', 'response_action': 'keypress(Space)', 'correctResponse': 'continue', 'correct': True, 'ended_on': 'response', 'duration': 4568.599999999977, 'time_run': 491864, 'time_render': 491862.76, 'time_show': 491879.4, 'time_end': 496448, 'time_commit': 496448, 'timestamp': '2021-07-18T04:40:52.563Z', 'time_switch': 496462.74}",
            "count": 2
           },
           {
            "name": "{'sender': 'Did You Look At the Cross?', 'sender_type': 'html.Screen', 'sender_id': '6_1_2', 'a': 'web1start.png', 'b': 'web1a.png', 'response': 'continue', 'response_action': 'keypress(Space)', 'correctResponse': 'continue', 'correct': True, 'ended_on': 'response', 'duration': 3183.1199999999953, 'time_run': 284561, 'time_render': 284557.72, 'time_show': 284574.88, 'time_end': 287758, 'time_commit': 287762, 'timestamp': '2021-07-19T06:39:05.890Z', 'time_switch': 287781.68}",
            "count": 1
           },
           {
            "name": "303 others",
            "count": 303
           }
          ]
         }
        },
        {
         "name": 13,
         "dtype": "object",
         "stats": {
          "unique_count": 306,
          "nan_count": 0,
          "categories": [
           {
            "name": "{'sender': 'Trial', 'sender_type': 'flow.Sequence', 'sender_id': '6_1', 'a': 'web2start.png', 'b': 'web2a.png', 'ended_on': 'completion', 'duration': 25568.599999999977, 'time_run': 470876, 'time_render': 470876.4, 'time_show': 470879.4, 'time_end': 496448, 'time_commit': 496449, 'timestamp': '2021-07-18T04:40:52.564Z', 'time_switch': 496462.74}",
            "count": 2
           },
           {
            "name": "{'sender': 'Trial', 'sender_type': 'flow.Sequence', 'sender_id': '6_1', 'a': 'web1start.png', 'b': 'web1a.png', 'ended_on': 'completion', 'duration': 24183.780000000028, 'time_run': 263557, 'time_render': 263558.1, 'time_show': 263574.22, 'time_end': 287758, 'time_commit': 287765, 'timestamp': '2021-07-19T06:39:05.892Z', 'time_switch': 287781.68}",
            "count": 1
           },
           {
            "name": "303 others",
            "count": 303
           }
          ]
         }
        },
        {
         "name": 14,
         "dtype": "object",
         "stats": {
          "unique_count": 306,
          "nan_count": 0,
          "categories": [
           {
            "name": "{'sender': 'Fixation Cross', 'sender_type': 'html.Screen', 'sender_id': '6_2_0', 'a': 'web3start.png', 'b': 'web3a.png', 'ended_on': 'timeout', 'duration': 1000, 'time_run': 496449, 'time_render': 496449, 'time_show': 496462.74, 'time_end': 497446.08, 'time_commit': 497446, 'timestamp': '2021-07-18T04:40:53.562Z', 'time_switch': 497462.74}",
            "count": 2
           },
           {
            "name": "{'sender': 'Fixation Cross', 'sender_type': 'html.Screen', 'sender_id': '6_2_0', 'a': 'web2start.png', 'b': 'web2a.png', 'ended_on': 'timeout', 'duration': 994.1600000000326, 'time_run': 287765, 'time_render': 287765.56, 'time_show': 287781.68, 'time_end': 288758.62, 'time_commit': 288761, 'timestamp': '2021-07-19T06:39:06.887Z', 'time_switch': 288775.84}",
            "count": 1
           },
           {
            "name": "303 others",
            "count": 303
           }
          ]
         }
        },
        {
         "name": 15,
         "dtype": "object",
         "stats": {
          "unique_count": 306,
          "nan_count": 0,
          "categories": [
           {
            "name": "{'sender': 'cf keyframe transitions', 'sender_type': 'html.Screen', 'sender_id': '6_2_1', 'a': 'web3start.png', 'b': 'web3a.png', 'fadeTime': 3878, 'response': 'pressed Space', 'ended_on': 'response', 'duration': 4850.260000000009, 'time_run': 497448, 'time_render': 497446.08, 'time_show': 497462.74, 'time_end': 502313, 'time_commit': 502313, 'timestamp': '2021-07-18T04:40:58.429Z', 'time_switch': 502329.4}",
            "count": 2
           },
           {
            "name": "{'sender': 'cf keyframe transitions', 'sender_type': 'html.Screen', 'sender_id': '6_2_1', 'a': 'web2start.png', 'b': 'web2a.png', 'fadeTime': 3627, 'ended_on': 'timeout', 'duration': 20005.839999999967, 'time_run': 288768, 'time_render': 288758.62, 'time_show': 288775.84, 'time_end': 308764.58, 'time_commit': 308766, 'timestamp': '2021-07-19T06:39:26.893Z', 'time_switch': 308781.68}",
            "count": 1
           },
           {
            "name": "303 others",
            "count": 303
           }
          ]
         }
        },
        {
         "name": 16,
         "dtype": "object",
         "stats": {
          "unique_count": 306,
          "nan_count": 0,
          "categories": [
           {
            "name": "{'sender': 'Did You Look At the Cross?', 'sender_type': 'html.Screen', 'sender_id': '6_2_2', 'a': 'web3start.png', 'b': 'web3a.png', 'response': 'continue', 'response_action': 'keypress(Space)', 'correctResponse': 'continue', 'correct': True, 'ended_on': 'response', 'duration': 3345.5999999999767, 'time_run': 502314, 'time_render': 502313.54, 'time_show': 502329.4, 'time_end': 505675, 'time_commit': 505676, 'timestamp': '2021-07-18T04:41:01.791Z', 'time_switch': 505679.54}",
            "count": 2
           },
           {
            "name": "{'sender': 'Did You Look At the Cross?', 'sender_type': 'html.Screen', 'sender_id': '6_2_2', 'a': 'web2start.png', 'b': 'web2a.png', 'response': 'continue', 'response_action': 'keypress(Space)', 'correctResponse': 'continue', 'correct': True, 'ended_on': 'response', 'duration': 2853.320000000007, 'time_run': 308767, 'time_render': 308764.58, 'time_show': 308781.68, 'time_end': 311635, 'time_commit': 311639, 'timestamp': '2021-07-19T06:39:29.767Z', 'time_switch': 311659.6}",
            "count": 1
           },
           {
            "name": "303 others",
            "count": 303
           }
          ]
         }
        },
        {
         "name": 17,
         "dtype": "object",
         "stats": {
          "unique_count": 306,
          "nan_count": 0,
          "categories": [
           {
            "name": "{'sender': 'Trial', 'sender_type': 'flow.Sequence', 'sender_id': '6_2', 'a': 'web3start.png', 'b': 'web3a.png', 'ended_on': 'completion', 'duration': 9212.26000000001, 'time_run': 496449, 'time_render': 496449, 'time_show': 496462.74, 'time_end': 505675, 'time_commit': 505676, 'timestamp': '2021-07-18T04:41:01.791Z', 'time_switch': 505679.54}",
            "count": 2
           },
           {
            "name": "{'sender': 'Trial', 'sender_type': 'flow.Sequence', 'sender_id': '6_2', 'a': 'web2start.png', 'b': 'web2a.png', 'ended_on': 'completion', 'duration': 23853.320000000007, 'time_run': 287765, 'time_render': 287765.56, 'time_show': 287781.68, 'time_end': 311635, 'time_commit': 311641, 'timestamp': '2021-07-19T06:39:29.768Z', 'time_switch': 311659.6}",
            "count": 1
           },
           {
            "name": "303 others",
            "count": 303
           }
          ]
         }
        },
        {
         "name": 18,
         "dtype": "object",
         "stats": {
          "unique_count": 306,
          "nan_count": 0,
          "categories": [
           {
            "name": "{'sender': 'Practice Rounds', 'sender_type': 'flow.Loop', 'sender_id': '6', 'ended_on': 'completion', 'duration': 65862.26000000001, 'time_run': 439802, 'time_render': 439802.24, 'time_show': 439812.74, 'time_end': 505675, 'time_commit': 505676, 'timestamp': '2021-07-18T04:41:01.791Z', 'time_switch': 505679.54}",
            "count": 2
           },
           {
            "name": "{'sender': 'Practice Rounds', 'sender_type': 'flow.Loop', 'sender_id': '6', 'ended_on': 'completion', 'duration': 67969.45999999999, 'time_run': 243648, 'time_render': 243649.38, 'time_show': 243665.54, 'time_end': 311635, 'time_commit': 311641, 'timestamp': '2021-07-19T06:39:29.769Z', 'time_switch': 311659.6}",
            "count": 1
           },
           {
            "name": "303 others",
            "count": 303
           }
          ]
         }
        },
        {
         "name": 19,
         "dtype": "object",
         "stats": {
          "unique_count": 306,
          "nan_count": 0,
          "categories": [
           {
            "name": "{'sender': 'We Will Now Begin Test Trials', 'sender_type': 'html.Screen', 'sender_id': '7', 'response': 'continue', 'response_action': 'keypress(Space)', 'ended_on': 'response', 'duration': 7576.460000000021, 'time_run': 505677, 'time_render': 505676.66, 'time_show': 505679.54, 'time_end': 513256, 'time_commit': 513257, 'timestamp': '2021-07-18T04:41:09.372Z', 'time_switch': 513262.74}",
            "count": 2
           },
           {
            "name": "{'sender': 'We Will Now Begin Test Trials', 'sender_type': 'html.Screen', 'sender_id': '7', 'response': 'continue', 'response_action': 'keypress(Space)', 'ended_on': 'response', 'duration': 4147.400000000023, 'time_run': 311643, 'time_render': 311643.42, 'time_show': 311659.6, 'time_end': 315807, 'time_commit': 315811, 'timestamp': '2021-07-19T06:39:33.938Z', 'time_switch': 315829.28}",
            "count": 1
           },
           {
            "name": "303 others",
            "count": 303
           }
          ]
         }
        },
        {
         "name": 20,
         "dtype": "object",
         "stats": {
          "unique_count": 306,
          "nan_count": 0,
          "categories": [
           {
            "name": "{'sender': 'Fixation Cross', 'sender_type': 'html.Screen', 'sender_id': '8_0_0', 'a': 'web7start.png', 'b': 'web7b.png', 'ended_on': 'timeout', 'duration': 8363.140000000014, 'time_run': 513257, 'time_render': 513257.28, 'time_show': 513262.74, 'time_end': 514246.08, 'time_commit': 514247, 'timestamp': '2021-07-18T04:41:10.362Z', 'time_switch': 521625.88}",
            "count": 2
           },
           {
            "name": "{'sender': 'Fixation Cross', 'sender_type': 'html.Screen', 'sender_id': '8_0_0', 'a': 'web13start.png', 'b': 'web13b.png', 'ended_on': 'timeout', 'duration': 3531, 'time_run': 315812, 'time_render': 315813.1, 'time_show': 315829.28, 'time_end': 316807.1, 'time_commit': 316808, 'timestamp': '2021-07-19T06:39:34.936Z', 'time_switch': 319360.28}",
            "count": 1
           },
           {
            "name": "303 others",
            "count": 303
           }
          ]
         }
        },
        {
         "name": 21,
         "dtype": "object",
         "stats": {
          "unique_count": 306,
          "nan_count": 0,
          "categories": [
           {
            "name": "{'sender': 'cf keyframe transitions', 'sender_type': 'html.Screen', 'sender_id': '8_0_1', 'a': 'web7start.png', 'b': 'web7b.png', 'fadeTime': 3462, 'response': 'pressed Space', 'ended_on': 'response', 'duration': 6694.119999999995, 'time_run': 521625, 'time_render': 514246.08, 'time_show': 521625.88, 'time_end': 528320, 'time_commit': 528320, 'timestamp': '2021-07-18T04:41:24.436Z', 'time_switch': 528329.4}",
            "count": 2
           },
           {
            "name": "{'sender': 'cf keyframe transitions', 'sender_type': 'html.Screen', 'sender_id': '8_0_1', 'a': 'web13start.png', 'b': 'web13b.png', 'fadeTime': 3170, 'response': 'pressed Space', 'ended_on': 'response', 'duration': 3806.719999999972, 'time_run': 319360, 'time_render': 316807.1, 'time_show': 319360.28, 'time_end': 323167, 'time_commit': 323168, 'timestamp': '2021-07-19T06:39:41.296Z', 'time_switch': 323186.52}",
            "count": 1
           },
           {
            "name": "303 others",
            "count": 303
           }
          ]
         }
        },
        {
         "name": 22,
         "dtype": "object",
         "stats": {
          "unique_count": 306,
          "nan_count": 0,
          "categories": [
           {
            "name": "{'sender': 'Did You Look At the Cross?', 'sender_type': 'html.Screen', 'sender_id': '8_0_2', 'a': 'web7start.png', 'b': 'web7b.png', 'response': 'continue', 'response_action': 'keypress(Space)', 'correctResponse': 'continue', 'correct': True, 'ended_on': 'response', 'duration': 4323.599999999977, 'time_run': 528320, 'time_render': 528321.04, 'time_show': 528329.4, 'time_end': 532653, 'time_commit': 532653, 'timestamp': '2021-07-18T04:41:28.769Z', 'time_switch': 532662.82}",
            "count": 2
           },
           {
            "name": "{'sender': 'Did You Look At the Cross?', 'sender_type': 'html.Screen', 'sender_id': '8_0_2', 'a': 'web13start.png', 'b': 'web13b.png', 'response': 'continue', 'response_action': 'keypress(Space)', 'correctResponse': 'continue', 'correct': True, 'ended_on': 'response', 'duration': 2707.4799999999814, 'time_run': 323170, 'time_render': 323170.36, 'time_show': 323186.52, 'time_end': 325894, 'time_commit': 325899, 'timestamp': '2021-07-19T06:39:44.027Z', 'time_switch': 325917.02}",
            "count": 1
           },
           {
            "name": "303 others",
            "count": 303
           }
          ]
         }
        },
        {
         "name": 23,
         "dtype": "object",
         "stats": {
          "unique_count": 306,
          "nan_count": 0,
          "categories": [
           {
            "name": "{'sender': 'Data transmission (beta)', 'sender_type': 'html.Screen', 'sender_id': '8_0_3', 'a': 'web7start.png', 'b': 'web7b.png', 'message': 'Transferring data', 'subtitle': 'Please wait a second…', 'ended_on': 'transmission successful', 'duration': 91.18000000005122, 'time_run': 532654, 'time_render': 532653.84, 'time_show': 532662.82, 'time_end': 532754, 'time_commit': 532755, 'timestamp': '2021-07-18T04:41:28.871Z', 'time_switch': 532762.74}",
            "count": 2
           },
           {
            "name": "{'sender': 'Data transmission (beta)', 'sender_type': 'html.Screen', 'sender_id': '8_0_3', 'a': 'web13start.png', 'b': 'web13b.png', 'message': 'Transferring data', 'subtitle': 'Please wait a second…', 'ended_on': 'transmission successful', 'duration': 214.97999999998137, 'time_run': 325900, 'time_render': 325900.9, 'time_show': 325917.02, 'time_end': 326132, 'time_commit': 326133, 'timestamp': '2021-07-19T06:39:44.261Z', 'time_switch': 326151.32}",
            "count": 1
           },
           {
            "name": "303 others",
            "count": 303
           }
          ]
         }
        },
        {
         "name": 24,
         "dtype": "object",
         "stats": {
          "unique_count": 306,
          "nan_count": 0,
          "categories": [
           {
            "name": "{'sender': 'Trial', 'sender_type': 'flow.Sequence', 'sender_id': '8_0', 'a': 'web7start.png', 'b': 'web7b.png', 'ended_on': 'completion', 'duration': 19491.26000000001, 'time_run': 513257, 'time_render': 513257.28, 'time_show': 513262.74, 'time_end': 532754, 'time_commit': 532755, 'timestamp': '2021-07-18T04:41:28.871Z', 'time_switch': 532762.74}",
            "count": 2
           },
           {
            "name": "{'sender': 'Trial', 'sender_type': 'flow.Sequence', 'sender_id': '8_0', 'a': 'web13start.png', 'b': 'web13b.png', 'ended_on': 'completion', 'duration': 10302.719999999972, 'time_run': 315812, 'time_render': 315813.1, 'time_show': 315829.28, 'time_end': 326132, 'time_commit': 326134, 'timestamp': '2021-07-19T06:39:44.262Z', 'time_switch': 326151.32}",
            "count": 1
           },
           {
            "name": "303 others",
            "count": 303
           }
          ]
         }
        },
        {
         "name": 25,
         "dtype": "object",
         "stats": {
          "unique_count": 306,
          "nan_count": 0,
          "categories": [
           {
            "name": "{'sender': 'Fixation Cross', 'sender_type': 'html.Screen', 'sender_id': '8_1_0', 'a': 'web4start.png', 'b': 'web4a.png', 'ended_on': 'timeout', 'duration': 1000, 'time_run': 532755, 'time_render': 532755.64, 'time_show': 532762.74, 'time_end': 533746.08, 'time_commit': 533746, 'timestamp': '2021-07-18T04:41:29.862Z', 'time_switch': 533762.74}",
            "count": 2
           },
           {
            "name": "{'sender': 'Fixation Cross', 'sender_type': 'html.Screen', 'sender_id': '8_1_0', 'a': 'web9start.png', 'b': 'web9a.png', 'ended_on': 'timeout', 'duration': 993.5999999999767, 'time_run': 326135, 'time_render': 326134.14, 'time_show': 326151.32, 'time_end': 327127.72, 'time_commit': 327129, 'timestamp': '2021-07-19T06:39:45.256Z', 'time_switch': 327144.92}",
            "count": 1
           },
           {
            "name": "303 others",
            "count": 303
           }
          ]
         }
        },
        {
         "name": 26,
         "dtype": "object",
         "stats": {
          "unique_count": 306,
          "nan_count": 0,
          "categories": [
           {
            "name": "{'sender': 'cf keyframe transitions', 'sender_type': 'html.Screen', 'sender_id': '8_1_1', 'a': 'web4start.png', 'b': 'web4a.png', 'fadeTime': 3533, 'ended_on': 'timeout', 'duration': 20000, 'time_run': 533749, 'time_render': 533746.08, 'time_show': 533762.74, 'time_end': 553746.08, 'time_commit': 553746, 'timestamp': '2021-07-18T04:41:49.862Z', 'time_switch': 553762.74}",
            "count": 2
           },
           {
            "name": "{'sender': 'cf keyframe transitions', 'sender_type': 'html.Screen', 'sender_id': '8_1_1', 'a': 'web9start.png', 'b': 'web9a.png', 'fadeTime': 3225, 'ended_on': 'timeout', 'duration': 20005.5, 'time_run': 327142, 'time_render': 327127.72, 'time_show': 327144.92, 'time_end': 347133.28, 'time_commit': 347135, 'timestamp': '2021-07-19T06:40:05.262Z', 'time_switch': 347150.42}",
            "count": 1
           },
           {
            "name": "303 others",
            "count": 303
           }
          ]
         }
        },
        {
         "name": 27,
         "dtype": "object",
         "stats": {
          "unique_count": 306,
          "nan_count": 0,
          "categories": [
           {
            "name": "{'sender': 'Did You Look At the Cross?', 'sender_type': 'html.Screen', 'sender_id': '8_1_2', 'a': 'web4start.png', 'b': 'web4a.png', 'response': 'continue', 'response_action': 'keypress(Space)', 'correctResponse': 'continue', 'correct': True, 'ended_on': 'response', 'duration': 2031.2600000000093, 'time_run': 553747, 'time_render': 553746.08, 'time_show': 553762.74, 'time_end': 555794, 'time_commit': 555795, 'timestamp': '2021-07-18T04:41:51.910Z', 'time_switch': 555796.08}",
            "count": 2
           },
           {
            "name": "{'sender': 'Did You Look At the Cross?', 'sender_type': 'html.Screen', 'sender_id': '8_1_2', 'a': 'web9start.png', 'b': 'web9a.png', 'response': 'Looked_Away', 'response_action': 'keypress(q)', 'correctResponse': 'continue', 'correct': False, 'ended_on': 'response', 'duration': 3493.5800000000163, 'time_run': 347136, 'time_render': 347133.28, 'time_show': 347150.42, 'time_end': 350644, 'time_commit': 350649, 'timestamp': '2021-07-19T06:40:08.776Z', 'time_switch': 350666.1}",
            "count": 1
           },
           {
            "name": "303 others",
            "count": 303
           }
          ]
         }
        },
        {
         "name": 28,
         "dtype": "object",
         "stats": {
          "unique_count": 306,
          "nan_count": 0,
          "categories": [
           {
            "name": "{'sender': 'Data transmission (beta)', 'sender_type': 'html.Screen', 'sender_id': '8_1_3', 'a': 'web4start.png', 'b': 'web4a.png', 'message': 'Transferring data', 'subtitle': 'Please wait a second…', 'ended_on': 'transmission successful', 'duration': 105.92000000004191, 'time_run': 555795, 'time_render': 555794.52, 'time_show': 555796.08, 'time_end': 555902, 'time_commit': 555902, 'timestamp': '2021-07-18T04:41:52.017Z', 'time_switch': 555912.74}",
            "count": 2
           },
           {
            "name": "{'sender': 'Data transmission (beta)', 'sender_type': 'html.Screen', 'sender_id': '8_1_3', 'a': 'web9start.png', 'b': 'web9a.png', 'message': 'Transferring data', 'subtitle': 'Please wait a second…', 'ended_on': 'transmission successful', 'duration': 215.90000000002328, 'time_run': 350650, 'time_render': 350650, 'time_show': 350666.1, 'time_end': 350882, 'time_commit': 350882, 'timestamp': '2021-07-19T06:40:09.010Z', 'time_switch': 350899.64}",
            "count": 1
           },
           {
            "name": "303 others",
            "count": 303
           }
          ]
         }
        },
        {
         "name": 29,
         "dtype": "object",
         "stats": {
          "unique_count": 306,
          "nan_count": 0,
          "categories": [
           {
            "name": "{'sender': 'Trial', 'sender_type': 'flow.Sequence', 'sender_id': '8_1', 'a': 'web4start.png', 'b': 'web4a.png', 'ended_on': 'completion', 'duration': 23139.26000000001, 'time_run': 532755, 'time_render': 532755.64, 'time_show': 532762.74, 'time_end': 555902, 'time_commit': 555902, 'timestamp': '2021-07-18T04:41:52.017Z', 'time_switch': 555912.74}",
            "count": 2
           },
           {
            "name": "{'sender': 'Trial', 'sender_type': 'flow.Sequence', 'sender_id': '8_1', 'a': 'web9start.png', 'b': 'web9a.png', 'ended_on': 'completion', 'duration': 24730.679999999993, 'time_run': 326135, 'time_render': 326134.14, 'time_show': 326151.32, 'time_end': 350882, 'time_commit': 350883, 'timestamp': '2021-07-19T06:40:09.010Z', 'time_switch': 350899.64}",
            "count": 1
           },
           {
            "name": "303 others",
            "count": 303
           }
          ]
         }
        },
        {
         "name": 30,
         "dtype": "object",
         "stats": {
          "unique_count": 306,
          "nan_count": 0,
          "categories": [
           {
            "name": "{'sender': 'Fixation Cross', 'sender_type': 'html.Screen', 'sender_id': '8_2_0', 'a': 'web14start.png', 'b': 'web14b.png', 'ended_on': 'timeout', 'duration': 1000, 'time_run': 555903, 'time_render': 555902.3, 'time_show': 555912.74, 'time_end': 556896.08, 'time_commit': 556896, 'timestamp': '2021-07-18T04:41:53.012Z', 'time_switch': 556912.74}",
            "count": 2
           },
           {
            "name": "{'sender': 'Fixation Cross', 'sender_type': 'html.Screen', 'sender_id': '8_2_0', 'a': 'web9start.png', 'b': 'web9b.png', 'ended_on': 'timeout', 'duration': 993.539999999979, 'time_run': 350884, 'time_render': 350883.56, 'time_show': 350899.64, 'time_end': 351876.92, 'time_commit': 351880, 'timestamp': '2021-07-19T06:40:10.007Z', 'time_switch': 351893.18}",
            "count": 1
           },
           {
            "name": "303 others",
            "count": 303
           }
          ]
         }
        },
        {
         "name": 31,
         "dtype": "object",
         "stats": {
          "unique_count": 306,
          "nan_count": 0,
          "categories": [
           {
            "name": "{'sender': 'cf keyframe transitions', 'sender_type': 'html.Screen', 'sender_id': '8_2_1', 'a': 'web14start.png', 'b': 'web14b.png', 'fadeTime': 3832, 'response': 'pressed Space', 'ended_on': 'response', 'duration': 5525.260000000009, 'time_run': 556900, 'time_render': 556896.08, 'time_show': 556912.74, 'time_end': 562438, 'time_commit': 562438, 'timestamp': '2021-07-18T04:41:58.553Z', 'time_switch': 562446.06}",
            "count": 2
           },
           {
            "name": "{'sender': 'cf keyframe transitions', 'sender_type': 'html.Screen', 'sender_id': '8_2_1', 'a': 'web9start.png', 'b': 'web9b.png', 'fadeTime': 3950, 'response': 'pressed Space', 'ended_on': 'response', 'duration': 4165.820000000007, 'time_run': 351889, 'time_render': 351876.92, 'time_show': 351893.18, 'time_end': 356059, 'time_commit': 356060, 'timestamp': '2021-07-19T06:40:14.188Z', 'time_switch': 356093.28}",
            "count": 1
           },
           {
            "name": "303 others",
            "count": 303
           }
          ]
         }
        },
        {
         "name": 32,
         "dtype": "object",
         "stats": {
          "unique_count": 306,
          "nan_count": 0,
          "categories": [
           {
            "name": "{'sender': 'Did You Look At the Cross?', 'sender_type': 'html.Screen', 'sender_id': '8_2_2', 'a': 'web14start.png', 'b': 'web14b.png', 'response': 'continue', 'response_action': 'keypress(Space)', 'correctResponse': 'continue', 'correct': True, 'ended_on': 'response', 'duration': 1828.9399999999441, 'time_run': 562438, 'time_render': 562437.88, 'time_show': 562446.06, 'time_end': 564275, 'time_commit': 564277, 'timestamp': '2021-07-18T04:42:00.391Z', 'time_switch': 564279.42}",
            "count": 2
           },
           {
            "name": "{'sender': 'Did You Look At the Cross?', 'sender_type': 'html.Screen', 'sender_id': '8_2_2', 'a': 'web9start.png', 'b': 'web9b.png', 'response': 'continue', 'response_action': 'keypress(Space)', 'correctResponse': 'continue', 'correct': True, 'ended_on': 'response', 'duration': 2103.719999999972, 'time_run': 356062, 'time_render': 356076.12, 'time_show': 356093.28, 'time_end': 358197, 'time_commit': 358199, 'timestamp': '2021-07-19T06:40:16.326Z', 'time_switch': 358216.32}",
            "count": 1
           },
           {
            "name": "303 others",
            "count": 303
           }
          ]
         }
        },
        {
         "name": 33,
         "dtype": "object",
         "stats": {
          "unique_count": 306,
          "nan_count": 0,
          "categories": [
           {
            "name": "{'sender': 'Data transmission (beta)', 'sender_type': 'html.Screen', 'sender_id': '8_2_3', 'a': 'web14start.png', 'b': 'web14b.png', 'message': 'Transferring data', 'subtitle': 'Please wait a second…', 'ended_on': 'transmission successful', 'duration': 115.57999999995809, 'time_run': 564277, 'time_render': 564276.7, 'time_show': 564279.42, 'time_end': 564395, 'time_commit': 564395, 'timestamp': '2021-07-18T04:42:00.511Z', 'time_switch': 564396.08}",
            "count": 2
           },
           {
            "name": "{'sender': 'Data transmission (beta)', 'sender_type': 'html.Screen', 'sender_id': '8_2_3', 'a': 'web9start.png', 'b': 'web9b.png', 'message': 'Transferring data', 'subtitle': 'Please wait a second…', 'ended_on': 'transmission successful', 'duration': 237.67999999999302, 'time_run': 358200, 'time_render': 358200.22, 'time_show': 358216.32, 'time_end': 358454, 'time_commit': 358456, 'timestamp': '2021-07-19T06:40:16.583Z', 'time_switch': 358474.6}",
            "count": 1
           },
           {
            "name": "303 others",
            "count": 303
           }
          ]
         }
        },
        {
         "name": 34,
         "dtype": "object",
         "stats": {
          "unique_count": 306,
          "nan_count": 0,
          "categories": [
           {
            "name": "{'sender': 'Trial', 'sender_type': 'flow.Sequence', 'sender_id': '8_2', 'a': 'web14start.png', 'b': 'web14b.png', 'ended_on': 'completion', 'duration': 8482.26000000001, 'time_run': 555902, 'time_render': 555902.3, 'time_show': 555912.74, 'time_end': 564395, 'time_commit': 564396, 'timestamp': '2021-07-18T04:42:00.511Z', 'time_switch': 564396.08}",
            "count": 2
           },
           {
            "name": "{'sender': 'Trial', 'sender_type': 'flow.Sequence', 'sender_id': '8_2', 'a': 'web9start.png', 'b': 'web9b.png', 'ended_on': 'completion', 'duration': 7554.359999999986, 'time_run': 350883, 'time_render': 350883.56, 'time_show': 350899.64, 'time_end': 358454, 'time_commit': 358457, 'timestamp': '2021-07-19T06:40:16.584Z', 'time_switch': 358474.6}",
            "count": 1
           },
           {
            "name": "303 others",
            "count": 303
           }
          ]
         }
        },
        {
         "name": 35,
         "dtype": "object",
         "stats": {
          "unique_count": 306,
          "nan_count": 0,
          "categories": [
           {
            "name": "{'sender': 'Fixation Cross', 'sender_type': 'html.Screen', 'sender_id': '8_3_0', 'a': 'web6start.png', 'b': 'web6a.png', 'ended_on': 'timeout', 'duration': 999.9800000000978, 'time_run': 564396, 'time_render': 564395.98, 'time_show': 564396.08, 'time_end': 565379.42, 'time_commit': 565380, 'timestamp': '2021-07-18T04:42:01.495Z', 'time_switch': 565396.06}",
            "count": 2
           },
           {
            "name": "{'sender': 'Fixation Cross', 'sender_type': 'html.Screen', 'sender_id': '8_3_0', 'a': 'web8start.png', 'b': 'web8b.png', 'ended_on': 'timeout', 'duration': 993.6800000000512, 'time_run': 358458, 'time_render': 358458.46, 'time_show': 358474.6, 'time_end': 359451.12, 'time_commit': 359452, 'timestamp': '2021-07-19T06:40:17.580Z', 'time_switch': 359468.28}",
            "count": 1
           },
           {
            "name": "303 others",
            "count": 303
           }
          ]
         }
        },
        {
         "name": 36,
         "dtype": "object",
         "stats": {
          "unique_count": 306,
          "nan_count": 0,
          "categories": [
           {
            "name": "{'sender': 'cf keyframe transitions', 'sender_type': 'html.Screen', 'sender_id': '8_3_1', 'a': 'web6start.png', 'b': 'web6a.png', 'fadeTime': 3278, 'ended_on': 'timeout', 'duration': 20000.03999999992, 'time_run': 565382, 'time_render': 565379.42, 'time_show': 565396.06, 'time_end': 585379.42, 'time_commit': 585380, 'timestamp': '2021-07-18T04:42:21.495Z', 'time_switch': 585396.1}",
            "count": 2
           },
           {
            "name": "{'sender': 'cf keyframe transitions', 'sender_type': 'html.Screen', 'sender_id': '8_3_1', 'a': 'web8start.png', 'b': 'web8b.png', 'fadeTime': 3308, 'response': 'pressed Space', 'ended_on': 'response', 'duration': 4348.719999999972, 'time_run': 359461, 'time_render': 359451.12, 'time_show': 359468.28, 'time_end': 363817, 'time_commit': 363818, 'timestamp': '2021-07-19T06:40:21.945Z', 'time_switch': 363835.2}",
            "count": 1
           },
           {
            "name": "303 others",
            "count": 303
           }
          ]
         }
        },
        {
         "name": 37,
         "dtype": "object",
         "stats": {
          "unique_count": 306,
          "nan_count": 0,
          "categories": [
           {
            "name": "{'sender': 'Did You Look At the Cross?', 'sender_type': 'html.Screen', 'sender_id': '8_3_2', 'a': 'web6start.png', 'b': 'web6a.png', 'response': 'continue', 'response_action': 'keypress(Space)', 'correctResponse': 'continue', 'correct': True, 'ended_on': 'response', 'duration': 9556.900000000023, 'time_run': 585380, 'time_render': 585379.42, 'time_show': 585396.1, 'time_end': 594953, 'time_commit': 594953, 'timestamp': '2021-07-18T04:42:31.069Z', 'time_switch': 594962.78}",
            "count": 2
           },
           {
            "name": "{'sender': 'Did You Look At the Cross?', 'sender_type': 'html.Screen', 'sender_id': '8_3_2', 'a': 'web8start.png', 'b': 'web8b.png', 'response': 'continue', 'response_action': 'keypress(Space)', 'correctResponse': 'continue', 'correct': True, 'ended_on': 'response', 'duration': 2483.7999999999884, 'time_run': 363819, 'time_render': 363819.04, 'time_show': 363835.2, 'time_end': 366319, 'time_commit': 366323, 'timestamp': '2021-07-19T06:40:24.450Z', 'time_switch': 366340.34}",
            "count": 1
           },
           {
            "name": "303 others",
            "count": 303
           }
          ]
         }
        },
        {
         "name": 38,
         "dtype": "object",
         "stats": {
          "unique_count": 306,
          "nan_count": 0,
          "categories": [
           {
            "name": "{'sender': 'Data transmission (beta)', 'sender_type': 'html.Screen', 'sender_id': '8_3_3', 'a': 'web6start.png', 'b': 'web6a.png', 'message': 'Transferring data', 'subtitle': 'Please wait a second…', 'ended_on': 'transmission successful', 'duration': 117.21999999997206, 'time_run': 594953, 'time_render': 594953.4, 'time_show': 594962.78, 'time_end': 595080, 'time_commit': 595081, 'timestamp': '2021-07-18T04:42:31.196Z', 'time_switch': 595096.1}",
            "count": 2
           },
           {
            "name": "{'sender': 'Data transmission (beta)', 'sender_type': 'html.Screen', 'sender_id': '8_3_3', 'a': 'web8start.png', 'b': 'web8b.png', 'message': 'Transferring data', 'subtitle': 'Please wait a second…', 'ended_on': 'transmission successful', 'duration': 400.6599999999744, 'time_run': 366323, 'time_render': 366324.18, 'time_show': 366340.34, 'time_end': 366741, 'time_commit': 366742, 'timestamp': '2021-07-19T06:40:24.870Z', 'time_switch': 366760.72}",
            "count": 1
           },
           {
            "name": "303 others",
            "count": 303
           }
          ]
         }
        },
        {
         "name": 39,
         "dtype": "object",
         "stats": {
          "unique_count": 306,
          "nan_count": 0,
          "categories": [
           {
            "name": "{'sender': 'Trial', 'sender_type': 'flow.Sequence', 'sender_id': '8_3', 'a': 'web6start.png', 'b': 'web6a.png', 'ended_on': 'completion', 'duration': 30683.920000000042, 'time_run': 564396, 'time_render': 564395.98, 'time_show': 564396.08, 'time_end': 595080, 'time_commit': 595081, 'timestamp': '2021-07-18T04:42:31.197Z', 'time_switch': 595096.1}",
            "count": 2
           },
           {
            "name": "{'sender': 'Trial', 'sender_type': 'flow.Sequence', 'sender_id': '8_3', 'a': 'web8start.png', 'b': 'web8b.png', 'ended_on': 'completion', 'duration': 8266.400000000023, 'time_run': 358458, 'time_render': 358458.46, 'time_show': 358474.6, 'time_end': 366741, 'time_commit': 366743, 'timestamp': '2021-07-19T06:40:24.870Z', 'time_switch': 366760.72}",
            "count": 1
           },
           {
            "name": "303 others",
            "count": 303
           }
          ]
         }
        },
        {
         "name": 40,
         "dtype": "object",
         "stats": {
          "unique_count": 306,
          "nan_count": 0,
          "categories": [
           {
            "name": "{'sender': 'Fixation Cross', 'sender_type': 'html.Screen', 'sender_id': '8_4_0', 'a': 'web8start.png', 'b': 'web8a.png', 'ended_on': 'timeout', 'duration': 1000.0200000000186, 'time_run': 595081, 'time_render': 595081.58, 'time_show': 595096.1, 'time_end': 596079.44, 'time_commit': 596080, 'timestamp': '2021-07-18T04:42:32.195Z', 'time_switch': 596096.12}",
            "count": 2
           },
           {
            "name": "{'sender': 'Fixation Cross', 'sender_type': 'html.Screen', 'sender_id': '8_4_0', 'a': 'web11start.png', 'b': 'web11a.png', 'ended_on': 'timeout', 'duration': 994.7800000000279, 'time_run': 366745, 'time_render': 366744.62, 'time_show': 366760.72, 'time_end': 367738.3, 'time_commit': 367740, 'timestamp': '2021-07-19T06:40:25.867Z', 'time_switch': 367755.5}",
            "count": 1
           },
           {
            "name": "303 others",
            "count": 303
           }
          ]
         }
        },
        {
         "name": 41,
         "dtype": "object",
         "stats": {
          "unique_count": 306,
          "nan_count": 0,
          "categories": [
           {
            "name": "{'sender': 'cf keyframe transitions', 'sender_type': 'html.Screen', 'sender_id': '8_4_1', 'a': 'web8start.png', 'b': 'web8a.png', 'fadeTime': 3801, 'response': 'pressed Space', 'ended_on': 'response', 'duration': 7580.880000000005, 'time_run': 596082, 'time_render': 596079.44, 'time_show': 596096.12, 'time_end': 603677, 'time_commit': 603677, 'timestamp': '2021-07-18T04:42:39.792Z', 'time_switch': 603679.46}",
            "count": 2
           },
           {
            "name": "{'sender': 'cf keyframe transitions', 'sender_type': 'html.Screen', 'sender_id': '8_4_1', 'a': 'web11start.png', 'b': 'web11a.png', 'fadeTime': 3362, 'ended_on': 'timeout', 'duration': 20005.659999999974, 'time_run': 367747, 'time_render': 367738.3, 'time_show': 367755.5, 'time_end': 387744.04, 'time_commit': 387745, 'timestamp': '2021-07-19T06:40:45.873Z', 'time_switch': 387761.16}",
            "count": 1
           },
           {
            "name": "303 others",
            "count": 303
           }
          ]
         }
        },
        {
         "name": 42,
         "dtype": "object",
         "stats": {
          "unique_count": 306,
          "nan_count": 0,
          "categories": [
           {
            "name": "{'sender': 'Did You Look At the Cross?', 'sender_type': 'html.Screen', 'sender_id': '8_4_2', 'a': 'web8start.png', 'b': 'web8a.png', 'response': 'continue', 'response_action': 'keypress(Space)', 'correctResponse': 'continue', 'correct': True, 'ended_on': 'response', 'duration': 1319.5400000000373, 'time_run': 603677, 'time_render': 603677.02, 'time_show': 603679.46, 'time_end': 604999, 'time_commit': 605000, 'timestamp': '2021-07-18T04:42:41.114Z', 'time_switch': 605012.78}",
            "count": 2
           },
           {
            "name": "{'sender': 'Did You Look At the Cross?', 'sender_type': 'html.Screen', 'sender_id': '8_4_2', 'a': 'web11start.png', 'b': 'web11a.png', 'response': 'Looked_Away', 'response_action': 'keypress(q)', 'correctResponse': 'continue', 'correct': False, 'ended_on': 'response', 'duration': 2001.8400000000256, 'time_run': 387746, 'time_render': 387744.04, 'time_show': 387761.16, 'time_end': 389763, 'time_commit': 389767, 'timestamp': '2021-07-19T06:40:47.895Z', 'time_switch': 389784.78}",
            "count": 1
           },
           {
            "name": "303 others",
            "count": 303
           }
          ]
         }
        },
        {
         "name": 43,
         "dtype": "object",
         "stats": {
          "unique_count": 306,
          "nan_count": 0,
          "categories": [
           {
            "name": "{'sender': 'Data transmission (beta)', 'sender_type': 'html.Screen', 'sender_id': '8_4_3', 'a': 'web8start.png', 'b': 'web8a.png', 'message': 'Transferring data', 'subtitle': 'Please wait a second…', 'ended_on': 'transmission successful', 'duration': 120.21999999997206, 'time_run': 605000, 'time_render': 604999.78, 'time_show': 605012.78, 'time_end': 605133, 'time_commit': 605133, 'timestamp': '2021-07-18T04:42:41.249Z', 'time_switch': 605146.18}",
            "count": 2
           },
           {
            "name": "{'sender': 'Data transmission (beta)', 'sender_type': 'html.Screen', 'sender_id': '8_4_3', 'a': 'web11start.png', 'b': 'web11a.png', 'message': 'Transferring data', 'subtitle': 'Please wait a second…', 'ended_on': 'transmission successful', 'duration': 405.21999999997206, 'time_run': 389768, 'time_render': 389768.66, 'time_show': 389784.78, 'time_end': 390190, 'time_commit': 390191, 'timestamp': '2021-07-19T06:40:48.318Z', 'time_switch': 390209.52}",
            "count": 1
           },
           {
            "name": "303 others",
            "count": 303
           }
          ]
         }
        },
        {
         "name": 44,
         "dtype": "object",
         "stats": {
          "unique_count": 306,
          "nan_count": 0,
          "categories": [
           {
            "name": "{'sender': 'Trial', 'sender_type': 'flow.Sequence', 'sender_id': '8_4', 'a': 'web8start.png', 'b': 'web8a.png', 'ended_on': 'completion', 'duration': 10036.900000000023, 'time_run': 595081, 'time_render': 595081.58, 'time_show': 595096.1, 'time_end': 605133, 'time_commit': 605133, 'timestamp': '2021-07-18T04:42:41.249Z', 'time_switch': 605146.18}",
            "count": 2
           },
           {
            "name": "{'sender': 'Trial', 'sender_type': 'flow.Sequence', 'sender_id': '8_4', 'a': 'web11start.png', 'b': 'web11a.png', 'ended_on': 'completion', 'duration': 23429.280000000028, 'time_run': 366743, 'time_render': 366744.62, 'time_show': 366760.72, 'time_end': 390190, 'time_commit': 390192, 'timestamp': '2021-07-19T06:40:48.319Z', 'time_switch': 390209.52}",
            "count": 1
           },
           {
            "name": "303 others",
            "count": 303
           }
          ]
         }
        },
        {
         "name": 45,
         "dtype": "object",
         "stats": {
          "unique_count": 306,
          "nan_count": 0,
          "categories": [
           {
            "name": "{'sender': 'Fixation Cross', 'sender_type': 'html.Screen', 'sender_id': '8_5_0', 'a': 'web6start.png', 'b': 'web6b.png', 'ended_on': 'timeout', 'duration': 999.9399999999441, 'time_run': 605134, 'time_render': 605133.86, 'time_show': 605146.18, 'time_end': 606129.46, 'time_commit': 606130, 'timestamp': '2021-07-18T04:42:42.245Z', 'time_switch': 606146.12}",
            "count": 2
           },
           {
            "name": "{'sender': 'Fixation Cross', 'sender_type': 'html.Screen', 'sender_id': '8_5_0', 'a': 'web6start.png', 'b': 'web6b.png', 'ended_on': 'timeout', 'duration': 993.5199999999604, 'time_run': 390193, 'time_render': 390193.38, 'time_show': 390209.52, 'time_end': 391185.84, 'time_commit': 391187, 'timestamp': '2021-07-19T06:40:49.315Z', 'time_switch': 391203.04}",
            "count": 1
           },
           {
            "name": "303 others",
            "count": 303
           }
          ]
         }
        },
        {
         "name": 46,
         "dtype": "object",
         "stats": {
          "unique_count": 306,
          "nan_count": 0,
          "categories": [
           {
            "name": "{'sender': 'cf keyframe transitions', 'sender_type': 'html.Screen', 'sender_id': '8_5_1', 'a': 'web6start.png', 'b': 'web6b.png', 'fadeTime': 3702, 'response': 'pressed Space', 'ended_on': 'response', 'duration': 4045.8800000000047, 'time_run': 606133, 'time_render': 606129.46, 'time_show': 606146.12, 'time_end': 610192, 'time_commit': 610193, 'timestamp': '2021-07-18T04:42:46.308Z', 'time_switch': 610196.24}",
            "count": 2
           },
           {
            "name": "{'sender': 'cf keyframe transitions', 'sender_type': 'html.Screen', 'sender_id': '8_5_1', 'a': 'web6start.png', 'b': 'web6b.png', 'fadeTime': 3399, 'response': 'pressed Space', 'ended_on': 'response', 'duration': 3808.960000000021, 'time_run': 391197, 'time_render': 391185.84, 'time_show': 391203.04, 'time_end': 395012, 'time_commit': 395012, 'timestamp': '2021-07-19T06:40:53.140Z', 'time_switch': 395029.94}",
            "count": 1
           },
           {
            "name": "303 others",
            "count": 303
           }
          ]
         }
        },
        {
         "name": 47,
         "dtype": "object",
         "stats": {
          "unique_count": 306,
          "nan_count": 0,
          "categories": [
           {
            "name": "{'sender': 'Did You Look At the Cross?', 'sender_type': 'html.Screen', 'sender_id': '8_5_2', 'a': 'web6start.png', 'b': 'web6b.png', 'response': 'continue', 'response_action': 'keypress(Space)', 'correctResponse': 'continue', 'correct': True, 'ended_on': 'response', 'duration': 720.7600000000093, 'time_run': 610193, 'time_render': 610193.22, 'time_show': 610196.24, 'time_end': 610917, 'time_commit': 610918, 'timestamp': '2021-07-18T04:42:47.033Z', 'time_switch': 610929.46}",
            "count": 2
           },
           {
            "name": "{'sender': 'Did You Look At the Cross?', 'sender_type': 'html.Screen', 'sender_id': '8_5_2', 'a': 'web6start.png', 'b': 'web6b.png', 'response': 'continue', 'response_action': 'keypress(Space)', 'correctResponse': 'continue', 'correct': True, 'ended_on': 'response', 'duration': 1535.0599999999977, 'time_run': 395013, 'time_render': 395013.78, 'time_show': 395029.94, 'time_end': 396565, 'time_commit': 396569, 'timestamp': '2021-07-19T06:40:54.697Z', 'time_switch': 396586.54}",
            "count": 1
           },
           {
            "name": "303 others",
            "count": 303
           }
          ]
         }
        },
        {
         "name": 48,
         "dtype": "object",
         "stats": {
          "unique_count": 306,
          "nan_count": 0,
          "categories": [
           {
            "name": "{'sender': 'Data transmission (beta)', 'sender_type': 'html.Screen', 'sender_id': '8_5_3', 'a': 'web6start.png', 'b': 'web6b.png', 'message': 'Transferring data', 'subtitle': 'Please wait a second…', 'ended_on': 'transmission successful', 'duration': 129.54000000003725, 'time_run': 610918, 'time_render': 610918.04, 'time_show': 610929.46, 'time_end': 611059, 'time_commit': 611059, 'timestamp': '2021-07-18T04:42:47.174Z', 'time_switch': 611062.8}",
            "count": 2
           },
           {
            "name": "{'sender': 'Data transmission (beta)', 'sender_type': 'html.Screen', 'sender_id': '8_5_3', 'a': 'web6start.png', 'b': 'web6b.png', 'message': 'Transferring data', 'subtitle': 'Please wait a second…', 'ended_on': 'transmission successful', 'duration': 401.46000000002095, 'time_run': 396570, 'time_render': 396570.4, 'time_show': 396586.54, 'time_end': 396988, 'time_commit': 396989, 'timestamp': '2021-07-19T06:40:55.116Z', 'time_switch': 397007.6}",
            "count": 1
           },
           {
            "name": "303 others",
            "count": 303
           }
          ]
         }
        },
        {
         "name": 49,
         "dtype": "object",
         "stats": {
          "unique_count": 306,
          "nan_count": 0,
          "categories": [
           {
            "name": "{'sender': 'Trial', 'sender_type': 'flow.Sequence', 'sender_id': '8_5', 'a': 'web6start.png', 'b': 'web6b.png', 'ended_on': 'completion', 'duration': 5912.819999999949, 'time_run': 605134, 'time_render': 605133.86, 'time_show': 605146.18, 'time_end': 611059, 'time_commit': 611059, 'timestamp': '2021-07-18T04:42:47.174Z', 'time_switch': 611062.8}",
            "count": 2
           },
           {
            "name": "{'sender': 'Trial', 'sender_type': 'flow.Sequence', 'sender_id': '8_5', 'a': 'web6start.png', 'b': 'web6b.png', 'ended_on': 'completion', 'duration': 6778.479999999981, 'time_run': 390193, 'time_render': 390193.38, 'time_show': 390209.52, 'time_end': 396988, 'time_commit': 396990, 'timestamp': '2021-07-19T06:40:55.117Z', 'time_switch': 397007.6}",
            "count": 1
           },
           {
            "name": "303 others",
            "count": 303
           }
          ]
         }
        },
        {
         "name": 50,
         "dtype": "object",
         "stats": {
          "unique_count": 306,
          "nan_count": 0,
          "categories": [
           {
            "name": "{'sender': 'Fixation Cross', 'sender_type': 'html.Screen', 'sender_id': '8_6_0', 'a': 'web12start.png', 'b': 'web12a.png', 'ended_on': 'timeout', 'duration': 1000.0599999999395, 'time_run': 611059, 'time_render': 611059.66, 'time_show': 611062.8, 'time_end': 612046.14, 'time_commit': 612047, 'timestamp': '2021-07-18T04:42:48.162Z', 'time_switch': 612062.86}",
            "count": 2
           },
           {
            "name": "{'sender': 'Fixation Cross', 'sender_type': 'html.Screen', 'sender_id': '8_6_0', 'a': 'web11start.png', 'b': 'web11a.png', 'ended_on': 'timeout', 'duration': 994.8800000000047, 'time_run': 396991, 'time_render': 396991.4, 'time_show': 397007.6, 'time_end': 397985.26, 'time_commit': 397987, 'timestamp': '2021-07-19T06:40:56.114Z', 'time_switch': 398002.48}",
            "count": 1
           },
           {
            "name": "303 others",
            "count": 303
           }
          ]
         }
        },
        {
         "name": 51,
         "dtype": "object",
         "stats": {
          "unique_count": 306,
          "nan_count": 0,
          "categories": [
           {
            "name": "{'sender': 'cf keyframe transitions', 'sender_type': 'html.Screen', 'sender_id': '8_6_1', 'a': 'web12start.png', 'b': 'web12a.png', 'fadeTime': 3925, 'response': 'pressed Space', 'ended_on': 'response', 'duration': 4400.140000000014, 'time_run': 612049, 'time_render': 612046.14, 'time_show': 612062.86, 'time_end': 616463, 'time_commit': 616463, 'timestamp': '2021-07-18T04:42:52.579Z', 'time_switch': 616479.54}",
            "count": 2
           },
           {
            "name": "{'sender': 'cf keyframe transitions', 'sender_type': 'html.Screen', 'sender_id': '8_6_1', 'a': 'web11start.png', 'b': 'web11a.png', 'fadeTime': 3963, 'response': 'pressed Space', 'ended_on': 'response', 'duration': 5337.520000000019, 'time_run': 397994, 'time_render': 397985.26, 'time_show': 398002.48, 'time_end': 403340, 'time_commit': 403341, 'timestamp': '2021-07-19T06:41:01.469Z', 'time_switch': 403358.08}",
            "count": 1
           },
           {
            "name": "303 others",
            "count": 303
           }
          ]
         }
        },
        {
         "name": 52,
         "dtype": "object",
         "stats": {
          "unique_count": 306,
          "nan_count": 0,
          "categories": [
           {
            "name": "{'sender': 'Did You Look At the Cross?', 'sender_type': 'html.Screen', 'sender_id': '8_6_2', 'a': 'web12start.png', 'b': 'web12a.png', 'response': 'continue', 'response_action': 'keypress(Space)', 'correctResponse': 'continue', 'correct': True, 'ended_on': 'response', 'duration': 880.4599999999627, 'time_run': 616464, 'time_render': 616463.6, 'time_show': 616479.54, 'time_end': 617360, 'time_commit': 617361, 'timestamp': '2021-07-18T04:42:53.476Z', 'time_switch': 617362.8}",
            "count": 2
           },
           {
            "name": "{'sender': 'Did You Look At the Cross?', 'sender_type': 'html.Screen', 'sender_id': '8_6_2', 'a': 'web11start.png', 'b': 'web11a.png', 'response': 'continue', 'response_action': 'keypress(Space)', 'correctResponse': 'continue', 'correct': True, 'ended_on': 'response', 'duration': 3005.9199999999837, 'time_run': 403342, 'time_render': 403341.96, 'time_show': 403358.08, 'time_end': 406364, 'time_commit': 406369, 'timestamp': '2021-07-19T06:41:04.496Z', 'time_switch': 406386.46}",
            "count": 1
           },
           {
            "name": "303 others",
            "count": 303
           }
          ]
         }
        },
        {
         "name": 53,
         "dtype": "object",
         "stats": {
          "unique_count": 306,
          "nan_count": 0,
          "categories": [
           {
            "name": "{'sender': 'Data transmission (beta)', 'sender_type': 'html.Screen', 'sender_id': '8_6_3', 'a': 'web12start.png', 'b': 'web12a.png', 'message': 'Transferring data', 'subtitle': 'Please wait a second…', 'ended_on': 'transmission successful', 'duration': 152.19999999995343, 'time_run': 617361, 'time_render': 617360.6, 'time_show': 617362.8, 'time_end': 617515, 'time_commit': 617515, 'timestamp': '2021-07-18T04:42:53.630Z', 'time_switch': 617529.48}",
            "count": 2
           },
           {
            "name": "{'sender': 'Data transmission (beta)', 'sender_type': 'html.Screen', 'sender_id': '8_6_3', 'a': 'web11start.png', 'b': 'web11a.png', 'message': 'Transferring data', 'subtitle': 'Please wait a second…', 'ended_on': 'transmission successful', 'duration': 410.53999999997905, 'time_run': 406370, 'time_render': 406370.34, 'time_show': 406386.46, 'time_end': 406797, 'time_commit': 406798, 'timestamp': '2021-07-19T06:41:04.925Z', 'time_switch': 406817.08}",
            "count": 1
           },
           {
            "name": "303 others",
            "count": 303
           }
          ]
         }
        },
        {
         "name": 54,
         "dtype": "object",
         "stats": {
          "unique_count": 306,
          "nan_count": 0,
          "categories": [
           {
            "name": "{'sender': 'Trial', 'sender_type': 'flow.Sequence', 'sender_id': '8_6', 'a': 'web12start.png', 'b': 'web12a.png', 'ended_on': 'completion', 'duration': 6452.199999999953, 'time_run': 611059, 'time_render': 611059.66, 'time_show': 611062.8, 'time_end': 617515, 'time_commit': 617515, 'timestamp': '2021-07-18T04:42:53.630Z', 'time_switch': 617529.48}",
            "count": 2
           },
           {
            "name": "{'sender': 'Trial', 'sender_type': 'flow.Sequence', 'sender_id': '8_6', 'a': 'web11start.png', 'b': 'web11a.png', 'ended_on': 'completion', 'duration': 9789.400000000023, 'time_run': 396991, 'time_render': 396991.4, 'time_show': 397007.6, 'time_end': 406797, 'time_commit': 406800, 'timestamp': '2021-07-19T06:41:04.927Z', 'time_switch': 406817.08}",
            "count": 1
           },
           {
            "name": "303 others",
            "count": 303
           }
          ]
         }
        },
        {
         "name": 55,
         "dtype": "object",
         "stats": {
          "unique_count": 306,
          "nan_count": 0,
          "categories": [
           {
            "name": "{'sender': 'Fixation Cross', 'sender_type': 'html.Screen', 'sender_id': '8_7_0', 'a': 'web6start.png', 'b': 'web6a.png', 'ended_on': 'timeout', 'duration': 1000, 'time_run': 617516, 'time_render': 617515.38, 'time_show': 617529.48, 'time_end': 618512.84, 'time_commit': 618513, 'timestamp': '2021-07-18T04:42:54.628Z', 'time_switch': 618529.48}",
            "count": 2
           },
           {
            "name": "{'sender': 'Fixation Cross', 'sender_type': 'html.Screen', 'sender_id': '8_7_0', 'a': 'web8start.png', 'b': 'web8a.png', 'ended_on': 'timeout', 'duration': 994.7600000000093, 'time_run': 406801, 'time_render': 406800.94, 'time_show': 406817.08, 'time_end': 407794.64, 'time_commit': 407796, 'timestamp': '2021-07-19T06:41:05.924Z', 'time_switch': 407811.84}",
            "count": 1
           },
           {
            "name": "303 others",
            "count": 303
           }
          ]
         }
        },
        {
         "name": 56,
         "dtype": "object",
         "stats": {
          "unique_count": 306,
          "nan_count": 0,
          "categories": [
           {
            "name": "{'sender': 'cf keyframe transitions', 'sender_type': 'html.Screen', 'sender_id': '8_7_1', 'a': 'web6start.png', 'b': 'web6a.png', 'fadeTime': 3341, 'ended_on': 'timeout', 'duration': 20000.02000000002, 'time_run': 618516, 'time_render': 618512.84, 'time_show': 618529.48, 'time_end': 638512.84, 'time_commit': 638513, 'timestamp': '2021-07-18T04:43:14.628Z', 'time_switch': 638529.5}",
            "count": 2
           },
           {
            "name": "{'sender': 'cf keyframe transitions', 'sender_type': 'html.Screen', 'sender_id': '8_7_1', 'a': 'web8start.png', 'b': 'web8a.png', 'fadeTime': 3586, 'response': 'pressed Space', 'ended_on': 'response', 'duration': 8018.159999999974, 'time_run': 407808, 'time_render': 407794.64, 'time_show': 407811.84, 'time_end': 415830, 'time_commit': 415830, 'timestamp': '2021-07-19T06:41:13.958Z', 'time_switch': 415848.04}",
            "count": 1
           },
           {
            "name": "303 others",
            "count": 303
           }
          ]
         }
        },
        {
         "name": 57,
         "dtype": "object",
         "stats": {
          "unique_count": 306,
          "nan_count": 0,
          "categories": [
           {
            "name": "{'sender': 'Did You Look At the Cross?', 'sender_type': 'html.Screen', 'sender_id': '8_7_2', 'a': 'web6start.png', 'b': 'web6a.png', 'response': 'continue', 'response_action': 'keypress(Space)', 'correctResponse': 'continue', 'correct': True, 'ended_on': 'response', 'duration': 2556.5, 'time_run': 638513, 'time_render': 638512.84, 'time_show': 638529.5, 'time_end': 641086, 'time_commit': 641086, 'timestamp': '2021-07-18T04:43:17.202Z', 'time_switch': 641096.18}",
            "count": 2
           },
           {
            "name": "{'sender': 'Did You Look At the Cross?', 'sender_type': 'html.Screen', 'sender_id': '8_7_2', 'a': 'web8start.png', 'b': 'web8a.png', 'response': 'continue', 'response_action': 'keypress(Space)', 'correctResponse': 'continue', 'correct': True, 'ended_on': 'response', 'duration': 1727.960000000021, 'time_run': 415831, 'time_render': 415831.94, 'time_show': 415848.04, 'time_end': 417576, 'time_commit': 417579, 'timestamp': '2021-07-19T06:41:15.706Z', 'time_switch': 417596.64}",
            "count": 1
           },
           {
            "name": "303 others",
            "count": 303
           }
          ]
         }
        },
        {
         "name": 58,
         "dtype": "object",
         "stats": {
          "unique_count": 306,
          "nan_count": 0,
          "categories": [
           {
            "name": "{'sender': 'Data transmission (beta)', 'sender_type': 'html.Screen', 'sender_id': '8_7_3', 'a': 'web6start.png', 'b': 'web6a.png', 'message': 'Transferring data', 'subtitle': 'Please wait a second…', 'ended_on': 'transmission successful', 'duration': 149.81999999994878, 'time_run': 641086, 'time_render': 641087, 'time_show': 641096.18, 'time_end': 641246, 'time_commit': 641247, 'timestamp': '2021-07-18T04:43:17.362Z', 'time_switch': 641262.84}",
            "count": 2
           },
           {
            "name": "{'sender': 'Data transmission (beta)', 'sender_type': 'html.Screen', 'sender_id': '8_7_3', 'a': 'web8start.png', 'b': 'web8a.png', 'message': 'Transferring data', 'subtitle': 'Please wait a second…', 'ended_on': 'transmission successful', 'duration': 407.35999999998603, 'time_run': 417580, 'time_render': 417580.52, 'time_show': 417596.64, 'time_end': 418004, 'time_commit': 418005, 'timestamp': '2021-07-19T06:41:16.132Z', 'time_switch': 418022.5}",
            "count": 1
           },
           {
            "name": "303 others",
            "count": 303
           }
          ]
         }
        },
        {
         "name": 59,
         "dtype": "object",
         "stats": {
          "unique_count": 306,
          "nan_count": 0,
          "categories": [
           {
            "name": "{'sender': 'Trial', 'sender_type': 'flow.Sequence', 'sender_id': '8_7', 'a': 'web6start.png', 'b': 'web6a.png', 'ended_on': 'completion', 'duration': 23716.52000000002, 'time_run': 617516, 'time_render': 617515.38, 'time_show': 617529.48, 'time_end': 641246, 'time_commit': 641247, 'timestamp': '2021-07-18T04:43:17.362Z', 'time_switch': 641262.84}",
            "count": 2
           },
           {
            "name": "{'sender': 'Trial', 'sender_type': 'flow.Sequence', 'sender_id': '8_7', 'a': 'web8start.png', 'b': 'web8a.png', 'ended_on': 'completion', 'duration': 11186.919999999984, 'time_run': 406801, 'time_render': 406800.94, 'time_show': 406817.08, 'time_end': 418004, 'time_commit': 418005, 'timestamp': '2021-07-19T06:41:16.132Z', 'time_switch': 418022.5}",
            "count": 1
           },
           {
            "name": "303 others",
            "count": 303
           }
          ]
         }
        },
        {
         "name": 60,
         "dtype": "object",
         "stats": {
          "unique_count": 306,
          "nan_count": 0,
          "categories": [
           {
            "name": "{'sender': 'Fixation Cross', 'sender_type': 'html.Screen', 'sender_id': '8_8_0', 'a': 'web11start.png', 'b': 'web11b.png', 'ended_on': 'timeout', 'duration': 1000, 'time_run': 641247, 'time_render': 641246.96, 'time_show': 641262.84, 'time_end': 642246.16, 'time_commit': 642246, 'timestamp': '2021-07-18T04:43:18.362Z', 'time_switch': 642262.84}",
            "count": 2
           },
           {
            "name": "{'sender': 'Fixation Cross', 'sender_type': 'html.Screen', 'sender_id': '8_8_0', 'a': 'web15start.png', 'b': 'web15b.png', 'ended_on': 'timeout', 'duration': 994.5599999999977, 'time_run': 418006, 'time_render': 418006.38, 'time_show': 418022.5, 'time_end': 418999.88, 'time_commit': 419001, 'timestamp': '2021-07-19T06:41:17.128Z', 'time_switch': 419017.06}",
            "count": 1
           },
           {
            "name": "303 others",
            "count": 303
           }
          ]
         }
        },
        {
         "name": 61,
         "dtype": "object",
         "stats": {
          "unique_count": 306,
          "nan_count": 0,
          "categories": [
           {
            "name": "{'sender': 'cf keyframe transitions', 'sender_type': 'html.Screen', 'sender_id': '8_8_1', 'a': 'web11start.png', 'b': 'web11b.png', 'fadeTime': 3904, 'response': 'pressed Space', 'ended_on': 'response', 'duration': 4459.160000000033, 'time_run': 642249, 'time_render': 642246.16, 'time_show': 642262.84, 'time_end': 646722, 'time_commit': 646722, 'timestamp': '2021-07-18T04:43:22.837Z', 'time_switch': 646729.5}",
            "count": 2
           },
           {
            "name": "{'sender': 'cf keyframe transitions', 'sender_type': 'html.Screen', 'sender_id': '8_8_1', 'a': 'web15start.png', 'b': 'web15b.png', 'fadeTime': 3676, 'response': 'pressed Space', 'ended_on': 'response', 'duration': 3735.9400000000023, 'time_run': 419007, 'time_render': 418999.88, 'time_show': 419017.06, 'time_end': 422753, 'time_commit': 422753, 'timestamp': '2021-07-19T06:41:20.881Z', 'time_switch': 422783.88}",
            "count": 1
           },
           {
            "name": "303 others",
            "count": 303
           }
          ]
         }
        },
        {
         "name": 62,
         "dtype": "object",
         "stats": {
          "unique_count": 306,
          "nan_count": 0,
          "categories": [
           {
            "name": "{'sender': 'Did You Look At the Cross?', 'sender_type': 'html.Screen', 'sender_id': '8_8_2', 'a': 'web11start.png', 'b': 'web11b.png', 'response': 'continue', 'response_action': 'keypress(Space)', 'correctResponse': 'continue', 'correct': True, 'ended_on': 'response', 'duration': 1737.5, 'time_run': 646722, 'time_render': 646722.4, 'time_show': 646729.5, 'time_end': 648467, 'time_commit': 648467, 'timestamp': '2021-07-18T04:43:24.582Z', 'time_switch': 648479.5}",
            "count": 2
           },
           {
            "name": "{'sender': 'Did You Look At the Cross?', 'sender_type': 'html.Screen', 'sender_id': '8_8_2', 'a': 'web15start.png', 'b': 'web15b.png', 'response': 'continue', 'response_action': 'keypress(Space)', 'correctResponse': 'continue', 'correct': True, 'ended_on': 'response', 'duration': 2727.1199999999953, 'time_run': 422754, 'time_render': 422766.72, 'time_show': 422783.88, 'time_end': 425511, 'time_commit': 425515, 'timestamp': '2021-07-19T06:41:23.641Z', 'time_switch': 425532.2}",
            "count": 1
           },
           {
            "name": "303 others",
            "count": 303
           }
          ]
         }
        },
        {
         "name": 63,
         "dtype": "object",
         "stats": {
          "unique_count": 306,
          "nan_count": 0,
          "categories": [
           {
            "name": "{'sender': 'Data transmission (beta)', 'sender_type': 'html.Screen', 'sender_id': '8_8_3', 'a': 'web11start.png', 'b': 'web11b.png', 'message': 'Transferring data', 'subtitle': 'Please wait a second…', 'ended_on': 'transmission successful', 'duration': 157.5, 'time_run': 648467, 'time_render': 648467.2, 'time_show': 648479.5, 'time_end': 648637, 'time_commit': 648638, 'timestamp': '2021-07-18T04:43:24.753Z', 'time_switch': 648646.18}",
            "count": 2
           },
           {
            "name": "{'sender': 'Data transmission (beta)', 'sender_type': 'html.Screen', 'sender_id': '8_8_3', 'a': 'web15start.png', 'b': 'web15b.png', 'message': 'Transferring data', 'subtitle': 'Please wait a second…', 'ended_on': 'transmission successful', 'duration': 402.79999999998836, 'time_run': 425516, 'time_render': 425516.06, 'time_show': 425532.2, 'time_end': 425935, 'time_commit': 425936, 'timestamp': '2021-07-19T06:41:24.063Z', 'time_switch': 425953.88}",
            "count": 1
           },
           {
            "name": "303 others",
            "count": 303
           }
          ]
         }
        },
        {
         "name": 64,
         "dtype": "object",
         "stats": {
          "unique_count": 306,
          "nan_count": 0,
          "categories": [
           {
            "name": "{'sender': 'Trial', 'sender_type': 'flow.Sequence', 'sender_id': '8_8', 'a': 'web11start.png', 'b': 'web11b.png', 'ended_on': 'completion', 'duration': 7374.160000000033, 'time_run': 641247, 'time_render': 641246.96, 'time_show': 641262.84, 'time_end': 648637, 'time_commit': 648638, 'timestamp': '2021-07-18T04:43:24.753Z', 'time_switch': 648646.18}",
            "count": 2
           },
           {
            "name": "{'sender': 'Trial', 'sender_type': 'flow.Sequence', 'sender_id': '8_8', 'a': 'web15start.png', 'b': 'web15b.png', 'ended_on': 'completion', 'duration': 7912.5, 'time_run': 418006, 'time_render': 418006.38, 'time_show': 418022.5, 'time_end': 425935, 'time_commit': 425937, 'timestamp': '2021-07-19T06:41:24.065Z', 'time_switch': 425953.88}",
            "count": 1
           },
           {
            "name": "303 others",
            "count": 303
           }
          ]
         }
        },
        {
         "name": 65,
         "dtype": "object",
         "stats": {
          "unique_count": 306,
          "nan_count": 0,
          "categories": [
           {
            "name": "{'sender': 'Fixation Cross', 'sender_type': 'html.Screen', 'sender_id': '8_9_0', 'a': 'web5start.png', 'b': 'web5b.png', 'ended_on': 'timeout', 'duration': 1000, 'time_run': 648638, 'time_render': 648637.82, 'time_show': 648646.18, 'time_end': 649629.52, 'time_commit': 649630, 'timestamp': '2021-07-18T04:43:25.745Z', 'time_switch': 649646.18}",
            "count": 2
           },
           {
            "name": "{'sender': 'Fixation Cross', 'sender_type': 'html.Screen', 'sender_id': '8_9_0', 'a': 'web15start.png', 'b': 'web15a.png', 'ended_on': 'timeout', 'duration': 993.7199999999721, 'time_run': 425937, 'time_render': 425937.78, 'time_show': 425953.88, 'time_end': 426930.38, 'time_commit': 426932, 'timestamp': '2021-07-19T06:41:25.059Z', 'time_switch': 426947.6}",
            "count": 1
           },
           {
            "name": "303 others",
            "count": 303
           }
          ]
         }
        },
        {
         "name": 66,
         "dtype": "object",
         "stats": {
          "unique_count": 306,
          "nan_count": 0,
          "categories": [
           {
            "name": "{'sender': 'cf keyframe transitions', 'sender_type': 'html.Screen', 'sender_id': '8_9_1', 'a': 'web5start.png', 'b': 'web5b.png', 'fadeTime': 3895, 'response': 'pressed Space', 'ended_on': 'response', 'duration': 4910.819999999949, 'time_run': 649632, 'time_render': 649629.52, 'time_show': 649646.18, 'time_end': 654557, 'time_commit': 654557, 'timestamp': '2021-07-18T04:43:30.672Z', 'time_switch': 654562.84}",
            "count": 2
           },
           {
            "name": "{'sender': 'cf keyframe transitions', 'sender_type': 'html.Screen', 'sender_id': '8_9_1', 'a': 'web15start.png', 'b': 'web15a.png', 'fadeTime': 3588, 'response': 'pressed Space', 'ended_on': 'response', 'duration': 5307.400000000023, 'time_run': 426939, 'time_render': 426930.38, 'time_show': 426947.6, 'time_end': 432255, 'time_commit': 432257, 'timestamp': '2021-07-19T06:41:30.384Z', 'time_switch': 432273.56}",
            "count": 1
           },
           {
            "name": "303 others",
            "count": 303
           }
          ]
         }
        },
        {
         "name": 67,
         "dtype": "object",
         "stats": {
          "unique_count": 306,
          "nan_count": 0,
          "categories": [
           {
            "name": "{'sender': 'Did You Look At the Cross?', 'sender_type': 'html.Screen', 'sender_id': '8_9_2', 'a': 'web5start.png', 'b': 'web5b.png', 'response': 'continue', 'response_action': 'keypress(Space)', 'correctResponse': 'continue', 'correct': True, 'ended_on': 'response', 'duration': 981.1600000000326, 'time_run': 654557, 'time_render': 654557.58, 'time_show': 654562.84, 'time_end': 655544, 'time_commit': 655544, 'timestamp': '2021-07-18T04:43:31.659Z', 'time_switch': 655546.18}",
            "count": 2
           },
           {
            "name": "{'sender': 'Did You Look At the Cross?', 'sender_type': 'html.Screen', 'sender_id': '8_9_2', 'a': 'web15start.png', 'b': 'web15a.png', 'response': 'Looked_Away', 'response_action': 'keypress(q)', 'correctResponse': 'continue', 'correct': False, 'ended_on': 'response', 'duration': 4235.440000000002, 'time_run': 432257, 'time_render': 432257.42, 'time_show': 432273.56, 'time_end': 436509, 'time_commit': 436514, 'timestamp': '2021-07-19T06:41:34.640Z', 'time_switch': 436530.32}",
            "count": 1
           },
           {
            "name": "303 others",
            "count": 303
           }
          ]
         }
        },
        {
         "name": 68,
         "dtype": "object",
         "stats": {
          "unique_count": 306,
          "nan_count": 0,
          "categories": [
           {
            "name": "{'sender': 'Data transmission (beta)', 'sender_type': 'html.Screen', 'sender_id': '8_9_3', 'a': 'web5start.png', 'b': 'web5b.png', 'message': 'Transferring data', 'subtitle': 'Please wait a second…', 'ended_on': 'transmission successful', 'duration': 177.81999999994878, 'time_run': 655544, 'time_render': 655544.36, 'time_show': 655546.18, 'time_end': 655724, 'time_commit': 655725, 'timestamp': '2021-07-18T04:43:31.839Z', 'time_switch': 655729.52}",
            "count": 2
           },
           {
            "name": "{'sender': 'Data transmission (beta)', 'sender_type': 'html.Screen', 'sender_id': '8_9_3', 'a': 'web15start.png', 'b': 'web15a.png', 'message': 'Transferring data', 'subtitle': 'Please wait a second…', 'ended_on': 'transmission successful', 'duration': 410.679999999993, 'time_run': 436514, 'time_render': 436514.2, 'time_show': 436530.32, 'time_end': 436941, 'time_commit': 436942, 'timestamp': '2021-07-19T06:41:35.070Z', 'time_switch': 436961.9}",
            "count": 1
           },
           {
            "name": "303 others",
            "count": 303
           }
          ]
         }
        },
        {
         "name": 69,
         "dtype": "object",
         "stats": {
          "unique_count": 306,
          "nan_count": 0,
          "categories": [
           {
            "name": "{'sender': 'Trial', 'sender_type': 'flow.Sequence', 'sender_id': '8_9', 'a': 'web5start.png', 'b': 'web5b.png', 'ended_on': 'completion', 'duration': 7077.819999999949, 'time_run': 648638, 'time_render': 648637.82, 'time_show': 648646.18, 'time_end': 655724, 'time_commit': 655725, 'timestamp': '2021-07-18T04:43:31.839Z', 'time_switch': 655729.52}",
            "count": 2
           },
           {
            "name": "{'sender': 'Trial', 'sender_type': 'flow.Sequence', 'sender_id': '8_9', 'a': 'web15start.png', 'b': 'web15a.png', 'ended_on': 'completion', 'duration': 10987.119999999995, 'time_run': 425937, 'time_render': 425937.78, 'time_show': 425953.88, 'time_end': 436941, 'time_commit': 436944, 'timestamp': '2021-07-19T06:41:35.071Z', 'time_switch': 436961.9}",
            "count": 1
           },
           {
            "name": "303 others",
            "count": 303
           }
          ]
         }
        },
        {
         "name": 70,
         "dtype": "object",
         "stats": {
          "unique_count": 306,
          "nan_count": 0,
          "categories": [
           {
            "name": "{'sender': 'Fixation Cross', 'sender_type': 'html.Screen', 'sender_id': '8_10_0', 'a': 'web7start.png', 'b': 'web7b.png', 'ended_on': 'timeout', 'duration': 1000, 'time_run': 655725, 'time_render': 655724.74, 'time_show': 655729.52, 'time_end': 656712.86, 'time_commit': 656714, 'timestamp': '2021-07-18T04:43:32.829Z', 'time_switch': 656729.52}",
            "count": 2
           },
           {
            "name": "{'sender': 'Fixation Cross', 'sender_type': 'html.Screen', 'sender_id': '8_10_0', 'a': 'web11start.png', 'b': 'web11a.png', 'ended_on': 'timeout', 'duration': 993.3399999999674, 'time_run': 436945, 'time_render': 436945.78, 'time_show': 436961.9, 'time_end': 437938.06, 'time_commit': 437939, 'timestamp': '2021-07-19T06:41:36.066Z', 'time_switch': 437955.24}",
            "count": 1
           },
           {
            "name": "303 others",
            "count": 303
           }
          ]
         }
        },
        {
         "name": 71,
         "dtype": "object",
         "stats": {
          "unique_count": 306,
          "nan_count": 0,
          "categories": [
           {
            "name": "{'sender': 'cf keyframe transitions', 'sender_type': 'html.Screen', 'sender_id': '8_10_1', 'a': 'web7start.png', 'b': 'web7b.png', 'fadeTime': 3777, 'response': 'pressed Space', 'ended_on': 'response', 'duration': 5024.479999999981, 'time_run': 656716, 'time_render': 656712.86, 'time_show': 656729.52, 'time_end': 661754, 'time_commit': 661754, 'timestamp': '2021-07-18T04:43:37.869Z', 'time_switch': 661762.86}",
            "count": 2
           },
           {
            "name": "{'sender': 'cf keyframe transitions', 'sender_type': 'html.Screen', 'sender_id': '8_10_1', 'a': 'web11start.png', 'b': 'web11a.png', 'fadeTime': 3631, 'response': 'pressed Space', 'ended_on': 'response', 'duration': 7833.760000000009, 'time_run': 437946, 'time_render': 437938.06, 'time_show': 437955.24, 'time_end': 445789, 'time_commit': 445789, 'timestamp': '2021-07-19T06:41:43.917Z', 'time_switch': 445806.26}",
            "count": 1
           },
           {
            "name": "303 others",
            "count": 303
           }
          ]
         }
        },
        {
         "name": 72,
         "dtype": "object",
         "stats": {
          "unique_count": 306,
          "nan_count": 0,
          "categories": [
           {
            "name": "{'sender': 'Did You Look At the Cross?', 'sender_type': 'html.Screen', 'sender_id': '8_10_2', 'a': 'web7start.png', 'b': 'web7b.png', 'response': 'continue', 'response_action': 'keypress(Space)', 'correctResponse': 'continue', 'correct': True, 'ended_on': 'response', 'duration': 568.140000000014, 'time_run': 661754, 'time_render': 661753.54, 'time_show': 661762.86, 'time_end': 662331, 'time_commit': 662331, 'timestamp': '2021-07-18T04:43:38.446Z', 'time_switch': 662346.2}",
            "count": 2
           },
           {
            "name": "{'sender': 'Did You Look At the Cross?', 'sender_type': 'html.Screen', 'sender_id': '8_10_2', 'a': 'web11start.png', 'b': 'web11a.png', 'response': 'continue', 'response_action': 'keypress(Space)', 'correctResponse': 'continue', 'correct': True, 'ended_on': 'response', 'duration': 1994.7399999999907, 'time_run': 445790, 'time_render': 445790.14, 'time_show': 445806.26, 'time_end': 447801, 'time_commit': 447805, 'timestamp': '2021-07-19T06:41:45.932Z', 'time_switch': 447822.48}",
            "count": 1
           },
           {
            "name": "303 others",
            "count": 303
           }
          ]
         }
        },
        {
         "name": 73,
         "dtype": "object",
         "stats": {
          "unique_count": 306,
          "nan_count": 0,
          "categories": [
           {
            "name": "{'sender': 'Data transmission (beta)', 'sender_type': 'html.Screen', 'sender_id': '8_10_3', 'a': 'web7start.png', 'b': 'web7b.png', 'message': 'Transferring data', 'subtitle': 'Please wait a second…', 'ended_on': 'transmission successful', 'duration': 172.80000000004657, 'time_run': 662331, 'time_render': 662330.9, 'time_show': 662346.2, 'time_end': 662519, 'time_commit': 662519, 'timestamp': '2021-07-18T04:43:38.635Z', 'time_switch': 662529.58}",
            "count": 2
           },
           {
            "name": "{'sender': 'Data transmission (beta)', 'sender_type': 'html.Screen', 'sender_id': '8_10_3', 'a': 'web11start.png', 'b': 'web11a.png', 'message': 'Transferring data', 'subtitle': 'Please wait a second…', 'ended_on': 'transmission successful', 'duration': 411.5200000000186, 'time_run': 447806, 'time_render': 447806.36, 'time_show': 447822.48, 'time_end': 448234, 'time_commit': 448235, 'timestamp': '2021-07-19T06:41:46.362Z', 'time_switch': 448255.6}",
            "count": 1
           },
           {
            "name": "303 others",
            "count": 303
           }
          ]
         }
        },
        {
         "name": 74,
         "dtype": "object",
         "stats": {
          "unique_count": 306,
          "nan_count": 0,
          "categories": [
           {
            "name": "{'sender': 'Trial', 'sender_type': 'flow.Sequence', 'sender_id': '8_10', 'a': 'web7start.png', 'b': 'web7b.png', 'ended_on': 'completion', 'duration': 6789.479999999981, 'time_run': 655725, 'time_render': 655724.74, 'time_show': 655729.52, 'time_end': 662519, 'time_commit': 662520, 'timestamp': '2021-07-18T04:43:38.635Z', 'time_switch': 662529.58}",
            "count": 2
           },
           {
            "name": "{'sender': 'Trial', 'sender_type': 'flow.Sequence', 'sender_id': '8_10', 'a': 'web11start.png', 'b': 'web11a.png', 'ended_on': 'completion', 'duration': 11272.099999999977, 'time_run': 436945, 'time_render': 436945.78, 'time_show': 436961.9, 'time_end': 448234, 'time_commit': 448238, 'timestamp': '2021-07-19T06:41:46.365Z', 'time_switch': 448255.6}",
            "count": 1
           },
           {
            "name": "303 others",
            "count": 303
           }
          ]
         }
        },
        {
         "name": 75,
         "dtype": "object",
         "stats": {
          "unique_count": 306,
          "nan_count": 0,
          "categories": [
           {
            "name": "{'sender': 'Fixation Cross', 'sender_type': 'html.Screen', 'sender_id': '8_11_0', 'a': 'web7start.png', 'b': 'web7b.png', 'ended_on': 'timeout', 'duration': 999.9400000000605, 'time_run': 662520, 'time_render': 662519.62, 'time_show': 662529.58, 'time_end': 663512.86, 'time_commit': 663514, 'timestamp': '2021-07-18T04:43:39.629Z', 'time_switch': 663529.52}",
            "count": 2
           },
           {
            "name": "{'sender': 'Fixation Cross', 'sender_type': 'html.Screen', 'sender_id': '8_11_0', 'a': 'web8start.png', 'b': 'web8a.png', 'ended_on': 'timeout', 'duration': 993.960000000021, 'time_run': 448239, 'time_render': 448239.5, 'time_show': 448255.6, 'time_end': 449232.36, 'time_commit': 449234, 'timestamp': '2021-07-19T06:41:47.361Z', 'time_switch': 449249.56}",
            "count": 1
           },
           {
            "name": "303 others",
            "count": 303
           }
          ]
         }
        },
        {
         "name": 76,
         "dtype": "object",
         "stats": {
          "unique_count": 306,
          "nan_count": 0,
          "categories": [
           {
            "name": "{'sender': 'cf keyframe transitions', 'sender_type': 'html.Screen', 'sender_id': '8_11_1', 'a': 'web7start.png', 'b': 'web7b.png', 'fadeTime': 3626, 'response': 'pressed Space', 'ended_on': 'response', 'duration': 4796.479999999981, 'time_run': 663516, 'time_render': 663512.86, 'time_show': 663529.52, 'time_end': 668326, 'time_commit': 668327, 'timestamp': '2021-07-18T04:43:44.442Z', 'time_switch': 668329.54}",
            "count": 2
           },
           {
            "name": "{'sender': 'cf keyframe transitions', 'sender_type': 'html.Screen', 'sender_id': '8_11_1', 'a': 'web8start.png', 'b': 'web8a.png', 'fadeTime': 3576, 'response': 'pressed Space', 'ended_on': 'response', 'duration': 13880.440000000002, 'time_run': 449243, 'time_render': 449232.36, 'time_show': 449249.56, 'time_end': 463130, 'time_commit': 463130, 'timestamp': '2021-07-19T06:42:01.257Z', 'time_switch': 463147.3}",
            "count": 1
           },
           {
            "name": "303 others",
            "count": 303
           }
          ]
         }
        },
        {
         "name": 77,
         "dtype": "object",
         "stats": {
          "unique_count": 306,
          "nan_count": 0,
          "categories": [
           {
            "name": "{'sender': 'Did You Look At the Cross?', 'sender_type': 'html.Screen', 'sender_id': '8_11_2', 'a': 'web7start.png', 'b': 'web7b.png', 'response': 'continue', 'response_action': 'keypress(Space)', 'correctResponse': 'continue', 'correct': True, 'ended_on': 'response', 'duration': 938.4599999999627, 'time_run': 668327, 'time_render': 668327.04, 'time_show': 668329.54, 'time_end': 669268, 'time_commit': 669268, 'timestamp': '2021-07-18T04:43:45.384Z', 'time_switch': 669279.54}",
            "count": 2
           },
           {
            "name": "{'sender': 'Did You Look At the Cross?', 'sender_type': 'html.Screen', 'sender_id': '8_11_2', 'a': 'web8start.png', 'b': 'web8a.png', 'response': 'Looked_Away', 'response_action': 'keypress(q)', 'correctResponse': 'continue', 'correct': False, 'ended_on': 'response', 'duration': 2790.7000000000116, 'time_run': 463131, 'time_render': 463131.14, 'time_show': 463147.3, 'time_end': 465938, 'time_commit': 465942, 'timestamp': '2021-07-19T06:42:04.070Z', 'time_switch': 465959.02}",
            "count": 1
           },
           {
            "name": "303 others",
            "count": 303
           }
          ]
         }
        },
        {
         "name": 78,
         "dtype": "object",
         "stats": {
          "unique_count": 306,
          "nan_count": 0,
          "categories": [
           {
            "name": "{'sender': 'Data transmission (beta)', 'sender_type': 'html.Screen', 'sender_id': '8_11_3', 'a': 'web7start.png', 'b': 'web7b.png', 'message': 'Transferring data', 'subtitle': 'Please wait a second…', 'ended_on': 'transmission successful', 'duration': 186.45999999996275, 'time_run': 669269, 'time_render': 669268.72, 'time_show': 669279.54, 'time_end': 669466, 'time_commit': 669466, 'timestamp': '2021-07-18T04:43:45.581Z', 'time_switch': 669479.6}",
            "count": 2
           },
           {
            "name": "{'sender': 'Data transmission (beta)', 'sender_type': 'html.Screen', 'sender_id': '8_11_3', 'a': 'web8start.png', 'b': 'web8a.png', 'message': 'Transferring data', 'subtitle': 'Please wait a second…', 'ended_on': 'transmission successful', 'duration': 411.9799999999814, 'time_run': 465942, 'time_render': 465942.92, 'time_show': 465959.02, 'time_end': 466371, 'time_commit': 466371, 'timestamp': '2021-07-19T06:42:04.499Z', 'time_switch': 466389.72}",
            "count": 1
           },
           {
            "name": "303 others",
            "count": 303
           }
          ]
         }
        },
        {
         "name": 79,
         "dtype": "object",
         "stats": {
          "unique_count": 306,
          "nan_count": 0,
          "categories": [
           {
            "name": "{'sender': 'Trial', 'sender_type': 'flow.Sequence', 'sender_id': '8_11', 'a': 'web7start.png', 'b': 'web7b.png', 'ended_on': 'completion', 'duration': 6936.420000000042, 'time_run': 662520, 'time_render': 662519.62, 'time_show': 662529.58, 'time_end': 669466, 'time_commit': 669466, 'timestamp': '2021-07-18T04:43:45.582Z', 'time_switch': 669479.6}",
            "count": 2
           },
           {
            "name": "{'sender': 'Trial', 'sender_type': 'flow.Sequence', 'sender_id': '8_11', 'a': 'web8start.png', 'b': 'web8a.png', 'ended_on': 'completion', 'duration': 18115.400000000023, 'time_run': 448239, 'time_render': 448239.5, 'time_show': 448255.6, 'time_end': 466371, 'time_commit': 466373, 'timestamp': '2021-07-19T06:42:04.499Z', 'time_switch': 466389.72}",
            "count": 1
           },
           {
            "name": "303 others",
            "count": 303
           }
          ]
         }
        },
        {
         "name": 80,
         "dtype": "object",
         "stats": {
          "unique_count": 306,
          "nan_count": 0,
          "categories": [
           {
            "name": "{'sender': 'Fixation Cross', 'sender_type': 'html.Screen', 'sender_id': '8_12_0', 'a': 'web9start.png', 'b': 'web9b.png', 'ended_on': 'timeout', 'duration': 999.9400000000605, 'time_run': 669467, 'time_render': 669467.1, 'time_show': 669479.6, 'time_end': 670462.88, 'time_commit': 670463, 'timestamp': '2021-07-18T04:43:46.579Z', 'time_switch': 670479.54}",
            "count": 2
           },
           {
            "name": "{'sender': 'Fixation Cross', 'sender_type': 'html.Screen', 'sender_id': '8_12_0', 'a': 'web4start.png', 'b': 'web4b.png', 'ended_on': 'timeout', 'duration': 993.2600000000093, 'time_run': 466373, 'time_render': 466373.58, 'time_show': 466389.72, 'time_end': 467365.82, 'time_commit': 467367, 'timestamp': '2021-07-19T06:42:05.495Z', 'time_switch': 467382.98}",
            "count": 1
           },
           {
            "name": "303 others",
            "count": 303
           }
          ]
         }
        },
        {
         "name": 81,
         "dtype": "object",
         "stats": {
          "unique_count": 306,
          "nan_count": 0,
          "categories": [
           {
            "name": "{'sender': 'cf keyframe transitions', 'sender_type': 'html.Screen', 'sender_id': '8_12_1', 'a': 'web9start.png', 'b': 'web9b.png', 'fadeTime': 3434, 'response': 'pressed Space', 'ended_on': 'response', 'duration': 7435.459999999963, 'time_run': 670466, 'time_render': 670462.88, 'time_show': 670479.54, 'time_end': 677915, 'time_commit': 677915, 'timestamp': '2021-07-18T04:43:54.030Z', 'time_switch': 677929.54}",
            "count": 2
           },
           {
            "name": "{'sender': 'cf keyframe transitions', 'sender_type': 'html.Screen', 'sender_id': '8_12_1', 'a': 'web4start.png', 'b': 'web4b.png', 'fadeTime': 3514, 'response': 'pressed Space', 'ended_on': 'response', 'duration': 3697.0200000000186, 'time_run': 467375, 'time_render': 467365.82, 'time_show': 467382.98, 'time_end': 471080, 'time_commit': 471081, 'timestamp': '2021-07-19T06:42:09.208Z', 'time_switch': 471099.06}",
            "count": 1
           },
           {
            "name": "303 others",
            "count": 303
           }
          ]
         }
        },
        {
         "name": 82,
         "dtype": "object",
         "stats": {
          "unique_count": 306,
          "nan_count": 0,
          "categories": [
           {
            "name": "{'sender': 'Did You Look At the Cross?', 'sender_type': 'html.Screen', 'sender_id': '8_12_2', 'a': 'web9start.png', 'b': 'web9b.png', 'response': 'continue', 'response_action': 'keypress(Space)', 'correctResponse': 'continue', 'correct': True, 'ended_on': 'response', 'duration': 1123.4599999999627, 'time_run': 677915, 'time_render': 677915.02, 'time_show': 677929.54, 'time_end': 679053, 'time_commit': 679054, 'timestamp': '2021-07-18T04:43:55.169Z', 'time_switch': 679062.88}",
            "count": 2
           },
           {
            "name": "{'sender': 'Did You Look At the Cross?', 'sender_type': 'html.Screen', 'sender_id': '8_12_2', 'a': 'web4start.png', 'b': 'web4b.png', 'response': 'continue', 'response_action': 'keypress(Space)', 'correctResponse': 'continue', 'correct': True, 'ended_on': 'response', 'duration': 2612.9400000000023, 'time_run': 471082, 'time_render': 471082.92, 'time_show': 471099.06, 'time_end': 473712, 'time_commit': 473717, 'timestamp': '2021-07-19T06:42:11.844Z', 'time_switch': 473734.18}",
            "count": 1
           },
           {
            "name": "303 others",
            "count": 303
           }
          ]
         }
        },
        {
         "name": 83,
         "dtype": "object",
         "stats": {
          "unique_count": 306,
          "nan_count": 0,
          "categories": [
           {
            "name": "{'sender': 'Data transmission (beta)', 'sender_type': 'html.Screen', 'sender_id': '8_12_3', 'a': 'web9start.png', 'b': 'web9b.png', 'message': 'Transferring data', 'subtitle': 'Please wait a second…', 'ended_on': 'transmission successful', 'duration': 195.11999999999534, 'time_run': 679054, 'time_render': 679053.66, 'time_show': 679062.88, 'time_end': 679258, 'time_commit': 679258, 'timestamp': '2021-07-18T04:43:55.373Z', 'time_switch': 679262.88}",
            "count": 2
           },
           {
            "name": "{'sender': 'Data transmission (beta)', 'sender_type': 'html.Screen', 'sender_id': '8_12_3', 'a': 'web4start.png', 'b': 'web4b.png', 'message': 'Transferring data', 'subtitle': 'Please wait a second…', 'ended_on': 'transmission successful', 'duration': 415.820000000007, 'time_run': 473718, 'time_render': 473718.06, 'time_show': 473734.18, 'time_end': 474150, 'time_commit': 474150, 'timestamp': '2021-07-19T06:42:12.278Z', 'time_switch': 474168.2}",
            "count": 1
           },
           {
            "name": "303 others",
            "count": 303
           }
          ]
         }
        },
        {
         "name": 84,
         "dtype": "object",
         "stats": {
          "unique_count": 306,
          "nan_count": 0,
          "categories": [
           {
            "name": "{'sender': 'Trial', 'sender_type': 'flow.Sequence', 'sender_id': '8_12', 'a': 'web9start.png', 'b': 'web9b.png', 'ended_on': 'completion', 'duration': 9778.400000000023, 'time_run': 669466, 'time_render': 669467.1, 'time_show': 669479.6, 'time_end': 679258, 'time_commit': 679259, 'timestamp': '2021-07-18T04:43:55.373Z', 'time_switch': 679262.88}",
            "count": 2
           },
           {
            "name": "{'sender': 'Trial', 'sender_type': 'flow.Sequence', 'sender_id': '8_12', 'a': 'web4start.png', 'b': 'web4b.png', 'ended_on': 'completion', 'duration': 7760.280000000028, 'time_run': 466373, 'time_render': 466373.58, 'time_show': 466389.72, 'time_end': 474150, 'time_commit': 474151, 'timestamp': '2021-07-19T06:42:12.278Z', 'time_switch': 474168.2}",
            "count": 1
           },
           {
            "name": "303 others",
            "count": 303
           }
          ]
         }
        },
        {
         "name": 85,
         "dtype": "object",
         "stats": {
          "unique_count": 306,
          "nan_count": 0,
          "categories": [
           {
            "name": "{'sender': 'Fixation Cross', 'sender_type': 'html.Screen', 'sender_id': '8_13_0', 'a': 'web6start.png', 'b': 'web6a.png', 'ended_on': 'timeout', 'duration': 1000.0200000000186, 'time_run': 679259, 'time_render': 679258.7, 'time_show': 679262.88, 'time_end': 680246.22, 'time_commit': 680247, 'timestamp': '2021-07-18T04:43:56.362Z', 'time_switch': 680262.9}",
            "count": 2
           },
           {
            "name": "{'sender': 'Fixation Cross', 'sender_type': 'html.Screen', 'sender_id': '8_13_0', 'a': 'web5start.png', 'b': 'web5a.png', 'ended_on': 'timeout', 'duration': 994.859999999986, 'time_run': 474152, 'time_render': 474152.02, 'time_show': 474168.2, 'time_end': 475145.96, 'time_commit': 475147, 'timestamp': '2021-07-19T06:42:13.274Z', 'time_switch': 475163.06}",
            "count": 1
           },
           {
            "name": "303 others",
            "count": 303
           }
          ]
         }
        },
        {
         "name": 86,
         "dtype": "object",
         "stats": {
          "unique_count": 306,
          "nan_count": 0,
          "categories": [
           {
            "name": "{'sender': 'cf keyframe transitions', 'sender_type': 'html.Screen', 'sender_id': '8_13_1', 'a': 'web6start.png', 'b': 'web6a.png', 'fadeTime': 3607, 'ended_on': 'timeout', 'duration': 20000, 'time_run': 680249, 'time_render': 680246.22, 'time_show': 680262.9, 'time_end': 700246.24, 'time_commit': 700246, 'timestamp': '2021-07-18T04:44:16.362Z', 'time_switch': 700262.9}",
            "count": 2
           },
           {
            "name": "{'sender': 'cf keyframe transitions', 'sender_type': 'html.Screen', 'sender_id': '8_13_1', 'a': 'web5start.png', 'b': 'web5a.png', 'fadeTime': 3771, 'ended_on': 'timeout', 'duration': 20006.79999999999, 'time_run': 475155, 'time_render': 475145.96, 'time_show': 475163.06, 'time_end': 495152.72, 'time_commit': 495154, 'timestamp': '2021-07-19T06:42:33.281Z', 'time_switch': 495169.86}",
            "count": 1
           },
           {
            "name": "303 others",
            "count": 303
           }
          ]
         }
        },
        {
         "name": 87,
         "dtype": "object",
         "stats": {
          "unique_count": 306,
          "nan_count": 0,
          "categories": [
           {
            "name": "{'sender': 'Did You Look At the Cross?', 'sender_type': 'html.Screen', 'sender_id': '8_13_2', 'a': 'web6start.png', 'b': 'web6a.png', 'response': 'continue', 'response_action': 'keypress(Space)', 'correctResponse': 'continue', 'correct': True, 'ended_on': 'response', 'duration': 8074.099999999977, 'time_run': 700246, 'time_render': 700246.24, 'time_show': 700262.9, 'time_end': 708337, 'time_commit': 708337, 'timestamp': '2021-07-18T04:44:24.453Z', 'time_switch': 708346.26}",
            "count": 2
           },
           {
            "name": "{'sender': 'Did You Look At the Cross?', 'sender_type': 'html.Screen', 'sender_id': '8_13_2', 'a': 'web5start.png', 'b': 'web5a.png', 'response': 'continue', 'response_action': 'keypress(Space)', 'correctResponse': 'continue', 'correct': True, 'ended_on': 'response', 'duration': 3231.140000000014, 'time_run': 495155, 'time_render': 495152.72, 'time_show': 495169.86, 'time_end': 498401, 'time_commit': 498406, 'timestamp': '2021-07-19T06:42:36.534Z', 'time_switch': 498423.32}",
            "count": 1
           },
           {
            "name": "303 others",
            "count": 303
           }
          ]
         }
        },
        {
         "name": 88,
         "dtype": "object",
         "stats": {
          "unique_count": 306,
          "nan_count": 0,
          "categories": [
           {
            "name": "{'sender': 'Data transmission (beta)', 'sender_type': 'html.Screen', 'sender_id': '8_13_3', 'a': 'web6start.png', 'b': 'web6a.png', 'message': 'Transferring data', 'subtitle': 'Please wait a second…', 'ended_on': 'transmission successful', 'duration': 210.7399999999907, 'time_run': 708337, 'time_render': 708337.52, 'time_show': 708346.26, 'time_end': 708557, 'time_commit': 708557, 'timestamp': '2021-07-18T04:44:24.672Z', 'time_switch': 708562.92}",
            "count": 2
           },
           {
            "name": "{'sender': 'Data transmission (beta)', 'sender_type': 'html.Screen', 'sender_id': '8_13_3', 'a': 'web5start.png', 'b': 'web5a.png', 'message': 'Transferring data', 'subtitle': 'Please wait a second…', 'ended_on': 'transmission successful', 'duration': 446.679999999993, 'time_run': 498406, 'time_render': 498407.18, 'time_show': 498423.32, 'time_end': 498870, 'time_commit': 498871, 'timestamp': '2021-07-19T06:42:36.998Z', 'time_switch': 498890}",
            "count": 1
           },
           {
            "name": "303 others",
            "count": 303
           }
          ]
         }
        },
        {
         "name": 89,
         "dtype": "object",
         "stats": {
          "unique_count": 306,
          "nan_count": 0,
          "categories": [
           {
            "name": "{'sender': 'Trial', 'sender_type': 'flow.Sequence', 'sender_id': '8_13', 'a': 'web6start.png', 'b': 'web6a.png', 'ended_on': 'completion', 'duration': 29294.119999999995, 'time_run': 679259, 'time_render': 679258.7, 'time_show': 679262.88, 'time_end': 708557, 'time_commit': 708557, 'timestamp': '2021-07-18T04:44:24.672Z', 'time_switch': 708562.92}",
            "count": 2
           },
           {
            "name": "{'sender': 'Trial', 'sender_type': 'flow.Sequence', 'sender_id': '8_13', 'a': 'web5start.png', 'b': 'web5a.png', 'ended_on': 'completion', 'duration': 24701.79999999999, 'time_run': 474152, 'time_render': 474152.02, 'time_show': 474168.2, 'time_end': 498870, 'time_commit': 498872, 'timestamp': '2021-07-19T06:42:37.000Z', 'time_switch': 498890}",
            "count": 1
           },
           {
            "name": "303 others",
            "count": 303
           }
          ]
         }
        },
        {
         "name": 90,
         "dtype": "object",
         "stats": {
          "unique_count": 306,
          "nan_count": 0,
          "categories": [
           {
            "name": "{'sender': 'Fixation Cross', 'sender_type': 'html.Screen', 'sender_id': '8_14_0', 'a': 'web15start.png', 'b': 'web15a.png', 'ended_on': 'timeout', 'duration': 1000, 'time_run': 708557, 'time_render': 708557.5, 'time_show': 708562.92, 'time_end': 709546.24, 'time_commit': 709547, 'timestamp': '2021-07-18T04:44:25.662Z', 'time_switch': 709562.92}",
            "count": 2
           },
           {
            "name": "{'sender': 'Fixation Cross', 'sender_type': 'html.Screen', 'sender_id': '8_14_0', 'a': 'web7start.png', 'b': 'web7a.png', 'ended_on': 'timeout', 'duration': 994.5200000000186, 'time_run': 498873, 'time_render': 498873.86, 'time_show': 498890, 'time_end': 499867.32, 'time_commit': 499869, 'timestamp': '2021-07-19T06:42:37.996Z', 'time_switch': 499884.52}",
            "count": 1
           },
           {
            "name": "303 others",
            "count": 303
           }
          ]
         }
        },
        {
         "name": 91,
         "dtype": "object",
         "stats": {
          "unique_count": 306,
          "nan_count": 0,
          "categories": [
           {
            "name": "{'sender': 'cf keyframe transitions', 'sender_type': 'html.Screen', 'sender_id': '8_14_1', 'a': 'web15start.png', 'b': 'web15a.png', 'fadeTime': 3128, 'response': 'pressed Space', 'ended_on': 'response', 'duration': 10316.079999999958, 'time_run': 709548, 'time_render': 709546.24, 'time_show': 709562.92, 'time_end': 719879, 'time_commit': 719880, 'timestamp': '2021-07-18T04:44:35.995Z', 'time_switch': 719896.28}",
            "count": 2
           },
           {
            "name": "{'sender': 'cf keyframe transitions', 'sender_type': 'html.Screen', 'sender_id': '8_14_1', 'a': 'web7start.png', 'b': 'web7a.png', 'fadeTime': 3010, 'response': 'pressed Space', 'ended_on': 'response', 'duration': 3966.4799999999814, 'time_run': 499877, 'time_render': 499867.32, 'time_show': 499884.52, 'time_end': 503851, 'time_commit': 503852, 'timestamp': '2021-07-19T06:42:41.980Z', 'time_switch': 503869.92}",
            "count": 1
           },
           {
            "name": "303 others",
            "count": 303
           }
          ]
         }
        },
        {
         "name": 92,
         "dtype": "object",
         "stats": {
          "unique_count": 306,
          "nan_count": 0,
          "categories": [
           {
            "name": "{'sender': 'Did You Look At the Cross?', 'sender_type': 'html.Screen', 'sender_id': '8_14_2', 'a': 'web15start.png', 'b': 'web15a.png', 'response': 'continue', 'response_action': 'keypress(Space)', 'correctResponse': 'continue', 'correct': True, 'ended_on': 'response', 'duration': 788.7199999999721, 'time_run': 719880, 'time_render': 719879.54, 'time_show': 719896.28, 'time_end': 720685, 'time_commit': 720686, 'timestamp': '2021-07-18T04:44:36.801Z', 'time_switch': 720696.36}",
            "count": 2
           },
           {
            "name": "{'sender': 'Did You Look At the Cross?', 'sender_type': 'html.Screen', 'sender_id': '8_14_2', 'a': 'web7start.png', 'b': 'web7a.png', 'response': 'continue', 'response_action': 'keypress(Space)', 'correctResponse': 'continue', 'correct': True, 'ended_on': 'response', 'duration': 1792.0800000000163, 'time_run': 503853, 'time_render': 503853.8, 'time_show': 503869.92, 'time_end': 505662, 'time_commit': 505667, 'timestamp': '2021-07-19T06:42:43.794Z', 'time_switch': 505683.1}",
            "count": 1
           },
           {
            "name": "303 others",
            "count": 303
           }
          ]
         }
        },
        {
         "name": 93,
         "dtype": "object",
         "stats": {
          "unique_count": 306,
          "nan_count": 0,
          "categories": [
           {
            "name": "{'sender': 'Data transmission (beta)', 'sender_type': 'html.Screen', 'sender_id': '8_14_3', 'a': 'web15start.png', 'b': 'web15a.png', 'message': 'Transferring data', 'subtitle': 'Please wait a second…', 'ended_on': 'transmission successful', 'duration': 211.64000000001397, 'time_run': 720686, 'time_render': 720686.02, 'time_show': 720696.36, 'time_end': 720908, 'time_commit': 720908, 'timestamp': '2021-07-18T04:44:37.023Z', 'time_switch': 720912.92}",
            "count": 2
           },
           {
            "name": "{'sender': 'Data transmission (beta)', 'sender_type': 'html.Screen', 'sender_id': '8_14_3', 'a': 'web7start.png', 'b': 'web7a.png', 'message': 'Transferring data', 'subtitle': 'Please wait a second…', 'ended_on': 'transmission successful', 'duration': 427.9000000000233, 'time_run': 505667, 'time_render': 505666.98, 'time_show': 505683.1, 'time_end': 506111, 'time_commit': 506112, 'timestamp': '2021-07-19T06:42:44.239Z', 'time_switch': 506129.34}",
            "count": 1
           },
           {
            "name": "303 others",
            "count": 303
           }
          ]
         }
        },
        {
         "name": 94,
         "dtype": "object",
         "stats": {
          "unique_count": 306,
          "nan_count": 0,
          "categories": [
           {
            "name": "{'sender': 'Trial', 'sender_type': 'flow.Sequence', 'sender_id': '8_14', 'a': 'web15start.png', 'b': 'web15a.png', 'ended_on': 'completion', 'duration': 12345.079999999958, 'time_run': 708557, 'time_render': 708557.5, 'time_show': 708562.92, 'time_end': 720908, 'time_commit': 720908, 'timestamp': '2021-07-18T04:44:37.024Z', 'time_switch': 720912.92}",
            "count": 2
           },
           {
            "name": "{'sender': 'Trial', 'sender_type': 'flow.Sequence', 'sender_id': '8_14', 'a': 'web7start.png', 'b': 'web7a.png', 'ended_on': 'completion', 'duration': 7221, 'time_run': 498873, 'time_render': 498873.86, 'time_show': 498890, 'time_end': 506111, 'time_commit': 506112, 'timestamp': '2021-07-19T06:42:44.240Z', 'time_switch': 506129.34}",
            "count": 1
           },
           {
            "name": "303 others",
            "count": 303
           }
          ]
         }
        },
        {
         "name": 95,
         "dtype": "object",
         "stats": {
          "unique_count": 306,
          "nan_count": 0,
          "categories": [
           {
            "name": "{'sender': 'Fixation Cross', 'sender_type': 'html.Screen', 'sender_id': '8_15_0', 'a': 'web12start.png', 'b': 'web12a.png', 'ended_on': 'timeout', 'duration': 1000.0199999999022, 'time_run': 720909, 'time_render': 720908.86, 'time_show': 720912.92, 'time_end': 721896.28, 'time_commit': 721897, 'timestamp': '2021-07-18T04:44:38.012Z', 'time_switch': 721912.94}",
            "count": 2
           },
           {
            "name": "{'sender': 'Fixation Cross', 'sender_type': 'html.Screen', 'sender_id': '8_15_0', 'a': 'web9start.png', 'b': 'web9a.png', 'ended_on': 'timeout', 'duration': 993.7199999999721, 'time_run': 506113, 'time_render': 506113.2, 'time_show': 506129.34, 'time_end': 507105.9, 'time_commit': 507107, 'timestamp': '2021-07-19T06:42:45.235Z', 'time_switch': 507123.06}",
            "count": 1
           },
           {
            "name": "303 others",
            "count": 303
           }
          ]
         }
        },
        {
         "name": 96,
         "dtype": "object",
         "stats": {
          "unique_count": 306,
          "nan_count": 0,
          "categories": [
           {
            "name": "{'sender': 'cf keyframe transitions', 'sender_type': 'html.Screen', 'sender_id': '8_15_1', 'a': 'web12start.png', 'b': 'web12a.png', 'fadeTime': 3925, 'response': 'pressed Space', 'ended_on': 'response', 'duration': 11125.060000000056, 'time_run': 721900, 'time_render': 721896.28, 'time_show': 721912.94, 'time_end': 733038, 'time_commit': 733038, 'timestamp': '2021-07-18T04:44:49.154Z', 'time_switch': 733046.28}",
            "count": 2
           },
           {
            "name": "{'sender': 'cf keyframe transitions', 'sender_type': 'html.Screen', 'sender_id': '8_15_1', 'a': 'web9start.png', 'b': 'web9a.png', 'fadeTime': 3616, 'ended_on': 'timeout', 'duration': 20005.899999999965, 'time_run': 507116, 'time_render': 507105.9, 'time_show': 507123.06, 'time_end': 527111.78, 'time_commit': 527113, 'timestamp': '2021-07-19T06:43:05.240Z', 'time_switch': 527128.96}",
            "count": 1
           },
           {
            "name": "303 others",
            "count": 303
           }
          ]
         }
        },
        {
         "name": 97,
         "dtype": "object",
         "stats": {
          "unique_count": 306,
          "nan_count": 0,
          "categories": [
           {
            "name": "{'sender': 'Did You Look At the Cross?', 'sender_type': 'html.Screen', 'sender_id': '8_15_2', 'a': 'web12start.png', 'b': 'web12a.png', 'response': 'continue', 'response_action': 'keypress(Space)', 'correctResponse': 'continue', 'correct': True, 'ended_on': 'response', 'duration': 1335.719999999972, 'time_run': 733039, 'time_render': 733038.88, 'time_show': 733046.28, 'time_end': 734382, 'time_commit': 734382, 'timestamp': '2021-07-18T04:44:50.497Z', 'time_switch': 734396.28}",
            "count": 2
           },
           {
            "name": "{'sender': 'Did You Look At the Cross?', 'sender_type': 'html.Screen', 'sender_id': '8_15_2', 'a': 'web9start.png', 'b': 'web9a.png', 'response': 'continue', 'response_action': 'keypress(Space)', 'correctResponse': 'continue', 'correct': True, 'ended_on': 'response', 'duration': 747.0400000000373, 'time_run': 527114, 'time_render': 527111.78, 'time_show': 527128.96, 'time_end': 527876, 'time_commit': 527881, 'timestamp': '2021-07-19T06:43:06.008Z', 'time_switch': 527898.14}",
            "count": 1
           },
           {
            "name": "303 others",
            "count": 303
           }
          ]
         }
        },
        {
         "name": 98,
         "dtype": "object",
         "stats": {
          "unique_count": 306,
          "nan_count": 0,
          "categories": [
           {
            "name": "{'sender': 'Data transmission (beta)', 'sender_type': 'html.Screen', 'sender_id': '8_15_3', 'a': 'web12start.png', 'b': 'web12a.png', 'message': 'Transferring data', 'subtitle': 'Please wait a second…', 'ended_on': 'transmission successful', 'duration': 219.71999999997206, 'time_run': 734382, 'time_render': 734382.18, 'time_show': 734396.28, 'time_end': 734616, 'time_commit': 734616, 'timestamp': '2021-07-18T04:44:50.731Z', 'time_switch': 734629.68}",
            "count": 2
           },
           {
            "name": "{'sender': 'Data transmission (beta)', 'sender_type': 'html.Screen', 'sender_id': '8_15_3', 'a': 'web9start.png', 'b': 'web9a.png', 'message': 'Transferring data', 'subtitle': 'Please wait a second…', 'ended_on': 'transmission successful', 'duration': 432.85999999998603, 'time_run': 527882, 'time_render': 527882.04, 'time_show': 527898.14, 'time_end': 528331, 'time_commit': 528332, 'timestamp': '2021-07-19T06:43:06.459Z', 'time_switch': 528350.18}",
            "count": 1
           },
           {
            "name": "303 others",
            "count": 303
           }
          ]
         }
        },
        {
         "name": 99,
         "dtype": "object",
         "stats": {
          "unique_count": 306,
          "nan_count": 0,
          "categories": [
           {
            "name": "{'sender': 'Trial', 'sender_type': 'flow.Sequence', 'sender_id': '8_15', 'a': 'web12start.png', 'b': 'web12a.png', 'ended_on': 'completion', 'duration': 13703.079999999958, 'time_run': 720909, 'time_render': 720908.86, 'time_show': 720912.92, 'time_end': 734616, 'time_commit': 734616, 'timestamp': '2021-07-18T04:44:50.731Z', 'time_switch': 734629.68}",
            "count": 2
           },
           {
            "name": "{'sender': 'Trial', 'sender_type': 'flow.Sequence', 'sender_id': '8_15', 'a': 'web9start.png', 'b': 'web9a.png', 'ended_on': 'completion', 'duration': 22201.659999999974, 'time_run': 506113, 'time_render': 506113.2, 'time_show': 506129.34, 'time_end': 528331, 'time_commit': 528333, 'timestamp': '2021-07-19T06:43:06.460Z', 'time_switch': 528350.18}",
            "count": 1
           },
           {
            "name": "303 others",
            "count": 303
           }
          ]
         }
        },
        {
         "name": 100,
         "dtype": "object",
         "stats": {
          "unique_count": 306,
          "nan_count": 0,
          "categories": [
           {
            "name": "{'sender': 'Fixation Cross', 'sender_type': 'html.Screen', 'sender_id': '8_16_0', 'a': 'web4start.png', 'b': 'web4b.png', 'ended_on': 'timeout', 'duration': 999.9599999999627, 'time_run': 734617, 'time_render': 734616.44, 'time_show': 734629.68, 'time_end': 735612.96, 'time_commit': 735614, 'timestamp': '2021-07-18T04:44:51.729Z', 'time_switch': 735629.64}",
            "count": 2
           },
           {
            "name": "{'sender': 'Fixation Cross', 'sender_type': 'html.Screen', 'sender_id': '8_16_0', 'a': 'web14start.png', 'b': 'web14b.png', 'ended_on': 'timeout', 'duration': 994.4199999999255, 'time_run': 528334, 'time_render': 528334.06, 'time_show': 528350.18, 'time_end': 529327.44, 'time_commit': 529329, 'timestamp': '2021-07-19T06:43:07.456Z', 'time_switch': 529344.6}",
            "count": 1
           },
           {
            "name": "303 others",
            "count": 303
           }
          ]
         }
        },
        {
         "name": 101,
         "dtype": "object",
         "stats": {
          "unique_count": 306,
          "nan_count": 0,
          "categories": [
           {
            "name": "{'sender': 'cf keyframe transitions', 'sender_type': 'html.Screen', 'sender_id': '8_16_1', 'a': 'web4start.png', 'b': 'web4b.png', 'fadeTime': 3160, 'response': 'pressed Space', 'ended_on': 'response', 'duration': 4670.359999999986, 'time_run': 735616, 'time_render': 735612.96, 'time_show': 735629.64, 'time_end': 740300, 'time_commit': 740300, 'timestamp': '2021-07-18T04:44:56.415Z', 'time_switch': 740312.96}",
            "count": 2
           },
           {
            "name": "{'sender': 'cf keyframe transitions', 'sender_type': 'html.Screen', 'sender_id': '8_16_1', 'a': 'web14start.png', 'b': 'web14b.png', 'fadeTime': 3526, 'response': 'pressed Space', 'ended_on': 'response', 'duration': 6189.400000000023, 'time_run': 529338, 'time_render': 529327.44, 'time_show': 529344.6, 'time_end': 535534, 'time_commit': 535535, 'timestamp': '2021-07-19T06:43:13.663Z', 'time_switch': 535552.54}",
            "count": 1
           },
           {
            "name": "303 others",
            "count": 303
           }
          ]
         }
        },
        {
         "name": 102,
         "dtype": "object",
         "stats": {
          "unique_count": 306,
          "nan_count": 0,
          "categories": [
           {
            "name": "{'sender': 'Did You Look At the Cross?', 'sender_type': 'html.Screen', 'sender_id': '8_16_2', 'a': 'web4start.png', 'b': 'web4b.png', 'response': 'continue', 'response_action': 'keypress(Space)', 'correctResponse': 'continue', 'correct': True, 'ended_on': 'response', 'duration': 1207.0400000000373, 'time_run': 740300, 'time_render': 740300.24, 'time_show': 740312.96, 'time_end': 741520, 'time_commit': 741521, 'timestamp': '2021-07-18T04:44:57.635Z', 'time_switch': 741529.64}",
            "count": 2
           },
           {
            "name": "{'sender': 'Did You Look At the Cross?', 'sender_type': 'html.Screen', 'sender_id': '8_16_2', 'a': 'web14start.png', 'b': 'web14b.png', 'response': 'continue', 'response_action': 'keypress(Space)', 'correctResponse': 'continue', 'correct': True, 'ended_on': 'response', 'duration': 3348.4599999999627, 'time_run': 535536, 'time_render': 535536.4, 'time_show': 535552.54, 'time_end': 538901, 'time_commit': 538905, 'timestamp': '2021-07-19T06:43:17.032Z', 'time_switch': 538922.28}",
            "count": 1
           },
           {
            "name": "303 others",
            "count": 303
           }
          ]
         }
        },
        {
         "name": 103,
         "dtype": "object",
         "stats": {
          "unique_count": 306,
          "nan_count": 0,
          "categories": [
           {
            "name": "{'sender': 'Data transmission (beta)', 'sender_type': 'html.Screen', 'sender_id': '8_16_3', 'a': 'web4start.png', 'b': 'web4b.png', 'message': 'Transferring data', 'subtitle': 'Please wait a second…', 'ended_on': 'transmission successful', 'duration': 233.35999999998603, 'time_run': 741521, 'time_render': 741520.86, 'time_show': 741529.64, 'time_end': 741763, 'time_commit': 741763, 'timestamp': '2021-07-18T04:44:57.878Z', 'time_switch': 741779.62}",
            "count": 2
           },
           {
            "name": "{'sender': 'Data transmission (beta)', 'sender_type': 'html.Screen', 'sender_id': '8_16_3', 'a': 'web14start.png', 'b': 'web14b.png', 'message': 'Transferring data', 'subtitle': 'Please wait a second…', 'ended_on': 'transmission successful', 'duration': 412.71999999997206, 'time_run': 538905, 'time_render': 538906.12, 'time_show': 538922.28, 'time_end': 539335, 'time_commit': 539336, 'timestamp': '2021-07-19T06:43:17.463Z', 'time_switch': 539354.02}",
            "count": 1
           },
           {
            "name": "303 others",
            "count": 303
           }
          ]
         }
        },
        {
         "name": 104,
         "dtype": "object",
         "stats": {
          "unique_count": 306,
          "nan_count": 0,
          "categories": [
           {
            "name": "{'sender': 'Trial', 'sender_type': 'flow.Sequence', 'sender_id': '8_16', 'a': 'web4start.png', 'b': 'web4b.png', 'ended_on': 'completion', 'duration': 7133.319999999949, 'time_run': 734617, 'time_render': 734616.44, 'time_show': 734629.68, 'time_end': 741763, 'time_commit': 741763, 'timestamp': '2021-07-18T04:44:57.878Z', 'time_switch': 741779.62}",
            "count": 2
           },
           {
            "name": "{'sender': 'Trial', 'sender_type': 'flow.Sequence', 'sender_id': '8_16', 'a': 'web14start.png', 'b': 'web14b.png', 'ended_on': 'completion', 'duration': 10984.819999999949, 'time_run': 528334, 'time_render': 528334.06, 'time_show': 528350.18, 'time_end': 539335, 'time_commit': 539337, 'timestamp': '2021-07-19T06:43:17.464Z', 'time_switch': 539354.02}",
            "count": 1
           },
           {
            "name": "303 others",
            "count": 303
           }
          ]
         }
        },
        {
         "name": 105,
         "dtype": "object",
         "stats": {
          "unique_count": 306,
          "nan_count": 0,
          "categories": [
           {
            "name": "{'sender': 'Fixation Cross', 'sender_type': 'html.Screen', 'sender_id': '8_17_0', 'a': 'web11start.png', 'b': 'web11b.png', 'ended_on': 'timeout', 'duration': 1000, 'time_run': 741763, 'time_render': 741763.32, 'time_show': 741779.62, 'time_end': 742762.96, 'time_commit': 742763, 'timestamp': '2021-07-18T04:44:58.879Z', 'time_switch': 742779.62}",
            "count": 2
           },
           {
            "name": "{'sender': 'Fixation Cross', 'sender_type': 'html.Screen', 'sender_id': '8_17_0', 'a': 'web10start.png', 'b': 'web10b.png', 'ended_on': 'timeout', 'duration': 994.4399999999441, 'time_run': 539338, 'time_render': 539337.88, 'time_show': 539354.02, 'time_end': 540332.26, 'time_commit': 540334, 'timestamp': '2021-07-19T06:43:18.460Z', 'time_switch': 540348.46}",
            "count": 1
           },
           {
            "name": "303 others",
            "count": 303
           }
          ]
         }
        },
        {
         "name": 106,
         "dtype": "object",
         "stats": {
          "unique_count": 306,
          "nan_count": 0,
          "categories": [
           {
            "name": "{'sender': 'cf keyframe transitions', 'sender_type': 'html.Screen', 'sender_id': '8_17_1', 'a': 'web11start.png', 'b': 'web11b.png', 'fadeTime': 3037, 'response': 'pressed Space', 'ended_on': 'response', 'duration': 4684.380000000005, 'time_run': 742765, 'time_render': 742762.96, 'time_show': 742779.62, 'time_end': 747464, 'time_commit': 747464, 'timestamp': '2021-07-18T04:45:03.578Z', 'time_switch': 747479.64}",
            "count": 2
           },
           {
            "name": "{'sender': 'cf keyframe transitions', 'sender_type': 'html.Screen', 'sender_id': '8_17_1', 'a': 'web10start.png', 'b': 'web10b.png', 'fadeTime': 3175, 'response': 'pressed Space', 'ended_on': 'response', 'duration': 6163.540000000037, 'time_run': 540339, 'time_render': 540332.26, 'time_show': 540348.46, 'time_end': 546512, 'time_commit': 546513, 'timestamp': '2021-07-19T06:43:24.641Z', 'time_switch': 546530.9}",
            "count": 1
           },
           {
            "name": "303 others",
            "count": 303
           }
          ]
         }
        },
        {
         "name": 107,
         "dtype": "object",
         "stats": {
          "unique_count": 306,
          "nan_count": 0,
          "categories": [
           {
            "name": "{'sender': 'Did You Look At the Cross?', 'sender_type': 'html.Screen', 'sender_id': '8_17_2', 'a': 'web11start.png', 'b': 'web11b.png', 'response': 'continue', 'response_action': 'keypress(Space)', 'correctResponse': 'continue', 'correct': True, 'ended_on': 'response', 'duration': 868.359999999986, 'time_run': 747464, 'time_render': 747463.56, 'time_show': 747479.64, 'time_end': 748348, 'time_commit': 748348, 'timestamp': '2021-07-18T04:45:04.463Z', 'time_switch': 748362.96}",
            "count": 2
           },
           {
            "name": "{'sender': 'Did You Look At the Cross?', 'sender_type': 'html.Screen', 'sender_id': '8_17_2', 'a': 'web10start.png', 'b': 'web10b.png', 'response': 'continue', 'response_action': 'keypress(Space)', 'correctResponse': 'continue', 'correct': True, 'ended_on': 'response', 'duration': 1899.0999999999767, 'time_run': 546514, 'time_render': 546514.72, 'time_show': 546530.9, 'time_end': 548430, 'time_commit': 548435, 'timestamp': '2021-07-19T06:43:26.562Z', 'time_switch': 548451.52}",
            "count": 1
           },
           {
            "name": "303 others",
            "count": 303
           }
          ]
         }
        },
        {
         "name": 108,
         "dtype": "object",
         "stats": {
          "unique_count": 306,
          "nan_count": 0,
          "categories": [
           {
            "name": "{'sender': 'Data transmission (beta)', 'sender_type': 'html.Screen', 'sender_id': '8_17_3', 'a': 'web11start.png', 'b': 'web11b.png', 'message': 'Transferring data', 'subtitle': 'Please wait a second…', 'ended_on': 'transmission successful', 'duration': 237.04000000003725, 'time_run': 748348, 'time_render': 748348.18, 'time_show': 748362.96, 'time_end': 748600, 'time_commit': 748601, 'timestamp': '2021-07-18T04:45:04.716Z', 'time_switch': 748612.96}",
            "count": 2
           },
           {
            "name": "{'sender': 'Data transmission (beta)', 'sender_type': 'html.Screen', 'sender_id': '8_17_3', 'a': 'web10start.png', 'b': 'web10b.png', 'message': 'Transferring data', 'subtitle': 'Please wait a second…', 'ended_on': 'transmission successful', 'duration': 439.4799999999814, 'time_run': 548435, 'time_render': 548435.4, 'time_show': 548451.52, 'time_end': 548891, 'time_commit': 548891, 'timestamp': '2021-07-19T06:43:27.018Z', 'time_switch': 548909.26}",
            "count": 1
           },
           {
            "name": "303 others",
            "count": 303
           }
          ]
         }
        },
        {
         "name": 109,
         "dtype": "object",
         "stats": {
          "unique_count": 306,
          "nan_count": 0,
          "categories": [
           {
            "name": "{'sender': 'Trial', 'sender_type': 'flow.Sequence', 'sender_id': '8_17', 'a': 'web11start.png', 'b': 'web11b.png', 'ended_on': 'completion', 'duration': 6820.380000000005, 'time_run': 741763, 'time_render': 741763.32, 'time_show': 741779.62, 'time_end': 748600, 'time_commit': 748601, 'timestamp': '2021-07-18T04:45:04.716Z', 'time_switch': 748612.96}",
            "count": 2
           },
           {
            "name": "{'sender': 'Trial', 'sender_type': 'flow.Sequence', 'sender_id': '8_17', 'a': 'web10start.png', 'b': 'web10b.png', 'ended_on': 'completion', 'duration': 9536.979999999981, 'time_run': 539338, 'time_render': 539337.88, 'time_show': 539354.02, 'time_end': 548891, 'time_commit': 548892, 'timestamp': '2021-07-19T06:43:27.019Z', 'time_switch': 548909.26}",
            "count": 1
           },
           {
            "name": "303 others",
            "count": 303
           }
          ]
         }
        },
        {
         "name": 110,
         "dtype": "object",
         "stats": {
          "unique_count": 306,
          "nan_count": 0,
          "categories": [
           {
            "name": "{'sender': 'Fixation Cross', 'sender_type': 'html.Screen', 'sender_id': '8_18_0', 'a': 'web14start.png', 'b': 'web14a.png', 'ended_on': 'timeout', 'duration': 1000.0400000000373, 'time_run': 748601, 'time_render': 748601.34, 'time_show': 748612.96, 'time_end': 749596.38, 'time_commit': 749597, 'timestamp': '2021-07-18T04:45:05.712Z', 'time_switch': 749613}",
            "count": 2
           },
           {
            "name": "{'sender': 'Fixation Cross', 'sender_type': 'html.Screen', 'sender_id': '8_18_0', 'a': 'web9start.png', 'b': 'web9b.png', 'ended_on': 'timeout', 'duration': 994.5, 'time_run': 548893, 'time_render': 548893.14, 'time_show': 548909.26, 'time_end': 549886.54, 'time_commit': 549888, 'timestamp': '2021-07-19T06:43:28.015Z', 'time_switch': 549903.76}",
            "count": 1
           },
           {
            "name": "303 others",
            "count": 303
           }
          ]
         }
        },
        {
         "name": 111,
         "dtype": "object",
         "stats": {
          "unique_count": 306,
          "nan_count": 0,
          "categories": [
           {
            "name": "{'sender': 'cf keyframe transitions', 'sender_type': 'html.Screen', 'sender_id': '8_18_1', 'a': 'web14start.png', 'b': 'web14a.png', 'fadeTime': 3147, 'response': 'pressed Space', 'ended_on': 'response', 'duration': 4767, 'time_run': 749600, 'time_render': 749596.38, 'time_show': 749613, 'time_end': 754380, 'time_commit': 754381, 'timestamp': '2021-07-18T04:45:10.496Z', 'time_switch': 754396.3}",
            "count": 2
           },
           {
            "name": "{'sender': 'cf keyframe transitions', 'sender_type': 'html.Screen', 'sender_id': '8_18_1', 'a': 'web9start.png', 'b': 'web9b.png', 'fadeTime': 3352, 'response': 'pressed Space', 'ended_on': 'response', 'duration': 4907.239999999991, 'time_run': 549895, 'time_render': 549886.54, 'time_show': 549903.76, 'time_end': 554811, 'time_commit': 554812, 'timestamp': '2021-07-19T06:43:32.939Z', 'time_switch': 554828.84}",
            "count": 1
           },
           {
            "name": "303 others",
            "count": 303
           }
          ]
         }
        },
        {
         "name": 112,
         "dtype": "object",
         "stats": {
          "unique_count": 306,
          "nan_count": 0,
          "categories": [
           {
            "name": "{'sender': 'Did You Look At the Cross?', 'sender_type': 'html.Screen', 'sender_id': '8_18_2', 'a': 'web14start.png', 'b': 'web14a.png', 'response': 'continue', 'response_action': 'keypress(Space)', 'correctResponse': 'continue', 'correct': True, 'ended_on': 'response', 'duration': 728.6999999999534, 'time_run': 754381, 'time_render': 754381.26, 'time_show': 754396.3, 'time_end': 755125, 'time_commit': 755126, 'timestamp': '2021-07-18T04:45:11.241Z', 'time_switch': 755129.64}",
            "count": 2
           },
           {
            "name": "{'sender': 'Did You Look At the Cross?', 'sender_type': 'html.Screen', 'sender_id': '8_18_2', 'a': 'web9start.png', 'b': 'web9b.png', 'response': 'Looked_Away', 'response_action': 'keypress(q)', 'correctResponse': 'continue', 'correct': False, 'ended_on': 'response', 'duration': 2175.1600000000326, 'time_run': 554812, 'time_render': 554812.68, 'time_show': 554828.84, 'time_end': 557004, 'time_commit': 557009, 'timestamp': '2021-07-19T06:43:35.136Z', 'time_switch': 557025.82}",
            "count": 1
           },
           {
            "name": "303 others",
            "count": 303
           }
          ]
         }
        },
        {
         "name": 113,
         "dtype": "object",
         "stats": {
          "unique_count": 306,
          "nan_count": 0,
          "categories": [
           {
            "name": "{'sender': 'Data transmission (beta)', 'sender_type': 'html.Screen', 'sender_id': '8_18_3', 'a': 'web14start.png', 'b': 'web14a.png', 'message': 'Transferring data', 'subtitle': 'Please wait a second…', 'ended_on': 'transmission successful', 'duration': 260.35999999998603, 'time_run': 755126, 'time_render': 755126.62, 'time_show': 755129.64, 'time_end': 755390, 'time_commit': 755390, 'timestamp': '2021-07-18T04:45:11.504Z', 'time_switch': 755396.32}",
            "count": 2
           },
           {
            "name": "{'sender': 'Data transmission (beta)', 'sender_type': 'html.Screen', 'sender_id': '8_18_3', 'a': 'web9start.png', 'b': 'web9b.png', 'message': 'Transferring data', 'subtitle': 'Please wait a second…', 'ended_on': 'transmission successful', 'duration': 591.1800000000512, 'time_run': 557009, 'time_render': 557009.7, 'time_show': 557025.82, 'time_end': 557617, 'time_commit': 557618, 'timestamp': '2021-07-19T06:43:35.746Z', 'time_switch': 557636.22}",
            "count": 1
           },
           {
            "name": "303 others",
            "count": 303
           }
          ]
         }
        },
        {
         "name": 114,
         "dtype": "object",
         "stats": {
          "unique_count": 306,
          "nan_count": 0,
          "categories": [
           {
            "name": "{'sender': 'Trial', 'sender_type': 'flow.Sequence', 'sender_id': '8_18', 'a': 'web14start.png', 'b': 'web14a.png', 'ended_on': 'completion', 'duration': 6777.040000000037, 'time_run': 748601, 'time_render': 748601.34, 'time_show': 748612.96, 'time_end': 755390, 'time_commit': 755390, 'timestamp': '2021-07-18T04:45:11.505Z', 'time_switch': 755396.32}",
            "count": 2
           },
           {
            "name": "{'sender': 'Trial', 'sender_type': 'flow.Sequence', 'sender_id': '8_18', 'a': 'web9start.png', 'b': 'web9b.png', 'ended_on': 'completion', 'duration': 8707.73999999999, 'time_run': 548893, 'time_render': 548893.14, 'time_show': 548909.26, 'time_end': 557617, 'time_commit': 557618, 'timestamp': '2021-07-19T06:43:35.746Z', 'time_switch': 557636.22}",
            "count": 1
           },
           {
            "name": "303 others",
            "count": 303
           }
          ]
         }
        },
        {
         "name": 115,
         "dtype": "object",
         "stats": {
          "unique_count": 306,
          "nan_count": 0,
          "categories": [
           {
            "name": "{'sender': 'Fixation Cross', 'sender_type': 'html.Screen', 'sender_id': '8_19_0', 'a': 'web5start.png', 'b': 'web5b.png', 'ended_on': 'timeout', 'duration': 1000.0200000000186, 'time_run': 755390, 'time_render': 755390.08, 'time_show': 755396.32, 'time_end': 756379.66, 'time_commit': 756380, 'timestamp': '2021-07-18T04:45:12.495Z', 'time_switch': 756396.34}",
            "count": 2
           },
           {
            "name": "{'sender': 'Fixation Cross', 'sender_type': 'html.Screen', 'sender_id': '8_19_0', 'a': 'web12start.png', 'b': 'web12b.png', 'ended_on': 'timeout', 'duration': 994.859999999986, 'time_run': 557620, 'time_render': 557620.08, 'time_show': 557636.22, 'time_end': 558613.88, 'time_commit': 558615, 'timestamp': '2021-07-19T06:43:36.743Z', 'time_switch': 558631.08}",
            "count": 1
           },
           {
            "name": "303 others",
            "count": 303
           }
          ]
         }
        },
        {
         "name": 116,
         "dtype": "object",
         "stats": {
          "unique_count": 306,
          "nan_count": 0,
          "categories": [
           {
            "name": "{'sender': 'cf keyframe transitions', 'sender_type': 'html.Screen', 'sender_id': '8_19_1', 'a': 'web5start.png', 'b': 'web5b.png', 'fadeTime': 3867, 'response': 'pressed Space', 'ended_on': 'response', 'duration': 9612.660000000033, 'time_run': 756383, 'time_render': 756379.66, 'time_show': 756396.34, 'time_end': 766009, 'time_commit': 766009, 'timestamp': '2021-07-18T04:45:22.124Z', 'time_switch': 766013}",
            "count": 2
           },
           {
            "name": "{'sender': 'cf keyframe transitions', 'sender_type': 'html.Screen', 'sender_id': '8_19_1', 'a': 'web12start.png', 'b': 'web12b.png', 'fadeTime': 3834, 'response': 'pressed Space', 'ended_on': 'response', 'duration': 4467.920000000042, 'time_run': 558624, 'time_render': 558613.88, 'time_show': 558631.08, 'time_end': 563099, 'time_commit': 563100, 'timestamp': '2021-07-19T06:43:41.227Z', 'time_switch': 563117.46}",
            "count": 1
           },
           {
            "name": "303 others",
            "count": 303
           }
          ]
         }
        },
        {
         "name": 117,
         "dtype": "object",
         "stats": {
          "unique_count": 306,
          "nan_count": 0,
          "categories": [
           {
            "name": "{'sender': 'Did You Look At the Cross?', 'sender_type': 'html.Screen', 'sender_id': '8_19_2', 'a': 'web5start.png', 'b': 'web5b.png', 'response': 'continue', 'response_action': 'keypress(Space)', 'correctResponse': 'continue', 'correct': True, 'ended_on': 'response', 'duration': 921, 'time_run': 766009, 'time_render': 766008.82, 'time_show': 766013, 'time_end': 766934, 'time_commit': 766934, 'timestamp': '2021-07-18T04:45:23.049Z', 'time_switch': 766946.34}",
            "count": 2
           },
           {
            "name": "{'sender': 'Did You Look At the Cross?', 'sender_type': 'html.Screen', 'sender_id': '8_19_2', 'a': 'web12start.png', 'b': 'web12b.png', 'response': 'continue', 'response_action': 'keypress(Space)', 'correctResponse': 'continue', 'correct': True, 'ended_on': 'response', 'duration': 1716.5400000000373, 'time_run': 563101, 'time_render': 563101.34, 'time_show': 563117.46, 'time_end': 564834, 'time_commit': 564839, 'timestamp': '2021-07-19T06:43:42.967Z', 'time_switch': 564856.38}",
            "count": 1
           },
           {
            "name": "303 others",
            "count": 303
           }
          ]
         }
        },
        {
         "name": 118,
         "dtype": "object",
         "stats": {
          "unique_count": 306,
          "nan_count": 0,
          "categories": [
           {
            "name": "{'sender': 'Data transmission (beta)', 'sender_type': 'html.Screen', 'sender_id': '8_19_3', 'a': 'web5start.png', 'b': 'web5b.png', 'message': 'Transferring data', 'subtitle': 'Please wait a second…', 'ended_on': 'transmission successful', 'duration': 259.6600000000326, 'time_run': 766934, 'time_render': 766934.38, 'time_show': 766946.34, 'time_end': 767206, 'time_commit': 767207, 'timestamp': '2021-07-18T04:45:23.321Z', 'time_switch': 767213}",
            "count": 2
           },
           {
            "name": "{'sender': 'Data transmission (beta)', 'sender_type': 'html.Screen', 'sender_id': '8_19_3', 'a': 'web12start.png', 'b': 'web12b.png', 'message': 'Transferring data', 'subtitle': 'Please wait a second…', 'ended_on': 'transmission successful', 'duration': 600.6199999999953, 'time_run': 564839, 'time_render': 564840.24, 'time_show': 564856.38, 'time_end': 565457, 'time_commit': 565458, 'timestamp': '2021-07-19T06:43:43.585Z', 'time_switch': 565475.92}",
            "count": 1
           },
           {
            "name": "303 others",
            "count": 303
           }
          ]
         }
        },
        {
         "name": 119,
         "dtype": "object",
         "stats": {
          "unique_count": 306,
          "nan_count": 0,
          "categories": [
           {
            "name": "{'sender': 'Trial', 'sender_type': 'flow.Sequence', 'sender_id': '8_19', 'a': 'web5start.png', 'b': 'web5b.png', 'ended_on': 'completion', 'duration': 11809.680000000051, 'time_run': 755390, 'time_render': 755390.08, 'time_show': 755396.32, 'time_end': 767206, 'time_commit': 767207, 'timestamp': '2021-07-18T04:45:23.322Z', 'time_switch': 767213}",
            "count": 2
           },
           {
            "name": "{'sender': 'Trial', 'sender_type': 'flow.Sequence', 'sender_id': '8_19', 'a': 'web12start.png', 'b': 'web12b.png', 'ended_on': 'completion', 'duration': 7820.780000000028, 'time_run': 557620, 'time_render': 557620.08, 'time_show': 557636.22, 'time_end': 565457, 'time_commit': 565458, 'timestamp': '2021-07-19T06:43:43.586Z', 'time_switch': 565475.92}",
            "count": 1
           },
           {
            "name": "303 others",
            "count": 303
           }
          ]
         }
        },
        {
         "name": 120,
         "dtype": "object",
         "stats": {
          "unique_count": 306,
          "nan_count": 0,
          "categories": [
           {
            "name": "{'sender': 'Fixation Cross', 'sender_type': 'html.Screen', 'sender_id': '8_20_0', 'a': 'web4start.png', 'b': 'web4a.png', 'ended_on': 'timeout', 'duration': 1000.0400000000373, 'time_run': 767207, 'time_render': 767206.94, 'time_show': 767213, 'time_end': 768196.38, 'time_commit': 768197, 'timestamp': '2021-07-18T04:45:24.312Z', 'time_switch': 768213.04}",
            "count": 2
           },
           {
            "name": "{'sender': 'Fixation Cross', 'sender_type': 'html.Screen', 'sender_id': '8_20_0', 'a': 'web7start.png', 'b': 'web7a.png', 'ended_on': 'timeout', 'duration': 993.859999999986, 'time_run': 565459, 'time_render': 565459.74, 'time_show': 565475.92, 'time_end': 566452.68, 'time_commit': 566454, 'timestamp': '2021-07-19T06:43:44.581Z', 'time_switch': 566469.78}",
            "count": 1
           },
           {
            "name": "303 others",
            "count": 303
           }
          ]
         }
        },
        {
         "name": 121,
         "dtype": "object",
         "stats": {
          "unique_count": 306,
          "nan_count": 0,
          "categories": [
           {
            "name": "{'sender': 'cf keyframe transitions', 'sender_type': 'html.Screen', 'sender_id': '8_20_1', 'a': 'web4start.png', 'b': 'web4a.png', 'fadeTime': 3071, 'ended_on': 'timeout', 'duration': 20000.03999999992, 'time_run': 768199, 'time_render': 768196.38, 'time_show': 768213.04, 'time_end': 788196.36, 'time_commit': 788197, 'timestamp': '2021-07-18T04:45:44.312Z', 'time_switch': 788213.08}",
            "count": 2
           },
           {
            "name": "{'sender': 'cf keyframe transitions', 'sender_type': 'html.Screen', 'sender_id': '8_20_1', 'a': 'web7start.png', 'b': 'web7a.png', 'fadeTime': 3263, 'ended_on': 'timeout', 'duration': 20005.5, 'time_run': 566461, 'time_render': 566452.68, 'time_show': 566469.78, 'time_end': 586458.12, 'time_commit': 586460, 'timestamp': '2021-07-19T06:44:04.588Z', 'time_switch': 586475.28}",
            "count": 1
           },
           {
            "name": "303 others",
            "count": 303
           }
          ]
         }
        },
        {
         "name": 122,
         "dtype": "object",
         "stats": {
          "unique_count": 306,
          "nan_count": 0,
          "categories": [
           {
            "name": "{'sender': 'Did You Look At the Cross?', 'sender_type': 'html.Screen', 'sender_id': '8_20_2', 'a': 'web4start.png', 'b': 'web4a.png', 'response': 'continue', 'response_action': 'keypress(Space)', 'correctResponse': 'continue', 'correct': True, 'ended_on': 'response', 'duration': 1480.920000000042, 'time_run': 788197, 'time_render': 788196.36, 'time_show': 788213.08, 'time_end': 789694, 'time_commit': 789694, 'timestamp': '2021-07-18T04:45:45.809Z', 'time_switch': 789696.48}",
            "count": 2
           },
           {
            "name": "{'sender': 'Did You Look At the Cross?', 'sender_type': 'html.Screen', 'sender_id': '8_20_2', 'a': 'web7start.png', 'b': 'web7a.png', 'response': 'Looked_Away', 'response_action': 'keypress(q)', 'correctResponse': 'continue', 'correct': False, 'ended_on': 'response', 'duration': 765.7199999999721, 'time_run': 586461, 'time_render': 586458.12, 'time_show': 586475.28, 'time_end': 587241, 'time_commit': 587246, 'timestamp': '2021-07-19T06:44:05.373Z', 'time_switch': 587263.2}",
            "count": 1
           },
           {
            "name": "303 others",
            "count": 303
           }
          ]
         }
        },
        {
         "name": 123,
         "dtype": "object",
         "stats": {
          "unique_count": 306,
          "nan_count": 0,
          "categories": [
           {
            "name": "{'sender': 'Data transmission (beta)', 'sender_type': 'html.Screen', 'sender_id': '8_20_3', 'a': 'web4start.png', 'b': 'web4a.png', 'message': 'Transferring data', 'subtitle': 'Please wait a second…', 'ended_on': 'transmission successful', 'duration': 277.5200000000186, 'time_run': 789694, 'time_render': 789694.16, 'time_show': 789696.48, 'time_end': 789974, 'time_commit': 789974, 'timestamp': '2021-07-18T04:45:46.090Z', 'time_switch': 789979.68}",
            "count": 2
           },
           {
            "name": "{'sender': 'Data transmission (beta)', 'sender_type': 'html.Screen', 'sender_id': '8_20_3', 'a': 'web7start.png', 'b': 'web7a.png', 'message': 'Transferring data', 'subtitle': 'Please wait a second…', 'ended_on': 'transmission successful', 'duration': 601.8000000000466, 'time_run': 587246, 'time_render': 587247.08, 'time_show': 587263.2, 'time_end': 587865, 'time_commit': 587865, 'timestamp': '2021-07-19T06:44:05.992Z', 'time_switch': 587882.9}",
            "count": 1
           },
           {
            "name": "303 others",
            "count": 303
           }
          ]
         }
        },
        {
         "name": 124,
         "dtype": "object",
         "stats": {
          "unique_count": 306,
          "nan_count": 0,
          "categories": [
           {
            "name": "{'sender': 'Trial', 'sender_type': 'flow.Sequence', 'sender_id': '8_20', 'a': 'web4start.png', 'b': 'web4a.png', 'ended_on': 'completion', 'duration': 22761, 'time_run': 767207, 'time_render': 767206.94, 'time_show': 767213, 'time_end': 789974, 'time_commit': 789974, 'timestamp': '2021-07-18T04:45:46.090Z', 'time_switch': 789979.68}",
            "count": 2
           },
           {
            "name": "{'sender': 'Trial', 'sender_type': 'flow.Sequence', 'sender_id': '8_20', 'a': 'web7start.png', 'b': 'web7a.png', 'ended_on': 'completion', 'duration': 22389.079999999958, 'time_run': 565459, 'time_render': 565459.74, 'time_show': 565475.92, 'time_end': 587865, 'time_commit': 587866, 'timestamp': '2021-07-19T06:44:05.993Z', 'time_switch': 587882.9}",
            "count": 1
           },
           {
            "name": "303 others",
            "count": 303
           }
          ]
         }
        },
        {
         "name": 125,
         "dtype": "object",
         "stats": {
          "unique_count": 306,
          "nan_count": 0,
          "categories": [
           {
            "name": "{'sender': 'Fixation Cross', 'sender_type': 'html.Screen', 'sender_id': '8_21_0', 'a': 'web14start.png', 'b': 'web14b.png', 'ended_on': 'timeout', 'duration': 1000.0199999999022, 'time_run': 789974, 'time_render': 789974.82, 'time_show': 789979.68, 'time_end': 790963.04, 'time_commit': 790963, 'timestamp': '2021-07-18T04:45:47.078Z', 'time_switch': 790979.7}",
            "count": 2
           },
           {
            "name": "{'sender': 'Fixation Cross', 'sender_type': 'html.Screen', 'sender_id': '8_21_0', 'a': 'web14start.png', 'b': 'web14b.png', 'ended_on': 'timeout', 'duration': 993.6799999999348, 'time_run': 587866, 'time_render': 587866.78, 'time_show': 587882.9, 'time_end': 588859.38, 'time_commit': 588861, 'timestamp': '2021-07-19T06:44:06.988Z', 'time_switch': 588876.58}",
            "count": 1
           },
           {
            "name": "303 others",
            "count": 303
           }
          ]
         }
        },
        {
         "name": 126,
         "dtype": "object",
         "stats": {
          "unique_count": 306,
          "nan_count": 0,
          "categories": [
           {
            "name": "{'sender': 'cf keyframe transitions', 'sender_type': 'html.Screen', 'sender_id': '8_21_1', 'a': 'web14start.png', 'b': 'web14b.png', 'fadeTime': 3907, 'response': 'pressed Space', 'ended_on': 'response', 'duration': 4661.300000000047, 'time_run': 790966, 'time_render': 790963.04, 'time_show': 790979.7, 'time_end': 795641, 'time_commit': 795641, 'timestamp': '2021-07-18T04:45:51.756Z', 'time_switch': 795646.36}",
            "count": 2
           },
           {
            "name": "{'sender': 'cf keyframe transitions', 'sender_type': 'html.Screen', 'sender_id': '8_21_1', 'a': 'web14start.png', 'b': 'web14b.png', 'fadeTime': 3320, 'response': 'pressed Space', 'ended_on': 'response', 'duration': 4400.420000000042, 'time_run': 588871, 'time_render': 588859.38, 'time_show': 588876.58, 'time_end': 593277, 'time_commit': 593278, 'timestamp': '2021-07-19T06:44:11.405Z', 'time_switch': 593294.94}",
            "count": 1
           },
           {
            "name": "303 others",
            "count": 303
           }
          ]
         }
        },
        {
         "name": 127,
         "dtype": "object",
         "stats": {
          "unique_count": 306,
          "nan_count": 0,
          "categories": [
           {
            "name": "{'sender': 'Did You Look At the Cross?', 'sender_type': 'html.Screen', 'sender_id': '8_21_2', 'a': 'web14start.png', 'b': 'web14b.png', 'response': 'continue', 'response_action': 'keypress(Space)', 'correctResponse': 'continue', 'correct': True, 'ended_on': 'response', 'duration': 2488.640000000014, 'time_run': 795641, 'time_render': 795641, 'time_show': 795646.36, 'time_end': 798135, 'time_commit': 798135, 'timestamp': '2021-07-18T04:45:54.250Z', 'time_switch': 798146.36}",
            "count": 2
           },
           {
            "name": "{'sender': 'Did You Look At the Cross?', 'sender_type': 'html.Screen', 'sender_id': '8_21_2', 'a': 'web14start.png', 'b': 'web14b.png', 'response': 'continue', 'response_action': 'keypress(Space)', 'correctResponse': 'continue', 'correct': True, 'ended_on': 'response', 'duration': 1766.0600000000559, 'time_run': 593278, 'time_render': 593278.8, 'time_show': 593294.94, 'time_end': 595061, 'time_commit': 595065, 'timestamp': '2021-07-19T06:44:13.192Z', 'time_switch': 595081.74}",
            "count": 1
           },
           {
            "name": "303 others",
            "count": 303
           }
          ]
         }
        },
        {
         "name": 128,
         "dtype": "object",
         "stats": {
          "unique_count": 306,
          "nan_count": 1,
          "categories": [
           {
            "name": "{'sender': 'Data transmission (beta)', 'sender_type': 'html.Screen', 'sender_id': '8_21_3', 'a': 'web14start.png', 'b': 'web14b.png', 'message': 'Transferring data', 'subtitle': 'Please wait a second…', 'ended_on': 'transmission successful', 'duration': 274.64000000001397, 'time_run': 798135, 'time_render': 798135.18, 'time_show': 798146.36, 'time_end': 798421, 'time_commit': 798421, 'timestamp': '2021-07-18T04:45:54.536Z', 'time_switch': 798429.68}",
            "count": 2
           },
           {
            "name": "303 others",
            "count": 303
           },
           {
            "name": "Missing",
            "count": 1
           }
          ]
         }
        },
        {
         "name": 129,
         "dtype": "object",
         "stats": {
          "unique_count": 306,
          "nan_count": 1,
          "categories": [
           {
            "name": "{'sender': 'Trial', 'sender_type': 'flow.Sequence', 'sender_id': '8_21', 'a': 'web14start.png', 'b': 'web14b.png', 'ended_on': 'completion', 'duration': 8441.319999999949, 'time_run': 789974, 'time_render': 789974.82, 'time_show': 789979.68, 'time_end': 798421, 'time_commit': 798421, 'timestamp': '2021-07-18T04:45:54.537Z', 'time_switch': 798429.68}",
            "count": 2
           },
           {
            "name": "303 others",
            "count": 303
           },
           {
            "name": "Missing",
            "count": 1
           }
          ]
         }
        },
        {
         "name": 130,
         "dtype": "object",
         "stats": {
          "unique_count": 306,
          "nan_count": 1,
          "categories": [
           {
            "name": "{'sender': 'Fixation Cross', 'sender_type': 'html.Screen', 'sender_id': '8_22_0', 'a': 'web13start.png', 'b': 'web13b.png', 'ended_on': 'timeout', 'duration': 1000.0199999999022, 'time_run': 798421, 'time_render': 798421.7, 'time_show': 798429.68, 'time_end': 799413.04, 'time_commit': 799413, 'timestamp': '2021-07-18T04:45:55.529Z', 'time_switch': 799429.7}",
            "count": 2
           },
           {
            "name": "303 others",
            "count": 303
           },
           {
            "name": "Missing",
            "count": 1
           }
          ]
         }
        },
        {
         "name": 131,
         "dtype": "object",
         "stats": {
          "unique_count": 306,
          "nan_count": 1,
          "categories": [
           {
            "name": "{'sender': 'cf keyframe transitions', 'sender_type': 'html.Screen', 'sender_id': '8_22_1', 'a': 'web13start.png', 'b': 'web13b.png', 'fadeTime': 3839, 'response': 'pressed Space', 'ended_on': 'response', 'duration': 5201.300000000047, 'time_run': 799416, 'time_render': 799413.04, 'time_show': 799429.7, 'time_end': 804631, 'time_commit': 804631, 'timestamp': '2021-07-18T04:46:00.746Z', 'time_switch': 804646.38}",
            "count": 2
           },
           {
            "name": "303 others",
            "count": 303
           },
           {
            "name": "Missing",
            "count": 1
           }
          ]
         }
        },
        {
         "name": 132,
         "dtype": "object",
         "stats": {
          "unique_count": 306,
          "nan_count": 1,
          "categories": [
           {
            "name": "{'sender': 'Did You Look At the Cross?', 'sender_type': 'html.Screen', 'sender_id': '8_22_2', 'a': 'web13start.png', 'b': 'web13b.png', 'response': 'continue', 'response_action': 'keypress(Space)', 'correctResponse': 'continue', 'correct': True, 'ended_on': 'response', 'duration': 1109.6199999999953, 'time_run': 804631, 'time_render': 804630.9, 'time_show': 804646.38, 'time_end': 805756, 'time_commit': 805757, 'timestamp': '2021-07-18T04:46:01.873Z', 'time_switch': 805763.02}",
            "count": 2
           },
           {
            "name": "303 others",
            "count": 303
           },
           {
            "name": "Missing",
            "count": 1
           }
          ]
         }
        },
        {
         "name": 133,
         "dtype": "object",
         "stats": {
          "unique_count": 306,
          "nan_count": 1,
          "categories": [
           {
            "name": "{'sender': 'Data transmission (beta)', 'sender_type': 'html.Screen', 'sender_id': '8_22_3', 'a': 'web13start.png', 'b': 'web13b.png', 'message': 'Transferring data', 'subtitle': 'Please wait a second…', 'ended_on': 'transmission successful', 'duration': 293.9799999999814, 'time_run': 805757, 'time_render': 805757.18, 'time_show': 805763.02, 'time_end': 806057, 'time_commit': 806057, 'timestamp': '2021-07-18T04:46:02.173Z', 'time_switch': 806063.04}",
            "count": 2
           },
           {
            "name": "303 others",
            "count": 303
           },
           {
            "name": "Missing",
            "count": 1
           }
          ]
         }
        },
        {
         "name": 134,
         "dtype": "object",
         "stats": {
          "unique_count": 306,
          "nan_count": 1,
          "categories": [
           {
            "name": "{'sender': 'Trial', 'sender_type': 'flow.Sequence', 'sender_id': '8_22', 'a': 'web13start.png', 'b': 'web13b.png', 'ended_on': 'completion', 'duration': 7627.319999999949, 'time_run': 798421, 'time_render': 798421.7, 'time_show': 798429.68, 'time_end': 806057, 'time_commit': 806057, 'timestamp': '2021-07-18T04:46:02.173Z', 'time_switch': 806063.04}",
            "count": 2
           },
           {
            "name": "303 others",
            "count": 303
           },
           {
            "name": "Missing",
            "count": 1
           }
          ]
         }
        },
        {
         "name": 135,
         "dtype": "object",
         "stats": {
          "unique_count": 306,
          "nan_count": 1,
          "categories": [
           {
            "name": "{'sender': 'Fixation Cross', 'sender_type': 'html.Screen', 'sender_id': '8_23_0', 'a': 'web12start.png', 'b': 'web12b.png', 'ended_on': 'timeout', 'duration': 1000, 'time_run': 806057, 'time_render': 806057.76, 'time_show': 806063.04, 'time_end': 807046.38, 'time_commit': 807047, 'timestamp': '2021-07-18T04:46:03.162Z', 'time_switch': 807063.04}",
            "count": 2
           },
           {
            "name": "303 others",
            "count": 303
           },
           {
            "name": "Missing",
            "count": 1
           }
          ]
         }
        },
        {
         "name": 136,
         "dtype": "object",
         "stats": {
          "unique_count": 306,
          "nan_count": 1,
          "categories": [
           {
            "name": "{'sender': 'cf keyframe transitions', 'sender_type': 'html.Screen', 'sender_id': '8_23_1', 'a': 'web12start.png', 'b': 'web12b.png', 'fadeTime': 3982, 'response': 'pressed Space', 'ended_on': 'response', 'duration': 4250.959999999963, 'time_run': 807049, 'time_render': 807046.38, 'time_show': 807063.04, 'time_end': 811314, 'time_commit': 811314, 'timestamp': '2021-07-18T04:46:07.430Z', 'time_switch': 811329.76}",
            "count": 2
           },
           {
            "name": "303 others",
            "count": 303
           },
           {
            "name": "Missing",
            "count": 1
           }
          ]
         }
        },
        {
         "name": 137,
         "dtype": "object",
         "stats": {
          "unique_count": 306,
          "nan_count": 1,
          "categories": [
           {
            "name": "{'sender': 'Did You Look At the Cross?', 'sender_type': 'html.Screen', 'sender_id': '8_23_2', 'a': 'web12start.png', 'b': 'web12b.png', 'response': 'continue', 'response_action': 'keypress(Space)', 'correctResponse': 'continue', 'correct': True, 'ended_on': 'response', 'duration': 1045.2399999999907, 'time_run': 811315, 'time_render': 811315.04, 'time_show': 811329.76, 'time_end': 812375, 'time_commit': 812376, 'timestamp': '2021-07-18T04:46:08.491Z', 'time_switch': 812379.72}",
            "count": 2
           },
           {
            "name": "303 others",
            "count": 303
           },
           {
            "name": "Missing",
            "count": 1
           }
          ]
         }
        },
        {
         "name": 138,
         "dtype": "object",
         "stats": {
          "unique_count": 306,
          "nan_count": 1,
          "categories": [
           {
            "name": "{'sender': 'Data transmission (beta)', 'sender_type': 'html.Screen', 'sender_id': '8_23_3', 'a': 'web12start.png', 'b': 'web12b.png', 'message': 'Transferring data', 'subtitle': 'Please wait a second…', 'ended_on': 'transmission successful', 'duration': 303.28000000002794, 'time_run': 812376, 'time_render': 812375.72, 'time_show': 812379.72, 'time_end': 812683, 'time_commit': 812683, 'timestamp': '2021-07-18T04:46:08.798Z', 'time_switch': 812696.46}",
            "count": 2
           },
           {
            "name": "303 others",
            "count": 303
           },
           {
            "name": "Missing",
            "count": 1
           }
          ]
         }
        },
        {
         "name": 139,
         "dtype": "object",
         "stats": {
          "unique_count": 306,
          "nan_count": 1,
          "categories": [
           {
            "name": "{'sender': 'Trial', 'sender_type': 'flow.Sequence', 'sender_id': '8_23', 'a': 'web12start.png', 'b': 'web12b.png', 'ended_on': 'completion', 'duration': 6619.959999999963, 'time_run': 806057, 'time_render': 806057.76, 'time_show': 806063.04, 'time_end': 812683, 'time_commit': 812683, 'timestamp': '2021-07-18T04:46:08.798Z', 'time_switch': 812696.46}",
            "count": 2
           },
           {
            "name": "303 others",
            "count": 303
           },
           {
            "name": "Missing",
            "count": 1
           }
          ]
         }
        },
        {
         "name": 140,
         "dtype": "object",
         "stats": {
          "unique_count": 306,
          "nan_count": 1,
          "categories": [
           {
            "name": "{'sender': 'Fixation Cross', 'sender_type': 'html.Screen', 'sender_id': '8_24_0', 'a': 'web5start.png', 'b': 'web5b.png', 'ended_on': 'timeout', 'duration': 999.9200000000419, 'time_run': 812683, 'time_render': 812683.58, 'time_show': 812696.46, 'time_end': 813679.72, 'time_commit': 813680, 'timestamp': '2021-07-18T04:46:09.795Z', 'time_switch': 813696.38}",
            "count": 2
           },
           {
            "name": "303 others",
            "count": 303
           },
           {
            "name": "Missing",
            "count": 1
           }
          ]
         }
        },
        {
         "name": 141,
         "dtype": "object",
         "stats": {
          "unique_count": 306,
          "nan_count": 1,
          "categories": [
           {
            "name": "{'sender': 'cf keyframe transitions', 'sender_type': 'html.Screen', 'sender_id': '8_24_1', 'a': 'web5start.png', 'b': 'web5b.png', 'fadeTime': 3768, 'response': 'pressed Space', 'ended_on': 'response', 'duration': 4101.619999999995, 'time_run': 813682, 'time_render': 813679.72, 'time_show': 813696.38, 'time_end': 817798, 'time_commit': 817798, 'timestamp': '2021-07-18T04:46:13.913Z', 'time_switch': 817813.04}",
            "count": 2
           },
           {
            "name": "303 others",
            "count": 303
           },
           {
            "name": "Missing",
            "count": 1
           }
          ]
         }
        },
        {
         "name": 142,
         "dtype": "object",
         "stats": {
          "unique_count": 306,
          "nan_count": 1,
          "categories": [
           {
            "name": "{'sender': 'Did You Look At the Cross?', 'sender_type': 'html.Screen', 'sender_id': '8_24_2', 'a': 'web5start.png', 'b': 'web5b.png', 'response': 'continue', 'response_action': 'keypress(Space)', 'correctResponse': 'continue', 'correct': True, 'ended_on': 'response', 'duration': 639.9599999999627, 'time_run': 817798, 'time_render': 817798.48, 'time_show': 817813.04, 'time_end': 818453, 'time_commit': 818453, 'timestamp': '2021-07-18T04:46:14.569Z', 'time_switch': 818463.06}",
            "count": 2
           },
           {
            "name": "303 others",
            "count": 303
           },
           {
            "name": "Missing",
            "count": 1
           }
          ]
         }
        },
        {
         "name": 143,
         "dtype": "object",
         "stats": {
          "unique_count": 306,
          "nan_count": 1,
          "categories": [
           {
            "name": "{'sender': 'Data transmission (beta)', 'sender_type': 'html.Screen', 'sender_id': '8_24_3', 'a': 'web5start.png', 'b': 'web5b.png', 'message': 'Transferring data', 'subtitle': 'Please wait a second…', 'ended_on': 'transmission successful', 'duration': 307.9399999999441, 'time_run': 818453, 'time_render': 818453.7, 'time_show': 818463.06, 'time_end': 818771, 'time_commit': 818771, 'timestamp': '2021-07-18T04:46:14.886Z', 'time_switch': 818779.72}",
            "count": 2
           },
           {
            "name": "303 others",
            "count": 303
           },
           {
            "name": "Missing",
            "count": 1
           }
          ]
         }
        },
        {
         "name": 144,
         "dtype": "object",
         "stats": {
          "unique_count": 306,
          "nan_count": 1,
          "categories": [
           {
            "name": "{'sender': 'Trial', 'sender_type': 'flow.Sequence', 'sender_id': '8_24', 'a': 'web5start.png', 'b': 'web5b.png', 'ended_on': 'completion', 'duration': 6074.540000000037, 'time_run': 812683, 'time_render': 812683.58, 'time_show': 812696.46, 'time_end': 818771, 'time_commit': 818771, 'timestamp': '2021-07-18T04:46:14.886Z', 'time_switch': 818779.72}",
            "count": 2
           },
           {
            "name": "303 others",
            "count": 303
           },
           {
            "name": "Missing",
            "count": 1
           }
          ]
         }
        },
        {
         "name": 145,
         "dtype": "object",
         "stats": {
          "unique_count": 306,
          "nan_count": 1,
          "categories": [
           {
            "name": "{'sender': 'Fixation Cross', 'sender_type': 'html.Screen', 'sender_id': '8_25_0', 'a': 'web9start.png', 'b': 'web9b.png', 'ended_on': 'timeout', 'duration': 1000, 'time_run': 818771, 'time_render': 818771.56, 'time_show': 818779.72, 'time_end': 819763.04, 'time_commit': 819764, 'timestamp': '2021-07-18T04:46:15.879Z', 'time_switch': 819779.72}",
            "count": 2
           },
           {
            "name": "303 others",
            "count": 303
           },
           {
            "name": "Missing",
            "count": 1
           }
          ]
         }
        },
        {
         "name": 146,
         "dtype": "object",
         "stats": {
          "unique_count": 306,
          "nan_count": 1,
          "categories": [
           {
            "name": "{'sender': 'cf keyframe transitions', 'sender_type': 'html.Screen', 'sender_id': '8_25_1', 'a': 'web9start.png', 'b': 'web9b.png', 'fadeTime': 3541, 'response': 'pressed Space', 'ended_on': 'response', 'duration': 4296.280000000028, 'time_run': 819766, 'time_render': 819763.04, 'time_show': 819779.72, 'time_end': 824076, 'time_commit': 824077, 'timestamp': '2021-07-18T04:46:20.192Z', 'time_switch': 824079.74}",
            "count": 2
           },
           {
            "name": "303 others",
            "count": 303
           },
           {
            "name": "Missing",
            "count": 1
           }
          ]
         }
        },
        {
         "name": 147,
         "dtype": "object",
         "stats": {
          "unique_count": 306,
          "nan_count": 1,
          "categories": [
           {
            "name": "{'sender': 'Did You Look At the Cross?', 'sender_type': 'html.Screen', 'sender_id': '8_25_2', 'a': 'web9start.png', 'b': 'web9b.png', 'response': 'continue', 'response_action': 'keypress(Space)', 'correctResponse': 'continue', 'correct': True, 'ended_on': 'response', 'duration': 664.2600000000093, 'time_run': 824077, 'time_render': 824077.1, 'time_show': 824079.74, 'time_end': 824744, 'time_commit': 824744, 'timestamp': '2021-07-18T04:46:20.859Z', 'time_switch': 824746.38}",
            "count": 2
           },
           {
            "name": "303 others",
            "count": 303
           },
           {
            "name": "Missing",
            "count": 1
           }
          ]
         }
        },
        {
         "name": 148,
         "dtype": "object",
         "stats": {
          "unique_count": 306,
          "nan_count": 1,
          "categories": [
           {
            "name": "{'sender': 'Data transmission (beta)', 'sender_type': 'html.Screen', 'sender_id': '8_25_3', 'a': 'web9start.png', 'b': 'web9b.png', 'message': 'Transferring data', 'subtitle': 'Please wait a second…', 'ended_on': 'transmission successful', 'duration': 319.61999999999534, 'time_run': 824744, 'time_render': 824744.68, 'time_show': 824746.38, 'time_end': 825066, 'time_commit': 825066, 'timestamp': '2021-07-18T04:46:21.181Z', 'time_switch': 825079.72}",
            "count": 2
           },
           {
            "name": "303 others",
            "count": 303
           },
           {
            "name": "Missing",
            "count": 1
           }
          ]
         }
        },
        {
         "name": 149,
         "dtype": "object",
         "stats": {
          "unique_count": 306,
          "nan_count": 1,
          "categories": [
           {
            "name": "{'sender': 'Trial', 'sender_type': 'flow.Sequence', 'sender_id': '8_25', 'a': 'web9start.png', 'b': 'web9b.png', 'ended_on': 'completion', 'duration': 6286.280000000028, 'time_run': 818771, 'time_render': 818771.56, 'time_show': 818779.72, 'time_end': 825066, 'time_commit': 825067, 'timestamp': '2021-07-18T04:46:21.181Z', 'time_switch': 825079.72}",
            "count": 2
           },
           {
            "name": "303 others",
            "count": 303
           },
           {
            "name": "Missing",
            "count": 1
           }
          ]
         }
        },
        {
         "name": 150,
         "dtype": "object",
         "stats": {
          "unique_count": 306,
          "nan_count": 1,
          "categories": [
           {
            "name": "{'sender': 'Fixation Cross', 'sender_type': 'html.Screen', 'sender_id': '8_26_0', 'a': 'web13start.png', 'b': 'web13b.png', 'ended_on': 'timeout', 'duration': 1000.0200000000186, 'time_run': 825067, 'time_render': 825066.62, 'time_show': 825079.72, 'time_end': 826063.08, 'time_commit': 826064, 'timestamp': '2021-07-18T04:46:22.179Z', 'time_switch': 826079.74}",
            "count": 2
           },
           {
            "name": "303 others",
            "count": 303
           },
           {
            "name": "Missing",
            "count": 1
           }
          ]
         }
        },
        {
         "name": 151,
         "dtype": "object",
         "stats": {
          "unique_count": 306,
          "nan_count": 1,
          "categories": [
           {
            "name": "{'sender': 'cf keyframe transitions', 'sender_type': 'html.Screen', 'sender_id': '8_26_1', 'a': 'web13start.png', 'b': 'web13b.png', 'fadeTime': 3168, 'response': 'pressed Space', 'ended_on': 'response', 'duration': 4292.260000000009, 'time_run': 826066, 'time_render': 826063.08, 'time_show': 826079.74, 'time_end': 830372, 'time_commit': 830372, 'timestamp': '2021-07-18T04:46:26.487Z', 'time_switch': 830379.72}",
            "count": 2
           },
           {
            "name": "303 others",
            "count": 303
           },
           {
            "name": "Missing",
            "count": 1
           }
          ]
         }
        },
        {
         "name": 152,
         "dtype": "object",
         "stats": {
          "unique_count": 306,
          "nan_count": 1,
          "categories": [
           {
            "name": "{'sender': 'Did You Look At the Cross?', 'sender_type': 'html.Screen', 'sender_id': '8_26_2', 'a': 'web13start.png', 'b': 'web13b.png', 'response': 'continue', 'response_action': 'keypress(Space)', 'correctResponse': 'continue', 'correct': True, 'ended_on': 'response', 'duration': 401.28000000002794, 'time_run': 830372, 'time_render': 830372.1, 'time_show': 830379.72, 'time_end': 830781, 'time_commit': 830781, 'timestamp': '2021-07-18T04:46:26.896Z', 'time_switch': 830796.4}",
            "count": 2
           },
           {
            "name": "303 others",
            "count": 303
           },
           {
            "name": "Missing",
            "count": 1
           }
          ]
         }
        },
        {
         "name": 153,
         "dtype": "object",
         "stats": {
          "unique_count": 306,
          "nan_count": 1,
          "categories": [
           {
            "name": "{'sender': 'Data transmission (beta)', 'sender_type': 'html.Screen', 'sender_id': '8_26_3', 'a': 'web13start.png', 'b': 'web13b.png', 'message': 'Transferring data', 'subtitle': 'Please wait a second…', 'ended_on': 'transmission successful', 'duration': 318.5999999999767, 'time_run': 830781, 'time_render': 830781.66, 'time_show': 830796.4, 'time_end': 831115, 'time_commit': 831115, 'timestamp': '2021-07-18T04:46:27.230Z', 'time_switch': 831129.74}",
            "count": 2
           },
           {
            "name": "303 others",
            "count": 303
           },
           {
            "name": "Missing",
            "count": 1
           }
          ]
         }
        },
        {
         "name": 154,
         "dtype": "object",
         "stats": {
          "unique_count": 306,
          "nan_count": 1,
          "categories": [
           {
            "name": "{'sender': 'Trial', 'sender_type': 'flow.Sequence', 'sender_id': '8_26', 'a': 'web13start.png', 'b': 'web13b.png', 'ended_on': 'completion', 'duration': 6035.280000000028, 'time_run': 825067, 'time_render': 825066.62, 'time_show': 825079.72, 'time_end': 831115, 'time_commit': 831115, 'timestamp': '2021-07-18T04:46:27.230Z', 'time_switch': 831129.74}",
            "count": 2
           },
           {
            "name": "303 others",
            "count": 303
           },
           {
            "name": "Missing",
            "count": 1
           }
          ]
         }
        },
        {
         "name": 155,
         "dtype": "object",
         "stats": {
          "unique_count": 306,
          "nan_count": 1,
          "categories": [
           {
            "name": "{'sender': 'Fixation Cross', 'sender_type': 'html.Screen', 'sender_id': '8_27_0', 'a': 'web9start.png', 'b': 'web9a.png', 'ended_on': 'timeout', 'duration': 1000, 'time_run': 831115, 'time_render': 831115.08, 'time_show': 831129.74, 'time_end': 832113.06, 'time_commit': 832114, 'timestamp': '2021-07-18T04:46:28.229Z', 'time_switch': 832129.74}",
            "count": 2
           },
           {
            "name": "303 others",
            "count": 303
           },
           {
            "name": "Missing",
            "count": 1
           }
          ]
         }
        },
        {
         "name": 156,
         "dtype": "object",
         "stats": {
          "unique_count": 306,
          "nan_count": 1,
          "categories": [
           {
            "name": "{'sender': 'cf keyframe transitions', 'sender_type': 'html.Screen', 'sender_id': '8_27_1', 'a': 'web9start.png', 'b': 'web9a.png', 'fadeTime': 3808, 'ended_on': 'timeout', 'duration': 20000.02000000002, 'time_run': 832116, 'time_render': 832113.06, 'time_show': 832129.74, 'time_end': 852113.14, 'time_commit': 852114, 'timestamp': '2021-07-18T04:46:48.229Z', 'time_switch': 852129.76}",
            "count": 2
           },
           {
            "name": "303 others",
            "count": 303
           },
           {
            "name": "Missing",
            "count": 1
           }
          ]
         }
        },
        {
         "name": 157,
         "dtype": "object",
         "stats": {
          "unique_count": 306,
          "nan_count": 1,
          "categories": [
           {
            "name": "{'sender': 'Did You Look At the Cross?', 'sender_type': 'html.Screen', 'sender_id': '8_27_2', 'a': 'web9start.png', 'b': 'web9a.png', 'response': 'continue', 'response_action': 'keypress(Space)', 'correctResponse': 'continue', 'correct': True, 'ended_on': 'response', 'duration': 1808.2399999999907, 'time_run': 852114, 'time_render': 852113.14, 'time_show': 852129.76, 'time_end': 853938, 'time_commit': 853939, 'timestamp': '2021-07-18T04:46:50.054Z', 'time_switch': 853946.42}",
            "count": 2
           },
           {
            "name": "303 others",
            "count": 303
           },
           {
            "name": "Missing",
            "count": 1
           }
          ]
         }
        },
        {
         "name": 158,
         "dtype": "object",
         "stats": {
          "unique_count": 306,
          "nan_count": 1,
          "categories": [
           {
            "name": "{'sender': 'Data transmission (beta)', 'sender_type': 'html.Screen', 'sender_id': '8_27_3', 'a': 'web9start.png', 'b': 'web9a.png', 'message': 'Transferring data', 'subtitle': 'Please wait a second…', 'ended_on': 'transmission successful', 'duration': 334.5799999999581, 'time_run': 853939, 'time_render': 853938.78, 'time_show': 853946.42, 'time_end': 854281, 'time_commit': 854281, 'timestamp': '2021-07-18T04:46:50.396Z', 'time_switch': 854296.42}",
            "count": 2
           },
           {
            "name": "303 others",
            "count": 303
           },
           {
            "name": "Missing",
            "count": 1
           }
          ]
         }
        },
        {
         "name": 159,
         "dtype": "object",
         "stats": {
          "unique_count": 306,
          "nan_count": 1,
          "categories": [
           {
            "name": "{'sender': 'Trial', 'sender_type': 'flow.Sequence', 'sender_id': '8_27', 'a': 'web9start.png', 'b': 'web9a.png', 'ended_on': 'completion', 'duration': 23151.26000000001, 'time_run': 831115, 'time_render': 831115.08, 'time_show': 831129.74, 'time_end': 854281, 'time_commit': 854281, 'timestamp': '2021-07-18T04:46:50.396Z', 'time_switch': 854296.42}",
            "count": 2
           },
           {
            "name": "303 others",
            "count": 303
           },
           {
            "name": "Missing",
            "count": 1
           }
          ]
         }
        },
        {
         "name": 160,
         "dtype": "object",
         "stats": {
          "unique_count": 306,
          "nan_count": 1,
          "categories": [
           {
            "name": "{'sender': 'Fixation Cross', 'sender_type': 'html.Screen', 'sender_id': '8_28_0', 'a': 'web10start.png', 'b': 'web10b.png', 'ended_on': 'timeout', 'duration': 1000, 'time_run': 854282, 'time_render': 854281.64, 'time_show': 854296.42, 'time_end': 855279.78, 'time_commit': 855280, 'timestamp': '2021-07-18T04:46:51.395Z', 'time_switch': 855296.42}",
            "count": 2
           },
           {
            "name": "303 others",
            "count": 303
           },
           {
            "name": "Missing",
            "count": 1
           }
          ]
         }
        },
        {
         "name": 161,
         "dtype": "object",
         "stats": {
          "unique_count": 306,
          "nan_count": 1,
          "categories": [
           {
            "name": "{'sender': 'cf keyframe transitions', 'sender_type': 'html.Screen', 'sender_id': '8_28_1', 'a': 'web10start.png', 'b': 'web10b.png', 'fadeTime': 3727, 'response': 'pressed Space', 'ended_on': 'response', 'duration': 6583.579999999958, 'time_run': 855282, 'time_render': 855279.78, 'time_show': 855296.42, 'time_end': 861880, 'time_commit': 861880, 'timestamp': '2021-07-18T04:46:57.995Z', 'time_switch': 861896.44}",
            "count": 2
           },
           {
            "name": "303 others",
            "count": 303
           },
           {
            "name": "Missing",
            "count": 1
           }
          ]
         }
        },
        {
         "name": 162,
         "dtype": "object",
         "stats": {
          "unique_count": 306,
          "nan_count": 1,
          "categories": [
           {
            "name": "{'sender': 'Did You Look At the Cross?', 'sender_type': 'html.Screen', 'sender_id': '8_28_2', 'a': 'web10start.png', 'b': 'web10b.png', 'response': 'continue', 'response_action': 'keypress(Space)', 'correctResponse': 'continue', 'correct': True, 'ended_on': 'response', 'duration': 679.5600000000559, 'time_run': 861881, 'time_render': 861880.18, 'time_show': 861896.44, 'time_end': 862576, 'time_commit': 862576, 'timestamp': '2021-07-18T04:46:58.691Z', 'time_switch': 862579.78}",
            "count": 2
           },
           {
            "name": "303 others",
            "count": 303
           },
           {
            "name": "Missing",
            "count": 1
           }
          ]
         }
        },
        {
         "name": 163,
         "dtype": "object",
         "stats": {
          "unique_count": 306,
          "nan_count": 1,
          "categories": [
           {
            "name": "{'sender': 'Data transmission (beta)', 'sender_type': 'html.Screen', 'sender_id': '8_28_3', 'a': 'web10start.png', 'b': 'web10b.png', 'message': 'Transferring data', 'subtitle': 'Please wait a second…', 'ended_on': 'transmission successful', 'duration': 345.21999999997206, 'time_run': 862577, 'time_render': 862576.1, 'time_show': 862579.78, 'time_end': 862925, 'time_commit': 862925, 'timestamp': '2021-07-18T04:46:59.040Z', 'time_switch': 862929.76}",
            "count": 2
           },
           {
            "name": "303 others",
            "count": 303
           },
           {
            "name": "Missing",
            "count": 1
           }
          ]
         }
        },
        {
         "name": 164,
         "dtype": "object",
         "stats": {
          "unique_count": 306,
          "nan_count": 1,
          "categories": [
           {
            "name": "{'sender': 'Trial', 'sender_type': 'flow.Sequence', 'sender_id': '8_28', 'a': 'web10start.png', 'b': 'web10b.png', 'ended_on': 'completion', 'duration': 8628.579999999958, 'time_run': 854282, 'time_render': 854281.64, 'time_show': 854296.42, 'time_end': 862925, 'time_commit': 862925, 'timestamp': '2021-07-18T04:46:59.041Z', 'time_switch': 862929.76}",
            "count": 2
           },
           {
            "name": "303 others",
            "count": 303
           },
           {
            "name": "Missing",
            "count": 1
           }
          ]
         }
        },
        {
         "name": 165,
         "dtype": "object",
         "stats": {
          "unique_count": 306,
          "nan_count": 1,
          "categories": [
           {
            "name": "{'sender': 'Fixation Cross', 'sender_type': 'html.Screen', 'sender_id': '8_29_0', 'a': 'web10start.png', 'b': 'web10b.png', 'ended_on': 'timeout', 'duration': 1000.0200000000186, 'time_run': 862926, 'time_render': 862925.4, 'time_show': 862929.76, 'time_end': 863913.1, 'time_commit': 863914, 'timestamp': '2021-07-18T04:47:00.028Z', 'time_switch': 863929.78}",
            "count": 2
           },
           {
            "name": "303 others",
            "count": 303
           },
           {
            "name": "Missing",
            "count": 1
           }
          ]
         }
        },
        {
         "name": 166,
         "dtype": "object",
         "stats": {
          "unique_count": 306,
          "nan_count": 1,
          "categories": [
           {
            "name": "{'sender': 'cf keyframe transitions', 'sender_type': 'html.Screen', 'sender_id': '8_29_1', 'a': 'web10start.png', 'b': 'web10b.png', 'fadeTime': 3206, 'response': 'pressed Space', 'ended_on': 'response', 'duration': 4786.219999999972, 'time_run': 863916, 'time_render': 863913.1, 'time_show': 863929.78, 'time_end': 868716, 'time_commit': 868716, 'timestamp': '2021-07-18T04:47:04.831Z', 'time_switch': 868729.78}",
            "count": 2
           },
           {
            "name": "303 others",
            "count": 303
           },
           {
            "name": "Missing",
            "count": 1
           }
          ]
         }
        },
        {
         "name": 167,
         "dtype": "object",
         "stats": {
          "unique_count": 306,
          "nan_count": 1,
          "categories": [
           {
            "name": "{'sender': 'Did You Look At the Cross?', 'sender_type': 'html.Screen', 'sender_id': '8_29_2', 'a': 'web10start.png', 'b': 'web10b.png', 'response': 'continue', 'response_action': 'keypress(Space)', 'correctResponse': 'continue', 'correct': True, 'ended_on': 'response', 'duration': 562.2199999999721, 'time_run': 868716, 'time_render': 868715.88, 'time_show': 868729.78, 'time_end': 869292, 'time_commit': 869293, 'timestamp': '2021-07-18T04:47:05.408Z', 'time_switch': 869296.44}",
            "count": 2
           },
           {
            "name": "303 others",
            "count": 303
           },
           {
            "name": "Missing",
            "count": 1
           }
          ]
         }
        },
        {
         "name": 168,
         "dtype": "object",
         "stats": {
          "unique_count": 306,
          "nan_count": 1,
          "categories": [
           {
            "name": "{'sender': 'Data transmission (beta)', 'sender_type': 'html.Screen', 'sender_id': '8_29_3', 'a': 'web10start.png', 'b': 'web10b.png', 'message': 'Transferring data', 'subtitle': 'Please wait a second…', 'ended_on': 'transmission successful', 'duration': 360.5600000000559, 'time_run': 869293, 'time_render': 869293.24, 'time_show': 869296.44, 'time_end': 869657, 'time_commit': 869657, 'timestamp': '2021-07-18T04:47:05.773Z', 'time_switch': 869663.1}",
            "count": 2
           },
           {
            "name": "303 others",
            "count": 303
           },
           {
            "name": "Missing",
            "count": 1
           }
          ]
         }
        },
        {
         "name": 169,
         "dtype": "object",
         "stats": {
          "unique_count": 306,
          "nan_count": 1,
          "categories": [
           {
            "name": "{'sender': 'Trial', 'sender_type': 'flow.Sequence', 'sender_id': '8_29', 'a': 'web10start.png', 'b': 'web10b.png', 'ended_on': 'completion', 'duration': 6727.239999999991, 'time_run': 862926, 'time_render': 862925.4, 'time_show': 862929.76, 'time_end': 869657, 'time_commit': 869658, 'timestamp': '2021-07-18T04:47:05.773Z', 'time_switch': 869663.1}",
            "count": 2
           },
           {
            "name": "303 others",
            "count": 303
           },
           {
            "name": "Missing",
            "count": 1
           }
          ]
         }
        },
        {
         "name": 170,
         "dtype": "object",
         "stats": {
          "unique_count": 306,
          "nan_count": 1,
          "categories": [
           {
            "name": "{'sender': 'Fixation Cross', 'sender_type': 'html.Screen', 'sender_id': '8_30_0', 'a': 'web7start.png', 'b': 'web7a.png', 'ended_on': 'timeout', 'duration': 1000.0600000000559, 'time_run': 869658, 'time_render': 869657.78, 'time_show': 869663.1, 'time_end': 870646.46, 'time_commit': 870647, 'timestamp': '2021-07-18T04:47:06.762Z', 'time_switch': 870663.16}",
            "count": 2
           },
           {
            "name": "303 others",
            "count": 303
           },
           {
            "name": "Missing",
            "count": 1
           }
          ]
         }
        },
        {
         "name": 171,
         "dtype": "object",
         "stats": {
          "unique_count": 306,
          "nan_count": 1,
          "categories": [
           {
            "name": "{'sender': 'cf keyframe transitions', 'sender_type': 'html.Screen', 'sender_id': '8_30_1', 'a': 'web7start.png', 'b': 'web7a.png', 'fadeTime': 3054, 'ended_on': 'timeout', 'duration': 19999.97999999998, 'time_run': 870649, 'time_render': 870646.46, 'time_show': 870663.16, 'time_end': 890646.52, 'time_commit': 890647, 'timestamp': '2021-07-18T04:47:26.762Z', 'time_switch': 890663.14}",
            "count": 2
           },
           {
            "name": "303 others",
            "count": 303
           },
           {
            "name": "Missing",
            "count": 1
           }
          ]
         }
        },
        {
         "name": 172,
         "dtype": "object",
         "stats": {
          "unique_count": 306,
          "nan_count": 1,
          "categories": [
           {
            "name": "{'sender': 'Did You Look At the Cross?', 'sender_type': 'html.Screen', 'sender_id': '8_30_2', 'a': 'web7start.png', 'b': 'web7a.png', 'response': 'continue', 'response_action': 'keypress(Space)', 'correctResponse': 'continue', 'correct': True, 'ended_on': 'response', 'duration': 1204.859999999986, 'time_run': 890647, 'time_render': 890646.52, 'time_show': 890663.14, 'time_end': 891868, 'time_commit': 891868, 'timestamp': '2021-07-18T04:47:27.983Z', 'time_switch': 891879.82}",
            "count": 2
           },
           {
            "name": "303 others",
            "count": 303
           },
           {
            "name": "Missing",
            "count": 1
           }
          ]
         }
        },
        {
         "name": 173,
         "dtype": "object",
         "stats": {
          "unique_count": 306,
          "nan_count": 1,
          "categories": [
           {
            "name": "{'sender': 'Data transmission (beta)', 'sender_type': 'html.Screen', 'sender_id': '8_30_3', 'a': 'web7start.png', 'b': 'web7a.png', 'message': 'Transferring data', 'subtitle': 'Please wait a second…', 'ended_on': 'transmission successful', 'duration': 355.1800000000512, 'time_run': 891869, 'time_render': 891868.72, 'time_show': 891879.82, 'time_end': 892235, 'time_commit': 892235, 'timestamp': '2021-07-18T04:47:28.350Z', 'time_switch': 892246.46}",
            "count": 2
           },
           {
            "name": "303 others",
            "count": 303
           },
           {
            "name": "Missing",
            "count": 1
           }
          ]
         }
        },
        {
         "name": 174,
         "dtype": "object",
         "stats": {
          "unique_count": 306,
          "nan_count": 1,
          "categories": [
           {
            "name": "{'sender': 'Trial', 'sender_type': 'flow.Sequence', 'sender_id': '8_30', 'a': 'web7start.png', 'b': 'web7a.png', 'ended_on': 'completion', 'duration': 22571.900000000023, 'time_run': 869658, 'time_render': 869657.78, 'time_show': 869663.1, 'time_end': 892235, 'time_commit': 892235, 'timestamp': '2021-07-18T04:47:28.351Z', 'time_switch': 892246.46}",
            "count": 2
           },
           {
            "name": "303 others",
            "count": 303
           },
           {
            "name": "Missing",
            "count": 1
           }
          ]
         }
        },
        {
         "name": 175,
         "dtype": "object",
         "stats": {
          "unique_count": 306,
          "nan_count": 1,
          "categories": [
           {
            "name": "{'sender': 'Fixation Cross', 'sender_type': 'html.Screen', 'sender_id': '8_31_0', 'a': 'web10start.png', 'b': 'web10a.png', 'ended_on': 'timeout', 'duration': 1000.0200000000186, 'time_run': 892236, 'time_render': 892235.3, 'time_show': 892246.46, 'time_end': 893229.82, 'time_commit': 893230, 'timestamp': '2021-07-18T04:47:29.346Z', 'time_switch': 893246.48}",
            "count": 2
           },
           {
            "name": "303 others",
            "count": 303
           },
           {
            "name": "Missing",
            "count": 1
           }
          ]
         }
        },
        {
         "name": 176,
         "dtype": "object",
         "stats": {
          "unique_count": 306,
          "nan_count": 1,
          "categories": [
           {
            "name": "{'sender': 'cf keyframe transitions', 'sender_type': 'html.Screen', 'sender_id': '8_31_1', 'a': 'web10start.png', 'b': 'web10a.png', 'fadeTime': 3648, 'ended_on': 'timeout', 'duration': 20000, 'time_run': 893233, 'time_render': 893229.82, 'time_show': 893246.48, 'time_end': 913229.82, 'time_commit': 913230, 'timestamp': '2021-07-18T04:47:49.345Z', 'time_switch': 913246.48}",
            "count": 2
           },
           {
            "name": "303 others",
            "count": 303
           },
           {
            "name": "Missing",
            "count": 1
           }
          ]
         }
        },
        {
         "name": 177,
         "dtype": "object",
         "stats": {
          "unique_count": 306,
          "nan_count": 1,
          "categories": [
           {
            "name": "{'sender': 'Did You Look At the Cross?', 'sender_type': 'html.Screen', 'sender_id': '8_31_2', 'a': 'web10start.png', 'b': 'web10a.png', 'response': 'continue', 'response_action': 'keypress(Space)', 'correctResponse': 'continue', 'correct': True, 'ended_on': 'response', 'duration': 815.5200000000186, 'time_run': 913230, 'time_render': 913229.82, 'time_show': 913246.48, 'time_end': 914062, 'time_commit': 914063, 'timestamp': '2021-07-18T04:47:50.178Z', 'time_switch': 914079.82}",
            "count": 2
           },
           {
            "name": "303 others",
            "count": 303
           },
           {
            "name": "Missing",
            "count": 1
           }
          ]
         }
        },
        {
         "name": 178,
         "dtype": "object",
         "stats": {
          "unique_count": 306,
          "nan_count": 1,
          "categories": [
           {
            "name": "{'sender': 'Data transmission (beta)', 'sender_type': 'html.Screen', 'sender_id': '8_31_3', 'a': 'web10start.png', 'b': 'web10a.png', 'message': 'Transferring data', 'subtitle': 'Please wait a second…', 'ended_on': 'transmission successful', 'duration': 360.1800000000512, 'time_run': 914063, 'time_render': 914063.2, 'time_show': 914079.82, 'time_end': 914440, 'time_commit': 914440, 'timestamp': '2021-07-18T04:47:50.556Z', 'time_switch': 914446.48}",
            "count": 2
           },
           {
            "name": "303 others",
            "count": 303
           },
           {
            "name": "Missing",
            "count": 1
           }
          ]
         }
        },
        {
         "name": 179,
         "dtype": "object",
         "stats": {
          "unique_count": 306,
          "nan_count": 1,
          "categories": [
           {
            "name": "{'sender': 'Trial', 'sender_type': 'flow.Sequence', 'sender_id': '8_31', 'a': 'web10start.png', 'b': 'web10a.png', 'ended_on': 'completion', 'duration': 22193.540000000037, 'time_run': 892235, 'time_render': 892235.3, 'time_show': 892246.46, 'time_end': 914440, 'time_commit': 914441, 'timestamp': '2021-07-18T04:47:50.556Z', 'time_switch': 914446.48}",
            "count": 2
           },
           {
            "name": "303 others",
            "count": 303
           },
           {
            "name": "Missing",
            "count": 1
           }
          ]
         }
        },
        {
         "name": 180,
         "dtype": "object",
         "stats": {
          "unique_count": 306,
          "nan_count": 1,
          "categories": [
           {
            "name": "{'sender': 'Fixation Cross', 'sender_type': 'html.Screen', 'sender_id': '8_32_0', 'a': 'web11start.png', 'b': 'web11a.png', 'ended_on': 'timeout', 'duration': 1000.0200000000186, 'time_run': 914441, 'time_render': 914441.26, 'time_show': 914446.48, 'time_end': 915429.84, 'time_commit': 915430, 'timestamp': '2021-07-18T04:47:51.545Z', 'time_switch': 915446.5}",
            "count": 2
           },
           {
            "name": "303 others",
            "count": 303
           },
           {
            "name": "Missing",
            "count": 1
           }
          ]
         }
        },
        {
         "name": 181,
         "dtype": "object",
         "stats": {
          "unique_count": 306,
          "nan_count": 1,
          "categories": [
           {
            "name": "{'sender': 'cf keyframe transitions', 'sender_type': 'html.Screen', 'sender_id': '8_32_1', 'a': 'web11start.png', 'b': 'web11a.png', 'fadeTime': 3305, 'ended_on': 'timeout', 'duration': 20000.02000000002, 'time_run': 915433, 'time_render': 915429.84, 'time_show': 915446.5, 'time_end': 935429.84, 'time_commit': 935430, 'timestamp': '2021-07-18T04:48:11.546Z', 'time_switch': 935446.52}",
            "count": 2
           },
           {
            "name": "303 others",
            "count": 303
           },
           {
            "name": "Missing",
            "count": 1
           }
          ]
         }
        },
        {
         "name": 182,
         "dtype": "object",
         "stats": {
          "unique_count": 306,
          "nan_count": 1,
          "categories": [
           {
            "name": "{'sender': 'Did You Look At the Cross?', 'sender_type': 'html.Screen', 'sender_id': '8_32_2', 'a': 'web11start.png', 'b': 'web11a.png', 'response': 'continue', 'response_action': 'keypress(Space)', 'correctResponse': 'continue', 'correct': True, 'ended_on': 'response', 'duration': 1658.4799999999814, 'time_run': 935430, 'time_render': 935429.84, 'time_show': 935446.52, 'time_end': 937105, 'time_commit': 937106, 'timestamp': '2021-07-18T04:48:13.220Z', 'time_switch': 937113.2}",
            "count": 2
           },
           {
            "name": "303 others",
            "count": 303
           },
           {
            "name": "Missing",
            "count": 1
           }
          ]
         }
        },
        {
         "name": 183,
         "dtype": "object",
         "stats": {
          "unique_count": 306,
          "nan_count": 1,
          "categories": [
           {
            "name": "{'sender': 'Data transmission (beta)', 'sender_type': 'html.Screen', 'sender_id': '8_32_3', 'a': 'web11start.png', 'b': 'web11a.png', 'message': 'Transferring data', 'subtitle': 'Please wait a second…', 'ended_on': 'transmission successful', 'duration': 375.80000000004657, 'time_run': 937106, 'time_render': 937105.44, 'time_show': 937113.2, 'time_end': 937489, 'time_commit': 937490, 'timestamp': '2021-07-18T04:48:13.605Z', 'time_switch': 937496.52}",
            "count": 2
           },
           {
            "name": "303 others",
            "count": 303
           },
           {
            "name": "Missing",
            "count": 1
           }
          ]
         }
        },
        {
         "name": 184,
         "dtype": "object",
         "stats": {
          "unique_count": 306,
          "nan_count": 1,
          "categories": [
           {
            "name": "{'sender': 'Trial', 'sender_type': 'flow.Sequence', 'sender_id': '8_32', 'a': 'web11start.png', 'b': 'web11a.png', 'ended_on': 'completion', 'duration': 23042.52000000002, 'time_run': 914441, 'time_render': 914441.26, 'time_show': 914446.48, 'time_end': 937489, 'time_commit': 937490, 'timestamp': '2021-07-18T04:48:13.605Z', 'time_switch': 937496.52}",
            "count": 2
           },
           {
            "name": "303 others",
            "count": 303
           },
           {
            "name": "Missing",
            "count": 1
           }
          ]
         }
        },
        {
         "name": 185,
         "dtype": "object",
         "stats": {
          "unique_count": 306,
          "nan_count": 1,
          "categories": [
           {
            "name": "{'sender': 'Fixation Cross', 'sender_type': 'html.Screen', 'sender_id': '8_33_0', 'a': 'web11start.png', 'b': 'web11a.png', 'ended_on': 'timeout', 'duration': 1000.0200000000186, 'time_run': 937490, 'time_render': 937490.1, 'time_show': 937496.52, 'time_end': 938479.86, 'time_commit': 938480, 'timestamp': '2021-07-18T04:48:14.595Z', 'time_switch': 938496.54}",
            "count": 2
           },
           {
            "name": "303 others",
            "count": 303
           },
           {
            "name": "Missing",
            "count": 1
           }
          ]
         }
        },
        {
         "name": 186,
         "dtype": "object",
         "stats": {
          "unique_count": 306,
          "nan_count": 1,
          "categories": [
           {
            "name": "{'sender': 'cf keyframe transitions', 'sender_type': 'html.Screen', 'sender_id': '8_33_1', 'a': 'web11start.png', 'b': 'web11a.png', 'fadeTime': 3186, 'ended_on': 'timeout', 'duration': 20000.02000000002, 'time_run': 938483, 'time_render': 938479.86, 'time_show': 938496.54, 'time_end': 958479.9, 'time_commit': 958480, 'timestamp': '2021-07-18T04:48:34.596Z', 'time_switch': 958496.56}",
            "count": 2
           },
           {
            "name": "303 others",
            "count": 303
           },
           {
            "name": "Missing",
            "count": 1
           }
          ]
         }
        },
        {
         "name": 187,
         "dtype": "object",
         "stats": {
          "unique_count": 306,
          "nan_count": 1,
          "categories": [
           {
            "name": "{'sender': 'Did You Look At the Cross?', 'sender_type': 'html.Screen', 'sender_id': '8_33_2', 'a': 'web11start.png', 'b': 'web11a.png', 'response': 'continue', 'response_action': 'keypress(Space)', 'correctResponse': 'continue', 'correct': True, 'ended_on': 'response', 'duration': 2276.439999999944, 'time_run': 958480, 'time_render': 958479.9, 'time_show': 958496.56, 'time_end': 960773, 'time_commit': 960775, 'timestamp': '2021-07-18T04:48:36.889Z', 'time_switch': 960779.88}",
            "count": 2
           },
           {
            "name": "303 others",
            "count": 303
           },
           {
            "name": "Missing",
            "count": 1
           }
          ]
         }
        },
        {
         "name": 188,
         "dtype": "object",
         "stats": {
          "unique_count": 306,
          "nan_count": 1,
          "categories": [
           {
            "name": "{'sender': 'Data transmission (beta)', 'sender_type': 'html.Screen', 'sender_id': '8_33_3', 'a': 'web11start.png', 'b': 'web11a.png', 'message': 'Transferring data', 'subtitle': 'Please wait a second…', 'ended_on': 'transmission successful', 'duration': 387.11999999999534, 'time_run': 960775, 'time_render': 960774.28, 'time_show': 960779.88, 'time_end': 961167, 'time_commit': 961167, 'timestamp': '2021-07-18T04:48:37.283Z', 'time_switch': 961179.88}",
            "count": 2
           },
           {
            "name": "303 others",
            "count": 303
           },
           {
            "name": "Missing",
            "count": 1
           }
          ]
         }
        },
        {
         "name": 189,
         "dtype": "object",
         "stats": {
          "unique_count": 306,
          "nan_count": 1,
          "categories": [
           {
            "name": "{'sender': 'Trial', 'sender_type': 'flow.Sequence', 'sender_id': '8_33', 'a': 'web11start.png', 'b': 'web11a.png', 'ended_on': 'completion', 'duration': 23670.47999999998, 'time_run': 937490, 'time_render': 937490.1, 'time_show': 937496.52, 'time_end': 961167, 'time_commit': 961167, 'timestamp': '2021-07-18T04:48:37.283Z', 'time_switch': 961179.88}",
            "count": 2
           },
           {
            "name": "303 others",
            "count": 303
           },
           {
            "name": "Missing",
            "count": 1
           }
          ]
         }
        },
        {
         "name": 190,
         "dtype": "object",
         "stats": {
          "unique_count": 306,
          "nan_count": 1,
          "categories": [
           {
            "name": "{'sender': 'Fixation Cross', 'sender_type': 'html.Screen', 'sender_id': '8_34_0', 'a': 'web4start.png', 'b': 'web4b.png', 'ended_on': 'timeout', 'duration': 1000, 'time_run': 961168, 'time_render': 961167.7, 'time_show': 961179.88, 'time_end': 962163.2, 'time_commit': 962164, 'timestamp': '2021-07-18T04:48:38.279Z', 'time_switch': 962179.88}",
            "count": 2
           },
           {
            "name": "303 others",
            "count": 303
           },
           {
            "name": "Missing",
            "count": 1
           }
          ]
         }
        },
        {
         "name": 191,
         "dtype": "object",
         "stats": {
          "unique_count": 306,
          "nan_count": 1,
          "categories": [
           {
            "name": "{'sender': 'cf keyframe transitions', 'sender_type': 'html.Screen', 'sender_id': '8_34_1', 'a': 'web4start.png', 'b': 'web4b.png', 'fadeTime': 3090, 'response': 'pressed Space', 'ended_on': 'response', 'duration': 3766.1199999999953, 'time_run': 962166, 'time_render': 962163.2, 'time_show': 962179.88, 'time_end': 965946, 'time_commit': 965947, 'timestamp': '2021-07-18T04:48:42.062Z', 'time_switch': 965963.22}",
            "count": 2
           },
           {
            "name": "303 others",
            "count": 303
           },
           {
            "name": "Missing",
            "count": 1
           }
          ]
         }
        },
        {
         "name": 192,
         "dtype": "object",
         "stats": {
          "unique_count": 306,
          "nan_count": 1,
          "categories": [
           {
            "name": "{'sender': 'Did You Look At the Cross?', 'sender_type': 'html.Screen', 'sender_id': '8_34_2', 'a': 'web4start.png', 'b': 'web4b.png', 'response': 'continue', 'response_action': 'keypress(Space)', 'correctResponse': 'continue', 'correct': True, 'ended_on': 'response', 'duration': 477.78000000002794, 'time_run': 965947, 'time_render': 965947.04, 'time_show': 965963.22, 'time_end': 966441, 'time_commit': 966442, 'timestamp': '2021-07-18T04:48:42.557Z', 'time_switch': 966446.54}",
            "count": 2
           },
           {
            "name": "303 others",
            "count": 303
           },
           {
            "name": "Missing",
            "count": 1
           }
          ]
         }
        },
        {
         "name": 193,
         "dtype": "object",
         "stats": {
          "unique_count": 306,
          "nan_count": 1,
          "categories": [
           {
            "name": "{'sender': 'Data transmission (beta)', 'sender_type': 'html.Screen', 'sender_id': '8_34_3', 'a': 'web4start.png', 'b': 'web4b.png', 'message': 'Transferring data', 'subtitle': 'Please wait a second…', 'ended_on': 'transmission successful', 'duration': 399.45999999996275, 'time_run': 966442, 'time_render': 966442.56, 'time_show': 966446.54, 'time_end': 966846, 'time_commit': 966846, 'timestamp': '2021-07-18T04:48:42.962Z', 'time_switch': 966863.2}",
            "count": 2
           },
           {
            "name": "303 others",
            "count": 303
           },
           {
            "name": "Missing",
            "count": 1
           }
          ]
         }
        },
        {
         "name": 194,
         "dtype": "object",
         "stats": {
          "unique_count": 306,
          "nan_count": 1,
          "categories": [
           {
            "name": "{'sender': 'Trial', 'sender_type': 'flow.Sequence', 'sender_id': '8_34', 'a': 'web4start.png', 'b': 'web4b.png', 'ended_on': 'completion', 'duration': 5666.119999999995, 'time_run': 961168, 'time_render': 961167.7, 'time_show': 961179.88, 'time_end': 966846, 'time_commit': 966847, 'timestamp': '2021-07-18T04:48:42.962Z', 'time_switch': 966863.2}",
            "count": 2
           },
           {
            "name": "303 others",
            "count": 303
           },
           {
            "name": "Missing",
            "count": 1
           }
          ]
         }
        },
        {
         "name": 195,
         "dtype": "object",
         "stats": {
          "unique_count": 306,
          "nan_count": 1,
          "categories": [
           {
            "name": "{'sender': 'Fixation Cross', 'sender_type': 'html.Screen', 'sender_id': '8_35_0', 'a': 'web13start.png', 'b': 'web13b.png', 'ended_on': 'timeout', 'duration': 1000.0200000000186, 'time_run': 966847, 'time_render': 966847.08, 'time_show': 966863.2, 'time_end': 967846.56, 'time_commit': 967847, 'timestamp': '2021-07-18T04:48:43.962Z', 'time_switch': 967863.22}",
            "count": 2
           },
           {
            "name": "303 others",
            "count": 303
           },
           {
            "name": "Missing",
            "count": 1
           }
          ]
         }
        },
        {
         "name": 196,
         "dtype": "object",
         "stats": {
          "unique_count": 306,
          "nan_count": 1,
          "categories": [
           {
            "name": "{'sender': 'cf keyframe transitions', 'sender_type': 'html.Screen', 'sender_id': '8_35_1', 'a': 'web13start.png', 'b': 'web13b.png', 'fadeTime': 3969, 'response': 'pressed Space', 'ended_on': 'response', 'duration': 4902.780000000028, 'time_run': 967850, 'time_render': 967846.56, 'time_show': 967863.22, 'time_end': 972766, 'time_commit': 972766, 'timestamp': '2021-07-18T04:48:48.881Z', 'time_switch': 972779.88}",
            "count": 2
           },
           {
            "name": "303 others",
            "count": 303
           },
           {
            "name": "Missing",
            "count": 1
           }
          ]
         }
        },
        {
         "name": 197,
         "dtype": "object",
         "stats": {
          "unique_count": 306,
          "nan_count": 1,
          "categories": [
           {
            "name": "{'sender': 'Did You Look At the Cross?', 'sender_type': 'html.Screen', 'sender_id': '8_35_2', 'a': 'web13start.png', 'b': 'web13b.png', 'response': 'continue', 'response_action': 'keypress(Space)', 'correctResponse': 'continue', 'correct': True, 'ended_on': 'response', 'duration': 764.1199999999953, 'time_run': 972766, 'time_render': 972766.32, 'time_show': 972779.88, 'time_end': 973544, 'time_commit': 973545, 'timestamp': '2021-07-18T04:48:49.660Z', 'time_switch': 973546.56}",
            "count": 2
           },
           {
            "name": "303 others",
            "count": 303
           },
           {
            "name": "Missing",
            "count": 1
           }
          ]
         }
        },
        {
         "name": 198,
         "dtype": "object",
         "stats": {
          "unique_count": 306,
          "nan_count": 1,
          "categories": [
           {
            "name": "{'sender': 'Data transmission (beta)', 'sender_type': 'html.Screen', 'sender_id': '8_35_3', 'a': 'web13start.png', 'b': 'web13b.png', 'message': 'Transferring data', 'subtitle': 'Please wait a second…', 'ended_on': 'transmission successful', 'duration': 411.4399999999441, 'time_run': 973545, 'time_render': 973544.56, 'time_show': 973546.56, 'time_end': 973958, 'time_commit': 973958, 'timestamp': '2021-07-18T04:48:50.073Z', 'time_switch': 973963.22}",
            "count": 2
           },
           {
            "name": "303 others",
            "count": 303
           },
           {
            "name": "Missing",
            "count": 1
           }
          ]
         }
        },
        {
         "name": 199,
         "dtype": "object",
         "stats": {
          "unique_count": 306,
          "nan_count": 1,
          "categories": [
           {
            "name": "{'sender': 'Trial', 'sender_type': 'flow.Sequence', 'sender_id': '8_35', 'a': 'web13start.png', 'b': 'web13b.png', 'ended_on': 'completion', 'duration': 7094.800000000047, 'time_run': 966847, 'time_render': 966847.08, 'time_show': 966863.2, 'time_end': 973958, 'time_commit': 973958, 'timestamp': '2021-07-18T04:48:50.073Z', 'time_switch': 973963.22}",
            "count": 2
           },
           {
            "name": "303 others",
            "count": 303
           },
           {
            "name": "Missing",
            "count": 1
           }
          ]
         }
        },
        {
         "name": 200,
         "dtype": "object",
         "stats": {
          "unique_count": 306,
          "nan_count": 1,
          "categories": [
           {
            "name": "{'sender': 'Fixation Cross', 'sender_type': 'html.Screen', 'sender_id': '8_36_0', 'a': 'web13start.png', 'b': 'web13a.png', 'ended_on': 'timeout', 'duration': 1000, 'time_run': 973958, 'time_render': 973958.56, 'time_show': 973963.22, 'time_end': 974946.56, 'time_commit': 974947, 'timestamp': '2021-07-18T04:48:51.062Z', 'time_switch': 974963.22}",
            "count": 2
           },
           {
            "name": "303 others",
            "count": 303
           },
           {
            "name": "Missing",
            "count": 1
           }
          ]
         }
        },
        {
         "name": 201,
         "dtype": "object",
         "stats": {
          "unique_count": 306,
          "nan_count": 1,
          "categories": [
           {
            "name": "{'sender': 'cf keyframe transitions', 'sender_type': 'html.Screen', 'sender_id': '8_36_1', 'a': 'web13start.png', 'b': 'web13a.png', 'fadeTime': 3586, 'ended_on': 'timeout', 'duration': 20000.02000000002, 'time_run': 974950, 'time_render': 974946.56, 'time_show': 974963.22, 'time_end': 994946.62, 'time_commit': 994947, 'timestamp': '2021-07-18T04:49:11.062Z', 'time_switch': 994963.24}",
            "count": 2
           },
           {
            "name": "303 others",
            "count": 303
           },
           {
            "name": "Missing",
            "count": 1
           }
          ]
         }
        },
        {
         "name": 202,
         "dtype": "object",
         "stats": {
          "unique_count": 306,
          "nan_count": 1,
          "categories": [
           {
            "name": "{'sender': 'Did You Look At the Cross?', 'sender_type': 'html.Screen', 'sender_id': '8_36_2', 'a': 'web13start.png', 'b': 'web13a.png', 'response': 'continue', 'response_action': 'keypress(Space)', 'correctResponse': 'continue', 'correct': True, 'ended_on': 'response', 'duration': 1130.7600000000093, 'time_run': 994947, 'time_render': 994946.62, 'time_show': 994963.24, 'time_end': 996094, 'time_commit': 996095, 'timestamp': '2021-07-18T04:49:12.210Z', 'time_switch': 996096.58}",
            "count": 2
           },
           {
            "name": "303 others",
            "count": 303
           },
           {
            "name": "Missing",
            "count": 1
           }
          ]
         }
        },
        {
         "name": 203,
         "dtype": "object",
         "stats": {
          "unique_count": 306,
          "nan_count": 1,
          "categories": [
           {
            "name": "{'sender': 'Data transmission (beta)', 'sender_type': 'html.Screen', 'sender_id': '8_36_3', 'a': 'web13start.png', 'b': 'web13a.png', 'message': 'Transferring data', 'subtitle': 'Please wait a second…', 'ended_on': 'transmission successful', 'duration': 419.4200000000419, 'time_run': 996095, 'time_render': 996095.34, 'time_show': 996096.58, 'time_end': 996516, 'time_commit': 996517, 'timestamp': '2021-07-18T04:49:12.632Z', 'time_switch': 996529.92}",
            "count": 2
           },
           {
            "name": "303 others",
            "count": 303
           },
           {
            "name": "Missing",
            "count": 1
           }
          ]
         }
        },
        {
         "name": 204,
         "dtype": "object",
         "stats": {
          "unique_count": 306,
          "nan_count": 1,
          "categories": [
           {
            "name": "{'sender': 'Trial', 'sender_type': 'flow.Sequence', 'sender_id': '8_36', 'a': 'web13start.png', 'b': 'web13a.png', 'ended_on': 'completion', 'duration': 22552.780000000028, 'time_run': 973958, 'time_render': 973958.56, 'time_show': 973963.22, 'time_end': 996516, 'time_commit': 996517, 'timestamp': '2021-07-18T04:49:12.632Z', 'time_switch': 996529.92}",
            "count": 2
           },
           {
            "name": "303 others",
            "count": 303
           },
           {
            "name": "Missing",
            "count": 1
           }
          ]
         }
        },
        {
         "name": 205,
         "dtype": "object",
         "stats": {
          "unique_count": 306,
          "nan_count": 1,
          "categories": [
           {
            "name": "{'sender': 'Fixation Cross', 'sender_type': 'html.Screen', 'sender_id': '8_37_0', 'a': 'web11start.png', 'b': 'web11b.png', 'ended_on': 'timeout', 'duration': 1000, 'time_run': 996517, 'time_render': 996517.36, 'time_show': 996529.92, 'time_end': 997513.24, 'time_commit': 997513, 'timestamp': '2021-07-18T04:49:13.628Z', 'time_switch': 997529.92}",
            "count": 2
           },
           {
            "name": "303 others",
            "count": 303
           },
           {
            "name": "Missing",
            "count": 1
           }
          ]
         }
        },
        {
         "name": 206,
         "dtype": "object",
         "stats": {
          "unique_count": 306,
          "nan_count": 1,
          "categories": [
           {
            "name": "{'sender': 'cf keyframe transitions', 'sender_type': 'html.Screen', 'sender_id': '8_37_1', 'a': 'web11start.png', 'b': 'web11b.png', 'fadeTime': 3579, 'response': 'pressed Space', 'ended_on': 'response', 'duration': 4155.079999999958, 'time_run': 997516, 'time_render': 997513.24, 'time_show': 997529.92, 'time_end': 1001685, 'time_commit': 1001685, 'timestamp': '2021-07-18T04:49:17.801Z', 'time_switch': 1001696.7}",
            "count": 2
           },
           {
            "name": "303 others",
            "count": 303
           },
           {
            "name": "Missing",
            "count": 1
           }
          ]
         }
        },
        {
         "name": 207,
         "dtype": "object",
         "stats": {
          "unique_count": 306,
          "nan_count": 1,
          "categories": [
           {
            "name": "{'sender': 'Did You Look At the Cross?', 'sender_type': 'html.Screen', 'sender_id': '8_37_2', 'a': 'web11start.png', 'b': 'web11b.png', 'response': 'continue', 'response_action': 'keypress(Space)', 'correctResponse': 'continue', 'correct': True, 'ended_on': 'response', 'duration': 627.3000000000466, 'time_run': 1001685, 'time_render': 1001685.58, 'time_show': 1001696.7, 'time_end': 1002324, 'time_commit': 1002324, 'timestamp': '2021-07-18T04:49:18.440Z', 'time_switch': 1002329.94}",
            "count": 2
           },
           {
            "name": "303 others",
            "count": 303
           },
           {
            "name": "Missing",
            "count": 1
           }
          ]
         }
        },
        {
         "name": 208,
         "dtype": "object",
         "stats": {
          "unique_count": 306,
          "nan_count": 1,
          "categories": [
           {
            "name": "{'sender': 'Data transmission (beta)', 'sender_type': 'html.Screen', 'sender_id': '8_37_3', 'a': 'web11start.png', 'b': 'web11b.png', 'message': 'Transferring data', 'subtitle': 'Please wait a second…', 'ended_on': 'transmission successful', 'duration': 423.0600000000559, 'time_run': 1002324, 'time_render': 1002324.66, 'time_show': 1002329.94, 'time_end': 1002753, 'time_commit': 1002753, 'timestamp': '2021-07-18T04:49:18.868Z', 'time_switch': 1002763.26}",
            "count": 2
           },
           {
            "name": "303 others",
            "count": 303
           },
           {
            "name": "Missing",
            "count": 1
           }
          ]
         }
        },
        {
         "name": 209,
         "dtype": "object",
         "stats": {
          "unique_count": 306,
          "nan_count": 1,
          "categories": [
           {
            "name": "{'sender': 'Trial', 'sender_type': 'flow.Sequence', 'sender_id': '8_37', 'a': 'web11start.png', 'b': 'web11b.png', 'ended_on': 'completion', 'duration': 6223.079999999958, 'time_run': 996517, 'time_render': 996517.36, 'time_show': 996529.92, 'time_end': 1002753, 'time_commit': 1002753, 'timestamp': '2021-07-18T04:49:18.868Z', 'time_switch': 1002763.26}",
            "count": 2
           },
           {
            "name": "303 others",
            "count": 303
           },
           {
            "name": "Missing",
            "count": 1
           }
          ]
         }
        },
        {
         "name": 210,
         "dtype": "object",
         "stats": {
          "unique_count": 306,
          "nan_count": 1,
          "categories": [
           {
            "name": "{'sender': 'Fixation Cross', 'sender_type': 'html.Screen', 'sender_id': '8_38_0', 'a': 'web4start.png', 'b': 'web4b.png', 'ended_on': 'timeout', 'duration': 1000, 'time_run': 1002753, 'time_render': 1002752.62, 'time_show': 1002763.26, 'time_end': 1003746.6, 'time_commit': 1003747, 'timestamp': '2021-07-18T04:49:19.862Z', 'time_switch': 1003763.26}",
            "count": 2
           },
           {
            "name": "303 others",
            "count": 303
           },
           {
            "name": "Missing",
            "count": 1
           }
          ]
         }
        },
        {
         "name": 211,
         "dtype": "object",
         "stats": {
          "unique_count": 306,
          "nan_count": 1,
          "categories": [
           {
            "name": "{'sender': 'cf keyframe transitions', 'sender_type': 'html.Screen', 'sender_id': '8_38_1', 'a': 'web4start.png', 'b': 'web4b.png', 'fadeTime': 3025, 'response': 'pressed Space', 'ended_on': 'response', 'duration': 4524.739999999991, 'time_run': 1003750, 'time_render': 1003746.6, 'time_show': 1003763.26, 'time_end': 1008288, 'time_commit': 1008288, 'timestamp': '2021-07-18T04:49:24.404Z', 'time_switch': 1008296.6}",
            "count": 2
           },
           {
            "name": "303 others",
            "count": 303
           },
           {
            "name": "Missing",
            "count": 1
           }
          ]
         }
        },
        {
         "name": 212,
         "dtype": "object",
         "stats": {
          "unique_count": 306,
          "nan_count": 1,
          "categories": [
           {
            "name": "{'sender': 'Did You Look At the Cross?', 'sender_type': 'html.Screen', 'sender_id': '8_38_2', 'a': 'web4start.png', 'b': 'web4b.png', 'response': 'continue', 'response_action': 'keypress(Space)', 'correctResponse': 'continue', 'correct': True, 'ended_on': 'response', 'duration': 617.4000000000233, 'time_run': 1008289, 'time_render': 1008288.16, 'time_show': 1008296.6, 'time_end': 1008914, 'time_commit': 1008914, 'timestamp': '2021-07-18T04:49:25.029Z', 'time_switch': 1008929.92}",
            "count": 2
           },
           {
            "name": "303 others",
            "count": 303
           },
           {
            "name": "Missing",
            "count": 1
           }
          ]
         }
        },
        {
         "name": 213,
         "dtype": "object",
         "stats": {
          "unique_count": 306,
          "nan_count": 1,
          "categories": [
           {
            "name": "{'sender': 'Data transmission (beta)', 'sender_type': 'html.Screen', 'sender_id': '8_38_3', 'a': 'web4start.png', 'b': 'web4b.png', 'message': 'Transferring data', 'subtitle': 'Please wait a second…', 'ended_on': 'transmission successful', 'duration': 426.0799999999581, 'time_run': 1008914, 'time_render': 1008914.58, 'time_show': 1008929.92, 'time_end': 1009356, 'time_commit': 1009357, 'timestamp': '2021-07-18T04:49:25.471Z', 'time_switch': 1009363.26}",
            "count": 2
           },
           {
            "name": "303 others",
            "count": 303
           },
           {
            "name": "Missing",
            "count": 1
           }
          ]
         }
        },
        {
         "name": 214,
         "dtype": "object",
         "stats": {
          "unique_count": 306,
          "nan_count": 1,
          "categories": [
           {
            "name": "{'sender': 'Trial', 'sender_type': 'flow.Sequence', 'sender_id': '8_38', 'a': 'web4start.png', 'b': 'web4b.png', 'ended_on': 'completion', 'duration': 6592.739999999991, 'time_run': 1002753, 'time_render': 1002752.62, 'time_show': 1002763.26, 'time_end': 1009356, 'time_commit': 1009357, 'timestamp': '2021-07-18T04:49:25.472Z', 'time_switch': 1009363.26}",
            "count": 2
           },
           {
            "name": "303 others",
            "count": 303
           },
           {
            "name": "Missing",
            "count": 1
           }
          ]
         }
        },
        {
         "name": 215,
         "dtype": "object",
         "stats": {
          "unique_count": 306,
          "nan_count": 1,
          "categories": [
           {
            "name": "{'sender': 'Fixation Cross', 'sender_type': 'html.Screen', 'sender_id': '8_39_0', 'a': 'web15start.png', 'b': 'web15b.png', 'ended_on': 'timeout', 'duration': 1000, 'time_run': 1009357, 'time_render': 1009356.96, 'time_show': 1009363.26, 'time_end': 1010346.6, 'time_commit': 1010347, 'timestamp': '2021-07-18T04:49:26.462Z', 'time_switch': 1010363.26}",
            "count": 2
           },
           {
            "name": "303 others",
            "count": 303
           },
           {
            "name": "Missing",
            "count": 1
           }
          ]
         }
        },
        {
         "name": 216,
         "dtype": "object",
         "stats": {
          "unique_count": 306,
          "nan_count": 1,
          "categories": [
           {
            "name": "{'sender': 'cf keyframe transitions', 'sender_type': 'html.Screen', 'sender_id': '8_39_1', 'a': 'web15start.png', 'b': 'web15b.png', 'fadeTime': 3999, 'response': 'pressed Space', 'ended_on': 'response', 'duration': 4645.739999999991, 'time_run': 1010350, 'time_render': 1010346.6, 'time_show': 1010363.26, 'time_end': 1015009, 'time_commit': 1015009, 'timestamp': '2021-07-18T04:49:31.124Z', 'time_switch': 1015013.28}",
            "count": 2
           },
           {
            "name": "303 others",
            "count": 303
           },
           {
            "name": "Missing",
            "count": 1
           }
          ]
         }
        },
        {
         "name": 217,
         "dtype": "object",
         "stats": {
          "unique_count": 306,
          "nan_count": 1,
          "categories": [
           {
            "name": "{'sender': 'Did You Look At the Cross?', 'sender_type': 'html.Screen', 'sender_id': '8_39_2', 'a': 'web15start.png', 'b': 'web15b.png', 'response': 'continue', 'response_action': 'keypress(Space)', 'correctResponse': 'continue', 'correct': True, 'ended_on': 'response', 'duration': 649.7199999999721, 'time_run': 1015009, 'time_render': 1015009.06, 'time_show': 1015013.28, 'time_end': 1015663, 'time_commit': 1015664, 'timestamp': '2021-07-18T04:49:31.779Z', 'time_switch': 1015679.94}",
            "count": 2
           },
           {
            "name": "303 others",
            "count": 303
           },
           {
            "name": "Missing",
            "count": 1
           }
          ]
         }
        },
        {
         "name": 218,
         "dtype": "object",
         "stats": {
          "unique_count": 306,
          "nan_count": 1,
          "categories": [
           {
            "name": "{'sender': 'Data transmission (beta)', 'sender_type': 'html.Screen', 'sender_id': '8_39_3', 'a': 'web15start.png', 'b': 'web15b.png', 'message': 'Transferring data', 'subtitle': 'Please wait a second…', 'ended_on': 'transmission successful', 'duration': 431.0600000000559, 'time_run': 1015664, 'time_render': 1015664.26, 'time_show': 1015679.94, 'time_end': 1016111, 'time_commit': 1016111, 'timestamp': '2021-07-18T04:49:32.226Z', 'time_switch': 1016113.28}",
            "count": 2
           },
           {
            "name": "303 others",
            "count": 303
           },
           {
            "name": "Missing",
            "count": 1
           }
          ]
         }
        },
        {
         "name": 219,
         "dtype": "object",
         "stats": {
          "unique_count": 306,
          "nan_count": 1,
          "categories": [
           {
            "name": "{'sender': 'Trial', 'sender_type': 'flow.Sequence', 'sender_id': '8_39', 'a': 'web15start.png', 'b': 'web15b.png', 'ended_on': 'completion', 'duration': 6747.739999999991, 'time_run': 1009357, 'time_render': 1009356.96, 'time_show': 1009363.26, 'time_end': 1016111, 'time_commit': 1016111, 'timestamp': '2021-07-18T04:49:32.226Z', 'time_switch': 1016113.28}",
            "count": 2
           },
           {
            "name": "303 others",
            "count": 303
           },
           {
            "name": "Missing",
            "count": 1
           }
          ]
         }
        },
        {
         "name": 220,
         "dtype": "object",
         "stats": {
          "unique_count": 306,
          "nan_count": 1,
          "categories": [
           {
            "name": "{'sender': 'Fixation Cross', 'sender_type': 'html.Screen', 'sender_id': '8_40_0', 'a': 'web10start.png', 'b': 'web10b.png', 'ended_on': 'timeout', 'duration': 1000.0200000000186, 'time_run': 1016111, 'time_render': 1016111.86, 'time_show': 1016113.28, 'time_end': 1017096.64, 'time_commit': 1017097, 'timestamp': '2021-07-18T04:49:33.212Z', 'time_switch': 1017113.3}",
            "count": 2
           },
           {
            "name": "303 others",
            "count": 303
           },
           {
            "name": "Missing",
            "count": 1
           }
          ]
         }
        },
        {
         "name": 221,
         "dtype": "object",
         "stats": {
          "unique_count": 306,
          "nan_count": 1,
          "categories": [
           {
            "name": "{'sender': 'cf keyframe transitions', 'sender_type': 'html.Screen', 'sender_id': '8_40_1', 'a': 'web10start.png', 'b': 'web10b.png', 'fadeTime': 3146, 'response': 'pressed Space', 'ended_on': 'response', 'duration': 3690.6999999999534, 'time_run': 1017099, 'time_render': 1017096.64, 'time_show': 1017113.3, 'time_end': 1020804, 'time_commit': 1020804, 'timestamp': '2021-07-18T04:49:36.919Z', 'time_switch': 1020813.28}",
            "count": 2
           },
           {
            "name": "303 others",
            "count": 303
           },
           {
            "name": "Missing",
            "count": 1
           }
          ]
         }
        },
        {
         "name": 222,
         "dtype": "object",
         "stats": {
          "unique_count": 306,
          "nan_count": 1,
          "categories": [
           {
            "name": "{'sender': 'Did You Look At the Cross?', 'sender_type': 'html.Screen', 'sender_id': '8_40_2', 'a': 'web10start.png', 'b': 'web10b.png', 'response': 'continue', 'response_action': 'keypress(Space)', 'correctResponse': 'continue', 'correct': True, 'ended_on': 'response', 'duration': 711.7199999999721, 'time_run': 1020804, 'time_render': 1020804.4, 'time_show': 1020813.28, 'time_end': 1021525, 'time_commit': 1021525, 'timestamp': '2021-07-18T04:49:37.640Z', 'time_switch': 1021529.94}",
            "count": 2
           },
           {
            "name": "303 others",
            "count": 303
           },
           {
            "name": "Missing",
            "count": 1
           }
          ]
         }
        },
        {
         "name": 223,
         "dtype": "object",
         "stats": {
          "unique_count": 306,
          "nan_count": 1,
          "categories": [
           {
            "name": "{'sender': 'Data transmission (beta)', 'sender_type': 'html.Screen', 'sender_id': '8_40_3', 'a': 'web10start.png', 'b': 'web10b.png', 'message': 'Transferring data', 'subtitle': 'Please wait a second…', 'ended_on': 'transmission successful', 'duration': 453.0600000000559, 'time_run': 1021525, 'time_render': 1021525.2, 'time_show': 1021529.94, 'time_end': 1021983, 'time_commit': 1021983, 'timestamp': '2021-07-18T04:49:38.099Z', 'time_switch': 1021996.6}",
            "count": 2
           },
           {
            "name": "303 others",
            "count": 303
           },
           {
            "name": "Missing",
            "count": 1
           }
          ]
         }
        },
        {
         "name": 224,
         "dtype": "object",
         "stats": {
          "unique_count": 306,
          "nan_count": 1,
          "categories": [
           {
            "name": "{'sender': 'Trial', 'sender_type': 'flow.Sequence', 'sender_id': '8_40', 'a': 'web10start.png', 'b': 'web10b.png', 'ended_on': 'completion', 'duration': 5869.719999999972, 'time_run': 1016111, 'time_render': 1016111.86, 'time_show': 1016113.28, 'time_end': 1021983, 'time_commit': 1021983, 'timestamp': '2021-07-18T04:49:38.099Z', 'time_switch': 1021996.6}",
            "count": 2
           },
           {
            "name": "303 others",
            "count": 303
           },
           {
            "name": "Missing",
            "count": 1
           }
          ]
         }
        },
        {
         "name": 225,
         "dtype": "object",
         "stats": {
          "unique_count": 306,
          "nan_count": 1,
          "categories": [
           {
            "name": "{'sender': 'Fixation Cross', 'sender_type': 'html.Screen', 'sender_id': '8_41_0', 'a': 'web15start.png', 'b': 'web15a.png', 'ended_on': 'timeout', 'duration': 1000, 'time_run': 1021983, 'time_render': 1021983.88, 'time_show': 1021996.6, 'time_end': 1022979.96, 'time_commit': 1022980, 'timestamp': '2021-07-18T04:49:39.096Z', 'time_switch': 1022996.6}",
            "count": 2
           },
           {
            "name": "303 others",
            "count": 303
           },
           {
            "name": "Missing",
            "count": 1
           }
          ]
         }
        },
        {
         "name": 226,
         "dtype": "object",
         "stats": {
          "unique_count": 306,
          "nan_count": 1,
          "categories": [
           {
            "name": "{'sender': 'cf keyframe transitions', 'sender_type': 'html.Screen', 'sender_id': '8_41_1', 'a': 'web15start.png', 'b': 'web15a.png', 'fadeTime': 3658, 'response': 'pressed Space', 'ended_on': 'response', 'duration': 10877.400000000023, 'time_run': 1022983, 'time_render': 1022979.96, 'time_show': 1022996.6, 'time_end': 1033874, 'time_commit': 1033874, 'timestamp': '2021-07-18T04:49:49.989Z', 'time_switch': 1033879.94}",
            "count": 2
           },
           {
            "name": "303 others",
            "count": 303
           },
           {
            "name": "Missing",
            "count": 1
           }
          ]
         }
        },
        {
         "name": 227,
         "dtype": "object",
         "stats": {
          "unique_count": 306,
          "nan_count": 1,
          "categories": [
           {
            "name": "{'sender': 'Did You Look At the Cross?', 'sender_type': 'html.Screen', 'sender_id': '8_41_2', 'a': 'web15start.png', 'b': 'web15a.png', 'response': 'continue', 'response_action': 'keypress(Space)', 'correctResponse': 'continue', 'correct': True, 'ended_on': 'response', 'duration': 976.0600000000559, 'time_run': 1033874, 'time_render': 1033873.84, 'time_show': 1033879.94, 'time_end': 1034856, 'time_commit': 1034856, 'timestamp': '2021-07-18T04:49:50.971Z', 'time_switch': 1034863.28}",
            "count": 2
           },
           {
            "name": "303 others",
            "count": 303
           },
           {
            "name": "Missing",
            "count": 1
           }
          ]
         }
        },
        {
         "name": 228,
         "dtype": "object",
         "stats": {
          "unique_count": 306,
          "nan_count": 1,
          "categories": [
           {
            "name": "{'sender': 'Data transmission (beta)', 'sender_type': 'html.Screen', 'sender_id': '8_41_3', 'a': 'web15start.png', 'b': 'web15a.png', 'message': 'Transferring data', 'subtitle': 'Please wait a second…', 'ended_on': 'transmission successful', 'duration': 455.71999999997206, 'time_run': 1034857, 'time_render': 1034856.4, 'time_show': 1034863.28, 'time_end': 1035319, 'time_commit': 1035319, 'timestamp': '2021-07-18T04:49:51.435Z', 'time_switch': 1035329.94}",
            "count": 2
           },
           {
            "name": "303 others",
            "count": 303
           },
           {
            "name": "Missing",
            "count": 1
           }
          ]
         }
        },
        {
         "name": 229,
         "dtype": "object",
         "stats": {
          "unique_count": 306,
          "nan_count": 1,
          "categories": [
           {
            "name": "{'sender': 'Trial', 'sender_type': 'flow.Sequence', 'sender_id': '8_41', 'a': 'web15start.png', 'b': 'web15a.png', 'ended_on': 'completion', 'duration': 13322.400000000023, 'time_run': 1021983, 'time_render': 1021983.88, 'time_show': 1021996.6, 'time_end': 1035319, 'time_commit': 1035320, 'timestamp': '2021-07-18T04:49:51.435Z', 'time_switch': 1035329.94}",
            "count": 2
           },
           {
            "name": "303 others",
            "count": 303
           },
           {
            "name": "Missing",
            "count": 1
           }
          ]
         }
        },
        {
         "name": 230,
         "dtype": "object",
         "stats": {
          "unique_count": 306,
          "nan_count": 1,
          "categories": [
           {
            "name": "{'sender': 'Fixation Cross', 'sender_type': 'html.Screen', 'sender_id': '8_42_0', 'a': 'web8start.png', 'b': 'web8b.png', 'ended_on': 'timeout', 'duration': 1000.0200000000186, 'time_run': 1035321, 'time_render': 1035320.24, 'time_show': 1035329.94, 'time_end': 1036313.28, 'time_commit': 1036313, 'timestamp': '2021-07-18T04:49:52.429Z', 'time_switch': 1036329.96}",
            "count": 2
           },
           {
            "name": "303 others",
            "count": 303
           },
           {
            "name": "Missing",
            "count": 1
           }
          ]
         }
        },
        {
         "name": 231,
         "dtype": "object",
         "stats": {
          "unique_count": 306,
          "nan_count": 1,
          "categories": [
           {
            "name": "{'sender': 'cf keyframe transitions', 'sender_type': 'html.Screen', 'sender_id': '8_42_1', 'a': 'web8start.png', 'b': 'web8b.png', 'fadeTime': 3262, 'response': 'pressed Space', 'ended_on': 'response', 'duration': 4162.040000000037, 'time_run': 1036317, 'time_render': 1036313.28, 'time_show': 1036329.96, 'time_end': 1040492, 'time_commit': 1040493, 'timestamp': '2021-07-18T04:49:56.608Z', 'time_switch': 1040496.62}",
            "count": 2
           },
           {
            "name": "303 others",
            "count": 303
           },
           {
            "name": "Missing",
            "count": 1
           }
          ]
         }
        },
        {
         "name": 232,
         "dtype": "object",
         "stats": {
          "unique_count": 306,
          "nan_count": 1,
          "categories": [
           {
            "name": "{'sender': 'Did You Look At the Cross?', 'sender_type': 'html.Screen', 'sender_id': '8_42_2', 'a': 'web8start.png', 'b': 'web8b.png', 'response': 'continue', 'response_action': 'keypress(Space)', 'correctResponse': 'continue', 'correct': True, 'ended_on': 'response', 'duration': 609.3800000000047, 'time_run': 1040493, 'time_render': 1040492.26, 'time_show': 1040496.62, 'time_end': 1041106, 'time_commit': 1041106, 'timestamp': '2021-07-18T04:49:57.221Z', 'time_switch': 1041113.3}",
            "count": 2
           },
           {
            "name": "303 others",
            "count": 303
           },
           {
            "name": "Missing",
            "count": 1
           }
          ]
         }
        },
        {
         "name": 233,
         "dtype": "object",
         "stats": {
          "unique_count": 306,
          "nan_count": 1,
          "categories": [
           {
            "name": "{'sender': 'Data transmission (beta)', 'sender_type': 'html.Screen', 'sender_id': '8_42_3', 'a': 'web8start.png', 'b': 'web8b.png', 'message': 'Transferring data', 'subtitle': 'Please wait a second…', 'ended_on': 'transmission successful', 'duration': 470.69999999995343, 'time_run': 1041106, 'time_render': 1041106.56, 'time_show': 1041113.3, 'time_end': 1041584, 'time_commit': 1041584, 'timestamp': '2021-07-18T04:49:57.699Z', 'time_switch': 1041596.62}",
            "count": 2
           },
           {
            "name": "303 others",
            "count": 303
           },
           {
            "name": "Missing",
            "count": 1
           }
          ]
         }
        },
        {
         "name": 234,
         "dtype": "object",
         "stats": {
          "unique_count": 306,
          "nan_count": 1,
          "categories": [
           {
            "name": "{'sender': 'Trial', 'sender_type': 'flow.Sequence', 'sender_id': '8_42', 'a': 'web8start.png', 'b': 'web8b.png', 'ended_on': 'completion', 'duration': 6254.060000000056, 'time_run': 1035321, 'time_render': 1035320.24, 'time_show': 1035329.94, 'time_end': 1041584, 'time_commit': 1041584, 'timestamp': '2021-07-18T04:49:57.699Z', 'time_switch': 1041596.62}",
            "count": 2
           },
           {
            "name": "303 others",
            "count": 303
           },
           {
            "name": "Missing",
            "count": 1
           }
          ]
         }
        },
        {
         "name": 235,
         "dtype": "object",
         "stats": {
          "unique_count": 306,
          "nan_count": 1,
          "categories": [
           {
            "name": "{'sender': 'Fixation Cross', 'sender_type': 'html.Screen', 'sender_id': '8_43_0', 'a': 'web13start.png', 'b': 'web13a.png', 'ended_on': 'timeout', 'duration': 1000.0200000000186, 'time_run': 1041584, 'time_render': 1041584.5, 'time_show': 1041596.62, 'time_end': 1042580.04, 'time_commit': 1042580, 'timestamp': '2021-07-18T04:49:58.696Z', 'time_switch': 1042596.64}",
            "count": 2
           },
           {
            "name": "303 others",
            "count": 303
           },
           {
            "name": "Missing",
            "count": 1
           }
          ]
         }
        },
        {
         "name": 236,
         "dtype": "object",
         "stats": {
          "unique_count": 306,
          "nan_count": 1,
          "categories": [
           {
            "name": "{'sender': 'cf keyframe transitions', 'sender_type': 'html.Screen', 'sender_id': '8_43_1', 'a': 'web13start.png', 'b': 'web13a.png', 'fadeTime': 3388, 'ended_on': 'timeout', 'duration': 20000.019999999902, 'time_run': 1042583, 'time_render': 1042580.04, 'time_show': 1042596.64, 'time_end': 1062579.98, 'time_commit': 1062580, 'timestamp': '2021-07-18T04:50:18.696Z', 'time_switch': 1062596.66}",
            "count": 2
           },
           {
            "name": "303 others",
            "count": 303
           },
           {
            "name": "Missing",
            "count": 1
           }
          ]
         }
        },
        {
         "name": 237,
         "dtype": "object",
         "stats": {
          "unique_count": 306,
          "nan_count": 1,
          "categories": [
           {
            "name": "{'sender': 'Did You Look At the Cross?', 'sender_type': 'html.Screen', 'sender_id': '8_43_2', 'a': 'web13start.png', 'b': 'web13a.png', 'response': 'continue', 'response_action': 'keypress(Space)', 'correctResponse': 'continue', 'correct': True, 'ended_on': 'response', 'duration': 1408.3400000000838, 'time_run': 1062580, 'time_render': 1062579.98, 'time_show': 1062596.66, 'time_end': 1064005, 'time_commit': 1064006, 'timestamp': '2021-07-18T04:50:20.121Z', 'time_switch': 1064013.32}",
            "count": 2
           },
           {
            "name": "303 others",
            "count": 303
           },
           {
            "name": "Missing",
            "count": 1
           }
          ]
         }
        },
        {
         "name": 238,
         "dtype": "object",
         "stats": {
          "unique_count": 306,
          "nan_count": 1,
          "categories": [
           {
            "name": "{'sender': 'Data transmission (beta)', 'sender_type': 'html.Screen', 'sender_id': '8_43_3', 'a': 'web13start.png', 'b': 'web13a.png', 'message': 'Transferring data', 'subtitle': 'Please wait a second…', 'ended_on': 'transmission successful', 'duration': 476.6799999999348, 'time_run': 1064006, 'time_render': 1064005.62, 'time_show': 1064013.32, 'time_end': 1064490, 'time_commit': 1064490, 'timestamp': '2021-07-18T04:50:20.606Z', 'time_switch': 1064496.64}",
            "count": 2
           },
           {
            "name": "303 others",
            "count": 303
           },
           {
            "name": "Missing",
            "count": 1
           }
          ]
         }
        },
        {
         "name": 239,
         "dtype": "object",
         "stats": {
          "unique_count": 306,
          "nan_count": 1,
          "categories": [
           {
            "name": "{'sender': 'Trial', 'sender_type': 'flow.Sequence', 'sender_id': '8_43', 'a': 'web13start.png', 'b': 'web13a.png', 'ended_on': 'completion', 'duration': 22893.380000000005, 'time_run': 1041584, 'time_render': 1041584.5, 'time_show': 1041596.62, 'time_end': 1064490, 'time_commit': 1064492, 'timestamp': '2021-07-18T04:50:20.606Z', 'time_switch': 1064496.64}",
            "count": 2
           },
           {
            "name": "303 others",
            "count": 303
           },
           {
            "name": "Missing",
            "count": 1
           }
          ]
         }
        },
        {
         "name": 240,
         "dtype": "object",
         "stats": {
          "unique_count": 306,
          "nan_count": 1,
          "categories": [
           {
            "name": "{'sender': 'Fixation Cross', 'sender_type': 'html.Screen', 'sender_id': '8_44_0', 'a': 'web15start.png', 'b': 'web15b.png', 'ended_on': 'timeout', 'duration': 1000, 'time_run': 1064492, 'time_render': 1064491.5, 'time_show': 1064496.64, 'time_end': 1065479.98, 'time_commit': 1065481, 'timestamp': '2021-07-18T04:50:21.596Z', 'time_switch': 1065496.64}",
            "count": 2
           },
           {
            "name": "303 others",
            "count": 303
           },
           {
            "name": "Missing",
            "count": 1
           }
          ]
         }
        },
        {
         "name": 241,
         "dtype": "object",
         "stats": {
          "unique_count": 306,
          "nan_count": 1,
          "categories": [
           {
            "name": "{'sender': 'cf keyframe transitions', 'sender_type': 'html.Screen', 'sender_id': '8_44_1', 'a': 'web15start.png', 'b': 'web15b.png', 'fadeTime': 3198, 'response': 'pressed Space', 'ended_on': 'response', 'duration': 3439.3600000001024, 'time_run': 1065483, 'time_render': 1065479.98, 'time_show': 1065496.64, 'time_end': 1068936, 'time_commit': 1068936, 'timestamp': '2021-07-18T04:50:25.052Z', 'time_switch': 1068946.64}",
            "count": 2
           },
           {
            "name": "303 others",
            "count": 303
           },
           {
            "name": "Missing",
            "count": 1
           }
          ]
         }
        },
        {
         "name": 242,
         "dtype": "object",
         "stats": {
          "unique_count": 306,
          "nan_count": 1,
          "categories": [
           {
            "name": "{'sender': 'Did You Look At the Cross?', 'sender_type': 'html.Screen', 'sender_id': '8_44_2', 'a': 'web15start.png', 'b': 'web15b.png', 'response': 'continue', 'response_action': 'keypress(Space)', 'correctResponse': 'continue', 'correct': True, 'ended_on': 'response', 'duration': 391.36000000010245, 'time_run': 1068936, 'time_render': 1068936.66, 'time_show': 1068946.64, 'time_end': 1069338, 'time_commit': 1069338, 'timestamp': '2021-07-18T04:50:25.453Z', 'time_switch': 1069346.64}",
            "count": 2
           },
           {
            "name": "303 others",
            "count": 303
           },
           {
            "name": "Missing",
            "count": 1
           }
          ]
         }
        },
        {
         "name": 243,
         "dtype": "object",
         "stats": {
          "unique_count": 306,
          "nan_count": 1,
          "categories": [
           {
            "name": "{'sender': 'Data transmission (beta)', 'sender_type': 'html.Screen', 'sender_id': '8_44_3', 'a': 'web15start.png', 'b': 'web15b.png', 'message': 'Transferring data', 'subtitle': 'Please wait a second…', 'ended_on': 'transmission successful', 'duration': 485.36000000010245, 'time_run': 1069338, 'time_render': 1069338.04, 'time_show': 1069346.64, 'time_end': 1069832, 'time_commit': 1069833, 'timestamp': '2021-07-18T04:50:25.948Z', 'time_switch': 1069846.64}",
            "count": 2
           },
           {
            "name": "303 others",
            "count": 303
           },
           {
            "name": "Missing",
            "count": 1
           }
          ]
         }
        },
        {
         "name": 244,
         "dtype": "object",
         "stats": {
          "unique_count": 306,
          "nan_count": 1,
          "categories": [
           {
            "name": "{'sender': 'Trial', 'sender_type': 'flow.Sequence', 'sender_id': '8_44', 'a': 'web15start.png', 'b': 'web15b.png', 'ended_on': 'completion', 'duration': 5335.360000000102, 'time_run': 1064492, 'time_render': 1064491.5, 'time_show': 1064496.64, 'time_end': 1069832, 'time_commit': 1069833, 'timestamp': '2021-07-18T04:50:25.948Z', 'time_switch': 1069846.64}",
            "count": 2
           },
           {
            "name": "303 others",
            "count": 303
           },
           {
            "name": "Missing",
            "count": 1
           }
          ]
         }
        },
        {
         "name": 245,
         "dtype": "object",
         "stats": {
          "unique_count": 306,
          "nan_count": 1,
          "categories": [
           {
            "name": "{'sender': 'Fixation Cross', 'sender_type': 'html.Screen', 'sender_id': '8_45_0', 'a': 'web5start.png', 'b': 'web5a.png', 'ended_on': 'timeout', 'duration': 1000.0800000000745, 'time_run': 1069833, 'time_render': 1069833.52, 'time_show': 1069846.64, 'time_end': 1070829.98, 'time_commit': 1070831, 'timestamp': '2021-07-18T04:50:26.945Z', 'time_switch': 1070846.72}",
            "count": 2
           },
           {
            "name": "303 others",
            "count": 303
           },
           {
            "name": "Missing",
            "count": 1
           }
          ]
         }
        },
        {
         "name": 246,
         "dtype": "object",
         "stats": {
          "unique_count": 306,
          "nan_count": 1,
          "categories": [
           {
            "name": "{'sender': 'cf keyframe transitions', 'sender_type': 'html.Screen', 'sender_id': '8_45_1', 'a': 'web5start.png', 'b': 'web5a.png', 'fadeTime': 3097, 'ended_on': 'timeout', 'duration': 19999.959999999963, 'time_run': 1070833, 'time_render': 1070829.98, 'time_show': 1070846.72, 'time_end': 1090830.02, 'time_commit': 1090830, 'timestamp': '2021-07-18T04:50:46.945Z', 'time_switch': 1090846.68}",
            "count": 2
           },
           {
            "name": "303 others",
            "count": 303
           },
           {
            "name": "Missing",
            "count": 1
           }
          ]
         }
        },
        {
         "name": 247,
         "dtype": "object",
         "stats": {
          "unique_count": 306,
          "nan_count": 1,
          "categories": [
           {
            "name": "{'sender': 'Did You Look At the Cross?', 'sender_type': 'html.Screen', 'sender_id': '8_45_2', 'a': 'web5start.png', 'b': 'web5a.png', 'response': 'continue', 'response_action': 'keypress(Space)', 'correctResponse': 'continue', 'correct': True, 'ended_on': 'response', 'duration': 1369.3200000000652, 'time_run': 1090830, 'time_render': 1090830.02, 'time_show': 1090846.68, 'time_end': 1092216, 'time_commit': 1092216, 'timestamp': '2021-07-18T04:50:48.331Z', 'time_switch': 1092230}",
            "count": 2
           },
           {
            "name": "303 others",
            "count": 303
           },
           {
            "name": "Missing",
            "count": 1
           }
          ]
         }
        },
        {
         "name": 248,
         "dtype": "object",
         "stats": {
          "unique_count": 306,
          "nan_count": 1,
          "categories": [
           {
            "name": "{'sender': 'Data transmission (beta)', 'sender_type': 'html.Screen', 'sender_id': '8_45_3', 'a': 'web5start.png', 'b': 'web5a.png', 'message': 'Transferring data', 'subtitle': 'Please wait a second…', 'ended_on': 'transmission successful', 'duration': 489, 'time_run': 1092216, 'time_render': 1092216.48, 'time_show': 1092230, 'time_end': 1092719, 'time_commit': 1092720, 'timestamp': '2021-07-18T04:50:48.834Z', 'time_switch': 1092730}",
            "count": 2
           },
           {
            "name": "303 others",
            "count": 303
           },
           {
            "name": "Missing",
            "count": 1
           }
          ]
         }
        },
        {
         "name": 249,
         "dtype": "object",
         "stats": {
          "unique_count": 306,
          "nan_count": 1,
          "categories": [
           {
            "name": "{'sender': 'Trial', 'sender_type': 'flow.Sequence', 'sender_id': '8_45', 'a': 'web5start.png', 'b': 'web5a.png', 'ended_on': 'completion', 'duration': 22872.360000000102, 'time_run': 1069833, 'time_render': 1069833.52, 'time_show': 1069846.64, 'time_end': 1092719, 'time_commit': 1092720, 'timestamp': '2021-07-18T04:50:48.834Z', 'time_switch': 1092730}",
            "count": 2
           },
           {
            "name": "303 others",
            "count": 303
           },
           {
            "name": "Missing",
            "count": 1
           }
          ]
         }
        },
        {
         "name": 250,
         "dtype": "object",
         "stats": {
          "unique_count": 306,
          "nan_count": 1,
          "categories": [
           {
            "name": "{'sender': 'Fixation Cross', 'sender_type': 'html.Screen', 'sender_id': '8_46_0', 'a': 'web8start.png', 'b': 'web8b.png', 'ended_on': 'timeout', 'duration': 1000, 'time_run': 1092720, 'time_render': 1092719.72, 'time_show': 1092730, 'time_end': 1093713.34, 'time_commit': 1093714, 'timestamp': '2021-07-18T04:50:49.829Z', 'time_switch': 1093730}",
            "count": 2
           },
           {
            "name": "303 others",
            "count": 303
           },
           {
            "name": "Missing",
            "count": 1
           }
          ]
         }
        },
        {
         "name": 251,
         "dtype": "object",
         "stats": {
          "unique_count": 306,
          "nan_count": 1,
          "categories": [
           {
            "name": "{'sender': 'cf keyframe transitions', 'sender_type': 'html.Screen', 'sender_id': '8_46_1', 'a': 'web8start.png', 'b': 'web8b.png', 'fadeTime': 3313, 'response': 'pressed Space', 'ended_on': 'response', 'duration': 3352, 'time_run': 1093716, 'time_render': 1093713.34, 'time_show': 1093730, 'time_end': 1097082, 'time_commit': 1097082, 'timestamp': '2021-07-18T04:50:53.197Z', 'time_switch': 1097096.68}",
            "count": 2
           },
           {
            "name": "303 others",
            "count": 303
           },
           {
            "name": "Missing",
            "count": 1
           }
          ]
         }
        },
        {
         "name": 252,
         "dtype": "object",
         "stats": {
          "unique_count": 306,
          "nan_count": 1,
          "categories": [
           {
            "name": "{'sender': 'Did You Look At the Cross?', 'sender_type': 'html.Screen', 'sender_id': '8_46_2', 'a': 'web8start.png', 'b': 'web8b.png', 'response': 'continue', 'response_action': 'keypress(Space)', 'correctResponse': 'continue', 'correct': True, 'ended_on': 'response', 'duration': 512.3200000000652, 'time_run': 1097082, 'time_render': 1097082.06, 'time_show': 1097096.68, 'time_end': 1097609, 'time_commit': 1097610, 'timestamp': '2021-07-18T04:50:53.726Z', 'time_switch': 1097613.34}",
            "count": 2
           },
           {
            "name": "303 others",
            "count": 303
           },
           {
            "name": "Missing",
            "count": 1
           }
          ]
         }
        },
        {
         "name": 253,
         "dtype": "object",
         "stats": {
          "unique_count": 306,
          "nan_count": 1,
          "categories": [
           {
            "name": "{'sender': 'Data transmission (beta)', 'sender_type': 'html.Screen', 'sender_id': '8_46_3', 'a': 'web8start.png', 'b': 'web8b.png', 'message': 'Transferring data', 'subtitle': 'Please wait a second…', 'ended_on': 'transmission successful', 'duration': 507.6599999999162, 'time_run': 1097610, 'time_render': 1097610.46, 'time_show': 1097613.34, 'time_end': 1098121, 'time_commit': 1098122, 'timestamp': '2021-07-18T04:50:54.237Z', 'time_switch': 1098130}",
            "count": 2
           },
           {
            "name": "303 others",
            "count": 303
           },
           {
            "name": "Missing",
            "count": 1
           }
          ]
         }
        },
        {
         "name": 254,
         "dtype": "object",
         "stats": {
          "unique_count": 306,
          "nan_count": 1,
          "categories": [
           {
            "name": "{'sender': 'Trial', 'sender_type': 'flow.Sequence', 'sender_id': '8_46', 'a': 'web8start.png', 'b': 'web8b.png', 'ended_on': 'completion', 'duration': 5391, 'time_run': 1092720, 'time_render': 1092719.72, 'time_show': 1092730, 'time_end': 1098121, 'time_commit': 1098122, 'timestamp': '2021-07-18T04:50:54.238Z', 'time_switch': 1098130}",
            "count": 2
           },
           {
            "name": "303 others",
            "count": 303
           },
           {
            "name": "Missing",
            "count": 1
           }
          ]
         }
        },
        {
         "name": 255,
         "dtype": "object",
         "stats": {
          "unique_count": 306,
          "nan_count": 1,
          "categories": [
           {
            "name": "{'sender': 'Fixation Cross', 'sender_type': 'html.Screen', 'sender_id': '8_47_0', 'a': 'web11start.png', 'b': 'web11a.png', 'ended_on': 'timeout', 'duration': 1000.0600000000559, 'time_run': 1098122, 'time_render': 1098122.48, 'time_show': 1098130, 'time_end': 1099113.38, 'time_commit': 1099114, 'timestamp': '2021-07-18T04:50:55.228Z', 'time_switch': 1099130.06}",
            "count": 2
           },
           {
            "name": "303 others",
            "count": 303
           },
           {
            "name": "Missing",
            "count": 1
           }
          ]
         }
        },
        {
         "name": 256,
         "dtype": "object",
         "stats": {
          "unique_count": 306,
          "nan_count": 1,
          "categories": [
           {
            "name": "{'sender': 'cf keyframe transitions', 'sender_type': 'html.Screen', 'sender_id': '8_47_1', 'a': 'web11start.png', 'b': 'web11a.png', 'fadeTime': 3131, 'ended_on': 'timeout', 'duration': 19999.959999999963, 'time_run': 1099115, 'time_render': 1099113.38, 'time_show': 1099130.06, 'time_end': 1119113.42, 'time_commit': 1119114, 'timestamp': '2021-07-18T04:51:15.229Z', 'time_switch': 1119130.02}",
            "count": 2
           },
           {
            "name": "303 others",
            "count": 303
           },
           {
            "name": "Missing",
            "count": 1
           }
          ]
         }
        },
        {
         "name": 257,
         "dtype": "object",
         "stats": {
          "unique_count": 306,
          "nan_count": 1,
          "categories": [
           {
            "name": "{'sender': 'Did You Look At the Cross?', 'sender_type': 'html.Screen', 'sender_id': '8_47_2', 'a': 'web11start.png', 'b': 'web11a.png', 'response': 'continue', 'response_action': 'keypress(Space)', 'correctResponse': 'continue', 'correct': True, 'ended_on': 'response', 'duration': 1263.9799999999814, 'time_run': 1119114, 'time_render': 1119113.42, 'time_show': 1119130.02, 'time_end': 1120394, 'time_commit': 1120395, 'timestamp': '2021-07-18T04:51:16.510Z', 'time_switch': 1120396.7}",
            "count": 2
           },
           {
            "name": "303 others",
            "count": 303
           },
           {
            "name": "Missing",
            "count": 1
           }
          ]
         }
        },
        {
         "name": 258,
         "dtype": "object",
         "stats": {
          "unique_count": 306,
          "nan_count": 1,
          "categories": [
           {
            "name": "{'sender': 'Data transmission (beta)', 'sender_type': 'html.Screen', 'sender_id': '8_47_3', 'a': 'web11start.png', 'b': 'web11a.png', 'message': 'Transferring data', 'subtitle': 'Please wait a second…', 'ended_on': 'transmission successful', 'duration': 1108.3000000000466, 'time_run': 1120395, 'time_render': 1120394.44, 'time_show': 1120396.7, 'time_end': 1121505, 'time_commit': 1121505, 'timestamp': '2021-07-18T04:51:17.620Z', 'time_switch': 1121513.38}",
            "count": 2
           },
           {
            "name": "303 others",
            "count": 303
           },
           {
            "name": "Missing",
            "count": 1
           }
          ]
         }
        },
        {
         "name": 259,
         "dtype": "object",
         "stats": {
          "unique_count": 306,
          "nan_count": 1,
          "categories": [
           {
            "name": "{'sender': 'Trial', 'sender_type': 'flow.Sequence', 'sender_id': '8_47', 'a': 'web11start.png', 'b': 'web11a.png', 'ended_on': 'completion', 'duration': 23375, 'time_run': 1098122, 'time_render': 1098122.48, 'time_show': 1098130, 'time_end': 1121505, 'time_commit': 1121505, 'timestamp': '2021-07-18T04:51:17.620Z', 'time_switch': 1121513.38}",
            "count": 2
           },
           {
            "name": "303 others",
            "count": 303
           },
           {
            "name": "Missing",
            "count": 1
           }
          ]
         }
        },
        {
         "name": 260,
         "dtype": "object",
         "stats": {
          "unique_count": 306,
          "nan_count": 1,
          "categories": [
           {
            "name": "{'sender': 'Fixation Cross', 'sender_type': 'html.Screen', 'sender_id': '8_48_0', 'a': 'web4start.png', 'b': 'web4a.png', 'ended_on': 'timeout', 'duration': 999.9800000002142, 'time_run': 1121506, 'time_render': 1121505.26, 'time_show': 1121513.38, 'time_end': 1122496.7, 'time_commit': 1122497, 'timestamp': '2021-07-18T04:51:18.612Z', 'time_switch': 1122513.36}",
            "count": 2
           },
           {
            "name": "303 others",
            "count": 303
           },
           {
            "name": "Missing",
            "count": 1
           }
          ]
         }
        },
        {
         "name": 261,
         "dtype": "object",
         "stats": {
          "unique_count": 306,
          "nan_count": 1,
          "categories": [
           {
            "name": "{'sender': 'cf keyframe transitions', 'sender_type': 'html.Screen', 'sender_id': '8_48_1', 'a': 'web4start.png', 'b': 'web4a.png', 'fadeTime': 3838, 'ended_on': 'timeout', 'duration': 20000.039999999804, 'time_run': 1122499, 'time_render': 1122496.7, 'time_show': 1122513.36, 'time_end': 1142496.7, 'time_commit': 1142497, 'timestamp': '2021-07-18T04:51:38.612Z', 'time_switch': 1142513.4}",
            "count": 2
           },
           {
            "name": "303 others",
            "count": 303
           },
           {
            "name": "Missing",
            "count": 1
           }
          ]
         }
        },
        {
         "name": 262,
         "dtype": "object",
         "stats": {
          "unique_count": 306,
          "nan_count": 1,
          "categories": [
           {
            "name": "{'sender': 'Did You Look At the Cross?', 'sender_type': 'html.Screen', 'sender_id': '8_48_2', 'a': 'web4start.png', 'b': 'web4a.png', 'response': 'continue', 'response_action': 'keypress(Space)', 'correctResponse': 'continue', 'correct': True, 'ended_on': 'response', 'duration': 1487.6000000000931, 'time_run': 1142497, 'time_render': 1142496.7, 'time_show': 1142513.4, 'time_end': 1144001, 'time_commit': 1144002, 'timestamp': '2021-07-18T04:51:40.117Z', 'time_switch': 1144013.38}",
            "count": 2
           },
           {
            "name": "303 others",
            "count": 303
           },
           {
            "name": "Missing",
            "count": 1
           }
          ]
         }
        },
        {
         "name": 263,
         "dtype": "object",
         "stats": {
          "unique_count": 306,
          "nan_count": 1,
          "categories": [
           {
            "name": "{'sender': 'Data transmission (beta)', 'sender_type': 'html.Screen', 'sender_id': '8_48_3', 'a': 'web4start.png', 'b': 'web4a.png', 'message': 'Transferring data', 'subtitle': 'Please wait a second…', 'ended_on': 'transmission successful', 'duration': 562.6200000001118, 'time_run': 1144002, 'time_render': 1144002.18, 'time_show': 1144013.38, 'time_end': 1144576, 'time_commit': 1144576, 'timestamp': '2021-07-18T04:51:40.691Z', 'time_switch': 1144580.04}",
            "count": 2
           },
           {
            "name": "303 others",
            "count": 303
           },
           {
            "name": "Missing",
            "count": 1
           }
          ]
         }
        },
        {
         "name": 264,
         "dtype": "object",
         "stats": {
          "unique_count": 306,
          "nan_count": 1,
          "categories": [
           {
            "name": "{'sender': 'Trial', 'sender_type': 'flow.Sequence', 'sender_id': '8_48', 'a': 'web4start.png', 'b': 'web4a.png', 'ended_on': 'completion', 'duration': 23062.62000000011, 'time_run': 1121505, 'time_render': 1121505.26, 'time_show': 1121513.38, 'time_end': 1144576, 'time_commit': 1144576, 'timestamp': '2021-07-18T04:51:40.691Z', 'time_switch': 1144580.04}",
            "count": 2
           },
           {
            "name": "303 others",
            "count": 303
           },
           {
            "name": "Missing",
            "count": 1
           }
          ]
         }
        },
        {
         "name": 265,
         "dtype": "object",
         "stats": {
          "unique_count": 306,
          "nan_count": 1,
          "categories": [
           {
            "name": "{'sender': 'Fixation Cross', 'sender_type': 'html.Screen', 'sender_id': '8_49_0', 'a': 'web12start.png', 'b': 'web12a.png', 'ended_on': 'timeout', 'duration': 1000.0200000000186, 'time_run': 1144576, 'time_render': 1144576.08, 'time_show': 1144580.04, 'time_end': 1145563.38, 'time_commit': 1145564, 'timestamp': '2021-07-18T04:51:41.679Z', 'time_switch': 1145580.06}",
            "count": 2
           },
           {
            "name": "303 others",
            "count": 303
           },
           {
            "name": "Missing",
            "count": 1
           }
          ]
         }
        },
        {
         "name": 266,
         "dtype": "object",
         "stats": {
          "unique_count": 306,
          "nan_count": 1,
          "categories": [
           {
            "name": "{'sender': 'cf keyframe transitions', 'sender_type': 'html.Screen', 'sender_id': '8_49_1', 'a': 'web12start.png', 'b': 'web12a.png', 'fadeTime': 3188, 'response': 'pressed Space', 'ended_on': 'response', 'duration': 5490.939999999944, 'time_run': 1145566, 'time_render': 1145563.38, 'time_show': 1145580.06, 'time_end': 1151071, 'time_commit': 1151071, 'timestamp': '2021-07-18T04:51:47.186Z', 'time_switch': 1151080.16}",
            "count": 2
           },
           {
            "name": "303 others",
            "count": 303
           },
           {
            "name": "Missing",
            "count": 1
           }
          ]
         }
        },
        {
         "name": 267,
         "dtype": "object",
         "stats": {
          "unique_count": 306,
          "nan_count": 1,
          "categories": [
           {
            "name": "{'sender': 'Did You Look At the Cross?', 'sender_type': 'html.Screen', 'sender_id': '8_49_2', 'a': 'web12start.png', 'b': 'web12a.png', 'response': 'continue', 'response_action': 'keypress(Space)', 'correctResponse': 'continue', 'correct': True, 'ended_on': 'response', 'duration': 469.8400000000838, 'time_run': 1151071, 'time_render': 1151071.34, 'time_show': 1151080.16, 'time_end': 1151550, 'time_commit': 1151550, 'timestamp': '2021-07-18T04:51:47.665Z', 'time_switch': 1151563.4}",
            "count": 2
           },
           {
            "name": "303 others",
            "count": 303
           },
           {
            "name": "Missing",
            "count": 1
           }
          ]
         }
        },
        {
         "name": 268,
         "dtype": "object",
         "stats": {
          "unique_count": 306,
          "nan_count": 1,
          "categories": [
           {
            "name": "{'sender': 'Data transmission (beta)', 'sender_type': 'html.Screen', 'sender_id': '8_49_3', 'a': 'web12start.png', 'b': 'web12a.png', 'message': 'Transferring data', 'subtitle': 'Please wait a second…', 'ended_on': 'transmission successful', 'duration': 1113.6000000000931, 'time_run': 1151551, 'time_render': 1151550.28, 'time_show': 1151563.4, 'time_end': 1152677, 'time_commit': 1152677, 'timestamp': '2021-07-18T04:51:48.793Z', 'time_switch': 1152680.08}",
            "count": 2
           },
           {
            "name": "303 others",
            "count": 303
           },
           {
            "name": "Missing",
            "count": 1
           }
          ]
         }
        },
        {
         "name": 269,
         "dtype": "object",
         "stats": {
          "unique_count": 306,
          "nan_count": 1,
          "categories": [
           {
            "name": "{'sender': 'Trial', 'sender_type': 'flow.Sequence', 'sender_id': '8_49', 'a': 'web12start.png', 'b': 'web12a.png', 'ended_on': 'completion', 'duration': 8096.959999999963, 'time_run': 1144576, 'time_render': 1144576.08, 'time_show': 1144580.04, 'time_end': 1152677, 'time_commit': 1152678, 'timestamp': '2021-07-18T04:51:48.793Z', 'time_switch': 1152680.08}",
            "count": 2
           },
           {
            "name": "303 others",
            "count": 303
           },
           {
            "name": "Missing",
            "count": 1
           }
          ]
         }
        },
        {
         "name": 270,
         "dtype": "object",
         "stats": {
          "unique_count": 306,
          "nan_count": 1,
          "categories": [
           {
            "name": "{'sender': 'Fixation Cross', 'sender_type': 'html.Screen', 'sender_id': '8_50_0', 'a': 'web13start.png', 'b': 'web13a.png', 'ended_on': 'timeout', 'duration': 1000.0400000000373, 'time_run': 1152678, 'time_render': 1152677.68, 'time_show': 1152680.08, 'time_end': 1153663.4, 'time_commit': 1153664, 'timestamp': '2021-07-18T04:51:49.779Z', 'time_switch': 1153680.12}",
            "count": 2
           },
           {
            "name": "303 others",
            "count": 303
           },
           {
            "name": "Missing",
            "count": 1
           }
          ]
         }
        },
        {
         "name": 271,
         "dtype": "object",
         "stats": {
          "unique_count": 306,
          "nan_count": 1,
          "categories": [
           {
            "name": "{'sender': 'cf keyframe transitions', 'sender_type': 'html.Screen', 'sender_id': '8_50_1', 'a': 'web13start.png', 'b': 'web13a.png', 'fadeTime': 3581, 'ended_on': 'timeout', 'duration': 19999.959999999963, 'time_run': 1153666, 'time_render': 1153663.4, 'time_show': 1153680.12, 'time_end': 1173663.42, 'time_commit': 1173664, 'timestamp': '2021-07-18T04:52:09.779Z', 'time_switch': 1173680.08}",
            "count": 2
           },
           {
            "name": "303 others",
            "count": 303
           },
           {
            "name": "Missing",
            "count": 1
           }
          ]
         }
        },
        {
         "name": 272,
         "dtype": "object",
         "stats": {
          "unique_count": 306,
          "nan_count": 1,
          "categories": [
           {
            "name": "{'sender': 'Did You Look At the Cross?', 'sender_type': 'html.Screen', 'sender_id': '8_50_2', 'a': 'web13start.png', 'b': 'web13a.png', 'response': 'continue', 'response_action': 'keypress(Space)', 'correctResponse': 'continue', 'correct': True, 'ended_on': 'response', 'duration': 9213.919999999925, 'time_run': 1173664, 'time_render': 1173663.42, 'time_show': 1173680.08, 'time_end': 1182894, 'time_commit': 1182896, 'timestamp': '2021-07-18T04:52:19.011Z', 'time_switch': 1182896.78}",
            "count": 2
           },
           {
            "name": "303 others",
            "count": 303
           },
           {
            "name": "Missing",
            "count": 1
           }
          ]
         }
        },
        {
         "name": 273,
         "dtype": "object",
         "stats": {
          "unique_count": 306,
          "nan_count": 1,
          "categories": [
           {
            "name": "{'sender': 'Data transmission (beta)', 'sender_type': 'html.Screen', 'sender_id': '8_50_3', 'a': 'web13start.png', 'b': 'web13a.png', 'message': 'Transferring data', 'subtitle': 'Please wait a second…', 'ended_on': 'transmission successful', 'duration': 1690.219999999972, 'time_run': 1182897, 'time_render': 1182896.4, 'time_show': 1182896.78, 'time_end': 1184587, 'time_commit': 1184588, 'timestamp': '2021-07-18T04:52:20.703Z', 'time_switch': 1184596.76}",
            "count": 2
           },
           {
            "name": "303 others",
            "count": 303
           },
           {
            "name": "Missing",
            "count": 1
           }
          ]
         }
        },
        {
         "name": 274,
         "dtype": "object",
         "stats": {
          "unique_count": 306,
          "nan_count": 1,
          "categories": [
           {
            "name": "{'sender': 'Trial', 'sender_type': 'flow.Sequence', 'sender_id': '8_50', 'a': 'web13start.png', 'b': 'web13a.png', 'ended_on': 'completion', 'duration': 31906.919999999925, 'time_run': 1152678, 'time_render': 1152677.68, 'time_show': 1152680.08, 'time_end': 1184587, 'time_commit': 1184589, 'timestamp': '2021-07-18T04:52:20.704Z', 'time_switch': 1184596.76}",
            "count": 2
           },
           {
            "name": "303 others",
            "count": 303
           },
           {
            "name": "Missing",
            "count": 1
           }
          ]
         }
        },
        {
         "name": 275,
         "dtype": "object",
         "stats": {
          "unique_count": 306,
          "nan_count": 1,
          "categories": [
           {
            "name": "{'sender': 'Fixation Cross', 'sender_type': 'html.Screen', 'sender_id': '8_51_0', 'a': 'web15start.png', 'b': 'web15a.png', 'ended_on': 'timeout', 'duration': 1000, 'time_run': 1184589, 'time_render': 1184589.22, 'time_show': 1184596.76, 'time_end': 1185580.1, 'time_commit': 1185581, 'timestamp': '2021-07-18T04:52:21.696Z', 'time_switch': 1185596.76}",
            "count": 2
           },
           {
            "name": "303 others",
            "count": 303
           },
           {
            "name": "Missing",
            "count": 1
           }
          ]
         }
        },
        {
         "name": 276,
         "dtype": "object",
         "stats": {
          "unique_count": 306,
          "nan_count": 1,
          "categories": [
           {
            "name": "{'sender': 'cf keyframe transitions', 'sender_type': 'html.Screen', 'sender_id': '8_51_1', 'a': 'web15start.png', 'b': 'web15a.png', 'fadeTime': 3064, 'response': 'pressed Space', 'ended_on': 'response', 'duration': 16936.23999999999, 'time_run': 1185586, 'time_render': 1185580.1, 'time_show': 1185596.76, 'time_end': 1202533, 'time_commit': 1202534, 'timestamp': '2021-07-18T04:52:38.649Z', 'time_switch': 1202546.8}",
            "count": 2
           },
           {
            "name": "303 others",
            "count": 303
           },
           {
            "name": "Missing",
            "count": 1
           }
          ]
         }
        },
        {
         "name": 277,
         "dtype": "object",
         "stats": {
          "unique_count": 306,
          "nan_count": 1,
          "categories": [
           {
            "name": "{'sender': 'Did You Look At the Cross?', 'sender_type': 'html.Screen', 'sender_id': '8_51_2', 'a': 'web15start.png', 'b': 'web15a.png', 'response': 'continue', 'response_action': 'keypress(Space)', 'correctResponse': 'continue', 'correct': True, 'ended_on': 'response', 'duration': 739.1999999999534, 'time_run': 1202534, 'time_render': 1202533.82, 'time_show': 1202546.8, 'time_end': 1203286, 'time_commit': 1203287, 'timestamp': '2021-07-18T04:52:39.402Z', 'time_switch': 1203296.8}",
            "count": 2
           },
           {
            "name": "303 others",
            "count": 303
           },
           {
            "name": "Missing",
            "count": 1
           }
          ]
         }
        },
        {
         "name": 278,
         "dtype": "object",
         "stats": {
          "unique_count": 306,
          "nan_count": 1,
          "categories": [
           {
            "name": "{'sender': 'Data transmission (beta)', 'sender_type': 'html.Screen', 'sender_id': '8_51_3', 'a': 'web15start.png', 'b': 'web15a.png', 'message': 'Transferring data', 'subtitle': 'Please wait a second…', 'ended_on': 'transmission successful', 'duration': 614.1999999999534, 'time_run': 1203287, 'time_render': 1203287.4, 'time_show': 1203296.8, 'time_end': 1203911, 'time_commit': 1203912, 'timestamp': '2021-07-18T04:52:40.028Z', 'time_switch': 1203930.1}",
            "count": 2
           },
           {
            "name": "303 others",
            "count": 303
           },
           {
            "name": "Missing",
            "count": 1
           }
          ]
         }
        },
        {
         "name": 279,
         "dtype": "object",
         "stats": {
          "unique_count": 306,
          "nan_count": 1,
          "categories": [
           {
            "name": "{'sender': 'Trial', 'sender_type': 'flow.Sequence', 'sender_id': '8_51', 'a': 'web15start.png', 'b': 'web15a.png', 'ended_on': 'completion', 'duration': 19314.23999999999, 'time_run': 1184589, 'time_render': 1184589.22, 'time_show': 1184596.76, 'time_end': 1203911, 'time_commit': 1203913, 'timestamp': '2021-07-18T04:52:40.028Z', 'time_switch': 1203930.1}",
            "count": 2
           },
           {
            "name": "303 others",
            "count": 303
           },
           {
            "name": "Missing",
            "count": 1
           }
          ]
         }
        },
        {
         "name": 280,
         "dtype": "object",
         "stats": {
          "unique_count": 306,
          "nan_count": 1,
          "categories": [
           {
            "name": "{'sender': 'Fixation Cross', 'sender_type': 'html.Screen', 'sender_id': '8_52_0', 'a': 'web5start.png', 'b': 'web5a.png', 'ended_on': 'timeout', 'duration': 1000.0200000000186, 'time_run': 1203913, 'time_render': 1203913.34, 'time_show': 1203930.1, 'time_end': 1204913.44, 'time_commit': 1204914, 'timestamp': '2021-07-18T04:52:41.029Z', 'time_switch': 1204930.12}",
            "count": 2
           },
           {
            "name": "303 others",
            "count": 303
           },
           {
            "name": "Missing",
            "count": 1
           }
          ]
         }
        },
        {
         "name": 281,
         "dtype": "object",
         "stats": {
          "unique_count": 306,
          "nan_count": 1,
          "categories": [
           {
            "name": "{'sender': 'cf keyframe transitions', 'sender_type': 'html.Screen', 'sender_id': '8_52_1', 'a': 'web5start.png', 'b': 'web5a.png', 'fadeTime': 3175, 'ended_on': 'timeout', 'duration': 20000, 'time_run': 1204917, 'time_render': 1204913.44, 'time_show': 1204930.12, 'time_end': 1224913.46, 'time_commit': 1224914, 'timestamp': '2021-07-18T04:53:01.029Z', 'time_switch': 1224930.12}",
            "count": 2
           },
           {
            "name": "303 others",
            "count": 303
           },
           {
            "name": "Missing",
            "count": 1
           }
          ]
         }
        },
        {
         "name": 282,
         "dtype": "object",
         "stats": {
          "unique_count": 306,
          "nan_count": 1,
          "categories": [
           {
            "name": "{'sender': 'Did You Look At the Cross?', 'sender_type': 'html.Screen', 'sender_id': '8_52_2', 'a': 'web5start.png', 'b': 'web5a.png', 'response': 'continue', 'response_action': 'keypress(Space)', 'correctResponse': 'continue', 'correct': True, 'ended_on': 'response', 'duration': 1172.8799999998882, 'time_run': 1224914, 'time_render': 1224913.46, 'time_show': 1224930.12, 'time_end': 1226103, 'time_commit': 1226104, 'timestamp': '2021-07-18T04:53:02.220Z', 'time_switch': 1226113.5}",
            "count": 2
           },
           {
            "name": "303 others",
            "count": 303
           },
           {
            "name": "Missing",
            "count": 1
           }
          ]
         }
        },
        {
         "name": 283,
         "dtype": "object",
         "stats": {
          "unique_count": 306,
          "nan_count": 1,
          "categories": [
           {
            "name": "{'sender': 'Data transmission (beta)', 'sender_type': 'html.Screen', 'sender_id': '8_52_3', 'a': 'web5start.png', 'b': 'web5a.png', 'message': 'Transferring data', 'subtitle': 'Please wait a second…', 'ended_on': 'transmission successful', 'duration': 661.5, 'time_run': 1226105, 'time_render': 1226104.84, 'time_show': 1226113.5, 'time_end': 1226775, 'time_commit': 1226775, 'timestamp': '2021-07-18T04:53:02.890Z', 'time_switch': 1226780.12}",
            "count": 2
           },
           {
            "name": "303 others",
            "count": 303
           },
           {
            "name": "Missing",
            "count": 1
           }
          ]
         }
        },
        {
         "name": 284,
         "dtype": "object",
         "stats": {
          "unique_count": 306,
          "nan_count": 1,
          "categories": [
           {
            "name": "{'sender': 'Trial', 'sender_type': 'flow.Sequence', 'sender_id': '8_52', 'a': 'web5start.png', 'b': 'web5a.png', 'ended_on': 'completion', 'duration': 22844.899999999907, 'time_run': 1203913, 'time_render': 1203913.34, 'time_show': 1203930.1, 'time_end': 1226775, 'time_commit': 1226775, 'timestamp': '2021-07-18T04:53:02.891Z', 'time_switch': 1226780.12}",
            "count": 2
           },
           {
            "name": "303 others",
            "count": 303
           },
           {
            "name": "Missing",
            "count": 1
           }
          ]
         }
        },
        {
         "name": 285,
         "dtype": "object",
         "stats": {
          "unique_count": 306,
          "nan_count": 1,
          "categories": [
           {
            "name": "{'sender': 'Fixation Cross', 'sender_type': 'html.Screen', 'sender_id': '8_53_0', 'a': 'web9start.png', 'b': 'web9b.png', 'ended_on': 'timeout', 'duration': 1000.0399999998044, 'time_run': 1226776, 'time_render': 1226776.02, 'time_show': 1226780.12, 'time_end': 1227763.46, 'time_commit': 1227764, 'timestamp': '2021-07-18T04:53:03.879Z', 'time_switch': 1227780.16}",
            "count": 2
           },
           {
            "name": "303 others",
            "count": 303
           },
           {
            "name": "Missing",
            "count": 1
           }
          ]
         }
        },
        {
         "name": 286,
         "dtype": "object",
         "stats": {
          "unique_count": 306,
          "nan_count": 1,
          "categories": [
           {
            "name": "{'sender': 'cf keyframe transitions', 'sender_type': 'html.Screen', 'sender_id': '8_53_1', 'a': 'web9start.png', 'b': 'web9b.png', 'fadeTime': 3658, 'response': 'pressed Space', 'ended_on': 'response', 'duration': 6595.840000000084, 'time_run': 1227767, 'time_render': 1227763.46, 'time_show': 1227780.16, 'time_end': 1234376, 'time_commit': 1234378, 'timestamp': '2021-07-18T04:53:10.493Z', 'time_switch': 1234380.16}",
            "count": 2
           },
           {
            "name": "303 others",
            "count": 303
           },
           {
            "name": "Missing",
            "count": 1
           }
          ]
         }
        },
        {
         "name": 287,
         "dtype": "object",
         "stats": {
          "unique_count": 306,
          "nan_count": 1,
          "categories": [
           {
            "name": "{'sender': 'Did You Look At the Cross?', 'sender_type': 'html.Screen', 'sender_id': '8_53_2', 'a': 'web9start.png', 'b': 'web9b.png', 'response': 'continue', 'response_action': 'keypress(Space)', 'correctResponse': 'continue', 'correct': True, 'ended_on': 'response', 'duration': 770.8400000000838, 'time_run': 1234378, 'time_render': 1234377.38, 'time_show': 1234380.16, 'time_end': 1235151, 'time_commit': 1235151, 'timestamp': '2021-07-18T04:53:11.266Z', 'time_switch': 1235163.46}",
            "count": 2
           },
           {
            "name": "303 others",
            "count": 303
           },
           {
            "name": "Missing",
            "count": 1
           }
          ]
         }
        },
        {
         "name": 288,
         "dtype": "object",
         "stats": {
          "unique_count": 306,
          "nan_count": 1,
          "categories": [
           {
            "name": "{'sender': 'Data transmission (beta)', 'sender_type': 'html.Screen', 'sender_id': '8_53_3', 'a': 'web9start.png', 'b': 'web9b.png', 'message': 'Transferring data', 'subtitle': 'Please wait a second…', 'ended_on': 'transmission successful', 'duration': 607.5400000000373, 'time_run': 1235152, 'time_render': 1235151.56, 'time_show': 1235163.46, 'time_end': 1235771, 'time_commit': 1235771, 'timestamp': '2021-07-18T04:53:11.886Z', 'time_switch': 1235780.14}",
            "count": 2
           },
           {
            "name": "303 others",
            "count": 303
           },
           {
            "name": "Missing",
            "count": 1
           }
          ]
         }
        },
        {
         "name": 289,
         "dtype": "object",
         "stats": {
          "unique_count": 306,
          "nan_count": 1,
          "categories": [
           {
            "name": "{'sender': 'Trial', 'sender_type': 'flow.Sequence', 'sender_id': '8_53', 'a': 'web9start.png', 'b': 'web9b.png', 'ended_on': 'completion', 'duration': 8990.879999999888, 'time_run': 1226776, 'time_render': 1226776.02, 'time_show': 1226780.12, 'time_end': 1235771, 'time_commit': 1235771, 'timestamp': '2021-07-18T04:53:11.886Z', 'time_switch': 1235780.14}",
            "count": 2
           },
           {
            "name": "303 others",
            "count": 303
           },
           {
            "name": "Missing",
            "count": 1
           }
          ]
         }
        },
        {
         "name": 290,
         "dtype": "object",
         "stats": {
          "unique_count": 306,
          "nan_count": 1,
          "categories": [
           {
            "name": "{'sender': 'Fixation Cross', 'sender_type': 'html.Screen', 'sender_id': '8_54_0', 'a': 'web15start.png', 'b': 'web15b.png', 'ended_on': 'timeout', 'duration': 1000, 'time_run': 1235772, 'time_render': 1235771.24, 'time_show': 1235780.14, 'time_end': 1236763.46, 'time_commit': 1236764, 'timestamp': '2021-07-18T04:53:12.879Z', 'time_switch': 1236780.14}",
            "count": 2
           },
           {
            "name": "303 others",
            "count": 303
           },
           {
            "name": "Missing",
            "count": 1
           }
          ]
         }
        },
        {
         "name": 291,
         "dtype": "object",
         "stats": {
          "unique_count": 306,
          "nan_count": 1,
          "categories": [
           {
            "name": "{'sender': 'cf keyframe transitions', 'sender_type': 'html.Screen', 'sender_id': '8_54_1', 'a': 'web15start.png', 'b': 'web15b.png', 'fadeTime': 3849, 'response': 'pressed Space', 'ended_on': 'response', 'duration': 5505.860000000102, 'time_run': 1236767, 'time_render': 1236763.46, 'time_show': 1236780.14, 'time_end': 1242286, 'time_commit': 1242286, 'timestamp': '2021-07-18T04:53:18.401Z', 'time_switch': 1242296.8}",
            "count": 2
           },
           {
            "name": "303 others",
            "count": 303
           },
           {
            "name": "Missing",
            "count": 1
           }
          ]
         }
        },
        {
         "name": 292,
         "dtype": "object",
         "stats": {
          "unique_count": 306,
          "nan_count": 1,
          "categories": [
           {
            "name": "{'sender': 'Did You Look At the Cross?', 'sender_type': 'html.Screen', 'sender_id': '8_54_2', 'a': 'web15start.png', 'b': 'web15b.png', 'response': 'continue', 'response_action': 'keypress(Space)', 'correctResponse': 'continue', 'correct': True, 'ended_on': 'response', 'duration': 480.19999999995343, 'time_run': 1242286, 'time_render': 1242286.06, 'time_show': 1242296.8, 'time_end': 1242777, 'time_commit': 1242777, 'timestamp': '2021-07-18T04:53:18.892Z', 'time_switch': 1242780.14}",
            "count": 2
           },
           {
            "name": "303 others",
            "count": 303
           },
           {
            "name": "Missing",
            "count": 1
           }
          ]
         }
        },
        {
         "name": 293,
         "dtype": "object",
         "stats": {
          "unique_count": 306,
          "nan_count": 1,
          "categories": [
           {
            "name": "{'sender': 'Data transmission (beta)', 'sender_type': 'html.Screen', 'sender_id': '8_54_3', 'a': 'web15start.png', 'b': 'web15b.png', 'message': 'Transferring data', 'subtitle': 'Please wait a second…', 'ended_on': 'transmission successful', 'duration': 624.8600000001024, 'time_run': 1242777, 'time_render': 1242777.24, 'time_show': 1242780.14, 'time_end': 1243405, 'time_commit': 1243405, 'timestamp': '2021-07-18T04:53:19.520Z', 'time_switch': 1243413.48}",
            "count": 2
           },
           {
            "name": "303 others",
            "count": 303
           },
           {
            "name": "Missing",
            "count": 1
           }
          ]
         }
        },
        {
         "name": 294,
         "dtype": "object",
         "stats": {
          "unique_count": 306,
          "nan_count": 1,
          "categories": [
           {
            "name": "{'sender': 'Trial', 'sender_type': 'flow.Sequence', 'sender_id': '8_54', 'a': 'web15start.png', 'b': 'web15b.png', 'ended_on': 'completion', 'duration': 7624.860000000102, 'time_run': 1235771, 'time_render': 1235771.24, 'time_show': 1235780.14, 'time_end': 1243405, 'time_commit': 1243406, 'timestamp': '2021-07-18T04:53:19.521Z', 'time_switch': 1243413.48}",
            "count": 2
           },
           {
            "name": "303 others",
            "count": 303
           },
           {
            "name": "Missing",
            "count": 1
           }
          ]
         }
        },
        {
         "name": 295,
         "dtype": "object",
         "stats": {
          "unique_count": 306,
          "nan_count": 1,
          "categories": [
           {
            "name": "{'sender': 'Fixation Cross', 'sender_type': 'html.Screen', 'sender_id': '8_55_0', 'a': 'web7start.png', 'b': 'web7a.png', 'ended_on': 'timeout', 'duration': 1000, 'time_run': 1243406, 'time_render': 1243406.12, 'time_show': 1243413.48, 'time_end': 1244396.82, 'time_commit': 1244397, 'timestamp': '2021-07-18T04:53:20.513Z', 'time_switch': 1244413.48}",
            "count": 2
           },
           {
            "name": "303 others",
            "count": 303
           },
           {
            "name": "Missing",
            "count": 1
           }
          ]
         }
        },
        {
         "name": 296,
         "dtype": "object",
         "stats": {
          "unique_count": 306,
          "nan_count": 1,
          "categories": [
           {
            "name": "{'sender': 'cf keyframe transitions', 'sender_type': 'html.Screen', 'sender_id': '8_55_1', 'a': 'web7start.png', 'b': 'web7a.png', 'fadeTime': 3443, 'ended_on': 'timeout', 'duration': 20000.02000000002, 'time_run': 1244400, 'time_render': 1244396.82, 'time_show': 1244413.48, 'time_end': 1264396.82, 'time_commit': 1264397, 'timestamp': '2021-07-18T04:53:40.513Z', 'time_switch': 1264413.5}",
            "count": 2
           },
           {
            "name": "303 others",
            "count": 303
           },
           {
            "name": "Missing",
            "count": 1
           }
          ]
         }
        },
        {
         "name": 297,
         "dtype": "object",
         "stats": {
          "unique_count": 306,
          "nan_count": 1,
          "categories": [
           {
            "name": "{'sender': 'Did You Look At the Cross?', 'sender_type': 'html.Screen', 'sender_id': '8_55_2', 'a': 'web7start.png', 'b': 'web7a.png', 'response': 'continue', 'response_action': 'keypress(Space)', 'correctResponse': 'continue', 'correct': True, 'ended_on': 'response', 'duration': 1364.5, 'time_run': 1264397, 'time_render': 1264396.82, 'time_show': 1264413.5, 'time_end': 1265778, 'time_commit': 1265779, 'timestamp': '2021-07-18T04:53:41.894Z', 'time_switch': 1265780.16}",
            "count": 2
           },
           {
            "name": "303 others",
            "count": 303
           },
           {
            "name": "Missing",
            "count": 1
           }
          ]
         }
        },
        {
         "name": 298,
         "dtype": "object",
         "stats": {
          "unique_count": 306,
          "nan_count": 1,
          "categories": [
           {
            "name": "{'sender': 'Data transmission (beta)', 'sender_type': 'html.Screen', 'sender_id': '8_55_3', 'a': 'web7start.png', 'b': 'web7a.png', 'message': 'Transferring data', 'subtitle': 'Please wait a second…', 'ended_on': 'transmission successful', 'duration': 636.8400000000838, 'time_run': 1265779, 'time_render': 1265779.1, 'time_show': 1265780.16, 'time_end': 1266417, 'time_commit': 1266417, 'timestamp': '2021-07-18T04:53:42.532Z', 'time_switch': 1266430.16}",
            "count": 2
           },
           {
            "name": "303 others",
            "count": 303
           },
           {
            "name": "Missing",
            "count": 1
           }
          ]
         }
        },
        {
         "name": 299,
         "dtype": "object",
         "stats": {
          "unique_count": 306,
          "nan_count": 1,
          "categories": [
           {
            "name": "{'sender': 'Trial', 'sender_type': 'flow.Sequence', 'sender_id': '8_55', 'a': 'web7start.png', 'b': 'web7a.png', 'ended_on': 'completion', 'duration': 23003.52000000002, 'time_run': 1243406, 'time_render': 1243406.12, 'time_show': 1243413.48, 'time_end': 1266417, 'time_commit': 1266417, 'timestamp': '2021-07-18T04:53:42.532Z', 'time_switch': 1266430.16}",
            "count": 2
           },
           {
            "name": "303 others",
            "count": 303
           },
           {
            "name": "Missing",
            "count": 1
           }
          ]
         }
        },
        {
         "name": 300,
         "dtype": "object",
         "stats": {
          "unique_count": 306,
          "nan_count": 1,
          "categories": [
           {
            "name": "{'sender': 'Fixation Cross', 'sender_type': 'html.Screen', 'sender_id': '8_56_0', 'a': 'web12start.png', 'b': 'web12b.png', 'ended_on': 'timeout', 'duration': 1000, 'time_run': 1266418, 'time_render': 1266417.44, 'time_show': 1266430.16, 'time_end': 1267413.5, 'time_commit': 1267414, 'timestamp': '2021-07-18T04:53:43.529Z', 'time_switch': 1267430.16}",
            "count": 2
           },
           {
            "name": "303 others",
            "count": 303
           },
           {
            "name": "Missing",
            "count": 1
           }
          ]
         }
        },
        {
         "name": 301,
         "dtype": "object",
         "stats": {
          "unique_count": 306,
          "nan_count": 1,
          "categories": [
           {
            "name": "{'sender': 'cf keyframe transitions', 'sender_type': 'html.Screen', 'sender_id': '8_56_1', 'a': 'web12start.png', 'b': 'web12b.png', 'fadeTime': 3668, 'response': 'pressed Space', 'ended_on': 'response', 'duration': 5949.840000000084, 'time_run': 1267417, 'time_render': 1267413.5, 'time_show': 1267430.16, 'time_end': 1273380, 'time_commit': 1273380, 'timestamp': '2021-07-18T04:53:49.495Z', 'time_switch': 1273396.84}",
            "count": 2
           },
           {
            "name": "303 others",
            "count": 303
           },
           {
            "name": "Missing",
            "count": 1
           }
          ]
         }
        },
        {
         "name": 302,
         "dtype": "object",
         "stats": {
          "unique_count": 306,
          "nan_count": 1,
          "categories": [
           {
            "name": "{'sender': 'Did You Look At the Cross?', 'sender_type': 'html.Screen', 'sender_id': '8_56_2', 'a': 'web12start.png', 'b': 'web12b.png', 'response': 'continue', 'response_action': 'keypress(Space)', 'correctResponse': 'continue', 'correct': True, 'ended_on': 'response', 'duration': 343.1599999999162, 'time_run': 1273380, 'time_render': 1273380.28, 'time_show': 1273396.84, 'time_end': 1273740, 'time_commit': 1273740, 'timestamp': '2021-07-18T04:53:49.856Z', 'time_switch': 1273746.84}",
            "count": 2
           },
           {
            "name": "303 others",
            "count": 303
           },
           {
            "name": "Missing",
            "count": 1
           }
          ]
         }
        },
        {
         "name": 303,
         "dtype": "object",
         "stats": {
          "unique_count": 306,
          "nan_count": 1,
          "categories": [
           {
            "name": "{'sender': 'Data transmission (beta)', 'sender_type': 'html.Screen', 'sender_id': '8_56_3', 'a': 'web12start.png', 'b': 'web12b.png', 'message': 'Transferring data', 'subtitle': 'Please wait a second…', 'ended_on': 'transmission successful', 'duration': 861.1599999999162, 'time_run': 1273740, 'time_render': 1273740.74, 'time_show': 1273746.84, 'time_end': 1274608, 'time_commit': 1274609, 'timestamp': '2021-07-18T04:53:50.724Z', 'time_switch': 1274613.5}",
            "count": 2
           },
           {
            "name": "303 others",
            "count": 303
           },
           {
            "name": "Missing",
            "count": 1
           }
          ]
         }
        },
        {
         "name": 304,
         "dtype": "object",
         "stats": {
          "unique_count": 306,
          "nan_count": 1,
          "categories": [
           {
            "name": "{'sender': 'Trial', 'sender_type': 'flow.Sequence', 'sender_id': '8_56', 'a': 'web12start.png', 'b': 'web12b.png', 'ended_on': 'completion', 'duration': 8177.840000000084, 'time_run': 1266417, 'time_render': 1266417.44, 'time_show': 1266430.16, 'time_end': 1274608, 'time_commit': 1274609, 'timestamp': '2021-07-18T04:53:50.724Z', 'time_switch': 1274613.5}",
            "count": 2
           },
           {
            "name": "303 others",
            "count": 303
           },
           {
            "name": "Missing",
            "count": 1
           }
          ]
         }
        },
        {
         "name": 305,
         "dtype": "object",
         "stats": {
          "unique_count": 306,
          "nan_count": 1,
          "categories": [
           {
            "name": "{'sender': 'Fixation Cross', 'sender_type': 'html.Screen', 'sender_id': '8_57_0', 'a': 'web6start.png', 'b': 'web6b.png', 'ended_on': 'timeout', 'duration': 1000, 'time_run': 1274609, 'time_render': 1274608.98, 'time_show': 1274613.5, 'time_end': 1275596.84, 'time_commit': 1275598, 'timestamp': '2021-07-18T04:53:51.712Z', 'time_switch': 1275613.5}",
            "count": 2
           },
           {
            "name": "303 others",
            "count": 303
           },
           {
            "name": "Missing",
            "count": 1
           }
          ]
         }
        },
        {
         "name": 306,
         "dtype": "object",
         "stats": {
          "unique_count": 306,
          "nan_count": 1,
          "categories": [
           {
            "name": "{'sender': 'cf keyframe transitions', 'sender_type': 'html.Screen', 'sender_id': '8_57_1', 'a': 'web6start.png', 'b': 'web6b.png', 'fadeTime': 3042, 'response': 'pressed Space', 'ended_on': 'response', 'duration': 4265.5, 'time_run': 1275601, 'time_render': 1275596.84, 'time_show': 1275613.5, 'time_end': 1279879, 'time_commit': 1279879, 'timestamp': '2021-07-18T04:53:55.996Z', 'time_switch': 1279896.84}",
            "count": 2
           },
           {
            "name": "303 others",
            "count": 303
           },
           {
            "name": "Missing",
            "count": 1
           }
          ]
         }
        },
        {
         "name": 307,
         "dtype": "object",
         "stats": {
          "unique_count": 306,
          "nan_count": 1,
          "categories": [
           {
            "name": "{'sender': 'Did You Look At the Cross?', 'sender_type': 'html.Screen', 'sender_id': '8_57_2', 'a': 'web6start.png', 'b': 'web6b.png', 'response': 'continue', 'response_action': 'keypress(Space)', 'correctResponse': 'continue', 'correct': True, 'ended_on': 'response', 'duration': 547.1599999999162, 'time_run': 1279881, 'time_render': 1279880.14, 'time_show': 1279896.84, 'time_end': 1280444, 'time_commit': 1280445, 'timestamp': '2021-07-18T04:53:56.560Z', 'time_switch': 1280446.84}",
            "count": 2
           },
           {
            "name": "303 others",
            "count": 303
           },
           {
            "name": "Missing",
            "count": 1
           }
          ]
         }
        },
        {
         "name": 308,
         "dtype": "object",
         "stats": {
          "unique_count": 306,
          "nan_count": 1,
          "categories": [
           {
            "name": "{'sender': 'Data transmission (beta)', 'sender_type': 'html.Screen', 'sender_id': '8_57_3', 'a': 'web6start.png', 'b': 'web6b.png', 'message': 'Transferring data', 'subtitle': 'Please wait a second…', 'ended_on': 'transmission successful', 'duration': 651.1599999999162, 'time_run': 1280445, 'time_render': 1280445.32, 'time_show': 1280446.84, 'time_end': 1281098, 'time_commit': 1281098, 'timestamp': '2021-07-18T04:53:57.213Z', 'time_switch': 1281113.5}",
            "count": 2
           },
           {
            "name": "303 others",
            "count": 303
           },
           {
            "name": "Missing",
            "count": 1
           }
          ]
         }
        },
        {
         "name": 309,
         "dtype": "object",
         "stats": {
          "unique_count": 306,
          "nan_count": 1,
          "categories": [
           {
            "name": "{'sender': 'Trial', 'sender_type': 'flow.Sequence', 'sender_id': '8_57', 'a': 'web6start.png', 'b': 'web6b.png', 'ended_on': 'completion', 'duration': 6484.5, 'time_run': 1274609, 'time_render': 1274608.98, 'time_show': 1274613.5, 'time_end': 1281098, 'time_commit': 1281099, 'timestamp': '2021-07-18T04:53:57.214Z', 'time_switch': 1281113.5}",
            "count": 2
           },
           {
            "name": "303 others",
            "count": 303
           },
           {
            "name": "Missing",
            "count": 1
           }
          ]
         }
        },
        {
         "name": 310,
         "dtype": "object",
         "stats": {
          "unique_count": 306,
          "nan_count": 1,
          "categories": [
           {
            "name": "{'sender': 'Fixation Cross', 'sender_type': 'html.Screen', 'sender_id': '8_58_0', 'a': 'web12start.png', 'b': 'web12b.png', 'ended_on': 'timeout', 'duration': 1000.0600000000559, 'time_run': 1281099, 'time_render': 1281098.76, 'time_show': 1281113.5, 'time_end': 1282096.9, 'time_commit': 1282097, 'timestamp': '2021-07-18T04:53:58.212Z', 'time_switch': 1282113.56}",
            "count": 2
           },
           {
            "name": "303 others",
            "count": 303
           },
           {
            "name": "Missing",
            "count": 1
           }
          ]
         }
        },
        {
         "name": 311,
         "dtype": "object",
         "stats": {
          "unique_count": 306,
          "nan_count": 1,
          "categories": [
           {
            "name": "{'sender': 'cf keyframe transitions', 'sender_type': 'html.Screen', 'sender_id': '8_58_1', 'a': 'web12start.png', 'b': 'web12b.png', 'fadeTime': 3720, 'response': 'pressed Space', 'ended_on': 'response', 'duration': 4474.439999999944, 'time_run': 1282100, 'time_render': 1282096.9, 'time_show': 1282113.56, 'time_end': 1286588, 'time_commit': 1286589, 'timestamp': '2021-07-18T04:54:02.704Z', 'time_switch': 1286596.86}",
            "count": 2
           },
           {
            "name": "303 others",
            "count": 303
           },
           {
            "name": "Missing",
            "count": 1
           }
          ]
         }
        },
        {
         "name": 312,
         "dtype": "object",
         "stats": {
          "unique_count": 306,
          "nan_count": 1,
          "categories": [
           {
            "name": "{'sender': 'Did You Look At the Cross?', 'sender_type': 'html.Screen', 'sender_id': '8_58_2', 'a': 'web12start.png', 'b': 'web12b.png', 'response': 'continue', 'response_action': 'keypress(Space)', 'correctResponse': 'continue', 'correct': True, 'ended_on': 'response', 'duration': 368.13999999989755, 'time_run': 1286589, 'time_render': 1286588.94, 'time_show': 1286596.86, 'time_end': 1286965, 'time_commit': 1286965, 'timestamp': '2021-07-18T04:54:03.080Z', 'time_switch': 1286980.18}",
            "count": 2
           },
           {
            "name": "303 others",
            "count": 303
           },
           {
            "name": "Missing",
            "count": 1
           }
          ]
         }
        },
        {
         "name": 313,
         "dtype": "object",
         "stats": {
          "unique_count": 306,
          "nan_count": 1,
          "categories": [
           {
            "name": "{'sender': 'Data transmission (beta)', 'sender_type': 'html.Screen', 'sender_id': '8_58_3', 'a': 'web12start.png', 'b': 'web12b.png', 'message': 'Transferring data', 'subtitle': 'Please wait a second…', 'ended_on': 'transmission successful', 'duration': 650.8200000000652, 'time_run': 1286966, 'time_render': 1286965.5, 'time_show': 1286980.18, 'time_end': 1287631, 'time_commit': 1287631, 'timestamp': '2021-07-18T04:54:03.746Z', 'time_switch': 1287646.86}",
            "count": 2
           },
           {
            "name": "303 others",
            "count": 303
           },
           {
            "name": "Missing",
            "count": 1
           }
          ]
         }
        },
        {
         "name": 314,
         "dtype": "object",
         "stats": {
          "unique_count": 306,
          "nan_count": 1,
          "categories": [
           {
            "name": "{'sender': 'Trial', 'sender_type': 'flow.Sequence', 'sender_id': '8_58', 'a': 'web12start.png', 'b': 'web12b.png', 'ended_on': 'completion', 'duration': 6517.5, 'time_run': 1281099, 'time_render': 1281098.76, 'time_show': 1281113.5, 'time_end': 1287631, 'time_commit': 1287632, 'timestamp': '2021-07-18T04:54:03.746Z', 'time_switch': 1287646.86}",
            "count": 2
           },
           {
            "name": "303 others",
            "count": 303
           },
           {
            "name": "Missing",
            "count": 1
           }
          ]
         }
        },
        {
         "name": 315,
         "dtype": "object",
         "stats": {
          "unique_count": 306,
          "nan_count": 1,
          "categories": [
           {
            "name": "{'sender': 'Fixation Cross', 'sender_type': 'html.Screen', 'sender_id': '8_59_0', 'a': 'web14start.png', 'b': 'web14a.png', 'ended_on': 'timeout', 'duration': 1000, 'time_run': 1287632, 'time_render': 1287631.72, 'time_show': 1287646.86, 'time_end': 1288630.2, 'time_commit': 1288631, 'timestamp': '2021-07-18T04:54:04.745Z', 'time_switch': 1288646.86}",
            "count": 2
           },
           {
            "name": "303 others",
            "count": 303
           },
           {
            "name": "Missing",
            "count": 1
           }
          ]
         }
        },
        {
         "name": 316,
         "dtype": "object",
         "stats": {
          "unique_count": 306,
          "nan_count": 1,
          "categories": [
           {
            "name": "{'sender': 'cf keyframe transitions', 'sender_type': 'html.Screen', 'sender_id': '8_59_1', 'a': 'web14start.png', 'b': 'web14a.png', 'fadeTime': 3906, 'ended_on': 'timeout', 'duration': 20000, 'time_run': 1288633, 'time_render': 1288630.2, 'time_show': 1288646.86, 'time_end': 1308630.2, 'time_commit': 1308630, 'timestamp': '2021-07-18T04:54:24.746Z', 'time_switch': 1308646.86}",
            "count": 2
           },
           {
            "name": "303 others",
            "count": 303
           },
           {
            "name": "Missing",
            "count": 1
           }
          ]
         }
        },
        {
         "name": 317,
         "dtype": "object",
         "stats": {
          "unique_count": 306,
          "nan_count": 1,
          "categories": [
           {
            "name": "{'sender': 'Did You Look At the Cross?', 'sender_type': 'html.Screen', 'sender_id': '8_59_2', 'a': 'web14start.png', 'b': 'web14a.png', 'response': 'continue', 'response_action': 'keypress(Space)', 'correctResponse': 'continue', 'correct': True, 'ended_on': 'response', 'duration': 1139.1399999998976, 'time_run': 1308631, 'time_render': 1308630.2, 'time_show': 1308646.86, 'time_end': 1309786, 'time_commit': 1309787, 'timestamp': '2021-07-18T04:54:25.901Z', 'time_switch': 1309796.86}",
            "count": 2
           },
           {
            "name": "303 others",
            "count": 303
           },
           {
            "name": "Missing",
            "count": 1
           }
          ]
         }
        },
        {
         "name": 318,
         "dtype": "object",
         "stats": {
          "unique_count": 306,
          "nan_count": 1,
          "categories": [
           {
            "name": "{'sender': 'Data transmission (beta)', 'sender_type': 'html.Screen', 'sender_id': '8_59_3', 'a': 'web14start.png', 'b': 'web14a.png', 'message': 'Transferring data', 'subtitle': 'Please wait a second…', 'ended_on': 'transmission successful', 'duration': 659.1399999998976, 'time_run': 1309787, 'time_render': 1309786.72, 'time_show': 1309796.86, 'time_end': 1310456, 'time_commit': 1310456, 'timestamp': '2021-07-18T04:54:26.572Z', 'time_switch': 1310463.54}",
            "count": 2
           },
           {
            "name": "303 others",
            "count": 303
           },
           {
            "name": "Missing",
            "count": 1
           }
          ]
         }
        },
        {
         "name": 319,
         "dtype": "object",
         "stats": {
          "unique_count": 306,
          "nan_count": 1,
          "categories": [
           {
            "name": "{'sender': 'Trial', 'sender_type': 'flow.Sequence', 'sender_id': '8_59', 'a': 'web14start.png', 'b': 'web14a.png', 'ended_on': 'completion', 'duration': 22809.139999999898, 'time_run': 1287632, 'time_render': 1287631.72, 'time_show': 1287646.86, 'time_end': 1310456, 'time_commit': 1310457, 'timestamp': '2021-07-18T04:54:26.572Z', 'time_switch': 1310463.54}",
            "count": 2
           },
           {
            "name": "303 others",
            "count": 303
           },
           {
            "name": "Missing",
            "count": 1
           }
          ]
         }
        },
        {
         "name": 320,
         "dtype": "object",
         "stats": {
          "unique_count": 306,
          "nan_count": 1,
          "categories": [
           {
            "name": "{'sender': 'Fixation Cross', 'sender_type': 'html.Screen', 'sender_id': '8_60_0', 'a': 'web10start.png', 'b': 'web10a.png', 'ended_on': 'timeout', 'duration': 1000, 'time_run': 1310457, 'time_render': 1310457.04, 'time_show': 1310463.54, 'time_end': 1311446.88, 'time_commit': 1311448, 'timestamp': '2021-07-18T04:54:27.563Z', 'time_switch': 1311463.54}",
            "count": 2
           },
           {
            "name": "303 others",
            "count": 303
           },
           {
            "name": "Missing",
            "count": 1
           }
          ]
         }
        },
        {
         "name": 321,
         "dtype": "object",
         "stats": {
          "unique_count": 306,
          "nan_count": 1,
          "categories": [
           {
            "name": "{'sender': 'cf keyframe transitions', 'sender_type': 'html.Screen', 'sender_id': '8_60_1', 'a': 'web10start.png', 'b': 'web10a.png', 'fadeTime': 3117, 'ended_on': 'timeout', 'duration': 20000.02000000002, 'time_run': 1311450, 'time_render': 1311446.88, 'time_show': 1311463.54, 'time_end': 1331446.9, 'time_commit': 1331447, 'timestamp': '2021-07-18T04:54:47.563Z', 'time_switch': 1331463.56}",
            "count": 2
           },
           {
            "name": "303 others",
            "count": 303
           },
           {
            "name": "Missing",
            "count": 1
           }
          ]
         }
        },
        {
         "name": 322,
         "dtype": "object",
         "stats": {
          "unique_count": 306,
          "nan_count": 1,
          "categories": [
           {
            "name": "{'sender': 'Did You Look At the Cross?', 'sender_type': 'html.Screen', 'sender_id': '8_60_2', 'a': 'web10start.png', 'b': 'web10a.png', 'response': 'continue', 'response_action': 'keypress(Space)', 'correctResponse': 'continue', 'correct': True, 'ended_on': 'response', 'duration': 1479.4399999999441, 'time_run': 1331447, 'time_render': 1331446.9, 'time_show': 1331463.56, 'time_end': 1332943, 'time_commit': 1332943, 'timestamp': '2021-07-18T04:54:49.059Z', 'time_switch': 1332946.9}",
            "count": 2
           },
           {
            "name": "303 others",
            "count": 303
           },
           {
            "name": "Missing",
            "count": 1
           }
          ]
         }
        },
        {
         "name": 323,
         "dtype": "object",
         "stats": {
          "unique_count": 306,
          "nan_count": 1,
          "categories": [
           {
            "name": "{'sender': 'Data transmission (beta)', 'sender_type': 'html.Screen', 'sender_id': '8_60_3', 'a': 'web10start.png', 'b': 'web10a.png', 'message': 'Transferring data', 'subtitle': 'Please wait a second…', 'ended_on': 'transmission successful', 'duration': 684.1000000000931, 'time_run': 1332943, 'time_render': 1332943.66, 'time_show': 1332946.9, 'time_end': 1333631, 'time_commit': 1333631, 'timestamp': '2021-07-18T04:54:49.747Z', 'time_switch': 1333646.9}",
            "count": 2
           },
           {
            "name": "303 others",
            "count": 303
           },
           {
            "name": "Missing",
            "count": 1
           }
          ]
         }
        },
        {
         "name": 324,
         "dtype": "object",
         "stats": {
          "unique_count": 306,
          "nan_count": 1,
          "categories": [
           {
            "name": "{'sender': 'Trial', 'sender_type': 'flow.Sequence', 'sender_id': '8_60', 'a': 'web10start.png', 'b': 'web10a.png', 'ended_on': 'completion', 'duration': 23167.459999999963, 'time_run': 1310457, 'time_render': 1310457.04, 'time_show': 1310463.54, 'time_end': 1333631, 'time_commit': 1333631, 'timestamp': '2021-07-18T04:54:49.747Z', 'time_switch': 1333646.9}",
            "count": 2
           },
           {
            "name": "303 others",
            "count": 303
           },
           {
            "name": "Missing",
            "count": 1
           }
          ]
         }
        },
        {
         "name": 325,
         "dtype": "object",
         "stats": {
          "unique_count": 306,
          "nan_count": 1,
          "categories": [
           {
            "name": "{'sender': 'Fixation Cross', 'sender_type': 'html.Screen', 'sender_id': '8_61_0', 'a': 'web14start.png', 'b': 'web14a.png', 'ended_on': 'timeout', 'duration': 1000, 'time_run': 1333632, 'time_render': 1333632.28, 'time_show': 1333646.9, 'time_end': 1334630.24, 'time_commit': 1334631, 'timestamp': '2021-07-18T04:54:50.746Z', 'time_switch': 1334646.9}",
            "count": 2
           },
           {
            "name": "303 others",
            "count": 303
           },
           {
            "name": "Missing",
            "count": 1
           }
          ]
         }
        },
        {
         "name": 326,
         "dtype": "object"
        },
        {
         "name": 327,
         "dtype": "object"
        },
        {
         "name": 328,
         "dtype": "object"
        },
        {
         "name": 329,
         "dtype": "object"
        },
        {
         "name": 330,
         "dtype": "object"
        },
        {
         "name": 331,
         "dtype": "object"
        },
        {
         "name": 332,
         "dtype": "object"
        },
        {
         "name": 333,
         "dtype": "object"
        },
        {
         "name": 334,
         "dtype": "object"
        },
        {
         "name": 335,
         "dtype": "object"
        },
        {
         "name": 336,
         "dtype": "object"
        },
        {
         "name": 337,
         "dtype": "object"
        },
        {
         "name": 338,
         "dtype": "object"
        },
        {
         "name": 339,
         "dtype": "object"
        },
        {
         "name": 340,
         "dtype": "object"
        },
        {
         "name": 341,
         "dtype": "object"
        },
        {
         "name": 342,
         "dtype": "object"
        },
        {
         "name": 343,
         "dtype": "object"
        },
        {
         "name": 344,
         "dtype": "object"
        },
        {
         "name": 345,
         "dtype": "object"
        },
        {
         "name": 346,
         "dtype": "object"
        },
        {
         "name": 347,
         "dtype": "object"
        },
        {
         "name": 348,
         "dtype": "object"
        },
        {
         "name": 349,
         "dtype": "object"
        },
        {
         "name": 350,
         "dtype": "object"
        },
        {
         "name": 351,
         "dtype": "object"
        },
        {
         "name": 352,
         "dtype": "object"
        },
        {
         "name": 353,
         "dtype": "object"
        },
        {
         "name": 354,
         "dtype": "object"
        },
        {
         "name": 355,
         "dtype": "object"
        },
        {
         "name": 356,
         "dtype": "object"
        },
        {
         "name": 357,
         "dtype": "object"
        },
        {
         "name": 358,
         "dtype": "object"
        },
        {
         "name": 359,
         "dtype": "object"
        },
        {
         "name": 360,
         "dtype": "object"
        },
        {
         "name": 361,
         "dtype": "object"
        },
        {
         "name": 362,
         "dtype": "object"
        },
        {
         "name": 363,
         "dtype": "object"
        },
        {
         "name": 364,
         "dtype": "object"
        },
        {
         "name": 365,
         "dtype": "object"
        },
        {
         "name": 366,
         "dtype": "object"
        },
        {
         "name": 367,
         "dtype": "object"
        },
        {
         "name": 368,
         "dtype": "object"
        },
        {
         "name": 369,
         "dtype": "object"
        },
        {
         "name": 370,
         "dtype": "object"
        },
        {
         "name": 371,
         "dtype": "object"
        },
        {
         "name": 372,
         "dtype": "object"
        },
        {
         "name": 373,
         "dtype": "object"
        },
        {
         "name": 374,
         "dtype": "object"
        },
        {
         "name": 375,
         "dtype": "object"
        },
        {
         "name": 376,
         "dtype": "object"
        },
        {
         "name": 377,
         "dtype": "object"
        },
        {
         "name": 378,
         "dtype": "object"
        },
        {
         "name": 379,
         "dtype": "object"
        },
        {
         "name": 380,
         "dtype": "object"
        },
        {
         "name": 381,
         "dtype": "object"
        },
        {
         "name": 382,
         "dtype": "object"
        },
        {
         "name": "_deepnote_index_column",
         "dtype": "int64"
        }
       ],
       "rows_top": [
        {
         "0": "{'url': {'srid': '32782'}, 'meta': {'labjs_version': '20.2.3', 'labjs_build': {'flavor': 'productio…",
         "1": "{'sender': 'Depression Questionnaire', 'sender_type': 'html.Form', 'sender_id': '1', 'Age': '40', '…",
         "2": "{'sender': 'Anxiety Questionnaire', 'sender_type': 'html.Form', 'sender_id': '2', 'Secure': '2', 'W…",
         "3": "{'sender': 'Thanks for Filling Out Form', 'sender_type': 'html.Page', 'sender_id': '3', 'ended_on':…",
         "4": "{'sender': 'Instructions', 'sender_type': 'html.Screen', 'sender_id': '4', 'response': 'continue', …",
         "5": "{'sender': 'Test Trial Instructions', 'sender_type': 'html.Screen', 'sender_id': '5', 'response': '…",
         "6": "{'sender': 'Fixation Cross', 'sender_type': 'html.Screen', 'sender_id': '6_0_0', 'a': 'web3start.pn…",
         "7": "{'sender': 'cf keyframe transitions', 'sender_type': 'html.Screen', 'sender_id': '6_0_1', 'a': 'web…",
         "8": "{'sender': 'Did You Look At the Cross?', 'sender_type': 'html.Screen', 'sender_id': '6_0_2', 'a': '…",
         "9": "{'sender': 'Trial', 'sender_type': 'flow.Sequence', 'sender_id': '6_0', 'a': 'web3start.png', 'b': …",
         "10": "{'sender': 'Fixation Cross', 'sender_type': 'html.Screen', 'sender_id': '6_1_0', 'a': 'web1start.pn…",
         "11": "{'sender': 'cf keyframe transitions', 'sender_type': 'html.Screen', 'sender_id': '6_1_1', 'a': 'web…",
         "12": "{'sender': 'Did You Look At the Cross?', 'sender_type': 'html.Screen', 'sender_id': '6_1_2', 'a': '…",
         "13": "{'sender': 'Trial', 'sender_type': 'flow.Sequence', 'sender_id': '6_1', 'a': 'web1start.png', 'b': …",
         "14": "{'sender': 'Fixation Cross', 'sender_type': 'html.Screen', 'sender_id': '6_2_0', 'a': 'web2start.pn…",
         "15": "{'sender': 'cf keyframe transitions', 'sender_type': 'html.Screen', 'sender_id': '6_2_1', 'a': 'web…",
         "16": "{'sender': 'Did You Look At the Cross?', 'sender_type': 'html.Screen', 'sender_id': '6_2_2', 'a': '…",
         "17": "{'sender': 'Trial', 'sender_type': 'flow.Sequence', 'sender_id': '6_2', 'a': 'web2start.png', 'b': …",
         "18": "{'sender': 'Practice Rounds', 'sender_type': 'flow.Loop', 'sender_id': '6', 'ended_on': 'completion…",
         "19": "{'sender': 'We Will Now Begin Test Trials', 'sender_type': 'html.Screen', 'sender_id': '7', 'respon…",
         "20": "{'sender': 'Fixation Cross', 'sender_type': 'html.Screen', 'sender_id': '8_0_0', 'a': 'web13start.p…",
         "21": "{'sender': 'cf keyframe transitions', 'sender_type': 'html.Screen', 'sender_id': '8_0_1', 'a': 'web…",
         "22": "{'sender': 'Did You Look At the Cross?', 'sender_type': 'html.Screen', 'sender_id': '8_0_2', 'a': '…",
         "23": "{'sender': 'Data transmission (beta)', 'sender_type': 'html.Screen', 'sender_id': '8_0_3', 'a': 'we…",
         "24": "{'sender': 'Trial', 'sender_type': 'flow.Sequence', 'sender_id': '8_0', 'a': 'web13start.png', 'b':…",
         "25": "{'sender': 'Fixation Cross', 'sender_type': 'html.Screen', 'sender_id': '8_1_0', 'a': 'web9start.pn…",
         "26": "{'sender': 'cf keyframe transitions', 'sender_type': 'html.Screen', 'sender_id': '8_1_1', 'a': 'web…",
         "27": "{'sender': 'Did You Look At the Cross?', 'sender_type': 'html.Screen', 'sender_id': '8_1_2', 'a': '…",
         "28": "{'sender': 'Data transmission (beta)', 'sender_type': 'html.Screen', 'sender_id': '8_1_3', 'a': 'we…",
         "29": "{'sender': 'Trial', 'sender_type': 'flow.Sequence', 'sender_id': '8_1', 'a': 'web9start.png', 'b': …",
         "30": "{'sender': 'Fixation Cross', 'sender_type': 'html.Screen', 'sender_id': '8_2_0', 'a': 'web9start.pn…",
         "31": "{'sender': 'cf keyframe transitions', 'sender_type': 'html.Screen', 'sender_id': '8_2_1', 'a': 'web…",
         "32": "{'sender': 'Did You Look At the Cross?', 'sender_type': 'html.Screen', 'sender_id': '8_2_2', 'a': '…",
         "33": "{'sender': 'Data transmission (beta)', 'sender_type': 'html.Screen', 'sender_id': '8_2_3', 'a': 'we…",
         "34": "{'sender': 'Trial', 'sender_type': 'flow.Sequence', 'sender_id': '8_2', 'a': 'web9start.png', 'b': …",
         "35": "{'sender': 'Fixation Cross', 'sender_type': 'html.Screen', 'sender_id': '8_3_0', 'a': 'web8start.pn…",
         "36": "{'sender': 'cf keyframe transitions', 'sender_type': 'html.Screen', 'sender_id': '8_3_1', 'a': 'web…",
         "37": "{'sender': 'Did You Look At the Cross?', 'sender_type': 'html.Screen', 'sender_id': '8_3_2', 'a': '…",
         "38": "{'sender': 'Data transmission (beta)', 'sender_type': 'html.Screen', 'sender_id': '8_3_3', 'a': 'we…",
         "39": "{'sender': 'Trial', 'sender_type': 'flow.Sequence', 'sender_id': '8_3', 'a': 'web8start.png', 'b': …",
         "40": "{'sender': 'Fixation Cross', 'sender_type': 'html.Screen', 'sender_id': '8_4_0', 'a': 'web11start.p…",
         "41": "{'sender': 'cf keyframe transitions', 'sender_type': 'html.Screen', 'sender_id': '8_4_1', 'a': 'web…",
         "42": "{'sender': 'Did You Look At the Cross?', 'sender_type': 'html.Screen', 'sender_id': '8_4_2', 'a': '…",
         "43": "{'sender': 'Data transmission (beta)', 'sender_type': 'html.Screen', 'sender_id': '8_4_3', 'a': 'we…",
         "44": "{'sender': 'Trial', 'sender_type': 'flow.Sequence', 'sender_id': '8_4', 'a': 'web11start.png', 'b':…",
         "45": "{'sender': 'Fixation Cross', 'sender_type': 'html.Screen', 'sender_id': '8_5_0', 'a': 'web6start.pn…",
         "46": "{'sender': 'cf keyframe transitions', 'sender_type': 'html.Screen', 'sender_id': '8_5_1', 'a': 'web…",
         "47": "{'sender': 'Did You Look At the Cross?', 'sender_type': 'html.Screen', 'sender_id': '8_5_2', 'a': '…",
         "48": "{'sender': 'Data transmission (beta)', 'sender_type': 'html.Screen', 'sender_id': '8_5_3', 'a': 'we…",
         "49": "{'sender': 'Trial', 'sender_type': 'flow.Sequence', 'sender_id': '8_5', 'a': 'web6start.png', 'b': …",
         "50": "{'sender': 'Fixation Cross', 'sender_type': 'html.Screen', 'sender_id': '8_6_0', 'a': 'web11start.p…",
         "51": "{'sender': 'cf keyframe transitions', 'sender_type': 'html.Screen', 'sender_id': '8_6_1', 'a': 'web…",
         "52": "{'sender': 'Did You Look At the Cross?', 'sender_type': 'html.Screen', 'sender_id': '8_6_2', 'a': '…",
         "53": "{'sender': 'Data transmission (beta)', 'sender_type': 'html.Screen', 'sender_id': '8_6_3', 'a': 'we…",
         "54": "{'sender': 'Trial', 'sender_type': 'flow.Sequence', 'sender_id': '8_6', 'a': 'web11start.png', 'b':…",
         "55": "{'sender': 'Fixation Cross', 'sender_type': 'html.Screen', 'sender_id': '8_7_0', 'a': 'web8start.pn…",
         "56": "{'sender': 'cf keyframe transitions', 'sender_type': 'html.Screen', 'sender_id': '8_7_1', 'a': 'web…",
         "57": "{'sender': 'Did You Look At the Cross?', 'sender_type': 'html.Screen', 'sender_id': '8_7_2', 'a': '…",
         "58": "{'sender': 'Data transmission (beta)', 'sender_type': 'html.Screen', 'sender_id': '8_7_3', 'a': 'we…",
         "59": "{'sender': 'Trial', 'sender_type': 'flow.Sequence', 'sender_id': '8_7', 'a': 'web8start.png', 'b': …",
         "60": "{'sender': 'Fixation Cross', 'sender_type': 'html.Screen', 'sender_id': '8_8_0', 'a': 'web15start.p…",
         "61": "{'sender': 'cf keyframe transitions', 'sender_type': 'html.Screen', 'sender_id': '8_8_1', 'a': 'web…",
         "62": "{'sender': 'Did You Look At the Cross?', 'sender_type': 'html.Screen', 'sender_id': '8_8_2', 'a': '…",
         "63": "{'sender': 'Data transmission (beta)', 'sender_type': 'html.Screen', 'sender_id': '8_8_3', 'a': 'we…",
         "64": "{'sender': 'Trial', 'sender_type': 'flow.Sequence', 'sender_id': '8_8', 'a': 'web15start.png', 'b':…",
         "65": "{'sender': 'Fixation Cross', 'sender_type': 'html.Screen', 'sender_id': '8_9_0', 'a': 'web15start.p…",
         "66": "{'sender': 'cf keyframe transitions', 'sender_type': 'html.Screen', 'sender_id': '8_9_1', 'a': 'web…",
         "67": "{'sender': 'Did You Look At the Cross?', 'sender_type': 'html.Screen', 'sender_id': '8_9_2', 'a': '…",
         "68": "{'sender': 'Data transmission (beta)', 'sender_type': 'html.Screen', 'sender_id': '8_9_3', 'a': 'we…",
         "69": "{'sender': 'Trial', 'sender_type': 'flow.Sequence', 'sender_id': '8_9', 'a': 'web15start.png', 'b':…",
         "70": "{'sender': 'Fixation Cross', 'sender_type': 'html.Screen', 'sender_id': '8_10_0', 'a': 'web11start.…",
         "71": "{'sender': 'cf keyframe transitions', 'sender_type': 'html.Screen', 'sender_id': '8_10_1', 'a': 'we…",
         "72": "{'sender': 'Did You Look At the Cross?', 'sender_type': 'html.Screen', 'sender_id': '8_10_2', 'a': …",
         "73": "{'sender': 'Data transmission (beta)', 'sender_type': 'html.Screen', 'sender_id': '8_10_3', 'a': 'w…",
         "74": "{'sender': 'Trial', 'sender_type': 'flow.Sequence', 'sender_id': '8_10', 'a': 'web11start.png', 'b'…",
         "75": "{'sender': 'Fixation Cross', 'sender_type': 'html.Screen', 'sender_id': '8_11_0', 'a': 'web8start.p…",
         "76": "{'sender': 'cf keyframe transitions', 'sender_type': 'html.Screen', 'sender_id': '8_11_1', 'a': 'we…",
         "77": "{'sender': 'Did You Look At the Cross?', 'sender_type': 'html.Screen', 'sender_id': '8_11_2', 'a': …",
         "78": "{'sender': 'Data transmission (beta)', 'sender_type': 'html.Screen', 'sender_id': '8_11_3', 'a': 'w…",
         "79": "{'sender': 'Trial', 'sender_type': 'flow.Sequence', 'sender_id': '8_11', 'a': 'web8start.png', 'b':…",
         "80": "{'sender': 'Fixation Cross', 'sender_type': 'html.Screen', 'sender_id': '8_12_0', 'a': 'web4start.p…",
         "81": "{'sender': 'cf keyframe transitions', 'sender_type': 'html.Screen', 'sender_id': '8_12_1', 'a': 'we…",
         "82": "{'sender': 'Did You Look At the Cross?', 'sender_type': 'html.Screen', 'sender_id': '8_12_2', 'a': …",
         "83": "{'sender': 'Data transmission (beta)', 'sender_type': 'html.Screen', 'sender_id': '8_12_3', 'a': 'w…",
         "84": "{'sender': 'Trial', 'sender_type': 'flow.Sequence', 'sender_id': '8_12', 'a': 'web4start.png', 'b':…",
         "85": "{'sender': 'Fixation Cross', 'sender_type': 'html.Screen', 'sender_id': '8_13_0', 'a': 'web5start.p…",
         "86": "{'sender': 'cf keyframe transitions', 'sender_type': 'html.Screen', 'sender_id': '8_13_1', 'a': 'we…",
         "87": "{'sender': 'Did You Look At the Cross?', 'sender_type': 'html.Screen', 'sender_id': '8_13_2', 'a': …",
         "88": "{'sender': 'Data transmission (beta)', 'sender_type': 'html.Screen', 'sender_id': '8_13_3', 'a': 'w…",
         "89": "{'sender': 'Trial', 'sender_type': 'flow.Sequence', 'sender_id': '8_13', 'a': 'web5start.png', 'b':…",
         "90": "{'sender': 'Fixation Cross', 'sender_type': 'html.Screen', 'sender_id': '8_14_0', 'a': 'web7start.p…",
         "91": "{'sender': 'cf keyframe transitions', 'sender_type': 'html.Screen', 'sender_id': '8_14_1', 'a': 'we…",
         "92": "{'sender': 'Did You Look At the Cross?', 'sender_type': 'html.Screen', 'sender_id': '8_14_2', 'a': …",
         "93": "{'sender': 'Data transmission (beta)', 'sender_type': 'html.Screen', 'sender_id': '8_14_3', 'a': 'w…",
         "94": "{'sender': 'Trial', 'sender_type': 'flow.Sequence', 'sender_id': '8_14', 'a': 'web7start.png', 'b':…",
         "95": "{'sender': 'Fixation Cross', 'sender_type': 'html.Screen', 'sender_id': '8_15_0', 'a': 'web9start.p…",
         "96": "{'sender': 'cf keyframe transitions', 'sender_type': 'html.Screen', 'sender_id': '8_15_1', 'a': 'we…",
         "97": "{'sender': 'Did You Look At the Cross?', 'sender_type': 'html.Screen', 'sender_id': '8_15_2', 'a': …",
         "98": "{'sender': 'Data transmission (beta)', 'sender_type': 'html.Screen', 'sender_id': '8_15_3', 'a': 'w…",
         "99": "{'sender': 'Trial', 'sender_type': 'flow.Sequence', 'sender_id': '8_15', 'a': 'web9start.png', 'b':…",
         "100": "{'sender': 'Fixation Cross', 'sender_type': 'html.Screen', 'sender_id': '8_16_0', 'a': 'web14start.…",
         "101": "{'sender': 'cf keyframe transitions', 'sender_type': 'html.Screen', 'sender_id': '8_16_1', 'a': 'we…",
         "102": "{'sender': 'Did You Look At the Cross?', 'sender_type': 'html.Screen', 'sender_id': '8_16_2', 'a': …",
         "103": "{'sender': 'Data transmission (beta)', 'sender_type': 'html.Screen', 'sender_id': '8_16_3', 'a': 'w…",
         "104": "{'sender': 'Trial', 'sender_type': 'flow.Sequence', 'sender_id': '8_16', 'a': 'web14start.png', 'b'…",
         "105": "{'sender': 'Fixation Cross', 'sender_type': 'html.Screen', 'sender_id': '8_17_0', 'a': 'web10start.…",
         "106": "{'sender': 'cf keyframe transitions', 'sender_type': 'html.Screen', 'sender_id': '8_17_1', 'a': 'we…",
         "107": "{'sender': 'Did You Look At the Cross?', 'sender_type': 'html.Screen', 'sender_id': '8_17_2', 'a': …",
         "108": "{'sender': 'Data transmission (beta)', 'sender_type': 'html.Screen', 'sender_id': '8_17_3', 'a': 'w…",
         "109": "{'sender': 'Trial', 'sender_type': 'flow.Sequence', 'sender_id': '8_17', 'a': 'web10start.png', 'b'…",
         "110": "{'sender': 'Fixation Cross', 'sender_type': 'html.Screen', 'sender_id': '8_18_0', 'a': 'web9start.p…",
         "111": "{'sender': 'cf keyframe transitions', 'sender_type': 'html.Screen', 'sender_id': '8_18_1', 'a': 'we…",
         "112": "{'sender': 'Did You Look At the Cross?', 'sender_type': 'html.Screen', 'sender_id': '8_18_2', 'a': …",
         "113": "{'sender': 'Data transmission (beta)', 'sender_type': 'html.Screen', 'sender_id': '8_18_3', 'a': 'w…",
         "114": "{'sender': 'Trial', 'sender_type': 'flow.Sequence', 'sender_id': '8_18', 'a': 'web9start.png', 'b':…",
         "115": "{'sender': 'Fixation Cross', 'sender_type': 'html.Screen', 'sender_id': '8_19_0', 'a': 'web12start.…",
         "116": "{'sender': 'cf keyframe transitions', 'sender_type': 'html.Screen', 'sender_id': '8_19_1', 'a': 'we…",
         "117": "{'sender': 'Did You Look At the Cross?', 'sender_type': 'html.Screen', 'sender_id': '8_19_2', 'a': …",
         "118": "{'sender': 'Data transmission (beta)', 'sender_type': 'html.Screen', 'sender_id': '8_19_3', 'a': 'w…",
         "119": "{'sender': 'Trial', 'sender_type': 'flow.Sequence', 'sender_id': '8_19', 'a': 'web12start.png', 'b'…",
         "120": "{'sender': 'Fixation Cross', 'sender_type': 'html.Screen', 'sender_id': '8_20_0', 'a': 'web7start.p…",
         "121": "{'sender': 'cf keyframe transitions', 'sender_type': 'html.Screen', 'sender_id': '8_20_1', 'a': 'we…",
         "122": "{'sender': 'Did You Look At the Cross?', 'sender_type': 'html.Screen', 'sender_id': '8_20_2', 'a': …",
         "123": "{'sender': 'Data transmission (beta)', 'sender_type': 'html.Screen', 'sender_id': '8_20_3', 'a': 'w…",
         "124": "{'sender': 'Trial', 'sender_type': 'flow.Sequence', 'sender_id': '8_20', 'a': 'web7start.png', 'b':…",
         "125": "{'sender': 'Fixation Cross', 'sender_type': 'html.Screen', 'sender_id': '8_21_0', 'a': 'web14start.…",
         "126": "{'sender': 'cf keyframe transitions', 'sender_type': 'html.Screen', 'sender_id': '8_21_1', 'a': 'we…",
         "127": "{'sender': 'Did You Look At the Cross?', 'sender_type': 'html.Screen', 'sender_id': '8_21_2', 'a': …",
         "128": "{'sender': 'Data transmission (beta)', 'sender_type': 'html.Screen', 'sender_id': '8_21_3', 'a': 'w…",
         "129": "{'sender': 'Trial', 'sender_type': 'flow.Sequence', 'sender_id': '8_21', 'a': 'web14start.png', 'b'…",
         "130": "{'sender': 'Fixation Cross', 'sender_type': 'html.Screen', 'sender_id': '8_22_0', 'a': 'web5start.p…",
         "131": "{'sender': 'cf keyframe transitions', 'sender_type': 'html.Screen', 'sender_id': '8_22_1', 'a': 'we…",
         "132": "{'sender': 'Did You Look At the Cross?', 'sender_type': 'html.Screen', 'sender_id': '8_22_2', 'a': …",
         "133": "{'sender': 'Data transmission (beta)', 'sender_type': 'html.Screen', 'sender_id': '8_22_3', 'a': 'w…",
         "134": "{'sender': 'Trial', 'sender_type': 'flow.Sequence', 'sender_id': '8_22', 'a': 'web5start.png', 'b':…",
         "135": "{'sender': 'Fixation Cross', 'sender_type': 'html.Screen', 'sender_id': '8_23_0', 'a': 'web7start.p…",
         "136": "{'sender': 'cf keyframe transitions', 'sender_type': 'html.Screen', 'sender_id': '8_23_1', 'a': 'we…",
         "137": "{'sender': 'Did You Look At the Cross?', 'sender_type': 'html.Screen', 'sender_id': '8_23_2', 'a': …",
         "138": "{'sender': 'Data transmission (beta)', 'sender_type': 'html.Screen', 'sender_id': '8_23_3', 'a': 'w…",
         "139": "{'sender': 'Trial', 'sender_type': 'flow.Sequence', 'sender_id': '8_23', 'a': 'web7start.png', 'b':…",
         "140": "{'sender': 'Fixation Cross', 'sender_type': 'html.Screen', 'sender_id': '8_24_0', 'a': 'web10start.…",
         "141": "{'sender': 'cf keyframe transitions', 'sender_type': 'html.Screen', 'sender_id': '8_24_1', 'a': 'we…",
         "142": "{'sender': 'Did You Look At the Cross?', 'sender_type': 'html.Screen', 'sender_id': '8_24_2', 'a': …",
         "143": "{'sender': 'Data transmission (beta)', 'sender_type': 'html.Screen', 'sender_id': '8_24_3', 'a': 'w…",
         "144": "{'sender': 'Trial', 'sender_type': 'flow.Sequence', 'sender_id': '8_24', 'a': 'web10start.png', 'b'…",
         "145": "{'sender': 'Fixation Cross', 'sender_type': 'html.Screen', 'sender_id': '8_25_0', 'a': 'web5start.p…",
         "146": "{'sender': 'cf keyframe transitions', 'sender_type': 'html.Screen', 'sender_id': '8_25_1', 'a': 'we…",
         "147": "{'sender': 'Did You Look At the Cross?', 'sender_type': 'html.Screen', 'sender_id': '8_25_2', 'a': …",
         "148": "{'sender': 'Data transmission (beta)', 'sender_type': 'html.Screen', 'sender_id': '8_25_3', 'a': 'w…",
         "149": "{'sender': 'Trial', 'sender_type': 'flow.Sequence', 'sender_id': '8_25', 'a': 'web5start.png', 'b':…",
         "150": "{'sender': 'Fixation Cross', 'sender_type': 'html.Screen', 'sender_id': '8_26_0', 'a': 'web10start.…",
         "151": "{'sender': 'cf keyframe transitions', 'sender_type': 'html.Screen', 'sender_id': '8_26_1', 'a': 'we…",
         "152": "{'sender': 'Did You Look At the Cross?', 'sender_type': 'html.Screen', 'sender_id': '8_26_2', 'a': …",
         "153": "{'sender': 'Data transmission (beta)', 'sender_type': 'html.Screen', 'sender_id': '8_26_3', 'a': 'w…",
         "154": "{'sender': 'Trial', 'sender_type': 'flow.Sequence', 'sender_id': '8_26', 'a': 'web10start.png', 'b'…",
         "155": "{'sender': 'Fixation Cross', 'sender_type': 'html.Screen', 'sender_id': '8_27_0', 'a': 'web11start.…",
         "156": "{'sender': 'cf keyframe transitions', 'sender_type': 'html.Screen', 'sender_id': '8_27_1', 'a': 'we…",
         "157": "{'sender': 'Did You Look At the Cross?', 'sender_type': 'html.Screen', 'sender_id': '8_27_2', 'a': …",
         "158": "{'sender': 'Data transmission (beta)', 'sender_type': 'html.Screen', 'sender_id': '8_27_3', 'a': 'w…",
         "159": "{'sender': 'Trial', 'sender_type': 'flow.Sequence', 'sender_id': '8_27', 'a': 'web11start.png', 'b'…",
         "160": "{'sender': 'Fixation Cross', 'sender_type': 'html.Screen', 'sender_id': '8_28_0', 'a': 'web15start.…",
         "161": "{'sender': 'cf keyframe transitions', 'sender_type': 'html.Screen', 'sender_id': '8_28_1', 'a': 'we…",
         "162": "{'sender': 'Did You Look At the Cross?', 'sender_type': 'html.Screen', 'sender_id': '8_28_2', 'a': …",
         "163": "{'sender': 'Data transmission (beta)', 'sender_type': 'html.Screen', 'sender_id': '8_28_3', 'a': 'w…",
         "164": "{'sender': 'Trial', 'sender_type': 'flow.Sequence', 'sender_id': '8_28', 'a': 'web15start.png', 'b'…",
         "165": "{'sender': 'Fixation Cross', 'sender_type': 'html.Screen', 'sender_id': '8_29_0', 'a': 'web13start.…",
         "166": "{'sender': 'cf keyframe transitions', 'sender_type': 'html.Screen', 'sender_id': '8_29_1', 'a': 'we…",
         "167": "{'sender': 'Did You Look At the Cross?', 'sender_type': 'html.Screen', 'sender_id': '8_29_2', 'a': …",
         "168": "{'sender': 'Data transmission (beta)', 'sender_type': 'html.Screen', 'sender_id': '8_29_3', 'a': 'w…",
         "169": "{'sender': 'Trial', 'sender_type': 'flow.Sequence', 'sender_id': '8_29', 'a': 'web13start.png', 'b'…",
         "170": "{'sender': 'Fixation Cross', 'sender_type': 'html.Screen', 'sender_id': '8_30_0', 'a': 'web4start.p…",
         "171": "{'sender': 'cf keyframe transitions', 'sender_type': 'html.Screen', 'sender_id': '8_30_1', 'a': 'we…",
         "172": "{'sender': 'Did You Look At the Cross?', 'sender_type': 'html.Screen', 'sender_id': '8_30_2', 'a': …",
         "173": "{'sender': 'Data transmission (beta)', 'sender_type': 'html.Screen', 'sender_id': '8_30_3', 'a': 'w…",
         "174": "{'sender': 'Trial', 'sender_type': 'flow.Sequence', 'sender_id': '8_30', 'a': 'web4start.png', 'b':…",
         "175": "{'sender': 'Fixation Cross', 'sender_type': 'html.Screen', 'sender_id': '8_31_0', 'a': 'web5start.p…",
         "176": "{'sender': 'cf keyframe transitions', 'sender_type': 'html.Screen', 'sender_id': '8_31_1', 'a': 'we…",
         "177": "{'sender': 'Did You Look At the Cross?', 'sender_type': 'html.Screen', 'sender_id': '8_31_2', 'a': …",
         "178": "{'sender': 'Data transmission (beta)', 'sender_type': 'html.Screen', 'sender_id': '8_31_3', 'a': 'w…",
         "179": "{'sender': 'Trial', 'sender_type': 'flow.Sequence', 'sender_id': '8_31', 'a': 'web5start.png', 'b':…",
         "180": "{'sender': 'Fixation Cross', 'sender_type': 'html.Screen', 'sender_id': '8_32_0', 'a': 'web9start.p…",
         "181": "{'sender': 'cf keyframe transitions', 'sender_type': 'html.Screen', 'sender_id': '8_32_1', 'a': 'we…",
         "182": "{'sender': 'Did You Look At the Cross?', 'sender_type': 'html.Screen', 'sender_id': '8_32_2', 'a': …",
         "183": "{'sender': 'Data transmission (beta)', 'sender_type': 'html.Screen', 'sender_id': '8_32_3', 'a': 'w…",
         "184": "{'sender': 'Trial', 'sender_type': 'flow.Sequence', 'sender_id': '8_32', 'a': 'web9start.png', 'b':…",
         "185": "{'sender': 'Fixation Cross', 'sender_type': 'html.Screen', 'sender_id': '8_33_0', 'a': 'web13start.…",
         "186": "{'sender': 'cf keyframe transitions', 'sender_type': 'html.Screen', 'sender_id': '8_33_1', 'a': 'we…",
         "187": "{'sender': 'Did You Look At the Cross?', 'sender_type': 'html.Screen', 'sender_id': '8_33_2', 'a': …",
         "188": "{'sender': 'Data transmission (beta)', 'sender_type': 'html.Screen', 'sender_id': '8_33_3', 'a': 'w…",
         "189": "{'sender': 'Trial', 'sender_type': 'flow.Sequence', 'sender_id': '8_33', 'a': 'web13start.png', 'b'…",
         "190": "{'sender': 'Fixation Cross', 'sender_type': 'html.Screen', 'sender_id': '8_34_0', 'a': 'web4start.p…",
         "191": "{'sender': 'cf keyframe transitions', 'sender_type': 'html.Screen', 'sender_id': '8_34_1', 'a': 'we…",
         "192": "{'sender': 'Did You Look At the Cross?', 'sender_type': 'html.Screen', 'sender_id': '8_34_2', 'a': …",
         "193": "{'sender': 'Data transmission (beta)', 'sender_type': 'html.Screen', 'sender_id': '8_34_3', 'a': 'w…",
         "194": "{'sender': 'Trial', 'sender_type': 'flow.Sequence', 'sender_id': '8_34', 'a': 'web4start.png', 'b':…",
         "195": "{'sender': 'Fixation Cross', 'sender_type': 'html.Screen', 'sender_id': '8_35_0', 'a': 'web15start.…",
         "196": "{'sender': 'cf keyframe transitions', 'sender_type': 'html.Screen', 'sender_id': '8_35_1', 'a': 'we…",
         "197": "{'sender': 'Did You Look At the Cross?', 'sender_type': 'html.Screen', 'sender_id': '8_35_2', 'a': …",
         "198": "{'sender': 'Data transmission (beta)', 'sender_type': 'html.Screen', 'sender_id': '8_35_3', 'a': 'w…",
         "199": "{'sender': 'Trial', 'sender_type': 'flow.Sequence', 'sender_id': '8_35', 'a': 'web15start.png', 'b'…",
         "200": "{'sender': 'Fixation Cross', 'sender_type': 'html.Screen', 'sender_id': '8_36_0', 'a': 'web4start.p…",
         "201": "{'sender': 'cf keyframe transitions', 'sender_type': 'html.Screen', 'sender_id': '8_36_1', 'a': 'we…",
         "202": "{'sender': 'Did You Look At the Cross?', 'sender_type': 'html.Screen', 'sender_id': '8_36_2', 'a': …",
         "203": "{'sender': 'Data transmission (beta)', 'sender_type': 'html.Screen', 'sender_id': '8_36_3', 'a': 'w…",
         "204": "{'sender': 'Trial', 'sender_type': 'flow.Sequence', 'sender_id': '8_36', 'a': 'web4start.png', 'b':…",
         "205": "{'sender': 'Fixation Cross', 'sender_type': 'html.Screen', 'sender_id': '8_37_0', 'a': 'web4start.p…",
         "206": "{'sender': 'cf keyframe transitions', 'sender_type': 'html.Screen', 'sender_id': '8_37_1', 'a': 'we…",
         "207": "{'sender': 'Did You Look At the Cross?', 'sender_type': 'html.Screen', 'sender_id': '8_37_2', 'a': …",
         "208": "{'sender': 'Data transmission (beta)', 'sender_type': 'html.Screen', 'sender_id': '8_37_3', 'a': 'w…",
         "209": "{'sender': 'Trial', 'sender_type': 'flow.Sequence', 'sender_id': '8_37', 'a': 'web4start.png', 'b':…",
         "210": "{'sender': 'Fixation Cross', 'sender_type': 'html.Screen', 'sender_id': '8_38_0', 'a': 'web13start.…",
         "211": "{'sender': 'cf keyframe transitions', 'sender_type': 'html.Screen', 'sender_id': '8_38_1', 'a': 'we…",
         "212": "{'sender': 'Did You Look At the Cross?', 'sender_type': 'html.Screen', 'sender_id': '8_38_2', 'a': …",
         "213": "{'sender': 'Data transmission (beta)', 'sender_type': 'html.Screen', 'sender_id': '8_38_3', 'a': 'w…",
         "214": "{'sender': 'Trial', 'sender_type': 'flow.Sequence', 'sender_id': '8_38', 'a': 'web13start.png', 'b'…",
         "215": "{'sender': 'Fixation Cross', 'sender_type': 'html.Screen', 'sender_id': '8_39_0', 'a': 'web12start.…",
         "216": "{'sender': 'cf keyframe transitions', 'sender_type': 'html.Screen', 'sender_id': '8_39_1', 'a': 'we…",
         "217": "{'sender': 'Did You Look At the Cross?', 'sender_type': 'html.Screen', 'sender_id': '8_39_2', 'a': …",
         "218": "{'sender': 'Data transmission (beta)', 'sender_type': 'html.Screen', 'sender_id': '8_39_3', 'a': 'w…",
         "219": "{'sender': 'Trial', 'sender_type': 'flow.Sequence', 'sender_id': '8_39', 'a': 'web12start.png', 'b'…",
         "220": "{'sender': 'Fixation Cross', 'sender_type': 'html.Screen', 'sender_id': '8_40_0', 'a': 'web11start.…",
         "221": "{'sender': 'cf keyframe transitions', 'sender_type': 'html.Screen', 'sender_id': '8_40_1', 'a': 'we…",
         "222": "{'sender': 'Did You Look At the Cross?', 'sender_type': 'html.Screen', 'sender_id': '8_40_2', 'a': …",
         "223": "{'sender': 'Data transmission (beta)', 'sender_type': 'html.Screen', 'sender_id': '8_40_3', 'a': 'w…",
         "224": "{'sender': 'Trial', 'sender_type': 'flow.Sequence', 'sender_id': '8_40', 'a': 'web11start.png', 'b'…",
         "225": "{'sender': 'Fixation Cross', 'sender_type': 'html.Screen', 'sender_id': '8_41_0', 'a': 'web10start.…",
         "226": "{'sender': 'cf keyframe transitions', 'sender_type': 'html.Screen', 'sender_id': '8_41_1', 'a': 'we…",
         "227": "{'sender': 'Did You Look At the Cross?', 'sender_type': 'html.Screen', 'sender_id': '8_41_2', 'a': …",
         "228": "{'sender': 'Data transmission (beta)', 'sender_type': 'html.Screen', 'sender_id': '8_41_3', 'a': 'w…",
         "229": "{'sender': 'Trial', 'sender_type': 'flow.Sequence', 'sender_id': '8_41', 'a': 'web10start.png', 'b'…",
         "230": "{'sender': 'Fixation Cross', 'sender_type': 'html.Screen', 'sender_id': '8_42_0', 'a': 'web14start.…",
         "231": "{'sender': 'cf keyframe transitions', 'sender_type': 'html.Screen', 'sender_id': '8_42_1', 'a': 'we…",
         "232": "{'sender': 'Did You Look At the Cross?', 'sender_type': 'html.Screen', 'sender_id': '8_42_2', 'a': …",
         "233": "{'sender': 'Data transmission (beta)', 'sender_type': 'html.Screen', 'sender_id': '8_42_3', 'a': 'w…",
         "234": "{'sender': 'Trial', 'sender_type': 'flow.Sequence', 'sender_id': '8_42', 'a': 'web14start.png', 'b'…",
         "235": "{'sender': 'Fixation Cross', 'sender_type': 'html.Screen', 'sender_id': '8_43_0', 'a': 'web14start.…",
         "236": "{'sender': 'cf keyframe transitions', 'sender_type': 'html.Screen', 'sender_id': '8_43_1', 'a': 'we…",
         "237": "{'sender': 'Did You Look At the Cross?', 'sender_type': 'html.Screen', 'sender_id': '8_43_2', 'a': …",
         "238": "{'sender': 'Data transmission (beta)', 'sender_type': 'html.Screen', 'sender_id': '8_43_3', 'a': 'w…",
         "239": "{'sender': 'Trial', 'sender_type': 'flow.Sequence', 'sender_id': '8_43', 'a': 'web14start.png', 'b'…",
         "240": "{'sender': 'Fixation Cross', 'sender_type': 'html.Screen', 'sender_id': '8_44_0', 'a': 'web8start.p…",
         "241": "{'sender': 'cf keyframe transitions', 'sender_type': 'html.Screen', 'sender_id': '8_44_1', 'a': 'we…",
         "242": "{'sender': 'Did You Look At the Cross?', 'sender_type': 'html.Screen', 'sender_id': '8_44_2', 'a': …",
         "243": "{'sender': 'Data transmission (beta)', 'sender_type': 'html.Screen', 'sender_id': '8_44_3', 'a': 'w…",
         "244": "{'sender': 'Trial', 'sender_type': 'flow.Sequence', 'sender_id': '8_44', 'a': 'web8start.png', 'b':…",
         "245": "{'sender': 'Fixation Cross', 'sender_type': 'html.Screen', 'sender_id': '8_45_0', 'a': 'web7start.p…",
         "246": "{'sender': 'cf keyframe transitions', 'sender_type': 'html.Screen', 'sender_id': '8_45_1', 'a': 'we…",
         "247": "{'sender': 'Did You Look At the Cross?', 'sender_type': 'html.Screen', 'sender_id': '8_45_2', 'a': …",
         "248": "{'sender': 'Data transmission (beta)', 'sender_type': 'html.Screen', 'sender_id': '8_45_3', 'a': 'w…",
         "249": "{'sender': 'Trial', 'sender_type': 'flow.Sequence', 'sender_id': '8_45', 'a': 'web7start.png', 'b':…",
         "250": "{'sender': 'Fixation Cross', 'sender_type': 'html.Screen', 'sender_id': '8_46_0', 'a': 'web8start.p…",
         "251": "{'sender': 'cf keyframe transitions', 'sender_type': 'html.Screen', 'sender_id': '8_46_1', 'a': 'we…",
         "252": "{'sender': 'Did You Look At the Cross?', 'sender_type': 'html.Screen', 'sender_id': '8_46_2', 'a': …",
         "253": "{'sender': 'Data transmission (beta)', 'sender_type': 'html.Screen', 'sender_id': '8_46_3', 'a': 'w…",
         "254": "{'sender': 'Trial', 'sender_type': 'flow.Sequence', 'sender_id': '8_46', 'a': 'web8start.png', 'b':…",
         "255": "{'sender': 'Fixation Cross', 'sender_type': 'html.Screen', 'sender_id': '8_47_0', 'a': 'web14start.…",
         "256": "{'sender': 'cf keyframe transitions', 'sender_type': 'html.Screen', 'sender_id': '8_47_1', 'a': 'we…",
         "257": "{'sender': 'Did You Look At the Cross?', 'sender_type': 'html.Screen', 'sender_id': '8_47_2', 'a': …",
         "258": "{'sender': 'Data transmission (beta)', 'sender_type': 'html.Screen', 'sender_id': '8_47_3', 'a': 'w…",
         "259": "{'sender': 'Trial', 'sender_type': 'flow.Sequence', 'sender_id': '8_47', 'a': 'web14start.png', 'b'…",
         "260": "{'sender': 'Fixation Cross', 'sender_type': 'html.Screen', 'sender_id': '8_48_0', 'a': 'web4start.p…",
         "261": "{'sender': 'cf keyframe transitions', 'sender_type': 'html.Screen', 'sender_id': '8_48_1', 'a': 'we…",
         "262": "{'sender': 'Did You Look At the Cross?', 'sender_type': 'html.Screen', 'sender_id': '8_48_2', 'a': …",
         "263": "{'sender': 'Data transmission (beta)', 'sender_type': 'html.Screen', 'sender_id': '8_48_3', 'a': 'w…",
         "264": "{'sender': 'Trial', 'sender_type': 'flow.Sequence', 'sender_id': '8_48', 'a': 'web4start.png', 'b':…",
         "265": "{'sender': 'Fixation Cross', 'sender_type': 'html.Screen', 'sender_id': '8_49_0', 'a': 'web6start.p…",
         "266": "{'sender': 'cf keyframe transitions', 'sender_type': 'html.Screen', 'sender_id': '8_49_1', 'a': 'we…",
         "267": "{'sender': 'Did You Look At the Cross?', 'sender_type': 'html.Screen', 'sender_id': '8_49_2', 'a': …",
         "268": "{'sender': 'Data transmission (beta)', 'sender_type': 'html.Screen', 'sender_id': '8_49_3', 'a': 'w…",
         "269": "{'sender': 'Trial', 'sender_type': 'flow.Sequence', 'sender_id': '8_49', 'a': 'web6start.png', 'b':…",
         "270": "{'sender': 'Fixation Cross', 'sender_type': 'html.Screen', 'sender_id': '8_50_0', 'a': 'web10start.…",
         "271": "{'sender': 'cf keyframe transitions', 'sender_type': 'html.Screen', 'sender_id': '8_50_1', 'a': 'we…",
         "272": "{'sender': 'Did You Look At the Cross?', 'sender_type': 'html.Screen', 'sender_id': '8_50_2', 'a': …",
         "273": "{'sender': 'Data transmission (beta)', 'sender_type': 'html.Screen', 'sender_id': '8_50_3', 'a': 'w…",
         "274": "{'sender': 'Trial', 'sender_type': 'flow.Sequence', 'sender_id': '8_50', 'a': 'web10start.png', 'b'…",
         "275": "{'sender': 'Fixation Cross', 'sender_type': 'html.Screen', 'sender_id': '8_51_0', 'a': 'web11start.…",
         "276": "{'sender': 'cf keyframe transitions', 'sender_type': 'html.Screen', 'sender_id': '8_51_1', 'a': 'we…",
         "277": "{'sender': 'Did You Look At the Cross?', 'sender_type': 'html.Screen', 'sender_id': '8_51_2', 'a': …",
         "278": "{'sender': 'Data transmission (beta)', 'sender_type': 'html.Screen', 'sender_id': '8_51_3', 'a': 'w…",
         "279": "{'sender': 'Trial', 'sender_type': 'flow.Sequence', 'sender_id': '8_51', 'a': 'web11start.png', 'b'…",
         "280": "{'sender': 'Fixation Cross', 'sender_type': 'html.Screen', 'sender_id': '8_52_0', 'a': 'web5start.p…",
         "281": "{'sender': 'cf keyframe transitions', 'sender_type': 'html.Screen', 'sender_id': '8_52_1', 'a': 'we…",
         "282": "{'sender': 'Did You Look At the Cross?', 'sender_type': 'html.Screen', 'sender_id': '8_52_2', 'a': …",
         "283": "{'sender': 'Data transmission (beta)', 'sender_type': 'html.Screen', 'sender_id': '8_52_3', 'a': 'w…",
         "284": "{'sender': 'Trial', 'sender_type': 'flow.Sequence', 'sender_id': '8_52', 'a': 'web5start.png', 'b':…",
         "285": "{'sender': 'Fixation Cross', 'sender_type': 'html.Screen', 'sender_id': '8_53_0', 'a': 'web5start.p…",
         "286": "{'sender': 'cf keyframe transitions', 'sender_type': 'html.Screen', 'sender_id': '8_53_1', 'a': 'we…",
         "287": "{'sender': 'Did You Look At the Cross?', 'sender_type': 'html.Screen', 'sender_id': '8_53_2', 'a': …",
         "288": "{'sender': 'Data transmission (beta)', 'sender_type': 'html.Screen', 'sender_id': '8_53_3', 'a': 'w…",
         "289": "{'sender': 'Trial', 'sender_type': 'flow.Sequence', 'sender_id': '8_53', 'a': 'web5start.png', 'b':…",
         "290": "{'sender': 'Fixation Cross', 'sender_type': 'html.Screen', 'sender_id': '8_54_0', 'a': 'web8start.p…",
         "291": "{'sender': 'cf keyframe transitions', 'sender_type': 'html.Screen', 'sender_id': '8_54_1', 'a': 'we…",
         "292": "{'sender': 'Did You Look At the Cross?', 'sender_type': 'html.Screen', 'sender_id': '8_54_2', 'a': …",
         "293": "{'sender': 'Data transmission (beta)', 'sender_type': 'html.Screen', 'sender_id': '8_54_3', 'a': 'w…",
         "294": "{'sender': 'Trial', 'sender_type': 'flow.Sequence', 'sender_id': '8_54', 'a': 'web8start.png', 'b':…",
         "295": "{'sender': 'Fixation Cross', 'sender_type': 'html.Screen', 'sender_id': '8_55_0', 'a': 'web12start.…",
         "296": "{'sender': 'cf keyframe transitions', 'sender_type': 'html.Screen', 'sender_id': '8_55_1', 'a': 'we…",
         "297": "{'sender': 'Did You Look At the Cross?', 'sender_type': 'html.Screen', 'sender_id': '8_55_2', 'a': …",
         "298": "{'sender': 'Data transmission (beta)', 'sender_type': 'html.Screen', 'sender_id': '8_55_3', 'a': 'w…",
         "299": "{'sender': 'Trial', 'sender_type': 'flow.Sequence', 'sender_id': '8_55', 'a': 'web12start.png', 'b'…",
         "300": "{'sender': 'Fixation Cross', 'sender_type': 'html.Screen', 'sender_id': '8_56_0', 'a': 'web7start.p…",
         "301": "{'sender': 'cf keyframe transitions', 'sender_type': 'html.Screen', 'sender_id': '8_56_1', 'a': 'we…",
         "302": "{'sender': 'Did You Look At the Cross?', 'sender_type': 'html.Screen', 'sender_id': '8_56_2', 'a': …",
         "303": "{'sender': 'Data transmission (beta)', 'sender_type': 'html.Screen', 'sender_id': '8_56_3', 'a': 'w…",
         "304": "{'sender': 'Trial', 'sender_type': 'flow.Sequence', 'sender_id': '8_56', 'a': 'web7start.png', 'b':…",
         "305": "{'sender': 'Fixation Cross', 'sender_type': 'html.Screen', 'sender_id': '8_57_0', 'a': 'web6start.p…",
         "306": "{'sender': 'cf keyframe transitions', 'sender_type': 'html.Screen', 'sender_id': '8_57_1', 'a': 'we…",
         "307": "{'sender': 'Did You Look At the Cross?', 'sender_type': 'html.Screen', 'sender_id': '8_57_2', 'a': …",
         "308": "{'sender': 'Data transmission (beta)', 'sender_type': 'html.Screen', 'sender_id': '8_57_3', 'a': 'w…",
         "309": "{'sender': 'Trial', 'sender_type': 'flow.Sequence', 'sender_id': '8_57', 'a': 'web6start.png', 'b':…",
         "310": "{'sender': 'Fixation Cross', 'sender_type': 'html.Screen', 'sender_id': '8_58_0', 'a': 'web6start.p…",
         "311": "{'sender': 'cf keyframe transitions', 'sender_type': 'html.Screen', 'sender_id': '8_58_1', 'a': 'we…",
         "312": "{'sender': 'Did You Look At the Cross?', 'sender_type': 'html.Screen', 'sender_id': '8_58_2', 'a': …",
         "313": "{'sender': 'Data transmission (beta)', 'sender_type': 'html.Screen', 'sender_id': '8_58_3', 'a': 'w…",
         "314": "{'sender': 'Trial', 'sender_type': 'flow.Sequence', 'sender_id': '8_58', 'a': 'web6start.png', 'b':…",
         "315": "{'sender': 'Fixation Cross', 'sender_type': 'html.Screen', 'sender_id': '8_59_0', 'a': 'web6start.p…",
         "316": "{'sender': 'cf keyframe transitions', 'sender_type': 'html.Screen', 'sender_id': '8_59_1', 'a': 'we…",
         "317": "{'sender': 'Did You Look At the Cross?', 'sender_type': 'html.Screen', 'sender_id': '8_59_2', 'a': …",
         "318": "{'sender': 'Data transmission (beta)', 'sender_type': 'html.Screen', 'sender_id': '8_59_3', 'a': 'w…",
         "319": "{'sender': 'Trial', 'sender_type': 'flow.Sequence', 'sender_id': '8_59', 'a': 'web6start.png', 'b':…",
         "320": "{'sender': 'Fixation Cross', 'sender_type': 'html.Screen', 'sender_id': '8_60_0', 'a': 'web12start.…",
         "321": "{'sender': 'cf keyframe transitions', 'sender_type': 'html.Screen', 'sender_id': '8_60_1', 'a': 'we…",
         "322": "{'sender': 'Did You Look At the Cross?', 'sender_type': 'html.Screen', 'sender_id': '8_60_2', 'a': …",
         "323": "{'sender': 'Data transmission (beta)', 'sender_type': 'html.Screen', 'sender_id': '8_60_3', 'a': 'w…",
         "324": "{'sender': 'Trial', 'sender_type': 'flow.Sequence', 'sender_id': '8_60', 'a': 'web12start.png', 'b'…",
         "325": "{'sender': 'Fixation Cross', 'sender_type': 'html.Screen', 'sender_id': '8_61_0', 'a': 'web14start.…",
         "326": "{'sender': 'cf keyframe transitions', 'sender_type': 'html.Screen', 'sender_id': '8_61_1', 'a': 'we…",
         "327": "{'sender': 'Did You Look At the Cross?', 'sender_type': 'html.Screen', 'sender_id': '8_61_2', 'a': …",
         "328": "{'sender': 'Data transmission (beta)', 'sender_type': 'html.Screen', 'sender_id': '8_61_3', 'a': 'w…",
         "329": "{'sender': 'Trial', 'sender_type': 'flow.Sequence', 'sender_id': '8_61', 'a': 'web14start.png', 'b'…",
         "330": "{'sender': 'Fixation Cross', 'sender_type': 'html.Screen', 'sender_id': '8_62_0', 'a': 'web13start.…",
         "331": "{'sender': 'cf keyframe transitions', 'sender_type': 'html.Screen', 'sender_id': '8_62_1', 'a': 'we…",
         "332": "{'sender': 'Did You Look At the Cross?', 'sender_type': 'html.Screen', 'sender_id': '8_62_2', 'a': …",
         "333": "{'sender': 'Data transmission (beta)', 'sender_type': 'html.Screen', 'sender_id': '8_62_3', 'a': 'w…",
         "334": "{'sender': 'Trial', 'sender_type': 'flow.Sequence', 'sender_id': '8_62', 'a': 'web13start.png', 'b'…",
         "335": "{'sender': 'Fixation Cross', 'sender_type': 'html.Screen', 'sender_id': '8_63_0', 'a': 'web7start.p…",
         "336": "{'sender': 'cf keyframe transitions', 'sender_type': 'html.Screen', 'sender_id': '8_63_1', 'a': 'we…",
         "337": "{'sender': 'Did You Look At the Cross?', 'sender_type': 'html.Screen', 'sender_id': '8_63_2', 'a': …",
         "338": "{'sender': 'Data transmission (beta)', 'sender_type': 'html.Screen', 'sender_id': '8_63_3', 'a': 'w…",
         "339": "{'sender': 'Trial', 'sender_type': 'flow.Sequence', 'sender_id': '8_63', 'a': 'web7start.png', 'b':…",
         "340": "{'sender': 'Fixation Cross', 'sender_type': 'html.Screen', 'sender_id': '8_64_0', 'a': 'web15start.…",
         "341": "{'sender': 'cf keyframe transitions', 'sender_type': 'html.Screen', 'sender_id': '8_64_1', 'a': 'we…",
         "342": "{'sender': 'Did You Look At the Cross?', 'sender_type': 'html.Screen', 'sender_id': '8_64_2', 'a': …",
         "343": "{'sender': 'Data transmission (beta)', 'sender_type': 'html.Screen', 'sender_id': '8_64_3', 'a': 'w…",
         "344": "{'sender': 'Trial', 'sender_type': 'flow.Sequence', 'sender_id': '8_64', 'a': 'web15start.png', 'b'…",
         "345": "{'sender': 'Fixation Cross', 'sender_type': 'html.Screen', 'sender_id': '8_65_0', 'a': 'web15start.…",
         "346": "{'sender': 'cf keyframe transitions', 'sender_type': 'html.Screen', 'sender_id': '8_65_1', 'a': 'we…",
         "347": "{'sender': 'Did You Look At the Cross?', 'sender_type': 'html.Screen', 'sender_id': '8_65_2', 'a': …",
         "348": "{'sender': 'Data transmission (beta)', 'sender_type': 'html.Screen', 'sender_id': '8_65_3', 'a': 'w…",
         "349": "{'sender': 'Trial', 'sender_type': 'flow.Sequence', 'sender_id': '8_65', 'a': 'web15start.png', 'b'…",
         "350": "{'sender': 'Fixation Cross', 'sender_type': 'html.Screen', 'sender_id': '8_66_0', 'a': 'web13start.…",
         "351": "{'sender': 'cf keyframe transitions', 'sender_type': 'html.Screen', 'sender_id': '8_66_1', 'a': 'we…",
         "352": "{'sender': 'Did You Look At the Cross?', 'sender_type': 'html.Screen', 'sender_id': '8_66_2', 'a': …",
         "353": "{'sender': 'Data transmission (beta)', 'sender_type': 'html.Screen', 'sender_id': '8_66_3', 'a': 'w…",
         "354": "{'sender': 'Trial', 'sender_type': 'flow.Sequence', 'sender_id': '8_66', 'a': 'web13start.png', 'b'…",
         "355": "{'sender': 'Fixation Cross', 'sender_type': 'html.Screen', 'sender_id': '8_67_0', 'a': 'web9start.p…",
         "356": "{'sender': 'cf keyframe transitions', 'sender_type': 'html.Screen', 'sender_id': '8_67_1', 'a': 'we…",
         "357": "{'sender': 'Did You Look At the Cross?', 'sender_type': 'html.Screen', 'sender_id': '8_67_2', 'a': …",
         "358": "{'sender': 'Data transmission (beta)', 'sender_type': 'html.Screen', 'sender_id': '8_67_3', 'a': 'w…",
         "359": "{'sender': 'Trial', 'sender_type': 'flow.Sequence', 'sender_id': '8_67', 'a': 'web9start.png', 'b':…",
         "360": "{'sender': 'Fixation Cross', 'sender_type': 'html.Screen', 'sender_id': '8_68_0', 'a': 'web6start.p…",
         "361": "{'sender': 'cf keyframe transitions', 'sender_type': 'html.Screen', 'sender_id': '8_68_1', 'a': 'we…",
         "362": "{'sender': 'Did You Look At the Cross?', 'sender_type': 'html.Screen', 'sender_id': '8_68_2', 'a': …",
         "363": "{'sender': 'Data transmission (beta)', 'sender_type': 'html.Screen', 'sender_id': '8_68_3', 'a': 'w…",
         "364": "{'sender': 'Trial', 'sender_type': 'flow.Sequence', 'sender_id': '8_68', 'a': 'web6start.png', 'b':…",
         "365": "{'sender': 'Fixation Cross', 'sender_type': 'html.Screen', 'sender_id': '8_69_0', 'a': 'web10start.…",
         "366": "{'sender': 'cf keyframe transitions', 'sender_type': 'html.Screen', 'sender_id': '8_69_1', 'a': 'we…",
         "367": "{'sender': 'Did You Look At the Cross?', 'sender_type': 'html.Screen', 'sender_id': '8_69_2', 'a': …",
         "368": "{'sender': 'Data transmission (beta)', 'sender_type': 'html.Screen', 'sender_id': '8_69_3', 'a': 'w…",
         "369": "{'sender': 'Trial', 'sender_type': 'flow.Sequence', 'sender_id': '8_69', 'a': 'web10start.png', 'b'…",
         "370": "{'sender': 'Fixation Cross', 'sender_type': 'html.Screen', 'sender_id': '8_70_0', 'a': 'web12start.…",
         "371": "{'sender': 'cf keyframe transitions', 'sender_type': 'html.Screen', 'sender_id': '8_70_1', 'a': 'we…",
         "372": "{'sender': 'Did You Look At the Cross?', 'sender_type': 'html.Screen', 'sender_id': '8_70_2', 'a': …",
         "373": "{'sender': 'Data transmission (beta)', 'sender_type': 'html.Screen', 'sender_id': '8_70_3', 'a': 'w…",
         "374": "{'sender': 'Trial', 'sender_type': 'flow.Sequence', 'sender_id': '8_70', 'a': 'web12start.png', 'b'…",
         "375": "{'sender': 'Fixation Cross', 'sender_type': 'html.Screen', 'sender_id': '8_71_0', 'a': 'web12start.…",
         "376": "{'sender': 'cf keyframe transitions', 'sender_type': 'html.Screen', 'sender_id': '8_71_1', 'a': 'we…",
         "377": "{'sender': 'Did You Look At the Cross?', 'sender_type': 'html.Screen', 'sender_id': '8_71_2', 'a': …",
         "378": "{'sender': 'Data transmission (beta)', 'sender_type': 'html.Screen', 'sender_id': '8_71_3', 'a': 'w…",
         "379": "{'sender': 'Trial', 'sender_type': 'flow.Sequence', 'sender_id': '8_71', 'a': 'web12start.png', 'b'…",
         "380": "{'sender': 'Test Rounds', 'sender_type': 'flow.Loop', 'sender_id': '8', 'ended_on': 'completion', '…",
         "381": "{'sender': 'Thanks for Participating!', 'sender_type': 'html.Page', 'sender_id': '9', 'ended_on': '…",
         "382": "{'sender': 'root', 'sender_type': 'flow.Sequence', 'sender_id': None, 'ended_on': 'completion', 'du…",
         "_deepnote_index_column": 0
        }
       ],
       "rows_bottom": [
        {
         "0": "{'url': {'srid': '30769'}, 'meta': {'labjs_version': '20.2.3', 'labjs_build': {'flavor': 'productio…",
         "1": "{'sender': 'Depression Questionnaire', 'sender_type': 'html.Form', 'sender_id': '1', 'Age': '22', '…",
         "2": "{'sender': 'Anxiety Questionnaire', 'sender_type': 'html.Form', 'sender_id': '2', 'Secure': '3', 'W…",
         "3": "{'sender': 'Thanks for Filling Out Form', 'sender_type': 'html.Page', 'sender_id': '3', 'ended_on':…",
         "4": "{'sender': 'Instructions', 'sender_type': 'html.Screen', 'sender_id': '4', 'response': 'continue', …",
         "5": "{'sender': 'Test Trial Instructions', 'sender_type': 'html.Screen', 'sender_id': '5', 'response': '…",
         "6": "{'sender': 'Fixation Cross', 'sender_type': 'html.Screen', 'sender_id': '6_0_0', 'a': 'web1start.pn…",
         "7": "{'sender': 'cf keyframe transitions', 'sender_type': 'html.Screen', 'sender_id': '6_0_1', 'a': 'web…",
         "8": "{'sender': 'Did You Look At the Cross?', 'sender_type': 'html.Screen', 'sender_id': '6_0_2', 'a': '…",
         "9": "{'sender': 'Trial', 'sender_type': 'flow.Sequence', 'sender_id': '6_0', 'a': 'web1start.png', 'b': …",
         "10": "{'sender': 'Fixation Cross', 'sender_type': 'html.Screen', 'sender_id': '6_1_0', 'a': 'web3start.pn…",
         "11": "{'sender': 'cf keyframe transitions', 'sender_type': 'html.Screen', 'sender_id': '6_1_1', 'a': 'web…",
         "12": "{'sender': 'Did You Look At the Cross?', 'sender_type': 'html.Screen', 'sender_id': '6_1_2', 'a': '…",
         "13": "{'sender': 'Trial', 'sender_type': 'flow.Sequence', 'sender_id': '6_1', 'a': 'web3start.png', 'b': …",
         "14": "{'sender': 'Fixation Cross', 'sender_type': 'html.Screen', 'sender_id': '6_2_0', 'a': 'web2start.pn…",
         "15": "{'sender': 'cf keyframe transitions', 'sender_type': 'html.Screen', 'sender_id': '6_2_1', 'a': 'web…",
         "16": "{'sender': 'Did You Look At the Cross?', 'sender_type': 'html.Screen', 'sender_id': '6_2_2', 'a': '…",
         "17": "{'sender': 'Trial', 'sender_type': 'flow.Sequence', 'sender_id': '6_2', 'a': 'web2start.png', 'b': …",
         "18": "{'sender': 'Practice Rounds', 'sender_type': 'flow.Loop', 'sender_id': '6', 'ended_on': 'completion…",
         "19": "{'sender': 'We Will Now Begin Test Trials', 'sender_type': 'html.Screen', 'sender_id': '7', 'respon…",
         "20": "{'sender': 'Fixation Cross', 'sender_type': 'html.Screen', 'sender_id': '8_0_0', 'a': 'web13start.p…",
         "21": "{'sender': 'cf keyframe transitions', 'sender_type': 'html.Screen', 'sender_id': '8_0_1', 'a': 'web…",
         "22": "{'sender': 'Did You Look At the Cross?', 'sender_type': 'html.Screen', 'sender_id': '8_0_2', 'a': '…",
         "23": "{'sender': 'Data transmission (beta)', 'sender_type': 'html.Screen', 'sender_id': '8_0_3', 'a': 'we…",
         "24": "{'sender': 'Trial', 'sender_type': 'flow.Sequence', 'sender_id': '8_0', 'a': 'web13start.png', 'b':…",
         "25": "{'sender': 'Fixation Cross', 'sender_type': 'html.Screen', 'sender_id': '8_1_0', 'a': 'web11start.p…",
         "26": "{'sender': 'cf keyframe transitions', 'sender_type': 'html.Screen', 'sender_id': '8_1_1', 'a': 'web…",
         "27": "{'sender': 'Did You Look At the Cross?', 'sender_type': 'html.Screen', 'sender_id': '8_1_2', 'a': '…",
         "28": "{'sender': 'Data transmission (beta)', 'sender_type': 'html.Screen', 'sender_id': '8_1_3', 'a': 'we…",
         "29": "{'sender': 'Trial', 'sender_type': 'flow.Sequence', 'sender_id': '8_1', 'a': 'web11start.png', 'b':…",
         "30": "{'sender': 'Fixation Cross', 'sender_type': 'html.Screen', 'sender_id': '8_2_0', 'a': 'web7start.pn…",
         "31": "{'sender': 'cf keyframe transitions', 'sender_type': 'html.Screen', 'sender_id': '8_2_1', 'a': 'web…",
         "32": "{'sender': 'Did You Look At the Cross?', 'sender_type': 'html.Screen', 'sender_id': '8_2_2', 'a': '…",
         "33": "{'sender': 'Data transmission (beta)', 'sender_type': 'html.Screen', 'sender_id': '8_2_3', 'a': 'we…",
         "34": "{'sender': 'Trial', 'sender_type': 'flow.Sequence', 'sender_id': '8_2', 'a': 'web7start.png', 'b': …",
         "35": "{'sender': 'Fixation Cross', 'sender_type': 'html.Screen', 'sender_id': '8_3_0', 'a': 'web11start.p…",
         "36": "{'sender': 'cf keyframe transitions', 'sender_type': 'html.Screen', 'sender_id': '8_3_1', 'a': 'web…",
         "37": "{'sender': 'Did You Look At the Cross?', 'sender_type': 'html.Screen', 'sender_id': '8_3_2', 'a': '…",
         "38": "{'sender': 'Data transmission (beta)', 'sender_type': 'html.Screen', 'sender_id': '8_3_3', 'a': 'we…",
         "39": "{'sender': 'Trial', 'sender_type': 'flow.Sequence', 'sender_id': '8_3', 'a': 'web11start.png', 'b':…",
         "40": "{'sender': 'Fixation Cross', 'sender_type': 'html.Screen', 'sender_id': '8_4_0', 'a': 'web12start.p…",
         "41": "{'sender': 'cf keyframe transitions', 'sender_type': 'html.Screen', 'sender_id': '8_4_1', 'a': 'web…",
         "42": "{'sender': 'Did You Look At the Cross?', 'sender_type': 'html.Screen', 'sender_id': '8_4_2', 'a': '…",
         "43": "{'sender': 'Data transmission (beta)', 'sender_type': 'html.Screen', 'sender_id': '8_4_3', 'a': 'we…",
         "44": "{'sender': 'Trial', 'sender_type': 'flow.Sequence', 'sender_id': '8_4', 'a': 'web12start.png', 'b':…",
         "45": "{'sender': 'Fixation Cross', 'sender_type': 'html.Screen', 'sender_id': '8_5_0', 'a': 'web13start.p…",
         "46": "{'sender': 'cf keyframe transitions', 'sender_type': 'html.Screen', 'sender_id': '8_5_1', 'a': 'web…",
         "47": "{'sender': 'Did You Look At the Cross?', 'sender_type': 'html.Screen', 'sender_id': '8_5_2', 'a': '…",
         "48": "{'sender': 'Data transmission (beta)', 'sender_type': 'html.Screen', 'sender_id': '8_5_3', 'a': 'we…",
         "49": "{'sender': 'Trial', 'sender_type': 'flow.Sequence', 'sender_id': '8_5', 'a': 'web13start.png', 'b':…",
         "50": "{'sender': 'Fixation Cross', 'sender_type': 'html.Screen', 'sender_id': '8_6_0', 'a': 'web8start.pn…",
         "51": "{'sender': 'cf keyframe transitions', 'sender_type': 'html.Screen', 'sender_id': '8_6_1', 'a': 'web…",
         "52": "{'sender': 'Did You Look At the Cross?', 'sender_type': 'html.Screen', 'sender_id': '8_6_2', 'a': '…",
         "53": "{'sender': 'Data transmission (beta)', 'sender_type': 'html.Screen', 'sender_id': '8_6_3', 'a': 'we…",
         "54": "{'sender': 'Trial', 'sender_type': 'flow.Sequence', 'sender_id': '8_6', 'a': 'web8start.png', 'b': …",
         "55": "{'sender': 'Fixation Cross', 'sender_type': 'html.Screen', 'sender_id': '8_7_0', 'a': 'web10start.p…",
         "56": "{'sender': 'cf keyframe transitions', 'sender_type': 'html.Screen', 'sender_id': '8_7_1', 'a': 'web…",
         "57": "{'sender': 'Did You Look At the Cross?', 'sender_type': 'html.Screen', 'sender_id': '8_7_2', 'a': '…",
         "58": "{'sender': 'Data transmission (beta)', 'sender_type': 'html.Screen', 'sender_id': '8_7_3', 'a': 'we…",
         "59": "{'sender': 'Trial', 'sender_type': 'flow.Sequence', 'sender_id': '8_7', 'a': 'web10start.png', 'b':…",
         "60": "{'sender': 'Fixation Cross', 'sender_type': 'html.Screen', 'sender_id': '8_8_0', 'a': 'web9start.pn…",
         "61": "{'sender': 'cf keyframe transitions', 'sender_type': 'html.Screen', 'sender_id': '8_8_1', 'a': 'web…",
         "62": "{'sender': 'Did You Look At the Cross?', 'sender_type': 'html.Screen', 'sender_id': '8_8_2', 'a': '…",
         "63": "{'sender': 'Data transmission (beta)', 'sender_type': 'html.Screen', 'sender_id': '8_8_3', 'a': 'we…",
         "64": "{'sender': 'Trial', 'sender_type': 'flow.Sequence', 'sender_id': '8_8', 'a': 'web9start.png', 'b': …",
         "65": "{'sender': 'Fixation Cross', 'sender_type': 'html.Screen', 'sender_id': '8_9_0', 'a': 'web12start.p…",
         "66": "{'sender': 'cf keyframe transitions', 'sender_type': 'html.Screen', 'sender_id': '8_9_1', 'a': 'web…",
         "67": "{'sender': 'Did You Look At the Cross?', 'sender_type': 'html.Screen', 'sender_id': '8_9_2', 'a': '…",
         "68": "{'sender': 'Data transmission (beta)', 'sender_type': 'html.Screen', 'sender_id': '8_9_3', 'a': 'we…",
         "69": "{'sender': 'Trial', 'sender_type': 'flow.Sequence', 'sender_id': '8_9', 'a': 'web12start.png', 'b':…",
         "70": "{'sender': 'Fixation Cross', 'sender_type': 'html.Screen', 'sender_id': '8_10_0', 'a': 'web6start.p…",
         "71": "{'sender': 'cf keyframe transitions', 'sender_type': 'html.Screen', 'sender_id': '8_10_1', 'a': 'we…",
         "72": "{'sender': 'Did You Look At the Cross?', 'sender_type': 'html.Screen', 'sender_id': '8_10_2', 'a': …",
         "73": "{'sender': 'Data transmission (beta)', 'sender_type': 'html.Screen', 'sender_id': '8_10_3', 'a': 'w…",
         "74": "{'sender': 'Trial', 'sender_type': 'flow.Sequence', 'sender_id': '8_10', 'a': 'web6start.png', 'b':…",
         "75": "{'sender': 'Fixation Cross', 'sender_type': 'html.Screen', 'sender_id': '8_11_0', 'a': 'web4start.p…",
         "76": "{'sender': 'cf keyframe transitions', 'sender_type': 'html.Screen', 'sender_id': '8_11_1', 'a': 'we…",
         "77": "{'sender': 'Did You Look At the Cross?', 'sender_type': 'html.Screen', 'sender_id': '8_11_2', 'a': …",
         "78": "{'sender': 'Data transmission (beta)', 'sender_type': 'html.Screen', 'sender_id': '8_11_3', 'a': 'w…",
         "79": "{'sender': 'Trial', 'sender_type': 'flow.Sequence', 'sender_id': '8_11', 'a': 'web4start.png', 'b':…",
         "80": "{'sender': 'Fixation Cross', 'sender_type': 'html.Screen', 'sender_id': '8_12_0', 'a': 'web5start.p…",
         "81": "{'sender': 'cf keyframe transitions', 'sender_type': 'html.Screen', 'sender_id': '8_12_1', 'a': 'we…",
         "82": "{'sender': 'Did You Look At the Cross?', 'sender_type': 'html.Screen', 'sender_id': '8_12_2', 'a': …",
         "83": "{'sender': 'Data transmission (beta)', 'sender_type': 'html.Screen', 'sender_id': '8_12_3', 'a': 'w…",
         "84": "{'sender': 'Trial', 'sender_type': 'flow.Sequence', 'sender_id': '8_12', 'a': 'web5start.png', 'b':…",
         "85": "{'sender': 'Fixation Cross', 'sender_type': 'html.Screen', 'sender_id': '8_13_0', 'a': 'web9start.p…",
         "86": "{'sender': 'cf keyframe transitions', 'sender_type': 'html.Screen', 'sender_id': '8_13_1', 'a': 'we…",
         "87": "{'sender': 'Did You Look At the Cross?', 'sender_type': 'html.Screen', 'sender_id': '8_13_2', 'a': …",
         "88": "{'sender': 'Data transmission (beta)', 'sender_type': 'html.Screen', 'sender_id': '8_13_3', 'a': 'w…",
         "89": "{'sender': 'Trial', 'sender_type': 'flow.Sequence', 'sender_id': '8_13', 'a': 'web9start.png', 'b':…",
         "90": "{'sender': 'Fixation Cross', 'sender_type': 'html.Screen', 'sender_id': '8_14_0', 'a': 'web11start.…",
         "91": "{'sender': 'cf keyframe transitions', 'sender_type': 'html.Screen', 'sender_id': '8_14_1', 'a': 'we…",
         "92": "{'sender': 'Did You Look At the Cross?', 'sender_type': 'html.Screen', 'sender_id': '8_14_2', 'a': …",
         "93": "{'sender': 'Data transmission (beta)', 'sender_type': 'html.Screen', 'sender_id': '8_14_3', 'a': 'w…",
         "94": "{'sender': 'Trial', 'sender_type': 'flow.Sequence', 'sender_id': '8_14', 'a': 'web11start.png', 'b'…",
         "95": "{'sender': 'Fixation Cross', 'sender_type': 'html.Screen', 'sender_id': '8_15_0', 'a': 'web14start.…",
         "96": "{'sender': 'cf keyframe transitions', 'sender_type': 'html.Screen', 'sender_id': '8_15_1', 'a': 'we…",
         "97": "{'sender': 'Did You Look At the Cross?', 'sender_type': 'html.Screen', 'sender_id': '8_15_2', 'a': …",
         "98": "{'sender': 'Data transmission (beta)', 'sender_type': 'html.Screen', 'sender_id': '8_15_3', 'a': 'w…",
         "99": "{'sender': 'Trial', 'sender_type': 'flow.Sequence', 'sender_id': '8_15', 'a': 'web14start.png', 'b'…",
         "100": "{'sender': 'Fixation Cross', 'sender_type': 'html.Screen', 'sender_id': '8_16_0', 'a': 'web14start.…",
         "101": "{'sender': 'cf keyframe transitions', 'sender_type': 'html.Screen', 'sender_id': '8_16_1', 'a': 'we…",
         "102": "{'sender': 'Did You Look At the Cross?', 'sender_type': 'html.Screen', 'sender_id': '8_16_2', 'a': …",
         "103": "{'sender': 'Data transmission (beta)', 'sender_type': 'html.Screen', 'sender_id': '8_16_3', 'a': 'w…",
         "104": "{'sender': 'Trial', 'sender_type': 'flow.Sequence', 'sender_id': '8_16', 'a': 'web14start.png', 'b'…",
         "105": "{'sender': 'Fixation Cross', 'sender_type': 'html.Screen', 'sender_id': '8_17_0', 'a': 'web12start.…",
         "106": "{'sender': 'cf keyframe transitions', 'sender_type': 'html.Screen', 'sender_id': '8_17_1', 'a': 'we…",
         "107": "{'sender': 'Did You Look At the Cross?', 'sender_type': 'html.Screen', 'sender_id': '8_17_2', 'a': …",
         "108": "{'sender': 'Data transmission (beta)', 'sender_type': 'html.Screen', 'sender_id': '8_17_3', 'a': 'w…",
         "109": "{'sender': 'Trial', 'sender_type': 'flow.Sequence', 'sender_id': '8_17', 'a': 'web12start.png', 'b'…",
         "110": "{'sender': 'Fixation Cross', 'sender_type': 'html.Screen', 'sender_id': '8_18_0', 'a': 'web15start.…",
         "111": "{'sender': 'cf keyframe transitions', 'sender_type': 'html.Screen', 'sender_id': '8_18_1', 'a': 'we…",
         "112": "{'sender': 'Did You Look At the Cross?', 'sender_type': 'html.Screen', 'sender_id': '8_18_2', 'a': …",
         "113": "{'sender': 'Data transmission (beta)', 'sender_type': 'html.Screen', 'sender_id': '8_18_3', 'a': 'w…",
         "114": "{'sender': 'Trial', 'sender_type': 'flow.Sequence', 'sender_id': '8_18', 'a': 'web15start.png', 'b'…",
         "115": "{'sender': 'Fixation Cross', 'sender_type': 'html.Screen', 'sender_id': '8_19_0', 'a': 'web10start.…",
         "116": "{'sender': 'cf keyframe transitions', 'sender_type': 'html.Screen', 'sender_id': '8_19_1', 'a': 'we…",
         "117": "{'sender': 'Did You Look At the Cross?', 'sender_type': 'html.Screen', 'sender_id': '8_19_2', 'a': …",
         "118": "{'sender': 'Data transmission (beta)', 'sender_type': 'html.Screen', 'sender_id': '8_19_3', 'a': 'w…",
         "119": "{'sender': 'Trial', 'sender_type': 'flow.Sequence', 'sender_id': '8_19', 'a': 'web10start.png', 'b'…",
         "120": "{'sender': 'Fixation Cross', 'sender_type': 'html.Screen', 'sender_id': '8_20_0', 'a': 'web8start.p…",
         "121": "{'sender': 'cf keyframe transitions', 'sender_type': 'html.Screen', 'sender_id': '8_20_1', 'a': 'we…",
         "122": "{'sender': 'Did You Look At the Cross?', 'sender_type': 'html.Screen', 'sender_id': '8_20_2', 'a': …",
         "123": "{'sender': 'Data transmission (beta)', 'sender_type': 'html.Screen', 'sender_id': '8_20_3', 'a': 'w…",
         "124": "{'sender': 'Trial', 'sender_type': 'flow.Sequence', 'sender_id': '8_20', 'a': 'web8start.png', 'b':…",
         "125": "{'sender': 'Fixation Cross', 'sender_type': 'html.Screen', 'sender_id': '8_21_0', 'a': 'web10start.…",
         "126": "{'sender': 'cf keyframe transitions', 'sender_type': 'html.Screen', 'sender_id': '8_21_1', 'a': 'we…",
         "127": "{'sender': 'Did You Look At the Cross?', 'sender_type': 'html.Screen', 'sender_id': '8_21_2', 'a': …",
         "128": "{'sender': 'Data transmission (beta)', 'sender_type': 'html.Screen', 'sender_id': '8_21_3', 'a': 'w…",
         "129": "{'sender': 'Trial', 'sender_type': 'flow.Sequence', 'sender_id': '8_21', 'a': 'web10start.png', 'b'…",
         "130": "{'sender': 'Fixation Cross', 'sender_type': 'html.Screen', 'sender_id': '8_22_0', 'a': 'web15start.…",
         "131": "{'sender': 'cf keyframe transitions', 'sender_type': 'html.Screen', 'sender_id': '8_22_1', 'a': 'we…",
         "132": "{'sender': 'Did You Look At the Cross?', 'sender_type': 'html.Screen', 'sender_id': '8_22_2', 'a': …",
         "133": "{'sender': 'Data transmission (beta)', 'sender_type': 'html.Screen', 'sender_id': '8_22_3', 'a': 'w…",
         "134": "{'sender': 'Trial', 'sender_type': 'flow.Sequence', 'sender_id': '8_22', 'a': 'web15start.png', 'b'…",
         "135": "{'sender': 'Fixation Cross', 'sender_type': 'html.Screen', 'sender_id': '8_23_0', 'a': 'web9start.p…",
         "136": "{'sender': 'cf keyframe transitions', 'sender_type': 'html.Screen', 'sender_id': '8_23_1', 'a': 'we…",
         "137": "{'sender': 'Did You Look At the Cross?', 'sender_type': 'html.Screen', 'sender_id': '8_23_2', 'a': …",
         "138": "{'sender': 'Data transmission (beta)', 'sender_type': 'html.Screen', 'sender_id': '8_23_3', 'a': 'w…",
         "139": "{'sender': 'Trial', 'sender_type': 'flow.Sequence', 'sender_id': '8_23', 'a': 'web9start.png', 'b':…",
         "140": "{'sender': 'Fixation Cross', 'sender_type': 'html.Screen', 'sender_id': '8_24_0', 'a': 'web10start.…",
         "141": "{'sender': 'cf keyframe transitions', 'sender_type': 'html.Screen', 'sender_id': '8_24_1', 'a': 'we…",
         "142": "{'sender': 'Did You Look At the Cross?', 'sender_type': 'html.Screen', 'sender_id': '8_24_2', 'a': …",
         "143": "{'sender': 'Data transmission (beta)', 'sender_type': 'html.Screen', 'sender_id': '8_24_3', 'a': 'w…",
         "144": "{'sender': 'Trial', 'sender_type': 'flow.Sequence', 'sender_id': '8_24', 'a': 'web10start.png', 'b'…",
         "145": "{'sender': 'Fixation Cross', 'sender_type': 'html.Screen', 'sender_id': '8_25_0', 'a': 'web14start.…",
         "146": "{'sender': 'cf keyframe transitions', 'sender_type': 'html.Screen', 'sender_id': '8_25_1', 'a': 'we…",
         "147": "{'sender': 'Did You Look At the Cross?', 'sender_type': 'html.Screen', 'sender_id': '8_25_2', 'a': …",
         "148": "{'sender': 'Data transmission (beta)', 'sender_type': 'html.Screen', 'sender_id': '8_25_3', 'a': 'w…",
         "149": "{'sender': 'Trial', 'sender_type': 'flow.Sequence', 'sender_id': '8_25', 'a': 'web14start.png', 'b'…",
         "150": "{'sender': 'Fixation Cross', 'sender_type': 'html.Screen', 'sender_id': '8_26_0', 'a': 'web9start.p…",
         "151": "{'sender': 'cf keyframe transitions', 'sender_type': 'html.Screen', 'sender_id': '8_26_1', 'a': 'we…",
         "152": "{'sender': 'Did You Look At the Cross?', 'sender_type': 'html.Screen', 'sender_id': '8_26_2', 'a': …",
         "153": "{'sender': 'Data transmission (beta)', 'sender_type': 'html.Screen', 'sender_id': '8_26_3', 'a': 'w…",
         "154": "{'sender': 'Trial', 'sender_type': 'flow.Sequence', 'sender_id': '8_26', 'a': 'web9start.png', 'b':…",
         "155": "{'sender': 'Fixation Cross', 'sender_type': 'html.Screen', 'sender_id': '8_27_0', 'a': 'web15start.…",
         "156": "{'sender': 'cf keyframe transitions', 'sender_type': 'html.Screen', 'sender_id': '8_27_1', 'a': 'we…",
         "157": "{'sender': 'Did You Look At the Cross?', 'sender_type': 'html.Screen', 'sender_id': '8_27_2', 'a': …",
         "158": "{'sender': 'Data transmission (beta)', 'sender_type': 'html.Screen', 'sender_id': '8_27_3', 'a': 'w…",
         "159": "{'sender': 'Trial', 'sender_type': 'flow.Sequence', 'sender_id': '8_27', 'a': 'web15start.png', 'b'…",
         "160": "{'sender': 'Fixation Cross', 'sender_type': 'html.Screen', 'sender_id': '8_28_0', 'a': 'web7start.p…",
         "161": "{'sender': 'cf keyframe transitions', 'sender_type': 'html.Screen', 'sender_id': '8_28_1', 'a': 'we…",
         "162": "{'sender': 'Did You Look At the Cross?', 'sender_type': 'html.Screen', 'sender_id': '8_28_2', 'a': …",
         "163": "{'sender': 'Data transmission (beta)', 'sender_type': 'html.Screen', 'sender_id': '8_28_3', 'a': 'w…",
         "164": "{'sender': 'Trial', 'sender_type': 'flow.Sequence', 'sender_id': '8_28', 'a': 'web7start.png', 'b':…",
         "165": "{'sender': 'Fixation Cross', 'sender_type': 'html.Screen', 'sender_id': '8_29_0', 'a': 'web15start.…",
         "166": "{'sender': 'cf keyframe transitions', 'sender_type': 'html.Screen', 'sender_id': '8_29_1', 'a': 'we…",
         "167": "{'sender': 'Did You Look At the Cross?', 'sender_type': 'html.Screen', 'sender_id': '8_29_2', 'a': …",
         "168": "{'sender': 'Data transmission (beta)', 'sender_type': 'html.Screen', 'sender_id': '8_29_3', 'a': 'w…",
         "169": "{'sender': 'Trial', 'sender_type': 'flow.Sequence', 'sender_id': '8_29', 'a': 'web15start.png', 'b'…",
         "170": "{'sender': 'Fixation Cross', 'sender_type': 'html.Screen', 'sender_id': '8_30_0', 'a': 'web6start.p…",
         "171": "{'sender': 'cf keyframe transitions', 'sender_type': 'html.Screen', 'sender_id': '8_30_1', 'a': 'we…",
         "172": "{'sender': 'Did You Look At the Cross?', 'sender_type': 'html.Screen', 'sender_id': '8_30_2', 'a': …",
         "173": "{'sender': 'Data transmission (beta)', 'sender_type': 'html.Screen', 'sender_id': '8_30_3', 'a': 'w…",
         "174": "{'sender': 'Trial', 'sender_type': 'flow.Sequence', 'sender_id': '8_30', 'a': 'web6start.png', 'b':…",
         "175": "{'sender': 'Fixation Cross', 'sender_type': 'html.Screen', 'sender_id': '8_31_0', 'a': 'web8start.p…",
         "176": "{'sender': 'cf keyframe transitions', 'sender_type': 'html.Screen', 'sender_id': '8_31_1', 'a': 'we…",
         "177": "{'sender': 'Did You Look At the Cross?', 'sender_type': 'html.Screen', 'sender_id': '8_31_2', 'a': …",
         "178": "{'sender': 'Data transmission (beta)', 'sender_type': 'html.Screen', 'sender_id': '8_31_3', 'a': 'w…",
         "179": "{'sender': 'Trial', 'sender_type': 'flow.Sequence', 'sender_id': '8_31', 'a': 'web8start.png', 'b':…",
         "180": "{'sender': 'Fixation Cross', 'sender_type': 'html.Screen', 'sender_id': '8_32_0', 'a': 'web4start.p…",
         "181": "{'sender': 'cf keyframe transitions', 'sender_type': 'html.Screen', 'sender_id': '8_32_1', 'a': 'we…",
         "182": "{'sender': 'Did You Look At the Cross?', 'sender_type': 'html.Screen', 'sender_id': '8_32_2', 'a': …",
         "183": "{'sender': 'Data transmission (beta)', 'sender_type': 'html.Screen', 'sender_id': '8_32_3', 'a': 'w…",
         "184": "{'sender': 'Trial', 'sender_type': 'flow.Sequence', 'sender_id': '8_32', 'a': 'web4start.png', 'b':…",
         "185": "{'sender': 'Fixation Cross', 'sender_type': 'html.Screen', 'sender_id': '8_33_0', 'a': 'web4start.p…",
         "186": "{'sender': 'cf keyframe transitions', 'sender_type': 'html.Screen', 'sender_id': '8_33_1', 'a': 'we…",
         "187": "{'sender': 'Did You Look At the Cross?', 'sender_type': 'html.Screen', 'sender_id': '8_33_2', 'a': …",
         "188": "{'sender': 'Data transmission (beta)', 'sender_type': 'html.Screen', 'sender_id': '8_33_3', 'a': 'w…",
         "189": "{'sender': 'Trial', 'sender_type': 'flow.Sequence', 'sender_id': '8_33', 'a': 'web4start.png', 'b':…",
         "190": "{'sender': 'Fixation Cross', 'sender_type': 'html.Screen', 'sender_id': '8_34_0', 'a': 'web8start.p…",
         "191": "{'sender': 'cf keyframe transitions', 'sender_type': 'html.Screen', 'sender_id': '8_34_1', 'a': 'we…",
         "192": "{'sender': 'Did You Look At the Cross?', 'sender_type': 'html.Screen', 'sender_id': '8_34_2', 'a': …",
         "193": "{'sender': 'Data transmission (beta)', 'sender_type': 'html.Screen', 'sender_id': '8_34_3', 'a': 'w…",
         "194": "{'sender': 'Trial', 'sender_type': 'flow.Sequence', 'sender_id': '8_34', 'a': 'web8start.png', 'b':…",
         "195": "{'sender': 'Fixation Cross', 'sender_type': 'html.Screen', 'sender_id': '8_35_0', 'a': 'web10start.…",
         "196": "{'sender': 'cf keyframe transitions', 'sender_type': 'html.Screen', 'sender_id': '8_35_1', 'a': 'we…",
         "197": "{'sender': 'Did You Look At the Cross?', 'sender_type': 'html.Screen', 'sender_id': '8_35_2', 'a': …",
         "198": "{'sender': 'Data transmission (beta)', 'sender_type': 'html.Screen', 'sender_id': '8_35_3', 'a': 'w…",
         "199": "{'sender': 'Trial', 'sender_type': 'flow.Sequence', 'sender_id': '8_35', 'a': 'web10start.png', 'b'…",
         "200": "{'sender': 'Fixation Cross', 'sender_type': 'html.Screen', 'sender_id': '8_36_0', 'a': 'web5start.p…",
         "201": "{'sender': 'cf keyframe transitions', 'sender_type': 'html.Screen', 'sender_id': '8_36_1', 'a': 'we…",
         "202": "{'sender': 'Did You Look At the Cross?', 'sender_type': 'html.Screen', 'sender_id': '8_36_2', 'a': …",
         "203": "{'sender': 'Data transmission (beta)', 'sender_type': 'html.Screen', 'sender_id': '8_36_3', 'a': 'w…",
         "204": "{'sender': 'Trial', 'sender_type': 'flow.Sequence', 'sender_id': '8_36', 'a': 'web5start.png', 'b':…",
         "205": "{'sender': 'Fixation Cross', 'sender_type': 'html.Screen', 'sender_id': '8_37_0', 'a': 'web5start.p…",
         "206": "{'sender': 'cf keyframe transitions', 'sender_type': 'html.Screen', 'sender_id': '8_37_1', 'a': 'we…",
         "207": "{'sender': 'Did You Look At the Cross?', 'sender_type': 'html.Screen', 'sender_id': '8_37_2', 'a': …",
         "208": "{'sender': 'Data transmission (beta)', 'sender_type': 'html.Screen', 'sender_id': '8_37_3', 'a': 'w…",
         "209": "{'sender': 'Trial', 'sender_type': 'flow.Sequence', 'sender_id': '8_37', 'a': 'web5start.png', 'b':…",
         "210": "{'sender': 'Fixation Cross', 'sender_type': 'html.Screen', 'sender_id': '8_38_0', 'a': 'web13start.…",
         "211": "{'sender': 'cf keyframe transitions', 'sender_type': 'html.Screen', 'sender_id': '8_38_1', 'a': 'we…",
         "212": "{'sender': 'Did You Look At the Cross?', 'sender_type': 'html.Screen', 'sender_id': '8_38_2', 'a': …",
         "213": "{'sender': 'Data transmission (beta)', 'sender_type': 'html.Screen', 'sender_id': '8_38_3', 'a': 'w…",
         "214": "{'sender': 'Trial', 'sender_type': 'flow.Sequence', 'sender_id': '8_38', 'a': 'web13start.png', 'b'…",
         "215": "{'sender': 'Fixation Cross', 'sender_type': 'html.Screen', 'sender_id': '8_39_0', 'a': 'web14start.…",
         "216": "{'sender': 'cf keyframe transitions', 'sender_type': 'html.Screen', 'sender_id': '8_39_1', 'a': 'we…",
         "217": "{'sender': 'Did You Look At the Cross?', 'sender_type': 'html.Screen', 'sender_id': '8_39_2', 'a': …",
         "218": "{'sender': 'Data transmission (beta)', 'sender_type': 'html.Screen', 'sender_id': '8_39_3', 'a': 'w…",
         "219": "{'sender': 'Trial', 'sender_type': 'flow.Sequence', 'sender_id': '8_39', 'a': 'web14start.png', 'b'…",
         "220": "{'sender': 'Fixation Cross', 'sender_type': 'html.Screen', 'sender_id': '8_40_0', 'a': 'web6start.p…",
         "221": "{'sender': 'cf keyframe transitions', 'sender_type': 'html.Screen', 'sender_id': '8_40_1', 'a': 'we…",
         "222": "{'sender': 'Did You Look At the Cross?', 'sender_type': 'html.Screen', 'sender_id': '8_40_2', 'a': …",
         "223": "{'sender': 'Data transmission (beta)', 'sender_type': 'html.Screen', 'sender_id': '8_40_3', 'a': 'w…",
         "224": "{'sender': 'Trial', 'sender_type': 'flow.Sequence', 'sender_id': '8_40', 'a': 'web6start.png', 'b':…",
         "225": "{'sender': 'Fixation Cross', 'sender_type': 'html.Screen', 'sender_id': '8_41_0', 'a': 'web12start.…",
         "226": "{'sender': 'cf keyframe transitions', 'sender_type': 'html.Screen', 'sender_id': '8_41_1', 'a': 'we…",
         "227": "{'sender': 'Did You Look At the Cross?', 'sender_type': 'html.Screen', 'sender_id': '8_41_2', 'a': …",
         "228": "{'sender': 'Data transmission (beta)', 'sender_type': 'html.Screen', 'sender_id': '8_41_3', 'a': 'w…",
         "229": "{'sender': 'Trial', 'sender_type': 'flow.Sequence', 'sender_id': '8_41', 'a': 'web12start.png', 'b'…",
         "230": "{'sender': 'Fixation Cross', 'sender_type': 'html.Screen', 'sender_id': '8_42_0', 'a': 'web12start.…",
         "231": "{'sender': 'cf keyframe transitions', 'sender_type': 'html.Screen', 'sender_id': '8_42_1', 'a': 'we…",
         "232": "{'sender': 'Did You Look At the Cross?', 'sender_type': 'html.Screen', 'sender_id': '8_42_2', 'a': …",
         "233": "{'sender': 'Data transmission (beta)', 'sender_type': 'html.Screen', 'sender_id': '8_42_3', 'a': 'w…",
         "234": "{'sender': 'Trial', 'sender_type': 'flow.Sequence', 'sender_id': '8_42', 'a': 'web12start.png', 'b'…",
         "235": "{'sender': 'Fixation Cross', 'sender_type': 'html.Screen', 'sender_id': '8_43_0', 'a': 'web4start.p…",
         "236": "{'sender': 'cf keyframe transitions', 'sender_type': 'html.Screen', 'sender_id': '8_43_1', 'a': 'we…",
         "237": "{'sender': 'Did You Look At the Cross?', 'sender_type': 'html.Screen', 'sender_id': '8_43_2', 'a': …",
         "238": "{'sender': 'Data transmission (beta)', 'sender_type': 'html.Screen', 'sender_id': '8_43_3', 'a': 'w…",
         "239": "{'sender': 'Trial', 'sender_type': 'flow.Sequence', 'sender_id': '8_43', 'a': 'web4start.png', 'b':…",
         "240": "{'sender': 'Fixation Cross', 'sender_type': 'html.Screen', 'sender_id': '8_44_0', 'a': 'web6start.p…",
         "241": "{'sender': 'cf keyframe transitions', 'sender_type': 'html.Screen', 'sender_id': '8_44_1', 'a': 'we…",
         "242": "{'sender': 'Did You Look At the Cross?', 'sender_type': 'html.Screen', 'sender_id': '8_44_2', 'a': …",
         "243": "{'sender': 'Data transmission (beta)', 'sender_type': 'html.Screen', 'sender_id': '8_44_3', 'a': 'w…",
         "244": "{'sender': 'Trial', 'sender_type': 'flow.Sequence', 'sender_id': '8_44', 'a': 'web6start.png', 'b':…",
         "245": "{'sender': 'Fixation Cross', 'sender_type': 'html.Screen', 'sender_id': '8_45_0', 'a': 'web13start.…",
         "246": "{'sender': 'cf keyframe transitions', 'sender_type': 'html.Screen', 'sender_id': '8_45_1', 'a': 'we…",
         "247": "{'sender': 'Did You Look At the Cross?', 'sender_type': 'html.Screen', 'sender_id': '8_45_2', 'a': …",
         "248": "{'sender': 'Data transmission (beta)', 'sender_type': 'html.Screen', 'sender_id': '8_45_3', 'a': 'w…",
         "249": "{'sender': 'Trial', 'sender_type': 'flow.Sequence', 'sender_id': '8_45', 'a': 'web13start.png', 'b'…",
         "250": "{'sender': 'Fixation Cross', 'sender_type': 'html.Screen', 'sender_id': '8_46_0', 'a': 'web8start.p…",
         "251": "{'sender': 'cf keyframe transitions', 'sender_type': 'html.Screen', 'sender_id': '8_46_1', 'a': 'we…",
         "252": "{'sender': 'Did You Look At the Cross?', 'sender_type': 'html.Screen', 'sender_id': '8_46_2', 'a': …",
         "253": "{'sender': 'Data transmission (beta)', 'sender_type': 'html.Screen', 'sender_id': '8_46_3', 'a': 'w…",
         "254": "{'sender': 'Trial', 'sender_type': 'flow.Sequence', 'sender_id': '8_46', 'a': 'web8start.png', 'b':…",
         "255": "{'sender': 'Fixation Cross', 'sender_type': 'html.Screen', 'sender_id': '8_47_0', 'a': 'web4start.p…",
         "256": "{'sender': 'cf keyframe transitions', 'sender_type': 'html.Screen', 'sender_id': '8_47_1', 'a': 'we…",
         "257": "{'sender': 'Did You Look At the Cross?', 'sender_type': 'html.Screen', 'sender_id': '8_47_2', 'a': …",
         "258": "{'sender': 'Data transmission (beta)', 'sender_type': 'html.Screen', 'sender_id': '8_47_3', 'a': 'w…",
         "259": "{'sender': 'Trial', 'sender_type': 'flow.Sequence', 'sender_id': '8_47', 'a': 'web4start.png', 'b':…",
         "260": "{'sender': 'Fixation Cross', 'sender_type': 'html.Screen', 'sender_id': '8_48_0', 'a': 'web5start.p…",
         "261": "{'sender': 'cf keyframe transitions', 'sender_type': 'html.Screen', 'sender_id': '8_48_1', 'a': 'we…",
         "262": "{'sender': 'Did You Look At the Cross?', 'sender_type': 'html.Screen', 'sender_id': '8_48_2', 'a': …",
         "263": "{'sender': 'Data transmission (beta)', 'sender_type': 'html.Screen', 'sender_id': '8_48_3', 'a': 'w…",
         "264": "{'sender': 'Trial', 'sender_type': 'flow.Sequence', 'sender_id': '8_48', 'a': 'web5start.png', 'b':…",
         "265": "{'sender': 'Fixation Cross', 'sender_type': 'html.Screen', 'sender_id': '8_49_0', 'a': 'web9start.p…",
         "266": "{'sender': 'cf keyframe transitions', 'sender_type': 'html.Screen', 'sender_id': '8_49_1', 'a': 'we…",
         "267": "{'sender': 'Did You Look At the Cross?', 'sender_type': 'html.Screen', 'sender_id': '8_49_2', 'a': …",
         "268": "{'sender': 'Data transmission (beta)', 'sender_type': 'html.Screen', 'sender_id': '8_49_3', 'a': 'w…",
         "269": "{'sender': 'Trial', 'sender_type': 'flow.Sequence', 'sender_id': '8_49', 'a': 'web9start.png', 'b':…",
         "270": "{'sender': 'Fixation Cross', 'sender_type': 'html.Screen', 'sender_id': '8_50_0', 'a': 'web5start.p…",
         "271": "{'sender': 'cf keyframe transitions', 'sender_type': 'html.Screen', 'sender_id': '8_50_1', 'a': 'we…",
         "272": "{'sender': 'Did You Look At the Cross?', 'sender_type': 'html.Screen', 'sender_id': '8_50_2', 'a': …",
         "273": "{'sender': 'Data transmission (beta)', 'sender_type': 'html.Screen', 'sender_id': '8_50_3', 'a': 'w…",
         "274": "{'sender': 'Trial', 'sender_type': 'flow.Sequence', 'sender_id': '8_50', 'a': 'web5start.png', 'b':…",
         "275": "{'sender': 'Fixation Cross', 'sender_type': 'html.Screen', 'sender_id': '8_51_0', 'a': 'web6start.p…",
         "276": "{'sender': 'cf keyframe transitions', 'sender_type': 'html.Screen', 'sender_id': '8_51_1', 'a': 'we…",
         "277": "{'sender': 'Did You Look At the Cross?', 'sender_type': 'html.Screen', 'sender_id': '8_51_2', 'a': …",
         "278": "{'sender': 'Data transmission (beta)', 'sender_type': 'html.Screen', 'sender_id': '8_51_3', 'a': 'w…",
         "279": "{'sender': 'Trial', 'sender_type': 'flow.Sequence', 'sender_id': '8_51', 'a': 'web6start.png', 'b':…",
         "280": "{'sender': 'Fixation Cross', 'sender_type': 'html.Screen', 'sender_id': '8_52_0', 'a': 'web7start.p…",
         "281": "{'sender': 'cf keyframe transitions', 'sender_type': 'html.Screen', 'sender_id': '8_52_1', 'a': 'we…",
         "282": "{'sender': 'Did You Look At the Cross?', 'sender_type': 'html.Screen', 'sender_id': '8_52_2', 'a': …",
         "283": "{'sender': 'Data transmission (beta)', 'sender_type': 'html.Screen', 'sender_id': '8_52_3', 'a': 'w…",
         "284": "{'sender': 'Trial', 'sender_type': 'flow.Sequence', 'sender_id': '8_52', 'a': 'web7start.png', 'b':…",
         "285": "{'sender': 'Fixation Cross', 'sender_type': 'html.Screen', 'sender_id': '8_53_0', 'a': 'web7start.p…",
         "286": "{'sender': 'cf keyframe transitions', 'sender_type': 'html.Screen', 'sender_id': '8_53_1', 'a': 'we…",
         "287": "{'sender': 'Did You Look At the Cross?', 'sender_type': 'html.Screen', 'sender_id': '8_53_2', 'a': …",
         "288": "{'sender': 'Data transmission (beta)', 'sender_type': 'html.Screen', 'sender_id': '8_53_3', 'a': 'w…",
         "289": "{'sender': 'Trial', 'sender_type': 'flow.Sequence', 'sender_id': '8_53', 'a': 'web7start.png', 'b':…",
         "290": "{'sender': 'Fixation Cross', 'sender_type': 'html.Screen', 'sender_id': '8_54_0', 'a': 'web11start.…",
         "291": "{'sender': 'cf keyframe transitions', 'sender_type': 'html.Screen', 'sender_id': '8_54_1', 'a': 'we…",
         "292": "{'sender': 'Did You Look At the Cross?', 'sender_type': 'html.Screen', 'sender_id': '8_54_2', 'a': …",
         "293": "{'sender': 'Data transmission (beta)', 'sender_type': 'html.Screen', 'sender_id': '8_54_3', 'a': 'w…",
         "294": "{'sender': 'Trial', 'sender_type': 'flow.Sequence', 'sender_id': '8_54', 'a': 'web11start.png', 'b'…",
         "295": "{'sender': 'Fixation Cross', 'sender_type': 'html.Screen', 'sender_id': '8_55_0', 'a': 'web12start.…",
         "296": "{'sender': 'cf keyframe transitions', 'sender_type': 'html.Screen', 'sender_id': '8_55_1', 'a': 'we…",
         "297": "{'sender': 'Did You Look At the Cross?', 'sender_type': 'html.Screen', 'sender_id': '8_55_2', 'a': …",
         "298": "{'sender': 'Data transmission (beta)', 'sender_type': 'html.Screen', 'sender_id': '8_55_3', 'a': 'w…",
         "299": "{'sender': 'Trial', 'sender_type': 'flow.Sequence', 'sender_id': '8_55', 'a': 'web12start.png', 'b'…",
         "300": "{'sender': 'Fixation Cross', 'sender_type': 'html.Screen', 'sender_id': '8_56_0', 'a': 'web15start.…",
         "301": "{'sender': 'cf keyframe transitions', 'sender_type': 'html.Screen', 'sender_id': '8_56_1', 'a': 'we…",
         "302": "{'sender': 'Did You Look At the Cross?', 'sender_type': 'html.Screen', 'sender_id': '8_56_2', 'a': …",
         "303": "{'sender': 'Data transmission (beta)', 'sender_type': 'html.Screen', 'sender_id': '8_56_3', 'a': 'w…",
         "304": "{'sender': 'Trial', 'sender_type': 'flow.Sequence', 'sender_id': '8_56', 'a': 'web15start.png', 'b'…",
         "305": "{'sender': 'Fixation Cross', 'sender_type': 'html.Screen', 'sender_id': '8_57_0', 'a': 'web11start.…",
         "306": "{'sender': 'cf keyframe transitions', 'sender_type': 'html.Screen', 'sender_id': '8_57_1', 'a': 'we…",
         "307": "{'sender': 'Did You Look At the Cross?', 'sender_type': 'html.Screen', 'sender_id': '8_57_2', 'a': …",
         "308": "{'sender': 'Data transmission (beta)', 'sender_type': 'html.Screen', 'sender_id': '8_57_3', 'a': 'w…",
         "309": "{'sender': 'Trial', 'sender_type': 'flow.Sequence', 'sender_id': '8_57', 'a': 'web11start.png', 'b'…",
         "310": "{'sender': 'Fixation Cross', 'sender_type': 'html.Screen', 'sender_id': '8_58_0', 'a': 'web7start.p…",
         "311": "{'sender': 'cf keyframe transitions', 'sender_type': 'html.Screen', 'sender_id': '8_58_1', 'a': 'we…",
         "312": "{'sender': 'Did You Look At the Cross?', 'sender_type': 'html.Screen', 'sender_id': '8_58_2', 'a': …",
         "313": "{'sender': 'Data transmission (beta)', 'sender_type': 'html.Screen', 'sender_id': '8_58_3', 'a': 'w…",
         "314": "{'sender': 'Trial', 'sender_type': 'flow.Sequence', 'sender_id': '8_58', 'a': 'web7start.png', 'b':…",
         "315": "{'sender': 'Fixation Cross', 'sender_type': 'html.Screen', 'sender_id': '8_59_0', 'a': 'web6start.p…",
         "316": "{'sender': 'cf keyframe transitions', 'sender_type': 'html.Screen', 'sender_id': '8_59_1', 'a': 'we…",
         "317": "{'sender': 'Did You Look At the Cross?', 'sender_type': 'html.Screen', 'sender_id': '8_59_2', 'a': …",
         "318": "{'sender': 'Data transmission (beta)', 'sender_type': 'html.Screen', 'sender_id': '8_59_3', 'a': 'w…",
         "319": "{'sender': 'Trial', 'sender_type': 'flow.Sequence', 'sender_id': '8_59', 'a': 'web6start.png', 'b':…",
         "320": "{'sender': 'Fixation Cross', 'sender_type': 'html.Screen', 'sender_id': '8_60_0', 'a': 'web8start.p…",
         "321": "{'sender': 'cf keyframe transitions', 'sender_type': 'html.Screen', 'sender_id': '8_60_1', 'a': 'we…",
         "322": "{'sender': 'Did You Look At the Cross?', 'sender_type': 'html.Screen', 'sender_id': '8_60_2', 'a': …",
         "323": "{'sender': 'Data transmission (beta)', 'sender_type': 'html.Screen', 'sender_id': '8_60_3', 'a': 'w…",
         "324": "{'sender': 'Trial', 'sender_type': 'flow.Sequence', 'sender_id': '8_60', 'a': 'web8start.png', 'b':…",
         "325": "{'sender': 'Fixation Cross', 'sender_type': 'html.Screen', 'sender_id': '8_61_0', 'a': 'web10start.…",
         "326": "{'sender': 'cf keyframe transitions', 'sender_type': 'html.Screen', 'sender_id': '8_61_1', 'a': 'we…",
         "327": "{'sender': 'Did You Look At the Cross?', 'sender_type': 'html.Screen', 'sender_id': '8_61_2', 'a': …",
         "328": "{'sender': 'Data transmission (beta)', 'sender_type': 'html.Screen', 'sender_id': '8_61_3', 'a': 'w…",
         "329": "{'sender': 'Trial', 'sender_type': 'flow.Sequence', 'sender_id': '8_61', 'a': 'web10start.png', 'b'…",
         "330": "{'sender': 'Fixation Cross', 'sender_type': 'html.Screen', 'sender_id': '8_62_0', 'a': 'web9start.p…",
         "331": "{'sender': 'cf keyframe transitions', 'sender_type': 'html.Screen', 'sender_id': '8_62_1', 'a': 'we…",
         "332": "{'sender': 'Did You Look At the Cross?', 'sender_type': 'html.Screen', 'sender_id': '8_62_2', 'a': …",
         "333": "{'sender': 'Data transmission (beta)', 'sender_type': 'html.Screen', 'sender_id': '8_62_3', 'a': 'w…",
         "334": "{'sender': 'Trial', 'sender_type': 'flow.Sequence', 'sender_id': '8_62', 'a': 'web9start.png', 'b':…",
         "335": "{'sender': 'Fixation Cross', 'sender_type': 'html.Screen', 'sender_id': '8_63_0', 'a': 'web14start.…",
         "336": "{'sender': 'cf keyframe transitions', 'sender_type': 'html.Screen', 'sender_id': '8_63_1', 'a': 'we…",
         "337": "{'sender': 'Did You Look At the Cross?', 'sender_type': 'html.Screen', 'sender_id': '8_63_2', 'a': …",
         "338": "{'sender': 'Data transmission (beta)', 'sender_type': 'html.Screen', 'sender_id': '8_63_3', 'a': 'w…",
         "339": "{'sender': 'Trial', 'sender_type': 'flow.Sequence', 'sender_id': '8_63', 'a': 'web14start.png', 'b'…",
         "340": "{'sender': 'Fixation Cross', 'sender_type': 'html.Screen', 'sender_id': '8_64_0', 'a': 'web5start.p…",
         "341": "{'sender': 'cf keyframe transitions', 'sender_type': 'html.Screen', 'sender_id': '8_64_1', 'a': 'we…",
         "342": "{'sender': 'Did You Look At the Cross?', 'sender_type': 'html.Screen', 'sender_id': '8_64_2', 'a': …",
         "343": "{'sender': 'Data transmission (beta)', 'sender_type': 'html.Screen', 'sender_id': '8_64_3', 'a': 'w…",
         "344": "{'sender': 'Trial', 'sender_type': 'flow.Sequence', 'sender_id': '8_64', 'a': 'web5start.png', 'b':…",
         "345": "{'sender': 'Fixation Cross', 'sender_type': 'html.Screen', 'sender_id': '8_65_0', 'a': 'web4start.p…",
         "346": "{'sender': 'cf keyframe transitions', 'sender_type': 'html.Screen', 'sender_id': '8_65_1', 'a': 'we…",
         "347": "{'sender': 'Did You Look At the Cross?', 'sender_type': 'html.Screen', 'sender_id': '8_65_2', 'a': …",
         "348": "{'sender': 'Data transmission (beta)', 'sender_type': 'html.Screen', 'sender_id': '8_65_3', 'a': 'w…",
         "349": "{'sender': 'Trial', 'sender_type': 'flow.Sequence', 'sender_id': '8_65', 'a': 'web4start.png', 'b':…",
         "350": "{'sender': 'Fixation Cross', 'sender_type': 'html.Screen', 'sender_id': '8_66_0', 'a': 'web11start.…",
         "351": "{'sender': 'cf keyframe transitions', 'sender_type': 'html.Screen', 'sender_id': '8_66_1', 'a': 'we…",
         "352": "{'sender': 'Did You Look At the Cross?', 'sender_type': 'html.Screen', 'sender_id': '8_66_2', 'a': …",
         "353": "{'sender': 'Data transmission (beta)', 'sender_type': 'html.Screen', 'sender_id': '8_66_3', 'a': 'w…",
         "354": "{'sender': 'Trial', 'sender_type': 'flow.Sequence', 'sender_id': '8_66', 'a': 'web11start.png', 'b'…",
         "355": "{'sender': 'Fixation Cross', 'sender_type': 'html.Screen', 'sender_id': '8_67_0', 'a': 'web7start.p…",
         "356": "{'sender': 'cf keyframe transitions', 'sender_type': 'html.Screen', 'sender_id': '8_67_1', 'a': 'we…",
         "357": "{'sender': 'Did You Look At the Cross?', 'sender_type': 'html.Screen', 'sender_id': '8_67_2', 'a': …",
         "358": "{'sender': 'Data transmission (beta)', 'sender_type': 'html.Screen', 'sender_id': '8_67_3', 'a': 'w…",
         "359": "{'sender': 'Trial', 'sender_type': 'flow.Sequence', 'sender_id': '8_67', 'a': 'web7start.png', 'b':…",
         "360": "{'sender': 'Fixation Cross', 'sender_type': 'html.Screen', 'sender_id': '8_68_0', 'a': 'web15start.…",
         "361": "{'sender': 'cf keyframe transitions', 'sender_type': 'html.Screen', 'sender_id': '8_68_1', 'a': 'we…",
         "362": "{'sender': 'Did You Look At the Cross?', 'sender_type': 'html.Screen', 'sender_id': '8_68_2', 'a': …",
         "363": "{'sender': 'Data transmission (beta)', 'sender_type': 'html.Screen', 'sender_id': '8_68_3', 'a': 'w…",
         "364": "{'sender': 'Trial', 'sender_type': 'flow.Sequence', 'sender_id': '8_68', 'a': 'web15start.png', 'b'…",
         "365": "{'sender': 'Fixation Cross', 'sender_type': 'html.Screen', 'sender_id': '8_69_0', 'a': 'web14start.…",
         "366": "{'sender': 'cf keyframe transitions', 'sender_type': 'html.Screen', 'sender_id': '8_69_1', 'a': 'we…",
         "367": "{'sender': 'Did You Look At the Cross?', 'sender_type': 'html.Screen', 'sender_id': '8_69_2', 'a': …",
         "368": "{'sender': 'Data transmission (beta)', 'sender_type': 'html.Screen', 'sender_id': '8_69_3', 'a': 'w…",
         "369": "{'sender': 'Trial', 'sender_type': 'flow.Sequence', 'sender_id': '8_69', 'a': 'web14start.png', 'b'…",
         "370": "{'sender': 'Fixation Cross', 'sender_type': 'html.Screen', 'sender_id': '8_70_0', 'a': 'web13start.…",
         "371": "{'sender': 'cf keyframe transitions', 'sender_type': 'html.Screen', 'sender_id': '8_70_1', 'a': 'we…",
         "372": "{'sender': 'Did You Look At the Cross?', 'sender_type': 'html.Screen', 'sender_id': '8_70_2', 'a': …",
         "373": "{'sender': 'Data transmission (beta)', 'sender_type': 'html.Screen', 'sender_id': '8_70_3', 'a': 'w…",
         "374": "{'sender': 'Trial', 'sender_type': 'flow.Sequence', 'sender_id': '8_70', 'a': 'web13start.png', 'b'…",
         "375": "{'sender': 'Fixation Cross', 'sender_type': 'html.Screen', 'sender_id': '8_71_0', 'a': 'web13start.…",
         "376": "{'sender': 'cf keyframe transitions', 'sender_type': 'html.Screen', 'sender_id': '8_71_1', 'a': 'we…",
         "377": "{'sender': 'Did You Look At the Cross?', 'sender_type': 'html.Screen', 'sender_id': '8_71_2', 'a': …",
         "378": "{'sender': 'Data transmission (beta)', 'sender_type': 'html.Screen', 'sender_id': '8_71_3', 'a': 'w…",
         "379": "{'sender': 'Trial', 'sender_type': 'flow.Sequence', 'sender_id': '8_71', 'a': 'web13start.png', 'b'…",
         "380": "{'sender': 'Test Rounds', 'sender_type': 'flow.Loop', 'sender_id': '8', 'ended_on': 'completion', '…",
         "381": "{'sender': 'Thanks for Participating!', 'sender_type': 'html.Page', 'sender_id': '9', 'ended_on': '…",
         "382": "{'sender': 'root', 'sender_type': 'flow.Sequence', 'sender_id': None, 'ended_on': 'completion', 'du…",
         "_deepnote_index_column": 305
        }
       ]
      },
      "text/plain": "                                                   0    \\\n0    {'url': {'srid': '32782'}, 'meta': {'labjs_ver...   \n1    {'url': {'srid': '32778'}, 'meta': {'labjs_ver...   \n2    {'url': {'srid': '32776'}, 'meta': {'labjs_ver...   \n3    {'url': {'srid': '32775'}, 'meta': {'labjs_ver...   \n4    {'url': {'srid': '32760'}, 'meta': {'labjs_ver...   \n..                                                 ...   \n301  {'url': {'srid': '31215'}, 'meta': {'labjs_ver...   \n302  {'url': {'srid': '31209'}, 'meta': {'labjs_ver...   \n303  {'url': {'srid': '31188'}, 'meta': {'labjs_ver...   \n304  {'url': {'srid': '30775'}, 'meta': {'labjs_ver...   \n305  {'url': {'srid': '30769'}, 'meta': {'labjs_ver...   \n\n                                                   1    \\\n0    {'sender': 'Depression Questionnaire', 'sender...   \n1    {'sender': 'Depression Questionnaire', 'sender...   \n2    {'sender': 'Depression Questionnaire', 'sender...   \n3    {'sender': 'Depression Questionnaire', 'sender...   \n4    {'sender': 'Depression Questionnaire', 'sender...   \n..                                                 ...   \n301  {'sender': 'Depression Questionnaire', 'sender...   \n302  {'sender': 'Depression Questionnaire', 'sender...   \n303  {'sender': 'Depression Questionnaire', 'sender...   \n304  {'sender': 'Depression Questionnaire', 'sender...   \n305  {'sender': 'Depression Questionnaire', 'sender...   \n\n                                                   2    \\\n0    {'sender': 'Anxiety Questionnaire', 'sender_ty...   \n1    {'sender': 'Anxiety Questionnaire', 'sender_ty...   \n2    {'sender': 'Anxiety Questionnaire', 'sender_ty...   \n3    {'sender': 'Anxiety Questionnaire', 'sender_ty...   \n4    {'sender': 'Anxiety Questionnaire', 'sender_ty...   \n..                                                 ...   \n301  {'sender': 'Anxiety Questionnaire', 'sender_ty...   \n302  {'sender': 'Anxiety Questionnaire', 'sender_ty...   \n303  {'sender': 'Anxiety Questionnaire', 'sender_ty...   \n304  {'sender': 'Anxiety Questionnaire', 'sender_ty...   \n305  {'sender': 'Anxiety Questionnaire', 'sender_ty...   \n\n                                                   3    \\\n0    {'sender': 'Thanks for Filling Out Form', 'sen...   \n1    {'sender': 'Thanks for Filling Out Form', 'sen...   \n2    {'sender': 'Thanks for Filling Out Form', 'sen...   \n3    {'sender': 'Thanks for Filling Out Form', 'sen...   \n4    {'sender': 'Thanks for Filling Out Form', 'sen...   \n..                                                 ...   \n301  {'sender': 'Thanks for Filling Out Form', 'sen...   \n302  {'sender': 'Thanks for Filling Out Form', 'sen...   \n303  {'sender': 'Thanks for Filling Out Form', 'sen...   \n304  {'sender': 'Thanks for Filling Out Form', 'sen...   \n305  {'sender': 'Thanks for Filling Out Form', 'sen...   \n\n                                                   4    \\\n0    {'sender': 'Instructions', 'sender_type': 'htm...   \n1    {'sender': 'Instructions', 'sender_type': 'htm...   \n2    {'sender': 'Instructions', 'sender_type': 'htm...   \n3    {'sender': 'Instructions', 'sender_type': 'htm...   \n4    {'sender': 'Instructions', 'sender_type': 'htm...   \n..                                                 ...   \n301  {'sender': 'Instructions', 'sender_type': 'htm...   \n302  {'sender': 'Instructions', 'sender_type': 'htm...   \n303  {'sender': 'Instructions', 'sender_type': 'htm...   \n304  {'sender': 'Instructions', 'sender_type': 'htm...   \n305  {'sender': 'Instructions', 'sender_type': 'htm...   \n\n                                                   5    \\\n0    {'sender': 'Test Trial Instructions', 'sender_...   \n1    {'sender': 'Test Trial Instructions', 'sender_...   \n2    {'sender': 'Test Trial Instructions', 'sender_...   \n3    {'sender': 'Test Trial Instructions', 'sender_...   \n4    {'sender': 'Test Trial Instructions', 'sender_...   \n..                                                 ...   \n301  {'sender': 'Test Trial Instructions', 'sender_...   \n302  {'sender': 'Test Trial Instructions', 'sender_...   \n303  {'sender': 'Test Trial Instructions', 'sender_...   \n304  {'sender': 'Test Trial Instructions', 'sender_...   \n305  {'sender': 'Test Trial Instructions', 'sender_...   \n\n                                                   6    \\\n0    {'sender': 'Fixation Cross', 'sender_type': 'h...   \n1    {'sender': 'Fixation Cross', 'sender_type': 'h...   \n2    {'sender': 'Fixation Cross', 'sender_type': 'h...   \n3    {'sender': 'Fixation Cross', 'sender_type': 'h...   \n4    {'sender': 'Fixation Cross', 'sender_type': 'h...   \n..                                                 ...   \n301  {'sender': 'Fixation Cross', 'sender_type': 'h...   \n302  {'sender': 'Fixation Cross', 'sender_type': 'h...   \n303  {'sender': 'Fixation Cross', 'sender_type': 'h...   \n304  {'sender': 'Fixation Cross', 'sender_type': 'h...   \n305  {'sender': 'Fixation Cross', 'sender_type': 'h...   \n\n                                                   7    \\\n0    {'sender': 'cf keyframe transitions', 'sender_...   \n1    {'sender': 'cf keyframe transitions', 'sender_...   \n2    {'sender': 'cf keyframe transitions', 'sender_...   \n3    {'sender': 'cf keyframe transitions', 'sender_...   \n4    {'sender': 'cf keyframe transitions', 'sender_...   \n..                                                 ...   \n301  {'sender': 'cf keyframe transitions', 'sender_...   \n302  {'sender': 'cf keyframe transitions', 'sender_...   \n303  {'sender': 'cf keyframe transitions', 'sender_...   \n304  {'sender': 'cf keyframe transitions', 'sender_...   \n305  {'sender': 'cf keyframe transitions', 'sender_...   \n\n                                                   8    \\\n0    {'sender': 'Did You Look At the Cross?', 'send...   \n1    {'sender': 'Did You Look At the Cross?', 'send...   \n2    {'sender': 'Did You Look At the Cross?', 'send...   \n3    {'sender': 'Did You Look At the Cross?', 'send...   \n4    {'sender': 'Did You Look At the Cross?', 'send...   \n..                                                 ...   \n301  {'sender': 'Did You Look At the Cross?', 'send...   \n302  {'sender': 'Did You Look At the Cross?', 'send...   \n303  {'sender': 'Did You Look At the Cross?', 'send...   \n304  {'sender': 'Did You Look At the Cross?', 'send...   \n305  {'sender': 'Did You Look At the Cross?', 'send...   \n\n                                                   9    ...  \\\n0    {'sender': 'Trial', 'sender_type': 'flow.Seque...  ...   \n1    {'sender': 'Trial', 'sender_type': 'flow.Seque...  ...   \n2    {'sender': 'Trial', 'sender_type': 'flow.Seque...  ...   \n3    {'sender': 'Trial', 'sender_type': 'flow.Seque...  ...   \n4    {'sender': 'Trial', 'sender_type': 'flow.Seque...  ...   \n..                                                 ...  ...   \n301  {'sender': 'Trial', 'sender_type': 'flow.Seque...  ...   \n302  {'sender': 'Trial', 'sender_type': 'flow.Seque...  ...   \n303  {'sender': 'Trial', 'sender_type': 'flow.Seque...  ...   \n304  {'sender': 'Trial', 'sender_type': 'flow.Seque...  ...   \n305  {'sender': 'Trial', 'sender_type': 'flow.Seque...  ...   \n\n                                                   373  \\\n0    {'sender': 'Data transmission (beta)', 'sender...   \n1    {'sender': 'Data transmission (beta)', 'sender...   \n2    {'sender': 'Data transmission (beta)', 'sender...   \n3    {'sender': 'Data transmission (beta)', 'sender...   \n4    {'sender': 'Data transmission (beta)', 'sender...   \n..                                                 ...   \n301  {'sender': 'Data transmission (beta)', 'sender...   \n302  {'sender': 'Data transmission (beta)', 'sender...   \n303  {'sender': 'Data transmission (beta)', 'sender...   \n304  {'sender': 'Data transmission (beta)', 'sender...   \n305  {'sender': 'Data transmission (beta)', 'sender...   \n\n                                                   374  \\\n0    {'sender': 'Trial', 'sender_type': 'flow.Seque...   \n1    {'sender': 'Trial', 'sender_type': 'flow.Seque...   \n2    {'sender': 'Trial', 'sender_type': 'flow.Seque...   \n3    {'sender': 'Trial', 'sender_type': 'flow.Seque...   \n4    {'sender': 'Trial', 'sender_type': 'flow.Seque...   \n..                                                 ...   \n301  {'sender': 'Trial', 'sender_type': 'flow.Seque...   \n302  {'sender': 'Trial', 'sender_type': 'flow.Seque...   \n303  {'sender': 'Trial', 'sender_type': 'flow.Seque...   \n304  {'sender': 'Trial', 'sender_type': 'flow.Seque...   \n305  {'sender': 'Trial', 'sender_type': 'flow.Seque...   \n\n                                                   375  \\\n0    {'sender': 'Fixation Cross', 'sender_type': 'h...   \n1    {'sender': 'Fixation Cross', 'sender_type': 'h...   \n2    {'sender': 'Fixation Cross', 'sender_type': 'h...   \n3    {'sender': 'Fixation Cross', 'sender_type': 'h...   \n4    {'sender': 'Fixation Cross', 'sender_type': 'h...   \n..                                                 ...   \n301  {'sender': 'Fixation Cross', 'sender_type': 'h...   \n302  {'sender': 'Fixation Cross', 'sender_type': 'h...   \n303  {'sender': 'Fixation Cross', 'sender_type': 'h...   \n304  {'sender': 'Fixation Cross', 'sender_type': 'h...   \n305  {'sender': 'Fixation Cross', 'sender_type': 'h...   \n\n                                                   376  \\\n0    {'sender': 'cf keyframe transitions', 'sender_...   \n1    {'sender': 'cf keyframe transitions', 'sender_...   \n2    {'sender': 'cf keyframe transitions', 'sender_...   \n3    {'sender': 'cf keyframe transitions', 'sender_...   \n4    {'sender': 'cf keyframe transitions', 'sender_...   \n..                                                 ...   \n301  {'sender': 'cf keyframe transitions', 'sender_...   \n302  {'sender': 'cf keyframe transitions', 'sender_...   \n303  {'sender': 'cf keyframe transitions', 'sender_...   \n304  {'sender': 'cf keyframe transitions', 'sender_...   \n305  {'sender': 'cf keyframe transitions', 'sender_...   \n\n                                                   377  \\\n0    {'sender': 'Did You Look At the Cross?', 'send...   \n1    {'sender': 'Did You Look At the Cross?', 'send...   \n2    {'sender': 'Did You Look At the Cross?', 'send...   \n3    {'sender': 'Did You Look At the Cross?', 'send...   \n4    {'sender': 'Did You Look At the Cross?', 'send...   \n..                                                 ...   \n301  {'sender': 'Did You Look At the Cross?', 'send...   \n302  {'sender': 'Did You Look At the Cross?', 'send...   \n303  {'sender': 'Did You Look At the Cross?', 'send...   \n304  {'sender': 'Did You Look At the Cross?', 'send...   \n305  {'sender': 'Did You Look At the Cross?', 'send...   \n\n                                                   378  \\\n0    {'sender': 'Data transmission (beta)', 'sender...   \n1    {'sender': 'Data transmission (beta)', 'sender...   \n2    {'sender': 'Data transmission (beta)', 'sender...   \n3    {'sender': 'Data transmission (beta)', 'sender...   \n4    {'sender': 'Data transmission (beta)', 'sender...   \n..                                                 ...   \n301  {'sender': 'Data transmission (beta)', 'sender...   \n302  {'sender': 'Data transmission (beta)', 'sender...   \n303  {'sender': 'Data transmission (beta)', 'sender...   \n304  {'sender': 'Data transmission (beta)', 'sender...   \n305  {'sender': 'Data transmission (beta)', 'sender...   \n\n                                                   379  \\\n0    {'sender': 'Trial', 'sender_type': 'flow.Seque...   \n1    {'sender': 'Trial', 'sender_type': 'flow.Seque...   \n2    {'sender': 'Trial', 'sender_type': 'flow.Seque...   \n3    {'sender': 'Trial', 'sender_type': 'flow.Seque...   \n4    {'sender': 'Trial', 'sender_type': 'flow.Seque...   \n..                                                 ...   \n301  {'sender': 'Trial', 'sender_type': 'flow.Seque...   \n302  {'sender': 'Trial', 'sender_type': 'flow.Seque...   \n303  {'sender': 'Trial', 'sender_type': 'flow.Seque...   \n304  {'sender': 'Trial', 'sender_type': 'flow.Seque...   \n305  {'sender': 'Trial', 'sender_type': 'flow.Seque...   \n\n                                                   380  \\\n0    {'sender': 'Test Rounds', 'sender_type': 'flow...   \n1    {'sender': 'Test Rounds', 'sender_type': 'flow...   \n2    {'sender': 'Test Rounds', 'sender_type': 'flow...   \n3    {'sender': 'Test Rounds', 'sender_type': 'flow...   \n4    {'sender': 'Test Rounds', 'sender_type': 'flow...   \n..                                                 ...   \n301  {'sender': 'Test Rounds', 'sender_type': 'flow...   \n302  {'sender': 'Test Rounds', 'sender_type': 'flow...   \n303  {'sender': 'Test Rounds', 'sender_type': 'flow...   \n304  {'sender': 'Test Rounds', 'sender_type': 'flow...   \n305  {'sender': 'Test Rounds', 'sender_type': 'flow...   \n\n                                                   381  \\\n0    {'sender': 'Thanks for Participating!', 'sende...   \n1    {'sender': 'Thanks for Participating!', 'sende...   \n2    {'sender': 'Thanks for Participating!', 'sende...   \n3    {'sender': 'Thanks for Participating!', 'sende...   \n4    {'sender': 'Thanks for Participating!', 'sende...   \n..                                                 ...   \n301  {'sender': 'Thanks for Participating!', 'sende...   \n302  {'sender': 'Thanks for Participating!', 'sende...   \n303  {'sender': 'Thanks for Participating!', 'sende...   \n304  {'sender': 'Thanks for Participating!', 'sende...   \n305  {'sender': 'Thanks for Participating!', 'sende...   \n\n                                                   382  \n0    {'sender': 'root', 'sender_type': 'flow.Sequen...  \n1    {'sender': 'root', 'sender_type': 'flow.Sequen...  \n2    {'sender': 'root', 'sender_type': 'flow.Sequen...  \n3    {'sender': 'root', 'sender_type': 'flow.Sequen...  \n4    {'sender': 'root', 'sender_type': 'flow.Sequen...  \n..                                                 ...  \n301  {'sender': 'root', 'sender_type': 'flow.Sequen...  \n302  {'sender': 'root', 'sender_type': 'flow.Sequen...  \n303  {'sender': 'root', 'sender_type': 'flow.Sequen...  \n304  {'sender': 'root', 'sender_type': 'flow.Sequen...  \n305  {'sender': 'root', 'sender_type': 'flow.Sequen...  \n\n[306 rows x 383 columns]",
      "text/html": "<div>\n<style scoped>\n    .dataframe tbody tr th:only-of-type {\n        vertical-align: middle;\n    }\n\n    .dataframe tbody tr th {\n        vertical-align: top;\n    }\n\n    .dataframe thead th {\n        text-align: right;\n    }\n</style>\n<table border=\"1\" class=\"dataframe\">\n  <thead>\n    <tr style=\"text-align: right;\">\n      <th></th>\n      <th>0</th>\n      <th>1</th>\n      <th>2</th>\n      <th>3</th>\n      <th>4</th>\n      <th>5</th>\n      <th>6</th>\n      <th>7</th>\n      <th>8</th>\n      <th>9</th>\n      <th>...</th>\n      <th>373</th>\n      <th>374</th>\n      <th>375</th>\n      <th>376</th>\n      <th>377</th>\n      <th>378</th>\n      <th>379</th>\n      <th>380</th>\n      <th>381</th>\n      <th>382</th>\n    </tr>\n  </thead>\n  <tbody>\n    <tr>\n      <th>0</th>\n      <td>{'url': {'srid': '32782'}, 'meta': {'labjs_ver...</td>\n      <td>{'sender': 'Depression Questionnaire', 'sender...</td>\n      <td>{'sender': 'Anxiety Questionnaire', 'sender_ty...</td>\n      <td>{'sender': 'Thanks for Filling Out Form', 'sen...</td>\n      <td>{'sender': 'Instructions', 'sender_type': 'htm...</td>\n      <td>{'sender': 'Test Trial Instructions', 'sender_...</td>\n      <td>{'sender': 'Fixation Cross', 'sender_type': 'h...</td>\n      <td>{'sender': 'cf keyframe transitions', 'sender_...</td>\n      <td>{'sender': 'Did You Look At the Cross?', 'send...</td>\n      <td>{'sender': 'Trial', 'sender_type': 'flow.Seque...</td>\n      <td>...</td>\n      <td>{'sender': 'Data transmission (beta)', 'sender...</td>\n      <td>{'sender': 'Trial', 'sender_type': 'flow.Seque...</td>\n      <td>{'sender': 'Fixation Cross', 'sender_type': 'h...</td>\n      <td>{'sender': 'cf keyframe transitions', 'sender_...</td>\n      <td>{'sender': 'Did You Look At the Cross?', 'send...</td>\n      <td>{'sender': 'Data transmission (beta)', 'sender...</td>\n      <td>{'sender': 'Trial', 'sender_type': 'flow.Seque...</td>\n      <td>{'sender': 'Test Rounds', 'sender_type': 'flow...</td>\n      <td>{'sender': 'Thanks for Participating!', 'sende...</td>\n      <td>{'sender': 'root', 'sender_type': 'flow.Sequen...</td>\n    </tr>\n    <tr>\n      <th>1</th>\n      <td>{'url': {'srid': '32778'}, 'meta': {'labjs_ver...</td>\n      <td>{'sender': 'Depression Questionnaire', 'sender...</td>\n      <td>{'sender': 'Anxiety Questionnaire', 'sender_ty...</td>\n      <td>{'sender': 'Thanks for Filling Out Form', 'sen...</td>\n      <td>{'sender': 'Instructions', 'sender_type': 'htm...</td>\n      <td>{'sender': 'Test Trial Instructions', 'sender_...</td>\n      <td>{'sender': 'Fixation Cross', 'sender_type': 'h...</td>\n      <td>{'sender': 'cf keyframe transitions', 'sender_...</td>\n      <td>{'sender': 'Did You Look At the Cross?', 'send...</td>\n      <td>{'sender': 'Trial', 'sender_type': 'flow.Seque...</td>\n      <td>...</td>\n      <td>{'sender': 'Data transmission (beta)', 'sender...</td>\n      <td>{'sender': 'Trial', 'sender_type': 'flow.Seque...</td>\n      <td>{'sender': 'Fixation Cross', 'sender_type': 'h...</td>\n      <td>{'sender': 'cf keyframe transitions', 'sender_...</td>\n      <td>{'sender': 'Did You Look At the Cross?', 'send...</td>\n      <td>{'sender': 'Data transmission (beta)', 'sender...</td>\n      <td>{'sender': 'Trial', 'sender_type': 'flow.Seque...</td>\n      <td>{'sender': 'Test Rounds', 'sender_type': 'flow...</td>\n      <td>{'sender': 'Thanks for Participating!', 'sende...</td>\n      <td>{'sender': 'root', 'sender_type': 'flow.Sequen...</td>\n    </tr>\n    <tr>\n      <th>2</th>\n      <td>{'url': {'srid': '32776'}, 'meta': {'labjs_ver...</td>\n      <td>{'sender': 'Depression Questionnaire', 'sender...</td>\n      <td>{'sender': 'Anxiety Questionnaire', 'sender_ty...</td>\n      <td>{'sender': 'Thanks for Filling Out Form', 'sen...</td>\n      <td>{'sender': 'Instructions', 'sender_type': 'htm...</td>\n      <td>{'sender': 'Test Trial Instructions', 'sender_...</td>\n      <td>{'sender': 'Fixation Cross', 'sender_type': 'h...</td>\n      <td>{'sender': 'cf keyframe transitions', 'sender_...</td>\n      <td>{'sender': 'Did You Look At the Cross?', 'send...</td>\n      <td>{'sender': 'Trial', 'sender_type': 'flow.Seque...</td>\n      <td>...</td>\n      <td>{'sender': 'Data transmission (beta)', 'sender...</td>\n      <td>{'sender': 'Trial', 'sender_type': 'flow.Seque...</td>\n      <td>{'sender': 'Fixation Cross', 'sender_type': 'h...</td>\n      <td>{'sender': 'cf keyframe transitions', 'sender_...</td>\n      <td>{'sender': 'Did You Look At the Cross?', 'send...</td>\n      <td>{'sender': 'Data transmission (beta)', 'sender...</td>\n      <td>{'sender': 'Trial', 'sender_type': 'flow.Seque...</td>\n      <td>{'sender': 'Test Rounds', 'sender_type': 'flow...</td>\n      <td>{'sender': 'Thanks for Participating!', 'sende...</td>\n      <td>{'sender': 'root', 'sender_type': 'flow.Sequen...</td>\n    </tr>\n    <tr>\n      <th>3</th>\n      <td>{'url': {'srid': '32775'}, 'meta': {'labjs_ver...</td>\n      <td>{'sender': 'Depression Questionnaire', 'sender...</td>\n      <td>{'sender': 'Anxiety Questionnaire', 'sender_ty...</td>\n      <td>{'sender': 'Thanks for Filling Out Form', 'sen...</td>\n      <td>{'sender': 'Instructions', 'sender_type': 'htm...</td>\n      <td>{'sender': 'Test Trial Instructions', 'sender_...</td>\n      <td>{'sender': 'Fixation Cross', 'sender_type': 'h...</td>\n      <td>{'sender': 'cf keyframe transitions', 'sender_...</td>\n      <td>{'sender': 'Did You Look At the Cross?', 'send...</td>\n      <td>{'sender': 'Trial', 'sender_type': 'flow.Seque...</td>\n      <td>...</td>\n      <td>{'sender': 'Data transmission (beta)', 'sender...</td>\n      <td>{'sender': 'Trial', 'sender_type': 'flow.Seque...</td>\n      <td>{'sender': 'Fixation Cross', 'sender_type': 'h...</td>\n      <td>{'sender': 'cf keyframe transitions', 'sender_...</td>\n      <td>{'sender': 'Did You Look At the Cross?', 'send...</td>\n      <td>{'sender': 'Data transmission (beta)', 'sender...</td>\n      <td>{'sender': 'Trial', 'sender_type': 'flow.Seque...</td>\n      <td>{'sender': 'Test Rounds', 'sender_type': 'flow...</td>\n      <td>{'sender': 'Thanks for Participating!', 'sende...</td>\n      <td>{'sender': 'root', 'sender_type': 'flow.Sequen...</td>\n    </tr>\n    <tr>\n      <th>4</th>\n      <td>{'url': {'srid': '32760'}, 'meta': {'labjs_ver...</td>\n      <td>{'sender': 'Depression Questionnaire', 'sender...</td>\n      <td>{'sender': 'Anxiety Questionnaire', 'sender_ty...</td>\n      <td>{'sender': 'Thanks for Filling Out Form', 'sen...</td>\n      <td>{'sender': 'Instructions', 'sender_type': 'htm...</td>\n      <td>{'sender': 'Test Trial Instructions', 'sender_...</td>\n      <td>{'sender': 'Fixation Cross', 'sender_type': 'h...</td>\n      <td>{'sender': 'cf keyframe transitions', 'sender_...</td>\n      <td>{'sender': 'Did You Look At the Cross?', 'send...</td>\n      <td>{'sender': 'Trial', 'sender_type': 'flow.Seque...</td>\n      <td>...</td>\n      <td>{'sender': 'Data transmission (beta)', 'sender...</td>\n      <td>{'sender': 'Trial', 'sender_type': 'flow.Seque...</td>\n      <td>{'sender': 'Fixation Cross', 'sender_type': 'h...</td>\n      <td>{'sender': 'cf keyframe transitions', 'sender_...</td>\n      <td>{'sender': 'Did You Look At the Cross?', 'send...</td>\n      <td>{'sender': 'Data transmission (beta)', 'sender...</td>\n      <td>{'sender': 'Trial', 'sender_type': 'flow.Seque...</td>\n      <td>{'sender': 'Test Rounds', 'sender_type': 'flow...</td>\n      <td>{'sender': 'Thanks for Participating!', 'sende...</td>\n      <td>{'sender': 'root', 'sender_type': 'flow.Sequen...</td>\n    </tr>\n    <tr>\n      <th>...</th>\n      <td>...</td>\n      <td>...</td>\n      <td>...</td>\n      <td>...</td>\n      <td>...</td>\n      <td>...</td>\n      <td>...</td>\n      <td>...</td>\n      <td>...</td>\n      <td>...</td>\n      <td>...</td>\n      <td>...</td>\n      <td>...</td>\n      <td>...</td>\n      <td>...</td>\n      <td>...</td>\n      <td>...</td>\n      <td>...</td>\n      <td>...</td>\n      <td>...</td>\n      <td>...</td>\n    </tr>\n    <tr>\n      <th>301</th>\n      <td>{'url': {'srid': '31215'}, 'meta': {'labjs_ver...</td>\n      <td>{'sender': 'Depression Questionnaire', 'sender...</td>\n      <td>{'sender': 'Anxiety Questionnaire', 'sender_ty...</td>\n      <td>{'sender': 'Thanks for Filling Out Form', 'sen...</td>\n      <td>{'sender': 'Instructions', 'sender_type': 'htm...</td>\n      <td>{'sender': 'Test Trial Instructions', 'sender_...</td>\n      <td>{'sender': 'Fixation Cross', 'sender_type': 'h...</td>\n      <td>{'sender': 'cf keyframe transitions', 'sender_...</td>\n      <td>{'sender': 'Did You Look At the Cross?', 'send...</td>\n      <td>{'sender': 'Trial', 'sender_type': 'flow.Seque...</td>\n      <td>...</td>\n      <td>{'sender': 'Data transmission (beta)', 'sender...</td>\n      <td>{'sender': 'Trial', 'sender_type': 'flow.Seque...</td>\n      <td>{'sender': 'Fixation Cross', 'sender_type': 'h...</td>\n      <td>{'sender': 'cf keyframe transitions', 'sender_...</td>\n      <td>{'sender': 'Did You Look At the Cross?', 'send...</td>\n      <td>{'sender': 'Data transmission (beta)', 'sender...</td>\n      <td>{'sender': 'Trial', 'sender_type': 'flow.Seque...</td>\n      <td>{'sender': 'Test Rounds', 'sender_type': 'flow...</td>\n      <td>{'sender': 'Thanks for Participating!', 'sende...</td>\n      <td>{'sender': 'root', 'sender_type': 'flow.Sequen...</td>\n    </tr>\n    <tr>\n      <th>302</th>\n      <td>{'url': {'srid': '31209'}, 'meta': {'labjs_ver...</td>\n      <td>{'sender': 'Depression Questionnaire', 'sender...</td>\n      <td>{'sender': 'Anxiety Questionnaire', 'sender_ty...</td>\n      <td>{'sender': 'Thanks for Filling Out Form', 'sen...</td>\n      <td>{'sender': 'Instructions', 'sender_type': 'htm...</td>\n      <td>{'sender': 'Test Trial Instructions', 'sender_...</td>\n      <td>{'sender': 'Fixation Cross', 'sender_type': 'h...</td>\n      <td>{'sender': 'cf keyframe transitions', 'sender_...</td>\n      <td>{'sender': 'Did You Look At the Cross?', 'send...</td>\n      <td>{'sender': 'Trial', 'sender_type': 'flow.Seque...</td>\n      <td>...</td>\n      <td>{'sender': 'Data transmission (beta)', 'sender...</td>\n      <td>{'sender': 'Trial', 'sender_type': 'flow.Seque...</td>\n      <td>{'sender': 'Fixation Cross', 'sender_type': 'h...</td>\n      <td>{'sender': 'cf keyframe transitions', 'sender_...</td>\n      <td>{'sender': 'Did You Look At the Cross?', 'send...</td>\n      <td>{'sender': 'Data transmission (beta)', 'sender...</td>\n      <td>{'sender': 'Trial', 'sender_type': 'flow.Seque...</td>\n      <td>{'sender': 'Test Rounds', 'sender_type': 'flow...</td>\n      <td>{'sender': 'Thanks for Participating!', 'sende...</td>\n      <td>{'sender': 'root', 'sender_type': 'flow.Sequen...</td>\n    </tr>\n    <tr>\n      <th>303</th>\n      <td>{'url': {'srid': '31188'}, 'meta': {'labjs_ver...</td>\n      <td>{'sender': 'Depression Questionnaire', 'sender...</td>\n      <td>{'sender': 'Anxiety Questionnaire', 'sender_ty...</td>\n      <td>{'sender': 'Thanks for Filling Out Form', 'sen...</td>\n      <td>{'sender': 'Instructions', 'sender_type': 'htm...</td>\n      <td>{'sender': 'Test Trial Instructions', 'sender_...</td>\n      <td>{'sender': 'Fixation Cross', 'sender_type': 'h...</td>\n      <td>{'sender': 'cf keyframe transitions', 'sender_...</td>\n      <td>{'sender': 'Did You Look At the Cross?', 'send...</td>\n      <td>{'sender': 'Trial', 'sender_type': 'flow.Seque...</td>\n      <td>...</td>\n      <td>{'sender': 'Data transmission (beta)', 'sender...</td>\n      <td>{'sender': 'Trial', 'sender_type': 'flow.Seque...</td>\n      <td>{'sender': 'Fixation Cross', 'sender_type': 'h...</td>\n      <td>{'sender': 'cf keyframe transitions', 'sender_...</td>\n      <td>{'sender': 'Did You Look At the Cross?', 'send...</td>\n      <td>{'sender': 'Data transmission (beta)', 'sender...</td>\n      <td>{'sender': 'Trial', 'sender_type': 'flow.Seque...</td>\n      <td>{'sender': 'Test Rounds', 'sender_type': 'flow...</td>\n      <td>{'sender': 'Thanks for Participating!', 'sende...</td>\n      <td>{'sender': 'root', 'sender_type': 'flow.Sequen...</td>\n    </tr>\n    <tr>\n      <th>304</th>\n      <td>{'url': {'srid': '30775'}, 'meta': {'labjs_ver...</td>\n      <td>{'sender': 'Depression Questionnaire', 'sender...</td>\n      <td>{'sender': 'Anxiety Questionnaire', 'sender_ty...</td>\n      <td>{'sender': 'Thanks for Filling Out Form', 'sen...</td>\n      <td>{'sender': 'Instructions', 'sender_type': 'htm...</td>\n      <td>{'sender': 'Test Trial Instructions', 'sender_...</td>\n      <td>{'sender': 'Fixation Cross', 'sender_type': 'h...</td>\n      <td>{'sender': 'cf keyframe transitions', 'sender_...</td>\n      <td>{'sender': 'Did You Look At the Cross?', 'send...</td>\n      <td>{'sender': 'Trial', 'sender_type': 'flow.Seque...</td>\n      <td>...</td>\n      <td>{'sender': 'Data transmission (beta)', 'sender...</td>\n      <td>{'sender': 'Trial', 'sender_type': 'flow.Seque...</td>\n      <td>{'sender': 'Fixation Cross', 'sender_type': 'h...</td>\n      <td>{'sender': 'cf keyframe transitions', 'sender_...</td>\n      <td>{'sender': 'Did You Look At the Cross?', 'send...</td>\n      <td>{'sender': 'Data transmission (beta)', 'sender...</td>\n      <td>{'sender': 'Trial', 'sender_type': 'flow.Seque...</td>\n      <td>{'sender': 'Test Rounds', 'sender_type': 'flow...</td>\n      <td>{'sender': 'Thanks for Participating!', 'sende...</td>\n      <td>{'sender': 'root', 'sender_type': 'flow.Sequen...</td>\n    </tr>\n    <tr>\n      <th>305</th>\n      <td>{'url': {'srid': '30769'}, 'meta': {'labjs_ver...</td>\n      <td>{'sender': 'Depression Questionnaire', 'sender...</td>\n      <td>{'sender': 'Anxiety Questionnaire', 'sender_ty...</td>\n      <td>{'sender': 'Thanks for Filling Out Form', 'sen...</td>\n      <td>{'sender': 'Instructions', 'sender_type': 'htm...</td>\n      <td>{'sender': 'Test Trial Instructions', 'sender_...</td>\n      <td>{'sender': 'Fixation Cross', 'sender_type': 'h...</td>\n      <td>{'sender': 'cf keyframe transitions', 'sender_...</td>\n      <td>{'sender': 'Did You Look At the Cross?', 'send...</td>\n      <td>{'sender': 'Trial', 'sender_type': 'flow.Seque...</td>\n      <td>...</td>\n      <td>{'sender': 'Data transmission (beta)', 'sender...</td>\n      <td>{'sender': 'Trial', 'sender_type': 'flow.Seque...</td>\n      <td>{'sender': 'Fixation Cross', 'sender_type': 'h...</td>\n      <td>{'sender': 'cf keyframe transitions', 'sender_...</td>\n      <td>{'sender': 'Did You Look At the Cross?', 'send...</td>\n      <td>{'sender': 'Data transmission (beta)', 'sender...</td>\n      <td>{'sender': 'Trial', 'sender_type': 'flow.Seque...</td>\n      <td>{'sender': 'Test Rounds', 'sender_type': 'flow...</td>\n      <td>{'sender': 'Thanks for Participating!', 'sende...</td>\n      <td>{'sender': 'root', 'sender_type': 'flow.Sequen...</td>\n    </tr>\n  </tbody>\n</table>\n<p>306 rows × 383 columns</p>\n</div>"
     },
     "metadata": {}
    }
   ]
  },
  {
   "cell_type": "code",
   "source": "",
   "metadata": {
    "cell_id": "00004-b6300ded-1d04-4c8b-8d35-97894e931e31",
    "deepnote_variable_name": "data",
    "deepnote_visualization_spec": {
     "$schema": "https://vega.github.io/schema/vega-lite/v4.json",
     "mark": {
      "type": "bar",
      "tooltip": {
       "content": "data"
      }
     },
     "height": 220,
     "autosize": {
      "type": "fit"
     },
     "data": {
      "name": "placeholder"
     },
     "encoding": {
      "x": {
       "field": 0,
       "type": "nominal",
       "sort": null,
       "scale": {
        "type": "linear",
        "zero": false
       }
      },
      "y": {
       "field": 1,
       "type": "nominal",
       "sort": null,
       "scale": {
        "type": "linear",
        "zero": true
       }
      },
      "color": {
       "field": "",
       "type": "nominal",
       "sort": null,
       "scale": {
        "type": "linear",
        "zero": false
       }
      }
     }
    },
    "deepnote_to_be_reexecuted": false,
    "source_hash": "b24780f0",
    "execution_start": 1626694291842,
    "execution_millis": 503,
    "deepnote_cell_type": "visualization"
   },
   "execution_count": 13,
   "outputs": [
    {
     "output_type": "error",
     "ename": "ValidationError",
     "evalue": "0 is not of type 'string'\n\nFailed validating 'type' in schema[0]:\n    {'type': 'string'}\n\nOn instance:\n    0",
     "traceback": [
      "\u001b[0;31m---------------------------------------------------------------------------\u001b[0m",
      "\u001b[0;31mValidationError\u001b[0m                           Traceback (most recent call last)",
      "\u001b[0;32m/tmp/ipykernel_78/3996637190.py\u001b[0m in \u001b[0;36m<module>\u001b[0;34m\u001b[0m\n\u001b[0;32m----> 1\u001b[0;31m \u001b[0m_deepnote_run_altair\u001b[0m\u001b[0;34m(\u001b[0m\u001b[0mdata\u001b[0m\u001b[0;34m,\u001b[0m \u001b[0;34m\"\"\"{\"$schema\":\"https://vega.github.io/schema/vega-lite/v4.json\",\"mark\":{\"type\":\"bar\",\"tooltip\":{\"content\":\"data\"}},\"height\":220,\"autosize\":{\"type\":\"fit\"},\"data\":{\"name\":\"placeholder\"},\"encoding\":{\"x\":{\"field\":0,\"type\":\"nominal\",\"sort\":null,\"scale\":{\"type\":\"linear\",\"zero\":false}},\"y\":{\"field\":1,\"type\":\"nominal\",\"sort\":null,\"scale\":{\"type\":\"linear\",\"zero\":true}},\"color\":{\"field\":\"\",\"type\":\"nominal\",\"sort\":null,\"scale\":{\"type\":\"linear\",\"zero\":false}}}}\"\"\"\u001b[0m\u001b[0;34m)\u001b[0m\u001b[0;34m\u001b[0m\u001b[0;34m\u001b[0m\u001b[0m\n\u001b[0m",
      "\u001b[0;32m/shared-libs/code/visualization_utils.py\u001b[0m in \u001b[0;36m_deepnote_run_altair\u001b[0;34m(df, spec)\u001b[0m\n\u001b[1;32m     41\u001b[0m \u001b[0;34m\u001b[0m\u001b[0m\n\u001b[1;32m     42\u001b[0m     chart = (\n\u001b[0;32m---> 43\u001b[0;31m         \u001b[0malt\u001b[0m\u001b[0;34m.\u001b[0m\u001b[0mChart\u001b[0m\u001b[0;34m.\u001b[0m\u001b[0mfrom_json\u001b[0m\u001b[0;34m(\u001b[0m\u001b[0mspec\u001b[0m\u001b[0;34m)\u001b[0m\u001b[0;34m\u001b[0m\u001b[0;34m\u001b[0m\u001b[0m\n\u001b[0m\u001b[1;32m     44\u001b[0m         \u001b[0;34m.\u001b[0m\u001b[0mconfigure_axis\u001b[0m\u001b[0;34m(\u001b[0m\u001b[0;34m)\u001b[0m\u001b[0;34m\u001b[0m\u001b[0;34m\u001b[0m\u001b[0m\n\u001b[1;32m     45\u001b[0m         \u001b[0;34m.\u001b[0m\u001b[0mproperties\u001b[0m\u001b[0;34m(\u001b[0m\u001b[0mwidth\u001b[0m\u001b[0;34m=\u001b[0m\u001b[0;34m\"container\"\u001b[0m\u001b[0;34m,\u001b[0m \u001b[0mheight\u001b[0m\u001b[0;34m=\u001b[0m\u001b[0;36m300\u001b[0m\u001b[0;34m)\u001b[0m\u001b[0;34m\u001b[0m\u001b[0;34m\u001b[0m\u001b[0m\n",
      "\u001b[0;32m/shared-libs/python3.7/py/lib/python3.7/site-packages/altair/utils/schemapi.py\u001b[0m in \u001b[0;36mfrom_json\u001b[0;34m(cls, json_string, validate, **kwargs)\u001b[0m\n\u001b[1;32m    429\u001b[0m         \"\"\"\n\u001b[1;32m    430\u001b[0m         \u001b[0mdct\u001b[0m \u001b[0;34m=\u001b[0m \u001b[0mjson\u001b[0m\u001b[0;34m.\u001b[0m\u001b[0mloads\u001b[0m\u001b[0;34m(\u001b[0m\u001b[0mjson_string\u001b[0m\u001b[0;34m,\u001b[0m \u001b[0;34m**\u001b[0m\u001b[0mkwargs\u001b[0m\u001b[0;34m)\u001b[0m\u001b[0;34m\u001b[0m\u001b[0;34m\u001b[0m\u001b[0m\n\u001b[0;32m--> 431\u001b[0;31m         \u001b[0;32mreturn\u001b[0m \u001b[0mcls\u001b[0m\u001b[0;34m.\u001b[0m\u001b[0mfrom_dict\u001b[0m\u001b[0;34m(\u001b[0m\u001b[0mdct\u001b[0m\u001b[0;34m,\u001b[0m \u001b[0mvalidate\u001b[0m\u001b[0;34m=\u001b[0m\u001b[0mvalidate\u001b[0m\u001b[0;34m)\u001b[0m\u001b[0;34m\u001b[0m\u001b[0;34m\u001b[0m\u001b[0m\n\u001b[0m\u001b[1;32m    432\u001b[0m \u001b[0;34m\u001b[0m\u001b[0m\n\u001b[1;32m    433\u001b[0m     \u001b[0;34m@\u001b[0m\u001b[0mclassmethod\u001b[0m\u001b[0;34m\u001b[0m\u001b[0;34m\u001b[0m\u001b[0m\n",
      "\u001b[0;32m/shared-libs/python3.7/py/lib/python3.7/site-packages/altair/vegalite/v4/api.py\u001b[0m in \u001b[0;36mfrom_dict\u001b[0;34m(cls, dct, validate)\u001b[0m\n\u001b[1;32m   1982\u001b[0m \u001b[0;34m\u001b[0m\u001b[0m\n\u001b[1;32m   1983\u001b[0m         \u001b[0;31m# As a last resort, try using the Root vegalite object\u001b[0m\u001b[0;34m\u001b[0m\u001b[0;34m\u001b[0m\u001b[0;34m\u001b[0m\u001b[0m\n\u001b[0;32m-> 1984\u001b[0;31m         \u001b[0;32mreturn\u001b[0m \u001b[0mcore\u001b[0m\u001b[0;34m.\u001b[0m\u001b[0mRoot\u001b[0m\u001b[0;34m.\u001b[0m\u001b[0mfrom_dict\u001b[0m\u001b[0;34m(\u001b[0m\u001b[0mdct\u001b[0m\u001b[0;34m,\u001b[0m \u001b[0mvalidate\u001b[0m\u001b[0;34m)\u001b[0m\u001b[0;34m\u001b[0m\u001b[0;34m\u001b[0m\u001b[0m\n\u001b[0m\u001b[1;32m   1985\u001b[0m \u001b[0;34m\u001b[0m\u001b[0m\n\u001b[1;32m   1986\u001b[0m     \u001b[0;32mdef\u001b[0m \u001b[0madd_selection\u001b[0m\u001b[0;34m(\u001b[0m\u001b[0mself\u001b[0m\u001b[0;34m,\u001b[0m \u001b[0;34m*\u001b[0m\u001b[0mselections\u001b[0m\u001b[0;34m)\u001b[0m\u001b[0;34m:\u001b[0m\u001b[0;34m\u001b[0m\u001b[0;34m\u001b[0m\u001b[0m\n",
      "\u001b[0;32m/shared-libs/python3.7/py/lib/python3.7/site-packages/altair/utils/schemapi.py\u001b[0m in \u001b[0;36mfrom_dict\u001b[0;34m(cls, dct, validate, _wrapper_classes)\u001b[0m\n\u001b[1;32m    404\u001b[0m         \"\"\"\n\u001b[1;32m    405\u001b[0m         \u001b[0;32mif\u001b[0m \u001b[0mvalidate\u001b[0m\u001b[0;34m:\u001b[0m\u001b[0;34m\u001b[0m\u001b[0;34m\u001b[0m\u001b[0m\n\u001b[0;32m--> 406\u001b[0;31m             \u001b[0mcls\u001b[0m\u001b[0;34m.\u001b[0m\u001b[0mvalidate\u001b[0m\u001b[0;34m(\u001b[0m\u001b[0mdct\u001b[0m\u001b[0;34m)\u001b[0m\u001b[0;34m\u001b[0m\u001b[0;34m\u001b[0m\u001b[0m\n\u001b[0m\u001b[1;32m    407\u001b[0m         \u001b[0;32mif\u001b[0m \u001b[0m_wrapper_classes\u001b[0m \u001b[0;32mis\u001b[0m \u001b[0;32mNone\u001b[0m\u001b[0;34m:\u001b[0m\u001b[0;34m\u001b[0m\u001b[0;34m\u001b[0m\u001b[0m\n\u001b[1;32m    408\u001b[0m             \u001b[0m_wrapper_classes\u001b[0m \u001b[0;34m=\u001b[0m \u001b[0mcls\u001b[0m\u001b[0;34m.\u001b[0m\u001b[0m_default_wrapper_classes\u001b[0m\u001b[0;34m(\u001b[0m\u001b[0;34m)\u001b[0m\u001b[0;34m\u001b[0m\u001b[0;34m\u001b[0m\u001b[0m\n",
      "\u001b[0;32m/shared-libs/python3.7/py/lib/python3.7/site-packages/altair/utils/schemapi.py\u001b[0m in \u001b[0;36mvalidate\u001b[0;34m(cls, instance, schema)\u001b[0m\n\u001b[1;32m    440\u001b[0m             \u001b[0mschema\u001b[0m \u001b[0;34m=\u001b[0m \u001b[0mcls\u001b[0m\u001b[0;34m.\u001b[0m\u001b[0m_schema\u001b[0m\u001b[0;34m\u001b[0m\u001b[0;34m\u001b[0m\u001b[0m\n\u001b[1;32m    441\u001b[0m         \u001b[0mresolver\u001b[0m \u001b[0;34m=\u001b[0m \u001b[0mjsonschema\u001b[0m\u001b[0;34m.\u001b[0m\u001b[0mRefResolver\u001b[0m\u001b[0;34m.\u001b[0m\u001b[0mfrom_schema\u001b[0m\u001b[0;34m(\u001b[0m\u001b[0mcls\u001b[0m\u001b[0;34m.\u001b[0m\u001b[0m_rootschema\u001b[0m \u001b[0;32mor\u001b[0m \u001b[0mcls\u001b[0m\u001b[0;34m.\u001b[0m\u001b[0m_schema\u001b[0m\u001b[0;34m)\u001b[0m\u001b[0;34m\u001b[0m\u001b[0;34m\u001b[0m\u001b[0m\n\u001b[0;32m--> 442\u001b[0;31m         \u001b[0;32mreturn\u001b[0m \u001b[0mjsonschema\u001b[0m\u001b[0;34m.\u001b[0m\u001b[0mvalidate\u001b[0m\u001b[0;34m(\u001b[0m\u001b[0minstance\u001b[0m\u001b[0;34m,\u001b[0m \u001b[0mschema\u001b[0m\u001b[0;34m,\u001b[0m \u001b[0mresolver\u001b[0m\u001b[0;34m=\u001b[0m\u001b[0mresolver\u001b[0m\u001b[0;34m)\u001b[0m\u001b[0;34m\u001b[0m\u001b[0;34m\u001b[0m\u001b[0m\n\u001b[0m\u001b[1;32m    443\u001b[0m \u001b[0;34m\u001b[0m\u001b[0m\n\u001b[1;32m    444\u001b[0m     \u001b[0;34m@\u001b[0m\u001b[0mclassmethod\u001b[0m\u001b[0;34m\u001b[0m\u001b[0;34m\u001b[0m\u001b[0m\n",
      "\u001b[0;32m/shared-libs/python3.7/py-core/lib/python3.7/site-packages/jsonschema/validators.py\u001b[0m in \u001b[0;36mvalidate\u001b[0;34m(instance, schema, cls, *args, **kwargs)\u001b[0m\n\u001b[1;32m    932\u001b[0m     \u001b[0merror\u001b[0m \u001b[0;34m=\u001b[0m \u001b[0mexceptions\u001b[0m\u001b[0;34m.\u001b[0m\u001b[0mbest_match\u001b[0m\u001b[0;34m(\u001b[0m\u001b[0mvalidator\u001b[0m\u001b[0;34m.\u001b[0m\u001b[0miter_errors\u001b[0m\u001b[0;34m(\u001b[0m\u001b[0minstance\u001b[0m\u001b[0;34m)\u001b[0m\u001b[0;34m)\u001b[0m\u001b[0;34m\u001b[0m\u001b[0;34m\u001b[0m\u001b[0m\n\u001b[1;32m    933\u001b[0m     \u001b[0;32mif\u001b[0m \u001b[0merror\u001b[0m \u001b[0;32mis\u001b[0m \u001b[0;32mnot\u001b[0m \u001b[0;32mNone\u001b[0m\u001b[0;34m:\u001b[0m\u001b[0;34m\u001b[0m\u001b[0;34m\u001b[0m\u001b[0m\n\u001b[0;32m--> 934\u001b[0;31m         \u001b[0;32mraise\u001b[0m \u001b[0merror\u001b[0m\u001b[0;34m\u001b[0m\u001b[0;34m\u001b[0m\u001b[0m\n\u001b[0m\u001b[1;32m    935\u001b[0m \u001b[0;34m\u001b[0m\u001b[0m\n\u001b[1;32m    936\u001b[0m \u001b[0;34m\u001b[0m\u001b[0m\n",
      "\u001b[0;31mValidationError\u001b[0m: 0 is not of type 'string'\n\nFailed validating 'type' in schema[0]:\n    {'type': 'string'}\n\nOn instance:\n    0"
     ]
    }
   ]
  },
  {
   "cell_type": "code",
   "source": "for i in range(data.shape[0]):\n\n    depression = data.iloc[i][1]\n    for key, value in depression.items():\n        value = str(value).replace('1a', '1').replace('1b', '1').replace('2a', '2').replace('2b', '2').replace('3a', '3').replace('3b', '3')\n        depression[key] = value\n\n    anxiety = data.iloc[i][2]\n    depression_score = int(depression['Sadness']) + int(depression['Pessimism']) + int(depression['Past Failure']) + int(depression['Loss of Pleasure']) + int(depression['Guilty Feelings']) + int(depression['Punishment Feelings']) + int(depression['Self-Dislike']) + int(depression['Suicidal Thoughts or Wishes']) + int(depression['Crying']) + int(depression['Agitation']) + int(depression['Loss of Interest']) + int(depression['Indecisiveness']) + int(depression['Worthlessness']) + int(depression['Loss of Energy']) + int(depression['Changes in Sleeping Pattern']) + int(depression['Irritability']) + int(depression['Changes in Appetite']) + int(depression['Tiredness or Fatigue']) + int(depression['Loss of Interest in Sex']) \n    if \"\" in anxiety.values():\n        anxiety_score = 100000\n    else:\n        anxiety_score = int(anxiety['Secure']) + int(anxiety['Worry']) + int(anxiety['Nervous']) + int(anxiety['Tension']) + int(anxiety['Calm']) + int(anxiety['Take Things Hard']) + int(anxiety['Self-Confidence']) + int(anxiety['Difficulties']) + int(anxiety['I Feel Blue']) + int(anxiety['Crying']) + int(anxiety['Disappointment']) + int(anxiety['Others Happy']) + int(anxiety['Satisfied']) + int(anxiety['Steady Person']) + int(anxiety[\"Can't Make Up Mind\"]) + int(anxiety['I feel pleasant']) + int(anxiety['I tire quickly']) + int(anxiety['I feel rested'])\n    depression['depression_score'] = depression_score\n    anxiety['anxiety_score'] = anxiety_score\n    data.iloc[i][1] = depression\n    data.iloc[i][2] = anxiety\n",
   "metadata": {
    "tags": [],
    "cell_id": "00008-da6e3e87-155f-4dff-b246-b6a6a3b3b716",
    "deepnote_to_be_reexecuted": false,
    "source_hash": "9e88cfd2",
    "execution_start": 1626703628948,
    "execution_millis": 383,
    "deepnote_cell_type": "code"
   },
   "outputs": [],
   "execution_count": 113
  },
  {
   "cell_type": "code",
   "source": "",
   "metadata": {
    "tags": [],
    "cell_id": "00011-8eb88228-f648-4cb7-b186-fb0813b07a16",
    "deepnote_cell_type": "code"
   },
   "outputs": [],
   "execution_count": null
  },
  {
   "cell_type": "markdown",
   "source": "<a style='text-decoration:none;line-height:16px;display:flex;color:#5B5B62;padding:10px;justify-content:end;' href='https://deepnote.com?utm_source=created-in-deepnote-cell&projectId=b428ea16-8644-4725-b427-7c3182996c03' target=\"_blank\">\n<img alt='Created in deepnote.com' style='display:inline;max-height:16px;margin:0px;margin-right:7.5px;' src='data:image/svg+xml;base64,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' > </img>\nCreated in <span style='font-weight:600;margin-left:4px;'>Deepnote</span></a>",
   "metadata": {
    "tags": [],
    "created_in_deepnote_cell": true,
    "deepnote_cell_type": "markdown"
   }
  }
 ],
 "nbformat": 4,
 "nbformat_minor": 2,
 "metadata": {
  "orig_nbformat": 2,
  "deepnote": {
   "is_reactive": false
  },
  "deepnote_notebook_id": "27bd68a1-ccab-4c61-b9c4-7be13111a3a3",
  "deepnote_execution_queue": []
 }
}