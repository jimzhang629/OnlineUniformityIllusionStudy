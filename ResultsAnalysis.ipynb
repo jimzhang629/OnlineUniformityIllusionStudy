{
 "cells": [
  {
   "cell_type": "code",
   "metadata": {
    "tags": [],
    "cell_id": "00000-c24c3df1-f12c-4ff9-8a00-d80a9e7e88b8",
    "deepnote_to_be_reexecuted": false,
    "source_hash": "4ceb0bf3",
    "execution_start": 1624950475069,
    "execution_millis": 359,
    "deepnote_cell_type": "code"
   },
   "source": "import pandas as pd",
   "outputs": [
    {
     "output_type": "error",
     "ename": "ModuleNotFoundError",
     "evalue": "No module named 'file'",
     "traceback": [
      "\u001b[0;31m---------------------------------------------------------------------------\u001b[0m",
      "\u001b[0;31mModuleNotFoundError\u001b[0m                       Traceback (most recent call last)",
      "\u001b[0;32m<ipython-input-1-7b1066984efc>\u001b[0m in \u001b[0;36m<module>\u001b[0;34m\u001b[0m\n\u001b[1;32m      1\u001b[0m \u001b[0;32mimport\u001b[0m \u001b[0mpandas\u001b[0m \u001b[0;32mas\u001b[0m \u001b[0mpd\u001b[0m\u001b[0;34m\u001b[0m\u001b[0;34m\u001b[0m\u001b[0m\n\u001b[0;32m----> 2\u001b[0;31m \u001b[0;32mimport\u001b[0m \u001b[0mfile\u001b[0m \u001b[0;32mas\u001b[0m \u001b[0mf\u001b[0m\u001b[0;34m\u001b[0m\u001b[0;34m\u001b[0m\u001b[0m\n\u001b[0m",
      "\u001b[0;31mModuleNotFoundError\u001b[0m: No module named 'file'"
     ]
    }
   ],
   "execution_count": 1
  },
  {
   "cell_type": "code",
   "source": "",
   "metadata": {
    "cell_id": "00002-6a91c52d-1fe0-43bf-b08a-d6346ca9147a",
    "deepnote_cell_type": "visualization"
   },
   "outputs": [],
   "execution_count": null
  },
  {
   "cell_type": "code",
   "metadata": {
    "tags": [],
    "cell_id": "00015-c8f08e0e-a115-4bef-9cc1-083501002a54",
    "deepnote_to_be_reexecuted": false,
    "source_hash": "a01dfe70",
    "execution_start": 1624950618676,
    "execution_millis": 433,
    "deepnote_cell_type": "code"
   },
   "source": "pd.read_json('/work/jatos_results.txt')",
   "outputs": [
    {
     "output_type": "execute_result",
     "execution_count": 8,
     "data": {
      "application/vnd.deepnote.dataframe.v2+json": {
       "row_count": 131,
       "column_count": 56,
       "columns": [
        {
         "name": "url",
         "dtype": "object",
         "stats": {
          "unique_count": 131,
          "nan_count": 130,
          "categories": [
           {
            "name": "{'srid': '130'}",
            "count": 1
           },
           {
            "name": "Missing",
            "count": 130
           }
          ]
         }
        },
        {
         "name": "meta",
         "dtype": "object",
         "stats": {
          "unique_count": 131,
          "nan_count": 130,
          "categories": [
           {
            "name": "{'labjs_version': '20.2.3', 'labjs_build': {'flavor': 'production', 'commit': '7ea907d66ca8aeef8054924ca5d82ffbe11e34e5'}, 'location': 'https://cortex.jatos.org/publix/130/162/start?srid=130', 'userAgent': 'Mozilla/5.0 (Macintosh; Intel Mac OS X 10_14_6) AppleWebKit/537.36 (KHTML, like Gecko) Chrome/91.0.4472.114 Safari/537.36', 'platform': 'MacIntel', 'language': 'en-US', 'locale': 'en-US', 'timeZone': 'Europe/Berlin', 'timezoneOffset': -120, 'screen_width': 1440, 'screen_height': 900, 'scroll_width': 1440, 'scroll_height': 741, 'window_innerWidth': 1440, 'window_innerHeight': 789, 'devicePixelRatio': 1}",
            "count": 1
           },
           {
            "name": "Missing",
            "count": 130
           }
          ]
         }
        },
        {
         "name": "sender",
         "dtype": "object",
         "stats": {
          "unique_count": 15,
          "nan_count": 0,
          "categories": [
           {
            "name": "Fixation Cross",
            "count": 30
           },
           {
            "name": "cf keyframe transitions",
            "count": 30
           },
           {
            "name": "13 others",
            "count": 71
           }
          ]
         }
        },
        {
         "name": "sender_type",
         "dtype": "object",
         "stats": {
          "unique_count": 5,
          "nan_count": 0,
          "categories": [
           {
            "name": "html.Screen",
            "count": 94
           },
           {
            "name": "flow.Sequence",
            "count": 31
           },
           {
            "name": "3 others",
            "count": 6
           }
          ]
         }
        },
        {
         "name": "sender_id",
         "dtype": "float64",
         "stats": {
          "unique_count": 124,
          "nan_count": 1,
          "min": "0.0",
          "max": "8252.0",
          "histogram": [
           {
            "bin_start": 0,
            "bin_end": 825.2,
            "count": 61
           },
           {
            "bin_start": 825.2,
            "bin_end": 1650.4,
            "count": 21
           },
           {
            "bin_start": 1650.4,
            "bin_end": 2475.6000000000004,
            "count": 0
           },
           {
            "bin_start": 2475.6000000000004,
            "bin_end": 3300.8,
            "count": 0
           },
           {
            "bin_start": 3300.8,
            "bin_end": 4126,
            "count": 0
           },
           {
            "bin_start": 4126,
            "bin_end": 4951.200000000001,
            "count": 0
           },
           {
            "bin_start": 4951.200000000001,
            "bin_end": 5776.400000000001,
            "count": 0
           },
           {
            "bin_start": 5776.400000000001,
            "bin_end": 6601.6,
            "count": 0
           },
           {
            "bin_start": 6601.6,
            "bin_end": 7426.8,
            "count": 0
           },
           {
            "bin_start": 7426.8,
            "bin_end": 8252,
            "count": 48
           }
          ]
         }
        },
        {
         "name": "response",
         "dtype": "object",
         "stats": {
          "unique_count": 2,
          "nan_count": 68,
          "categories": [
           {
            "name": "continue",
            "count": 35
           },
           {
            "name": "pressed Space",
            "count": 28
           },
           {
            "name": "Missing",
            "count": 68
           }
          ]
         }
        },
        {
         "name": "response_action",
         "dtype": "object",
         "stats": {
          "unique_count": 1,
          "nan_count": 96,
          "categories": [
           {
            "name": "keypress(Space)",
            "count": 35
           },
           {
            "name": "Missing",
            "count": 96
           }
          ]
         }
        },
        {
         "name": "ended_on",
         "dtype": "object",
         "stats": {
          "unique_count": 4,
          "nan_count": 0,
          "categories": [
           {
            "name": "response",
            "count": 63
           },
           {
            "name": "timeout",
            "count": 33
           },
           {
            "name": "2 others",
            "count": 35
           }
          ]
         }
        },
        {
         "name": "duration",
         "dtype": "float64",
         "stats": {
          "unique_count": 107,
          "nan_count": 0,
          "min": "149.19200003576407",
          "max": "213545.22900001192",
          "histogram": [
           {
            "bin_start": 149.19200003576407,
            "bin_end": 21488.795700033377,
            "count": 129
           },
           {
            "bin_start": 21488.795700033377,
            "bin_end": 42828.39940003099,
            "count": 0
           },
           {
            "bin_start": 42828.39940003099,
            "bin_end": 64168.0031000286,
            "count": 0
           },
           {
            "bin_start": 64168.0031000286,
            "bin_end": 85507.60680002622,
            "count": 0
           },
           {
            "bin_start": 85507.60680002622,
            "bin_end": 106847.21050002384,
            "count": 0
           },
           {
            "bin_start": 106847.21050002384,
            "bin_end": 128186.81420002144,
            "count": 0
           },
           {
            "bin_start": 128186.81420002144,
            "bin_end": 149526.41790001903,
            "count": 0
           },
           {
            "bin_start": 149526.41790001903,
            "bin_end": 170866.02160001668,
            "count": 0
           },
           {
            "bin_start": 170866.02160001668,
            "bin_end": 192205.62530001428,
            "count": 1
           },
           {
            "bin_start": 192205.62530001428,
            "bin_end": 213545.22900001192,
            "count": 1
           }
          ]
         }
        },
        {
         "name": "time_run",
         "dtype": "float64",
         "stats": {
          "unique_count": 115,
          "nan_count": 0,
          "min": "1137.2000000476837",
          "max": "214498.90000003576",
          "histogram": [
           {
            "bin_start": 1137.2000000476837,
            "bin_end": 22473.370000046492,
            "count": 18
           },
           {
            "bin_start": 22473.370000046492,
            "bin_end": 43809.5400000453,
            "count": 18
           },
           {
            "bin_start": 43809.5400000453,
            "bin_end": 65145.71000004411,
            "count": 16
           },
           {
            "bin_start": 65145.71000004411,
            "bin_end": 86481.88000004292,
            "count": 9
           },
           {
            "bin_start": 86481.88000004292,
            "bin_end": 107818.05000004172,
            "count": 12
           },
           {
            "bin_start": 107818.05000004172,
            "bin_end": 129154.22000004054,
            "count": 8
           },
           {
            "bin_start": 129154.22000004054,
            "bin_end": 150490.39000003933,
            "count": 12
           },
           {
            "bin_start": 150490.39000003933,
            "bin_end": 171826.56000003815,
            "count": 11
           },
           {
            "bin_start": 171826.56000003815,
            "bin_end": 193162.73000003697,
            "count": 14
           },
           {
            "bin_start": 193162.73000003697,
            "bin_end": 214498.90000003576,
            "count": 13
           }
          ]
         }
        },
        {
         "name": "time_render",
         "dtype": "float64",
         "stats": {
          "unique_count": 98,
          "nan_count": 0,
          "min": "994.068",
          "max": "214492.522",
          "histogram": [
           {
            "bin_start": 994.068,
            "bin_end": 22343.913399999998,
            "count": 18
           },
           {
            "bin_start": 22343.913399999998,
            "bin_end": 43693.758799999996,
            "count": 18
           },
           {
            "bin_start": 43693.758799999996,
            "bin_end": 65043.604199999994,
            "count": 16
           },
           {
            "bin_start": 65043.604199999994,
            "bin_end": 86393.44959999999,
            "count": 9
           },
           {
            "bin_start": 86393.44959999999,
            "bin_end": 107743.29499999998,
            "count": 12
           },
           {
            "bin_start": 107743.29499999998,
            "bin_end": 129093.14039999999,
            "count": 8
           },
           {
            "bin_start": 129093.14039999999,
            "bin_end": 150442.9858,
            "count": 12
           },
           {
            "bin_start": 150442.9858,
            "bin_end": 171792.8312,
            "count": 11
           },
           {
            "bin_start": 171792.8312,
            "bin_end": 193142.67659999998,
            "count": 14
           },
           {
            "bin_start": 193142.67659999998,
            "bin_end": 214492.522,
            "count": 13
           }
          ]
         }
        },
        {
         "name": "time_show",
         "dtype": "float64",
         "stats": {
          "unique_count": 98,
          "nan_count": 0,
          "min": "1144.071",
          "max": "214509.189",
          "histogram": [
           {
            "bin_start": 1144.071,
            "bin_end": 22480.5828,
            "count": 18
           },
           {
            "bin_start": 22480.5828,
            "bin_end": 43817.0946,
            "count": 18
           },
           {
            "bin_start": 43817.0946,
            "bin_end": 65153.606400000004,
            "count": 16
           },
           {
            "bin_start": 65153.606400000004,
            "bin_end": 86490.1182,
            "count": 9
           },
           {
            "bin_start": 86490.1182,
            "bin_end": 107826.63,
            "count": 12
           },
           {
            "bin_start": 107826.63,
            "bin_end": 129163.1418,
            "count": 8
           },
           {
            "bin_start": 129163.1418,
            "bin_end": 150499.6536,
            "count": 12
           },
           {
            "bin_start": 150499.6536,
            "bin_end": 171836.1654,
            "count": 11
           },
           {
            "bin_start": 171836.1654,
            "bin_end": 193172.6772,
            "count": 14
           },
           {
            "bin_start": 193172.6772,
            "bin_end": 214509.189,
            "count": 13
           }
          ]
         }
        },
        {
         "name": "time_end",
         "dtype": "float64",
         "stats": {
          "unique_count": 98,
          "nan_count": 0,
          "min": "1930.800000011921",
          "max": "214689.30000001192",
          "histogram": [
           {
            "bin_start": 1930.800000011921,
            "bin_end": 23206.65000001192,
            "count": 15
           },
           {
            "bin_start": 23206.65000001192,
            "bin_end": 44482.50000001192,
            "count": 17
           },
           {
            "bin_start": 44482.50000001192,
            "bin_end": 65758.35000001191,
            "count": 17
           },
           {
            "bin_start": 65758.35000001191,
            "bin_end": 87034.20000001192,
            "count": 8
           },
           {
            "bin_start": 87034.20000001192,
            "bin_end": 108310.05000001192,
            "count": 12
           },
           {
            "bin_start": 108310.05000001192,
            "bin_end": 129585.90000001191,
            "count": 8
           },
           {
            "bin_start": 129585.90000001191,
            "bin_end": 150861.7500000119,
            "count": 12
           },
           {
            "bin_start": 150861.7500000119,
            "bin_end": 172137.6000000119,
            "count": 12
           },
           {
            "bin_start": 172137.6000000119,
            "bin_end": 193413.45000001192,
            "count": 15
           },
           {
            "bin_start": 193413.45000001192,
            "bin_end": 214689.30000001192,
            "count": 15
           }
          ]
         }
        },
        {
         "name": "time_commit",
         "dtype": "float64",
         "stats": {
          "unique_count": 131,
          "nan_count": 0,
          "min": "1936.2000000476837",
          "max": "214692.40000003576",
          "histogram": [
           {
            "bin_start": 1936.2000000476837,
            "bin_end": 23211.820000046493,
            "count": 15
           },
           {
            "bin_start": 23211.820000046493,
            "bin_end": 44487.4400000453,
            "count": 17
           },
           {
            "bin_start": 44487.4400000453,
            "bin_end": 65763.06000004412,
            "count": 17
           },
           {
            "bin_start": 65763.06000004412,
            "bin_end": 87038.68000004292,
            "count": 8
           },
           {
            "bin_start": 87038.68000004292,
            "bin_end": 108314.30000004172,
            "count": 12
           },
           {
            "bin_start": 108314.30000004172,
            "bin_end": 129589.92000004054,
            "count": 8
           },
           {
            "bin_start": 129589.92000004054,
            "bin_end": 150865.54000003936,
            "count": 12
           },
           {
            "bin_start": 150865.54000003936,
            "bin_end": 172141.16000003816,
            "count": 12
           },
           {
            "bin_start": 172141.16000003816,
            "bin_end": 193416.78000003696,
            "count": 15
           },
           {
            "bin_start": 193416.78000003696,
            "bin_end": 214692.40000003576,
            "count": 15
           }
          ]
         }
        },
        {
         "name": "timestamp",
         "dtype": "datetime64[ns, UTC]",
         "stats": {
          "unique_count": 106,
          "nan_count": 0,
          "min": "2021-06-28 09:53:06.599000+00:00",
          "max": "2021-06-28 09:56:39.361000+00:00",
          "histogram": [
           {
            "bin_start": 1624873986599000000,
            "bin_end": 1624874007875200000,
            "count": 15
           },
           {
            "bin_start": 1624874007875200000,
            "bin_end": 1624874029151400000,
            "count": 17
           },
           {
            "bin_start": 1624874029151400000,
            "bin_end": 1624874050427600100,
            "count": 17
           },
           {
            "bin_start": 1624874050427600100,
            "bin_end": 1624874071703800000,
            "count": 8
           },
           {
            "bin_start": 1624874071703800000,
            "bin_end": 1624874092980000000,
            "count": 12
           },
           {
            "bin_start": 1624874092980000000,
            "bin_end": 1624874114256200000,
            "count": 8
           },
           {
            "bin_start": 1624874114256200000,
            "bin_end": 1624874135532399900,
            "count": 12
           },
           {
            "bin_start": 1624874135532399900,
            "bin_end": 1624874156808600000,
            "count": 12
           },
           {
            "bin_start": 1624874156808600000,
            "bin_end": 1624874178084800000,
            "count": 15
           },
           {
            "bin_start": 1624874178084800000,
            "bin_end": 1624874199361000000,
            "count": 15
           }
          ]
         }
        },
        {
         "name": "time_switch",
         "dtype": "float64",
         "stats": {
          "unique_count": 98,
          "nan_count": 0,
          "min": "1944.087",
          "max": "214709.193",
          "histogram": [
           {
            "bin_start": 1944.087,
            "bin_end": 23220.5976,
            "count": 15
           },
           {
            "bin_start": 23220.5976,
            "bin_end": 44497.1082,
            "count": 17
           },
           {
            "bin_start": 44497.1082,
            "bin_end": 65773.61880000001,
            "count": 17
           },
           {
            "bin_start": 65773.61880000001,
            "bin_end": 87050.1294,
            "count": 8
           },
           {
            "bin_start": 87050.1294,
            "bin_end": 108326.64000000001,
            "count": 12
           },
           {
            "bin_start": 108326.64000000001,
            "bin_end": 129603.15060000001,
            "count": 8
           },
           {
            "bin_start": 129603.15060000001,
            "bin_end": 150879.6612,
            "count": 12
           },
           {
            "bin_start": 150879.6612,
            "bin_end": 172156.1718,
            "count": 12
           },
           {
            "bin_start": 172156.1718,
            "bin_end": 193432.68240000002,
            "count": 15
           },
           {
            "bin_start": 193432.68240000002,
            "bin_end": 214709.193,
            "count": 15
           }
          ]
         }
        },
        {
         "name": "Sadness",
         "dtype": "float64",
         "stats": {
          "unique_count": 1,
          "nan_count": 130,
          "min": "2.0",
          "max": "2.0",
          "histogram": [
           {
            "bin_start": 1.5,
            "bin_end": 1.6,
            "count": 0
           },
           {
            "bin_start": 1.6,
            "bin_end": 1.7,
            "count": 0
           },
           {
            "bin_start": 1.7,
            "bin_end": 1.8,
            "count": 0
           },
           {
            "bin_start": 1.8,
            "bin_end": 1.9,
            "count": 0
           },
           {
            "bin_start": 1.9,
            "bin_end": 2,
            "count": 0
           },
           {
            "bin_start": 2,
            "bin_end": 2.1,
            "count": 1
           },
           {
            "bin_start": 2.1,
            "bin_end": 2.2,
            "count": 0
           },
           {
            "bin_start": 2.2,
            "bin_end": 2.3,
            "count": 0
           },
           {
            "bin_start": 2.3,
            "bin_end": 2.4,
            "count": 0
           },
           {
            "bin_start": 2.4,
            "bin_end": 2.5,
            "count": 0
           }
          ]
         }
        },
        {
         "name": "Pessimism",
         "dtype": "object",
         "stats": {
          "unique_count": 1,
          "nan_count": 130,
          "categories": [
           {
            "name": "N/A",
            "count": 1
           },
           {
            "name": "Missing",
            "count": 130
           }
          ]
         }
        },
        {
         "name": "Past Failure",
         "dtype": "object",
         "stats": {
          "unique_count": 1,
          "nan_count": 130,
          "categories": [
           {
            "name": "N/A",
            "count": 1
           },
           {
            "name": "Missing",
            "count": 130
           }
          ]
         }
        },
        {
         "name": "Loss of Pleasure",
         "dtype": "object",
         "stats": {
          "unique_count": 1,
          "nan_count": 130,
          "categories": [
           {
            "name": "N/A",
            "count": 1
           },
           {
            "name": "Missing",
            "count": 130
           }
          ]
         }
        },
        {
         "name": "Guilty Feelings",
         "dtype": "object",
         "stats": {
          "unique_count": 1,
          "nan_count": 130,
          "categories": [
           {
            "name": "N/A",
            "count": 1
           },
           {
            "name": "Missing",
            "count": 130
           }
          ]
         }
        },
        {
         "name": "Punishment Feelings",
         "dtype": "object",
         "stats": {
          "unique_count": 1,
          "nan_count": 130,
          "categories": [
           {
            "name": "N/A",
            "count": 1
           },
           {
            "name": "Missing",
            "count": 130
           }
          ]
         }
        },
        {
         "name": "Self-Dislike",
         "dtype": "object",
         "stats": {
          "unique_count": 1,
          "nan_count": 130,
          "categories": [
           {
            "name": "N/A",
            "count": 1
           },
           {
            "name": "Missing",
            "count": 130
           }
          ]
         }
        },
        {
         "name": "Suicidal Thoughts or Wishes",
         "dtype": "object",
         "stats": {
          "unique_count": 1,
          "nan_count": 130,
          "categories": [
           {
            "name": "N/A",
            "count": 1
           },
           {
            "name": "Missing",
            "count": 130
           }
          ]
         }
        },
        {
         "name": "Crying",
         "dtype": "object",
         "stats": {
          "unique_count": 1,
          "nan_count": 129,
          "categories": [
           {
            "name": "N/A",
            "count": 2
           },
           {
            "name": "Missing",
            "count": 129
           }
          ]
         }
        },
        {
         "name": "Agitation",
         "dtype": "object",
         "stats": {
          "unique_count": 1,
          "nan_count": 130,
          "categories": [
           {
            "name": "N/A",
            "count": 1
           },
           {
            "name": "Missing",
            "count": 130
           }
          ]
         }
        },
        {
         "name": "Loss of Interest",
         "dtype": "object",
         "stats": {
          "unique_count": 1,
          "nan_count": 130,
          "categories": [
           {
            "name": "N/A",
            "count": 1
           },
           {
            "name": "Missing",
            "count": 130
           }
          ]
         }
        },
        {
         "name": "Indecisiveness",
         "dtype": "object",
         "stats": {
          "unique_count": 1,
          "nan_count": 130,
          "categories": [
           {
            "name": "N/A",
            "count": 1
           },
           {
            "name": "Missing",
            "count": 130
           }
          ]
         }
        },
        {
         "name": "Worthlessness",
         "dtype": "object",
         "stats": {
          "unique_count": 1,
          "nan_count": 130,
          "categories": [
           {
            "name": "N/A",
            "count": 1
           },
           {
            "name": "Missing",
            "count": 130
           }
          ]
         }
        },
        {
         "name": "Loss of Energy",
         "dtype": "object",
         "stats": {
          "unique_count": 1,
          "nan_count": 130,
          "categories": [
           {
            "name": "N/A",
            "count": 1
           },
           {
            "name": "Missing",
            "count": 130
           }
          ]
         }
        },
        {
         "name": "Changes in Sleeping Pattern",
         "dtype": "object",
         "stats": {
          "unique_count": 1,
          "nan_count": 130,
          "categories": [
           {
            "name": "N/A",
            "count": 1
           },
           {
            "name": "Missing",
            "count": 130
           }
          ]
         }
        },
        {
         "name": "Irritability",
         "dtype": "object",
         "stats": {
          "unique_count": 1,
          "nan_count": 130,
          "categories": [
           {
            "name": "N/A",
            "count": 1
           },
           {
            "name": "Missing",
            "count": 130
           }
          ]
         }
        },
        {
         "name": "Changes in Appetite",
         "dtype": "object",
         "stats": {
          "unique_count": 1,
          "nan_count": 130,
          "categories": [
           {
            "name": "N/A",
            "count": 1
           },
           {
            "name": "Missing",
            "count": 130
           }
          ]
         }
        },
        {
         "name": "Tiredness or Fatigue",
         "dtype": "object",
         "stats": {
          "unique_count": 1,
          "nan_count": 130,
          "categories": [
           {
            "name": "N/A",
            "count": 1
           },
           {
            "name": "Missing",
            "count": 130
           }
          ]
         }
        },
        {
         "name": "Loss of Interest in Sex",
         "dtype": "object",
         "stats": {
          "unique_count": 1,
          "nan_count": 130,
          "categories": [
           {
            "name": "N/A",
            "count": 1
           },
           {
            "name": "Missing",
            "count": 130
           }
          ]
         }
        },
        {
         "name": "Secure",
         "dtype": "object",
         "stats": {
          "unique_count": 1,
          "nan_count": 130,
          "categories": [
           {
            "name": "N/A",
            "count": 1
           },
           {
            "name": "Missing",
            "count": 130
           }
          ]
         }
        },
        {
         "name": "Worry",
         "dtype": "object",
         "stats": {
          "unique_count": 1,
          "nan_count": 130,
          "categories": [
           {
            "name": "N/A",
            "count": 1
           },
           {
            "name": "Missing",
            "count": 130
           }
          ]
         }
        },
        {
         "name": "Nervous",
         "dtype": "object",
         "stats": {
          "unique_count": 1,
          "nan_count": 130,
          "categories": [
           {
            "name": "N/A",
            "count": 1
           },
           {
            "name": "Missing",
            "count": 130
           }
          ]
         }
        },
        {
         "name": "Tension",
         "dtype": "float64",
         "stats": {
          "unique_count": 1,
          "nan_count": 130,
          "min": "4.0",
          "max": "4.0",
          "histogram": [
           {
            "bin_start": 3.5,
            "bin_end": 3.6,
            "count": 0
           },
           {
            "bin_start": 3.6,
            "bin_end": 3.7,
            "count": 0
           },
           {
            "bin_start": 3.7,
            "bin_end": 3.8,
            "count": 0
           },
           {
            "bin_start": 3.8,
            "bin_end": 3.9,
            "count": 0
           },
           {
            "bin_start": 3.9,
            "bin_end": 4,
            "count": 0
           },
           {
            "bin_start": 4,
            "bin_end": 4.1,
            "count": 1
           },
           {
            "bin_start": 4.1,
            "bin_end": 4.2,
            "count": 0
           },
           {
            "bin_start": 4.2,
            "bin_end": 4.3,
            "count": 0
           },
           {
            "bin_start": 4.3,
            "bin_end": 4.4,
            "count": 0
           },
           {
            "bin_start": 4.4,
            "bin_end": 4.5,
            "count": 0
           }
          ]
         }
        },
        {
         "name": "Calm",
         "dtype": "object",
         "stats": {
          "unique_count": 1,
          "nan_count": 130,
          "categories": [
           {
            "name": "N/A",
            "count": 1
           },
           {
            "name": "Missing",
            "count": 130
           }
          ]
         }
        },
        {
         "name": "Take Things Hard",
         "dtype": "object",
         "stats": {
          "unique_count": 1,
          "nan_count": 130,
          "categories": [
           {
            "name": "N/A",
            "count": 1
           },
           {
            "name": "Missing",
            "count": 130
           }
          ]
         }
        },
        {
         "name": "Self-Confidence",
         "dtype": "object",
         "stats": {
          "unique_count": 1,
          "nan_count": 130,
          "categories": [
           {
            "name": "N/A",
            "count": 1
           },
           {
            "name": "Missing",
            "count": 130
           }
          ]
         }
        },
        {
         "name": "Difficulties",
         "dtype": "object",
         "stats": {
          "unique_count": 1,
          "nan_count": 130,
          "categories": [
           {
            "name": "N/A",
            "count": 1
           },
           {
            "name": "Missing",
            "count": 130
           }
          ]
         }
        },
        {
         "name": "I Feel Blue",
         "dtype": "object",
         "stats": {
          "unique_count": 1,
          "nan_count": 130,
          "categories": [
           {
            "name": "N/A",
            "count": 1
           },
           {
            "name": "Missing",
            "count": 130
           }
          ]
         }
        },
        {
         "name": "Disappointment",
         "dtype": "object",
         "stats": {
          "unique_count": 1,
          "nan_count": 130,
          "categories": [
           {
            "name": "N/A",
            "count": 1
           },
           {
            "name": "Missing",
            "count": 130
           }
          ]
         }
        },
        {
         "name": "Others Happy",
         "dtype": "object",
         "stats": {
          "unique_count": 1,
          "nan_count": 130,
          "categories": [
           {
            "name": "N/A",
            "count": 1
           },
           {
            "name": "Missing",
            "count": 130
           }
          ]
         }
        },
        {
         "name": "Satisfied",
         "dtype": "object",
         "stats": {
          "unique_count": 1,
          "nan_count": 130,
          "categories": [
           {
            "name": "N/A",
            "count": 1
           },
           {
            "name": "Missing",
            "count": 130
           }
          ]
         }
        },
        {
         "name": "Steady Person",
         "dtype": "object",
         "stats": {
          "unique_count": 1,
          "nan_count": 130,
          "categories": [
           {
            "name": "N/A",
            "count": 1
           },
           {
            "name": "Missing",
            "count": 130
           }
          ]
         }
        },
        {
         "name": "Can't Make Up Mind",
         "dtype": "object",
         "stats": {
          "unique_count": 1,
          "nan_count": 130,
          "categories": [
           {
            "name": "N/A",
            "count": 1
           },
           {
            "name": "Missing",
            "count": 130
           }
          ]
         }
        },
        {
         "name": "I feel pleasant",
         "dtype": "object",
         "stats": {
          "unique_count": 1,
          "nan_count": 130,
          "categories": [
           {
            "name": "N/A",
            "count": 1
           },
           {
            "name": "Missing",
            "count": 130
           }
          ]
         }
        },
        {
         "name": "I tire quickly",
         "dtype": "object",
         "stats": {
          "unique_count": 1,
          "nan_count": 130,
          "categories": [
           {
            "name": "N/A",
            "count": 1
           },
           {
            "name": "Missing",
            "count": 130
           }
          ]
         }
        },
        {
         "name": "I feel rested",
         "dtype": "object",
         "stats": {
          "unique_count": 1,
          "nan_count": 130,
          "categories": [
           {
            "name": "N/A",
            "count": 1
           },
           {
            "name": "Missing",
            "count": 130
           }
          ]
         }
        },
        {
         "name": "a",
         "dtype": "object",
         "stats": {
          "unique_count": 15,
          "nan_count": 11,
          "categories": [
           {
            "name": "1start.png",
            "count": 8
           },
           {
            "name": "14 others",
            "count": 112
           },
           {
            "name": "Missing",
            "count": 11
           }
          ]
         }
        },
        {
         "name": "b",
         "dtype": "object",
         "stats": {
          "unique_count": 30,
          "nan_count": 11,
          "categories": [
           {
            "name": "1a.png",
            "count": 4
           },
           {
            "name": "29 others",
            "count": 116
           },
           {
            "name": "Missing",
            "count": 11
           }
          ]
         }
        },
        {
         "name": "correctResponse",
         "dtype": "object",
         "stats": {
          "unique_count": 1,
          "nan_count": 101,
          "categories": [
           {
            "name": "continue",
            "count": 30
           },
           {
            "name": "Missing",
            "count": 101
           }
          ]
         }
        },
        {
         "name": "correct",
         "dtype": "float64",
         "stats": {
          "unique_count": 1,
          "nan_count": 101,
          "min": "1.0",
          "max": "1.0",
          "histogram": [
           {
            "bin_start": 0.5,
            "bin_end": 0.6,
            "count": 0
           },
           {
            "bin_start": 0.6,
            "bin_end": 0.7,
            "count": 0
           },
           {
            "bin_start": 0.7,
            "bin_end": 0.8,
            "count": 0
           },
           {
            "bin_start": 0.8,
            "bin_end": 0.9,
            "count": 0
           },
           {
            "bin_start": 0.9,
            "bin_end": 1,
            "count": 0
           },
           {
            "bin_start": 1,
            "bin_end": 1.1,
            "count": 30
           },
           {
            "bin_start": 1.1,
            "bin_end": 1.2000000000000002,
            "count": 0
           },
           {
            "bin_start": 1.2000000000000002,
            "bin_end": 1.3,
            "count": 0
           },
           {
            "bin_start": 1.3,
            "bin_end": 1.4,
            "count": 0
           },
           {
            "bin_start": 1.4,
            "bin_end": 1.5,
            "count": 0
           }
          ]
         }
        },
        {
         "name": "_deepnote_index_column",
         "dtype": "int64"
        }
       ],
       "rows_top": [
        {
         "url": "{'srid': '130'}",
         "meta": "{'labjs_version': '20.2.3', 'labjs_build': {'flavor': 'production', 'commit': '7ea907d66ca8aeef8054…",
         "sender": "Intro",
         "sender_type": "html.Screen",
         "sender_id": 0,
         "response": "continue",
         "response_action": "keypress(Space)",
         "ended_on": "response",
         "duration": 786.729000011921,
         "time_run": 1137.5,
         "time_render": 994.068,
         "time_show": 1144.071,
         "time_end": 1930.800000011921,
         "time_commit": 1936.2000000476837,
         "timestamp": "2021-06-28T09:53:06.599000",
         "time_switch": 1944.087,
         "Sadness": "nan",
         "Pessimism": "nan",
         "Past Failure": "nan",
         "Loss of Pleasure": "nan",
         "Guilty Feelings": "nan",
         "Punishment Feelings": "nan",
         "Self-Dislike": "nan",
         "Suicidal Thoughts or Wishes": "nan",
         "Crying": "nan",
         "Agitation": "nan",
         "Loss of Interest": "nan",
         "Indecisiveness": "nan",
         "Worthlessness": "nan",
         "Loss of Energy": "nan",
         "Changes in Sleeping Pattern": "nan",
         "Irritability": "nan",
         "Changes in Appetite": "nan",
         "Tiredness or Fatigue": "nan",
         "Loss of Interest in Sex": "nan",
         "Secure": "nan",
         "Worry": "nan",
         "Nervous": "nan",
         "Tension": "nan",
         "Calm": "nan",
         "Take Things Hard": "nan",
         "Self-Confidence": "nan",
         "Difficulties": "nan",
         "I Feel Blue": "nan",
         "Disappointment": "nan",
         "Others Happy": "nan",
         "Satisfied": "nan",
         "Steady Person": "nan",
         "Can't Make Up Mind": "nan",
         "I feel pleasant": "nan",
         "I tire quickly": "nan",
         "I feel rested": "nan",
         "a": "nan",
         "b": "nan",
         "correctResponse": "nan",
         "correct": "nan",
         "_deepnote_index_column": 0
        },
        {
         "url": "nan",
         "meta": "nan",
         "sender": "Depression Questionnaire",
         "sender_type": "html.Form",
         "sender_id": 1,
         "response": "nan",
         "response_action": "nan",
         "ended_on": "form submission",
         "duration": 2952.313000035763,
         "time_run": 1936.5,
         "time_render": 1927.42,
         "time_show": 1944.087,
         "time_end": 4896.400000035763,
         "time_commit": 4896.700000047684,
         "timestamp": "2021-06-28T09:53:09.559000",
         "time_switch": 4911.31,
         "Sadness": 2,
         "Pessimism": "N/A",
         "Past Failure": "N/A",
         "Loss of Pleasure": "N/A",
         "Guilty Feelings": "N/A",
         "Punishment Feelings": "N/A",
         "Self-Dislike": "N/A",
         "Suicidal Thoughts or Wishes": "N/A",
         "Crying": "N/A",
         "Agitation": "N/A",
         "Loss of Interest": "N/A",
         "Indecisiveness": "N/A",
         "Worthlessness": "N/A",
         "Loss of Energy": "N/A",
         "Changes in Sleeping Pattern": "N/A",
         "Irritability": "N/A",
         "Changes in Appetite": "N/A",
         "Tiredness or Fatigue": "N/A",
         "Loss of Interest in Sex": "N/A",
         "Secure": "nan",
         "Worry": "nan",
         "Nervous": "nan",
         "Tension": "nan",
         "Calm": "nan",
         "Take Things Hard": "nan",
         "Self-Confidence": "nan",
         "Difficulties": "nan",
         "I Feel Blue": "nan",
         "Disappointment": "nan",
         "Others Happy": "nan",
         "Satisfied": "nan",
         "Steady Person": "nan",
         "Can't Make Up Mind": "nan",
         "I feel pleasant": "nan",
         "I tire quickly": "nan",
         "I feel rested": "nan",
         "a": "nan",
         "b": "nan",
         "correctResponse": "nan",
         "correct": "nan",
         "_deepnote_index_column": 1
        },
        {
         "url": "nan",
         "meta": "nan",
         "sender": "Anxiety Questionnaire",
         "sender_type": "html.Form",
         "sender_id": 2,
         "response": "nan",
         "response_action": "nan",
         "ended_on": "form submission",
         "duration": 2727.8900000476833,
         "time_run": 4897,
         "time_render": 4894.643,
         "time_show": 4911.31,
         "time_end": 7639.200000047684,
         "time_commit": 7639.400000035763,
         "timestamp": "2021-06-28T09:53:12.302000",
         "time_switch": 7644.698,
         "Sadness": "nan",
         "Pessimism": "nan",
         "Past Failure": "nan",
         "Loss of Pleasure": "nan",
         "Guilty Feelings": "nan",
         "Punishment Feelings": "nan",
         "Self-Dislike": "nan",
         "Suicidal Thoughts or Wishes": "nan",
         "Crying": "N/A",
         "Agitation": "nan",
         "Loss of Interest": "nan",
         "Indecisiveness": "nan",
         "Worthlessness": "nan",
         "Loss of Energy": "nan",
         "Changes in Sleeping Pattern": "nan",
         "Irritability": "nan",
         "Changes in Appetite": "nan",
         "Tiredness or Fatigue": "nan",
         "Loss of Interest in Sex": "nan",
         "Secure": "N/A",
         "Worry": "N/A",
         "Nervous": "N/A",
         "Tension": 4,
         "Calm": "N/A",
         "Take Things Hard": "N/A",
         "Self-Confidence": "N/A",
         "Difficulties": "N/A",
         "I Feel Blue": "N/A",
         "Disappointment": "N/A",
         "Others Happy": "N/A",
         "Satisfied": "N/A",
         "Steady Person": "N/A",
         "Can't Make Up Mind": "N/A",
         "I feel pleasant": "N/A",
         "I tire quickly": "N/A",
         "I feel rested": "N/A",
         "a": "nan",
         "b": "nan",
         "correctResponse": "nan",
         "correct": "nan",
         "_deepnote_index_column": 2
        },
        {
         "url": "nan",
         "meta": "nan",
         "sender": "Thanks for Filling Out Form",
         "sender_type": "html.Page",
         "sender_id": 3,
         "response": "nan",
         "response_action": "nan",
         "ended_on": "timeout",
         "duration": 1000.0200000000004,
         "time_run": 7639.600000023842,
         "time_render": 7628.031,
         "time_show": 7644.698,
         "time_end": 8628.051,
         "time_commit": 8629.800000011921,
         "timestamp": "2021-06-28T09:53:13.293000",
         "time_switch": 8644.718,
         "Sadness": "nan",
         "Pessimism": "nan",
         "Past Failure": "nan",
         "Loss of Pleasure": "nan",
         "Guilty Feelings": "nan",
         "Punishment Feelings": "nan",
         "Self-Dislike": "nan",
         "Suicidal Thoughts or Wishes": "nan",
         "Crying": "nan",
         "Agitation": "nan",
         "Loss of Interest": "nan",
         "Indecisiveness": "nan",
         "Worthlessness": "nan",
         "Loss of Energy": "nan",
         "Changes in Sleeping Pattern": "nan",
         "Irritability": "nan",
         "Changes in Appetite": "nan",
         "Tiredness or Fatigue": "nan",
         "Loss of Interest in Sex": "nan",
         "Secure": "nan",
         "Worry": "nan",
         "Nervous": "nan",
         "Tension": "nan",
         "Calm": "nan",
         "Take Things Hard": "nan",
         "Self-Confidence": "nan",
         "Difficulties": "nan",
         "I Feel Blue": "nan",
         "Disappointment": "nan",
         "Others Happy": "nan",
         "Satisfied": "nan",
         "Steady Person": "nan",
         "Can't Make Up Mind": "nan",
         "I feel pleasant": "nan",
         "I tire quickly": "nan",
         "I feel rested": "nan",
         "a": "nan",
         "b": "nan",
         "correctResponse": "nan",
         "correct": "nan",
         "_deepnote_index_column": 3
        },
        {
         "url": "nan",
         "meta": "nan",
         "sender": "Instructions",
         "sender_type": "html.Screen",
         "sender_id": 4,
         "response": "continue",
         "response_action": "keypress(Space)",
         "ended_on": "response",
         "duration": 1770.5820000119202,
         "time_run": 8630,
         "time_render": 8628.051,
         "time_show": 8644.718,
         "time_end": 10415.300000011921,
         "time_commit": 10421.5,
         "timestamp": "2021-06-28T09:53:15.084000",
         "time_switch": 10444.754,
         "Sadness": "nan",
         "Pessimism": "nan",
         "Past Failure": "nan",
         "Loss of Pleasure": "nan",
         "Guilty Feelings": "nan",
         "Punishment Feelings": "nan",
         "Self-Dislike": "nan",
         "Suicidal Thoughts or Wishes": "nan",
         "Crying": "nan",
         "Agitation": "nan",
         "Loss of Interest": "nan",
         "Indecisiveness": "nan",
         "Worthlessness": "nan",
         "Loss of Energy": "nan",
         "Changes in Sleeping Pattern": "nan",
         "Irritability": "nan",
         "Changes in Appetite": "nan",
         "Tiredness or Fatigue": "nan",
         "Loss of Interest in Sex": "nan",
         "Secure": "nan",
         "Worry": "nan",
         "Nervous": "nan",
         "Tension": "nan",
         "Calm": "nan",
         "Take Things Hard": "nan",
         "Self-Confidence": "nan",
         "Difficulties": "nan",
         "I Feel Blue": "nan",
         "Disappointment": "nan",
         "Others Happy": "nan",
         "Satisfied": "nan",
         "Steady Person": "nan",
         "Can't Make Up Mind": "nan",
         "I feel pleasant": "nan",
         "I tire quickly": "nan",
         "I feel rested": "nan",
         "a": "nan",
         "b": "nan",
         "correctResponse": "nan",
         "correct": "nan",
         "_deepnote_index_column": 4
        },
        {
         "url": "nan",
         "meta": "nan",
         "sender": "Test Trial Instructions",
         "sender_type": "html.Screen",
         "sender_id": 5,
         "response": "continue",
         "response_action": "keypress(Space)",
         "ended_on": "response",
         "duration": 1332.446000047683,
         "time_run": 10421.700000047684,
         "time_render": 10428.087,
         "time_show": 10444.754,
         "time_end": 11777.200000047684,
         "time_commit": 11781.900000035763,
         "timestamp": "2021-06-28T09:53:16.445000",
         "time_switch": 11794.781,
         "Sadness": "nan",
         "Pessimism": "nan",
         "Past Failure": "nan",
         "Loss of Pleasure": "nan",
         "Guilty Feelings": "nan",
         "Punishment Feelings": "nan",
         "Self-Dislike": "nan",
         "Suicidal Thoughts or Wishes": "nan",
         "Crying": "nan",
         "Agitation": "nan",
         "Loss of Interest": "nan",
         "Indecisiveness": "nan",
         "Worthlessness": "nan",
         "Loss of Energy": "nan",
         "Changes in Sleeping Pattern": "nan",
         "Irritability": "nan",
         "Changes in Appetite": "nan",
         "Tiredness or Fatigue": "nan",
         "Loss of Interest in Sex": "nan",
         "Secure": "nan",
         "Worry": "nan",
         "Nervous": "nan",
         "Tension": "nan",
         "Calm": "nan",
         "Take Things Hard": "nan",
         "Self-Confidence": "nan",
         "Difficulties": "nan",
         "I Feel Blue": "nan",
         "Disappointment": "nan",
         "Others Happy": "nan",
         "Satisfied": "nan",
         "Steady Person": "nan",
         "Can't Make Up Mind": "nan",
         "I feel pleasant": "nan",
         "I tire quickly": "nan",
         "I feel rested": "nan",
         "a": "nan",
         "b": "nan",
         "correctResponse": "nan",
         "correct": "nan",
         "_deepnote_index_column": 5
        },
        {
         "url": "nan",
         "meta": "nan",
         "sender": "Fixation Cross",
         "sender_type": "html.Screen",
         "sender_id": 600,
         "response": "nan",
         "response_action": "nan",
         "ended_on": "timeout",
         "duration": 2000.039999999999,
         "time_run": 11782.100000023842,
         "time_render": 11778.114,
         "time_show": 11794.781,
         "time_end": 13778.154,
         "time_commit": 13780.800000011921,
         "timestamp": "2021-06-28T09:53:18.444000",
         "time_switch": 13794.821,
         "Sadness": "nan",
         "Pessimism": "nan",
         "Past Failure": "nan",
         "Loss of Pleasure": "nan",
         "Guilty Feelings": "nan",
         "Punishment Feelings": "nan",
         "Self-Dislike": "nan",
         "Suicidal Thoughts or Wishes": "nan",
         "Crying": "nan",
         "Agitation": "nan",
         "Loss of Interest": "nan",
         "Indecisiveness": "nan",
         "Worthlessness": "nan",
         "Loss of Energy": "nan",
         "Changes in Sleeping Pattern": "nan",
         "Irritability": "nan",
         "Changes in Appetite": "nan",
         "Tiredness or Fatigue": "nan",
         "Loss of Interest in Sex": "nan",
         "Secure": "nan",
         "Worry": "nan",
         "Nervous": "nan",
         "Tension": "nan",
         "Calm": "nan",
         "Take Things Hard": "nan",
         "Self-Confidence": "nan",
         "Difficulties": "nan",
         "I Feel Blue": "nan",
         "Disappointment": "nan",
         "Others Happy": "nan",
         "Satisfied": "nan",
         "Steady Person": "nan",
         "Can't Make Up Mind": "nan",
         "I feel pleasant": "nan",
         "I tire quickly": "nan",
         "I feel rested": "nan",
         "a": "1start.png",
         "b": "1a.png",
         "correctResponse": "nan",
         "correct": "nan",
         "_deepnote_index_column": 6
        },
        {
         "url": "nan",
         "meta": "nan",
         "sender": "cf keyframe transitions",
         "sender_type": "html.Screen",
         "sender_id": 601,
         "response": "pressed Space",
         "response_action": "nan",
         "ended_on": "response",
         "duration": 2363.679,
         "time_run": 13780.900000035763,
         "time_render": 13778.154,
         "time_show": 13794.821,
         "time_end": 16158.5,
         "time_commit": 16158.900000035763,
         "timestamp": "2021-06-28T09:53:20.822000",
         "time_switch": 16178.787,
         "Sadness": "nan",
         "Pessimism": "nan",
         "Past Failure": "nan",
         "Loss of Pleasure": "nan",
         "Guilty Feelings": "nan",
         "Punishment Feelings": "nan",
         "Self-Dislike": "nan",
         "Suicidal Thoughts or Wishes": "nan",
         "Crying": "nan",
         "Agitation": "nan",
         "Loss of Interest": "nan",
         "Indecisiveness": "nan",
         "Worthlessness": "nan",
         "Loss of Energy": "nan",
         "Changes in Sleeping Pattern": "nan",
         "Irritability": "nan",
         "Changes in Appetite": "nan",
         "Tiredness or Fatigue": "nan",
         "Loss of Interest in Sex": "nan",
         "Secure": "nan",
         "Worry": "nan",
         "Nervous": "nan",
         "Tension": "nan",
         "Calm": "nan",
         "Take Things Hard": "nan",
         "Self-Confidence": "nan",
         "Difficulties": "nan",
         "I Feel Blue": "nan",
         "Disappointment": "nan",
         "Others Happy": "nan",
         "Satisfied": "nan",
         "Steady Person": "nan",
         "Can't Make Up Mind": "nan",
         "I feel pleasant": "nan",
         "I tire quickly": "nan",
         "I feel rested": "nan",
         "a": "1start.png",
         "b": "1a.png",
         "correctResponse": "nan",
         "correct": "nan",
         "_deepnote_index_column": 7
        }
       ],
       "rows_bottom": [
        {
         "url": "nan",
         "meta": "nan",
         "sender": "Did You Look At the Cross?",
         "sender_type": "html.Screen",
         "sender_id": 8242,
         "response": "continue",
         "response_action": "keypress(Space)",
         "ended_on": "response",
         "duration": 471.0119999999879,
         "time_run": 209107.30000001192,
         "time_render": 209091.821,
         "time_show": 209108.488,
         "time_end": 209579.5,
         "time_commit": 209583,
         "timestamp": "2021-06-28T09:56:34.252000",
         "time_switch": 209591.831,
         "Sadness": "nan",
         "Pessimism": "nan",
         "Past Failure": "nan",
         "Loss of Pleasure": "nan",
         "Guilty Feelings": "nan",
         "Punishment Feelings": "nan",
         "Self-Dislike": "nan",
         "Suicidal Thoughts or Wishes": "nan",
         "Crying": "nan",
         "Agitation": "nan",
         "Loss of Interest": "nan",
         "Indecisiveness": "nan",
         "Worthlessness": "nan",
         "Loss of Energy": "nan",
         "Changes in Sleeping Pattern": "nan",
         "Irritability": "nan",
         "Changes in Appetite": "nan",
         "Tiredness or Fatigue": "nan",
         "Loss of Interest in Sex": "nan",
         "Secure": "nan",
         "Worry": "nan",
         "Nervous": "nan",
         "Tension": "nan",
         "Calm": "nan",
         "Take Things Hard": "nan",
         "Self-Confidence": "nan",
         "Difficulties": "nan",
         "I Feel Blue": "nan",
         "Disappointment": "nan",
         "Others Happy": "nan",
         "Satisfied": "nan",
         "Steady Person": "nan",
         "Can't Make Up Mind": "nan",
         "I feel pleasant": "nan",
         "I tire quickly": "nan",
         "I feel rested": "nan",
         "a": "10start.png",
         "b": "10a.png",
         "correctResponse": "continue",
         "correct": 1,
         "_deepnote_index_column": 122
        },
        {
         "url": "nan",
         "meta": "nan",
         "sender": "Trial",
         "sender_type": "flow.Sequence",
         "sender_id": 824,
         "response": "nan",
         "response_action": "nan",
         "ended_on": "completion",
         "duration": 7855.081000000006,
         "time_run": 201713.80000001192,
         "time_render": 201707.752,
         "time_show": 201724.419,
         "time_end": 209579.5,
         "time_commit": 209583.30000001192,
         "timestamp": "2021-06-28T09:56:34.252000",
         "time_switch": 209591.831,
         "Sadness": "nan",
         "Pessimism": "nan",
         "Past Failure": "nan",
         "Loss of Pleasure": "nan",
         "Guilty Feelings": "nan",
         "Punishment Feelings": "nan",
         "Self-Dislike": "nan",
         "Suicidal Thoughts or Wishes": "nan",
         "Crying": "nan",
         "Agitation": "nan",
         "Loss of Interest": "nan",
         "Indecisiveness": "nan",
         "Worthlessness": "nan",
         "Loss of Energy": "nan",
         "Changes in Sleeping Pattern": "nan",
         "Irritability": "nan",
         "Changes in Appetite": "nan",
         "Tiredness or Fatigue": "nan",
         "Loss of Interest in Sex": "nan",
         "Secure": "nan",
         "Worry": "nan",
         "Nervous": "nan",
         "Tension": "nan",
         "Calm": "nan",
         "Take Things Hard": "nan",
         "Self-Confidence": "nan",
         "Difficulties": "nan",
         "I Feel Blue": "nan",
         "Disappointment": "nan",
         "Others Happy": "nan",
         "Satisfied": "nan",
         "Steady Person": "nan",
         "Can't Make Up Mind": "nan",
         "I feel pleasant": "nan",
         "I tire quickly": "nan",
         "I feel rested": "nan",
         "a": "10start.png",
         "b": "10a.png",
         "correctResponse": "nan",
         "correct": "nan",
         "_deepnote_index_column": 123
        },
        {
         "url": "nan",
         "meta": "nan",
         "sender": "Fixation Cross",
         "sender_type": "html.Screen",
         "sender_id": 8250,
         "response": "nan",
         "response_action": "nan",
         "ended_on": "timeout",
         "duration": 2000.0400000000081,
         "time_run": 209583.40000003576,
         "time_render": 209575.164,
         "time_show": 209591.831,
         "time_end": 211575.204,
         "time_commit": 211577.40000003576,
         "timestamp": "2021-06-28T09:56:36.246000",
         "time_switch": 211591.871,
         "Sadness": "nan",
         "Pessimism": "nan",
         "Past Failure": "nan",
         "Loss of Pleasure": "nan",
         "Guilty Feelings": "nan",
         "Punishment Feelings": "nan",
         "Self-Dislike": "nan",
         "Suicidal Thoughts or Wishes": "nan",
         "Crying": "nan",
         "Agitation": "nan",
         "Loss of Interest": "nan",
         "Indecisiveness": "nan",
         "Worthlessness": "nan",
         "Loss of Energy": "nan",
         "Changes in Sleeping Pattern": "nan",
         "Irritability": "nan",
         "Changes in Appetite": "nan",
         "Tiredness or Fatigue": "nan",
         "Loss of Interest in Sex": "nan",
         "Secure": "nan",
         "Worry": "nan",
         "Nervous": "nan",
         "Tension": "nan",
         "Calm": "nan",
         "Take Things Hard": "nan",
         "Self-Confidence": "nan",
         "Difficulties": "nan",
         "I Feel Blue": "nan",
         "Disappointment": "nan",
         "Others Happy": "nan",
         "Satisfied": "nan",
         "Steady Person": "nan",
         "Can't Make Up Mind": "nan",
         "I feel pleasant": "nan",
         "I tire quickly": "nan",
         "I feel rested": "nan",
         "a": "9start.png",
         "b": "9b.png",
         "correctResponse": "nan",
         "correct": "nan",
         "_deepnote_index_column": 124
        },
        {
         "url": "nan",
         "meta": "nan",
         "sender": "cf keyframe transitions",
         "sender_type": "html.Screen",
         "sender_id": 8251,
         "response": "pressed Space",
         "response_action": "nan",
         "ended_on": "response",
         "duration": 2526.529000035749,
         "time_run": 211577.60000002384,
         "time_render": 211575.204,
         "time_show": 211591.871,
         "time_end": 214118.40000003576,
         "time_commit": 214118.60000002384,
         "timestamp": "2021-06-28T09:56:38.787000",
         "time_switch": 214142.515,
         "Sadness": "nan",
         "Pessimism": "nan",
         "Past Failure": "nan",
         "Loss of Pleasure": "nan",
         "Guilty Feelings": "nan",
         "Punishment Feelings": "nan",
         "Self-Dislike": "nan",
         "Suicidal Thoughts or Wishes": "nan",
         "Crying": "nan",
         "Agitation": "nan",
         "Loss of Interest": "nan",
         "Indecisiveness": "nan",
         "Worthlessness": "nan",
         "Loss of Energy": "nan",
         "Changes in Sleeping Pattern": "nan",
         "Irritability": "nan",
         "Changes in Appetite": "nan",
         "Tiredness or Fatigue": "nan",
         "Loss of Interest in Sex": "nan",
         "Secure": "nan",
         "Worry": "nan",
         "Nervous": "nan",
         "Tension": "nan",
         "Calm": "nan",
         "Take Things Hard": "nan",
         "Self-Confidence": "nan",
         "Difficulties": "nan",
         "I Feel Blue": "nan",
         "Disappointment": "nan",
         "Others Happy": "nan",
         "Satisfied": "nan",
         "Steady Person": "nan",
         "Can't Make Up Mind": "nan",
         "I feel pleasant": "nan",
         "I tire quickly": "nan",
         "I feel rested": "nan",
         "a": "9start.png",
         "b": "9b.png",
         "correctResponse": "nan",
         "correct": "nan",
         "_deepnote_index_column": 125
        },
        {
         "url": "nan",
         "meta": "nan",
         "sender": "Did You Look At the Cross?",
         "sender_type": "html.Screen",
         "sender_id": 8252,
         "response": "continue",
         "response_action": "keypress(Space)",
         "ended_on": "response",
         "duration": 352.68500004766975,
         "time_run": 214118.70000004768,
         "time_render": 214125.848,
         "time_show": 214142.515,
         "time_end": 214495.20000004768,
         "time_commit": 214498.40000003576,
         "timestamp": "2021-06-28T09:56:39.167000",
         "time_switch": 214509.189,
         "Sadness": "nan",
         "Pessimism": "nan",
         "Past Failure": "nan",
         "Loss of Pleasure": "nan",
         "Guilty Feelings": "nan",
         "Punishment Feelings": "nan",
         "Self-Dislike": "nan",
         "Suicidal Thoughts or Wishes": "nan",
         "Crying": "nan",
         "Agitation": "nan",
         "Loss of Interest": "nan",
         "Indecisiveness": "nan",
         "Worthlessness": "nan",
         "Loss of Energy": "nan",
         "Changes in Sleeping Pattern": "nan",
         "Irritability": "nan",
         "Changes in Appetite": "nan",
         "Tiredness or Fatigue": "nan",
         "Loss of Interest in Sex": "nan",
         "Secure": "nan",
         "Worry": "nan",
         "Nervous": "nan",
         "Tension": "nan",
         "Calm": "nan",
         "Take Things Hard": "nan",
         "Self-Confidence": "nan",
         "Difficulties": "nan",
         "I Feel Blue": "nan",
         "Disappointment": "nan",
         "Others Happy": "nan",
         "Satisfied": "nan",
         "Steady Person": "nan",
         "Can't Make Up Mind": "nan",
         "I feel pleasant": "nan",
         "I tire quickly": "nan",
         "I feel rested": "nan",
         "a": "9start.png",
         "b": "9b.png",
         "correctResponse": "continue",
         "correct": 1,
         "_deepnote_index_column": 126
        },
        {
         "url": "nan",
         "meta": "nan",
         "sender": "Trial",
         "sender_type": "flow.Sequence",
         "sender_id": 825,
         "response": "nan",
         "response_action": "nan",
         "ended_on": "completion",
         "duration": 4903.369000047678,
         "time_run": 209583.30000001192,
         "time_render": 209575.164,
         "time_show": 209591.831,
         "time_end": 214495.20000004768,
         "time_commit": 214498.70000004768,
         "timestamp": "2021-06-28T09:56:39.168000",
         "time_switch": 214509.189,
         "Sadness": "nan",
         "Pessimism": "nan",
         "Past Failure": "nan",
         "Loss of Pleasure": "nan",
         "Guilty Feelings": "nan",
         "Punishment Feelings": "nan",
         "Self-Dislike": "nan",
         "Suicidal Thoughts or Wishes": "nan",
         "Crying": "nan",
         "Agitation": "nan",
         "Loss of Interest": "nan",
         "Indecisiveness": "nan",
         "Worthlessness": "nan",
         "Loss of Energy": "nan",
         "Changes in Sleeping Pattern": "nan",
         "Irritability": "nan",
         "Changes in Appetite": "nan",
         "Tiredness or Fatigue": "nan",
         "Loss of Interest in Sex": "nan",
         "Secure": "nan",
         "Worry": "nan",
         "Nervous": "nan",
         "Tension": "nan",
         "Calm": "nan",
         "Take Things Hard": "nan",
         "Self-Confidence": "nan",
         "Difficulties": "nan",
         "I Feel Blue": "nan",
         "Disappointment": "nan",
         "Others Happy": "nan",
         "Satisfied": "nan",
         "Steady Person": "nan",
         "Can't Make Up Mind": "nan",
         "I feel pleasant": "nan",
         "I tire quickly": "nan",
         "I feel rested": "nan",
         "a": "9start.png",
         "b": "9b.png",
         "correctResponse": "nan",
         "correct": "nan",
         "_deepnote_index_column": 127
        },
        {
         "url": "nan",
         "meta": "nan",
         "sender": "Test Rounds",
         "sender_type": "flow.Loop",
         "sender_id": 8,
         "response": "nan",
         "response_action": "nan",
         "ended_on": "completion",
         "duration": 181648.9220000477,
         "time_run": 32836.40000003576,
         "time_render": 32829.611,
         "time_show": 32846.278,
         "time_end": 214495.20000004768,
         "time_commit": 214498.80000001192,
         "timestamp": "2021-06-28T09:56:39.168000",
         "time_switch": 214509.189,
         "Sadness": "nan",
         "Pessimism": "nan",
         "Past Failure": "nan",
         "Loss of Pleasure": "nan",
         "Guilty Feelings": "nan",
         "Punishment Feelings": "nan",
         "Self-Dislike": "nan",
         "Suicidal Thoughts or Wishes": "nan",
         "Crying": "nan",
         "Agitation": "nan",
         "Loss of Interest": "nan",
         "Indecisiveness": "nan",
         "Worthlessness": "nan",
         "Loss of Energy": "nan",
         "Changes in Sleeping Pattern": "nan",
         "Irritability": "nan",
         "Changes in Appetite": "nan",
         "Tiredness or Fatigue": "nan",
         "Loss of Interest in Sex": "nan",
         "Secure": "nan",
         "Worry": "nan",
         "Nervous": "nan",
         "Tension": "nan",
         "Calm": "nan",
         "Take Things Hard": "nan",
         "Self-Confidence": "nan",
         "Difficulties": "nan",
         "I Feel Blue": "nan",
         "Disappointment": "nan",
         "Others Happy": "nan",
         "Satisfied": "nan",
         "Steady Person": "nan",
         "Can't Make Up Mind": "nan",
         "I feel pleasant": "nan",
         "I tire quickly": "nan",
         "I feel rested": "nan",
         "a": "nan",
         "b": "nan",
         "correctResponse": "nan",
         "correct": "nan",
         "_deepnote_index_column": 128
        },
        {
         "url": "nan",
         "meta": "nan",
         "sender": "Thanks for Participating!",
         "sender_type": "html.Page",
         "sender_id": 9,
         "response": "continue",
         "response_action": "keypress(Space)",
         "ended_on": "response",
         "duration": 180.1110000119079,
         "time_run": 214498.90000003576,
         "time_render": 214492.522,
         "time_show": 214509.189,
         "time_end": 214689.30000001192,
         "time_commit": 214692.20000004768,
         "timestamp": "2021-06-28T09:56:39.361000",
         "time_switch": 214709.193,
         "Sadness": "nan",
         "Pessimism": "nan",
         "Past Failure": "nan",
         "Loss of Pleasure": "nan",
         "Guilty Feelings": "nan",
         "Punishment Feelings": "nan",
         "Self-Dislike": "nan",
         "Suicidal Thoughts or Wishes": "nan",
         "Crying": "nan",
         "Agitation": "nan",
         "Loss of Interest": "nan",
         "Indecisiveness": "nan",
         "Worthlessness": "nan",
         "Loss of Energy": "nan",
         "Changes in Sleeping Pattern": "nan",
         "Irritability": "nan",
         "Changes in Appetite": "nan",
         "Tiredness or Fatigue": "nan",
         "Loss of Interest in Sex": "nan",
         "Secure": "nan",
         "Worry": "nan",
         "Nervous": "nan",
         "Tension": "nan",
         "Calm": "nan",
         "Take Things Hard": "nan",
         "Self-Confidence": "nan",
         "Difficulties": "nan",
         "I Feel Blue": "nan",
         "Disappointment": "nan",
         "Others Happy": "nan",
         "Satisfied": "nan",
         "Steady Person": "nan",
         "Can't Make Up Mind": "nan",
         "I feel pleasant": "nan",
         "I tire quickly": "nan",
         "I feel rested": "nan",
         "a": "nan",
         "b": "nan",
         "correctResponse": "nan",
         "correct": "nan",
         "_deepnote_index_column": 129
        },
        {
         "url": "nan",
         "meta": "nan",
         "sender": "root",
         "sender_type": "flow.Sequence",
         "sender_id": "nan",
         "response": "nan",
         "response_action": "nan",
         "ended_on": "completion",
         "duration": 213545.22900001192,
         "time_run": 1137.2000000476837,
         "time_render": 994.068,
         "time_show": 1144.071,
         "time_end": 214689.30000001192,
         "time_commit": 214692.40000003576,
         "timestamp": "2021-06-28T09:56:39.361000",
         "time_switch": 214709.193,
         "Sadness": "nan",
         "Pessimism": "nan",
         "Past Failure": "nan",
         "Loss of Pleasure": "nan",
         "Guilty Feelings": "nan",
         "Punishment Feelings": "nan",
         "Self-Dislike": "nan",
         "Suicidal Thoughts or Wishes": "nan",
         "Crying": "nan",
         "Agitation": "nan",
         "Loss of Interest": "nan",
         "Indecisiveness": "nan",
         "Worthlessness": "nan",
         "Loss of Energy": "nan",
         "Changes in Sleeping Pattern": "nan",
         "Irritability": "nan",
         "Changes in Appetite": "nan",
         "Tiredness or Fatigue": "nan",
         "Loss of Interest in Sex": "nan",
         "Secure": "nan",
         "Worry": "nan",
         "Nervous": "nan",
         "Tension": "nan",
         "Calm": "nan",
         "Take Things Hard": "nan",
         "Self-Confidence": "nan",
         "Difficulties": "nan",
         "I Feel Blue": "nan",
         "Disappointment": "nan",
         "Others Happy": "nan",
         "Satisfied": "nan",
         "Steady Person": "nan",
         "Can't Make Up Mind": "nan",
         "I feel pleasant": "nan",
         "I tire quickly": "nan",
         "I feel rested": "nan",
         "a": "nan",
         "b": "nan",
         "correctResponse": "nan",
         "correct": "nan",
         "_deepnote_index_column": 130
        }
       ]
      },
      "text/plain": "                 url                                               meta  \\\n0    {'srid': '130'}  {'labjs_version': '20.2.3', 'labjs_build': {'f...   \n1                NaN                                                NaN   \n2                NaN                                                NaN   \n3                NaN                                                NaN   \n4                NaN                                                NaN   \n..               ...                                                ...   \n126              NaN                                                NaN   \n127              NaN                                                NaN   \n128              NaN                                                NaN   \n129              NaN                                                NaN   \n130              NaN                                                NaN   \n\n                          sender    sender_type  sender_id  response  \\\n0                          Intro    html.Screen        0.0  continue   \n1       Depression Questionnaire      html.Form        1.0       NaN   \n2          Anxiety Questionnaire      html.Form        2.0       NaN   \n3    Thanks for Filling Out Form      html.Page        3.0       NaN   \n4                   Instructions    html.Screen        4.0  continue   \n..                           ...            ...        ...       ...   \n126   Did You Look At the Cross?    html.Screen     8252.0  continue   \n127                        Trial  flow.Sequence      825.0       NaN   \n128                  Test Rounds      flow.Loop        8.0       NaN   \n129    Thanks for Participating!      html.Page        9.0  continue   \n130                         root  flow.Sequence        NaN       NaN   \n\n     response_action         ended_on    duration  time_run  ...  Satisfied  \\\n0    keypress(Space)         response     786.729    1137.5  ...        NaN   \n1                NaN  form submission    2952.313    1936.5  ...        NaN   \n2                NaN  form submission    2727.890    4897.0  ...        N/A   \n3                NaN          timeout    1000.020    7639.6  ...        NaN   \n4    keypress(Space)         response    1770.582    8630.0  ...        NaN   \n..               ...              ...         ...       ...  ...        ...   \n126  keypress(Space)         response     352.685  214118.7  ...        NaN   \n127              NaN       completion    4903.369  209583.3  ...        NaN   \n128              NaN       completion  181648.922   32836.4  ...        NaN   \n129  keypress(Space)         response     180.111  214498.9  ...        NaN   \n130              NaN       completion  213545.229    1137.2  ...        NaN   \n\n     Steady Person  Can't Make Up Mind  I feel pleasant I tire quickly  \\\n0              NaN                 NaN              NaN            NaN   \n1              NaN                 NaN              NaN            NaN   \n2              N/A                 N/A              N/A            N/A   \n3              NaN                 NaN              NaN            NaN   \n4              NaN                 NaN              NaN            NaN   \n..             ...                 ...              ...            ...   \n126            NaN                 NaN              NaN            NaN   \n127            NaN                 NaN              NaN            NaN   \n128            NaN                 NaN              NaN            NaN   \n129            NaN                 NaN              NaN            NaN   \n130            NaN                 NaN              NaN            NaN   \n\n     I feel rested           a       b correctResponse correct  \n0              NaN         NaN     NaN             NaN     NaN  \n1              NaN         NaN     NaN             NaN     NaN  \n2              N/A         NaN     NaN             NaN     NaN  \n3              NaN         NaN     NaN             NaN     NaN  \n4              NaN         NaN     NaN             NaN     NaN  \n..             ...         ...     ...             ...     ...  \n126            NaN  9start.png  9b.png        continue     1.0  \n127            NaN  9start.png  9b.png             NaN     NaN  \n128            NaN         NaN     NaN             NaN     NaN  \n129            NaN         NaN     NaN             NaN     NaN  \n130            NaN         NaN     NaN             NaN     NaN  \n\n[131 rows x 56 columns]",
      "text/html": "<div>\n<style scoped>\n    .dataframe tbody tr th:only-of-type {\n        vertical-align: middle;\n    }\n\n    .dataframe tbody tr th {\n        vertical-align: top;\n    }\n\n    .dataframe thead th {\n        text-align: right;\n    }\n</style>\n<table border=\"1\" class=\"dataframe\">\n  <thead>\n    <tr style=\"text-align: right;\">\n      <th></th>\n      <th>url</th>\n      <th>meta</th>\n      <th>sender</th>\n      <th>sender_type</th>\n      <th>sender_id</th>\n      <th>response</th>\n      <th>response_action</th>\n      <th>ended_on</th>\n      <th>duration</th>\n      <th>time_run</th>\n      <th>...</th>\n      <th>Satisfied</th>\n      <th>Steady Person</th>\n      <th>Can't Make Up Mind</th>\n      <th>I feel pleasant</th>\n      <th>I tire quickly</th>\n      <th>I feel rested</th>\n      <th>a</th>\n      <th>b</th>\n      <th>correctResponse</th>\n      <th>correct</th>\n    </tr>\n  </thead>\n  <tbody>\n    <tr>\n      <th>0</th>\n      <td>{'srid': '130'}</td>\n      <td>{'labjs_version': '20.2.3', 'labjs_build': {'f...</td>\n      <td>Intro</td>\n      <td>html.Screen</td>\n      <td>0.0</td>\n      <td>continue</td>\n      <td>keypress(Space)</td>\n      <td>response</td>\n      <td>786.729</td>\n      <td>1137.5</td>\n      <td>...</td>\n      <td>NaN</td>\n      <td>NaN</td>\n      <td>NaN</td>\n      <td>NaN</td>\n      <td>NaN</td>\n      <td>NaN</td>\n      <td>NaN</td>\n      <td>NaN</td>\n      <td>NaN</td>\n      <td>NaN</td>\n    </tr>\n    <tr>\n      <th>1</th>\n      <td>NaN</td>\n      <td>NaN</td>\n      <td>Depression Questionnaire</td>\n      <td>html.Form</td>\n      <td>1.0</td>\n      <td>NaN</td>\n      <td>NaN</td>\n      <td>form submission</td>\n      <td>2952.313</td>\n      <td>1936.5</td>\n      <td>...</td>\n      <td>NaN</td>\n      <td>NaN</td>\n      <td>NaN</td>\n      <td>NaN</td>\n      <td>NaN</td>\n      <td>NaN</td>\n      <td>NaN</td>\n      <td>NaN</td>\n      <td>NaN</td>\n      <td>NaN</td>\n    </tr>\n    <tr>\n      <th>2</th>\n      <td>NaN</td>\n      <td>NaN</td>\n      <td>Anxiety Questionnaire</td>\n      <td>html.Form</td>\n      <td>2.0</td>\n      <td>NaN</td>\n      <td>NaN</td>\n      <td>form submission</td>\n      <td>2727.890</td>\n      <td>4897.0</td>\n      <td>...</td>\n      <td>N/A</td>\n      <td>N/A</td>\n      <td>N/A</td>\n      <td>N/A</td>\n      <td>N/A</td>\n      <td>N/A</td>\n      <td>NaN</td>\n      <td>NaN</td>\n      <td>NaN</td>\n      <td>NaN</td>\n    </tr>\n    <tr>\n      <th>3</th>\n      <td>NaN</td>\n      <td>NaN</td>\n      <td>Thanks for Filling Out Form</td>\n      <td>html.Page</td>\n      <td>3.0</td>\n      <td>NaN</td>\n      <td>NaN</td>\n      <td>timeout</td>\n      <td>1000.020</td>\n      <td>7639.6</td>\n      <td>...</td>\n      <td>NaN</td>\n      <td>NaN</td>\n      <td>NaN</td>\n      <td>NaN</td>\n      <td>NaN</td>\n      <td>NaN</td>\n      <td>NaN</td>\n      <td>NaN</td>\n      <td>NaN</td>\n      <td>NaN</td>\n    </tr>\n    <tr>\n      <th>4</th>\n      <td>NaN</td>\n      <td>NaN</td>\n      <td>Instructions</td>\n      <td>html.Screen</td>\n      <td>4.0</td>\n      <td>continue</td>\n      <td>keypress(Space)</td>\n      <td>response</td>\n      <td>1770.582</td>\n      <td>8630.0</td>\n      <td>...</td>\n      <td>NaN</td>\n      <td>NaN</td>\n      <td>NaN</td>\n      <td>NaN</td>\n      <td>NaN</td>\n      <td>NaN</td>\n      <td>NaN</td>\n      <td>NaN</td>\n      <td>NaN</td>\n      <td>NaN</td>\n    </tr>\n    <tr>\n      <th>...</th>\n      <td>...</td>\n      <td>...</td>\n      <td>...</td>\n      <td>...</td>\n      <td>...</td>\n      <td>...</td>\n      <td>...</td>\n      <td>...</td>\n      <td>...</td>\n      <td>...</td>\n      <td>...</td>\n      <td>...</td>\n      <td>...</td>\n      <td>...</td>\n      <td>...</td>\n      <td>...</td>\n      <td>...</td>\n      <td>...</td>\n      <td>...</td>\n      <td>...</td>\n      <td>...</td>\n    </tr>\n    <tr>\n      <th>126</th>\n      <td>NaN</td>\n      <td>NaN</td>\n      <td>Did You Look At the Cross?</td>\n      <td>html.Screen</td>\n      <td>8252.0</td>\n      <td>continue</td>\n      <td>keypress(Space)</td>\n      <td>response</td>\n      <td>352.685</td>\n      <td>214118.7</td>\n      <td>...</td>\n      <td>NaN</td>\n      <td>NaN</td>\n      <td>NaN</td>\n      <td>NaN</td>\n      <td>NaN</td>\n      <td>NaN</td>\n      <td>9start.png</td>\n      <td>9b.png</td>\n      <td>continue</td>\n      <td>1.0</td>\n    </tr>\n    <tr>\n      <th>127</th>\n      <td>NaN</td>\n      <td>NaN</td>\n      <td>Trial</td>\n      <td>flow.Sequence</td>\n      <td>825.0</td>\n      <td>NaN</td>\n      <td>NaN</td>\n      <td>completion</td>\n      <td>4903.369</td>\n      <td>209583.3</td>\n      <td>...</td>\n      <td>NaN</td>\n      <td>NaN</td>\n      <td>NaN</td>\n      <td>NaN</td>\n      <td>NaN</td>\n      <td>NaN</td>\n      <td>9start.png</td>\n      <td>9b.png</td>\n      <td>NaN</td>\n      <td>NaN</td>\n    </tr>\n    <tr>\n      <th>128</th>\n      <td>NaN</td>\n      <td>NaN</td>\n      <td>Test Rounds</td>\n      <td>flow.Loop</td>\n      <td>8.0</td>\n      <td>NaN</td>\n      <td>NaN</td>\n      <td>completion</td>\n      <td>181648.922</td>\n      <td>32836.4</td>\n      <td>...</td>\n      <td>NaN</td>\n      <td>NaN</td>\n      <td>NaN</td>\n      <td>NaN</td>\n      <td>NaN</td>\n      <td>NaN</td>\n      <td>NaN</td>\n      <td>NaN</td>\n      <td>NaN</td>\n      <td>NaN</td>\n    </tr>\n    <tr>\n      <th>129</th>\n      <td>NaN</td>\n      <td>NaN</td>\n      <td>Thanks for Participating!</td>\n      <td>html.Page</td>\n      <td>9.0</td>\n      <td>continue</td>\n      <td>keypress(Space)</td>\n      <td>response</td>\n      <td>180.111</td>\n      <td>214498.9</td>\n      <td>...</td>\n      <td>NaN</td>\n      <td>NaN</td>\n      <td>NaN</td>\n      <td>NaN</td>\n      <td>NaN</td>\n      <td>NaN</td>\n      <td>NaN</td>\n      <td>NaN</td>\n      <td>NaN</td>\n      <td>NaN</td>\n    </tr>\n    <tr>\n      <th>130</th>\n      <td>NaN</td>\n      <td>NaN</td>\n      <td>root</td>\n      <td>flow.Sequence</td>\n      <td>NaN</td>\n      <td>NaN</td>\n      <td>NaN</td>\n      <td>completion</td>\n      <td>213545.229</td>\n      <td>1137.2</td>\n      <td>...</td>\n      <td>NaN</td>\n      <td>NaN</td>\n      <td>NaN</td>\n      <td>NaN</td>\n      <td>NaN</td>\n      <td>NaN</td>\n      <td>NaN</td>\n      <td>NaN</td>\n      <td>NaN</td>\n      <td>NaN</td>\n    </tr>\n  </tbody>\n</table>\n<p>131 rows × 56 columns</p>\n</div>"
     },
     "metadata": {}
    }
   ],
   "execution_count": 8
  },
  {
   "cell_type": "code",
   "metadata": {
    "tags": [],
    "cell_id": "00016-d3aff6f9-7b0d-4a46-846f-0eda58eb6356",
    "deepnote_cell_type": "code"
   },
   "source": "",
   "outputs": [],
   "execution_count": null
  },
  {
   "cell_type": "markdown",
   "source": "<a style='text-decoration:none;line-height:16px;display:flex;color:#5B5B62;padding:10px;justify-content:end;' href='https://deepnote.com?utm_source=created-in-deepnote-cell&projectId=b428ea16-8644-4725-b427-7c3182996c03' target=\"_blank\">\n<img alt='Created in deepnote.com' style='display:inline;max-height:16px;margin:0px;margin-right:7.5px;' src='data:image/svg+xml;base64,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' > </img>\nCreated in <span style='font-weight:600;margin-left:4px;'>Deepnote</span></a>",
   "metadata": {
    "tags": [],
    "created_in_deepnote_cell": true,
    "deepnote_cell_type": "markdown"
   }
  }
 ],
 "nbformat": 4,
 "nbformat_minor": 2,
 "metadata": {
  "orig_nbformat": 2,
  "deepnote": {
   "is_reactive": false
  },
  "deepnote_notebook_id": "27bd68a1-ccab-4c61-b9c4-7be13111a3a3",
  "deepnote_execution_queue": []
 }
}