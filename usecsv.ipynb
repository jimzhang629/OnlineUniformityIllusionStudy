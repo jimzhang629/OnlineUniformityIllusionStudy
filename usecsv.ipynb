{
 "cells": [
  {
   "cell_type": "code",
   "metadata": {
    "tags": [],
    "cell_id": "00000-75f1c263-14e3-483d-bcde-c7bd17a5ed8c",
    "deepnote_to_be_reexecuted": false,
    "source_hash": "9b82ee11",
    "execution_start": 1626948672066,
    "execution_millis": 2,
    "deepnote_cell_type": "code"
   },
   "source": "import pandas as pd",
   "execution_count": 68,
   "outputs": []
  },
  {
   "cell_type": "code",
   "metadata": {
    "tags": [],
    "cell_id": "00001-f452ee08-5f23-4555-8985-5159f0885704",
    "deepnote_to_be_reexecuted": false,
    "source_hash": "21f73a4c",
    "execution_start": 1626950446290,
    "execution_millis": 1,
    "deepnote_cell_type": "code"
   },
   "source": "#use the csv file, it's faster.\nclean_df = pd.read_csv('/work/UniformityIllusion/data.csv')\ninclude_timeout_df = pd.read_csv('/work/UniformityIllusion/include_timeout_data.csv')",
   "execution_count": 72,
   "outputs": []
  },
  {
   "cell_type": "code",
   "source": "clean_df",
   "metadata": {
    "tags": [],
    "cell_id": "00002-26795bcc-8aad-473e-a771-193b72b797cc",
    "deepnote_to_be_reexecuted": false,
    "source_hash": "753abc42",
    "execution_start": 1626941611637,
    "execution_millis": 128,
    "deepnote_cell_type": "code"
   },
   "outputs": [
    {
     "output_type": "execute_result",
     "execution_count": 4,
     "data": {
      "application/vnd.deepnote.dataframe.v2+json": {
       "row_count": 6140,
       "column_count": 7,
       "columns": [
        {
         "name": "Unnamed: 0",
         "dtype": "int64",
         "stats": {
          "unique_count": 6140,
          "nan_count": 0,
          "min": "0",
          "max": "6139",
          "histogram": [
           {
            "bin_start": 0,
            "bin_end": 613.9,
            "count": 614
           },
           {
            "bin_start": 613.9,
            "bin_end": 1227.8,
            "count": 614
           },
           {
            "bin_start": 1227.8,
            "bin_end": 1841.6999999999998,
            "count": 614
           },
           {
            "bin_start": 1841.6999999999998,
            "bin_end": 2455.6,
            "count": 614
           },
           {
            "bin_start": 2455.6,
            "bin_end": 3069.5,
            "count": 614
           },
           {
            "bin_start": 3069.5,
            "bin_end": 3683.3999999999996,
            "count": 614
           },
           {
            "bin_start": 3683.3999999999996,
            "bin_end": 4297.3,
            "count": 614
           },
           {
            "bin_start": 4297.3,
            "bin_end": 4911.2,
            "count": 614
           },
           {
            "bin_start": 4911.2,
            "bin_end": 5525.099999999999,
            "count": 614
           },
           {
            "bin_start": 5525.099999999999,
            "bin_end": 6139,
            "count": 614
           }
          ]
         }
        },
        {
         "name": "Participant",
         "dtype": "int64",
         "stats": {
          "unique_count": 420,
          "nan_count": 0,
          "min": "0",
          "max": "469",
          "histogram": [
           {
            "bin_start": 0,
            "bin_end": 46.9,
            "count": 510
           },
           {
            "bin_start": 46.9,
            "bin_end": 93.8,
            "count": 871
           },
           {
            "bin_start": 93.8,
            "bin_end": 140.7,
            "count": 590
           },
           {
            "bin_start": 140.7,
            "bin_end": 187.6,
            "count": 649
           },
           {
            "bin_start": 187.6,
            "bin_end": 234.5,
            "count": 556
           },
           {
            "bin_start": 234.5,
            "bin_end": 281.4,
            "count": 746
           },
           {
            "bin_start": 281.4,
            "bin_end": 328.3,
            "count": 381
           },
           {
            "bin_start": 328.3,
            "bin_end": 375.2,
            "count": 740
           },
           {
            "bin_start": 375.2,
            "bin_end": 422.09999999999997,
            "count": 437
           },
           {
            "bin_start": 422.09999999999997,
            "bin_end": 469,
            "count": 660
           }
          ]
         }
        },
        {
         "name": "Stimulus",
         "dtype": "int64",
         "stats": {
          "unique_count": 12,
          "nan_count": 0,
          "min": "4",
          "max": "15",
          "histogram": [
           {
            "bin_start": 4,
            "bin_end": 5.1,
            "count": 934
           },
           {
            "bin_start": 5.1,
            "bin_end": 6.2,
            "count": 493
           },
           {
            "bin_start": 6.2,
            "bin_end": 7.300000000000001,
            "count": 525
           },
           {
            "bin_start": 7.300000000000001,
            "bin_end": 8.4,
            "count": 529
           },
           {
            "bin_start": 8.4,
            "bin_end": 9.5,
            "count": 456
           },
           {
            "bin_start": 9.5,
            "bin_end": 10.600000000000001,
            "count": 532
           },
           {
            "bin_start": 10.600000000000001,
            "bin_end": 11.700000000000001,
            "count": 523
           },
           {
            "bin_start": 11.700000000000001,
            "bin_end": 12.8,
            "count": 547
           },
           {
            "bin_start": 12.8,
            "bin_end": 13.9,
            "count": 517
           },
           {
            "bin_start": 13.9,
            "bin_end": 15,
            "count": 1084
           }
          ]
         }
        },
        {
         "name": "Condition",
         "dtype": "object",
         "stats": {
          "unique_count": 2,
          "nan_count": 0,
          "categories": [
           {
            "name": "b",
            "count": 3223
           },
           {
            "name": "a",
            "count": 2917
           }
          ]
         }
        },
        {
         "name": "uniformityOnsetTime",
         "dtype": "float64",
         "stats": {
          "unique_count": 6092,
          "nan_count": 0,
          "min": "0.2529999911785126",
          "max": "17368.0",
          "histogram": [
           {
            "bin_start": 0.2529999911785126,
            "bin_end": 1737.0276999920607,
            "count": 4081
           },
           {
            "bin_start": 1737.0276999920607,
            "bin_end": 3473.802399992943,
            "count": 1006
           },
           {
            "bin_start": 3473.802399992943,
            "bin_end": 5210.577099993825,
            "count": 451
           },
           {
            "bin_start": 5210.577099993825,
            "bin_end": 6947.351799994707,
            "count": 244
           },
           {
            "bin_start": 6947.351799994707,
            "bin_end": 8684.12649999559,
            "count": 122
           },
           {
            "bin_start": 8684.12649999559,
            "bin_end": 10420.901199996471,
            "count": 96
           },
           {
            "bin_start": 10420.901199996471,
            "bin_end": 12157.675899997354,
            "count": 57
           },
           {
            "bin_start": 12157.675899997354,
            "bin_end": 13894.450599998236,
            "count": 46
           },
           {
            "bin_start": 13894.450599998236,
            "bin_end": 15631.225299999118,
            "count": 25
           },
           {
            "bin_start": 15631.225299999118,
            "bin_end": 17368,
            "count": 12
           }
          ]
         }
        },
        {
         "name": "depression_score",
         "dtype": "int64",
         "stats": {
          "unique_count": 37,
          "nan_count": 0,
          "min": "0",
          "max": "49",
          "histogram": [
           {
            "bin_start": 0,
            "bin_end": 4.9,
            "count": 2452
           },
           {
            "bin_start": 4.9,
            "bin_end": 9.8,
            "count": 1767
           },
           {
            "bin_start": 9.8,
            "bin_end": 14.700000000000001,
            "count": 832
           },
           {
            "bin_start": 14.700000000000001,
            "bin_end": 19.6,
            "count": 435
           },
           {
            "bin_start": 19.6,
            "bin_end": 24.5,
            "count": 316
           },
           {
            "bin_start": 24.5,
            "bin_end": 29.400000000000002,
            "count": 191
           },
           {
            "bin_start": 29.400000000000002,
            "bin_end": 34.300000000000004,
            "count": 97
           },
           {
            "bin_start": 34.300000000000004,
            "bin_end": 39.2,
            "count": 22
           },
           {
            "bin_start": 39.2,
            "bin_end": 44.1,
            "count": 0
           },
           {
            "bin_start": 44.1,
            "bin_end": 49,
            "count": 28
           }
          ]
         }
        },
        {
         "name": "anxiety_score",
         "dtype": "float64",
         "stats": {
          "unique_count": 39,
          "nan_count": 194,
          "min": "21.0",
          "max": "62.0",
          "histogram": [
           {
            "bin_start": 21,
            "bin_end": 25.1,
            "count": 804
           },
           {
            "bin_start": 25.1,
            "bin_end": 29.2,
            "count": 926
           },
           {
            "bin_start": 29.2,
            "bin_end": 33.3,
            "count": 1298
           },
           {
            "bin_start": 33.3,
            "bin_end": 37.4,
            "count": 835
           },
           {
            "bin_start": 37.4,
            "bin_end": 41.5,
            "count": 584
           },
           {
            "bin_start": 41.5,
            "bin_end": 45.599999999999994,
            "count": 733
           },
           {
            "bin_start": 45.599999999999994,
            "bin_end": 49.699999999999996,
            "count": 469
           },
           {
            "bin_start": 49.699999999999996,
            "bin_end": 53.8,
            "count": 148
           },
           {
            "bin_start": 53.8,
            "bin_end": 57.9,
            "count": 101
           },
           {
            "bin_start": 57.9,
            "bin_end": 62,
            "count": 48
           }
          ]
         }
        },
        {
         "name": "_deepnote_index_column",
         "dtype": "int64"
        }
       ],
       "rows_top": [
        {
         "Unnamed: 0": 0,
         "Participant": 0,
         "Stimulus": 13,
         "Condition": "a",
         "uniformityOnsetTime": 7167.200000000012,
         "depression_score": 1,
         "anxiety_score": 39,
         "_deepnote_index_column": 0
        },
        {
         "Unnamed: 0": 1,
         "Participant": 0,
         "Stimulus": 7,
         "Condition": "b",
         "uniformityOnsetTime": 5320.979999999981,
         "depression_score": 1,
         "anxiety_score": 39,
         "_deepnote_index_column": 1
        },
        {
         "Unnamed: 0": 2,
         "Participant": 0,
         "Stimulus": 14,
         "Condition": "a",
         "uniformityOnsetTime": 16394.780000000028,
         "depression_score": 1,
         "anxiety_score": 39,
         "_deepnote_index_column": 2
        },
        {
         "Unnamed: 0": 3,
         "Participant": 0,
         "Stimulus": 8,
         "Condition": "b",
         "uniformityOnsetTime": 3320.539999999979,
         "depression_score": 1,
         "anxiety_score": 39,
         "_deepnote_index_column": 3
        },
        {
         "Unnamed: 0": 4,
         "Participant": 0,
         "Stimulus": 10,
         "Condition": "b",
         "uniformityOnsetTime": 7111.900000000023,
         "depression_score": 1,
         "anxiety_score": 39,
         "_deepnote_index_column": 4
        },
        {
         "Unnamed: 0": 5,
         "Participant": 0,
         "Stimulus": 12,
         "Condition": "b",
         "uniformityOnsetTime": 2568.140000000014,
         "depression_score": 1,
         "anxiety_score": 39,
         "_deepnote_index_column": 5
        },
        {
         "Unnamed: 0": 6,
         "Participant": 0,
         "Stimulus": 7,
         "Condition": "a",
         "uniformityOnsetTime": 10435.359999999986,
         "depression_score": 1,
         "anxiety_score": 39,
         "_deepnote_index_column": 6
        },
        {
         "Unnamed: 0": 7,
         "Participant": 0,
         "Stimulus": 8,
         "Condition": "a",
         "uniformityOnsetTime": 1036.6199999999951,
         "depression_score": 1,
         "anxiety_score": 39,
         "_deepnote_index_column": 7
        },
        {
         "Unnamed: 0": 8,
         "Participant": 0,
         "Stimulus": 15,
         "Condition": "b",
         "uniformityOnsetTime": 1012.4199999999836,
         "depression_score": 1,
         "anxiety_score": 39,
         "_deepnote_index_column": 8
        },
        {
         "Unnamed: 0": 9,
         "Participant": 1,
         "Stimulus": 14,
         "Condition": "b",
         "uniformityOnsetTime": 1419,
         "depression_score": 10,
         "anxiety_score": 39,
         "_deepnote_index_column": 9
        },
        {
         "Unnamed: 0": 10,
         "Participant": 1,
         "Stimulus": 13,
         "Condition": "a",
         "uniformityOnsetTime": 4186.859999999986,
         "depression_score": 10,
         "anxiety_score": 39,
         "_deepnote_index_column": 10
        },
        {
         "Unnamed: 0": 11,
         "Participant": 1,
         "Stimulus": 5,
         "Condition": "b",
         "uniformityOnsetTime": 4406.260000000009,
         "depression_score": 10,
         "anxiety_score": 39,
         "_deepnote_index_column": 11
        },
        {
         "Unnamed: 0": 12,
         "Participant": 1,
         "Stimulus": 8,
         "Condition": "a",
         "uniformityOnsetTime": 3677.359999999986,
         "depression_score": 10,
         "anxiety_score": 39,
         "_deepnote_index_column": 12
        },
        {
         "Unnamed: 0": 13,
         "Participant": 1,
         "Stimulus": 8,
         "Condition": "a",
         "uniformityOnsetTime": 1255.1199999999951,
         "depression_score": 10,
         "anxiety_score": 39,
         "_deepnote_index_column": 13
        },
        {
         "Unnamed: 0": 14,
         "Participant": 1,
         "Stimulus": 6,
         "Condition": "a",
         "uniformityOnsetTime": 674.7800000000279,
         "depression_score": 10,
         "anxiety_score": 39,
         "_deepnote_index_column": 14
        },
        {
         "Unnamed: 0": 15,
         "Participant": 1,
         "Stimulus": 4,
         "Condition": "b",
         "uniformityOnsetTime": 1393.280000000028,
         "depression_score": 10,
         "anxiety_score": 39,
         "_deepnote_index_column": 15
        },
        {
         "Unnamed: 0": 16,
         "Participant": 1,
         "Stimulus": 4,
         "Condition": "b",
         "uniformityOnsetTime": 2146.619999999996,
         "depression_score": 10,
         "anxiety_score": 39,
         "_deepnote_index_column": 16
        },
        {
         "Unnamed: 0": 17,
         "Participant": 1,
         "Stimulus": 15,
         "Condition": "b",
         "uniformityOnsetTime": 968.9000000000232,
         "depression_score": 10,
         "anxiety_score": 39,
         "_deepnote_index_column": 17
        },
        {
         "Unnamed: 0": 18,
         "Participant": 1,
         "Stimulus": 10,
         "Condition": "a",
         "uniformityOnsetTime": 2585.640000000014,
         "depression_score": 10,
         "anxiety_score": 39,
         "_deepnote_index_column": 18
        },
        {
         "Unnamed: 0": 19,
         "Participant": 2,
         "Stimulus": 14,
         "Condition": "b",
         "uniformityOnsetTime": 4469.11500001786,
         "depression_score": 5,
         "anxiety_score": 28,
         "_deepnote_index_column": 19
        },
        {
         "Unnamed: 0": 20,
         "Participant": 2,
         "Stimulus": 9,
         "Condition": "b",
         "uniformityOnsetTime": 2230.572000011918,
         "depression_score": 5,
         "anxiety_score": 28,
         "_deepnote_index_column": 20
        },
        {
         "Unnamed: 0": 21,
         "Participant": 2,
         "Stimulus": 15,
         "Condition": "b",
         "uniformityOnsetTime": 794.7639999940293,
         "depression_score": 5,
         "anxiety_score": 28,
         "_deepnote_index_column": 21
        },
        {
         "Unnamed: 0": 22,
         "Participant": 3,
         "Stimulus": 9,
         "Condition": "b",
         "uniformityOnsetTime": 670.4890000002924,
         "depression_score": 22,
         "anxiety_score": 47,
         "_deepnote_index_column": 22
        },
        {
         "Unnamed: 0": 23,
         "Participant": 3,
         "Stimulus": 12,
         "Condition": "a",
         "uniformityOnsetTime": 112.4710000003688,
         "depression_score": 22,
         "anxiety_score": 47,
         "_deepnote_index_column": 23
        },
        {
         "Unnamed: 0": 24,
         "Participant": 3,
         "Stimulus": 7,
         "Condition": "a",
         "uniformityOnsetTime": 98.60300000035204,
         "depression_score": 22,
         "anxiety_score": 47,
         "_deepnote_index_column": 24
        },
        {
         "Unnamed: 0": 25,
         "Participant": 3,
         "Stimulus": 7,
         "Condition": "b",
         "uniformityOnsetTime": 203.9680000001099,
         "depression_score": 22,
         "anxiety_score": 47,
         "_deepnote_index_column": 25
        },
        {
         "Unnamed: 0": 26,
         "Participant": 3,
         "Stimulus": 8,
         "Condition": "b",
         "uniformityOnsetTime": 861.7300000002142,
         "depression_score": 22,
         "anxiety_score": 47,
         "_deepnote_index_column": 26
        },
        {
         "Unnamed: 0": 27,
         "Participant": 3,
         "Stimulus": 6,
         "Condition": "b",
         "uniformityOnsetTime": 225.37199999997392,
         "depression_score": 22,
         "anxiety_score": 47,
         "_deepnote_index_column": 27
        },
        {
         "Unnamed: 0": 28,
         "Participant": 3,
         "Stimulus": 4,
         "Condition": "b",
         "uniformityOnsetTime": 91.43300000019372,
         "depression_score": 22,
         "anxiety_score": 47,
         "_deepnote_index_column": 28
        },
        {
         "Unnamed: 0": 29,
         "Participant": 3,
         "Stimulus": 6,
         "Condition": "a",
         "uniformityOnsetTime": 27.10600000037812,
         "depression_score": 22,
         "anxiety_score": 47,
         "_deepnote_index_column": 29
        },
        {
         "Unnamed: 0": 30,
         "Participant": 3,
         "Stimulus": 9,
         "Condition": "a",
         "uniformityOnsetTime": 1013.4260000002104,
         "depression_score": 22,
         "anxiety_score": 47,
         "_deepnote_index_column": 30
        },
        {
         "Unnamed: 0": 31,
         "Participant": 3,
         "Stimulus": 12,
         "Condition": "b",
         "uniformityOnsetTime": 398.6960000002291,
         "depression_score": 22,
         "anxiety_score": 47,
         "_deepnote_index_column": 31
        },
        {
         "Unnamed: 0": 32,
         "Participant": 3,
         "Stimulus": 15,
         "Condition": "b",
         "uniformityOnsetTime": 223.54900000011548,
         "depression_score": 22,
         "anxiety_score": 47,
         "_deepnote_index_column": 32
        },
        {
         "Unnamed: 0": 33,
         "Participant": 3,
         "Stimulus": 15,
         "Condition": "a",
         "uniformityOnsetTime": 478.44800000009127,
         "depression_score": 22,
         "anxiety_score": 47,
         "_deepnote_index_column": 33
        },
        {
         "Unnamed: 0": 34,
         "Participant": 3,
         "Stimulus": 5,
         "Condition": "a",
         "uniformityOnsetTime": 402.2470000004396,
         "depression_score": 22,
         "anxiety_score": 47,
         "_deepnote_index_column": 34
        },
        {
         "Unnamed: 0": 35,
         "Participant": 3,
         "Stimulus": 8,
         "Condition": "a",
         "uniformityOnsetTime": 45.98000000021421,
         "depression_score": 22,
         "anxiety_score": 47,
         "_deepnote_index_column": 35
        },
        {
         "Unnamed: 0": 36,
         "Participant": 3,
         "Stimulus": 6,
         "Condition": "b",
         "uniformityOnsetTime": 255.2970000002533,
         "depression_score": 22,
         "anxiety_score": 47,
         "_deepnote_index_column": 36
        },
        {
         "Unnamed: 0": 37,
         "Participant": 3,
         "Stimulus": 15,
         "Condition": "a",
         "uniformityOnsetTime": 191.02300000027756,
         "depression_score": 22,
         "anxiety_score": 47,
         "_deepnote_index_column": 37
        },
        {
         "Unnamed: 0": 38,
         "Participant": 3,
         "Stimulus": 9,
         "Condition": "a",
         "uniformityOnsetTime": 325.7970000004861,
         "depression_score": 22,
         "anxiety_score": 47,
         "_deepnote_index_column": 38
        },
        {
         "Unnamed: 0": 39,
         "Participant": 3,
         "Stimulus": 6,
         "Condition": "b",
         "uniformityOnsetTime": 122.72600000025705,
         "depression_score": 22,
         "anxiety_score": 47,
         "_deepnote_index_column": 39
        },
        {
         "Unnamed: 0": 40,
         "Participant": 3,
         "Stimulus": 15,
         "Condition": "b",
         "uniformityOnsetTime": 46.80400000023656,
         "depression_score": 22,
         "anxiety_score": 47,
         "_deepnote_index_column": 40
        },
        {
         "Unnamed: 0": 41,
         "Participant": 3,
         "Stimulus": 11,
         "Condition": "a",
         "uniformityOnsetTime": 896.00800000038,
         "depression_score": 22,
         "anxiety_score": 47,
         "_deepnote_index_column": 41
        },
        {
         "Unnamed: 0": 42,
         "Participant": 4,
         "Stimulus": 9,
         "Condition": "b",
         "uniformityOnsetTime": 483.5289999761153,
         "depression_score": 20,
         "anxiety_score": 46,
         "_deepnote_index_column": 42
        },
        {
         "Unnamed: 0": 43,
         "Participant": 4,
         "Stimulus": 14,
         "Condition": "b",
         "uniformityOnsetTime": 5367.016999976127,
         "depression_score": 20,
         "anxiety_score": 46,
         "_deepnote_index_column": 43
        },
        {
         "Unnamed: 0": 44,
         "Participant": 4,
         "Stimulus": 11,
         "Condition": "b",
         "uniformityOnsetTime": 3717.8850000238745,
         "depression_score": 20,
         "anxiety_score": 46,
         "_deepnote_index_column": 44
        },
        {
         "Unnamed: 0": 45,
         "Participant": 4,
         "Stimulus": 15,
         "Condition": "b",
         "uniformityOnsetTime": 2994.274000023841,
         "depression_score": 20,
         "anxiety_score": 46,
         "_deepnote_index_column": 45
        },
        {
         "Unnamed: 0": 46,
         "Participant": 4,
         "Stimulus": 4,
         "Condition": "b",
         "uniformityOnsetTime": 2784.047999928473,
         "depression_score": 20,
         "anxiety_score": 46,
         "_deepnote_index_column": 46
        },
        {
         "Unnamed: 0": 47,
         "Participant": 4,
         "Stimulus": 4,
         "Condition": "a",
         "uniformityOnsetTime": 614.9139999761246,
         "depression_score": 20,
         "anxiety_score": 46,
         "_deepnote_index_column": 47
        },
        {
         "Unnamed: 0": 48,
         "Participant": 5,
         "Stimulus": 7,
         "Condition": "a",
         "uniformityOnsetTime": 4970.847000000009,
         "depression_score": 7,
         "anxiety_score": 36,
         "_deepnote_index_column": 48
        },
        {
         "Unnamed: 0": 49,
         "Participant": 5,
         "Stimulus": 11,
         "Condition": "a",
         "uniformityOnsetTime": 1253.3700000357348,
         "depression_score": 7,
         "anxiety_score": 36,
         "_deepnote_index_column": 49
        },
        {
         "Unnamed: 0": 50,
         "Participant": 6,
         "Stimulus": 4,
         "Condition": "b",
         "uniformityOnsetTime": 386.3999999999942,
         "depression_score": 3,
         "anxiety_score": 28,
         "_deepnote_index_column": 50
        },
        {
         "Unnamed: 0": 51,
         "Participant": 6,
         "Stimulus": 9,
         "Condition": "b",
         "uniformityOnsetTime": 198.140000000014,
         "depression_score": 3,
         "anxiety_score": 28,
         "_deepnote_index_column": 51
        },
        {
         "Unnamed: 0": 52,
         "Participant": 6,
         "Stimulus": 7,
         "Condition": "a",
         "uniformityOnsetTime": 32.94000000000233,
         "depression_score": 3,
         "anxiety_score": 28,
         "_deepnote_index_column": 52
        },
        {
         "Unnamed: 0": 53,
         "Participant": 6,
         "Stimulus": 14,
         "Condition": "b",
         "uniformityOnsetTime": 742.2000000000116,
         "depression_score": 3,
         "anxiety_score": 28,
         "_deepnote_index_column": 53
        },
        {
         "Unnamed: 0": 54,
         "Participant": 6,
         "Stimulus": 9,
         "Condition": "b",
         "uniformityOnsetTime": 416.9200000000128,
         "depression_score": 3,
         "anxiety_score": 28,
         "_deepnote_index_column": 54
        },
        {
         "Unnamed: 0": 55,
         "Participant": 6,
         "Stimulus": 9,
         "Condition": "b",
         "uniformityOnsetTime": 501.1600000000035,
         "depression_score": 3,
         "anxiety_score": 28,
         "_deepnote_index_column": 55
        },
        {
         "Unnamed: 0": 56,
         "Participant": 6,
         "Stimulus": 14,
         "Condition": "a",
         "uniformityOnsetTime": 711.8399999999965,
         "depression_score": 3,
         "anxiety_score": 28,
         "_deepnote_index_column": 56
        },
        {
         "Unnamed: 0": 57,
         "Participant": 6,
         "Stimulus": 12,
         "Condition": "a",
         "uniformityOnsetTime": 810.9200000000128,
         "depression_score": 3,
         "anxiety_score": 28,
         "_deepnote_index_column": 57
        },
        {
         "Unnamed: 0": 58,
         "Participant": 6,
         "Stimulus": 13,
         "Condition": "a",
         "uniformityOnsetTime": 6819.720000000001,
         "depression_score": 3,
         "anxiety_score": 28,
         "_deepnote_index_column": 58
        },
        {
         "Unnamed: 0": 59,
         "Participant": 6,
         "Stimulus": 11,
         "Condition": "a",
         "uniformityOnsetTime": 13552.059999999998,
         "depression_score": 3,
         "anxiety_score": 28,
         "_deepnote_index_column": 59
        },
        {
         "Unnamed: 0": 60,
         "Participant": 6,
         "Stimulus": 7,
         "Condition": "b",
         "uniformityOnsetTime": 1534.2600000000093,
         "depression_score": 3,
         "anxiety_score": 28,
         "_deepnote_index_column": 60
        },
        {
         "Unnamed: 0": 61,
         "Participant": 6,
         "Stimulus": 8,
         "Condition": "a",
         "uniformityOnsetTime": 1655.2999999999884,
         "depression_score": 3,
         "anxiety_score": 28,
         "_deepnote_index_column": 61
        },
        {
         "Unnamed: 0": 62,
         "Participant": 6,
         "Stimulus": 13,
         "Condition": "b",
         "uniformityOnsetTime": 3564.619999999996,
         "depression_score": 3,
         "anxiety_score": 28,
         "_deepnote_index_column": 62
        },
        {
         "Unnamed: 0": 63,
         "Participant": 6,
         "Stimulus": 7,
         "Condition": "b",
         "uniformityOnsetTime": 738.2600000000093,
         "depression_score": 3,
         "anxiety_score": 28,
         "_deepnote_index_column": 63
        },
        {
         "Unnamed: 0": 64,
         "Participant": 8,
         "Stimulus": 11,
         "Condition": "a",
         "uniformityOnsetTime": 1654.548999999999,
         "depression_score": 0,
         "anxiety_score": 25,
         "_deepnote_index_column": 64
        },
        {
         "Unnamed: 0": 65,
         "Participant": 8,
         "Stimulus": 14,
         "Condition": "b",
         "uniformityOnsetTime": 554.219000000041,
         "depression_score": 0,
         "anxiety_score": 25,
         "_deepnote_index_column": 65
        },
        {
         "Unnamed: 0": 66,
         "Participant": 8,
         "Stimulus": 8,
         "Condition": "b",
         "uniformityOnsetTime": 60.30799999996088,
         "depression_score": 0,
         "anxiety_score": 25,
         "_deepnote_index_column": 66
        },
        {
         "Unnamed: 0": 67,
         "Participant": 8,
         "Stimulus": 12,
         "Condition": "b",
         "uniformityOnsetTime": 407.3040000000037,
         "depression_score": 0,
         "anxiety_score": 25,
         "_deepnote_index_column": 67
        },
        {
         "Unnamed: 0": 68,
         "Participant": 8,
         "Stimulus": 6,
         "Condition": "a",
         "uniformityOnsetTime": 432.8299999523442,
         "depression_score": 0,
         "anxiety_score": 25,
         "_deepnote_index_column": 68
        },
        {
         "Unnamed: 0": 69,
         "Participant": 10,
         "Stimulus": 4,
         "Condition": "a",
         "uniformityOnsetTime": 4949.874000000884,
         "depression_score": 25,
         "anxiety_score": 37,
         "_deepnote_index_column": 69
        },
        {
         "Unnamed: 0": 70,
         "Participant": 10,
         "Stimulus": 8,
         "Condition": "a",
         "uniformityOnsetTime": 9944.516999999934,
         "depression_score": 25,
         "anxiety_score": 37,
         "_deepnote_index_column": 70
        }
       ],
       "rows_bottom": [
        {
         "Unnamed: 0": 6069,
         "Participant": 469,
         "Stimulus": 11,
         "Condition": "b",
         "uniformityOnsetTime": 41,
         "depression_score": 10,
         "anxiety_score": 41,
         "_deepnote_index_column": 6069
        },
        {
         "Unnamed: 0": 6070,
         "Participant": 469,
         "Stimulus": 7,
         "Condition": "b",
         "uniformityOnsetTime": 385,
         "depression_score": 10,
         "anxiety_score": 41,
         "_deepnote_index_column": 6070
        },
        {
         "Unnamed: 0": 6071,
         "Participant": 469,
         "Stimulus": 11,
         "Condition": "a",
         "uniformityOnsetTime": 253,
         "depression_score": 10,
         "anxiety_score": 41,
         "_deepnote_index_column": 6071
        },
        {
         "Unnamed: 0": 6072,
         "Participant": 469,
         "Stimulus": 12,
         "Condition": "b",
         "uniformityOnsetTime": 674,
         "depression_score": 10,
         "anxiety_score": 41,
         "_deepnote_index_column": 6072
        },
        {
         "Unnamed: 0": 6073,
         "Participant": 469,
         "Stimulus": 13,
         "Condition": "a",
         "uniformityOnsetTime": 791,
         "depression_score": 10,
         "anxiety_score": 41,
         "_deepnote_index_column": 6073
        },
        {
         "Unnamed: 0": 6074,
         "Participant": 469,
         "Stimulus": 8,
         "Condition": "b",
         "uniformityOnsetTime": 302,
         "depression_score": 10,
         "anxiety_score": 41,
         "_deepnote_index_column": 6074
        },
        {
         "Unnamed: 0": 6075,
         "Participant": 469,
         "Stimulus": 10,
         "Condition": "a",
         "uniformityOnsetTime": 291,
         "depression_score": 10,
         "anxiety_score": 41,
         "_deepnote_index_column": 6075
        },
        {
         "Unnamed: 0": 6076,
         "Participant": 469,
         "Stimulus": 9,
         "Condition": "b",
         "uniformityOnsetTime": 716,
         "depression_score": 10,
         "anxiety_score": 41,
         "_deepnote_index_column": 6076
        },
        {
         "Unnamed: 0": 6077,
         "Participant": 469,
         "Stimulus": 12,
         "Condition": "b",
         "uniformityOnsetTime": 892,
         "depression_score": 10,
         "anxiety_score": 41,
         "_deepnote_index_column": 6077
        },
        {
         "Unnamed: 0": 6078,
         "Participant": 469,
         "Stimulus": 6,
         "Condition": "a",
         "uniformityOnsetTime": 304,
         "depression_score": 10,
         "anxiety_score": 41,
         "_deepnote_index_column": 6078
        },
        {
         "Unnamed: 0": 6079,
         "Participant": 469,
         "Stimulus": 4,
         "Condition": "a",
         "uniformityOnsetTime": 508,
         "depression_score": 10,
         "anxiety_score": 41,
         "_deepnote_index_column": 6079
        },
        {
         "Unnamed: 0": 6080,
         "Participant": 469,
         "Stimulus": 5,
         "Condition": "b",
         "uniformityOnsetTime": 646,
         "depression_score": 10,
         "anxiety_score": 41,
         "_deepnote_index_column": 6080
        },
        {
         "Unnamed: 0": 6081,
         "Participant": 469,
         "Stimulus": 9,
         "Condition": "b",
         "uniformityOnsetTime": 273,
         "depression_score": 10,
         "anxiety_score": 41,
         "_deepnote_index_column": 6081
        },
        {
         "Unnamed: 0": 6082,
         "Participant": 469,
         "Stimulus": 11,
         "Condition": "a",
         "uniformityOnsetTime": 448,
         "depression_score": 10,
         "anxiety_score": 41,
         "_deepnote_index_column": 6082
        },
        {
         "Unnamed: 0": 6083,
         "Participant": 469,
         "Stimulus": 14,
         "Condition": "a",
         "uniformityOnsetTime": 688,
         "depression_score": 10,
         "anxiety_score": 41,
         "_deepnote_index_column": 6083
        },
        {
         "Unnamed: 0": 6084,
         "Participant": 469,
         "Stimulus": 14,
         "Condition": "b",
         "uniformityOnsetTime": 170,
         "depression_score": 10,
         "anxiety_score": 41,
         "_deepnote_index_column": 6084
        },
        {
         "Unnamed: 0": 6085,
         "Participant": 469,
         "Stimulus": 12,
         "Condition": "a",
         "uniformityOnsetTime": 311,
         "depression_score": 10,
         "anxiety_score": 41,
         "_deepnote_index_column": 6085
        },
        {
         "Unnamed: 0": 6086,
         "Participant": 469,
         "Stimulus": 15,
         "Condition": "b",
         "uniformityOnsetTime": 213,
         "depression_score": 10,
         "anxiety_score": 41,
         "_deepnote_index_column": 6086
        },
        {
         "Unnamed: 0": 6087,
         "Participant": 469,
         "Stimulus": 10,
         "Condition": "b",
         "uniformityOnsetTime": 188,
         "depression_score": 10,
         "anxiety_score": 41,
         "_deepnote_index_column": 6087
        },
        {
         "Unnamed: 0": 6088,
         "Participant": 469,
         "Stimulus": 8,
         "Condition": "a",
         "uniformityOnsetTime": 179,
         "depression_score": 10,
         "anxiety_score": 41,
         "_deepnote_index_column": 6088
        },
        {
         "Unnamed: 0": 6089,
         "Participant": 469,
         "Stimulus": 10,
         "Condition": "a",
         "uniformityOnsetTime": 450,
         "depression_score": 10,
         "anxiety_score": 41,
         "_deepnote_index_column": 6089
        },
        {
         "Unnamed: 0": 6090,
         "Participant": 469,
         "Stimulus": 15,
         "Condition": "a",
         "uniformityOnsetTime": 359,
         "depression_score": 10,
         "anxiety_score": 41,
         "_deepnote_index_column": 6090
        },
        {
         "Unnamed: 0": 6091,
         "Participant": 469,
         "Stimulus": 9,
         "Condition": "a",
         "uniformityOnsetTime": 824,
         "depression_score": 10,
         "anxiety_score": 41,
         "_deepnote_index_column": 6091
        },
        {
         "Unnamed: 0": 6092,
         "Participant": 469,
         "Stimulus": 10,
         "Condition": "b",
         "uniformityOnsetTime": 147,
         "depression_score": 10,
         "anxiety_score": 41,
         "_deepnote_index_column": 6092
        },
        {
         "Unnamed: 0": 6093,
         "Participant": 469,
         "Stimulus": 14,
         "Condition": "a",
         "uniformityOnsetTime": 141,
         "depression_score": 10,
         "anxiety_score": 41,
         "_deepnote_index_column": 6093
        },
        {
         "Unnamed: 0": 6094,
         "Participant": 469,
         "Stimulus": 9,
         "Condition": "b",
         "uniformityOnsetTime": 485,
         "depression_score": 10,
         "anxiety_score": 41,
         "_deepnote_index_column": 6094
        },
        {
         "Unnamed: 0": 6095,
         "Participant": 469,
         "Stimulus": 15,
         "Condition": "b",
         "uniformityOnsetTime": 425,
         "depression_score": 10,
         "anxiety_score": 41,
         "_deepnote_index_column": 6095
        },
        {
         "Unnamed: 0": 6096,
         "Participant": 469,
         "Stimulus": 7,
         "Condition": "a",
         "uniformityOnsetTime": 123.0000000000582,
         "depression_score": 10,
         "anxiety_score": 41,
         "_deepnote_index_column": 6096
        },
        {
         "Unnamed: 0": 6097,
         "Participant": 469,
         "Stimulus": 15,
         "Condition": "b",
         "uniformityOnsetTime": 182,
         "depression_score": 10,
         "anxiety_score": 41,
         "_deepnote_index_column": 6097
        },
        {
         "Unnamed: 0": 6098,
         "Participant": 469,
         "Stimulus": 6,
         "Condition": "a",
         "uniformityOnsetTime": 176,
         "depression_score": 10,
         "anxiety_score": 41,
         "_deepnote_index_column": 6098
        },
        {
         "Unnamed: 0": 6099,
         "Participant": 469,
         "Stimulus": 8,
         "Condition": "a",
         "uniformityOnsetTime": 386,
         "depression_score": 10,
         "anxiety_score": 41,
         "_deepnote_index_column": 6099
        },
        {
         "Unnamed: 0": 6100,
         "Participant": 469,
         "Stimulus": 4,
         "Condition": "a",
         "uniformityOnsetTime": 615,
         "depression_score": 10,
         "anxiety_score": 41,
         "_deepnote_index_column": 6100
        },
        {
         "Unnamed: 0": 6101,
         "Participant": 469,
         "Stimulus": 4,
         "Condition": "a",
         "uniformityOnsetTime": 56,
         "depression_score": 10,
         "anxiety_score": 41,
         "_deepnote_index_column": 6101
        },
        {
         "Unnamed: 0": 6102,
         "Participant": 469,
         "Stimulus": 8,
         "Condition": "b",
         "uniformityOnsetTime": 36,
         "depression_score": 10,
         "anxiety_score": 41,
         "_deepnote_index_column": 6102
        },
        {
         "Unnamed: 0": 6103,
         "Participant": 469,
         "Stimulus": 10,
         "Condition": "b",
         "uniformityOnsetTime": 572,
         "depression_score": 10,
         "anxiety_score": 41,
         "_deepnote_index_column": 6103
        },
        {
         "Unnamed: 0": 6104,
         "Participant": 469,
         "Stimulus": 5,
         "Condition": "a",
         "uniformityOnsetTime": 980,
         "depression_score": 10,
         "anxiety_score": 41,
         "_deepnote_index_column": 6104
        },
        {
         "Unnamed: 0": 6105,
         "Participant": 469,
         "Stimulus": 5,
         "Condition": "a",
         "uniformityOnsetTime": 528,
         "depression_score": 10,
         "anxiety_score": 41,
         "_deepnote_index_column": 6105
        },
        {
         "Unnamed: 0": 6106,
         "Participant": 469,
         "Stimulus": 13,
         "Condition": "b",
         "uniformityOnsetTime": 441.0000000001164,
         "depression_score": 10,
         "anxiety_score": 41,
         "_deepnote_index_column": 6106
        },
        {
         "Unnamed: 0": 6107,
         "Participant": 469,
         "Stimulus": 14,
         "Condition": "a",
         "uniformityOnsetTime": 1251,
         "depression_score": 10,
         "anxiety_score": 41,
         "_deepnote_index_column": 6107
        },
        {
         "Unnamed: 0": 6108,
         "Participant": 469,
         "Stimulus": 6,
         "Condition": "b",
         "uniformityOnsetTime": 1038,
         "depression_score": 10,
         "anxiety_score": 41,
         "_deepnote_index_column": 6108
        },
        {
         "Unnamed: 0": 6109,
         "Participant": 469,
         "Stimulus": 12,
         "Condition": "a",
         "uniformityOnsetTime": 92,
         "depression_score": 10,
         "anxiety_score": 41,
         "_deepnote_index_column": 6109
        },
        {
         "Unnamed: 0": 6110,
         "Participant": 469,
         "Stimulus": 12,
         "Condition": "b",
         "uniformityOnsetTime": 37,
         "depression_score": 10,
         "anxiety_score": 41,
         "_deepnote_index_column": 6110
        },
        {
         "Unnamed: 0": 6111,
         "Participant": 469,
         "Stimulus": 4,
         "Condition": "b",
         "uniformityOnsetTime": 458,
         "depression_score": 10,
         "anxiety_score": 41,
         "_deepnote_index_column": 6111
        },
        {
         "Unnamed: 0": 6112,
         "Participant": 469,
         "Stimulus": 6,
         "Condition": "a",
         "uniformityOnsetTime": 694,
         "depression_score": 10,
         "anxiety_score": 41,
         "_deepnote_index_column": 6112
        },
        {
         "Unnamed: 0": 6113,
         "Participant": 469,
         "Stimulus": 13,
         "Condition": "a",
         "uniformityOnsetTime": 1040,
         "depression_score": 10,
         "anxiety_score": 41,
         "_deepnote_index_column": 6113
        },
        {
         "Unnamed: 0": 6114,
         "Participant": 469,
         "Stimulus": 8,
         "Condition": "b",
         "uniformityOnsetTime": 837,
         "depression_score": 10,
         "anxiety_score": 41,
         "_deepnote_index_column": 6114
        },
        {
         "Unnamed: 0": 6115,
         "Participant": 469,
         "Stimulus": 4,
         "Condition": "b",
         "uniformityOnsetTime": 412,
         "depression_score": 10,
         "anxiety_score": 41,
         "_deepnote_index_column": 6115
        },
        {
         "Unnamed: 0": 6116,
         "Participant": 469,
         "Stimulus": 5,
         "Condition": "b",
         "uniformityOnsetTime": 350.0000000001164,
         "depression_score": 10,
         "anxiety_score": 41,
         "_deepnote_index_column": 6116
        },
        {
         "Unnamed: 0": 6117,
         "Participant": 469,
         "Stimulus": 9,
         "Condition": "a",
         "uniformityOnsetTime": 313,
         "depression_score": 10,
         "anxiety_score": 41,
         "_deepnote_index_column": 6117
        },
        {
         "Unnamed: 0": 6118,
         "Participant": 469,
         "Stimulus": 5,
         "Condition": "a",
         "uniformityOnsetTime": 68,
         "depression_score": 10,
         "anxiety_score": 41,
         "_deepnote_index_column": 6118
        },
        {
         "Unnamed: 0": 6119,
         "Participant": 469,
         "Stimulus": 6,
         "Condition": "b",
         "uniformityOnsetTime": 611,
         "depression_score": 10,
         "anxiety_score": 41,
         "_deepnote_index_column": 6119
        },
        {
         "Unnamed: 0": 6120,
         "Participant": 469,
         "Stimulus": 7,
         "Condition": "b",
         "uniformityOnsetTime": 89.00000000011642,
         "depression_score": 10,
         "anxiety_score": 41,
         "_deepnote_index_column": 6120
        },
        {
         "Unnamed: 0": 6121,
         "Participant": 469,
         "Stimulus": 7,
         "Condition": "a",
         "uniformityOnsetTime": 377,
         "depression_score": 10,
         "anxiety_score": 41,
         "_deepnote_index_column": 6121
        },
        {
         "Unnamed: 0": 6122,
         "Participant": 469,
         "Stimulus": 11,
         "Condition": "b",
         "uniformityOnsetTime": 136,
         "depression_score": 10,
         "anxiety_score": 41,
         "_deepnote_index_column": 6122
        },
        {
         "Unnamed: 0": 6123,
         "Participant": 469,
         "Stimulus": 12,
         "Condition": "a",
         "uniformityOnsetTime": 415,
         "depression_score": 10,
         "anxiety_score": 41,
         "_deepnote_index_column": 6123
        },
        {
         "Unnamed: 0": 6124,
         "Participant": 469,
         "Stimulus": 15,
         "Condition": "a",
         "uniformityOnsetTime": 373,
         "depression_score": 10,
         "anxiety_score": 41,
         "_deepnote_index_column": 6124
        },
        {
         "Unnamed: 0": 6125,
         "Participant": 469,
         "Stimulus": 11,
         "Condition": "b",
         "uniformityOnsetTime": 302,
         "depression_score": 10,
         "anxiety_score": 41,
         "_deepnote_index_column": 6125
        },
        {
         "Unnamed: 0": 6126,
         "Participant": 469,
         "Stimulus": 7,
         "Condition": "a",
         "uniformityOnsetTime": 609,
         "depression_score": 10,
         "anxiety_score": 41,
         "_deepnote_index_column": 6126
        },
        {
         "Unnamed: 0": 6127,
         "Participant": 469,
         "Stimulus": 6,
         "Condition": "b",
         "uniformityOnsetTime": 128,
         "depression_score": 10,
         "anxiety_score": 41,
         "_deepnote_index_column": 6127
        },
        {
         "Unnamed: 0": 6128,
         "Participant": 469,
         "Stimulus": 8,
         "Condition": "a",
         "uniformityOnsetTime": 93,
         "depression_score": 10,
         "anxiety_score": 41,
         "_deepnote_index_column": 6128
        },
        {
         "Unnamed: 0": 6129,
         "Participant": 469,
         "Stimulus": 10,
         "Condition": "a",
         "uniformityOnsetTime": 358,
         "depression_score": 10,
         "anxiety_score": 41,
         "_deepnote_index_column": 6129
        },
        {
         "Unnamed: 0": 6130,
         "Participant": 469,
         "Stimulus": 9,
         "Condition": "a",
         "uniformityOnsetTime": 1071,
         "depression_score": 10,
         "anxiety_score": 41,
         "_deepnote_index_column": 6130
        },
        {
         "Unnamed: 0": 6131,
         "Participant": 469,
         "Stimulus": 14,
         "Condition": "b",
         "uniformityOnsetTime": 586,
         "depression_score": 10,
         "anxiety_score": 41,
         "_deepnote_index_column": 6131
        },
        {
         "Unnamed: 0": 6132,
         "Participant": 469,
         "Stimulus": 5,
         "Condition": "b",
         "uniformityOnsetTime": 399,
         "depression_score": 10,
         "anxiety_score": 41,
         "_deepnote_index_column": 6132
        },
        {
         "Unnamed: 0": 6133,
         "Participant": 469,
         "Stimulus": 4,
         "Condition": "b",
         "uniformityOnsetTime": 540,
         "depression_score": 10,
         "anxiety_score": 41,
         "_deepnote_index_column": 6133
        },
        {
         "Unnamed: 0": 6134,
         "Participant": 469,
         "Stimulus": 11,
         "Condition": "a",
         "uniformityOnsetTime": 1269,
         "depression_score": 10,
         "anxiety_score": 41,
         "_deepnote_index_column": 6134
        },
        {
         "Unnamed: 0": 6135,
         "Participant": 469,
         "Stimulus": 7,
         "Condition": "b",
         "uniformityOnsetTime": 203.0000000001164,
         "depression_score": 10,
         "anxiety_score": 41,
         "_deepnote_index_column": 6135
        },
        {
         "Unnamed: 0": 6136,
         "Participant": 469,
         "Stimulus": 15,
         "Condition": "a",
         "uniformityOnsetTime": 225,
         "depression_score": 10,
         "anxiety_score": 41,
         "_deepnote_index_column": 6136
        },
        {
         "Unnamed: 0": 6137,
         "Participant": 469,
         "Stimulus": 14,
         "Condition": "b",
         "uniformityOnsetTime": 2070,
         "depression_score": 10,
         "anxiety_score": 41,
         "_deepnote_index_column": 6137
        },
        {
         "Unnamed: 0": 6138,
         "Participant": 469,
         "Stimulus": 13,
         "Condition": "b",
         "uniformityOnsetTime": 212,
         "depression_score": 10,
         "anxiety_score": 41,
         "_deepnote_index_column": 6138
        },
        {
         "Unnamed: 0": 6139,
         "Participant": 469,
         "Stimulus": 13,
         "Condition": "b",
         "uniformityOnsetTime": 109.00000000011642,
         "depression_score": 10,
         "anxiety_score": 41,
         "_deepnote_index_column": 6139
        }
       ]
      },
      "text/plain": "      Unnamed: 0  Participant  Stimulus Condition  uniformityOnsetTime  \\\n0              0            0        13         a              7167.20   \n1              1            0         7         b              5320.98   \n2              2            0        14         a             16394.78   \n3              3            0         8         b              3320.54   \n4              4            0        10         b              7111.90   \n...          ...          ...       ...       ...                  ...   \n6135        6135          469         7         b               203.00   \n6136        6136          469        15         a               225.00   \n6137        6137          469        14         b              2070.00   \n6138        6138          469        13         b               212.00   \n6139        6139          469        13         b               109.00   \n\n      depression_score  anxiety_score  \n0                    1           39.0  \n1                    1           39.0  \n2                    1           39.0  \n3                    1           39.0  \n4                    1           39.0  \n...                ...            ...  \n6135                10           41.0  \n6136                10           41.0  \n6137                10           41.0  \n6138                10           41.0  \n6139                10           41.0  \n\n[6140 rows x 7 columns]",
      "text/html": "<div>\n<style scoped>\n    .dataframe tbody tr th:only-of-type {\n        vertical-align: middle;\n    }\n\n    .dataframe tbody tr th {\n        vertical-align: top;\n    }\n\n    .dataframe thead th {\n        text-align: right;\n    }\n</style>\n<table border=\"1\" class=\"dataframe\">\n  <thead>\n    <tr style=\"text-align: right;\">\n      <th></th>\n      <th>Unnamed: 0</th>\n      <th>Participant</th>\n      <th>Stimulus</th>\n      <th>Condition</th>\n      <th>uniformityOnsetTime</th>\n      <th>depression_score</th>\n      <th>anxiety_score</th>\n    </tr>\n  </thead>\n  <tbody>\n    <tr>\n      <th>0</th>\n      <td>0</td>\n      <td>0</td>\n      <td>13</td>\n      <td>a</td>\n      <td>7167.20</td>\n      <td>1</td>\n      <td>39.0</td>\n    </tr>\n    <tr>\n      <th>1</th>\n      <td>1</td>\n      <td>0</td>\n      <td>7</td>\n      <td>b</td>\n      <td>5320.98</td>\n      <td>1</td>\n      <td>39.0</td>\n    </tr>\n    <tr>\n      <th>2</th>\n      <td>2</td>\n      <td>0</td>\n      <td>14</td>\n      <td>a</td>\n      <td>16394.78</td>\n      <td>1</td>\n      <td>39.0</td>\n    </tr>\n    <tr>\n      <th>3</th>\n      <td>3</td>\n      <td>0</td>\n      <td>8</td>\n      <td>b</td>\n      <td>3320.54</td>\n      <td>1</td>\n      <td>39.0</td>\n    </tr>\n    <tr>\n      <th>4</th>\n      <td>4</td>\n      <td>0</td>\n      <td>10</td>\n      <td>b</td>\n      <td>7111.90</td>\n      <td>1</td>\n      <td>39.0</td>\n    </tr>\n    <tr>\n      <th>...</th>\n      <td>...</td>\n      <td>...</td>\n      <td>...</td>\n      <td>...</td>\n      <td>...</td>\n      <td>...</td>\n      <td>...</td>\n    </tr>\n    <tr>\n      <th>6135</th>\n      <td>6135</td>\n      <td>469</td>\n      <td>7</td>\n      <td>b</td>\n      <td>203.00</td>\n      <td>10</td>\n      <td>41.0</td>\n    </tr>\n    <tr>\n      <th>6136</th>\n      <td>6136</td>\n      <td>469</td>\n      <td>15</td>\n      <td>a</td>\n      <td>225.00</td>\n      <td>10</td>\n      <td>41.0</td>\n    </tr>\n    <tr>\n      <th>6137</th>\n      <td>6137</td>\n      <td>469</td>\n      <td>14</td>\n      <td>b</td>\n      <td>2070.00</td>\n      <td>10</td>\n      <td>41.0</td>\n    </tr>\n    <tr>\n      <th>6138</th>\n      <td>6138</td>\n      <td>469</td>\n      <td>13</td>\n      <td>b</td>\n      <td>212.00</td>\n      <td>10</td>\n      <td>41.0</td>\n    </tr>\n    <tr>\n      <th>6139</th>\n      <td>6139</td>\n      <td>469</td>\n      <td>13</td>\n      <td>b</td>\n      <td>109.00</td>\n      <td>10</td>\n      <td>41.0</td>\n    </tr>\n  </tbody>\n</table>\n<p>6140 rows × 7 columns</p>\n</div>"
     },
     "metadata": {}
    }
   ],
   "execution_count": 4
  },
  {
   "cell_type": "code",
   "source": "clean_df_a = clean_df[clean_df['Condition']=='a']\nclean_df_b = clean_df[clean_df['Condition']=='b']",
   "metadata": {
    "tags": [],
    "cell_id": "00003-9ebc6bfc-1a32-4df9-b0e8-92ceca1f5cd5",
    "deepnote_to_be_reexecuted": false,
    "source_hash": "123792a6",
    "execution_start": 1626941820450,
    "execution_millis": 4,
    "deepnote_cell_type": "code"
   },
   "outputs": [],
   "execution_count": 13
  },
  {
   "cell_type": "code",
   "source": "clean_df_a",
   "metadata": {
    "tags": [],
    "cell_id": "00004-1f69bd47-8381-4070-8598-10fe50aa7f52",
    "deepnote_to_be_reexecuted": false,
    "source_hash": "fc0389cd",
    "execution_start": 1626941807454,
    "execution_millis": 81,
    "deepnote_cell_type": "code"
   },
   "outputs": [
    {
     "output_type": "execute_result",
     "execution_count": 11,
     "data": {
      "application/vnd.deepnote.dataframe.v2+json": {
       "row_count": 2917,
       "column_count": 7,
       "columns": [
        {
         "name": "Unnamed: 0",
         "dtype": "int64",
         "stats": {
          "unique_count": 2917,
          "nan_count": 0,
          "min": "0",
          "max": "6136",
          "histogram": [
           {
            "bin_start": 0,
            "bin_end": 613.6,
            "count": 290
           },
           {
            "bin_start": 613.6,
            "bin_end": 1227.2,
            "count": 295
           },
           {
            "bin_start": 1227.2,
            "bin_end": 1840.8000000000002,
            "count": 304
           },
           {
            "bin_start": 1840.8000000000002,
            "bin_end": 2454.4,
            "count": 295
           },
           {
            "bin_start": 2454.4,
            "bin_end": 3068,
            "count": 263
           },
           {
            "bin_start": 3068,
            "bin_end": 3681.6000000000004,
            "count": 283
           },
           {
            "bin_start": 3681.6000000000004,
            "bin_end": 4295.2,
            "count": 295
           },
           {
            "bin_start": 4295.2,
            "bin_end": 4908.8,
            "count": 300
           },
           {
            "bin_start": 4908.8,
            "bin_end": 5522.400000000001,
            "count": 297
           },
           {
            "bin_start": 5522.400000000001,
            "bin_end": 6136,
            "count": 295
           }
          ]
         }
        },
        {
         "name": "Participant",
         "dtype": "int64",
         "stats": {
          "unique_count": 354,
          "nan_count": 0,
          "min": "0",
          "max": "469",
          "histogram": [
           {
            "bin_start": 0,
            "bin_end": 46.9,
            "count": 239
           },
           {
            "bin_start": 46.9,
            "bin_end": 93.8,
            "count": 425
           },
           {
            "bin_start": 93.8,
            "bin_end": 140.7,
            "count": 282
           },
           {
            "bin_start": 140.7,
            "bin_end": 187.6,
            "count": 311
           },
           {
            "bin_start": 187.6,
            "bin_end": 234.5,
            "count": 241
           },
           {
            "bin_start": 234.5,
            "bin_end": 281.4,
            "count": 348
           },
           {
            "bin_start": 281.4,
            "bin_end": 328.3,
            "count": 184
           },
           {
            "bin_start": 328.3,
            "bin_end": 375.2,
            "count": 363
           },
           {
            "bin_start": 375.2,
            "bin_end": 422.09999999999997,
            "count": 206
           },
           {
            "bin_start": 422.09999999999997,
            "bin_end": 469,
            "count": 318
           }
          ]
         }
        },
        {
         "name": "Stimulus",
         "dtype": "int64",
         "stats": {
          "unique_count": 12,
          "nan_count": 0,
          "min": "4",
          "max": "15",
          "histogram": [
           {
            "bin_start": 4,
            "bin_end": 5.1,
            "count": 376
           },
           {
            "bin_start": 5.1,
            "bin_end": 6.2,
            "count": 222
           },
           {
            "bin_start": 6.2,
            "bin_end": 7.300000000000001,
            "count": 256
           },
           {
            "bin_start": 7.300000000000001,
            "bin_end": 8.4,
            "count": 259
           },
           {
            "bin_start": 8.4,
            "bin_end": 9.5,
            "count": 205
           },
           {
            "bin_start": 9.5,
            "bin_end": 10.600000000000001,
            "count": 273
           },
           {
            "bin_start": 10.600000000000001,
            "bin_end": 11.700000000000001,
            "count": 257
           },
           {
            "bin_start": 11.700000000000001,
            "bin_end": 12.8,
            "count": 272
           },
           {
            "bin_start": 12.8,
            "bin_end": 13.9,
            "count": 265
           },
           {
            "bin_start": 13.9,
            "bin_end": 15,
            "count": 532
           }
          ]
         }
        },
        {
         "name": "Condition",
         "dtype": "object",
         "stats": {
          "unique_count": 1,
          "nan_count": 0,
          "categories": [
           {
            "name": "a",
            "count": 2917
           }
          ]
         }
        },
        {
         "name": "uniformityOnsetTime",
         "dtype": "float64",
         "stats": {
          "unique_count": 2905,
          "nan_count": 0,
          "min": "0.7049999642185867",
          "max": "17368.0",
          "histogram": [
           {
            "bin_start": 0.7049999642185867,
            "bin_end": 1737.4344999677967,
            "count": 1526
           },
           {
            "bin_start": 1737.4344999677967,
            "bin_end": 3474.163999971375,
            "count": 532
           },
           {
            "bin_start": 3474.163999971375,
            "bin_end": 5210.893499974953,
            "count": 333
           },
           {
            "bin_start": 5210.893499974953,
            "bin_end": 6947.622999978531,
            "count": 197
           },
           {
            "bin_start": 6947.622999978531,
            "bin_end": 8684.35249998211,
            "count": 108
           },
           {
            "bin_start": 8684.35249998211,
            "bin_end": 10421.081999985687,
            "count": 88
           },
           {
            "bin_start": 10421.081999985687,
            "bin_end": 12157.811499989266,
            "count": 54
           },
           {
            "bin_start": 12157.811499989266,
            "bin_end": 13894.540999992843,
            "count": 45
           },
           {
            "bin_start": 13894.540999992843,
            "bin_end": 15631.27049999642,
            "count": 22
           },
           {
            "bin_start": 15631.27049999642,
            "bin_end": 17368,
            "count": 12
           }
          ]
         }
        },
        {
         "name": "depression_score",
         "dtype": "int64",
         "stats": {
          "unique_count": 36,
          "nan_count": 0,
          "min": "0",
          "max": "49",
          "histogram": [
           {
            "bin_start": 0,
            "bin_end": 4.9,
            "count": 1161
           },
           {
            "bin_start": 4.9,
            "bin_end": 9.8,
            "count": 837
           },
           {
            "bin_start": 9.8,
            "bin_end": 14.700000000000001,
            "count": 399
           },
           {
            "bin_start": 14.700000000000001,
            "bin_end": 19.6,
            "count": 203
           },
           {
            "bin_start": 19.6,
            "bin_end": 24.5,
            "count": 153
           },
           {
            "bin_start": 24.5,
            "bin_end": 29.400000000000002,
            "count": 94
           },
           {
            "bin_start": 29.400000000000002,
            "bin_end": 34.300000000000004,
            "count": 51
           },
           {
            "bin_start": 34.300000000000004,
            "bin_end": 39.2,
            "count": 9
           },
           {
            "bin_start": 39.2,
            "bin_end": 44.1,
            "count": 0
           },
           {
            "bin_start": 44.1,
            "bin_end": 49,
            "count": 10
           }
          ]
         }
        },
        {
         "name": "anxiety_score",
         "dtype": "float64",
         "stats": {
          "unique_count": 38,
          "nan_count": 97,
          "min": "21.0",
          "max": "62.0",
          "histogram": [
           {
            "bin_start": 21,
            "bin_end": 25.1,
            "count": 387
           },
           {
            "bin_start": 25.1,
            "bin_end": 29.2,
            "count": 426
           },
           {
            "bin_start": 29.2,
            "bin_end": 33.3,
            "count": 625
           },
           {
            "bin_start": 33.3,
            "bin_end": 37.4,
            "count": 389
           },
           {
            "bin_start": 37.4,
            "bin_end": 41.5,
            "count": 277
           },
           {
            "bin_start": 41.5,
            "bin_end": 45.599999999999994,
            "count": 348
           },
           {
            "bin_start": 45.599999999999994,
            "bin_end": 49.699999999999996,
            "count": 231
           },
           {
            "bin_start": 49.699999999999996,
            "bin_end": 53.8,
            "count": 71
           },
           {
            "bin_start": 53.8,
            "bin_end": 57.9,
            "count": 51
           },
           {
            "bin_start": 57.9,
            "bin_end": 62,
            "count": 15
           }
          ]
         }
        },
        {
         "name": "_deepnote_index_column",
         "dtype": "int64"
        }
       ],
       "rows_top": [
        {
         "Unnamed: 0": 0,
         "Participant": 0,
         "Stimulus": 13,
         "Condition": "a",
         "uniformityOnsetTime": 7167.200000000012,
         "depression_score": 1,
         "anxiety_score": 39,
         "_deepnote_index_column": 0
        },
        {
         "Unnamed: 0": 2,
         "Participant": 0,
         "Stimulus": 14,
         "Condition": "a",
         "uniformityOnsetTime": 16394.780000000028,
         "depression_score": 1,
         "anxiety_score": 39,
         "_deepnote_index_column": 2
        },
        {
         "Unnamed: 0": 6,
         "Participant": 0,
         "Stimulus": 7,
         "Condition": "a",
         "uniformityOnsetTime": 10435.359999999986,
         "depression_score": 1,
         "anxiety_score": 39,
         "_deepnote_index_column": 6
        },
        {
         "Unnamed: 0": 7,
         "Participant": 0,
         "Stimulus": 8,
         "Condition": "a",
         "uniformityOnsetTime": 1036.6199999999951,
         "depression_score": 1,
         "anxiety_score": 39,
         "_deepnote_index_column": 7
        },
        {
         "Unnamed: 0": 10,
         "Participant": 1,
         "Stimulus": 13,
         "Condition": "a",
         "uniformityOnsetTime": 4186.859999999986,
         "depression_score": 10,
         "anxiety_score": 39,
         "_deepnote_index_column": 10
        },
        {
         "Unnamed: 0": 12,
         "Participant": 1,
         "Stimulus": 8,
         "Condition": "a",
         "uniformityOnsetTime": 3677.359999999986,
         "depression_score": 10,
         "anxiety_score": 39,
         "_deepnote_index_column": 12
        },
        {
         "Unnamed: 0": 13,
         "Participant": 1,
         "Stimulus": 8,
         "Condition": "a",
         "uniformityOnsetTime": 1255.1199999999951,
         "depression_score": 10,
         "anxiety_score": 39,
         "_deepnote_index_column": 13
        },
        {
         "Unnamed: 0": 14,
         "Participant": 1,
         "Stimulus": 6,
         "Condition": "a",
         "uniformityOnsetTime": 674.7800000000279,
         "depression_score": 10,
         "anxiety_score": 39,
         "_deepnote_index_column": 14
        },
        {
         "Unnamed: 0": 18,
         "Participant": 1,
         "Stimulus": 10,
         "Condition": "a",
         "uniformityOnsetTime": 2585.640000000014,
         "depression_score": 10,
         "anxiety_score": 39,
         "_deepnote_index_column": 18
        },
        {
         "Unnamed: 0": 23,
         "Participant": 3,
         "Stimulus": 12,
         "Condition": "a",
         "uniformityOnsetTime": 112.4710000003688,
         "depression_score": 22,
         "anxiety_score": 47,
         "_deepnote_index_column": 23
        },
        {
         "Unnamed: 0": 24,
         "Participant": 3,
         "Stimulus": 7,
         "Condition": "a",
         "uniformityOnsetTime": 98.60300000035204,
         "depression_score": 22,
         "anxiety_score": 47,
         "_deepnote_index_column": 24
        },
        {
         "Unnamed: 0": 29,
         "Participant": 3,
         "Stimulus": 6,
         "Condition": "a",
         "uniformityOnsetTime": 27.10600000037812,
         "depression_score": 22,
         "anxiety_score": 47,
         "_deepnote_index_column": 29
        },
        {
         "Unnamed: 0": 30,
         "Participant": 3,
         "Stimulus": 9,
         "Condition": "a",
         "uniformityOnsetTime": 1013.4260000002104,
         "depression_score": 22,
         "anxiety_score": 47,
         "_deepnote_index_column": 30
        },
        {
         "Unnamed: 0": 33,
         "Participant": 3,
         "Stimulus": 15,
         "Condition": "a",
         "uniformityOnsetTime": 478.44800000009127,
         "depression_score": 22,
         "anxiety_score": 47,
         "_deepnote_index_column": 33
        },
        {
         "Unnamed: 0": 34,
         "Participant": 3,
         "Stimulus": 5,
         "Condition": "a",
         "uniformityOnsetTime": 402.2470000004396,
         "depression_score": 22,
         "anxiety_score": 47,
         "_deepnote_index_column": 34
        },
        {
         "Unnamed: 0": 35,
         "Participant": 3,
         "Stimulus": 8,
         "Condition": "a",
         "uniformityOnsetTime": 45.98000000021421,
         "depression_score": 22,
         "anxiety_score": 47,
         "_deepnote_index_column": 35
        },
        {
         "Unnamed: 0": 37,
         "Participant": 3,
         "Stimulus": 15,
         "Condition": "a",
         "uniformityOnsetTime": 191.02300000027756,
         "depression_score": 22,
         "anxiety_score": 47,
         "_deepnote_index_column": 37
        },
        {
         "Unnamed: 0": 38,
         "Participant": 3,
         "Stimulus": 9,
         "Condition": "a",
         "uniformityOnsetTime": 325.7970000004861,
         "depression_score": 22,
         "anxiety_score": 47,
         "_deepnote_index_column": 38
        },
        {
         "Unnamed: 0": 41,
         "Participant": 3,
         "Stimulus": 11,
         "Condition": "a",
         "uniformityOnsetTime": 896.00800000038,
         "depression_score": 22,
         "anxiety_score": 47,
         "_deepnote_index_column": 41
        },
        {
         "Unnamed: 0": 47,
         "Participant": 4,
         "Stimulus": 4,
         "Condition": "a",
         "uniformityOnsetTime": 614.9139999761246,
         "depression_score": 20,
         "anxiety_score": 46,
         "_deepnote_index_column": 47
        },
        {
         "Unnamed: 0": 48,
         "Participant": 5,
         "Stimulus": 7,
         "Condition": "a",
         "uniformityOnsetTime": 4970.847000000009,
         "depression_score": 7,
         "anxiety_score": 36,
         "_deepnote_index_column": 48
        },
        {
         "Unnamed: 0": 49,
         "Participant": 5,
         "Stimulus": 11,
         "Condition": "a",
         "uniformityOnsetTime": 1253.3700000357348,
         "depression_score": 7,
         "anxiety_score": 36,
         "_deepnote_index_column": 49
        },
        {
         "Unnamed: 0": 52,
         "Participant": 6,
         "Stimulus": 7,
         "Condition": "a",
         "uniformityOnsetTime": 32.94000000000233,
         "depression_score": 3,
         "anxiety_score": 28,
         "_deepnote_index_column": 52
        },
        {
         "Unnamed: 0": 56,
         "Participant": 6,
         "Stimulus": 14,
         "Condition": "a",
         "uniformityOnsetTime": 711.8399999999965,
         "depression_score": 3,
         "anxiety_score": 28,
         "_deepnote_index_column": 56
        },
        {
         "Unnamed: 0": 57,
         "Participant": 6,
         "Stimulus": 12,
         "Condition": "a",
         "uniformityOnsetTime": 810.9200000000128,
         "depression_score": 3,
         "anxiety_score": 28,
         "_deepnote_index_column": 57
        },
        {
         "Unnamed: 0": 58,
         "Participant": 6,
         "Stimulus": 13,
         "Condition": "a",
         "uniformityOnsetTime": 6819.720000000001,
         "depression_score": 3,
         "anxiety_score": 28,
         "_deepnote_index_column": 58
        },
        {
         "Unnamed: 0": 59,
         "Participant": 6,
         "Stimulus": 11,
         "Condition": "a",
         "uniformityOnsetTime": 13552.059999999998,
         "depression_score": 3,
         "anxiety_score": 28,
         "_deepnote_index_column": 59
        },
        {
         "Unnamed: 0": 61,
         "Participant": 6,
         "Stimulus": 8,
         "Condition": "a",
         "uniformityOnsetTime": 1655.2999999999884,
         "depression_score": 3,
         "anxiety_score": 28,
         "_deepnote_index_column": 61
        },
        {
         "Unnamed: 0": 64,
         "Participant": 8,
         "Stimulus": 11,
         "Condition": "a",
         "uniformityOnsetTime": 1654.548999999999,
         "depression_score": 0,
         "anxiety_score": 25,
         "_deepnote_index_column": 64
        },
        {
         "Unnamed: 0": 68,
         "Participant": 8,
         "Stimulus": 6,
         "Condition": "a",
         "uniformityOnsetTime": 432.8299999523442,
         "depression_score": 0,
         "anxiety_score": 25,
         "_deepnote_index_column": 68
        },
        {
         "Unnamed: 0": 69,
         "Participant": 10,
         "Stimulus": 4,
         "Condition": "a",
         "uniformityOnsetTime": 4949.874000000884,
         "depression_score": 25,
         "anxiety_score": 37,
         "_deepnote_index_column": 69
        },
        {
         "Unnamed: 0": 70,
         "Participant": 10,
         "Stimulus": 8,
         "Condition": "a",
         "uniformityOnsetTime": 9944.516999999934,
         "depression_score": 25,
         "anxiety_score": 37,
         "_deepnote_index_column": 70
        },
        {
         "Unnamed: 0": 71,
         "Participant": 10,
         "Stimulus": 12,
         "Condition": "a",
         "uniformityOnsetTime": 408.96299999789335,
         "depression_score": 25,
         "anxiety_score": 37,
         "_deepnote_index_column": 71
        },
        {
         "Unnamed: 0": 73,
         "Participant": 10,
         "Stimulus": 8,
         "Condition": "a",
         "uniformityOnsetTime": 15191.281999999132,
         "depression_score": 25,
         "anxiety_score": 37,
         "_deepnote_index_column": 73
        },
        {
         "Unnamed: 0": 74,
         "Participant": 10,
         "Stimulus": 14,
         "Condition": "a",
         "uniformityOnsetTime": 13622.266999998536,
         "depression_score": 25,
         "anxiety_score": 37,
         "_deepnote_index_column": 74
        },
        {
         "Unnamed: 0": 75,
         "Participant": 10,
         "Stimulus": 10,
         "Condition": "a",
         "uniformityOnsetTime": 8795.887999999337,
         "depression_score": 25,
         "anxiety_score": 37,
         "_deepnote_index_column": 75
        },
        {
         "Unnamed: 0": 82,
         "Participant": 11,
         "Stimulus": 11,
         "Condition": "a",
         "uniformityOnsetTime": 8466.928000005952,
         "depression_score": 2,
         "anxiety_score": 24,
         "_deepnote_index_column": 82
        },
        {
         "Unnamed: 0": 85,
         "Participant": 13,
         "Stimulus": 8,
         "Condition": "a",
         "uniformityOnsetTime": 247.34200001182035,
         "depression_score": 5,
         "anxiety_score": 26,
         "_deepnote_index_column": 85
        },
        {
         "Unnamed: 0": 86,
         "Participant": 14,
         "Stimulus": 8,
         "Condition": "a",
         "uniformityOnsetTime": 595.9309999761754,
         "depression_score": 7,
         "anxiety_score": 47,
         "_deepnote_index_column": 86
        },
        {
         "Unnamed: 0": 88,
         "Participant": 14,
         "Stimulus": 15,
         "Condition": "a",
         "uniformityOnsetTime": 168.52599997614743,
         "depression_score": 7,
         "anxiety_score": 47,
         "_deepnote_index_column": 88
        },
        {
         "Unnamed: 0": 89,
         "Participant": 14,
         "Stimulus": 5,
         "Condition": "a",
         "uniformityOnsetTime": 2078.682999976154,
         "depression_score": 7,
         "anxiety_score": 47,
         "_deepnote_index_column": 89
        },
        {
         "Unnamed: 0": 91,
         "Participant": 15,
         "Stimulus": 5,
         "Condition": "a",
         "uniformityOnsetTime": 11082.955000000016,
         "depression_score": 8,
         "anxiety_score": 30,
         "_deepnote_index_column": 91
        },
        {
         "Unnamed: 0": 92,
         "Participant": 15,
         "Stimulus": 6,
         "Condition": "a",
         "uniformityOnsetTime": 833.6430000477121,
         "depression_score": 8,
         "anxiety_score": 30,
         "_deepnote_index_column": 92
        },
        {
         "Unnamed: 0": 94,
         "Participant": 15,
         "Stimulus": 11,
         "Condition": "a",
         "uniformityOnsetTime": 955.2080000476562,
         "depression_score": 8,
         "anxiety_score": 30,
         "_deepnote_index_column": 94
        },
        {
         "Unnamed: 0": 95,
         "Participant": 15,
         "Stimulus": 7,
         "Condition": "a",
         "uniformityOnsetTime": 3279.570999904652,
         "depression_score": 8,
         "anxiety_score": 30,
         "_deepnote_index_column": 95
        },
        {
         "Unnamed: 0": 96,
         "Participant": 15,
         "Stimulus": 8,
         "Condition": "a",
         "uniformityOnsetTime": 1232.1789999046596,
         "depression_score": 8,
         "anxiety_score": 30,
         "_deepnote_index_column": 96
        },
        {
         "Unnamed: 0": 98,
         "Participant": 15,
         "Stimulus": 6,
         "Condition": "a",
         "uniformityOnsetTime": 9268.226000000024,
         "depression_score": 8,
         "anxiety_score": 30,
         "_deepnote_index_column": 98
        },
        {
         "Unnamed: 0": 101,
         "Participant": 16,
         "Stimulus": 12,
         "Condition": "a",
         "uniformityOnsetTime": 544.1599999999744,
         "depression_score": 11,
         "anxiety_score": 45,
         "_deepnote_index_column": 101
        },
        {
         "Unnamed: 0": 102,
         "Participant": 16,
         "Stimulus": 6,
         "Condition": "a",
         "uniformityOnsetTime": 2717.359999999986,
         "depression_score": 11,
         "anxiety_score": 45,
         "_deepnote_index_column": 102
        },
        {
         "Unnamed: 0": 105,
         "Participant": 16,
         "Stimulus": 11,
         "Condition": "a",
         "uniformityOnsetTime": 521.2399999999907,
         "depression_score": 11,
         "anxiety_score": 45,
         "_deepnote_index_column": 105
        },
        {
         "Unnamed: 0": 106,
         "Participant": 16,
         "Stimulus": 7,
         "Condition": "a",
         "uniformityOnsetTime": 38.84000000002561,
         "depression_score": 11,
         "anxiety_score": 45,
         "_deepnote_index_column": 106
        },
        {
         "Unnamed: 0": 107,
         "Participant": 16,
         "Stimulus": 12,
         "Condition": "a",
         "uniformityOnsetTime": 1007.5,
         "depression_score": 11,
         "anxiety_score": 45,
         "_deepnote_index_column": 107
        },
        {
         "Unnamed: 0": 108,
         "Participant": 16,
         "Stimulus": 5,
         "Condition": "a",
         "uniformityOnsetTime": 303.679999999993,
         "depression_score": 11,
         "anxiety_score": 45,
         "_deepnote_index_column": 108
        },
        {
         "Unnamed: 0": 110,
         "Participant": 16,
         "Stimulus": 10,
         "Condition": "a",
         "uniformityOnsetTime": 212.7999999999884,
         "depression_score": 11,
         "anxiety_score": 45,
         "_deepnote_index_column": 110
        },
        {
         "Unnamed: 0": 111,
         "Participant": 16,
         "Stimulus": 7,
         "Condition": "a",
         "uniformityOnsetTime": 286.4600000000209,
         "depression_score": 11,
         "anxiety_score": 45,
         "_deepnote_index_column": 111
        },
        {
         "Unnamed: 0": 114,
         "Participant": 16,
         "Stimulus": 6,
         "Condition": "a",
         "uniformityOnsetTime": 49.9199999999837,
         "depression_score": 11,
         "anxiety_score": 45,
         "_deepnote_index_column": 114
        },
        {
         "Unnamed: 0": 116,
         "Participant": 16,
         "Stimulus": 5,
         "Condition": "a",
         "uniformityOnsetTime": 3077.079999999958,
         "depression_score": 11,
         "anxiety_score": 45,
         "_deepnote_index_column": 116
        },
        {
         "Unnamed: 0": 118,
         "Participant": 16,
         "Stimulus": 4,
         "Condition": "a",
         "uniformityOnsetTime": 709.2600000000093,
         "depression_score": 11,
         "anxiety_score": 45,
         "_deepnote_index_column": 118
        },
        {
         "Unnamed: 0": 120,
         "Participant": 16,
         "Stimulus": 13,
         "Condition": "a",
         "uniformityOnsetTime": 195.40000000002328,
         "depression_score": 11,
         "anxiety_score": 45,
         "_deepnote_index_column": 120
        },
        {
         "Unnamed: 0": 122,
         "Participant": 16,
         "Stimulus": 12,
         "Condition": "a",
         "uniformityOnsetTime": 296.9200000000419,
         "depression_score": 11,
         "anxiety_score": 45,
         "_deepnote_index_column": 122
        },
        {
         "Unnamed: 0": 125,
         "Participant": 16,
         "Stimulus": 11,
         "Condition": "a",
         "uniformityOnsetTime": 1370.3199999999488,
         "depression_score": 11,
         "anxiety_score": 45,
         "_deepnote_index_column": 125
        },
        {
         "Unnamed: 0": 126,
         "Participant": 16,
         "Stimulus": 11,
         "Condition": "a",
         "uniformityOnsetTime": 3158.2600000000093,
         "depression_score": 11,
         "anxiety_score": 45,
         "_deepnote_index_column": 126
        },
        {
         "Unnamed: 0": 127,
         "Participant": 16,
         "Stimulus": 7,
         "Condition": "a",
         "uniformityOnsetTime": 2660.8000000000466,
         "depression_score": 11,
         "anxiety_score": 45,
         "_deepnote_index_column": 127
        },
        {
         "Unnamed: 0": 130,
         "Participant": 16,
         "Stimulus": 10,
         "Condition": "a",
         "uniformityOnsetTime": 4078.5200000000186,
         "depression_score": 11,
         "anxiety_score": 45,
         "_deepnote_index_column": 130
        },
        {
         "Unnamed: 0": 131,
         "Participant": 16,
         "Stimulus": 9,
         "Condition": "a",
         "uniformityOnsetTime": 12778.680000000051,
         "depression_score": 11,
         "anxiety_score": 45,
         "_deepnote_index_column": 131
        },
        {
         "Unnamed: 0": 135,
         "Participant": 16,
         "Stimulus": 8,
         "Condition": "a",
         "uniformityOnsetTime": 222.69999999995343,
         "depression_score": 11,
         "anxiety_score": 45,
         "_deepnote_index_column": 135
        },
        {
         "Unnamed: 0": 139,
         "Participant": 16,
         "Stimulus": 9,
         "Condition": "a",
         "uniformityOnsetTime": 4643.719999999972,
         "depression_score": 11,
         "anxiety_score": 45,
         "_deepnote_index_column": 139
        },
        {
         "Unnamed: 0": 142,
         "Participant": 16,
         "Stimulus": 14,
         "Condition": "a",
         "uniformityOnsetTime": 770.1199999999953,
         "depression_score": 11,
         "anxiety_score": 45,
         "_deepnote_index_column": 142
        },
        {
         "Unnamed: 0": 143,
         "Participant": 16,
         "Stimulus": 14,
         "Condition": "a",
         "uniformityOnsetTime": 516.7399999999907,
         "depression_score": 11,
         "anxiety_score": 45,
         "_deepnote_index_column": 143
        },
        {
         "Unnamed: 0": 144,
         "Participant": 16,
         "Stimulus": 9,
         "Condition": "a",
         "uniformityOnsetTime": 6091.660000000033,
         "depression_score": 11,
         "anxiety_score": 45,
         "_deepnote_index_column": 144
        },
        {
         "Unnamed: 0": 146,
         "Participant": 16,
         "Stimulus": 15,
         "Condition": "a",
         "uniformityOnsetTime": 29.619999999995343,
         "depression_score": 11,
         "anxiety_score": 45,
         "_deepnote_index_column": 146
        }
       ],
       "rows_bottom": [
        {
         "Unnamed: 0": 6000,
         "Participant": 463,
         "Stimulus": 4,
         "Condition": "a",
         "uniformityOnsetTime": 6356.642999999982,
         "depression_score": 13,
         "anxiety_score": 40,
         "_deepnote_index_column": 6000
        },
        {
         "Unnamed: 0": 6001,
         "Participant": 464,
         "Stimulus": 4,
         "Condition": "a",
         "uniformityOnsetTime": 13.624999985506292,
         "depression_score": 3,
         "anxiety_score": 34,
         "_deepnote_index_column": 6001
        },
        {
         "Unnamed: 0": 6002,
         "Participant": 464,
         "Stimulus": 8,
         "Condition": "a",
         "uniformityOnsetTime": 69.25999998685438,
         "depression_score": 3,
         "anxiety_score": 34,
         "_deepnote_index_column": 6002
        },
        {
         "Unnamed: 0": 6004,
         "Participant": 464,
         "Stimulus": 13,
         "Condition": "a",
         "uniformityOnsetTime": 502.2589999847114,
         "depression_score": 3,
         "anxiety_score": 34,
         "_deepnote_index_column": 6004
        },
        {
         "Unnamed: 0": 6005,
         "Participant": 464,
         "Stimulus": 14,
         "Condition": "a",
         "uniformityOnsetTime": 5.836999995983206,
         "depression_score": 3,
         "anxiety_score": 34,
         "_deepnote_index_column": 6005
        },
        {
         "Unnamed: 0": 6006,
         "Participant": 464,
         "Stimulus": 11,
         "Condition": "a",
         "uniformityOnsetTime": 817.4179999954649,
         "depression_score": 3,
         "anxiety_score": 34,
         "_deepnote_index_column": 6006
        },
        {
         "Unnamed: 0": 6008,
         "Participant": 464,
         "Stimulus": 5,
         "Condition": "a",
         "uniformityOnsetTime": 2568.7949999920675,
         "depression_score": 3,
         "anxiety_score": 34,
         "_deepnote_index_column": 6008
        },
        {
         "Unnamed: 0": 6009,
         "Participant": 464,
         "Stimulus": 11,
         "Condition": "a",
         "uniformityOnsetTime": 3362.7060000011697,
         "depression_score": 3,
         "anxiety_score": 34,
         "_deepnote_index_column": 6009
        },
        {
         "Unnamed: 0": 6013,
         "Participant": 464,
         "Stimulus": 10,
         "Condition": "a",
         "uniformityOnsetTime": 4661.8889999924,
         "depression_score": 3,
         "anxiety_score": 34,
         "_deepnote_index_column": 6013
        },
        {
         "Unnamed: 0": 6014,
         "Participant": 464,
         "Stimulus": 14,
         "Condition": "a",
         "uniformityOnsetTime": 2974.99599998392,
         "depression_score": 3,
         "anxiety_score": 34,
         "_deepnote_index_column": 6014
        },
        {
         "Unnamed: 0": 6015,
         "Participant": 464,
         "Stimulus": 9,
         "Condition": "a",
         "uniformityOnsetTime": 9959.493999991391,
         "depression_score": 3,
         "anxiety_score": 34,
         "_deepnote_index_column": 6015
        },
        {
         "Unnamed: 0": 6020,
         "Participant": 465,
         "Stimulus": 5,
         "Condition": "a",
         "uniformityOnsetTime": 14.837999994051644,
         "depression_score": 10,
         "anxiety_score": 33,
         "_deepnote_index_column": 6020
        },
        {
         "Unnamed: 0": 6021,
         "Participant": 465,
         "Stimulus": 12,
         "Condition": "a",
         "uniformityOnsetTime": 564.8719999999739,
         "depression_score": 10,
         "anxiety_score": 33,
         "_deepnote_index_column": 6021
        },
        {
         "Unnamed: 0": 6023,
         "Participant": 465,
         "Stimulus": 6,
         "Condition": "a",
         "uniformityOnsetTime": 304.73799998802133,
         "depression_score": 10,
         "anxiety_score": 33,
         "_deepnote_index_column": 6023
        },
        {
         "Unnamed: 0": 6024,
         "Participant": 465,
         "Stimulus": 15,
         "Condition": "a",
         "uniformityOnsetTime": 7.488000000012107,
         "depression_score": 10,
         "anxiety_score": 33,
         "_deepnote_index_column": 6024
        },
        {
         "Unnamed: 0": 6026,
         "Participant": 465,
         "Stimulus": 4,
         "Condition": "a",
         "uniformityOnsetTime": 6845.579000000027,
         "depression_score": 10,
         "anxiety_score": 33,
         "_deepnote_index_column": 6026
        },
        {
         "Unnamed: 0": 6031,
         "Participant": 465,
         "Stimulus": 10,
         "Condition": "a",
         "uniformityOnsetTime": 4217.545999994036,
         "depression_score": 10,
         "anxiety_score": 33,
         "_deepnote_index_column": 6031
        },
        {
         "Unnamed: 0": 6032,
         "Participant": 465,
         "Stimulus": 9,
         "Condition": "a",
         "uniformityOnsetTime": 15935.481999988086,
         "depression_score": 10,
         "anxiety_score": 33,
         "_deepnote_index_column": 6032
        },
        {
         "Unnamed: 0": 6033,
         "Participant": 465,
         "Stimulus": 13,
         "Condition": "a",
         "uniformityOnsetTime": 2954.726999994018,
         "depression_score": 10,
         "anxiety_score": 33,
         "_deepnote_index_column": 6033
        },
        {
         "Unnamed: 0": 6035,
         "Participant": 465,
         "Stimulus": 8,
         "Condition": "a",
         "uniformityOnsetTime": 1790.3000000000466,
         "depression_score": 10,
         "anxiety_score": 33,
         "_deepnote_index_column": 6035
        },
        {
         "Unnamed: 0": 6036,
         "Participant": 465,
         "Stimulus": 14,
         "Condition": "a",
         "uniformityOnsetTime": 12901.35199998808,
         "depression_score": 10,
         "anxiety_score": 33,
         "_deepnote_index_column": 6036
        },
        {
         "Unnamed: 0": 6037,
         "Participant": 465,
         "Stimulus": 8,
         "Condition": "a",
         "uniformityOnsetTime": 5893.141999994055,
         "depression_score": 10,
         "anxiety_score": 33,
         "_deepnote_index_column": 6037
        },
        {
         "Unnamed: 0": 6039,
         "Participant": 465,
         "Stimulus": 15,
         "Condition": "a",
         "uniformityOnsetTime": 699.0130000000354,
         "depression_score": 10,
         "anxiety_score": 33,
         "_deepnote_index_column": 6039
        },
        {
         "Unnamed: 0": 6041,
         "Participant": 465,
         "Stimulus": 7,
         "Condition": "a",
         "uniformityOnsetTime": 11480.077999988103,
         "depression_score": 10,
         "anxiety_score": 33,
         "_deepnote_index_column": 6041
        },
        {
         "Unnamed: 0": 6048,
         "Participant": 467,
         "Stimulus": 7,
         "Condition": "a",
         "uniformityOnsetTime": 291.5599999999977,
         "depression_score": 3,
         "anxiety_score": 29,
         "_deepnote_index_column": 6048
        },
        {
         "Unnamed: 0": 6049,
         "Participant": 468,
         "Stimulus": 12,
         "Condition": "a",
         "uniformityOnsetTime": 542.7199999999721,
         "depression_score": 13,
         "anxiety_score": 41,
         "_deepnote_index_column": 6049
        },
        {
         "Unnamed: 0": 6053,
         "Participant": 468,
         "Stimulus": 15,
         "Condition": "a",
         "uniformityOnsetTime": 2885.2999999999884,
         "depression_score": 13,
         "anxiety_score": 41,
         "_deepnote_index_column": 6053
        },
        {
         "Unnamed: 0": 6055,
         "Participant": 468,
         "Stimulus": 12,
         "Condition": "a",
         "uniformityOnsetTime": 106.94000000000231,
         "depression_score": 13,
         "anxiety_score": 41,
         "_deepnote_index_column": 6055
        },
        {
         "Unnamed: 0": 6056,
         "Participant": 468,
         "Stimulus": 8,
         "Condition": "a",
         "uniformityOnsetTime": 3552.5800000000163,
         "depression_score": 13,
         "anxiety_score": 41,
         "_deepnote_index_column": 6056
        },
        {
         "Unnamed: 0": 6057,
         "Participant": 468,
         "Stimulus": 13,
         "Condition": "a",
         "uniformityOnsetTime": 6103.520000000019,
         "depression_score": 13,
         "anxiety_score": 41,
         "_deepnote_index_column": 6057
        },
        {
         "Unnamed: 0": 6058,
         "Participant": 468,
         "Stimulus": 14,
         "Condition": "a",
         "uniformityOnsetTime": 5421.799999999988,
         "depression_score": 13,
         "anxiety_score": 41,
         "_deepnote_index_column": 6058
        },
        {
         "Unnamed: 0": 6060,
         "Participant": 468,
         "Stimulus": 4,
         "Condition": "a",
         "uniformityOnsetTime": 9388.359999999986,
         "depression_score": 13,
         "anxiety_score": 41,
         "_deepnote_index_column": 6060
        },
        {
         "Unnamed: 0": 6062,
         "Participant": 468,
         "Stimulus": 10,
         "Condition": "a",
         "uniformityOnsetTime": 3142.619999999996,
         "depression_score": 13,
         "anxiety_score": 41,
         "_deepnote_index_column": 6062
        },
        {
         "Unnamed: 0": 6065,
         "Participant": 468,
         "Stimulus": 10,
         "Condition": "a",
         "uniformityOnsetTime": 5100.559999999998,
         "depression_score": 13,
         "anxiety_score": 41,
         "_deepnote_index_column": 6065
        },
        {
         "Unnamed: 0": 6066,
         "Participant": 468,
         "Stimulus": 8,
         "Condition": "a",
         "uniformityOnsetTime": 10435.840000000026,
         "depression_score": 13,
         "anxiety_score": 41,
         "_deepnote_index_column": 6066
        },
        {
         "Unnamed: 0": 6068,
         "Participant": 469,
         "Stimulus": 13,
         "Condition": "a",
         "uniformityOnsetTime": 1395,
         "depression_score": 10,
         "anxiety_score": 41,
         "_deepnote_index_column": 6068
        },
        {
         "Unnamed: 0": 6071,
         "Participant": 469,
         "Stimulus": 11,
         "Condition": "a",
         "uniformityOnsetTime": 253,
         "depression_score": 10,
         "anxiety_score": 41,
         "_deepnote_index_column": 6071
        },
        {
         "Unnamed: 0": 6073,
         "Participant": 469,
         "Stimulus": 13,
         "Condition": "a",
         "uniformityOnsetTime": 791,
         "depression_score": 10,
         "anxiety_score": 41,
         "_deepnote_index_column": 6073
        },
        {
         "Unnamed: 0": 6075,
         "Participant": 469,
         "Stimulus": 10,
         "Condition": "a",
         "uniformityOnsetTime": 291,
         "depression_score": 10,
         "anxiety_score": 41,
         "_deepnote_index_column": 6075
        },
        {
         "Unnamed: 0": 6078,
         "Participant": 469,
         "Stimulus": 6,
         "Condition": "a",
         "uniformityOnsetTime": 304,
         "depression_score": 10,
         "anxiety_score": 41,
         "_deepnote_index_column": 6078
        },
        {
         "Unnamed: 0": 6079,
         "Participant": 469,
         "Stimulus": 4,
         "Condition": "a",
         "uniformityOnsetTime": 508,
         "depression_score": 10,
         "anxiety_score": 41,
         "_deepnote_index_column": 6079
        },
        {
         "Unnamed: 0": 6082,
         "Participant": 469,
         "Stimulus": 11,
         "Condition": "a",
         "uniformityOnsetTime": 448,
         "depression_score": 10,
         "anxiety_score": 41,
         "_deepnote_index_column": 6082
        },
        {
         "Unnamed: 0": 6083,
         "Participant": 469,
         "Stimulus": 14,
         "Condition": "a",
         "uniformityOnsetTime": 688,
         "depression_score": 10,
         "anxiety_score": 41,
         "_deepnote_index_column": 6083
        },
        {
         "Unnamed: 0": 6085,
         "Participant": 469,
         "Stimulus": 12,
         "Condition": "a",
         "uniformityOnsetTime": 311,
         "depression_score": 10,
         "anxiety_score": 41,
         "_deepnote_index_column": 6085
        },
        {
         "Unnamed: 0": 6088,
         "Participant": 469,
         "Stimulus": 8,
         "Condition": "a",
         "uniformityOnsetTime": 179,
         "depression_score": 10,
         "anxiety_score": 41,
         "_deepnote_index_column": 6088
        },
        {
         "Unnamed: 0": 6089,
         "Participant": 469,
         "Stimulus": 10,
         "Condition": "a",
         "uniformityOnsetTime": 450,
         "depression_score": 10,
         "anxiety_score": 41,
         "_deepnote_index_column": 6089
        },
        {
         "Unnamed: 0": 6090,
         "Participant": 469,
         "Stimulus": 15,
         "Condition": "a",
         "uniformityOnsetTime": 359,
         "depression_score": 10,
         "anxiety_score": 41,
         "_deepnote_index_column": 6090
        },
        {
         "Unnamed: 0": 6091,
         "Participant": 469,
         "Stimulus": 9,
         "Condition": "a",
         "uniformityOnsetTime": 824,
         "depression_score": 10,
         "anxiety_score": 41,
         "_deepnote_index_column": 6091
        },
        {
         "Unnamed: 0": 6093,
         "Participant": 469,
         "Stimulus": 14,
         "Condition": "a",
         "uniformityOnsetTime": 141,
         "depression_score": 10,
         "anxiety_score": 41,
         "_deepnote_index_column": 6093
        },
        {
         "Unnamed: 0": 6096,
         "Participant": 469,
         "Stimulus": 7,
         "Condition": "a",
         "uniformityOnsetTime": 123.0000000000582,
         "depression_score": 10,
         "anxiety_score": 41,
         "_deepnote_index_column": 6096
        },
        {
         "Unnamed: 0": 6098,
         "Participant": 469,
         "Stimulus": 6,
         "Condition": "a",
         "uniformityOnsetTime": 176,
         "depression_score": 10,
         "anxiety_score": 41,
         "_deepnote_index_column": 6098
        },
        {
         "Unnamed: 0": 6099,
         "Participant": 469,
         "Stimulus": 8,
         "Condition": "a",
         "uniformityOnsetTime": 386,
         "depression_score": 10,
         "anxiety_score": 41,
         "_deepnote_index_column": 6099
        },
        {
         "Unnamed: 0": 6100,
         "Participant": 469,
         "Stimulus": 4,
         "Condition": "a",
         "uniformityOnsetTime": 615,
         "depression_score": 10,
         "anxiety_score": 41,
         "_deepnote_index_column": 6100
        },
        {
         "Unnamed: 0": 6101,
         "Participant": 469,
         "Stimulus": 4,
         "Condition": "a",
         "uniformityOnsetTime": 56,
         "depression_score": 10,
         "anxiety_score": 41,
         "_deepnote_index_column": 6101
        },
        {
         "Unnamed: 0": 6104,
         "Participant": 469,
         "Stimulus": 5,
         "Condition": "a",
         "uniformityOnsetTime": 980,
         "depression_score": 10,
         "anxiety_score": 41,
         "_deepnote_index_column": 6104
        },
        {
         "Unnamed: 0": 6105,
         "Participant": 469,
         "Stimulus": 5,
         "Condition": "a",
         "uniformityOnsetTime": 528,
         "depression_score": 10,
         "anxiety_score": 41,
         "_deepnote_index_column": 6105
        },
        {
         "Unnamed: 0": 6107,
         "Participant": 469,
         "Stimulus": 14,
         "Condition": "a",
         "uniformityOnsetTime": 1251,
         "depression_score": 10,
         "anxiety_score": 41,
         "_deepnote_index_column": 6107
        },
        {
         "Unnamed: 0": 6109,
         "Participant": 469,
         "Stimulus": 12,
         "Condition": "a",
         "uniformityOnsetTime": 92,
         "depression_score": 10,
         "anxiety_score": 41,
         "_deepnote_index_column": 6109
        },
        {
         "Unnamed: 0": 6112,
         "Participant": 469,
         "Stimulus": 6,
         "Condition": "a",
         "uniformityOnsetTime": 694,
         "depression_score": 10,
         "anxiety_score": 41,
         "_deepnote_index_column": 6112
        },
        {
         "Unnamed: 0": 6113,
         "Participant": 469,
         "Stimulus": 13,
         "Condition": "a",
         "uniformityOnsetTime": 1040,
         "depression_score": 10,
         "anxiety_score": 41,
         "_deepnote_index_column": 6113
        },
        {
         "Unnamed: 0": 6117,
         "Participant": 469,
         "Stimulus": 9,
         "Condition": "a",
         "uniformityOnsetTime": 313,
         "depression_score": 10,
         "anxiety_score": 41,
         "_deepnote_index_column": 6117
        },
        {
         "Unnamed: 0": 6118,
         "Participant": 469,
         "Stimulus": 5,
         "Condition": "a",
         "uniformityOnsetTime": 68,
         "depression_score": 10,
         "anxiety_score": 41,
         "_deepnote_index_column": 6118
        },
        {
         "Unnamed: 0": 6121,
         "Participant": 469,
         "Stimulus": 7,
         "Condition": "a",
         "uniformityOnsetTime": 377,
         "depression_score": 10,
         "anxiety_score": 41,
         "_deepnote_index_column": 6121
        },
        {
         "Unnamed: 0": 6123,
         "Participant": 469,
         "Stimulus": 12,
         "Condition": "a",
         "uniformityOnsetTime": 415,
         "depression_score": 10,
         "anxiety_score": 41,
         "_deepnote_index_column": 6123
        },
        {
         "Unnamed: 0": 6124,
         "Participant": 469,
         "Stimulus": 15,
         "Condition": "a",
         "uniformityOnsetTime": 373,
         "depression_score": 10,
         "anxiety_score": 41,
         "_deepnote_index_column": 6124
        },
        {
         "Unnamed: 0": 6126,
         "Participant": 469,
         "Stimulus": 7,
         "Condition": "a",
         "uniformityOnsetTime": 609,
         "depression_score": 10,
         "anxiety_score": 41,
         "_deepnote_index_column": 6126
        },
        {
         "Unnamed: 0": 6128,
         "Participant": 469,
         "Stimulus": 8,
         "Condition": "a",
         "uniformityOnsetTime": 93,
         "depression_score": 10,
         "anxiety_score": 41,
         "_deepnote_index_column": 6128
        },
        {
         "Unnamed: 0": 6129,
         "Participant": 469,
         "Stimulus": 10,
         "Condition": "a",
         "uniformityOnsetTime": 358,
         "depression_score": 10,
         "anxiety_score": 41,
         "_deepnote_index_column": 6129
        },
        {
         "Unnamed: 0": 6130,
         "Participant": 469,
         "Stimulus": 9,
         "Condition": "a",
         "uniformityOnsetTime": 1071,
         "depression_score": 10,
         "anxiety_score": 41,
         "_deepnote_index_column": 6130
        },
        {
         "Unnamed: 0": 6134,
         "Participant": 469,
         "Stimulus": 11,
         "Condition": "a",
         "uniformityOnsetTime": 1269,
         "depression_score": 10,
         "anxiety_score": 41,
         "_deepnote_index_column": 6134
        },
        {
         "Unnamed: 0": 6136,
         "Participant": 469,
         "Stimulus": 15,
         "Condition": "a",
         "uniformityOnsetTime": 225,
         "depression_score": 10,
         "anxiety_score": 41,
         "_deepnote_index_column": 6136
        }
       ]
      },
      "text/plain": "      Unnamed: 0  Participant  Stimulus Condition  uniformityOnsetTime  \\\n0              0            0        13         a              7167.20   \n2              2            0        14         a             16394.78   \n6              6            0         7         a             10435.36   \n7              7            0         8         a              1036.62   \n10            10            1        13         a              4186.86   \n...          ...          ...       ...       ...                  ...   \n6128        6128          469         8         a                93.00   \n6129        6129          469        10         a               358.00   \n6130        6130          469         9         a              1071.00   \n6134        6134          469        11         a              1269.00   \n6136        6136          469        15         a               225.00   \n\n      depression_score  anxiety_score  \n0                    1           39.0  \n2                    1           39.0  \n6                    1           39.0  \n7                    1           39.0  \n10                  10           39.0  \n...                ...            ...  \n6128                10           41.0  \n6129                10           41.0  \n6130                10           41.0  \n6134                10           41.0  \n6136                10           41.0  \n\n[2917 rows x 7 columns]",
      "text/html": "<div>\n<style scoped>\n    .dataframe tbody tr th:only-of-type {\n        vertical-align: middle;\n    }\n\n    .dataframe tbody tr th {\n        vertical-align: top;\n    }\n\n    .dataframe thead th {\n        text-align: right;\n    }\n</style>\n<table border=\"1\" class=\"dataframe\">\n  <thead>\n    <tr style=\"text-align: right;\">\n      <th></th>\n      <th>Unnamed: 0</th>\n      <th>Participant</th>\n      <th>Stimulus</th>\n      <th>Condition</th>\n      <th>uniformityOnsetTime</th>\n      <th>depression_score</th>\n      <th>anxiety_score</th>\n    </tr>\n  </thead>\n  <tbody>\n    <tr>\n      <th>0</th>\n      <td>0</td>\n      <td>0</td>\n      <td>13</td>\n      <td>a</td>\n      <td>7167.20</td>\n      <td>1</td>\n      <td>39.0</td>\n    </tr>\n    <tr>\n      <th>2</th>\n      <td>2</td>\n      <td>0</td>\n      <td>14</td>\n      <td>a</td>\n      <td>16394.78</td>\n      <td>1</td>\n      <td>39.0</td>\n    </tr>\n    <tr>\n      <th>6</th>\n      <td>6</td>\n      <td>0</td>\n      <td>7</td>\n      <td>a</td>\n      <td>10435.36</td>\n      <td>1</td>\n      <td>39.0</td>\n    </tr>\n    <tr>\n      <th>7</th>\n      <td>7</td>\n      <td>0</td>\n      <td>8</td>\n      <td>a</td>\n      <td>1036.62</td>\n      <td>1</td>\n      <td>39.0</td>\n    </tr>\n    <tr>\n      <th>10</th>\n      <td>10</td>\n      <td>1</td>\n      <td>13</td>\n      <td>a</td>\n      <td>4186.86</td>\n      <td>10</td>\n      <td>39.0</td>\n    </tr>\n    <tr>\n      <th>...</th>\n      <td>...</td>\n      <td>...</td>\n      <td>...</td>\n      <td>...</td>\n      <td>...</td>\n      <td>...</td>\n      <td>...</td>\n    </tr>\n    <tr>\n      <th>6128</th>\n      <td>6128</td>\n      <td>469</td>\n      <td>8</td>\n      <td>a</td>\n      <td>93.00</td>\n      <td>10</td>\n      <td>41.0</td>\n    </tr>\n    <tr>\n      <th>6129</th>\n      <td>6129</td>\n      <td>469</td>\n      <td>10</td>\n      <td>a</td>\n      <td>358.00</td>\n      <td>10</td>\n      <td>41.0</td>\n    </tr>\n    <tr>\n      <th>6130</th>\n      <td>6130</td>\n      <td>469</td>\n      <td>9</td>\n      <td>a</td>\n      <td>1071.00</td>\n      <td>10</td>\n      <td>41.0</td>\n    </tr>\n    <tr>\n      <th>6134</th>\n      <td>6134</td>\n      <td>469</td>\n      <td>11</td>\n      <td>a</td>\n      <td>1269.00</td>\n      <td>10</td>\n      <td>41.0</td>\n    </tr>\n    <tr>\n      <th>6136</th>\n      <td>6136</td>\n      <td>469</td>\n      <td>15</td>\n      <td>a</td>\n      <td>225.00</td>\n      <td>10</td>\n      <td>41.0</td>\n    </tr>\n  </tbody>\n</table>\n<p>2917 rows × 7 columns</p>\n</div>"
     },
     "metadata": {}
    }
   ],
   "execution_count": 11
  },
  {
   "cell_type": "code",
   "source": "clean_df_b",
   "metadata": {
    "tags": [],
    "cell_id": "00005-ab437844-1abb-409c-94f1-a1fa05e8ef4f",
    "deepnote_to_be_reexecuted": false,
    "source_hash": "48cd3d66",
    "execution_start": 1626941825207,
    "execution_millis": 85,
    "deepnote_cell_type": "code"
   },
   "outputs": [
    {
     "output_type": "execute_result",
     "execution_count": 14,
     "data": {
      "application/vnd.deepnote.dataframe.v2+json": {
       "row_count": 3223,
       "column_count": 7,
       "columns": [
        {
         "name": "Unnamed: 0",
         "dtype": "int64",
         "stats": {
          "unique_count": 3223,
          "nan_count": 0,
          "min": "1",
          "max": "6139",
          "histogram": [
           {
            "bin_start": 1,
            "bin_end": 614.8,
            "count": 324
           },
           {
            "bin_start": 614.8,
            "bin_end": 1228.6,
            "count": 319
           },
           {
            "bin_start": 1228.6,
            "bin_end": 1842.3999999999999,
            "count": 311
           },
           {
            "bin_start": 1842.3999999999999,
            "bin_end": 2456.2,
            "count": 318
           },
           {
            "bin_start": 2456.2,
            "bin_end": 3070,
            "count": 351
           },
           {
            "bin_start": 3070,
            "bin_end": 3683.7999999999997,
            "count": 330
           },
           {
            "bin_start": 3683.7999999999997,
            "bin_end": 4297.599999999999,
            "count": 318
           },
           {
            "bin_start": 4297.599999999999,
            "bin_end": 4911.4,
            "count": 315
           },
           {
            "bin_start": 4911.4,
            "bin_end": 5525.2,
            "count": 317
           },
           {
            "bin_start": 5525.2,
            "bin_end": 6139,
            "count": 320
           }
          ]
         }
        },
        {
         "name": "Participant",
         "dtype": "int64",
         "stats": {
          "unique_count": 396,
          "nan_count": 0,
          "min": "0",
          "max": "469",
          "histogram": [
           {
            "bin_start": 0,
            "bin_end": 46.9,
            "count": 271
           },
           {
            "bin_start": 46.9,
            "bin_end": 93.8,
            "count": 446
           },
           {
            "bin_start": 93.8,
            "bin_end": 140.7,
            "count": 308
           },
           {
            "bin_start": 140.7,
            "bin_end": 187.6,
            "count": 338
           },
           {
            "bin_start": 187.6,
            "bin_end": 234.5,
            "count": 315
           },
           {
            "bin_start": 234.5,
            "bin_end": 281.4,
            "count": 398
           },
           {
            "bin_start": 281.4,
            "bin_end": 328.3,
            "count": 197
           },
           {
            "bin_start": 328.3,
            "bin_end": 375.2,
            "count": 377
           },
           {
            "bin_start": 375.2,
            "bin_end": 422.09999999999997,
            "count": 231
           },
           {
            "bin_start": 422.09999999999997,
            "bin_end": 469,
            "count": 342
           }
          ]
         }
        },
        {
         "name": "Stimulus",
         "dtype": "int64",
         "stats": {
          "unique_count": 12,
          "nan_count": 0,
          "min": "4",
          "max": "15",
          "histogram": [
           {
            "bin_start": 4,
            "bin_end": 5.1,
            "count": 558
           },
           {
            "bin_start": 5.1,
            "bin_end": 6.2,
            "count": 271
           },
           {
            "bin_start": 6.2,
            "bin_end": 7.300000000000001,
            "count": 269
           },
           {
            "bin_start": 7.300000000000001,
            "bin_end": 8.4,
            "count": 270
           },
           {
            "bin_start": 8.4,
            "bin_end": 9.5,
            "count": 251
           },
           {
            "bin_start": 9.5,
            "bin_end": 10.600000000000001,
            "count": 259
           },
           {
            "bin_start": 10.600000000000001,
            "bin_end": 11.700000000000001,
            "count": 266
           },
           {
            "bin_start": 11.700000000000001,
            "bin_end": 12.8,
            "count": 275
           },
           {
            "bin_start": 12.8,
            "bin_end": 13.9,
            "count": 252
           },
           {
            "bin_start": 13.9,
            "bin_end": 15,
            "count": 552
           }
          ]
         }
        },
        {
         "name": "Condition",
         "dtype": "object",
         "stats": {
          "unique_count": 1,
          "nan_count": 0,
          "categories": [
           {
            "name": "b",
            "count": 3223
           }
          ]
         }
        },
        {
         "name": "uniformityOnsetTime",
         "dtype": "float64",
         "stats": {
          "unique_count": 3204,
          "nan_count": 0,
          "min": "0.2529999911785126",
          "max": "15616.127999982098",
          "histogram": [
           {
            "bin_start": 0.2529999911785126,
            "bin_end": 1561.8404999902705,
            "count": 2477
           },
           {
            "bin_start": 1561.8404999902705,
            "bin_end": 3123.4279999893624,
            "count": 490
           },
           {
            "bin_start": 3123.4279999893624,
            "bin_end": 4685.015499988454,
            "count": 155
           },
           {
            "bin_start": 4685.015499988454,
            "bin_end": 6246.602999987546,
            "count": 58
           },
           {
            "bin_start": 6246.602999987546,
            "bin_end": 7808.190499986638,
            "count": 25
           },
           {
            "bin_start": 7808.190499986638,
            "bin_end": 9369.77799998573,
            "count": 6
           },
           {
            "bin_start": 9369.77799998573,
            "bin_end": 10931.365499984822,
            "count": 5
           },
           {
            "bin_start": 10931.365499984822,
            "bin_end": 12492.952999983914,
            "count": 3
           },
           {
            "bin_start": 12492.952999983914,
            "bin_end": 14054.540499983006,
            "count": 2
           },
           {
            "bin_start": 14054.540499983006,
            "bin_end": 15616.127999982098,
            "count": 2
           }
          ]
         }
        },
        {
         "name": "depression_score",
         "dtype": "int64",
         "stats": {
          "unique_count": 37,
          "nan_count": 0,
          "min": "0",
          "max": "49",
          "histogram": [
           {
            "bin_start": 0,
            "bin_end": 4.9,
            "count": 1291
           },
           {
            "bin_start": 4.9,
            "bin_end": 9.8,
            "count": 930
           },
           {
            "bin_start": 9.8,
            "bin_end": 14.700000000000001,
            "count": 433
           },
           {
            "bin_start": 14.700000000000001,
            "bin_end": 19.6,
            "count": 232
           },
           {
            "bin_start": 19.6,
            "bin_end": 24.5,
            "count": 163
           },
           {
            "bin_start": 24.5,
            "bin_end": 29.400000000000002,
            "count": 97
           },
           {
            "bin_start": 29.400000000000002,
            "bin_end": 34.300000000000004,
            "count": 46
           },
           {
            "bin_start": 34.300000000000004,
            "bin_end": 39.2,
            "count": 13
           },
           {
            "bin_start": 39.2,
            "bin_end": 44.1,
            "count": 0
           },
           {
            "bin_start": 44.1,
            "bin_end": 49,
            "count": 18
           }
          ]
         }
        },
        {
         "name": "anxiety_score",
         "dtype": "float64",
         "stats": {
          "unique_count": 39,
          "nan_count": 97,
          "min": "21.0",
          "max": "62.0",
          "histogram": [
           {
            "bin_start": 21,
            "bin_end": 25.1,
            "count": 417
           },
           {
            "bin_start": 25.1,
            "bin_end": 29.2,
            "count": 500
           },
           {
            "bin_start": 29.2,
            "bin_end": 33.3,
            "count": 673
           },
           {
            "bin_start": 33.3,
            "bin_end": 37.4,
            "count": 446
           },
           {
            "bin_start": 37.4,
            "bin_end": 41.5,
            "count": 307
           },
           {
            "bin_start": 41.5,
            "bin_end": 45.599999999999994,
            "count": 385
           },
           {
            "bin_start": 45.599999999999994,
            "bin_end": 49.699999999999996,
            "count": 238
           },
           {
            "bin_start": 49.699999999999996,
            "bin_end": 53.8,
            "count": 77
           },
           {
            "bin_start": 53.8,
            "bin_end": 57.9,
            "count": 50
           },
           {
            "bin_start": 57.9,
            "bin_end": 62,
            "count": 33
           }
          ]
         }
        },
        {
         "name": "_deepnote_index_column",
         "dtype": "int64"
        }
       ],
       "rows_top": [
        {
         "Unnamed: 0": 1,
         "Participant": 0,
         "Stimulus": 7,
         "Condition": "b",
         "uniformityOnsetTime": 5320.979999999981,
         "depression_score": 1,
         "anxiety_score": 39,
         "_deepnote_index_column": 1
        },
        {
         "Unnamed: 0": 3,
         "Participant": 0,
         "Stimulus": 8,
         "Condition": "b",
         "uniformityOnsetTime": 3320.539999999979,
         "depression_score": 1,
         "anxiety_score": 39,
         "_deepnote_index_column": 3
        },
        {
         "Unnamed: 0": 4,
         "Participant": 0,
         "Stimulus": 10,
         "Condition": "b",
         "uniformityOnsetTime": 7111.900000000023,
         "depression_score": 1,
         "anxiety_score": 39,
         "_deepnote_index_column": 4
        },
        {
         "Unnamed: 0": 5,
         "Participant": 0,
         "Stimulus": 12,
         "Condition": "b",
         "uniformityOnsetTime": 2568.140000000014,
         "depression_score": 1,
         "anxiety_score": 39,
         "_deepnote_index_column": 5
        },
        {
         "Unnamed: 0": 8,
         "Participant": 0,
         "Stimulus": 15,
         "Condition": "b",
         "uniformityOnsetTime": 1012.4199999999836,
         "depression_score": 1,
         "anxiety_score": 39,
         "_deepnote_index_column": 8
        },
        {
         "Unnamed: 0": 9,
         "Participant": 1,
         "Stimulus": 14,
         "Condition": "b",
         "uniformityOnsetTime": 1419,
         "depression_score": 10,
         "anxiety_score": 39,
         "_deepnote_index_column": 9
        },
        {
         "Unnamed: 0": 11,
         "Participant": 1,
         "Stimulus": 5,
         "Condition": "b",
         "uniformityOnsetTime": 4406.260000000009,
         "depression_score": 10,
         "anxiety_score": 39,
         "_deepnote_index_column": 11
        },
        {
         "Unnamed: 0": 15,
         "Participant": 1,
         "Stimulus": 4,
         "Condition": "b",
         "uniformityOnsetTime": 1393.280000000028,
         "depression_score": 10,
         "anxiety_score": 39,
         "_deepnote_index_column": 15
        },
        {
         "Unnamed: 0": 16,
         "Participant": 1,
         "Stimulus": 4,
         "Condition": "b",
         "uniformityOnsetTime": 2146.619999999996,
         "depression_score": 10,
         "anxiety_score": 39,
         "_deepnote_index_column": 16
        },
        {
         "Unnamed: 0": 17,
         "Participant": 1,
         "Stimulus": 15,
         "Condition": "b",
         "uniformityOnsetTime": 968.9000000000232,
         "depression_score": 10,
         "anxiety_score": 39,
         "_deepnote_index_column": 17
        },
        {
         "Unnamed: 0": 19,
         "Participant": 2,
         "Stimulus": 14,
         "Condition": "b",
         "uniformityOnsetTime": 4469.11500001786,
         "depression_score": 5,
         "anxiety_score": 28,
         "_deepnote_index_column": 19
        },
        {
         "Unnamed: 0": 20,
         "Participant": 2,
         "Stimulus": 9,
         "Condition": "b",
         "uniformityOnsetTime": 2230.572000011918,
         "depression_score": 5,
         "anxiety_score": 28,
         "_deepnote_index_column": 20
        },
        {
         "Unnamed: 0": 21,
         "Participant": 2,
         "Stimulus": 15,
         "Condition": "b",
         "uniformityOnsetTime": 794.7639999940293,
         "depression_score": 5,
         "anxiety_score": 28,
         "_deepnote_index_column": 21
        },
        {
         "Unnamed: 0": 22,
         "Participant": 3,
         "Stimulus": 9,
         "Condition": "b",
         "uniformityOnsetTime": 670.4890000002924,
         "depression_score": 22,
         "anxiety_score": 47,
         "_deepnote_index_column": 22
        },
        {
         "Unnamed: 0": 25,
         "Participant": 3,
         "Stimulus": 7,
         "Condition": "b",
         "uniformityOnsetTime": 203.9680000001099,
         "depression_score": 22,
         "anxiety_score": 47,
         "_deepnote_index_column": 25
        },
        {
         "Unnamed: 0": 26,
         "Participant": 3,
         "Stimulus": 8,
         "Condition": "b",
         "uniformityOnsetTime": 861.7300000002142,
         "depression_score": 22,
         "anxiety_score": 47,
         "_deepnote_index_column": 26
        },
        {
         "Unnamed: 0": 27,
         "Participant": 3,
         "Stimulus": 6,
         "Condition": "b",
         "uniformityOnsetTime": 225.37199999997392,
         "depression_score": 22,
         "anxiety_score": 47,
         "_deepnote_index_column": 27
        },
        {
         "Unnamed: 0": 28,
         "Participant": 3,
         "Stimulus": 4,
         "Condition": "b",
         "uniformityOnsetTime": 91.43300000019372,
         "depression_score": 22,
         "anxiety_score": 47,
         "_deepnote_index_column": 28
        },
        {
         "Unnamed: 0": 31,
         "Participant": 3,
         "Stimulus": 12,
         "Condition": "b",
         "uniformityOnsetTime": 398.6960000002291,
         "depression_score": 22,
         "anxiety_score": 47,
         "_deepnote_index_column": 31
        },
        {
         "Unnamed: 0": 32,
         "Participant": 3,
         "Stimulus": 15,
         "Condition": "b",
         "uniformityOnsetTime": 223.54900000011548,
         "depression_score": 22,
         "anxiety_score": 47,
         "_deepnote_index_column": 32
        },
        {
         "Unnamed: 0": 36,
         "Participant": 3,
         "Stimulus": 6,
         "Condition": "b",
         "uniformityOnsetTime": 255.2970000002533,
         "depression_score": 22,
         "anxiety_score": 47,
         "_deepnote_index_column": 36
        },
        {
         "Unnamed: 0": 39,
         "Participant": 3,
         "Stimulus": 6,
         "Condition": "b",
         "uniformityOnsetTime": 122.72600000025705,
         "depression_score": 22,
         "anxiety_score": 47,
         "_deepnote_index_column": 39
        },
        {
         "Unnamed: 0": 40,
         "Participant": 3,
         "Stimulus": 15,
         "Condition": "b",
         "uniformityOnsetTime": 46.80400000023656,
         "depression_score": 22,
         "anxiety_score": 47,
         "_deepnote_index_column": 40
        },
        {
         "Unnamed: 0": 42,
         "Participant": 4,
         "Stimulus": 9,
         "Condition": "b",
         "uniformityOnsetTime": 483.5289999761153,
         "depression_score": 20,
         "anxiety_score": 46,
         "_deepnote_index_column": 42
        },
        {
         "Unnamed: 0": 43,
         "Participant": 4,
         "Stimulus": 14,
         "Condition": "b",
         "uniformityOnsetTime": 5367.016999976127,
         "depression_score": 20,
         "anxiety_score": 46,
         "_deepnote_index_column": 43
        },
        {
         "Unnamed: 0": 44,
         "Participant": 4,
         "Stimulus": 11,
         "Condition": "b",
         "uniformityOnsetTime": 3717.8850000238745,
         "depression_score": 20,
         "anxiety_score": 46,
         "_deepnote_index_column": 44
        },
        {
         "Unnamed: 0": 45,
         "Participant": 4,
         "Stimulus": 15,
         "Condition": "b",
         "uniformityOnsetTime": 2994.274000023841,
         "depression_score": 20,
         "anxiety_score": 46,
         "_deepnote_index_column": 45
        },
        {
         "Unnamed: 0": 46,
         "Participant": 4,
         "Stimulus": 4,
         "Condition": "b",
         "uniformityOnsetTime": 2784.047999928473,
         "depression_score": 20,
         "anxiety_score": 46,
         "_deepnote_index_column": 46
        },
        {
         "Unnamed: 0": 50,
         "Participant": 6,
         "Stimulus": 4,
         "Condition": "b",
         "uniformityOnsetTime": 386.3999999999942,
         "depression_score": 3,
         "anxiety_score": 28,
         "_deepnote_index_column": 50
        },
        {
         "Unnamed: 0": 51,
         "Participant": 6,
         "Stimulus": 9,
         "Condition": "b",
         "uniformityOnsetTime": 198.140000000014,
         "depression_score": 3,
         "anxiety_score": 28,
         "_deepnote_index_column": 51
        },
        {
         "Unnamed: 0": 53,
         "Participant": 6,
         "Stimulus": 14,
         "Condition": "b",
         "uniformityOnsetTime": 742.2000000000116,
         "depression_score": 3,
         "anxiety_score": 28,
         "_deepnote_index_column": 53
        },
        {
         "Unnamed: 0": 54,
         "Participant": 6,
         "Stimulus": 9,
         "Condition": "b",
         "uniformityOnsetTime": 416.9200000000128,
         "depression_score": 3,
         "anxiety_score": 28,
         "_deepnote_index_column": 54
        },
        {
         "Unnamed: 0": 55,
         "Participant": 6,
         "Stimulus": 9,
         "Condition": "b",
         "uniformityOnsetTime": 501.1600000000035,
         "depression_score": 3,
         "anxiety_score": 28,
         "_deepnote_index_column": 55
        },
        {
         "Unnamed: 0": 60,
         "Participant": 6,
         "Stimulus": 7,
         "Condition": "b",
         "uniformityOnsetTime": 1534.2600000000093,
         "depression_score": 3,
         "anxiety_score": 28,
         "_deepnote_index_column": 60
        },
        {
         "Unnamed: 0": 62,
         "Participant": 6,
         "Stimulus": 13,
         "Condition": "b",
         "uniformityOnsetTime": 3564.619999999996,
         "depression_score": 3,
         "anxiety_score": 28,
         "_deepnote_index_column": 62
        },
        {
         "Unnamed: 0": 63,
         "Participant": 6,
         "Stimulus": 7,
         "Condition": "b",
         "uniformityOnsetTime": 738.2600000000093,
         "depression_score": 3,
         "anxiety_score": 28,
         "_deepnote_index_column": 63
        },
        {
         "Unnamed: 0": 65,
         "Participant": 8,
         "Stimulus": 14,
         "Condition": "b",
         "uniformityOnsetTime": 554.219000000041,
         "depression_score": 0,
         "anxiety_score": 25,
         "_deepnote_index_column": 65
        },
        {
         "Unnamed: 0": 66,
         "Participant": 8,
         "Stimulus": 8,
         "Condition": "b",
         "uniformityOnsetTime": 60.30799999996088,
         "depression_score": 0,
         "anxiety_score": 25,
         "_deepnote_index_column": 66
        },
        {
         "Unnamed: 0": 67,
         "Participant": 8,
         "Stimulus": 12,
         "Condition": "b",
         "uniformityOnsetTime": 407.3040000000037,
         "depression_score": 0,
         "anxiety_score": 25,
         "_deepnote_index_column": 67
        },
        {
         "Unnamed: 0": 72,
         "Participant": 10,
         "Stimulus": 11,
         "Condition": "b",
         "uniformityOnsetTime": 2944.786999999837,
         "depression_score": 25,
         "anxiety_score": 37,
         "_deepnote_index_column": 72
        },
        {
         "Unnamed: 0": 76,
         "Participant": 10,
         "Stimulus": 4,
         "Condition": "b",
         "uniformityOnsetTime": 533.3800000002957,
         "depression_score": 25,
         "anxiety_score": 37,
         "_deepnote_index_column": 76
        },
        {
         "Unnamed: 0": 77,
         "Participant": 11,
         "Stimulus": 12,
         "Condition": "b",
         "uniformityOnsetTime": 1496.722999999998,
         "depression_score": 2,
         "anxiety_score": 24,
         "_deepnote_index_column": 77
        },
        {
         "Unnamed: 0": 78,
         "Participant": 11,
         "Stimulus": 4,
         "Condition": "b",
         "uniformityOnsetTime": 1163.01299999404,
         "depression_score": 2,
         "anxiety_score": 24,
         "_deepnote_index_column": 78
        },
        {
         "Unnamed: 0": 79,
         "Participant": 11,
         "Stimulus": 15,
         "Condition": "b",
         "uniformityOnsetTime": 2822.634000005957,
         "depression_score": 2,
         "anxiety_score": 24,
         "_deepnote_index_column": 79
        },
        {
         "Unnamed: 0": 80,
         "Participant": 11,
         "Stimulus": 4,
         "Condition": "b",
         "uniformityOnsetTime": 1062.5410000059635,
         "depression_score": 2,
         "anxiety_score": 24,
         "_deepnote_index_column": 80
        },
        {
         "Unnamed: 0": 81,
         "Participant": 11,
         "Stimulus": 6,
         "Condition": "b",
         "uniformityOnsetTime": 1048.3730000059586,
         "depression_score": 2,
         "anxiety_score": 24,
         "_deepnote_index_column": 81
        },
        {
         "Unnamed: 0": 83,
         "Participant": 11,
         "Stimulus": 8,
         "Condition": "b",
         "uniformityOnsetTime": 2011.1570000000063,
         "depression_score": 2,
         "anxiety_score": 24,
         "_deepnote_index_column": 83
        },
        {
         "Unnamed: 0": 84,
         "Participant": 13,
         "Stimulus": 8,
         "Condition": "b",
         "uniformityOnsetTime": 2332.8130000117235,
         "depression_score": 5,
         "anxiety_score": 26,
         "_deepnote_index_column": 84
        },
        {
         "Unnamed: 0": 87,
         "Participant": 14,
         "Stimulus": 10,
         "Condition": "b",
         "uniformityOnsetTime": 219.4790000238572,
         "depression_score": 7,
         "anxiety_score": 47,
         "_deepnote_index_column": 87
        },
        {
         "Unnamed: 0": 90,
         "Participant": 14,
         "Stimulus": 13,
         "Condition": "b",
         "uniformityOnsetTime": 32.03400002385024,
         "depression_score": 7,
         "anxiety_score": 47,
         "_deepnote_index_column": 90
        },
        {
         "Unnamed: 0": 93,
         "Participant": 15,
         "Stimulus": 6,
         "Condition": "b",
         "uniformityOnsetTime": 1645.606000095373,
         "depression_score": 8,
         "anxiety_score": 30,
         "_deepnote_index_column": 93
        },
        {
         "Unnamed: 0": 97,
         "Participant": 15,
         "Stimulus": 14,
         "Condition": "b",
         "uniformityOnsetTime": 1018.7450000476674,
         "depression_score": 8,
         "anxiety_score": 30,
         "_deepnote_index_column": 97
        },
        {
         "Unnamed: 0": 99,
         "Participant": 16,
         "Stimulus": 12,
         "Condition": "b",
         "uniformityOnsetTime": 675.2600000000093,
         "depression_score": 11,
         "anxiety_score": 45,
         "_deepnote_index_column": 99
        },
        {
         "Unnamed: 0": 100,
         "Participant": 16,
         "Stimulus": 13,
         "Condition": "b",
         "uniformityOnsetTime": 149.9199999999837,
         "depression_score": 11,
         "anxiety_score": 45,
         "_deepnote_index_column": 100
        },
        {
         "Unnamed: 0": 103,
         "Participant": 16,
         "Stimulus": 5,
         "Condition": "b",
         "uniformityOnsetTime": 2506.859999999986,
         "depression_score": 11,
         "anxiety_score": 45,
         "_deepnote_index_column": 103
        },
        {
         "Unnamed: 0": 104,
         "Participant": 16,
         "Stimulus": 11,
         "Condition": "b",
         "uniformityOnsetTime": 597.6199999999953,
         "depression_score": 11,
         "anxiety_score": 45,
         "_deepnote_index_column": 104
        },
        {
         "Unnamed: 0": 109,
         "Participant": 16,
         "Stimulus": 7,
         "Condition": "b",
         "uniformityOnsetTime": 28.21999999997206,
         "depression_score": 11,
         "anxiety_score": 45,
         "_deepnote_index_column": 109
        },
        {
         "Unnamed: 0": 112,
         "Participant": 16,
         "Stimulus": 6,
         "Condition": "b",
         "uniformityOnsetTime": 225.6599999999744,
         "depression_score": 11,
         "anxiety_score": 45,
         "_deepnote_index_column": 112
        },
        {
         "Unnamed: 0": 113,
         "Participant": 16,
         "Stimulus": 13,
         "Condition": "b",
         "uniformityOnsetTime": 143.64000000001397,
         "depression_score": 11,
         "anxiety_score": 45,
         "_deepnote_index_column": 113
        },
        {
         "Unnamed: 0": 115,
         "Participant": 16,
         "Stimulus": 11,
         "Condition": "b",
         "uniformityOnsetTime": 70.5,
         "depression_score": 11,
         "anxiety_score": 45,
         "_deepnote_index_column": 115
        },
        {
         "Unnamed: 0": 117,
         "Participant": 16,
         "Stimulus": 12,
         "Condition": "b",
         "uniformityOnsetTime": 616.3000000000466,
         "depression_score": 11,
         "anxiety_score": 45,
         "_deepnote_index_column": 117
        },
        {
         "Unnamed: 0": 119,
         "Participant": 16,
         "Stimulus": 14,
         "Condition": "b",
         "uniformityOnsetTime": 254.11999999999531,
         "depression_score": 11,
         "anxiety_score": 45,
         "_deepnote_index_column": 119
        },
        {
         "Unnamed: 0": 121,
         "Participant": 16,
         "Stimulus": 10,
         "Condition": "b",
         "uniformityOnsetTime": 324.0200000000186,
         "depression_score": 11,
         "anxiety_score": 45,
         "_deepnote_index_column": 121
        },
        {
         "Unnamed: 0": 123,
         "Participant": 16,
         "Stimulus": 14,
         "Condition": "b",
         "uniformityOnsetTime": 584.5,
         "depression_score": 11,
         "anxiety_score": 45,
         "_deepnote_index_column": 123
        },
        {
         "Unnamed: 0": 124,
         "Participant": 16,
         "Stimulus": 14,
         "Condition": "b",
         "uniformityOnsetTime": 501.4000000000233,
         "depression_score": 11,
         "anxiety_score": 45,
         "_deepnote_index_column": 124
        },
        {
         "Unnamed: 0": 128,
         "Participant": 16,
         "Stimulus": 4,
         "Condition": "b",
         "uniformityOnsetTime": 179.04000000003725,
         "depression_score": 11,
         "anxiety_score": 45,
         "_deepnote_index_column": 128
        },
        {
         "Unnamed: 0": 129,
         "Participant": 16,
         "Stimulus": 15,
         "Condition": "b",
         "uniformityOnsetTime": 491.640000000014,
         "depression_score": 11,
         "anxiety_score": 45,
         "_deepnote_index_column": 129
        },
        {
         "Unnamed: 0": 132,
         "Participant": 16,
         "Stimulus": 4,
         "Condition": "b",
         "uniformityOnsetTime": 40.61999999999534,
         "depression_score": 11,
         "anxiety_score": 45,
         "_deepnote_index_column": 132
        },
        {
         "Unnamed: 0": 133,
         "Participant": 16,
         "Stimulus": 6,
         "Condition": "b",
         "uniformityOnsetTime": 3056.5400000000373,
         "depression_score": 11,
         "anxiety_score": 45,
         "_deepnote_index_column": 133
        },
        {
         "Unnamed: 0": 134,
         "Participant": 16,
         "Stimulus": 8,
         "Condition": "b",
         "uniformityOnsetTime": 170.43999999994412,
         "depression_score": 11,
         "anxiety_score": 45,
         "_deepnote_index_column": 134
        },
        {
         "Unnamed: 0": 136,
         "Participant": 16,
         "Stimulus": 15,
         "Condition": "b",
         "uniformityOnsetTime": 1803.3000000000463,
         "depression_score": 11,
         "anxiety_score": 45,
         "_deepnote_index_column": 136
        }
       ],
       "rows_bottom": [
        {
         "Unnamed: 0": 5998,
         "Participant": 463,
         "Stimulus": 12,
         "Condition": "b",
         "uniformityOnsetTime": 1048.8929999046377,
         "depression_score": 13,
         "anxiety_score": 40,
         "_deepnote_index_column": 5998
        },
        {
         "Unnamed: 0": 5999,
         "Participant": 463,
         "Stimulus": 13,
         "Condition": "b",
         "uniformityOnsetTime": 226.92499997618145,
         "depression_score": 13,
         "anxiety_score": 40,
         "_deepnote_index_column": 5999
        },
        {
         "Unnamed: 0": 6003,
         "Participant": 464,
         "Stimulus": 6,
         "Condition": "b",
         "uniformityOnsetTime": 324.63200000161305,
         "depression_score": 3,
         "anxiety_score": 34,
         "_deepnote_index_column": 6003
        },
        {
         "Unnamed: 0": 6007,
         "Participant": 464,
         "Stimulus": 7,
         "Condition": "b",
         "uniformityOnsetTime": 314.21599998511374,
         "depression_score": 3,
         "anxiety_score": 34,
         "_deepnote_index_column": 6007
        },
        {
         "Unnamed: 0": 6010,
         "Participant": 464,
         "Stimulus": 8,
         "Condition": "b",
         "uniformityOnsetTime": 2002.533999998006,
         "depression_score": 3,
         "anxiety_score": 34,
         "_deepnote_index_column": 6010
        },
        {
         "Unnamed: 0": 6011,
         "Participant": 464,
         "Stimulus": 12,
         "Condition": "b",
         "uniformityOnsetTime": 211.27399999060435,
         "depression_score": 3,
         "anxiety_score": 34,
         "_deepnote_index_column": 6011
        },
        {
         "Unnamed: 0": 6012,
         "Participant": 464,
         "Stimulus": 9,
         "Condition": "b",
         "uniformityOnsetTime": 1497.9409999881173,
         "depression_score": 3,
         "anxiety_score": 34,
         "_deepnote_index_column": 6012
        },
        {
         "Unnamed: 0": 6016,
         "Participant": 464,
         "Stimulus": 15,
         "Condition": "b",
         "uniformityOnsetTime": 561.6129999920377,
         "depression_score": 3,
         "anxiety_score": 34,
         "_deepnote_index_column": 6016
        },
        {
         "Unnamed: 0": 6017,
         "Participant": 464,
         "Stimulus": 11,
         "Condition": "b",
         "uniformityOnsetTime": 229.64699999446748,
         "depression_score": 3,
         "anxiety_score": 34,
         "_deepnote_index_column": 6017
        },
        {
         "Unnamed: 0": 6018,
         "Participant": 464,
         "Stimulus": 8,
         "Condition": "b",
         "uniformityOnsetTime": 275.8310000063502,
         "depression_score": 3,
         "anxiety_score": 34,
         "_deepnote_index_column": 6018
        },
        {
         "Unnamed: 0": 6019,
         "Participant": 465,
         "Stimulus": 15,
         "Condition": "b",
         "uniformityOnsetTime": 104.28200000000652,
         "depression_score": 10,
         "anxiety_score": 33,
         "_deepnote_index_column": 6019
        },
        {
         "Unnamed: 0": 6022,
         "Participant": 465,
         "Stimulus": 12,
         "Condition": "b",
         "uniformityOnsetTime": 107.86600001191256,
         "depression_score": 10,
         "anxiety_score": 33,
         "_deepnote_index_column": 6022
        },
        {
         "Unnamed: 0": 6025,
         "Participant": 465,
         "Stimulus": 12,
         "Condition": "b",
         "uniformityOnsetTime": 472.3830000119051,
         "depression_score": 10,
         "anxiety_score": 33,
         "_deepnote_index_column": 6025
        },
        {
         "Unnamed: 0": 6027,
         "Participant": 465,
         "Stimulus": 6,
         "Condition": "b",
         "uniformityOnsetTime": 1308.0150000118883,
         "depression_score": 10,
         "anxiety_score": 33,
         "_deepnote_index_column": 6027
        },
        {
         "Unnamed: 0": 6028,
         "Participant": 465,
         "Stimulus": 11,
         "Condition": "b",
         "uniformityOnsetTime": 438.757000011974,
         "depression_score": 10,
         "anxiety_score": 33,
         "_deepnote_index_column": 6028
        },
        {
         "Unnamed: 0": 6029,
         "Participant": 465,
         "Stimulus": 5,
         "Condition": "b",
         "uniformityOnsetTime": 8671.81099999405,
         "depression_score": 10,
         "anxiety_score": 33,
         "_deepnote_index_column": 6029
        },
        {
         "Unnamed: 0": 6030,
         "Participant": 465,
         "Stimulus": 12,
         "Condition": "b",
         "uniformityOnsetTime": 2917.165999994031,
         "depression_score": 10,
         "anxiety_score": 33,
         "_deepnote_index_column": 6030
        },
        {
         "Unnamed: 0": 6034,
         "Participant": 465,
         "Stimulus": 4,
         "Condition": "b",
         "uniformityOnsetTime": 1058.3600000059232,
         "depression_score": 10,
         "anxiety_score": 33,
         "_deepnote_index_column": 6034
        },
        {
         "Unnamed: 0": 6038,
         "Participant": 465,
         "Stimulus": 10,
         "Condition": "b",
         "uniformityOnsetTime": 2382.7480000000214,
         "depression_score": 10,
         "anxiety_score": 33,
         "_deepnote_index_column": 6038
        },
        {
         "Unnamed: 0": 6040,
         "Participant": 465,
         "Stimulus": 14,
         "Condition": "b",
         "uniformityOnsetTime": 5621.924000011873,
         "depression_score": 10,
         "anxiety_score": 33,
         "_deepnote_index_column": 6040
        },
        {
         "Unnamed: 0": 6042,
         "Participant": 466,
         "Stimulus": 7,
         "Condition": "b",
         "uniformityOnsetTime": 1794.334999999992,
         "depression_score": 0,
         "anxiety_score": 26,
         "_deepnote_index_column": 6042
        },
        {
         "Unnamed: 0": 6043,
         "Participant": 466,
         "Stimulus": 6,
         "Condition": "b",
         "uniformityOnsetTime": 1854.682999994024,
         "depression_score": 0,
         "anxiety_score": 26,
         "_deepnote_index_column": 6043
        },
        {
         "Unnamed: 0": 6044,
         "Participant": 466,
         "Stimulus": 14,
         "Condition": "b",
         "uniformityOnsetTime": 3639.0209999970393,
         "depression_score": 0,
         "anxiety_score": 26,
         "_deepnote_index_column": 6044
        },
        {
         "Unnamed: 0": 6045,
         "Participant": 467,
         "Stimulus": 10,
         "Condition": "b",
         "uniformityOnsetTime": 287.5199999999895,
         "depression_score": 3,
         "anxiety_score": 29,
         "_deepnote_index_column": 6045
        },
        {
         "Unnamed: 0": 6046,
         "Participant": 467,
         "Stimulus": 10,
         "Condition": "b",
         "uniformityOnsetTime": 155.39999999999418,
         "depression_score": 3,
         "anxiety_score": 29,
         "_deepnote_index_column": 6046
        },
        {
         "Unnamed: 0": 6047,
         "Participant": 467,
         "Stimulus": 5,
         "Condition": "b",
         "uniformityOnsetTime": 949.3399999999964,
         "depression_score": 3,
         "anxiety_score": 29,
         "_deepnote_index_column": 6047
        },
        {
         "Unnamed: 0": 6050,
         "Participant": 468,
         "Stimulus": 10,
         "Condition": "b",
         "uniformityOnsetTime": 2552.3800000000047,
         "depression_score": 13,
         "anxiety_score": 41,
         "_deepnote_index_column": 6050
        },
        {
         "Unnamed: 0": 6051,
         "Participant": 468,
         "Stimulus": 15,
         "Condition": "b",
         "uniformityOnsetTime": 2859.6599999999744,
         "depression_score": 13,
         "anxiety_score": 41,
         "_deepnote_index_column": 6051
        },
        {
         "Unnamed: 0": 6052,
         "Participant": 468,
         "Stimulus": 8,
         "Condition": "b",
         "uniformityOnsetTime": 1462.679999999993,
         "depression_score": 13,
         "anxiety_score": 41,
         "_deepnote_index_column": 6052
        },
        {
         "Unnamed: 0": 6054,
         "Participant": 468,
         "Stimulus": 12,
         "Condition": "b",
         "uniformityOnsetTime": 272.5800000000163,
         "depression_score": 13,
         "anxiety_score": 41,
         "_deepnote_index_column": 6054
        },
        {
         "Unnamed: 0": 6059,
         "Participant": 468,
         "Stimulus": 8,
         "Condition": "b",
         "uniformityOnsetTime": 6682.400000000023,
         "depression_score": 13,
         "anxiety_score": 41,
         "_deepnote_index_column": 6059
        },
        {
         "Unnamed: 0": 6061,
         "Participant": 468,
         "Stimulus": 14,
         "Condition": "b",
         "uniformityOnsetTime": 624.640000000014,
         "depression_score": 13,
         "anxiety_score": 41,
         "_deepnote_index_column": 6061
        },
        {
         "Unnamed: 0": 6063,
         "Participant": 468,
         "Stimulus": 12,
         "Condition": "b",
         "uniformityOnsetTime": 1003.2399999999908,
         "depression_score": 13,
         "anxiety_score": 41,
         "_deepnote_index_column": 6063
        },
        {
         "Unnamed: 0": 6064,
         "Participant": 468,
         "Stimulus": 9,
         "Condition": "b",
         "uniformityOnsetTime": 2342.539999999979,
         "depression_score": 13,
         "anxiety_score": 41,
         "_deepnote_index_column": 6064
        },
        {
         "Unnamed: 0": 6067,
         "Participant": 468,
         "Stimulus": 11,
         "Condition": "b",
         "uniformityOnsetTime": 782.4199999999837,
         "depression_score": 13,
         "anxiety_score": 41,
         "_deepnote_index_column": 6067
        },
        {
         "Unnamed: 0": 6069,
         "Participant": 469,
         "Stimulus": 11,
         "Condition": "b",
         "uniformityOnsetTime": 41,
         "depression_score": 10,
         "anxiety_score": 41,
         "_deepnote_index_column": 6069
        },
        {
         "Unnamed: 0": 6070,
         "Participant": 469,
         "Stimulus": 7,
         "Condition": "b",
         "uniformityOnsetTime": 385,
         "depression_score": 10,
         "anxiety_score": 41,
         "_deepnote_index_column": 6070
        },
        {
         "Unnamed: 0": 6072,
         "Participant": 469,
         "Stimulus": 12,
         "Condition": "b",
         "uniformityOnsetTime": 674,
         "depression_score": 10,
         "anxiety_score": 41,
         "_deepnote_index_column": 6072
        },
        {
         "Unnamed: 0": 6074,
         "Participant": 469,
         "Stimulus": 8,
         "Condition": "b",
         "uniformityOnsetTime": 302,
         "depression_score": 10,
         "anxiety_score": 41,
         "_deepnote_index_column": 6074
        },
        {
         "Unnamed: 0": 6076,
         "Participant": 469,
         "Stimulus": 9,
         "Condition": "b",
         "uniformityOnsetTime": 716,
         "depression_score": 10,
         "anxiety_score": 41,
         "_deepnote_index_column": 6076
        },
        {
         "Unnamed: 0": 6077,
         "Participant": 469,
         "Stimulus": 12,
         "Condition": "b",
         "uniformityOnsetTime": 892,
         "depression_score": 10,
         "anxiety_score": 41,
         "_deepnote_index_column": 6077
        },
        {
         "Unnamed: 0": 6080,
         "Participant": 469,
         "Stimulus": 5,
         "Condition": "b",
         "uniformityOnsetTime": 646,
         "depression_score": 10,
         "anxiety_score": 41,
         "_deepnote_index_column": 6080
        },
        {
         "Unnamed: 0": 6081,
         "Participant": 469,
         "Stimulus": 9,
         "Condition": "b",
         "uniformityOnsetTime": 273,
         "depression_score": 10,
         "anxiety_score": 41,
         "_deepnote_index_column": 6081
        },
        {
         "Unnamed: 0": 6084,
         "Participant": 469,
         "Stimulus": 14,
         "Condition": "b",
         "uniformityOnsetTime": 170,
         "depression_score": 10,
         "anxiety_score": 41,
         "_deepnote_index_column": 6084
        },
        {
         "Unnamed: 0": 6086,
         "Participant": 469,
         "Stimulus": 15,
         "Condition": "b",
         "uniformityOnsetTime": 213,
         "depression_score": 10,
         "anxiety_score": 41,
         "_deepnote_index_column": 6086
        },
        {
         "Unnamed: 0": 6087,
         "Participant": 469,
         "Stimulus": 10,
         "Condition": "b",
         "uniformityOnsetTime": 188,
         "depression_score": 10,
         "anxiety_score": 41,
         "_deepnote_index_column": 6087
        },
        {
         "Unnamed: 0": 6092,
         "Participant": 469,
         "Stimulus": 10,
         "Condition": "b",
         "uniformityOnsetTime": 147,
         "depression_score": 10,
         "anxiety_score": 41,
         "_deepnote_index_column": 6092
        },
        {
         "Unnamed: 0": 6094,
         "Participant": 469,
         "Stimulus": 9,
         "Condition": "b",
         "uniformityOnsetTime": 485,
         "depression_score": 10,
         "anxiety_score": 41,
         "_deepnote_index_column": 6094
        },
        {
         "Unnamed: 0": 6095,
         "Participant": 469,
         "Stimulus": 15,
         "Condition": "b",
         "uniformityOnsetTime": 425,
         "depression_score": 10,
         "anxiety_score": 41,
         "_deepnote_index_column": 6095
        },
        {
         "Unnamed: 0": 6097,
         "Participant": 469,
         "Stimulus": 15,
         "Condition": "b",
         "uniformityOnsetTime": 182,
         "depression_score": 10,
         "anxiety_score": 41,
         "_deepnote_index_column": 6097
        },
        {
         "Unnamed: 0": 6102,
         "Participant": 469,
         "Stimulus": 8,
         "Condition": "b",
         "uniformityOnsetTime": 36,
         "depression_score": 10,
         "anxiety_score": 41,
         "_deepnote_index_column": 6102
        },
        {
         "Unnamed: 0": 6103,
         "Participant": 469,
         "Stimulus": 10,
         "Condition": "b",
         "uniformityOnsetTime": 572,
         "depression_score": 10,
         "anxiety_score": 41,
         "_deepnote_index_column": 6103
        },
        {
         "Unnamed: 0": 6106,
         "Participant": 469,
         "Stimulus": 13,
         "Condition": "b",
         "uniformityOnsetTime": 441.0000000001164,
         "depression_score": 10,
         "anxiety_score": 41,
         "_deepnote_index_column": 6106
        },
        {
         "Unnamed: 0": 6108,
         "Participant": 469,
         "Stimulus": 6,
         "Condition": "b",
         "uniformityOnsetTime": 1038,
         "depression_score": 10,
         "anxiety_score": 41,
         "_deepnote_index_column": 6108
        },
        {
         "Unnamed: 0": 6110,
         "Participant": 469,
         "Stimulus": 12,
         "Condition": "b",
         "uniformityOnsetTime": 37,
         "depression_score": 10,
         "anxiety_score": 41,
         "_deepnote_index_column": 6110
        },
        {
         "Unnamed: 0": 6111,
         "Participant": 469,
         "Stimulus": 4,
         "Condition": "b",
         "uniformityOnsetTime": 458,
         "depression_score": 10,
         "anxiety_score": 41,
         "_deepnote_index_column": 6111
        },
        {
         "Unnamed: 0": 6114,
         "Participant": 469,
         "Stimulus": 8,
         "Condition": "b",
         "uniformityOnsetTime": 837,
         "depression_score": 10,
         "anxiety_score": 41,
         "_deepnote_index_column": 6114
        },
        {
         "Unnamed: 0": 6115,
         "Participant": 469,
         "Stimulus": 4,
         "Condition": "b",
         "uniformityOnsetTime": 412,
         "depression_score": 10,
         "anxiety_score": 41,
         "_deepnote_index_column": 6115
        },
        {
         "Unnamed: 0": 6116,
         "Participant": 469,
         "Stimulus": 5,
         "Condition": "b",
         "uniformityOnsetTime": 350.0000000001164,
         "depression_score": 10,
         "anxiety_score": 41,
         "_deepnote_index_column": 6116
        },
        {
         "Unnamed: 0": 6119,
         "Participant": 469,
         "Stimulus": 6,
         "Condition": "b",
         "uniformityOnsetTime": 611,
         "depression_score": 10,
         "anxiety_score": 41,
         "_deepnote_index_column": 6119
        },
        {
         "Unnamed: 0": 6120,
         "Participant": 469,
         "Stimulus": 7,
         "Condition": "b",
         "uniformityOnsetTime": 89.00000000011642,
         "depression_score": 10,
         "anxiety_score": 41,
         "_deepnote_index_column": 6120
        },
        {
         "Unnamed: 0": 6122,
         "Participant": 469,
         "Stimulus": 11,
         "Condition": "b",
         "uniformityOnsetTime": 136,
         "depression_score": 10,
         "anxiety_score": 41,
         "_deepnote_index_column": 6122
        },
        {
         "Unnamed: 0": 6125,
         "Participant": 469,
         "Stimulus": 11,
         "Condition": "b",
         "uniformityOnsetTime": 302,
         "depression_score": 10,
         "anxiety_score": 41,
         "_deepnote_index_column": 6125
        },
        {
         "Unnamed: 0": 6127,
         "Participant": 469,
         "Stimulus": 6,
         "Condition": "b",
         "uniformityOnsetTime": 128,
         "depression_score": 10,
         "anxiety_score": 41,
         "_deepnote_index_column": 6127
        },
        {
         "Unnamed: 0": 6131,
         "Participant": 469,
         "Stimulus": 14,
         "Condition": "b",
         "uniformityOnsetTime": 586,
         "depression_score": 10,
         "anxiety_score": 41,
         "_deepnote_index_column": 6131
        },
        {
         "Unnamed: 0": 6132,
         "Participant": 469,
         "Stimulus": 5,
         "Condition": "b",
         "uniformityOnsetTime": 399,
         "depression_score": 10,
         "anxiety_score": 41,
         "_deepnote_index_column": 6132
        },
        {
         "Unnamed: 0": 6133,
         "Participant": 469,
         "Stimulus": 4,
         "Condition": "b",
         "uniformityOnsetTime": 540,
         "depression_score": 10,
         "anxiety_score": 41,
         "_deepnote_index_column": 6133
        },
        {
         "Unnamed: 0": 6135,
         "Participant": 469,
         "Stimulus": 7,
         "Condition": "b",
         "uniformityOnsetTime": 203.0000000001164,
         "depression_score": 10,
         "anxiety_score": 41,
         "_deepnote_index_column": 6135
        },
        {
         "Unnamed: 0": 6137,
         "Participant": 469,
         "Stimulus": 14,
         "Condition": "b",
         "uniformityOnsetTime": 2070,
         "depression_score": 10,
         "anxiety_score": 41,
         "_deepnote_index_column": 6137
        },
        {
         "Unnamed: 0": 6138,
         "Participant": 469,
         "Stimulus": 13,
         "Condition": "b",
         "uniformityOnsetTime": 212,
         "depression_score": 10,
         "anxiety_score": 41,
         "_deepnote_index_column": 6138
        },
        {
         "Unnamed: 0": 6139,
         "Participant": 469,
         "Stimulus": 13,
         "Condition": "b",
         "uniformityOnsetTime": 109.00000000011642,
         "depression_score": 10,
         "anxiety_score": 41,
         "_deepnote_index_column": 6139
        }
       ]
      },
      "text/plain": "      Unnamed: 0  Participant  Stimulus Condition  uniformityOnsetTime  \\\n1              1            0         7         b              5320.98   \n3              3            0         8         b              3320.54   \n4              4            0        10         b              7111.90   \n5              5            0        12         b              2568.14   \n8              8            0        15         b              1012.42   \n...          ...          ...       ...       ...                  ...   \n6133        6133          469         4         b               540.00   \n6135        6135          469         7         b               203.00   \n6137        6137          469        14         b              2070.00   \n6138        6138          469        13         b               212.00   \n6139        6139          469        13         b               109.00   \n\n      depression_score  anxiety_score  \n1                    1           39.0  \n3                    1           39.0  \n4                    1           39.0  \n5                    1           39.0  \n8                    1           39.0  \n...                ...            ...  \n6133                10           41.0  \n6135                10           41.0  \n6137                10           41.0  \n6138                10           41.0  \n6139                10           41.0  \n\n[3223 rows x 7 columns]",
      "text/html": "<div>\n<style scoped>\n    .dataframe tbody tr th:only-of-type {\n        vertical-align: middle;\n    }\n\n    .dataframe tbody tr th {\n        vertical-align: top;\n    }\n\n    .dataframe thead th {\n        text-align: right;\n    }\n</style>\n<table border=\"1\" class=\"dataframe\">\n  <thead>\n    <tr style=\"text-align: right;\">\n      <th></th>\n      <th>Unnamed: 0</th>\n      <th>Participant</th>\n      <th>Stimulus</th>\n      <th>Condition</th>\n      <th>uniformityOnsetTime</th>\n      <th>depression_score</th>\n      <th>anxiety_score</th>\n    </tr>\n  </thead>\n  <tbody>\n    <tr>\n      <th>1</th>\n      <td>1</td>\n      <td>0</td>\n      <td>7</td>\n      <td>b</td>\n      <td>5320.98</td>\n      <td>1</td>\n      <td>39.0</td>\n    </tr>\n    <tr>\n      <th>3</th>\n      <td>3</td>\n      <td>0</td>\n      <td>8</td>\n      <td>b</td>\n      <td>3320.54</td>\n      <td>1</td>\n      <td>39.0</td>\n    </tr>\n    <tr>\n      <th>4</th>\n      <td>4</td>\n      <td>0</td>\n      <td>10</td>\n      <td>b</td>\n      <td>7111.90</td>\n      <td>1</td>\n      <td>39.0</td>\n    </tr>\n    <tr>\n      <th>5</th>\n      <td>5</td>\n      <td>0</td>\n      <td>12</td>\n      <td>b</td>\n      <td>2568.14</td>\n      <td>1</td>\n      <td>39.0</td>\n    </tr>\n    <tr>\n      <th>8</th>\n      <td>8</td>\n      <td>0</td>\n      <td>15</td>\n      <td>b</td>\n      <td>1012.42</td>\n      <td>1</td>\n      <td>39.0</td>\n    </tr>\n    <tr>\n      <th>...</th>\n      <td>...</td>\n      <td>...</td>\n      <td>...</td>\n      <td>...</td>\n      <td>...</td>\n      <td>...</td>\n      <td>...</td>\n    </tr>\n    <tr>\n      <th>6133</th>\n      <td>6133</td>\n      <td>469</td>\n      <td>4</td>\n      <td>b</td>\n      <td>540.00</td>\n      <td>10</td>\n      <td>41.0</td>\n    </tr>\n    <tr>\n      <th>6135</th>\n      <td>6135</td>\n      <td>469</td>\n      <td>7</td>\n      <td>b</td>\n      <td>203.00</td>\n      <td>10</td>\n      <td>41.0</td>\n    </tr>\n    <tr>\n      <th>6137</th>\n      <td>6137</td>\n      <td>469</td>\n      <td>14</td>\n      <td>b</td>\n      <td>2070.00</td>\n      <td>10</td>\n      <td>41.0</td>\n    </tr>\n    <tr>\n      <th>6138</th>\n      <td>6138</td>\n      <td>469</td>\n      <td>13</td>\n      <td>b</td>\n      <td>212.00</td>\n      <td>10</td>\n      <td>41.0</td>\n    </tr>\n    <tr>\n      <th>6139</th>\n      <td>6139</td>\n      <td>469</td>\n      <td>13</td>\n      <td>b</td>\n      <td>109.00</td>\n      <td>10</td>\n      <td>41.0</td>\n    </tr>\n  </tbody>\n</table>\n<p>3223 rows × 7 columns</p>\n</div>"
     },
     "metadata": {}
    }
   ],
   "execution_count": 14
  },
  {
   "cell_type": "code",
   "source": "clean_df_a['uniformityOnsetTime'].mean()",
   "metadata": {
    "tags": [],
    "cell_id": "00006-bee501a8-6b4d-4dae-8e7b-ee393b5ed623",
    "deepnote_to_be_reexecuted": false,
    "source_hash": "b1154072",
    "execution_start": 1626941908110,
    "execution_millis": 15,
    "deepnote_cell_type": "code"
   },
   "outputs": [
    {
     "output_type": "execute_result",
     "execution_count": 15,
     "data": {
      "text/plain": "2845.570164213427"
     },
     "metadata": {}
    }
   ],
   "execution_count": 15
  },
  {
   "cell_type": "code",
   "source": "clean_df_b['uniformityOnsetTime'].mean()",
   "metadata": {
    "tags": [],
    "cell_id": "00007-4108b409-76c9-4469-a828-8a3ef9dd35d9",
    "deepnote_to_be_reexecuted": false,
    "source_hash": "ebab98e5",
    "execution_start": 1626941908162,
    "execution_millis": 3,
    "deepnote_cell_type": "code"
   },
   "outputs": [
    {
     "output_type": "execute_result",
     "execution_count": 16,
     "data": {
      "text/plain": "1145.1011551379029"
     },
     "metadata": {}
    }
   ],
   "execution_count": 16
  },
  {
   "cell_type": "code",
   "source": "clean_df['Participant'].value_counts()",
   "metadata": {
    "tags": [],
    "cell_id": "00008-b8aecd3b-6c2a-4947-8240-d79e32e4a197",
    "deepnote_to_be_reexecuted": false,
    "source_hash": "8edc944d",
    "execution_start": 1626942156640,
    "execution_millis": 9,
    "deepnote_cell_type": "code"
   },
   "outputs": [
    {
     "output_type": "execute_result",
     "execution_count": 17,
     "data": {
      "text/plain": "75     72\n77     72\n112    72\n355    72\n192    72\n       ..\n95      1\n393     1\n324     1\n348     1\n103     1\nName: Participant, Length: 420, dtype: int64"
     },
     "metadata": {}
    }
   ],
   "execution_count": 17
  },
  {
   "cell_type": "code",
   "source": "#remove participants that had less than x trials\nx = 20\nover_x_trials_df = clean_df[clean_df.groupby('Participant')['Participant'].transform('count').ge(x)]\nover_x_trials_a_df = clean_df_a[clean_df_a.groupby('Participant')['Participant'].transform('count').ge(x)]\n",
   "metadata": {
    "tags": [],
    "cell_id": "00009-cf55ca59-19cc-4bab-b797-3b587952384c",
    "deepnote_to_be_reexecuted": false,
    "source_hash": "e0a636b5",
    "execution_start": 1626950567733,
    "execution_millis": 10,
    "deepnote_cell_type": "code"
   },
   "outputs": [],
   "execution_count": 73
  },
  {
   "cell_type": "code",
   "source": "over_x_trials_df['Participant'].nunique()",
   "metadata": {
    "tags": [],
    "cell_id": "00010-19d4f735-0b0f-4b4c-827d-11a42f464820",
    "deepnote_to_be_reexecuted": false,
    "source_hash": "af422a31",
    "execution_start": 1626943538783,
    "execution_millis": 8,
    "deepnote_cell_type": "code"
   },
   "outputs": [
    {
     "output_type": "execute_result",
     "execution_count": 53,
     "data": {
      "text/plain": "92"
     },
     "metadata": {}
    }
   ],
   "execution_count": 53
  },
  {
   "cell_type": "code",
   "source": "clean_df_10 = over_x_trials_df[over_x_trials_df['Stimulus']==10]",
   "metadata": {
    "tags": [],
    "cell_id": "00011-a8345848-2ab5-4fba-8d2c-98324b33d79f",
    "deepnote_to_be_reexecuted": false,
    "source_hash": "266f199d",
    "execution_start": 1626943546160,
    "execution_millis": 17,
    "deepnote_cell_type": "code"
   },
   "outputs": [],
   "execution_count": 55
  },
  {
   "cell_type": "code",
   "source": "clean_df_a_10 = over_x_trials_a_df[over_x_trials_a_df['Stimulus']==10]",
   "metadata": {
    "tags": [],
    "cell_id": "00012-3de89c79-00ad-4f34-b016-a40f7737c100",
    "deepnote_to_be_reexecuted": false,
    "source_hash": "f8ad5074",
    "execution_start": 1626950596640,
    "execution_millis": 3,
    "deepnote_cell_type": "code"
   },
   "outputs": [],
   "execution_count": 74
  },
  {
   "cell_type": "code",
   "source": "clean_df_10",
   "metadata": {
    "tags": [],
    "cell_id": "00012-2b10e86b-e4e2-4b86-a41b-2997a6e24be4",
    "deepnote_to_be_reexecuted": false,
    "source_hash": "4e5b5d8e",
    "execution_start": 1626943547478,
    "execution_millis": 76,
    "deepnote_cell_type": "code"
   },
   "outputs": [
    {
     "output_type": "execute_result",
     "execution_count": 56,
     "data": {
      "application/vnd.deepnote.dataframe.v2+json": {
       "row_count": 332,
       "column_count": 7,
       "columns": [
        {
         "name": "Unnamed: 0",
         "dtype": "int64",
         "stats": {
          "unique_count": 332,
          "nan_count": 0,
          "min": "110",
          "max": "6129",
          "histogram": [
           {
            "bin_start": 110,
            "bin_end": 711.9,
            "count": 33
           },
           {
            "bin_start": 711.9,
            "bin_end": 1313.8,
            "count": 37
           },
           {
            "bin_start": 1313.8,
            "bin_end": 1915.6999999999998,
            "count": 38
           },
           {
            "bin_start": 1915.6999999999998,
            "bin_end": 2517.6,
            "count": 32
           },
           {
            "bin_start": 2517.6,
            "bin_end": 3119.5,
            "count": 31
           },
           {
            "bin_start": 3119.5,
            "bin_end": 3721.3999999999996,
            "count": 36
           },
           {
            "bin_start": 3721.3999999999996,
            "bin_end": 4323.3,
            "count": 28
           },
           {
            "bin_start": 4323.3,
            "bin_end": 4925.2,
            "count": 38
           },
           {
            "bin_start": 4925.2,
            "bin_end": 5527.099999999999,
            "count": 22
           },
           {
            "bin_start": 5527.099999999999,
            "bin_end": 6129,
            "count": 37
           }
          ]
         }
        },
        {
         "name": "Participant",
         "dtype": "int64",
         "stats": {
          "unique_count": 88,
          "nan_count": 0,
          "min": "16",
          "max": "469",
          "histogram": [
           {
            "bin_start": 16,
            "bin_end": 61.3,
            "count": 34
           },
           {
            "bin_start": 61.3,
            "bin_end": 106.6,
            "count": 48
           },
           {
            "bin_start": 106.6,
            "bin_end": 151.89999999999998,
            "count": 37
           },
           {
            "bin_start": 151.89999999999998,
            "bin_end": 197.2,
            "count": 38
           },
           {
            "bin_start": 197.2,
            "bin_end": 242.5,
            "count": 17
           },
           {
            "bin_start": 242.5,
            "bin_end": 287.79999999999995,
            "count": 46
           },
           {
            "bin_start": 287.79999999999995,
            "bin_end": 333.09999999999997,
            "count": 18
           },
           {
            "bin_start": 333.09999999999997,
            "bin_end": 378.4,
            "count": 42
           },
           {
            "bin_start": 378.4,
            "bin_end": 423.7,
            "count": 13
           },
           {
            "bin_start": 423.7,
            "bin_end": 469,
            "count": 39
           }
          ]
         }
        },
        {
         "name": "Stimulus",
         "dtype": "int64",
         "stats": {
          "unique_count": 1,
          "nan_count": 0,
          "min": "10",
          "max": "10",
          "histogram": [
           {
            "bin_start": 9.5,
            "bin_end": 9.6,
            "count": 0
           },
           {
            "bin_start": 9.6,
            "bin_end": 9.7,
            "count": 0
           },
           {
            "bin_start": 9.7,
            "bin_end": 9.8,
            "count": 0
           },
           {
            "bin_start": 9.8,
            "bin_end": 9.9,
            "count": 0
           },
           {
            "bin_start": 9.9,
            "bin_end": 10,
            "count": 0
           },
           {
            "bin_start": 10,
            "bin_end": 10.1,
            "count": 332
           },
           {
            "bin_start": 10.1,
            "bin_end": 10.2,
            "count": 0
           },
           {
            "bin_start": 10.2,
            "bin_end": 10.3,
            "count": 0
           },
           {
            "bin_start": 10.3,
            "bin_end": 10.4,
            "count": 0
           },
           {
            "bin_start": 10.4,
            "bin_end": 10.5,
            "count": 0
           }
          ]
         }
        },
        {
         "name": "Condition",
         "dtype": "object",
         "stats": {
          "unique_count": 2,
          "nan_count": 0,
          "categories": [
           {
            "name": "a",
            "count": 175
           },
           {
            "name": "b",
            "count": 157
           }
          ]
         }
        },
        {
         "name": "uniformityOnsetTime",
         "dtype": "float64",
         "stats": {
          "unique_count": 332,
          "nan_count": 0,
          "min": "5.180999999982305",
          "max": "14665.56499995233",
          "histogram": [
           {
            "bin_start": 5.180999999982305,
            "bin_end": 1471.2193999952171,
            "count": 190
           },
           {
            "bin_start": 1471.2193999952171,
            "bin_end": 2937.257799990452,
            "count": 57
           },
           {
            "bin_start": 2937.257799990452,
            "bin_end": 4403.296199985687,
            "count": 38
           },
           {
            "bin_start": 4403.296199985687,
            "bin_end": 5869.334599980922,
            "count": 28
           },
           {
            "bin_start": 5869.334599980922,
            "bin_end": 7335.372999976156,
            "count": 12
           },
           {
            "bin_start": 7335.372999976156,
            "bin_end": 8801.411399971392,
            "count": 2
           },
           {
            "bin_start": 8801.411399971392,
            "bin_end": 10267.449799966626,
            "count": 2
           },
           {
            "bin_start": 10267.449799966626,
            "bin_end": 11733.488199961861,
            "count": 0
           },
           {
            "bin_start": 11733.488199961861,
            "bin_end": 13199.526599957097,
            "count": 1
           },
           {
            "bin_start": 13199.526599957097,
            "bin_end": 14665.56499995233,
            "count": 2
           }
          ]
         }
        },
        {
         "name": "depression_score",
         "dtype": "int64",
         "stats": {
          "unique_count": 28,
          "nan_count": 0,
          "min": "0",
          "max": "49",
          "histogram": [
           {
            "bin_start": 0,
            "bin_end": 4.9,
            "count": 141
           },
           {
            "bin_start": 4.9,
            "bin_end": 9.8,
            "count": 95
           },
           {
            "bin_start": 9.8,
            "bin_end": 14.700000000000001,
            "count": 41
           },
           {
            "bin_start": 14.700000000000001,
            "bin_end": 19.6,
            "count": 30
           },
           {
            "bin_start": 19.6,
            "bin_end": 24.5,
            "count": 13
           },
           {
            "bin_start": 24.5,
            "bin_end": 29.400000000000002,
            "count": 7
           },
           {
            "bin_start": 29.400000000000002,
            "bin_end": 34.300000000000004,
            "count": 3
           },
           {
            "bin_start": 34.300000000000004,
            "bin_end": 39.2,
            "count": 0
           },
           {
            "bin_start": 39.2,
            "bin_end": 44.1,
            "count": 0
           },
           {
            "bin_start": 44.1,
            "bin_end": 49,
            "count": 2
           }
          ]
         }
        },
        {
         "name": "anxiety_score",
         "dtype": "float64",
         "stats": {
          "unique_count": 33,
          "nan_count": 9,
          "min": "22.0",
          "max": "62.0",
          "histogram": [
           {
            "bin_start": 22,
            "bin_end": 26,
            "count": 54
           },
           {
            "bin_start": 26,
            "bin_end": 30,
            "count": 45
           },
           {
            "bin_start": 30,
            "bin_end": 34,
            "count": 79
           },
           {
            "bin_start": 34,
            "bin_end": 38,
            "count": 39
           },
           {
            "bin_start": 38,
            "bin_end": 42,
            "count": 30
           },
           {
            "bin_start": 42,
            "bin_end": 46,
            "count": 42
           },
           {
            "bin_start": 46,
            "bin_end": 50,
            "count": 22
           },
           {
            "bin_start": 50,
            "bin_end": 54,
            "count": 6
           },
           {
            "bin_start": 54,
            "bin_end": 58,
            "count": 4
           },
           {
            "bin_start": 58,
            "bin_end": 62,
            "count": 2
           }
          ]
         }
        },
        {
         "name": "_deepnote_index_column",
         "dtype": "int64"
        }
       ],
       "rows_top": [
        {
         "Unnamed: 0": 110,
         "Participant": 16,
         "Stimulus": 10,
         "Condition": "a",
         "uniformityOnsetTime": 212.7999999999884,
         "depression_score": 11,
         "anxiety_score": 45,
         "_deepnote_index_column": 110
        },
        {
         "Unnamed: 0": 121,
         "Participant": 16,
         "Stimulus": 10,
         "Condition": "b",
         "uniformityOnsetTime": 324.0200000000186,
         "depression_score": 11,
         "anxiety_score": 45,
         "_deepnote_index_column": 121
        },
        {
         "Unnamed: 0": 130,
         "Participant": 16,
         "Stimulus": 10,
         "Condition": "a",
         "uniformityOnsetTime": 4078.5200000000186,
         "depression_score": 11,
         "anxiety_score": 45,
         "_deepnote_index_column": 130
        },
        {
         "Unnamed: 0": 151,
         "Participant": 16,
         "Stimulus": 10,
         "Condition": "b",
         "uniformityOnsetTime": 9.119999999995343,
         "depression_score": 11,
         "anxiety_score": 45,
         "_deepnote_index_column": 151
        },
        {
         "Unnamed: 0": 159,
         "Participant": 16,
         "Stimulus": 10,
         "Condition": "a",
         "uniformityOnsetTime": 4174.739999999991,
         "depression_score": 11,
         "anxiety_score": 45,
         "_deepnote_index_column": 159
        },
        {
         "Unnamed: 0": 161,
         "Participant": 18,
         "Stimulus": 10,
         "Condition": "b",
         "uniformityOnsetTime": 226.0250000022352,
         "depression_score": 3,
         "anxiety_score": 22,
         "_deepnote_index_column": 161
        },
        {
         "Unnamed: 0": 166,
         "Participant": 18,
         "Stimulus": 10,
         "Condition": "a",
         "uniformityOnsetTime": 103.7809999990277,
         "depression_score": 3,
         "anxiety_score": 22,
         "_deepnote_index_column": 166
        },
        {
         "Unnamed: 0": 182,
         "Participant": 18,
         "Stimulus": 10,
         "Condition": "a",
         "uniformityOnsetTime": 625.5090000014752,
         "depression_score": 3,
         "anxiety_score": 22,
         "_deepnote_index_column": 182
        },
        {
         "Unnamed: 0": 204,
         "Participant": 19,
         "Stimulus": 10,
         "Condition": "b",
         "uniformityOnsetTime": 441.320000000007,
         "depression_score": 19,
         "anxiety_score": 47,
         "_deepnote_index_column": 204
        },
        {
         "Unnamed: 0": 207,
         "Participant": 19,
         "Stimulus": 10,
         "Condition": "b",
         "uniformityOnsetTime": 313.0200000000186,
         "depression_score": 19,
         "anxiety_score": 47,
         "_deepnote_index_column": 207
        },
        {
         "Unnamed: 0": 208,
         "Participant": 19,
         "Stimulus": 10,
         "Condition": "a",
         "uniformityOnsetTime": 4810.780000000028,
         "depression_score": 19,
         "anxiety_score": 47,
         "_deepnote_index_column": 208
        },
        {
         "Unnamed: 0": 215,
         "Participant": 19,
         "Stimulus": 10,
         "Condition": "a",
         "uniformityOnsetTime": 5156.960000000021,
         "depression_score": 19,
         "anxiety_score": 47,
         "_deepnote_index_column": 215
        },
        {
         "Unnamed: 0": 230,
         "Participant": 22,
         "Stimulus": 10,
         "Condition": "b",
         "uniformityOnsetTime": 2317.583999997005,
         "depression_score": 29,
         "anxiety_score": 56,
         "_deepnote_index_column": 230
        },
        {
         "Unnamed: 0": 305,
         "Participant": 30,
         "Stimulus": 10,
         "Condition": "b",
         "uniformityOnsetTime": 973.179999999993,
         "depression_score": 3,
         "anxiety_score": 23,
         "_deepnote_index_column": 305
        },
        {
         "Unnamed: 0": 315,
         "Participant": 30,
         "Stimulus": 10,
         "Condition": "b",
         "uniformityOnsetTime": 545.1800000000512,
         "depression_score": 3,
         "anxiety_score": 23,
         "_deepnote_index_column": 315
        },
        {
         "Unnamed: 0": 322,
         "Participant": 30,
         "Stimulus": 10,
         "Condition": "a",
         "uniformityOnsetTime": 4047.180000000051,
         "depression_score": 3,
         "anxiety_score": 23,
         "_deepnote_index_column": 322
        },
        {
         "Unnamed: 0": 395,
         "Participant": 40,
         "Stimulus": 10,
         "Condition": "a",
         "uniformityOnsetTime": 649.739000011934,
         "depression_score": 14,
         "anxiety_score": 32,
         "_deepnote_index_column": 395
        },
        {
         "Unnamed: 0": 424,
         "Participant": 41,
         "Stimulus": 10,
         "Condition": "a",
         "uniformityOnsetTime": 186.66300000593765,
         "depression_score": 7,
         "anxiety_score": 38,
         "_deepnote_index_column": 424
        },
        {
         "Unnamed: 0": 440,
         "Participant": 41,
         "Stimulus": 10,
         "Condition": "a",
         "uniformityOnsetTime": 721.0820000059903,
         "depression_score": 7,
         "anxiety_score": 38,
         "_deepnote_index_column": 440
        },
        {
         "Unnamed: 0": 459,
         "Participant": 41,
         "Stimulus": 10,
         "Condition": "b",
         "uniformityOnsetTime": 281.23300000594463,
         "depression_score": 7,
         "anxiety_score": 38,
         "_deepnote_index_column": 459
        },
        {
         "Unnamed: 0": 470,
         "Participant": 43,
         "Stimulus": 10,
         "Condition": "b",
         "uniformityOnsetTime": 3216.4599999999627,
         "depression_score": 16,
         "anxiety_score": 57,
         "_deepnote_index_column": 470
        },
        {
         "Unnamed: 0": 473,
         "Participant": 43,
         "Stimulus": 10,
         "Condition": "a",
         "uniformityOnsetTime": 3483.7399999999907,
         "depression_score": 16,
         "anxiety_score": 57,
         "_deepnote_index_column": 473
        },
        {
         "Unnamed: 0": 481,
         "Participant": 43,
         "Stimulus": 10,
         "Condition": "a",
         "uniformityOnsetTime": 4634.540000000037,
         "depression_score": 16,
         "anxiety_score": 57,
         "_deepnote_index_column": 481
        },
        {
         "Unnamed: 0": 547,
         "Participant": 52,
         "Stimulus": 10,
         "Condition": "a",
         "uniformityOnsetTime": 5443.57799999998,
         "depression_score": 5,
         "anxiety_score": 33,
         "_deepnote_index_column": 547
        },
        {
         "Unnamed: 0": 568,
         "Participant": 52,
         "Stimulus": 10,
         "Condition": "b",
         "uniformityOnsetTime": 3756.682999952347,
         "depression_score": 5,
         "anxiety_score": 33,
         "_deepnote_index_column": 568
        },
        {
         "Unnamed: 0": 570,
         "Participant": 52,
         "Stimulus": 10,
         "Condition": "a",
         "uniformityOnsetTime": 5489.086999988067,
         "depression_score": 5,
         "anxiety_score": 33,
         "_deepnote_index_column": 570
        },
        {
         "Unnamed: 0": 592,
         "Participant": 54,
         "Stimulus": 10,
         "Condition": "b",
         "uniformityOnsetTime": 676.6869999761693,
         "depression_score": 4,
         "anxiety_score": 35,
         "_deepnote_index_column": 592
        },
        {
         "Unnamed: 0": 602,
         "Participant": 54,
         "Stimulus": 10,
         "Condition": "b",
         "uniformityOnsetTime": 581.1730000119423,
         "depression_score": 4,
         "anxiety_score": 35,
         "_deepnote_index_column": 602
        },
        {
         "Unnamed: 0": 606,
         "Participant": 54,
         "Stimulus": 10,
         "Condition": "a",
         "uniformityOnsetTime": 836.214999988093,
         "depression_score": 4,
         "anxiety_score": 35,
         "_deepnote_index_column": 606
        },
        {
         "Unnamed: 0": 628,
         "Participant": 54,
         "Stimulus": 10,
         "Condition": "a",
         "uniformityOnsetTime": 584.3279999761144,
         "depression_score": 4,
         "anxiety_score": 35,
         "_deepnote_index_column": 628
        },
        {
         "Unnamed: 0": 638,
         "Participant": 54,
         "Stimulus": 10,
         "Condition": "a",
         "uniformityOnsetTime": 324.8279999999795,
         "depression_score": 4,
         "anxiety_score": 35,
         "_deepnote_index_column": 638
        },
        {
         "Unnamed: 0": 644,
         "Participant": 54,
         "Stimulus": 10,
         "Condition": "b",
         "uniformityOnsetTime": 736.0879999999888,
         "depression_score": 4,
         "anxiety_score": 35,
         "_deepnote_index_column": 644
        },
        {
         "Unnamed: 0": 700,
         "Participant": 59,
         "Stimulus": 10,
         "Condition": "b",
         "uniformityOnsetTime": 236.26600000896724,
         "depression_score": 16,
         "anxiety_score": 45,
         "_deepnote_index_column": 700
        },
        {
         "Unnamed: 0": 719,
         "Participant": 59,
         "Stimulus": 10,
         "Condition": "a",
         "uniformityOnsetTime": 4954.84600000002,
         "depression_score": 16,
         "anxiety_score": 45,
         "_deepnote_index_column": 719
        },
        {
         "Unnamed: 0": 756,
         "Participant": 66,
         "Stimulus": 10,
         "Condition": "a",
         "uniformityOnsetTime": 180.48699980881065,
         "depression_score": 14,
         "anxiety_score": 42,
         "_deepnote_index_column": 756
        },
        {
         "Unnamed: 0": 757,
         "Participant": 66,
         "Stimulus": 10,
         "Condition": "b",
         "uniformityOnsetTime": 238.59899980947372,
         "depression_score": 14,
         "anxiety_score": 42,
         "_deepnote_index_column": 757
        },
        {
         "Unnamed: 0": 760,
         "Participant": 66,
         "Stimulus": 10,
         "Condition": "b",
         "uniformityOnsetTime": 267.12599985674024,
         "depression_score": 14,
         "anxiety_score": 42,
         "_deepnote_index_column": 760
        },
        {
         "Unnamed: 0": 764,
         "Participant": 66,
         "Stimulus": 10,
         "Condition": "b",
         "uniformityOnsetTime": 135.47699995245785,
         "depression_score": 14,
         "anxiety_score": 42,
         "_deepnote_index_column": 764
        },
        {
         "Unnamed: 0": 791,
         "Participant": 66,
         "Stimulus": 10,
         "Condition": "a",
         "uniformityOnsetTime": 78.95000000018626,
         "depression_score": 14,
         "anxiety_score": 42,
         "_deepnote_index_column": 791
        },
        {
         "Unnamed: 0": 799,
         "Participant": 66,
         "Stimulus": 10,
         "Condition": "a",
         "uniformityOnsetTime": 81.99600000027567,
         "depression_score": 14,
         "anxiety_score": 42,
         "_deepnote_index_column": 799
        },
        {
         "Unnamed: 0": 873,
         "Participant": 73,
         "Stimulus": 10,
         "Condition": "a",
         "uniformityOnsetTime": 2842.5,
         "depression_score": 2,
         "anxiety_score": 39,
         "_deepnote_index_column": 873
        },
        {
         "Unnamed: 0": 886,
         "Participant": 75,
         "Stimulus": 10,
         "Condition": "a",
         "uniformityOnsetTime": 2319.4420000014943,
         "depression_score": 4,
         "anxiety_score": 32,
         "_deepnote_index_column": 886
        },
        {
         "Unnamed: 0": 888,
         "Participant": 75,
         "Stimulus": 10,
         "Condition": "a",
         "uniformityOnsetTime": 2226.9520000022603,
         "depression_score": 4,
         "anxiety_score": 32,
         "_deepnote_index_column": 888
        },
        {
         "Unnamed: 0": 906,
         "Participant": 75,
         "Stimulus": 10,
         "Condition": "b",
         "uniformityOnsetTime": 349.33700000005774,
         "depression_score": 4,
         "anxiety_score": 32,
         "_deepnote_index_column": 906
        },
        {
         "Unnamed: 0": 912,
         "Participant": 75,
         "Stimulus": 10,
         "Condition": "b",
         "uniformityOnsetTime": 711.255000001518,
         "depression_score": 4,
         "anxiety_score": 32,
         "_deepnote_index_column": 912
        },
        {
         "Unnamed: 0": 938,
         "Participant": 75,
         "Stimulus": 10,
         "Condition": "a",
         "uniformityOnsetTime": 437.5120000030147,
         "depression_score": 4,
         "anxiety_score": 32,
         "_deepnote_index_column": 938
        },
        {
         "Unnamed: 0": 941,
         "Participant": 75,
         "Stimulus": 10,
         "Condition": "b",
         "uniformityOnsetTime": 262.1679999999469,
         "depression_score": 4,
         "anxiety_score": 32,
         "_deepnote_index_column": 941
        },
        {
         "Unnamed: 0": 995,
         "Participant": 77,
         "Stimulus": 10,
         "Condition": "a",
         "uniformityOnsetTime": 41.57999999995809,
         "depression_score": 25,
         "anxiety_score": 49,
         "_deepnote_index_column": 995
        },
        {
         "Unnamed: 0": 1019,
         "Participant": 77,
         "Stimulus": 10,
         "Condition": "b",
         "uniformityOnsetTime": 110.40000000002328,
         "depression_score": 25,
         "anxiety_score": 49,
         "_deepnote_index_column": 1019
        },
        {
         "Unnamed: 0": 1022,
         "Participant": 77,
         "Stimulus": 10,
         "Condition": "b",
         "uniformityOnsetTime": 39.19999999995344,
         "depression_score": 25,
         "anxiety_score": 49,
         "_deepnote_index_column": 1022
        },
        {
         "Unnamed: 0": 1023,
         "Participant": 77,
         "Stimulus": 10,
         "Condition": "b",
         "uniformityOnsetTime": 18.959999999962747,
         "depression_score": 25,
         "anxiety_score": 49,
         "_deepnote_index_column": 1023
        },
        {
         "Unnamed: 0": 1040,
         "Participant": 77,
         "Stimulus": 10,
         "Condition": "a",
         "uniformityOnsetTime": 35.09999999997672,
         "depression_score": 25,
         "anxiety_score": 49,
         "_deepnote_index_column": 1040
        },
        {
         "Unnamed: 0": 1041,
         "Participant": 77,
         "Stimulus": 10,
         "Condition": "a",
         "uniformityOnsetTime": 236.4200000000419,
         "depression_score": 25,
         "anxiety_score": 49,
         "_deepnote_index_column": 1041
        },
        {
         "Unnamed: 0": 1078,
         "Participant": 79,
         "Stimulus": 10,
         "Condition": "b",
         "uniformityOnsetTime": 131.0000000000582,
         "depression_score": 12,
         "anxiety_score": 42,
         "_deepnote_index_column": 1078
        },
        {
         "Unnamed: 0": 1080,
         "Participant": 79,
         "Stimulus": 10,
         "Condition": "a",
         "uniformityOnsetTime": 2415,
         "depression_score": 12,
         "anxiety_score": 42,
         "_deepnote_index_column": 1080
        },
        {
         "Unnamed: 0": 1112,
         "Participant": 81,
         "Stimulus": 10,
         "Condition": "b",
         "uniformityOnsetTime": 1002.177999998501,
         "depression_score": 0,
         "anxiety_score": 24,
         "_deepnote_index_column": 1112
        },
        {
         "Unnamed: 0": 1123,
         "Participant": 81,
         "Stimulus": 10,
         "Condition": "b",
         "uniformityOnsetTime": 1915.9540000014824,
         "depression_score": 0,
         "anxiety_score": 24,
         "_deepnote_index_column": 1123
        },
        {
         "Unnamed: 0": 1142,
         "Participant": 81,
         "Stimulus": 10,
         "Condition": "a",
         "uniformityOnsetTime": 369.25600000144914,
         "depression_score": 0,
         "anxiety_score": 24,
         "_deepnote_index_column": 1142
        },
        {
         "Unnamed: 0": 1146,
         "Participant": 81,
         "Stimulus": 10,
         "Condition": "a",
         "uniformityOnsetTime": 340.61999999999534,
         "depression_score": 0,
         "anxiety_score": 24,
         "_deepnote_index_column": 1146
        },
        {
         "Unnamed: 0": 1159,
         "Participant": 81,
         "Stimulus": 10,
         "Condition": "b",
         "uniformityOnsetTime": 1195.811999998521,
         "depression_score": 0,
         "anxiety_score": 24,
         "_deepnote_index_column": 1159
        },
        {
         "Unnamed: 0": 1164,
         "Participant": 81,
         "Stimulus": 10,
         "Condition": "a",
         "uniformityOnsetTime": 1918.307999998564,
         "depression_score": 0,
         "anxiety_score": 24,
         "_deepnote_index_column": 1164
        },
        {
         "Unnamed: 0": 1205,
         "Participant": 87,
         "Stimulus": 10,
         "Condition": "a",
         "uniformityOnsetTime": 2903.679999999993,
         "depression_score": 3,
         "anxiety_score": 27,
         "_deepnote_index_column": 1205
        },
        {
         "Unnamed: 0": 1222,
         "Participant": 87,
         "Stimulus": 10,
         "Condition": "a",
         "uniformityOnsetTime": 5928,
         "depression_score": 3,
         "anxiety_score": 27,
         "_deepnote_index_column": 1222
        },
        {
         "Unnamed: 0": 1236,
         "Participant": 87,
         "Stimulus": 10,
         "Condition": "b",
         "uniformityOnsetTime": 734.8000000000466,
         "depression_score": 3,
         "anxiety_score": 27,
         "_deepnote_index_column": 1236
        },
        {
         "Unnamed: 0": 1243,
         "Participant": 87,
         "Stimulus": 10,
         "Condition": "b",
         "uniformityOnsetTime": 1764.640000000014,
         "depression_score": 3,
         "anxiety_score": 27,
         "_deepnote_index_column": 1243
        },
        {
         "Unnamed: 0": 1273,
         "Participant": 91,
         "Stimulus": 10,
         "Condition": "b",
         "uniformityOnsetTime": 945.4400001913308,
         "depression_score": 10,
         "anxiety_score": 29,
         "_deepnote_index_column": 1273
        },
        {
         "Unnamed: 0": 1277,
         "Participant": 91,
         "Stimulus": 10,
         "Condition": "a",
         "uniformityOnsetTime": 123.12100076675416,
         "depression_score": 10,
         "anxiety_score": 29,
         "_deepnote_index_column": 1277
        },
        {
         "Unnamed: 0": 1283,
         "Participant": 91,
         "Stimulus": 10,
         "Condition": "b",
         "uniformityOnsetTime": 155.08200000226498,
         "depression_score": 10,
         "anxiety_score": 29,
         "_deepnote_index_column": 1283
        },
        {
         "Unnamed: 0": 1284,
         "Participant": 91,
         "Stimulus": 10,
         "Condition": "b",
         "uniformityOnsetTime": 186.0350007563829,
         "depression_score": 10,
         "anxiety_score": 29,
         "_deepnote_index_column": 1284
        },
        {
         "Unnamed: 0": 1300,
         "Participant": 91,
         "Stimulus": 10,
         "Condition": "a",
         "uniformityOnsetTime": 2393.046000570059,
         "depression_score": 10,
         "anxiety_score": 29,
         "_deepnote_index_column": 1300
        },
        {
         "Unnamed: 0": 1333,
         "Participant": 91,
         "Stimulus": 10,
         "Condition": "a",
         "uniformityOnsetTime": 933.5520003885032,
         "depression_score": 10,
         "anxiety_score": 29,
         "_deepnote_index_column": 1333
        }
       ],
       "rows_bottom": [
        {
         "Unnamed: 0": 4773,
         "Participant": 358,
         "Stimulus": 10,
         "Condition": "b",
         "uniformityOnsetTime": 269.261000005994,
         "depression_score": 6,
         "anxiety_score": 30,
         "_deepnote_index_column": 4773
        },
        {
         "Unnamed: 0": 4779,
         "Participant": 358,
         "Stimulus": 10,
         "Condition": "b",
         "uniformityOnsetTime": 202.91599999403115,
         "depression_score": 6,
         "anxiety_score": 30,
         "_deepnote_index_column": 4779
        },
        {
         "Unnamed: 0": 4798,
         "Participant": 358,
         "Stimulus": 10,
         "Condition": "b",
         "uniformityOnsetTime": 101.8789999821456,
         "depression_score": 6,
         "anxiety_score": 30,
         "_deepnote_index_column": 4798
        },
        {
         "Unnamed: 0": 4799,
         "Participant": 358,
         "Stimulus": 10,
         "Condition": "a",
         "uniformityOnsetTime": 136.4300000059884,
         "depression_score": 6,
         "anxiety_score": 30,
         "_deepnote_index_column": 4799
        },
        {
         "Unnamed: 0": 4800,
         "Participant": 358,
         "Stimulus": 10,
         "Condition": "a",
         "uniformityOnsetTime": 97.1619999881368,
         "depression_score": 6,
         "anxiety_score": 30,
         "_deepnote_index_column": 4800
        },
        {
         "Unnamed: 0": 4855,
         "Participant": 366,
         "Stimulus": 10,
         "Condition": "b",
         "uniformityOnsetTime": 1952.7880000000005,
         "depression_score": 13,
         "anxiety_score": 31,
         "_deepnote_index_column": 4855
        },
        {
         "Unnamed: 0": 4863,
         "Participant": 366,
         "Stimulus": 10,
         "Condition": "a",
         "uniformityOnsetTime": 3244.418999988062,
         "depression_score": 13,
         "anxiety_score": 31,
         "_deepnote_index_column": 4863
        },
        {
         "Unnamed: 0": 4873,
         "Participant": 366,
         "Stimulus": 10,
         "Condition": "b",
         "uniformityOnsetTime": 259.0419999761507,
         "depression_score": 13,
         "anxiety_score": 31,
         "_deepnote_index_column": 4873
        },
        {
         "Unnamed: 0": 4898,
         "Participant": 366,
         "Stimulus": 10,
         "Condition": "a",
         "uniformityOnsetTime": 3812.9870000119554,
         "depression_score": 13,
         "anxiety_score": 31,
         "_deepnote_index_column": 4898
        },
        {
         "Unnamed: 0": 4917,
         "Participant": 367,
         "Stimulus": 10,
         "Condition": "a",
         "uniformityOnsetTime": 3635.719999999972,
         "depression_score": 2,
         "anxiety_score": 24,
         "_deepnote_index_column": 4917
        },
        {
         "Unnamed: 0": 4921,
         "Participant": 367,
         "Stimulus": 10,
         "Condition": "b",
         "uniformityOnsetTime": 278.85999999998603,
         "depression_score": 2,
         "anxiety_score": 24,
         "_deepnote_index_column": 4921
        },
        {
         "Unnamed: 0": 4924,
         "Participant": 367,
         "Stimulus": 10,
         "Condition": "b",
         "uniformityOnsetTime": 3289.560000000056,
         "depression_score": 2,
         "anxiety_score": 24,
         "_deepnote_index_column": 4924
        },
        {
         "Unnamed: 0": 4926,
         "Participant": 367,
         "Stimulus": 10,
         "Condition": "a",
         "uniformityOnsetTime": 5253.939999999944,
         "depression_score": 2,
         "anxiety_score": 24,
         "_deepnote_index_column": 4926
        },
        {
         "Unnamed: 0": 4930,
         "Participant": 370,
         "Stimulus": 10,
         "Condition": "a",
         "uniformityOnsetTime": 3689.757000023848,
         "depression_score": 2,
         "anxiety_score": 23,
         "_deepnote_index_column": 4930
        },
        {
         "Unnamed: 0": 4954,
         "Participant": 370,
         "Stimulus": 10,
         "Condition": "b",
         "uniformityOnsetTime": 1316.9790000238572,
         "depression_score": 2,
         "anxiety_score": 23,
         "_deepnote_index_column": 4954
        },
        {
         "Unnamed: 0": 4955,
         "Participant": 370,
         "Stimulus": 10,
         "Condition": "a",
         "uniformityOnsetTime": 5183.011999928451,
         "depression_score": 2,
         "anxiety_score": 23,
         "_deepnote_index_column": 4955
        },
        {
         "Unnamed: 0": 4956,
         "Participant": 370,
         "Stimulus": 10,
         "Condition": "b",
         "uniformityOnsetTime": 6.674999999988359,
         "depression_score": 2,
         "anxiety_score": 23,
         "_deepnote_index_column": 4956
        },
        {
         "Unnamed: 0": 4957,
         "Participant": 370,
         "Stimulus": 10,
         "Condition": "b",
         "uniformityOnsetTime": 1821.308000000019,
         "depression_score": 2,
         "anxiety_score": 23,
         "_deepnote_index_column": 4957
        },
        {
         "Unnamed: 0": 4985,
         "Participant": 370,
         "Stimulus": 10,
         "Condition": "a",
         "uniformityOnsetTime": 4695.894999928423,
         "depression_score": 2,
         "anxiety_score": 23,
         "_deepnote_index_column": 4985
        },
        {
         "Unnamed: 0": 5203,
         "Participant": 399,
         "Stimulus": 10,
         "Condition": "a",
         "uniformityOnsetTime": 3394.8890000000247,
         "depression_score": 6,
         "anxiety_score": 26,
         "_deepnote_index_column": 5203
        },
        {
         "Unnamed: 0": 5244,
         "Participant": 399,
         "Stimulus": 10,
         "Condition": "a",
         "uniformityOnsetTime": 2790.4569999999367,
         "depression_score": 6,
         "anxiety_score": 26,
         "_deepnote_index_column": 5244
        },
        {
         "Unnamed: 0": 5246,
         "Participant": 399,
         "Stimulus": 10,
         "Condition": "a",
         "uniformityOnsetTime": 6293.596999999834,
         "depression_score": 6,
         "anxiety_score": 26,
         "_deepnote_index_column": 5246
        },
        {
         "Unnamed: 0": 5258,
         "Participant": 399,
         "Stimulus": 10,
         "Condition": "b",
         "uniformityOnsetTime": 11.53600000217557,
         "depression_score": 6,
         "anxiety_score": 26,
         "_deepnote_index_column": 5258
        },
        {
         "Unnamed: 0": 5259,
         "Participant": 399,
         "Stimulus": 10,
         "Condition": "b",
         "uniformityOnsetTime": 152.71800000220537,
         "depression_score": 6,
         "anxiety_score": 26,
         "_deepnote_index_column": 5259
        },
        {
         "Unnamed: 0": 5261,
         "Participant": 399,
         "Stimulus": 10,
         "Condition": "b",
         "uniformityOnsetTime": 1045.905000001192,
         "depression_score": 6,
         "anxiety_score": 26,
         "_deepnote_index_column": 5261
        },
        {
         "Unnamed: 0": 5287,
         "Participant": 402,
         "Stimulus": 10,
         "Condition": "a",
         "uniformityOnsetTime": 6307.979999999981,
         "depression_score": 16,
         "anxiety_score": 44,
         "_deepnote_index_column": 5287
        },
        {
         "Unnamed: 0": 5296,
         "Participant": 402,
         "Stimulus": 10,
         "Condition": "a",
         "uniformityOnsetTime": 12271.340000000026,
         "depression_score": 16,
         "anxiety_score": 44,
         "_deepnote_index_column": 5296
        },
        {
         "Unnamed: 0": 5298,
         "Participant": 402,
         "Stimulus": 10,
         "Condition": "b",
         "uniformityOnsetTime": 1562.7000000000116,
         "depression_score": 16,
         "anxiety_score": 44,
         "_deepnote_index_column": 5298
        },
        {
         "Unnamed: 0": 5326,
         "Participant": 404,
         "Stimulus": 10,
         "Condition": "a",
         "uniformityOnsetTime": 4698.880000000005,
         "depression_score": 2,
         "anxiety_score": 27,
         "_deepnote_index_column": 5326
        },
        {
         "Unnamed: 0": 5335,
         "Participant": 406,
         "Stimulus": 10,
         "Condition": "a",
         "uniformityOnsetTime": 5168,
         "depression_score": 2,
         "anxiety_score": 22,
         "_deepnote_index_column": 5335
        },
        {
         "Unnamed: 0": 5339,
         "Participant": 406,
         "Stimulus": 10,
         "Condition": "b",
         "uniformityOnsetTime": 972,
         "depression_score": 2,
         "anxiety_score": 22,
         "_deepnote_index_column": 5339
        },
        {
         "Unnamed: 0": 5443,
         "Participant": 418,
         "Stimulus": 10,
         "Condition": "a",
         "uniformityOnsetTime": 1918.3199999999488,
         "depression_score": 4,
         "anxiety_score": 34,
         "_deepnote_index_column": 5443
        },
        {
         "Unnamed: 0": 5508,
         "Participant": 426,
         "Stimulus": 10,
         "Condition": "a",
         "uniformityOnsetTime": 4871.439999999944,
         "depression_score": 1,
         "anxiety_score": 25,
         "_deepnote_index_column": 5508
        },
        {
         "Unnamed: 0": 5512,
         "Participant": 426,
         "Stimulus": 10,
         "Condition": "b",
         "uniformityOnsetTime": 397.1799999999348,
         "depression_score": 1,
         "anxiety_score": 25,
         "_deepnote_index_column": 5512
        },
        {
         "Unnamed: 0": 5577,
         "Participant": 430,
         "Stimulus": 10,
         "Condition": "b",
         "uniformityOnsetTime": 326.7399999999907,
         "depression_score": 3,
         "anxiety_score": 32,
         "_deepnote_index_column": 5577
        },
        {
         "Unnamed: 0": 5608,
         "Participant": 433,
         "Stimulus": 10,
         "Condition": "b",
         "uniformityOnsetTime": 1383.140000000014,
         "depression_score": 8,
         "anxiety_score": 34,
         "_deepnote_index_column": 5608
        },
        {
         "Unnamed: 0": 5611,
         "Participant": 433,
         "Stimulus": 10,
         "Condition": "b",
         "uniformityOnsetTime": 2833.140000000014,
         "depression_score": 8,
         "anxiety_score": 34,
         "_deepnote_index_column": 5611
        },
        {
         "Unnamed: 0": 5626,
         "Participant": 435,
         "Stimulus": 10,
         "Condition": "a",
         "uniformityOnsetTime": 9904.846999988076,
         "depression_score": 3,
         "anxiety_score": 40,
         "_deepnote_index_column": 5626
        },
        {
         "Unnamed: 0": 5634,
         "Participant": 435,
         "Stimulus": 10,
         "Condition": "b",
         "uniformityOnsetTime": 2380.7499999522697,
         "depression_score": 3,
         "anxiety_score": 40,
         "_deepnote_index_column": 5634
        },
        {
         "Unnamed: 0": 5635,
         "Participant": 435,
         "Stimulus": 10,
         "Condition": "b",
         "uniformityOnsetTime": 1976.4049999522977,
         "depression_score": 3,
         "anxiety_score": 40,
         "_deepnote_index_column": 5635
        },
        {
         "Unnamed: 0": 5641,
         "Participant": 435,
         "Stimulus": 10,
         "Condition": "a",
         "uniformityOnsetTime": 6475.45299996424,
         "depression_score": 3,
         "anxiety_score": 40,
         "_deepnote_index_column": 5641
        },
        {
         "Unnamed: 0": 5663,
         "Participant": 438,
         "Stimulus": 10,
         "Condition": "a",
         "uniformityOnsetTime": 8012.121000001498,
         "depression_score": 1,
         "anxiety_score": 25,
         "_deepnote_index_column": 5663
        },
        {
         "Unnamed: 0": 5676,
         "Participant": 438,
         "Stimulus": 10,
         "Condition": "a",
         "uniformityOnsetTime": 482.1190000014613,
         "depression_score": 1,
         "anxiety_score": 25,
         "_deepnote_index_column": 5676
        },
        {
         "Unnamed: 0": 5683,
         "Participant": 438,
         "Stimulus": 10,
         "Condition": "b",
         "uniformityOnsetTime": 826.5849999985076,
         "depression_score": 1,
         "anxiety_score": 25,
         "_deepnote_index_column": 5683
        },
        {
         "Unnamed: 0": 5715,
         "Participant": 438,
         "Stimulus": 10,
         "Condition": "b",
         "uniformityOnsetTime": 1049.1849999985425,
         "depression_score": 1,
         "anxiety_score": 25,
         "_deepnote_index_column": 5715
        },
        {
         "Unnamed: 0": 5723,
         "Participant": 438,
         "Stimulus": 10,
         "Condition": "b",
         "uniformityOnsetTime": 321.6919999970123,
         "depression_score": 1,
         "anxiety_score": 25,
         "_deepnote_index_column": 5723
        },
        {
         "Unnamed: 0": 5726,
         "Participant": 438,
         "Stimulus": 10,
         "Condition": "a",
         "uniformityOnsetTime": 2623.454999999958,
         "depression_score": 1,
         "anxiety_score": 25,
         "_deepnote_index_column": 5726
        },
        {
         "Unnamed: 0": 5781,
         "Participant": 445,
         "Stimulus": 10,
         "Condition": "a",
         "uniformityOnsetTime": 99.90000000596046,
         "depression_score": 3,
         "anxiety_score": 33,
         "_deepnote_index_column": 5781
        },
        {
         "Unnamed: 0": 5787,
         "Participant": 445,
         "Stimulus": 10,
         "Condition": "a",
         "uniformityOnsetTime": 171.2699999809265,
         "depression_score": 3,
         "anxiety_score": 33,
         "_deepnote_index_column": 5787
        },
        {
         "Unnamed: 0": 5794,
         "Participant": 445,
         "Stimulus": 10,
         "Condition": "b",
         "uniformityOnsetTime": 395.2489999830723,
         "depression_score": 3,
         "anxiety_score": 33,
         "_deepnote_index_column": 5794
        },
        {
         "Unnamed: 0": 5811,
         "Participant": 445,
         "Stimulus": 10,
         "Condition": "b",
         "uniformityOnsetTime": 88.358000010252,
         "depression_score": 3,
         "anxiety_score": 33,
         "_deepnote_index_column": 5811
        },
        {
         "Unnamed: 0": 5814,
         "Participant": 445,
         "Stimulus": 10,
         "Condition": "a",
         "uniformityOnsetTime": 217.51399998366836,
         "depression_score": 3,
         "anxiety_score": 33,
         "_deepnote_index_column": 5814
        },
        {
         "Unnamed: 0": 5821,
         "Participant": 446,
         "Stimulus": 10,
         "Condition": "a",
         "uniformityOnsetTime": 111.6690000059316,
         "depression_score": 6,
         "anxiety_score": 35,
         "_deepnote_index_column": 5821
        },
        {
         "Unnamed: 0": 5827,
         "Participant": 446,
         "Stimulus": 10,
         "Condition": "b",
         "uniformityOnsetTime": 533.3769999999786,
         "depression_score": 6,
         "anxiety_score": 35,
         "_deepnote_index_column": 5827
        },
        {
         "Unnamed: 0": 5842,
         "Participant": 446,
         "Stimulus": 10,
         "Condition": "a",
         "uniformityOnsetTime": 3909.719000002952,
         "depression_score": 6,
         "anxiety_score": 35,
         "_deepnote_index_column": 5842
        },
        {
         "Unnamed: 0": 5845,
         "Participant": 446,
         "Stimulus": 10,
         "Condition": "a",
         "uniformityOnsetTime": 3098.969999999972,
         "depression_score": 6,
         "anxiety_score": 35,
         "_deepnote_index_column": 5845
        },
        {
         "Unnamed: 0": 5871,
         "Participant": 451,
         "Stimulus": 10,
         "Condition": "a",
         "uniformityOnsetTime": 7159.179999999236,
         "depression_score": 6,
         "anxiety_score": 30,
         "_deepnote_index_column": 5871
        },
        {
         "Unnamed: 0": 5907,
         "Participant": 451,
         "Stimulus": 10,
         "Condition": "a",
         "uniformityOnsetTime": 5913.975999999209,
         "depression_score": 6,
         "anxiety_score": 30,
         "_deepnote_index_column": 5907
        },
        {
         "Unnamed: 0": 5909,
         "Participant": 451,
         "Stimulus": 10,
         "Condition": "a",
         "uniformityOnsetTime": 13628.023999999976,
         "depression_score": 6,
         "anxiety_score": 30,
         "_deepnote_index_column": 5909
        },
        {
         "Unnamed: 0": 5920,
         "Participant": 451,
         "Stimulus": 10,
         "Condition": "b",
         "uniformityOnsetTime": 1990.1040000003995,
         "depression_score": 6,
         "anxiety_score": 30,
         "_deepnote_index_column": 5920
        },
        {
         "Unnamed: 0": 5924,
         "Participant": 451,
         "Stimulus": 10,
         "Condition": "b",
         "uniformityOnsetTime": 517.5119999992894,
         "depression_score": 6,
         "anxiety_score": 30,
         "_deepnote_index_column": 5924
        },
        {
         "Unnamed: 0": 5928,
         "Participant": 451,
         "Stimulus": 10,
         "Condition": "b",
         "uniformityOnsetTime": 1602.821999998996,
         "depression_score": 6,
         "anxiety_score": 30,
         "_deepnote_index_column": 5928
        },
        {
         "Unnamed: 0": 5948,
         "Participant": 453,
         "Stimulus": 10,
         "Condition": "a",
         "uniformityOnsetTime": 342.98000000044703,
         "depression_score": 18,
         "anxiety_score": 48,
         "_deepnote_index_column": 5948
        },
        {
         "Unnamed: 0": 6031,
         "Participant": 465,
         "Stimulus": 10,
         "Condition": "a",
         "uniformityOnsetTime": 4217.545999994036,
         "depression_score": 10,
         "anxiety_score": 33,
         "_deepnote_index_column": 6031
        },
        {
         "Unnamed: 0": 6038,
         "Participant": 465,
         "Stimulus": 10,
         "Condition": "b",
         "uniformityOnsetTime": 2382.7480000000214,
         "depression_score": 10,
         "anxiety_score": 33,
         "_deepnote_index_column": 6038
        },
        {
         "Unnamed: 0": 6075,
         "Participant": 469,
         "Stimulus": 10,
         "Condition": "a",
         "uniformityOnsetTime": 291,
         "depression_score": 10,
         "anxiety_score": 41,
         "_deepnote_index_column": 6075
        },
        {
         "Unnamed: 0": 6087,
         "Participant": 469,
         "Stimulus": 10,
         "Condition": "b",
         "uniformityOnsetTime": 188,
         "depression_score": 10,
         "anxiety_score": 41,
         "_deepnote_index_column": 6087
        },
        {
         "Unnamed: 0": 6089,
         "Participant": 469,
         "Stimulus": 10,
         "Condition": "a",
         "uniformityOnsetTime": 450,
         "depression_score": 10,
         "anxiety_score": 41,
         "_deepnote_index_column": 6089
        },
        {
         "Unnamed: 0": 6092,
         "Participant": 469,
         "Stimulus": 10,
         "Condition": "b",
         "uniformityOnsetTime": 147,
         "depression_score": 10,
         "anxiety_score": 41,
         "_deepnote_index_column": 6092
        },
        {
         "Unnamed: 0": 6103,
         "Participant": 469,
         "Stimulus": 10,
         "Condition": "b",
         "uniformityOnsetTime": 572,
         "depression_score": 10,
         "anxiety_score": 41,
         "_deepnote_index_column": 6103
        },
        {
         "Unnamed: 0": 6129,
         "Participant": 469,
         "Stimulus": 10,
         "Condition": "a",
         "uniformityOnsetTime": 358,
         "depression_score": 10,
         "anxiety_score": 41,
         "_deepnote_index_column": 6129
        }
       ]
      },
      "text/plain": "      Unnamed: 0  Participant  Stimulus Condition  uniformityOnsetTime  \\\n110          110           16        10         a               212.80   \n121          121           16        10         b               324.02   \n130          130           16        10         a              4078.52   \n151          151           16        10         b                 9.12   \n159          159           16        10         a              4174.74   \n...          ...          ...       ...       ...                  ...   \n6087        6087          469        10         b               188.00   \n6089        6089          469        10         a               450.00   \n6092        6092          469        10         b               147.00   \n6103        6103          469        10         b               572.00   \n6129        6129          469        10         a               358.00   \n\n      depression_score  anxiety_score  \n110                 11           45.0  \n121                 11           45.0  \n130                 11           45.0  \n151                 11           45.0  \n159                 11           45.0  \n...                ...            ...  \n6087                10           41.0  \n6089                10           41.0  \n6092                10           41.0  \n6103                10           41.0  \n6129                10           41.0  \n\n[332 rows x 7 columns]",
      "text/html": "<div>\n<style scoped>\n    .dataframe tbody tr th:only-of-type {\n        vertical-align: middle;\n    }\n\n    .dataframe tbody tr th {\n        vertical-align: top;\n    }\n\n    .dataframe thead th {\n        text-align: right;\n    }\n</style>\n<table border=\"1\" class=\"dataframe\">\n  <thead>\n    <tr style=\"text-align: right;\">\n      <th></th>\n      <th>Unnamed: 0</th>\n      <th>Participant</th>\n      <th>Stimulus</th>\n      <th>Condition</th>\n      <th>uniformityOnsetTime</th>\n      <th>depression_score</th>\n      <th>anxiety_score</th>\n    </tr>\n  </thead>\n  <tbody>\n    <tr>\n      <th>110</th>\n      <td>110</td>\n      <td>16</td>\n      <td>10</td>\n      <td>a</td>\n      <td>212.80</td>\n      <td>11</td>\n      <td>45.0</td>\n    </tr>\n    <tr>\n      <th>121</th>\n      <td>121</td>\n      <td>16</td>\n      <td>10</td>\n      <td>b</td>\n      <td>324.02</td>\n      <td>11</td>\n      <td>45.0</td>\n    </tr>\n    <tr>\n      <th>130</th>\n      <td>130</td>\n      <td>16</td>\n      <td>10</td>\n      <td>a</td>\n      <td>4078.52</td>\n      <td>11</td>\n      <td>45.0</td>\n    </tr>\n    <tr>\n      <th>151</th>\n      <td>151</td>\n      <td>16</td>\n      <td>10</td>\n      <td>b</td>\n      <td>9.12</td>\n      <td>11</td>\n      <td>45.0</td>\n    </tr>\n    <tr>\n      <th>159</th>\n      <td>159</td>\n      <td>16</td>\n      <td>10</td>\n      <td>a</td>\n      <td>4174.74</td>\n      <td>11</td>\n      <td>45.0</td>\n    </tr>\n    <tr>\n      <th>...</th>\n      <td>...</td>\n      <td>...</td>\n      <td>...</td>\n      <td>...</td>\n      <td>...</td>\n      <td>...</td>\n      <td>...</td>\n    </tr>\n    <tr>\n      <th>6087</th>\n      <td>6087</td>\n      <td>469</td>\n      <td>10</td>\n      <td>b</td>\n      <td>188.00</td>\n      <td>10</td>\n      <td>41.0</td>\n    </tr>\n    <tr>\n      <th>6089</th>\n      <td>6089</td>\n      <td>469</td>\n      <td>10</td>\n      <td>a</td>\n      <td>450.00</td>\n      <td>10</td>\n      <td>41.0</td>\n    </tr>\n    <tr>\n      <th>6092</th>\n      <td>6092</td>\n      <td>469</td>\n      <td>10</td>\n      <td>b</td>\n      <td>147.00</td>\n      <td>10</td>\n      <td>41.0</td>\n    </tr>\n    <tr>\n      <th>6103</th>\n      <td>6103</td>\n      <td>469</td>\n      <td>10</td>\n      <td>b</td>\n      <td>572.00</td>\n      <td>10</td>\n      <td>41.0</td>\n    </tr>\n    <tr>\n      <th>6129</th>\n      <td>6129</td>\n      <td>469</td>\n      <td>10</td>\n      <td>a</td>\n      <td>358.00</td>\n      <td>10</td>\n      <td>41.0</td>\n    </tr>\n  </tbody>\n</table>\n<p>332 rows × 7 columns</p>\n</div>"
     },
     "metadata": {}
    }
   ],
   "execution_count": 56
  },
  {
   "cell_type": "code",
   "source": "clean_df_10.plot.scatter(x='anxiety_score', y='uniformityOnsetTime')",
   "metadata": {
    "tags": [],
    "cell_id": "00013-0b330165-db2c-44bb-9463-fd0ca28cd6a5",
    "deepnote_to_be_reexecuted": false,
    "source_hash": "e4fb8ff",
    "execution_start": 1626943586021,
    "execution_millis": 219,
    "deepnote_cell_type": "code"
   },
   "outputs": [
    {
     "output_type": "execute_result",
     "execution_count": 59,
     "data": {
      "text/plain": "<AxesSubplot:xlabel='anxiety_score', ylabel='uniformityOnsetTime'>"
     },
     "metadata": {}
    },
    {
     "data": {
      "text/plain": "<Figure size 432x288 with 1 Axes>",
      "image/png": "[encoded data removed]"
     },
     "metadata": {
      "needs_background": "light",
      "image/png": {
       "width": 401,
       "height": 263
      }
     },
     "output_type": "display_data"
    }
   ],
   "execution_count": 59
  },
  {
   "cell_type": "code",
   "source": "clean_df_10.plot.scatter(x='depression_score', y='uniformityOnsetTime')",
   "metadata": {
    "tags": [],
    "cell_id": "00014-a0987a79-8b7f-44db-9dab-41781de281b8",
    "deepnote_to_be_reexecuted": false,
    "source_hash": "835a51e1",
    "execution_start": 1626943597809,
    "execution_millis": 231,
    "deepnote_cell_type": "code"
   },
   "outputs": [
    {
     "output_type": "execute_result",
     "execution_count": 60,
     "data": {
      "text/plain": "<AxesSubplot:xlabel='depression_score', ylabel='uniformityOnsetTime'>"
     },
     "metadata": {}
    },
    {
     "data": {
      "text/plain": "<Figure size 432x288 with 1 Axes>",
      "image/png": "[encoded data removed]"
     },
     "metadata": {
      "needs_background": "light",
      "image/png": {
       "width": 401,
       "height": 263
      }
     },
     "output_type": "display_data"
    }
   ],
   "execution_count": 60
  },
  {
   "cell_type": "code",
   "source": "clean_df_a_10.plot.scatter(x='anxiety_score', y='uniformityOnsetTime')",
   "metadata": {
    "tags": [],
    "cell_id": "00016-42f4ee7a-6f35-4f7a-a98d-b2b71e9fffec",
    "deepnote_to_be_reexecuted": false,
    "source_hash": "bf5c74a5",
    "execution_start": 1626950637450,
    "execution_millis": 348,
    "deepnote_cell_type": "code"
   },
   "outputs": [
    {
     "output_type": "execute_result",
     "execution_count": 75,
     "data": {
      "text/plain": "<AxesSubplot:xlabel='anxiety_score', ylabel='uniformityOnsetTime'>"
     },
     "metadata": {}
    },
    {
     "data": {
      "text/plain": "<Figure size 432x288 with 1 Axes>",
      "image/png": "[encoded data removed]"
     },
     "metadata": {
      "needs_background": "light",
      "image/png": {
       "width": 401,
       "height": 263
      }
     },
     "output_type": "display_data"
    }
   ],
   "execution_count": 75
  },
  {
   "cell_type": "code",
   "source": "clean_df_a_10.plot.scatter(x='depression_score', y='uniformityOnsetTime')",
   "metadata": {
    "tags": [],
    "cell_id": "00017-410f0253-5716-4cf2-9dc9-a6a98f5d2da2",
    "deepnote_to_be_reexecuted": false,
    "source_hash": "75083226",
    "execution_start": 1626950638240,
    "execution_millis": 393,
    "deepnote_cell_type": "code"
   },
   "outputs": [
    {
     "output_type": "execute_result",
     "execution_count": 76,
     "data": {
      "text/plain": "<AxesSubplot:xlabel='depression_score', ylabel='uniformityOnsetTime'>"
     },
     "metadata": {}
    },
    {
     "data": {
      "text/plain": "<Figure size 432x288 with 1 Axes>",
      "image/png": "[encoded data removed]"
     },
     "metadata": {
      "needs_background": "light",
      "image/png": {
       "width": 401,
       "height": 263
      }
     },
     "output_type": "display_data"
    }
   ],
   "execution_count": 76
  },
  {
   "cell_type": "code",
   "source": "clean_df_12 = over_x_trials_df[over_x_trials_df['Stimulus']==12]\nclean_df_12.plot.scatter(x='anxiety_score', y='uniformityOnsetTime')\nclean_df_12.plot.scatter(x='depression_score', y='uniformityOnsetTime')",
   "metadata": {
    "tags": [],
    "cell_id": "00015-8231f34b-cab4-444c-937e-f1a0bb2071ba",
    "deepnote_to_be_reexecuted": false,
    "source_hash": "a9e86bc7",
    "execution_start": 1626943694237,
    "execution_millis": 523,
    "deepnote_cell_type": "code"
   },
   "outputs": [
    {
     "output_type": "execute_result",
     "execution_count": 62,
     "data": {
      "text/plain": "<AxesSubplot:xlabel='depression_score', ylabel='uniformityOnsetTime'>"
     },
     "metadata": {}
    },
    {
     "data": {
      "text/plain": "<Figure size 432x288 with 1 Axes>",
      "image/png": "[encoded data removed]"
     },
     "metadata": {
      "needs_background": "light",
      "image/png": {
       "width": 395,
       "height": 263
      }
     },
     "output_type": "display_data"
    },
    {
     "data": {
      "text/plain": "<Figure size 432x288 with 1 Axes>",
      "image/png": "[encoded data removed]"
     },
     "metadata": {
      "needs_background": "light",
      "image/png": {
       "width": 395,
       "height": 263
      }
     },
     "output_type": "display_data"
    }
   ],
   "execution_count": 62
  },
  {
   "cell_type": "code",
   "source": "clean_df_4 = over_x_trials_df[over_x_trials_df['Stimulus']==4]\nclean_df_4.plot.scatter(x='anxiety_score', y='uniformityOnsetTime')\nclean_df_4.plot.scatter(x='depression_score', y='uniformityOnsetTime')",
   "metadata": {
    "tags": [],
    "cell_id": "00016-81b8169e-1e34-4392-a9d8-113182b7a51a",
    "deepnote_to_be_reexecuted": false,
    "source_hash": "c1e99edf",
    "execution_start": 1626943722864,
    "execution_millis": 511,
    "deepnote_cell_type": "code"
   },
   "outputs": [
    {
     "output_type": "execute_result",
     "execution_count": 63,
     "data": {
      "text/plain": "<AxesSubplot:xlabel='depression_score', ylabel='uniformityOnsetTime'>"
     },
     "metadata": {}
    },
    {
     "data": {
      "text/plain": "<Figure size 432x288 with 1 Axes>",
      "image/png": "[encoded data removed]"
     },
     "metadata": {
      "needs_background": "light",
      "image/png": {
       "width": 401,
       "height": 263
      }
     },
     "output_type": "display_data"
    },
    {
     "data": {
      "text/plain": "<Figure size 432x288 with 1 Axes>",
      "image/png": "[encoded data removed]"
     },
     "metadata": {
      "needs_background": "light",
      "image/png": {
       "width": 401,
       "height": 263
      }
     },
     "output_type": "display_data"
    }
   ],
   "execution_count": 63
  },
  {
   "cell_type": "code",
   "source": "clean_df_5 = over_x_trials_df[over_x_trials_df['Stimulus']==5]\nclean_df_5.plot.scatter(x='anxiety_score', y='uniformityOnsetTime')\nclean_df_5.plot.scatter(x='depression_score', y='uniformityOnsetTime')",
   "metadata": {
    "tags": [],
    "cell_id": "00017-09fdc950-5559-49b8-b82f-d52fadaa2b8f",
    "deepnote_to_be_reexecuted": false,
    "source_hash": "fa476c5c",
    "execution_start": 1626943740928,
    "execution_millis": 453,
    "deepnote_cell_type": "code"
   },
   "outputs": [
    {
     "output_type": "execute_result",
     "execution_count": 65,
     "data": {
      "text/plain": "<AxesSubplot:xlabel='depression_score', ylabel='uniformityOnsetTime'>"
     },
     "metadata": {}
    },
    {
     "data": {
      "text/plain": "<Figure size 432x288 with 1 Axes>",
      "image/png": "[encoded data removed]"
     },
     "metadata": {
      "needs_background": "light",
      "image/png": {
       "width": 401,
       "height": 263
      }
     },
     "output_type": "display_data"
    },
    {
     "data": {
      "text/plain": "<Figure size 432x288 with 1 Axes>",
      "image/png": "[encoded data removed]"
     },
     "metadata": {
      "needs_background": "light",
      "image/png": {
       "width": 401,
       "height": 263
      }
     },
     "output_type": "display_data"
    }
   ],
   "execution_count": 65
  },
  {
   "cell_type": "code",
   "source": "clean_df.corr()",
   "metadata": {
    "tags": [],
    "cell_id": "00018-3d4037a6-3071-4150-86f3-219e3c8468b8",
    "deepnote_to_be_reexecuted": false,
    "source_hash": "1ab3202c",
    "execution_start": 1626944047766,
    "execution_millis": 41,
    "deepnote_cell_type": "code"
   },
   "outputs": [
    {
     "output_type": "execute_result",
     "execution_count": 66,
     "data": {
      "application/vnd.deepnote.dataframe.v2+json": {
       "row_count": 6,
       "column_count": 6,
       "columns": [
        {
         "name": "Unnamed: 0",
         "dtype": "float64",
         "stats": {
          "unique_count": 6,
          "nan_count": 0,
          "min": "-0.09913976271244479",
          "max": "1.0",
          "histogram": [
           {
            "bin_start": -0.09913976271244479,
            "bin_end": 0.010774213558799692,
            "count": 3
           },
           {
            "bin_start": 0.010774213558799692,
            "bin_end": 0.12068818983004417,
            "count": 1
           },
           {
            "bin_start": 0.12068818983004417,
            "bin_end": 0.23060216610128864,
            "count": 0
           },
           {
            "bin_start": 0.23060216610128864,
            "bin_end": 0.34051614237253314,
            "count": 0
           },
           {
            "bin_start": 0.34051614237253314,
            "bin_end": 0.45043011864377763,
            "count": 0
           },
           {
            "bin_start": 0.45043011864377763,
            "bin_end": 0.560344094915022,
            "count": 0
           },
           {
            "bin_start": 0.560344094915022,
            "bin_end": 0.6702580711862667,
            "count": 0
           },
           {
            "bin_start": 0.6702580711862667,
            "bin_end": 0.7801720474575111,
            "count": 0
           },
           {
            "bin_start": 0.7801720474575111,
            "bin_end": 0.8900860237287556,
            "count": 0
           },
           {
            "bin_start": 0.8900860237287556,
            "bin_end": 1,
            "count": 2
           }
          ]
         }
        },
        {
         "name": "Participant",
         "dtype": "float64",
         "stats": {
          "unique_count": 6,
          "nan_count": 0,
          "min": "-0.09651995511545898",
          "max": "1.0",
          "histogram": [
           {
            "bin_start": -0.09651995511545898,
            "bin_end": 0.013132040396086911,
            "count": 3
           },
           {
            "bin_start": 0.013132040396086911,
            "bin_end": 0.1227840359076328,
            "count": 1
           },
           {
            "bin_start": 0.1227840359076328,
            "bin_end": 0.23243603141917868,
            "count": 0
           },
           {
            "bin_start": 0.23243603141917868,
            "bin_end": 0.3420880269307246,
            "count": 0
           },
           {
            "bin_start": 0.3420880269307246,
            "bin_end": 0.4517400224422705,
            "count": 0
           },
           {
            "bin_start": 0.4517400224422705,
            "bin_end": 0.5613920179538163,
            "count": 0
           },
           {
            "bin_start": 0.5613920179538163,
            "bin_end": 0.6710440134653622,
            "count": 0
           },
           {
            "bin_start": 0.6710440134653622,
            "bin_end": 0.7806960089769082,
            "count": 0
           },
           {
            "bin_start": 0.7806960089769082,
            "bin_end": 0.8903480044884541,
            "count": 0
           },
           {
            "bin_start": 0.8903480044884541,
            "bin_end": 1,
            "count": 2
           }
          ]
         }
        },
        {
         "name": "Stimulus",
         "dtype": "float64",
         "stats": {
          "unique_count": 6,
          "nan_count": 0,
          "min": "-0.1580310840999985",
          "max": "1.0",
          "histogram": [
           {
            "bin_start": -0.1580310840999985,
            "bin_end": -0.04222797568999864,
            "count": 1
           },
           {
            "bin_start": -0.04222797568999864,
            "bin_end": 0.07357513272000121,
            "count": 4
           },
           {
            "bin_start": 0.07357513272000121,
            "bin_end": 0.18937824113000107,
            "count": 0
           },
           {
            "bin_start": 0.18937824113000107,
            "bin_end": 0.3051813495400009,
            "count": 0
           },
           {
            "bin_start": 0.3051813495400009,
            "bin_end": 0.4209844579500008,
            "count": 0
           },
           {
            "bin_start": 0.4209844579500008,
            "bin_end": 0.5367875663600006,
            "count": 0
           },
           {
            "bin_start": 0.5367875663600006,
            "bin_end": 0.6525906747700005,
            "count": 0
           },
           {
            "bin_start": 0.6525906747700005,
            "bin_end": 0.7683937831800003,
            "count": 0
           },
           {
            "bin_start": 0.7683937831800003,
            "bin_end": 0.88419689159,
            "count": 0
           },
           {
            "bin_start": 0.88419689159,
            "bin_end": 1,
            "count": 1
           }
          ]
         }
        },
        {
         "name": "uniformityOnsetTime",
         "dtype": "float64",
         "stats": {
          "unique_count": 6,
          "nan_count": 0,
          "min": "-0.1580310840999985",
          "max": "1.0",
          "histogram": [
           {
            "bin_start": -0.1580310840999985,
            "bin_end": -0.04222797568999864,
            "count": 1
           },
           {
            "bin_start": -0.04222797568999864,
            "bin_end": 0.07357513272000121,
            "count": 4
           },
           {
            "bin_start": 0.07357513272000121,
            "bin_end": 0.18937824113000107,
            "count": 0
           },
           {
            "bin_start": 0.18937824113000107,
            "bin_end": 0.3051813495400009,
            "count": 0
           },
           {
            "bin_start": 0.3051813495400009,
            "bin_end": 0.4209844579500008,
            "count": 0
           },
           {
            "bin_start": 0.4209844579500008,
            "bin_end": 0.5367875663600006,
            "count": 0
           },
           {
            "bin_start": 0.5367875663600006,
            "bin_end": 0.6525906747700005,
            "count": 0
           },
           {
            "bin_start": 0.6525906747700005,
            "bin_end": 0.7683937831800003,
            "count": 0
           },
           {
            "bin_start": 0.7683937831800003,
            "bin_end": 0.88419689159,
            "count": 0
           },
           {
            "bin_start": 0.88419689159,
            "bin_end": 1,
            "count": 1
           }
          ]
         }
        },
        {
         "name": "depression_score",
         "dtype": "float64",
         "stats": {
          "unique_count": 6,
          "nan_count": 0,
          "min": "-0.07020562840058443",
          "max": "1.0",
          "histogram": [
           {
            "bin_start": -0.07020562840058443,
            "bin_end": 0.03681493443947402,
            "count": 4
           },
           {
            "bin_start": 0.03681493443947402,
            "bin_end": 0.1438354972795325,
            "count": 0
           },
           {
            "bin_start": 0.1438354972795325,
            "bin_end": 0.25085606011959094,
            "count": 0
           },
           {
            "bin_start": 0.25085606011959094,
            "bin_end": 0.3578766229596494,
            "count": 0
           },
           {
            "bin_start": 0.3578766229596494,
            "bin_end": 0.46489718579970785,
            "count": 0
           },
           {
            "bin_start": 0.46489718579970785,
            "bin_end": 0.5719177486397663,
            "count": 0
           },
           {
            "bin_start": 0.5719177486397663,
            "bin_end": 0.6789383114798248,
            "count": 0
           },
           {
            "bin_start": 0.6789383114798248,
            "bin_end": 0.7859588743198832,
            "count": 1
           },
           {
            "bin_start": 0.7859588743198832,
            "bin_end": 0.8929794371599417,
            "count": 0
           },
           {
            "bin_start": 0.8929794371599417,
            "bin_end": 1,
            "count": 1
           }
          ]
         }
        },
        {
         "name": "anxiety_score",
         "dtype": "float64",
         "stats": {
          "unique_count": 6,
          "nan_count": 0,
          "min": "-0.09913976271244479",
          "max": "1.0",
          "histogram": [
           {
            "bin_start": -0.09913976271244479,
            "bin_end": 0.010774213558799692,
            "count": 4
           },
           {
            "bin_start": 0.010774213558799692,
            "bin_end": 0.12068818983004417,
            "count": 0
           },
           {
            "bin_start": 0.12068818983004417,
            "bin_end": 0.23060216610128864,
            "count": 0
           },
           {
            "bin_start": 0.23060216610128864,
            "bin_end": 0.34051614237253314,
            "count": 0
           },
           {
            "bin_start": 0.34051614237253314,
            "bin_end": 0.45043011864377763,
            "count": 0
           },
           {
            "bin_start": 0.45043011864377763,
            "bin_end": 0.560344094915022,
            "count": 0
           },
           {
            "bin_start": 0.560344094915022,
            "bin_end": 0.6702580711862667,
            "count": 0
           },
           {
            "bin_start": 0.6702580711862667,
            "bin_end": 0.7801720474575111,
            "count": 1
           },
           {
            "bin_start": 0.7801720474575111,
            "bin_end": 0.8900860237287556,
            "count": 0
           },
           {
            "bin_start": 0.8900860237287556,
            "bin_end": 1,
            "count": 1
           }
          ]
         }
        },
        {
         "name": "_deepnote_index_column",
         "dtype": "object"
        }
       ],
       "rows_top": [
        {
         "Unnamed: 0": 1,
         "Participant": 0.9985344546364185,
         "Stimulus": 0.008219569975200425,
         "uniformityOnsetTime": 0.05031331806755158,
         "depression_score": -0.07020562840058443,
         "anxiety_score": -0.09913976271244479,
         "_deepnote_index_column": "Unnamed: 0"
        },
        {
         "Unnamed: 0": 0.9985344546364185,
         "Participant": 1,
         "Stimulus": 0.008208923851459264,
         "uniformityOnsetTime": 0.04999623371226838,
         "depression_score": -0.06818175019425088,
         "anxiety_score": -0.09651995511545898,
         "_deepnote_index_column": "Participant"
        },
        {
         "Unnamed: 0": 0.008219569975200425,
         "Participant": 0.008208923851459264,
         "Stimulus": 1,
         "uniformityOnsetTime": -0.1580310840999985,
         "depression_score": -0.005217992326186987,
         "anxiety_score": 0.003133079580361532,
         "_deepnote_index_column": "Stimulus"
        },
        {
         "Unnamed: 0": 0.05031331806755158,
         "Participant": 0.04999623371226838,
         "Stimulus": -0.1580310840999985,
         "uniformityOnsetTime": 1,
         "depression_score": -0.00896445852726826,
         "anxiety_score": -0.008036768525778185,
         "_deepnote_index_column": "uniformityOnsetTime"
        },
        {
         "Unnamed: 0": -0.07020562840058443,
         "Participant": -0.06818175019425088,
         "Stimulus": -0.005217992326186987,
         "uniformityOnsetTime": -0.00896445852726826,
         "depression_score": 1,
         "anxiety_score": 0.7742709630870613,
         "_deepnote_index_column": "depression_score"
        },
        {
         "Unnamed: 0": -0.09913976271244479,
         "Participant": -0.09651995511545898,
         "Stimulus": 0.003133079580361532,
         "uniformityOnsetTime": -0.008036768525778185,
         "depression_score": 0.7742709630870613,
         "anxiety_score": 1,
         "_deepnote_index_column": "anxiety_score"
        }
       ],
       "rows_bottom": null
      },
      "text/plain": "                     Unnamed: 0  Participant  Stimulus  uniformityOnsetTime  \\\nUnnamed: 0             1.000000     0.998534  0.008220             0.050313   \nParticipant            0.998534     1.000000  0.008209             0.049996   \nStimulus               0.008220     0.008209  1.000000            -0.158031   \nuniformityOnsetTime    0.050313     0.049996 -0.158031             1.000000   \ndepression_score      -0.070206    -0.068182 -0.005218            -0.008964   \nanxiety_score         -0.099140    -0.096520  0.003133            -0.008037   \n\n                     depression_score  anxiety_score  \nUnnamed: 0                  -0.070206      -0.099140  \nParticipant                 -0.068182      -0.096520  \nStimulus                    -0.005218       0.003133  \nuniformityOnsetTime         -0.008964      -0.008037  \ndepression_score             1.000000       0.774271  \nanxiety_score                0.774271       1.000000  ",
      "text/html": "<div>\n<style scoped>\n    .dataframe tbody tr th:only-of-type {\n        vertical-align: middle;\n    }\n\n    .dataframe tbody tr th {\n        vertical-align: top;\n    }\n\n    .dataframe thead th {\n        text-align: right;\n    }\n</style>\n<table border=\"1\" class=\"dataframe\">\n  <thead>\n    <tr style=\"text-align: right;\">\n      <th></th>\n      <th>Unnamed: 0</th>\n      <th>Participant</th>\n      <th>Stimulus</th>\n      <th>uniformityOnsetTime</th>\n      <th>depression_score</th>\n      <th>anxiety_score</th>\n    </tr>\n  </thead>\n  <tbody>\n    <tr>\n      <th>Unnamed: 0</th>\n      <td>1.000000</td>\n      <td>0.998534</td>\n      <td>0.008220</td>\n      <td>0.050313</td>\n      <td>-0.070206</td>\n      <td>-0.099140</td>\n    </tr>\n    <tr>\n      <th>Participant</th>\n      <td>0.998534</td>\n      <td>1.000000</td>\n      <td>0.008209</td>\n      <td>0.049996</td>\n      <td>-0.068182</td>\n      <td>-0.096520</td>\n    </tr>\n    <tr>\n      <th>Stimulus</th>\n      <td>0.008220</td>\n      <td>0.008209</td>\n      <td>1.000000</td>\n      <td>-0.158031</td>\n      <td>-0.005218</td>\n      <td>0.003133</td>\n    </tr>\n    <tr>\n      <th>uniformityOnsetTime</th>\n      <td>0.050313</td>\n      <td>0.049996</td>\n      <td>-0.158031</td>\n      <td>1.000000</td>\n      <td>-0.008964</td>\n      <td>-0.008037</td>\n    </tr>\n    <tr>\n      <th>depression_score</th>\n      <td>-0.070206</td>\n      <td>-0.068182</td>\n      <td>-0.005218</td>\n      <td>-0.008964</td>\n      <td>1.000000</td>\n      <td>0.774271</td>\n    </tr>\n    <tr>\n      <th>anxiety_score</th>\n      <td>-0.099140</td>\n      <td>-0.096520</td>\n      <td>0.003133</td>\n      <td>-0.008037</td>\n      <td>0.774271</td>\n      <td>1.000000</td>\n    </tr>\n  </tbody>\n</table>\n</div>"
     },
     "metadata": {}
    }
   ],
   "execution_count": 66
  },
  {
   "cell_type": "code",
   "source": "clean_df_a.corr()",
   "metadata": {
    "tags": [],
    "cell_id": "00020-2936a4da-715c-4b4d-9645-52ea27dbf3ae",
    "deepnote_to_be_reexecuted": false,
    "source_hash": "3e773a3",
    "execution_start": 1626950693268,
    "execution_millis": 47,
    "deepnote_cell_type": "code"
   },
   "outputs": [
    {
     "output_type": "execute_result",
     "execution_count": 77,
     "data": {
      "application/vnd.deepnote.dataframe.v2+json": {
       "row_count": 6,
       "column_count": 6,
       "columns": [
        {
         "name": "Unnamed: 0",
         "dtype": "float64",
         "stats": {
          "unique_count": 6,
          "nan_count": 0,
          "min": "-0.09475439765066546",
          "max": "1.0",
          "histogram": [
           {
            "bin_start": -0.09475439765066546,
            "bin_end": 0.01472104211440109,
            "count": 2
           },
           {
            "bin_start": 0.01472104211440109,
            "bin_end": 0.12419648187946764,
            "count": 2
           },
           {
            "bin_start": 0.12419648187946764,
            "bin_end": 0.23367192164453415,
            "count": 0
           },
           {
            "bin_start": 0.23367192164453415,
            "bin_end": 0.3431473614096007,
            "count": 0
           },
           {
            "bin_start": 0.3431473614096007,
            "bin_end": 0.4526228011746673,
            "count": 0
           },
           {
            "bin_start": 0.4526228011746673,
            "bin_end": 0.5620982409397337,
            "count": 0
           },
           {
            "bin_start": 0.5620982409397337,
            "bin_end": 0.6715736807048003,
            "count": 0
           },
           {
            "bin_start": 0.6715736807048003,
            "bin_end": 0.7810491204698669,
            "count": 0
           },
           {
            "bin_start": 0.7810491204698669,
            "bin_end": 0.8905245602349334,
            "count": 0
           },
           {
            "bin_start": 0.8905245602349334,
            "bin_end": 1,
            "count": 2
           }
          ]
         }
        },
        {
         "name": "Participant",
         "dtype": "float64",
         "stats": {
          "unique_count": 6,
          "nan_count": 0,
          "min": "-0.09223714202624096",
          "max": "1.0",
          "histogram": [
           {
            "bin_start": -0.09223714202624096,
            "bin_end": 0.016986572176383122,
            "count": 2
           },
           {
            "bin_start": 0.016986572176383122,
            "bin_end": 0.12621028637900722,
            "count": 2
           },
           {
            "bin_start": 0.12621028637900722,
            "bin_end": 0.23543400058163128,
            "count": 0
           },
           {
            "bin_start": 0.23543400058163128,
            "bin_end": 0.3446577147842554,
            "count": 0
           },
           {
            "bin_start": 0.3446577147842554,
            "bin_end": 0.4538814289868795,
            "count": 0
           },
           {
            "bin_start": 0.4538814289868795,
            "bin_end": 0.5631051431895034,
            "count": 0
           },
           {
            "bin_start": 0.5631051431895034,
            "bin_end": 0.6723288573921276,
            "count": 0
           },
           {
            "bin_start": 0.6723288573921276,
            "bin_end": 0.7815525715947517,
            "count": 0
           },
           {
            "bin_start": 0.7815525715947517,
            "bin_end": 0.8907762857973758,
            "count": 0
           },
           {
            "bin_start": 0.8907762857973758,
            "bin_end": 1,
            "count": 2
           }
          ]
         }
        },
        {
         "name": "Stimulus",
         "dtype": "float64",
         "stats": {
          "unique_count": 6,
          "nan_count": 0,
          "min": "-0.2424336300298923",
          "max": "1.0",
          "histogram": [
           {
            "bin_start": -0.2424336300298923,
            "bin_end": -0.11819026702690305,
            "count": 1
           },
           {
            "bin_start": -0.11819026702690305,
            "bin_end": 0.006053095976086192,
            "count": 2
           },
           {
            "bin_start": 0.006053095976086192,
            "bin_end": 0.13029645897907546,
            "count": 2
           },
           {
            "bin_start": 0.13029645897907546,
            "bin_end": 0.2545398219820647,
            "count": 0
           },
           {
            "bin_start": 0.2545398219820647,
            "bin_end": 0.3787831849850539,
            "count": 0
           },
           {
            "bin_start": 0.3787831849850539,
            "bin_end": 0.5030265479880432,
            "count": 0
           },
           {
            "bin_start": 0.5030265479880432,
            "bin_end": 0.6272699109910325,
            "count": 0
           },
           {
            "bin_start": 0.6272699109910325,
            "bin_end": 0.7515132739940217,
            "count": 0
           },
           {
            "bin_start": 0.7515132739940217,
            "bin_end": 0.875756636997011,
            "count": 0
           },
           {
            "bin_start": 0.875756636997011,
            "bin_end": 1,
            "count": 1
           }
          ]
         }
        },
        {
         "name": "uniformityOnsetTime",
         "dtype": "float64",
         "stats": {
          "unique_count": 6,
          "nan_count": 0,
          "min": "-0.2424336300298923",
          "max": "1.0",
          "histogram": [
           {
            "bin_start": -0.2424336300298923,
            "bin_end": -0.11819026702690305,
            "count": 1
           },
           {
            "bin_start": -0.11819026702690305,
            "bin_end": 0.006053095976086192,
            "count": 2
           },
           {
            "bin_start": 0.006053095976086192,
            "bin_end": 0.13029645897907546,
            "count": 2
           },
           {
            "bin_start": 0.13029645897907546,
            "bin_end": 0.2545398219820647,
            "count": 0
           },
           {
            "bin_start": 0.2545398219820647,
            "bin_end": 0.3787831849850539,
            "count": 0
           },
           {
            "bin_start": 0.3787831849850539,
            "bin_end": 0.5030265479880432,
            "count": 0
           },
           {
            "bin_start": 0.5030265479880432,
            "bin_end": 0.6272699109910325,
            "count": 0
           },
           {
            "bin_start": 0.6272699109910325,
            "bin_end": 0.7515132739940217,
            "count": 0
           },
           {
            "bin_start": 0.7515132739940217,
            "bin_end": 0.875756636997011,
            "count": 0
           },
           {
            "bin_start": 0.875756636997011,
            "bin_end": 1,
            "count": 1
           }
          ]
         }
        },
        {
         "name": "depression_score",
         "dtype": "float64",
         "stats": {
          "unique_count": 6,
          "nan_count": 0,
          "min": "-0.06571233889389194",
          "max": "1.0",
          "histogram": [
           {
            "bin_start": -0.06571233889389194,
            "bin_end": 0.04085889499549726,
            "count": 4
           },
           {
            "bin_start": 0.04085889499549726,
            "bin_end": 0.14743012888488646,
            "count": 0
           },
           {
            "bin_start": 0.14743012888488646,
            "bin_end": 0.25400136277427565,
            "count": 0
           },
           {
            "bin_start": 0.25400136277427565,
            "bin_end": 0.36057259666366487,
            "count": 0
           },
           {
            "bin_start": 0.36057259666366487,
            "bin_end": 0.4671438305530541,
            "count": 0
           },
           {
            "bin_start": 0.4671438305530541,
            "bin_end": 0.5737150644424432,
            "count": 0
           },
           {
            "bin_start": 0.5737150644424432,
            "bin_end": 0.6802862983318325,
            "count": 0
           },
           {
            "bin_start": 0.6802862983318325,
            "bin_end": 0.7868575322212217,
            "count": 1
           },
           {
            "bin_start": 0.7868575322212217,
            "bin_end": 0.8934287661106108,
            "count": 0
           },
           {
            "bin_start": 0.8934287661106108,
            "bin_end": 1,
            "count": 1
           }
          ]
         }
        },
        {
         "name": "anxiety_score",
         "dtype": "float64",
         "stats": {
          "unique_count": 6,
          "nan_count": 0,
          "min": "-0.09475439765066546",
          "max": "1.0",
          "histogram": [
           {
            "bin_start": -0.09475439765066546,
            "bin_end": 0.01472104211440109,
            "count": 4
           },
           {
            "bin_start": 0.01472104211440109,
            "bin_end": 0.12419648187946764,
            "count": 0
           },
           {
            "bin_start": 0.12419648187946764,
            "bin_end": 0.23367192164453415,
            "count": 0
           },
           {
            "bin_start": 0.23367192164453415,
            "bin_end": 0.3431473614096007,
            "count": 0
           },
           {
            "bin_start": 0.3431473614096007,
            "bin_end": 0.4526228011746673,
            "count": 0
           },
           {
            "bin_start": 0.4526228011746673,
            "bin_end": 0.5620982409397337,
            "count": 0
           },
           {
            "bin_start": 0.5620982409397337,
            "bin_end": 0.6715736807048003,
            "count": 0
           },
           {
            "bin_start": 0.6715736807048003,
            "bin_end": 0.7810491204698669,
            "count": 1
           },
           {
            "bin_start": 0.7810491204698669,
            "bin_end": 0.8905245602349334,
            "count": 0
           },
           {
            "bin_start": 0.8905245602349334,
            "bin_end": 1,
            "count": 1
           }
          ]
         }
        },
        {
         "name": "_deepnote_index_column",
         "dtype": "object"
        }
       ],
       "rows_top": [
        {
         "Unnamed: 0": 1,
         "Participant": 0.9985247207692929,
         "Stimulus": 0.022035315648716983,
         "uniformityOnsetTime": 0.05395848620847085,
         "depression_score": -0.06571233889389194,
         "anxiety_score": -0.09475439765066546,
         "_deepnote_index_column": "Unnamed: 0"
        },
        {
         "Unnamed: 0": 0.9985247207692929,
         "Participant": 1,
         "Stimulus": 0.021501596289335193,
         "uniformityOnsetTime": 0.054108456860703626,
         "depression_score": -0.06330376052826309,
         "anxiety_score": -0.09223714202624096,
         "_deepnote_index_column": "Participant"
        },
        {
         "Unnamed: 0": 0.022035315648716983,
         "Participant": 0.021501596289335193,
         "Stimulus": 1,
         "uniformityOnsetTime": -0.2424336300298923,
         "depression_score": -0.01690393947118759,
         "anxiety_score": -0.006211553646111064,
         "_deepnote_index_column": "Stimulus"
        },
        {
         "Unnamed: 0": 0.05395848620847085,
         "Participant": 0.054108456860703626,
         "Stimulus": -0.2424336300298923,
         "uniformityOnsetTime": 1,
         "depression_score": -0.014952358576335005,
         "anxiety_score": -0.02151301882761503,
         "_deepnote_index_column": "uniformityOnsetTime"
        },
        {
         "Unnamed: 0": -0.06571233889389194,
         "Participant": -0.06330376052826309,
         "Stimulus": -0.01690393947118759,
         "uniformityOnsetTime": -0.014952358576335005,
         "depression_score": 1,
         "anxiety_score": 0.7670814944514934,
         "_deepnote_index_column": "depression_score"
        },
        {
         "Unnamed: 0": -0.09475439765066546,
         "Participant": -0.09223714202624096,
         "Stimulus": -0.006211553646111064,
         "uniformityOnsetTime": -0.02151301882761503,
         "depression_score": 0.7670814944514934,
         "anxiety_score": 1,
         "_deepnote_index_column": "anxiety_score"
        }
       ],
       "rows_bottom": null
      },
      "text/plain": "                     Unnamed: 0  Participant  Stimulus  uniformityOnsetTime  \\\nUnnamed: 0             1.000000     0.998525  0.022035             0.053958   \nParticipant            0.998525     1.000000  0.021502             0.054108   \nStimulus               0.022035     0.021502  1.000000            -0.242434   \nuniformityOnsetTime    0.053958     0.054108 -0.242434             1.000000   \ndepression_score      -0.065712    -0.063304 -0.016904            -0.014952   \nanxiety_score         -0.094754    -0.092237 -0.006212            -0.021513   \n\n                     depression_score  anxiety_score  \nUnnamed: 0                  -0.065712      -0.094754  \nParticipant                 -0.063304      -0.092237  \nStimulus                    -0.016904      -0.006212  \nuniformityOnsetTime         -0.014952      -0.021513  \ndepression_score             1.000000       0.767081  \nanxiety_score                0.767081       1.000000  ",
      "text/html": "<div>\n<style scoped>\n    .dataframe tbody tr th:only-of-type {\n        vertical-align: middle;\n    }\n\n    .dataframe tbody tr th {\n        vertical-align: top;\n    }\n\n    .dataframe thead th {\n        text-align: right;\n    }\n</style>\n<table border=\"1\" class=\"dataframe\">\n  <thead>\n    <tr style=\"text-align: right;\">\n      <th></th>\n      <th>Unnamed: 0</th>\n      <th>Participant</th>\n      <th>Stimulus</th>\n      <th>uniformityOnsetTime</th>\n      <th>depression_score</th>\n      <th>anxiety_score</th>\n    </tr>\n  </thead>\n  <tbody>\n    <tr>\n      <th>Unnamed: 0</th>\n      <td>1.000000</td>\n      <td>0.998525</td>\n      <td>0.022035</td>\n      <td>0.053958</td>\n      <td>-0.065712</td>\n      <td>-0.094754</td>\n    </tr>\n    <tr>\n      <th>Participant</th>\n      <td>0.998525</td>\n      <td>1.000000</td>\n      <td>0.021502</td>\n      <td>0.054108</td>\n      <td>-0.063304</td>\n      <td>-0.092237</td>\n    </tr>\n    <tr>\n      <th>Stimulus</th>\n      <td>0.022035</td>\n      <td>0.021502</td>\n      <td>1.000000</td>\n      <td>-0.242434</td>\n      <td>-0.016904</td>\n      <td>-0.006212</td>\n    </tr>\n    <tr>\n      <th>uniformityOnsetTime</th>\n      <td>0.053958</td>\n      <td>0.054108</td>\n      <td>-0.242434</td>\n      <td>1.000000</td>\n      <td>-0.014952</td>\n      <td>-0.021513</td>\n    </tr>\n    <tr>\n      <th>depression_score</th>\n      <td>-0.065712</td>\n      <td>-0.063304</td>\n      <td>-0.016904</td>\n      <td>-0.014952</td>\n      <td>1.000000</td>\n      <td>0.767081</td>\n    </tr>\n    <tr>\n      <th>anxiety_score</th>\n      <td>-0.094754</td>\n      <td>-0.092237</td>\n      <td>-0.006212</td>\n      <td>-0.021513</td>\n      <td>0.767081</td>\n      <td>1.000000</td>\n    </tr>\n  </tbody>\n</table>\n</div>"
     },
     "metadata": {}
    }
   ],
   "execution_count": 77
  },
  {
   "cell_type": "code",
   "source": "include_timeout_df",
   "metadata": {
    "tags": [],
    "cell_id": "00023-61256856-3def-45f9-a2d3-88cb98ef86c5",
    "deepnote_to_be_reexecuted": false,
    "source_hash": "5ea3fcc8",
    "execution_start": 1626950836134,
    "execution_millis": 125,
    "deepnote_cell_type": "code"
   },
   "outputs": [
    {
     "output_type": "execute_result",
     "execution_count": 78,
     "data": {
      "application/vnd.deepnote.dataframe.v2+json": {
       "row_count": 18089,
       "column_count": 8,
       "columns": [
        {
         "name": "Unnamed: 0",
         "dtype": "int64",
         "stats": {
          "unique_count": 18089,
          "nan_count": 0,
          "min": "0",
          "max": "18088",
          "histogram": [
           {
            "bin_start": 0,
            "bin_end": 1808.8,
            "count": 1809
           },
           {
            "bin_start": 1808.8,
            "bin_end": 3617.6,
            "count": 1809
           },
           {
            "bin_start": 3617.6,
            "bin_end": 5426.4,
            "count": 1809
           },
           {
            "bin_start": 5426.4,
            "bin_end": 7235.2,
            "count": 1809
           },
           {
            "bin_start": 7235.2,
            "bin_end": 9044,
            "count": 1808
           },
           {
            "bin_start": 9044,
            "bin_end": 10852.8,
            "count": 1809
           },
           {
            "bin_start": 10852.8,
            "bin_end": 12661.6,
            "count": 1809
           },
           {
            "bin_start": 12661.6,
            "bin_end": 14470.4,
            "count": 1809
           },
           {
            "bin_start": 14470.4,
            "bin_end": 16279.199999999999,
            "count": 1809
           },
           {
            "bin_start": 16279.199999999999,
            "bin_end": 18088,
            "count": 1809
           }
          ]
         }
        },
        {
         "name": "Participant",
         "dtype": "int64",
         "stats": {
          "unique_count": 461,
          "nan_count": 0,
          "min": "0",
          "max": "469",
          "histogram": [
           {
            "bin_start": 0,
            "bin_end": 46.9,
            "count": 1699
           },
           {
            "bin_start": 46.9,
            "bin_end": 93.8,
            "count": 2007
           },
           {
            "bin_start": 93.8,
            "bin_end": 140.7,
            "count": 1879
           },
           {
            "bin_start": 140.7,
            "bin_end": 187.6,
            "count": 1878
           },
           {
            "bin_start": 187.6,
            "bin_end": 234.5,
            "count": 1702
           },
           {
            "bin_start": 234.5,
            "bin_end": 281.4,
            "count": 1905
           },
           {
            "bin_start": 281.4,
            "bin_end": 328.3,
            "count": 1395
           },
           {
            "bin_start": 328.3,
            "bin_end": 375.2,
            "count": 2133
           },
           {
            "bin_start": 375.2,
            "bin_end": 422.09999999999997,
            "count": 1774
           },
           {
            "bin_start": 422.09999999999997,
            "bin_end": 469,
            "count": 1717
           }
          ]
         }
        },
        {
         "name": "Stimulus",
         "dtype": "int64",
         "stats": {
          "unique_count": 12,
          "nan_count": 0,
          "min": "4",
          "max": "15",
          "histogram": [
           {
            "bin_start": 4,
            "bin_end": 5.1,
            "count": 2983
           },
           {
            "bin_start": 5.1,
            "bin_end": 6.2,
            "count": 1505
           },
           {
            "bin_start": 6.2,
            "bin_end": 7.300000000000001,
            "count": 1490
           },
           {
            "bin_start": 7.300000000000001,
            "bin_end": 8.4,
            "count": 1533
           },
           {
            "bin_start": 8.4,
            "bin_end": 9.5,
            "count": 1495
           },
           {
            "bin_start": 9.5,
            "bin_end": 10.600000000000001,
            "count": 1515
           },
           {
            "bin_start": 10.600000000000001,
            "bin_end": 11.700000000000001,
            "count": 1508
           },
           {
            "bin_start": 11.700000000000001,
            "bin_end": 12.8,
            "count": 1539
           },
           {
            "bin_start": 12.8,
            "bin_end": 13.9,
            "count": 1487
           },
           {
            "bin_start": 13.9,
            "bin_end": 15,
            "count": 3034
           }
          ]
         }
        },
        {
         "name": "Condition",
         "dtype": "object",
         "stats": {
          "unique_count": 2,
          "nan_count": 0,
          "categories": [
           {
            "name": "b",
            "count": 9095
           },
           {
            "name": "a",
            "count": 8994
           }
          ]
         }
        },
        {
         "name": "uniformityOnsetTime",
         "dtype": "float64",
         "stats": {
          "unique_count": 17744,
          "nan_count": 0,
          "min": "0.2529999911785126",
          "max": "153652.66499999992",
          "histogram": [
           {
            "bin_start": 0.2529999911785126,
            "bin_end": 15365.494199992052,
            "count": 15263
           },
           {
            "bin_start": 15365.494199992052,
            "bin_end": 30730.735399992926,
            "count": 2818
           },
           {
            "bin_start": 30730.735399992926,
            "bin_end": 46095.976599993795,
            "count": 4
           },
           {
            "bin_start": 46095.976599993795,
            "bin_end": 61461.21779999467,
            "count": 1
           },
           {
            "bin_start": 61461.21779999467,
            "bin_end": 76826.45899999555,
            "count": 2
           },
           {
            "bin_start": 76826.45899999555,
            "bin_end": 92191.70019999641,
            "count": 0
           },
           {
            "bin_start": 92191.70019999641,
            "bin_end": 107556.94139999729,
            "count": 0
           },
           {
            "bin_start": 107556.94139999729,
            "bin_end": 122922.18259999817,
            "count": 0
           },
           {
            "bin_start": 122922.18259999817,
            "bin_end": 138287.42379999903,
            "count": 0
           },
           {
            "bin_start": 138287.42379999903,
            "bin_end": 153652.66499999992,
            "count": 1
           }
          ]
         }
        },
        {
         "name": "depression_score",
         "dtype": "int64"
        },
        {
         "name": "anxiety_score",
         "dtype": "float64"
        },
        {
         "name": "ended_on",
         "dtype": "object"
        },
        {
         "name": "_deepnote_index_column",
         "dtype": "int64"
        }
       ],
       "rows_top": [
        {
         "Unnamed: 0": 0,
         "Participant": 0,
         "Stimulus": 13,
         "Condition": "a",
         "uniformityOnsetTime": 7167.200000000012,
         "depression_score": 1,
         "anxiety_score": 39,
         "ended_on": "response",
         "_deepnote_index_column": 0
        },
        {
         "Unnamed: 0": 1,
         "Participant": 0,
         "Stimulus": 7,
         "Condition": "b",
         "uniformityOnsetTime": 5320.979999999981,
         "depression_score": 1,
         "anxiety_score": 39,
         "ended_on": "response",
         "_deepnote_index_column": 1
        },
        {
         "Unnamed: 0": 2,
         "Participant": 0,
         "Stimulus": 14,
         "Condition": "a",
         "uniformityOnsetTime": 16394.780000000028,
         "depression_score": 1,
         "anxiety_score": 39,
         "ended_on": "response",
         "_deepnote_index_column": 2
        },
        {
         "Unnamed: 0": 3,
         "Participant": 0,
         "Stimulus": 8,
         "Condition": "b",
         "uniformityOnsetTime": 3320.539999999979,
         "depression_score": 1,
         "anxiety_score": 39,
         "ended_on": "response",
         "_deepnote_index_column": 3
        },
        {
         "Unnamed: 0": 4,
         "Participant": 0,
         "Stimulus": 10,
         "Condition": "b",
         "uniformityOnsetTime": 7111.900000000023,
         "depression_score": 1,
         "anxiety_score": 39,
         "ended_on": "response",
         "_deepnote_index_column": 4
        },
        {
         "Unnamed: 0": 5,
         "Participant": 0,
         "Stimulus": 12,
         "Condition": "b",
         "uniformityOnsetTime": 2568.140000000014,
         "depression_score": 1,
         "anxiety_score": 39,
         "ended_on": "response",
         "_deepnote_index_column": 5
        },
        {
         "Unnamed: 0": 6,
         "Participant": 0,
         "Stimulus": 7,
         "Condition": "a",
         "uniformityOnsetTime": 10435.359999999986,
         "depression_score": 1,
         "anxiety_score": 39,
         "ended_on": "response",
         "_deepnote_index_column": 6
        },
        {
         "Unnamed: 0": 7,
         "Participant": 0,
         "Stimulus": 8,
         "Condition": "a",
         "uniformityOnsetTime": 1036.6199999999951,
         "depression_score": 1,
         "anxiety_score": 39,
         "ended_on": "response",
         "_deepnote_index_column": 7
        },
        {
         "Unnamed: 0": 8,
         "Participant": 0,
         "Stimulus": 15,
         "Condition": "b",
         "uniformityOnsetTime": 1012.4199999999836,
         "depression_score": 1,
         "anxiety_score": 39,
         "ended_on": "response",
         "_deepnote_index_column": 8
        },
        {
         "Unnamed: 0": 9,
         "Participant": 0,
         "Stimulus": 5,
         "Condition": "a",
         "uniformityOnsetTime": 16183.51999999996,
         "depression_score": 1,
         "anxiety_score": 39,
         "ended_on": "timeout",
         "_deepnote_index_column": 9
        },
        {
         "Unnamed: 0": 10,
         "Participant": 0,
         "Stimulus": 10,
         "Condition": "a",
         "uniformityOnsetTime": 4213.679999999993,
         "depression_score": 1,
         "anxiety_score": 39,
         "ended_on": "response",
         "_deepnote_index_column": 10
        },
        {
         "Unnamed: 0": 11,
         "Participant": 0,
         "Stimulus": 6,
         "Condition": "a",
         "uniformityOnsetTime": 13865.76000000001,
         "depression_score": 1,
         "anxiety_score": 39,
         "ended_on": "response",
         "_deepnote_index_column": 11
        },
        {
         "Unnamed: 0": 12,
         "Participant": 0,
         "Stimulus": 11,
         "Condition": "b",
         "uniformityOnsetTime": 3618.320000000007,
         "depression_score": 1,
         "anxiety_score": 39,
         "ended_on": "response",
         "_deepnote_index_column": 12
        },
        {
         "Unnamed: 0": 13,
         "Participant": 0,
         "Stimulus": 10,
         "Condition": "a",
         "uniformityOnsetTime": 14695.340000000026,
         "depression_score": 1,
         "anxiety_score": 39,
         "ended_on": "response",
         "_deepnote_index_column": 13
        },
        {
         "Unnamed: 0": 14,
         "Participant": 0,
         "Stimulus": 6,
         "Condition": "a",
         "uniformityOnsetTime": 16088.52000000002,
         "depression_score": 1,
         "anxiety_score": 39,
         "ended_on": "timeout",
         "_deepnote_index_column": 14
        },
        {
         "Unnamed: 0": 15,
         "Participant": 0,
         "Stimulus": 4,
         "Condition": "b",
         "uniformityOnsetTime": 3154.140000000014,
         "depression_score": 1,
         "anxiety_score": 39,
         "ended_on": "response",
         "_deepnote_index_column": 15
        },
        {
         "Unnamed: 0": 16,
         "Participant": 0,
         "Stimulus": 15,
         "Condition": "b",
         "uniformityOnsetTime": 169.14000000001397,
         "depression_score": 1,
         "anxiety_score": 39,
         "ended_on": "response",
         "_deepnote_index_column": 16
        },
        {
         "Unnamed: 0": 17,
         "Participant": 0,
         "Stimulus": 11,
         "Condition": "a",
         "uniformityOnsetTime": 2563.3000000000466,
         "depression_score": 1,
         "anxiety_score": 39,
         "ended_on": "response",
         "_deepnote_index_column": 17
        },
        {
         "Unnamed: 0": 18,
         "Participant": 0,
         "Stimulus": 11,
         "Condition": "a",
         "uniformityOnsetTime": 4190.280000000028,
         "depression_score": 1,
         "anxiety_score": 39,
         "ended_on": "response",
         "_deepnote_index_column": 18
        },
        {
         "Unnamed: 0": 19,
         "Participant": 0,
         "Stimulus": 5,
         "Condition": "b",
         "uniformityOnsetTime": 4264.300000000047,
         "depression_score": 1,
         "anxiety_score": 39,
         "ended_on": "response",
         "_deepnote_index_column": 19
        },
        {
         "Unnamed: 0": 20,
         "Participant": 0,
         "Stimulus": 7,
         "Condition": "a",
         "uniformityOnsetTime": 4412,
         "depression_score": 1,
         "anxiety_score": 39,
         "ended_on": "response",
         "_deepnote_index_column": 20
        },
        {
         "Unnamed: 0": 21,
         "Participant": 0,
         "Stimulus": 5,
         "Condition": "b",
         "uniformityOnsetTime": 4253.420000000042,
         "depression_score": 1,
         "anxiety_score": 39,
         "ended_on": "response",
         "_deepnote_index_column": 21
        },
        {
         "Unnamed: 0": 22,
         "Participant": 0,
         "Stimulus": 9,
         "Condition": "b",
         "uniformityOnsetTime": 1794.4599999999627,
         "depression_score": 1,
         "anxiety_score": 39,
         "ended_on": "response",
         "_deepnote_index_column": 22
        },
        {
         "Unnamed: 0": 23,
         "Participant": 0,
         "Stimulus": 15,
         "Condition": "a",
         "uniformityOnsetTime": 1360.060000000056,
         "depression_score": 1,
         "anxiety_score": 39,
         "ended_on": "response",
         "_deepnote_index_column": 23
        },
        {
         "Unnamed: 0": 24,
         "Participant": 0,
         "Stimulus": 13,
         "Condition": "b",
         "uniformityOnsetTime": 2258.319999999949,
         "depression_score": 1,
         "anxiety_score": 39,
         "ended_on": "response",
         "_deepnote_index_column": 24
        },
        {
         "Unnamed: 0": 25,
         "Participant": 0,
         "Stimulus": 8,
         "Condition": "a",
         "uniformityOnsetTime": 2968.180000000051,
         "depression_score": 1,
         "anxiety_score": 39,
         "ended_on": "response",
         "_deepnote_index_column": 25
        },
        {
         "Unnamed: 0": 26,
         "Participant": 0,
         "Stimulus": 9,
         "Condition": "b",
         "uniformityOnsetTime": 1101.4599999999627,
         "depression_score": 1,
         "anxiety_score": 39,
         "ended_on": "response",
         "_deepnote_index_column": 26
        },
        {
         "Unnamed: 0": 27,
         "Participant": 0,
         "Stimulus": 11,
         "Condition": "a",
         "uniformityOnsetTime": 1470.280000000028,
         "depression_score": 1,
         "anxiety_score": 39,
         "ended_on": "response",
         "_deepnote_index_column": 27
        },
        {
         "Unnamed: 0": 28,
         "Participant": 0,
         "Stimulus": 4,
         "Condition": "b",
         "uniformityOnsetTime": 711.8199999999488,
         "depression_score": 1,
         "anxiety_score": 39,
         "ended_on": "response",
         "_deepnote_index_column": 28
        },
        {
         "Unnamed: 0": 29,
         "Participant": 0,
         "Stimulus": 12,
         "Condition": "b",
         "uniformityOnsetTime": 399.61999999999534,
         "depression_score": 1,
         "anxiety_score": 39,
         "ended_on": "response",
         "_deepnote_index_column": 29
        },
        {
         "Unnamed: 0": 30,
         "Participant": 0,
         "Stimulus": 13,
         "Condition": "a",
         "uniformityOnsetTime": 2258.0999999999767,
         "depression_score": 1,
         "anxiety_score": 39,
         "ended_on": "response",
         "_deepnote_index_column": 30
        },
        {
         "Unnamed: 0": 31,
         "Participant": 0,
         "Stimulus": 7,
         "Condition": "b",
         "uniformityOnsetTime": 1659.3399999999674,
         "depression_score": 1,
         "anxiety_score": 39,
         "ended_on": "response",
         "_deepnote_index_column": 31
        },
        {
         "Unnamed: 0": 32,
         "Participant": 0,
         "Stimulus": 6,
         "Condition": "a",
         "uniformityOnsetTime": 16890.52000000002,
         "depression_score": 1,
         "anxiety_score": 39,
         "ended_on": "timeout",
         "_deepnote_index_column": 32
        },
        {
         "Unnamed: 0": 33,
         "Participant": 0,
         "Stimulus": 7,
         "Condition": "b",
         "uniformityOnsetTime": 1930.8199999999488,
         "depression_score": 1,
         "anxiety_score": 39,
         "ended_on": "response",
         "_deepnote_index_column": 33
        },
        {
         "Unnamed: 0": 34,
         "Participant": 0,
         "Stimulus": 5,
         "Condition": "a",
         "uniformityOnsetTime": 16863.5,
         "depression_score": 1,
         "anxiety_score": 39,
         "ended_on": "timeout",
         "_deepnote_index_column": 34
        },
        {
         "Unnamed: 0": 35,
         "Participant": 0,
         "Stimulus": 10,
         "Condition": "b",
         "uniformityOnsetTime": 2413,
         "depression_score": 1,
         "anxiety_score": 39,
         "ended_on": "response",
         "_deepnote_index_column": 35
        },
        {
         "Unnamed: 0": 36,
         "Participant": 0,
         "Stimulus": 4,
         "Condition": "a",
         "uniformityOnsetTime": 12392.599999999977,
         "depression_score": 1,
         "anxiety_score": 39,
         "ended_on": "response",
         "_deepnote_index_column": 36
        },
        {
         "Unnamed: 0": 37,
         "Participant": 0,
         "Stimulus": 14,
         "Condition": "a",
         "uniformityOnsetTime": 16807.52000000002,
         "depression_score": 1,
         "anxiety_score": 39,
         "ended_on": "timeout",
         "_deepnote_index_column": 37
        },
        {
         "Unnamed: 0": 38,
         "Participant": 0,
         "Stimulus": 15,
         "Condition": "b",
         "uniformityOnsetTime": 2071.2600000000093,
         "depression_score": 1,
         "anxiety_score": 39,
         "ended_on": "response",
         "_deepnote_index_column": 38
        },
        {
         "Unnamed: 0": 39,
         "Participant": 0,
         "Stimulus": 15,
         "Condition": "a",
         "uniformityOnsetTime": 1956.5,
         "depression_score": 1,
         "anxiety_score": 39,
         "ended_on": "response",
         "_deepnote_index_column": 39
        },
        {
         "Unnamed: 0": 40,
         "Participant": 0,
         "Stimulus": 14,
         "Condition": "b",
         "uniformityOnsetTime": 4615.400000000023,
         "depression_score": 1,
         "anxiety_score": 39,
         "ended_on": "response",
         "_deepnote_index_column": 40
        },
        {
         "Unnamed: 0": 41,
         "Participant": 0,
         "Stimulus": 9,
         "Condition": "a",
         "uniformityOnsetTime": 16273.5,
         "depression_score": 1,
         "anxiety_score": 39,
         "ended_on": "timeout",
         "_deepnote_index_column": 41
        },
        {
         "Unnamed: 0": 42,
         "Participant": 0,
         "Stimulus": 13,
         "Condition": "b",
         "uniformityOnsetTime": 823.1199999999953,
         "depression_score": 1,
         "anxiety_score": 39,
         "ended_on": "response",
         "_deepnote_index_column": 42
        },
        {
         "Unnamed: 0": 43,
         "Participant": 0,
         "Stimulus": 7,
         "Condition": "a",
         "uniformityOnsetTime": 2486.920000000042,
         "depression_score": 1,
         "anxiety_score": 39,
         "ended_on": "response",
         "_deepnote_index_column": 43
        },
        {
         "Unnamed: 0": 44,
         "Participant": 0,
         "Stimulus": 8,
         "Condition": "b",
         "uniformityOnsetTime": 2367.8800000000047,
         "depression_score": 1,
         "anxiety_score": 39,
         "ended_on": "response",
         "_deepnote_index_column": 44
        },
        {
         "Unnamed: 0": 45,
         "Participant": 0,
         "Stimulus": 9,
         "Condition": "b",
         "uniformityOnsetTime": 252.140000000014,
         "depression_score": 1,
         "anxiety_score": 39,
         "ended_on": "response",
         "_deepnote_index_column": 45
        },
        {
         "Unnamed: 0": 46,
         "Participant": 0,
         "Stimulus": 6,
         "Condition": "b",
         "uniformityOnsetTime": 2082.560000000056,
         "depression_score": 1,
         "anxiety_score": 39,
         "ended_on": "response",
         "_deepnote_index_column": 46
        },
        {
         "Unnamed: 0": 47,
         "Participant": 0,
         "Stimulus": 4,
         "Condition": "a",
         "uniformityOnsetTime": 16144.519999999902,
         "depression_score": 1,
         "anxiety_score": 39,
         "ended_on": "timeout",
         "_deepnote_index_column": 47
        },
        {
         "Unnamed: 0": 48,
         "Participant": 0,
         "Stimulus": 11,
         "Condition": "b",
         "uniformityOnsetTime": 2560.439999999944,
         "depression_score": 1,
         "anxiety_score": 39,
         "ended_on": "response",
         "_deepnote_index_column": 48
        },
        {
         "Unnamed: 0": 49,
         "Participant": 0,
         "Stimulus": 4,
         "Condition": "b",
         "uniformityOnsetTime": 517.0799999999581,
         "depression_score": 1,
         "anxiety_score": 39,
         "ended_on": "response",
         "_deepnote_index_column": 49
        },
        {
         "Unnamed: 0": 50,
         "Participant": 0,
         "Stimulus": 6,
         "Condition": "b",
         "uniformityOnsetTime": 1788.9000000000233,
         "depression_score": 1,
         "anxiety_score": 39,
         "ended_on": "response",
         "_deepnote_index_column": 50
        },
        {
         "Unnamed: 0": 51,
         "Participant": 0,
         "Stimulus": 11,
         "Condition": "b",
         "uniformityOnsetTime": 410.4200000000419,
         "depression_score": 1,
         "anxiety_score": 39,
         "ended_on": "response",
         "_deepnote_index_column": 51
        },
        {
         "Unnamed: 0": 52,
         "Participant": 0,
         "Stimulus": 12,
         "Condition": "b",
         "uniformityOnsetTime": 837.1600000000326,
         "depression_score": 1,
         "anxiety_score": 39,
         "ended_on": "response",
         "_deepnote_index_column": 52
        },
        {
         "Unnamed: 0": 53,
         "Participant": 0,
         "Stimulus": 12,
         "Condition": "a",
         "uniformityOnsetTime": 1574,
         "depression_score": 1,
         "anxiety_score": 39,
         "ended_on": "response",
         "_deepnote_index_column": 53
        },
        {
         "Unnamed: 0": 54,
         "Participant": 0,
         "Stimulus": 8,
         "Condition": "a",
         "uniformityOnsetTime": 1440.1800000000512,
         "depression_score": 1,
         "anxiety_score": 39,
         "ended_on": "response",
         "_deepnote_index_column": 54
        },
        {
         "Unnamed: 0": 55,
         "Participant": 0,
         "Stimulus": 8,
         "Condition": "b",
         "uniformityOnsetTime": 1865.6999999999532,
         "depression_score": 1,
         "anxiety_score": 39,
         "ended_on": "response",
         "_deepnote_index_column": 55
        },
        {
         "Unnamed: 0": 56,
         "Participant": 0,
         "Stimulus": 13,
         "Condition": "b",
         "uniformityOnsetTime": 146.56000000005588,
         "depression_score": 1,
         "anxiety_score": 39,
         "ended_on": "response",
         "_deepnote_index_column": 56
        },
        {
         "Unnamed: 0": 57,
         "Participant": 0,
         "Stimulus": 15,
         "Condition": "a",
         "uniformityOnsetTime": 875.3399999999674,
         "depression_score": 1,
         "anxiety_score": 39,
         "ended_on": "response",
         "_deepnote_index_column": 57
        },
        {
         "Unnamed: 0": 58,
         "Participant": 0,
         "Stimulus": 5,
         "Condition": "b",
         "uniformityOnsetTime": 1804.8000000000463,
         "depression_score": 1,
         "anxiety_score": 39,
         "ended_on": "response",
         "_deepnote_index_column": 58
        },
        {
         "Unnamed: 0": 59,
         "Participant": 0,
         "Stimulus": 12,
         "Condition": "a",
         "uniformityOnsetTime": 150.30000000004657,
         "depression_score": 1,
         "anxiety_score": 39,
         "ended_on": "response",
         "_deepnote_index_column": 59
        },
        {
         "Unnamed: 0": 60,
         "Participant": 0,
         "Stimulus": 5,
         "Condition": "a",
         "uniformityOnsetTime": 16749.52000000002,
         "depression_score": 1,
         "anxiety_score": 39,
         "ended_on": "timeout",
         "_deepnote_index_column": 60
        },
        {
         "Unnamed: 0": 61,
         "Participant": 0,
         "Stimulus": 9,
         "Condition": "a",
         "uniformityOnsetTime": 16880.5,
         "depression_score": 1,
         "anxiety_score": 39,
         "ended_on": "timeout",
         "_deepnote_index_column": 61
        }
       ],
       "rows_bottom": [
        {
         "Unnamed: 0": 18026,
         "Participant": 469,
         "Stimulus": 12,
         "Condition": "b",
         "uniformityOnsetTime": 892,
         "depression_score": 10,
         "anxiety_score": 41,
         "ended_on": "response",
         "_deepnote_index_column": 18026
        },
        {
         "Unnamed: 0": 18027,
         "Participant": 469,
         "Stimulus": 6,
         "Condition": "a",
         "uniformityOnsetTime": 304,
         "depression_score": 10,
         "anxiety_score": 41,
         "ended_on": "response",
         "_deepnote_index_column": 18027
        },
        {
         "Unnamed: 0": 18028,
         "Participant": 469,
         "Stimulus": 4,
         "Condition": "a",
         "uniformityOnsetTime": 508,
         "depression_score": 10,
         "anxiety_score": 41,
         "ended_on": "response",
         "_deepnote_index_column": 18028
        },
        {
         "Unnamed: 0": 18029,
         "Participant": 469,
         "Stimulus": 5,
         "Condition": "b",
         "uniformityOnsetTime": 646,
         "depression_score": 10,
         "anxiety_score": 41,
         "ended_on": "response",
         "_deepnote_index_column": 18029
        },
        {
         "Unnamed: 0": 18030,
         "Participant": 469,
         "Stimulus": 9,
         "Condition": "b",
         "uniformityOnsetTime": 273,
         "depression_score": 10,
         "anxiety_score": 41,
         "ended_on": "response",
         "_deepnote_index_column": 18030
        },
        {
         "Unnamed: 0": 18031,
         "Participant": 469,
         "Stimulus": 11,
         "Condition": "a",
         "uniformityOnsetTime": 448,
         "depression_score": 10,
         "anxiety_score": 41,
         "ended_on": "response",
         "_deepnote_index_column": 18031
        },
        {
         "Unnamed: 0": 18032,
         "Participant": 469,
         "Stimulus": 14,
         "Condition": "a",
         "uniformityOnsetTime": 688,
         "depression_score": 10,
         "anxiety_score": 41,
         "ended_on": "response",
         "_deepnote_index_column": 18032
        },
        {
         "Unnamed: 0": 18033,
         "Participant": 469,
         "Stimulus": 14,
         "Condition": "b",
         "uniformityOnsetTime": 170,
         "depression_score": 10,
         "anxiety_score": 41,
         "ended_on": "response",
         "_deepnote_index_column": 18033
        },
        {
         "Unnamed: 0": 18034,
         "Participant": 469,
         "Stimulus": 12,
         "Condition": "a",
         "uniformityOnsetTime": 311,
         "depression_score": 10,
         "anxiety_score": 41,
         "ended_on": "response",
         "_deepnote_index_column": 18034
        },
        {
         "Unnamed: 0": 18035,
         "Participant": 469,
         "Stimulus": 15,
         "Condition": "b",
         "uniformityOnsetTime": 213,
         "depression_score": 10,
         "anxiety_score": 41,
         "ended_on": "response",
         "_deepnote_index_column": 18035
        },
        {
         "Unnamed: 0": 18036,
         "Participant": 469,
         "Stimulus": 10,
         "Condition": "b",
         "uniformityOnsetTime": 188,
         "depression_score": 10,
         "anxiety_score": 41,
         "ended_on": "response",
         "_deepnote_index_column": 18036
        },
        {
         "Unnamed: 0": 18037,
         "Participant": 469,
         "Stimulus": 8,
         "Condition": "a",
         "uniformityOnsetTime": 179,
         "depression_score": 10,
         "anxiety_score": 41,
         "ended_on": "response",
         "_deepnote_index_column": 18037
        },
        {
         "Unnamed: 0": 18038,
         "Participant": 469,
         "Stimulus": 10,
         "Condition": "a",
         "uniformityOnsetTime": 450,
         "depression_score": 10,
         "anxiety_score": 41,
         "ended_on": "response",
         "_deepnote_index_column": 18038
        },
        {
         "Unnamed: 0": 18039,
         "Participant": 469,
         "Stimulus": 15,
         "Condition": "a",
         "uniformityOnsetTime": 359,
         "depression_score": 10,
         "anxiety_score": 41,
         "ended_on": "response",
         "_deepnote_index_column": 18039
        },
        {
         "Unnamed: 0": 18040,
         "Participant": 469,
         "Stimulus": 9,
         "Condition": "a",
         "uniformityOnsetTime": 824,
         "depression_score": 10,
         "anxiety_score": 41,
         "ended_on": "response",
         "_deepnote_index_column": 18040
        },
        {
         "Unnamed: 0": 18041,
         "Participant": 469,
         "Stimulus": 10,
         "Condition": "b",
         "uniformityOnsetTime": 147,
         "depression_score": 10,
         "anxiety_score": 41,
         "ended_on": "response",
         "_deepnote_index_column": 18041
        },
        {
         "Unnamed: 0": 18042,
         "Participant": 469,
         "Stimulus": 14,
         "Condition": "a",
         "uniformityOnsetTime": 141,
         "depression_score": 10,
         "anxiety_score": 41,
         "ended_on": "response",
         "_deepnote_index_column": 18042
        },
        {
         "Unnamed: 0": 18043,
         "Participant": 469,
         "Stimulus": 9,
         "Condition": "b",
         "uniformityOnsetTime": 485,
         "depression_score": 10,
         "anxiety_score": 41,
         "ended_on": "response",
         "_deepnote_index_column": 18043
        },
        {
         "Unnamed: 0": 18044,
         "Participant": 469,
         "Stimulus": 15,
         "Condition": "b",
         "uniformityOnsetTime": 425,
         "depression_score": 10,
         "anxiety_score": 41,
         "ended_on": "response",
         "_deepnote_index_column": 18044
        },
        {
         "Unnamed: 0": 18045,
         "Participant": 469,
         "Stimulus": 7,
         "Condition": "a",
         "uniformityOnsetTime": 123.0000000000582,
         "depression_score": 10,
         "anxiety_score": 41,
         "ended_on": "response",
         "_deepnote_index_column": 18045
        },
        {
         "Unnamed: 0": 18046,
         "Participant": 469,
         "Stimulus": 15,
         "Condition": "b",
         "uniformityOnsetTime": 182,
         "depression_score": 10,
         "anxiety_score": 41,
         "ended_on": "response",
         "_deepnote_index_column": 18046
        },
        {
         "Unnamed: 0": 18047,
         "Participant": 469,
         "Stimulus": 6,
         "Condition": "a",
         "uniformityOnsetTime": 176,
         "depression_score": 10,
         "anxiety_score": 41,
         "ended_on": "response",
         "_deepnote_index_column": 18047
        },
        {
         "Unnamed: 0": 18048,
         "Participant": 469,
         "Stimulus": 8,
         "Condition": "a",
         "uniformityOnsetTime": 386,
         "depression_score": 10,
         "anxiety_score": 41,
         "ended_on": "response",
         "_deepnote_index_column": 18048
        },
        {
         "Unnamed: 0": 18049,
         "Participant": 469,
         "Stimulus": 4,
         "Condition": "a",
         "uniformityOnsetTime": 615,
         "depression_score": 10,
         "anxiety_score": 41,
         "ended_on": "response",
         "_deepnote_index_column": 18049
        },
        {
         "Unnamed: 0": 18050,
         "Participant": 469,
         "Stimulus": 4,
         "Condition": "a",
         "uniformityOnsetTime": 56,
         "depression_score": 10,
         "anxiety_score": 41,
         "ended_on": "response",
         "_deepnote_index_column": 18050
        },
        {
         "Unnamed: 0": 18051,
         "Participant": 469,
         "Stimulus": 8,
         "Condition": "b",
         "uniformityOnsetTime": 36,
         "depression_score": 10,
         "anxiety_score": 41,
         "ended_on": "response",
         "_deepnote_index_column": 18051
        },
        {
         "Unnamed: 0": 18052,
         "Participant": 469,
         "Stimulus": 10,
         "Condition": "b",
         "uniformityOnsetTime": 572,
         "depression_score": 10,
         "anxiety_score": 41,
         "ended_on": "response",
         "_deepnote_index_column": 18052
        },
        {
         "Unnamed: 0": 18053,
         "Participant": 469,
         "Stimulus": 5,
         "Condition": "a",
         "uniformityOnsetTime": 980,
         "depression_score": 10,
         "anxiety_score": 41,
         "ended_on": "response",
         "_deepnote_index_column": 18053
        },
        {
         "Unnamed: 0": 18054,
         "Participant": 469,
         "Stimulus": 5,
         "Condition": "a",
         "uniformityOnsetTime": 528,
         "depression_score": 10,
         "anxiety_score": 41,
         "ended_on": "response",
         "_deepnote_index_column": 18054
        },
        {
         "Unnamed: 0": 18055,
         "Participant": 469,
         "Stimulus": 13,
         "Condition": "b",
         "uniformityOnsetTime": 441.0000000001164,
         "depression_score": 10,
         "anxiety_score": 41,
         "ended_on": "response",
         "_deepnote_index_column": 18055
        },
        {
         "Unnamed: 0": 18056,
         "Participant": 469,
         "Stimulus": 14,
         "Condition": "a",
         "uniformityOnsetTime": 1251,
         "depression_score": 10,
         "anxiety_score": 41,
         "ended_on": "response",
         "_deepnote_index_column": 18056
        },
        {
         "Unnamed: 0": 18057,
         "Participant": 469,
         "Stimulus": 6,
         "Condition": "b",
         "uniformityOnsetTime": 1038,
         "depression_score": 10,
         "anxiety_score": 41,
         "ended_on": "response",
         "_deepnote_index_column": 18057
        },
        {
         "Unnamed: 0": 18058,
         "Participant": 469,
         "Stimulus": 12,
         "Condition": "a",
         "uniformityOnsetTime": 92,
         "depression_score": 10,
         "anxiety_score": 41,
         "ended_on": "response",
         "_deepnote_index_column": 18058
        },
        {
         "Unnamed: 0": 18059,
         "Participant": 469,
         "Stimulus": 12,
         "Condition": "b",
         "uniformityOnsetTime": 37,
         "depression_score": 10,
         "anxiety_score": 41,
         "ended_on": "response",
         "_deepnote_index_column": 18059
        },
        {
         "Unnamed: 0": 18060,
         "Participant": 469,
         "Stimulus": 4,
         "Condition": "b",
         "uniformityOnsetTime": 458,
         "depression_score": 10,
         "anxiety_score": 41,
         "ended_on": "response",
         "_deepnote_index_column": 18060
        },
        {
         "Unnamed: 0": 18061,
         "Participant": 469,
         "Stimulus": 6,
         "Condition": "a",
         "uniformityOnsetTime": 694,
         "depression_score": 10,
         "anxiety_score": 41,
         "ended_on": "response",
         "_deepnote_index_column": 18061
        },
        {
         "Unnamed: 0": 18062,
         "Participant": 469,
         "Stimulus": 13,
         "Condition": "a",
         "uniformityOnsetTime": 1040,
         "depression_score": 10,
         "anxiety_score": 41,
         "ended_on": "response",
         "_deepnote_index_column": 18062
        },
        {
         "Unnamed: 0": 18063,
         "Participant": 469,
         "Stimulus": 8,
         "Condition": "b",
         "uniformityOnsetTime": 837,
         "depression_score": 10,
         "anxiety_score": 41,
         "ended_on": "response",
         "_deepnote_index_column": 18063
        },
        {
         "Unnamed: 0": 18064,
         "Participant": 469,
         "Stimulus": 4,
         "Condition": "b",
         "uniformityOnsetTime": 412,
         "depression_score": 10,
         "anxiety_score": 41,
         "ended_on": "response",
         "_deepnote_index_column": 18064
        },
        {
         "Unnamed: 0": 18065,
         "Participant": 469,
         "Stimulus": 5,
         "Condition": "b",
         "uniformityOnsetTime": 350.0000000001164,
         "depression_score": 10,
         "anxiety_score": 41,
         "ended_on": "response",
         "_deepnote_index_column": 18065
        },
        {
         "Unnamed: 0": 18066,
         "Participant": 469,
         "Stimulus": 9,
         "Condition": "a",
         "uniformityOnsetTime": 313,
         "depression_score": 10,
         "anxiety_score": 41,
         "ended_on": "response",
         "_deepnote_index_column": 18066
        },
        {
         "Unnamed: 0": 18067,
         "Participant": 469,
         "Stimulus": 5,
         "Condition": "a",
         "uniformityOnsetTime": 68,
         "depression_score": 10,
         "anxiety_score": 41,
         "ended_on": "response",
         "_deepnote_index_column": 18067
        },
        {
         "Unnamed: 0": 18068,
         "Participant": 469,
         "Stimulus": 6,
         "Condition": "b",
         "uniformityOnsetTime": 611,
         "depression_score": 10,
         "anxiety_score": 41,
         "ended_on": "response",
         "_deepnote_index_column": 18068
        },
        {
         "Unnamed: 0": 18069,
         "Participant": 469,
         "Stimulus": 7,
         "Condition": "b",
         "uniformityOnsetTime": 89.00000000011642,
         "depression_score": 10,
         "anxiety_score": 41,
         "ended_on": "response",
         "_deepnote_index_column": 18069
        },
        {
         "Unnamed: 0": 18070,
         "Participant": 469,
         "Stimulus": 7,
         "Condition": "a",
         "uniformityOnsetTime": 377,
         "depression_score": 10,
         "anxiety_score": 41,
         "ended_on": "response",
         "_deepnote_index_column": 18070
        },
        {
         "Unnamed: 0": 18071,
         "Participant": 469,
         "Stimulus": 11,
         "Condition": "b",
         "uniformityOnsetTime": 136,
         "depression_score": 10,
         "anxiety_score": 41,
         "ended_on": "response",
         "_deepnote_index_column": 18071
        },
        {
         "Unnamed: 0": 18072,
         "Participant": 469,
         "Stimulus": 12,
         "Condition": "a",
         "uniformityOnsetTime": 415,
         "depression_score": 10,
         "anxiety_score": 41,
         "ended_on": "response",
         "_deepnote_index_column": 18072
        },
        {
         "Unnamed: 0": 18073,
         "Participant": 469,
         "Stimulus": 15,
         "Condition": "a",
         "uniformityOnsetTime": 373,
         "depression_score": 10,
         "anxiety_score": 41,
         "ended_on": "response",
         "_deepnote_index_column": 18073
        },
        {
         "Unnamed: 0": 18074,
         "Participant": 469,
         "Stimulus": 11,
         "Condition": "b",
         "uniformityOnsetTime": 302,
         "depression_score": 10,
         "anxiety_score": 41,
         "ended_on": "response",
         "_deepnote_index_column": 18074
        },
        {
         "Unnamed: 0": 18075,
         "Participant": 469,
         "Stimulus": 7,
         "Condition": "a",
         "uniformityOnsetTime": 609,
         "depression_score": 10,
         "anxiety_score": 41,
         "ended_on": "response",
         "_deepnote_index_column": 18075
        },
        {
         "Unnamed: 0": 18076,
         "Participant": 469,
         "Stimulus": 6,
         "Condition": "b",
         "uniformityOnsetTime": 128,
         "depression_score": 10,
         "anxiety_score": 41,
         "ended_on": "response",
         "_deepnote_index_column": 18076
        },
        {
         "Unnamed: 0": 18077,
         "Participant": 469,
         "Stimulus": 8,
         "Condition": "a",
         "uniformityOnsetTime": 93,
         "depression_score": 10,
         "anxiety_score": 41,
         "ended_on": "response",
         "_deepnote_index_column": 18077
        },
        {
         "Unnamed: 0": 18078,
         "Participant": 469,
         "Stimulus": 10,
         "Condition": "a",
         "uniformityOnsetTime": 358,
         "depression_score": 10,
         "anxiety_score": 41,
         "ended_on": "response",
         "_deepnote_index_column": 18078
        },
        {
         "Unnamed: 0": 18079,
         "Participant": 469,
         "Stimulus": 9,
         "Condition": "a",
         "uniformityOnsetTime": 1071,
         "depression_score": 10,
         "anxiety_score": 41,
         "ended_on": "response",
         "_deepnote_index_column": 18079
        },
        {
         "Unnamed: 0": 18080,
         "Participant": 469,
         "Stimulus": 14,
         "Condition": "b",
         "uniformityOnsetTime": 586,
         "depression_score": 10,
         "anxiety_score": 41,
         "ended_on": "response",
         "_deepnote_index_column": 18080
        },
        {
         "Unnamed: 0": 18081,
         "Participant": 469,
         "Stimulus": 5,
         "Condition": "b",
         "uniformityOnsetTime": 399,
         "depression_score": 10,
         "anxiety_score": 41,
         "ended_on": "response",
         "_deepnote_index_column": 18081
        },
        {
         "Unnamed: 0": 18082,
         "Participant": 469,
         "Stimulus": 4,
         "Condition": "b",
         "uniformityOnsetTime": 540,
         "depression_score": 10,
         "anxiety_score": 41,
         "ended_on": "response",
         "_deepnote_index_column": 18082
        },
        {
         "Unnamed: 0": 18083,
         "Participant": 469,
         "Stimulus": 11,
         "Condition": "a",
         "uniformityOnsetTime": 1269,
         "depression_score": 10,
         "anxiety_score": 41,
         "ended_on": "response",
         "_deepnote_index_column": 18083
        },
        {
         "Unnamed: 0": 18084,
         "Participant": 469,
         "Stimulus": 7,
         "Condition": "b",
         "uniformityOnsetTime": 203.0000000001164,
         "depression_score": 10,
         "anxiety_score": 41,
         "ended_on": "response",
         "_deepnote_index_column": 18084
        },
        {
         "Unnamed: 0": 18085,
         "Participant": 469,
         "Stimulus": 15,
         "Condition": "a",
         "uniformityOnsetTime": 225,
         "depression_score": 10,
         "anxiety_score": 41,
         "ended_on": "response",
         "_deepnote_index_column": 18085
        },
        {
         "Unnamed: 0": 18086,
         "Participant": 469,
         "Stimulus": 14,
         "Condition": "b",
         "uniformityOnsetTime": 2070,
         "depression_score": 10,
         "anxiety_score": 41,
         "ended_on": "response",
         "_deepnote_index_column": 18086
        },
        {
         "Unnamed: 0": 18087,
         "Participant": 469,
         "Stimulus": 13,
         "Condition": "b",
         "uniformityOnsetTime": 212,
         "depression_score": 10,
         "anxiety_score": 41,
         "ended_on": "response",
         "_deepnote_index_column": 18087
        },
        {
         "Unnamed: 0": 18088,
         "Participant": 469,
         "Stimulus": 13,
         "Condition": "b",
         "uniformityOnsetTime": 109.00000000011642,
         "depression_score": 10,
         "anxiety_score": 41,
         "ended_on": "response",
         "_deepnote_index_column": 18088
        }
       ]
      },
      "text/plain": "       Unnamed: 0  Participant  Stimulus Condition  uniformityOnsetTime  \\\n0               0            0        13         a              7167.20   \n1               1            0         7         b              5320.98   \n2               2            0        14         a             16394.78   \n3               3            0         8         b              3320.54   \n4               4            0        10         b              7111.90   \n...           ...          ...       ...       ...                  ...   \n18084       18084          469         7         b               203.00   \n18085       18085          469        15         a               225.00   \n18086       18086          469        14         b              2070.00   \n18087       18087          469        13         b               212.00   \n18088       18088          469        13         b               109.00   \n\n       depression_score  anxiety_score  ended_on  \n0                     1           39.0  response  \n1                     1           39.0  response  \n2                     1           39.0  response  \n3                     1           39.0  response  \n4                     1           39.0  response  \n...                 ...            ...       ...  \n18084                10           41.0  response  \n18085                10           41.0  response  \n18086                10           41.0  response  \n18087                10           41.0  response  \n18088                10           41.0  response  \n\n[18089 rows x 8 columns]",
      "text/html": "<div>\n<style scoped>\n    .dataframe tbody tr th:only-of-type {\n        vertical-align: middle;\n    }\n\n    .dataframe tbody tr th {\n        vertical-align: top;\n    }\n\n    .dataframe thead th {\n        text-align: right;\n    }\n</style>\n<table border=\"1\" class=\"dataframe\">\n  <thead>\n    <tr style=\"text-align: right;\">\n      <th></th>\n      <th>Unnamed: 0</th>\n      <th>Participant</th>\n      <th>Stimulus</th>\n      <th>Condition</th>\n      <th>uniformityOnsetTime</th>\n      <th>depression_score</th>\n      <th>anxiety_score</th>\n      <th>ended_on</th>\n    </tr>\n  </thead>\n  <tbody>\n    <tr>\n      <th>0</th>\n      <td>0</td>\n      <td>0</td>\n      <td>13</td>\n      <td>a</td>\n      <td>7167.20</td>\n      <td>1</td>\n      <td>39.0</td>\n      <td>response</td>\n    </tr>\n    <tr>\n      <th>1</th>\n      <td>1</td>\n      <td>0</td>\n      <td>7</td>\n      <td>b</td>\n      <td>5320.98</td>\n      <td>1</td>\n      <td>39.0</td>\n      <td>response</td>\n    </tr>\n    <tr>\n      <th>2</th>\n      <td>2</td>\n      <td>0</td>\n      <td>14</td>\n      <td>a</td>\n      <td>16394.78</td>\n      <td>1</td>\n      <td>39.0</td>\n      <td>response</td>\n    </tr>\n    <tr>\n      <th>3</th>\n      <td>3</td>\n      <td>0</td>\n      <td>8</td>\n      <td>b</td>\n      <td>3320.54</td>\n      <td>1</td>\n      <td>39.0</td>\n      <td>response</td>\n    </tr>\n    <tr>\n      <th>4</th>\n      <td>4</td>\n      <td>0</td>\n      <td>10</td>\n      <td>b</td>\n      <td>7111.90</td>\n      <td>1</td>\n      <td>39.0</td>\n      <td>response</td>\n    </tr>\n    <tr>\n      <th>...</th>\n      <td>...</td>\n      <td>...</td>\n      <td>...</td>\n      <td>...</td>\n      <td>...</td>\n      <td>...</td>\n      <td>...</td>\n      <td>...</td>\n    </tr>\n    <tr>\n      <th>18084</th>\n      <td>18084</td>\n      <td>469</td>\n      <td>7</td>\n      <td>b</td>\n      <td>203.00</td>\n      <td>10</td>\n      <td>41.0</td>\n      <td>response</td>\n    </tr>\n    <tr>\n      <th>18085</th>\n      <td>18085</td>\n      <td>469</td>\n      <td>15</td>\n      <td>a</td>\n      <td>225.00</td>\n      <td>10</td>\n      <td>41.0</td>\n      <td>response</td>\n    </tr>\n    <tr>\n      <th>18086</th>\n      <td>18086</td>\n      <td>469</td>\n      <td>14</td>\n      <td>b</td>\n      <td>2070.00</td>\n      <td>10</td>\n      <td>41.0</td>\n      <td>response</td>\n    </tr>\n    <tr>\n      <th>18087</th>\n      <td>18087</td>\n      <td>469</td>\n      <td>13</td>\n      <td>b</td>\n      <td>212.00</td>\n      <td>10</td>\n      <td>41.0</td>\n      <td>response</td>\n    </tr>\n    <tr>\n      <th>18088</th>\n      <td>18088</td>\n      <td>469</td>\n      <td>13</td>\n      <td>b</td>\n      <td>109.00</td>\n      <td>10</td>\n      <td>41.0</td>\n      <td>response</td>\n    </tr>\n  </tbody>\n</table>\n<p>18089 rows × 8 columns</p>\n</div>"
     },
     "metadata": {}
    }
   ],
   "execution_count": 78
  },
  {
   "cell_type": "code",
   "source": "",
   "metadata": {
    "tags": [],
    "cell_id": "00024-be78a428-1b7d-4667-a7fd-ac53d593de35",
    "deepnote_cell_type": "code"
   },
   "outputs": [],
   "execution_count": null
  },
  {
   "cell_type": "markdown",
   "source": "<a style='text-decoration:none;line-height:16px;display:flex;color:#5B5B62;padding:10px;justify-content:end;' href='https://deepnote.com?utm_source=created-in-deepnote-cell&projectId=b428ea16-8644-4725-b427-7c3182996c03' target=\"_blank\">\n<img alt='Created in deepnote.com' style='display:inline;max-height:16px;margin:0px;margin-right:7.5px;' src='data:image/svg+xml;base64,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' > </img>\nCreated in <span style='font-weight:600;margin-left:4px;'>Deepnote</span></a>",
   "metadata": {
    "tags": [],
    "created_in_deepnote_cell": true,
    "deepnote_cell_type": "markdown"
   }
  }
 ],
 "nbformat": 4,
 "nbformat_minor": 2,
 "metadata": {
  "orig_nbformat": 2,
  "deepnote": {
   "is_reactive": false
  },
  "deepnote_notebook_id": "96f615f1-757d-499f-9364-5d521920c11d",
  "deepnote_execution_queue": []
 }
}